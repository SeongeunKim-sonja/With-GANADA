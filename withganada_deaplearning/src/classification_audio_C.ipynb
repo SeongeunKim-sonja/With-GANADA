{
  "nbformat": 4,
  "nbformat_minor": 0,
  "metadata": {
    "colab": {
      "provenance": [],
      "collapsed_sections": [],
      "machine_shape": "hm",
      "background_execution": "on",
      "include_colab_link": true
    },
    "kernelspec": {
      "name": "python3",
      "display_name": "Python 3"
    },
    "language_info": {
      "name": "python"
    },
    "accelerator": "GPU",
    "gpuClass": "standard"
  },
  "cells": [
    {
      "cell_type": "markdown",
      "metadata": {
        "id": "view-in-github",
        "colab_type": "text"
      },
      "source": [
        "<a href=\"https://colab.research.google.com/github/bomij33/With-GANADA/blob/bomi/code/audio_classification_C.ipynb\" target=\"_parent\"><img src=\"https://colab.research.google.com/assets/colab-badge.svg\" alt=\"Open In Colab\"/></a>"
      ]
    },
    {
      "cell_type": "markdown",
      "source": [
        "# Tensorflow 버전 다운로드 2.8.0\n",
        "##### tensorflow 버전 2.8.0 실행 필요함. 버전이 맞지 않으면 uninstall 후 install함"
      ],
      "metadata": {
        "id": "PA6S3Wm8D4D4"
      }
    },
    {
      "cell_type": "code",
      "source": [
        "# 먼저 현재 버전 확인\n",
        "# import tensorflow as tf\n",
        "# print(tf.__version__)"
      ],
      "metadata": {
        "id": "b6FxXRPnT828"
      },
      "execution_count": 1,
      "outputs": []
    },
    {
      "cell_type": "code",
      "source": [
        "# !pip uninstall tensorflow"
      ],
      "metadata": {
        "id": "KU2qUfwbxImC"
      },
      "execution_count": null,
      "outputs": []
    },
    {
      "cell_type": "code",
      "source": [
        "# !pip install tensorflow==2.8.0"
      ],
      "metadata": {
        "id": "2Tg_70W8xSMY"
      },
      "execution_count": null,
      "outputs": []
    },
    {
      "cell_type": "code",
      "source": [
        "# restart 후 확인\n",
        "# import tensorflow as tf\n",
        "# print(tf.__version__)"
      ],
      "metadata": {
        "id": "h7DPpjeyxifv"
      },
      "execution_count": null,
      "outputs": []
    },
    {
      "cell_type": "markdown",
      "source": [
        "# 데이터 로딩"
      ],
      "metadata": {
        "id": "633sPckREDYg"
      }
    },
    {
      "cell_type": "code",
      "source": [
        "from google.colab import drive\n",
        "drive.mount('/gdrive')"
      ],
      "metadata": {
        "id": "KxyFkVYcdqlJ",
        "colab": {
          "base_uri": "https://localhost:8080/"
        },
        "outputId": "4282caf5-30c7-45f9-be0e-dfaa8245b76e"
      },
      "execution_count": null,
      "outputs": [
        {
          "output_type": "stream",
          "name": "stdout",
          "text": [
            "Drive already mounted at /gdrive; to attempt to forcibly remount, call drive.mount(\"/gdrive\", force_remount=True).\n"
          ]
        }
      ]
    },
    {
      "cell_type": "code",
      "source": [
        "import pandas as pd\n",
        "import numpy as np\n",
        "import matplotlib.pyplot as plt"
      ],
      "metadata": {
        "id": "mG4zvhT7ES63"
      },
      "execution_count": null,
      "outputs": []
    },
    {
      "cell_type": "code",
      "source": [
        "import IPython\n",
        "import librosa\n",
        "SAMPLING_RATE = 22050"
      ],
      "metadata": {
        "id": "nH0sWXDSyeSc"
      },
      "execution_count": null,
      "outputs": []
    },
    {
      "cell_type": "code",
      "source": [
        "import glob\n",
        "\n",
        "file_list = glob.glob(\"/gdrive/MyDrive/Audio/C/*.wav\")  # 0 : 부모, 1 : 까치, 2 : 의자 \n",
        "print(len(file_list))\n",
        "print(file_list[:3]) "
      ],
      "metadata": {
        "colab": {
          "base_uri": "https://localhost:8080/"
        },
        "id": "8HVbzOwCGAUQ",
        "outputId": "37ddc688-ceb6-4154-8038-8ea5cb3e6f6e"
      },
      "execution_count": null,
      "outputs": [
        {
          "output_type": "stream",
          "name": "stdout",
          "text": [
            "1226\n",
            "['/gdrive/MyDrive/Audio/C/01_227.wav', '/gdrive/MyDrive/Audio/C/01_228.wav', '/gdrive/MyDrive/Audio/C/01_229.wav']\n"
          ]
        }
      ]
    },
    {
      "cell_type": "code",
      "source": [
        "def load_wav(file_name):\n",
        "    data, _ = librosa.load(file_name, sr=SAMPLING_RATE)\n",
        "    return data\n",
        "\n",
        "raw_x = [] # data\n",
        "raw_y = [] # label\n",
        "for file_name in file_list:\n",
        "    label = int(file_name.split(\"/\")[-1].split(\"_\")[0])  \n",
        "\n",
        "    print(file_name, label)\n",
        "    data = load_wav(file_name)\n",
        "    raw_x.append(data)\n",
        "    raw_y.append(label)\n"
      ],
      "metadata": {
        "colab": {
          "base_uri": "https://localhost:8080/"
        },
        "id": "Aumki802EVg5",
        "outputId": "247e7e2a-1de0-40bc-8272-9a8097e8b0d0"
      },
      "execution_count": null,
      "outputs": [
        {
          "output_type": "stream",
          "name": "stdout",
          "text": [
            "/gdrive/MyDrive/Audio/C/01_227.wav 1\n",
            "/gdrive/MyDrive/Audio/C/01_228.wav 1\n",
            "/gdrive/MyDrive/Audio/C/01_229.wav 1\n",
            "/gdrive/MyDrive/Audio/C/01_230.wav 1\n",
            "/gdrive/MyDrive/Audio/C/01_231.wav 1\n",
            "/gdrive/MyDrive/Audio/C/01_232.wav 1\n",
            "/gdrive/MyDrive/Audio/C/01_233.wav 1\n",
            "/gdrive/MyDrive/Audio/C/01_234.wav 1\n",
            "/gdrive/MyDrive/Audio/C/01_235.wav 1\n",
            "/gdrive/MyDrive/Audio/C/01_236.wav 1\n",
            "/gdrive/MyDrive/Audio/C/01_237.wav 1\n",
            "/gdrive/MyDrive/Audio/C/01_238.wav 1\n",
            "/gdrive/MyDrive/Audio/C/01_239.wav 1\n",
            "/gdrive/MyDrive/Audio/C/01_240.wav 1\n",
            "/gdrive/MyDrive/Audio/C/01_241.wav 1\n",
            "/gdrive/MyDrive/Audio/C/01_242.wav 1\n",
            "/gdrive/MyDrive/Audio/C/01_243.wav 1\n",
            "/gdrive/MyDrive/Audio/C/01_244.wav 1\n",
            "/gdrive/MyDrive/Audio/C/01_245.wav 1\n",
            "/gdrive/MyDrive/Audio/C/01_246.wav 1\n",
            "/gdrive/MyDrive/Audio/C/01_247.wav 1\n",
            "/gdrive/MyDrive/Audio/C/01_248.wav 1\n",
            "/gdrive/MyDrive/Audio/C/01_249.wav 1\n",
            "/gdrive/MyDrive/Audio/C/01_250.wav 1\n",
            "/gdrive/MyDrive/Audio/C/01_251.wav 1\n",
            "/gdrive/MyDrive/Audio/C/01_253.wav 1\n",
            "/gdrive/MyDrive/Audio/C/01_252.wav 1\n",
            "/gdrive/MyDrive/Audio/C/01_254.wav 1\n",
            "/gdrive/MyDrive/Audio/C/01_255.wav 1\n",
            "/gdrive/MyDrive/Audio/C/01_256.wav 1\n",
            "/gdrive/MyDrive/Audio/C/01_257.wav 1\n",
            "/gdrive/MyDrive/Audio/C/01_258.wav 1\n",
            "/gdrive/MyDrive/Audio/C/01_259.wav 1\n",
            "/gdrive/MyDrive/Audio/C/01_260.wav 1\n",
            "/gdrive/MyDrive/Audio/C/01_261.wav 1\n",
            "/gdrive/MyDrive/Audio/C/01_262.wav 1\n",
            "/gdrive/MyDrive/Audio/C/01_263.wav 1\n",
            "/gdrive/MyDrive/Audio/C/01_264.wav 1\n",
            "/gdrive/MyDrive/Audio/C/01_265.wav 1\n",
            "/gdrive/MyDrive/Audio/C/01_266.wav 1\n",
            "/gdrive/MyDrive/Audio/C/01_267.wav 1\n",
            "/gdrive/MyDrive/Audio/C/01_268.wav 1\n",
            "/gdrive/MyDrive/Audio/C/01_269.wav 1\n",
            "/gdrive/MyDrive/Audio/C/01_270.wav 1\n",
            "/gdrive/MyDrive/Audio/C/01_271.wav 1\n",
            "/gdrive/MyDrive/Audio/C/01_272.wav 1\n",
            "/gdrive/MyDrive/Audio/C/01_273.wav 1\n",
            "/gdrive/MyDrive/Audio/C/01_274.wav 1\n",
            "/gdrive/MyDrive/Audio/C/01_275.wav 1\n",
            "/gdrive/MyDrive/Audio/C/01_276.wav 1\n",
            "/gdrive/MyDrive/Audio/C/01_277.wav 1\n",
            "/gdrive/MyDrive/Audio/C/01_278.wav 1\n",
            "/gdrive/MyDrive/Audio/C/01_279.wav 1\n",
            "/gdrive/MyDrive/Audio/C/01_280.wav 1\n",
            "/gdrive/MyDrive/Audio/C/01_281.wav 1\n",
            "/gdrive/MyDrive/Audio/C/01_282.wav 1\n",
            "/gdrive/MyDrive/Audio/C/01_283.wav 1\n",
            "/gdrive/MyDrive/Audio/C/01_284.wav 1\n",
            "/gdrive/MyDrive/Audio/C/01_285.wav 1\n",
            "/gdrive/MyDrive/Audio/C/01_286.wav 1\n",
            "/gdrive/MyDrive/Audio/C/01_287.wav 1\n",
            "/gdrive/MyDrive/Audio/C/01_289.wav 1\n",
            "/gdrive/MyDrive/Audio/C/01_288.wav 1\n",
            "/gdrive/MyDrive/Audio/C/01_290.wav 1\n",
            "/gdrive/MyDrive/Audio/C/01_291.wav 1\n",
            "/gdrive/MyDrive/Audio/C/01_292.wav 1\n",
            "/gdrive/MyDrive/Audio/C/01_293.wav 1\n",
            "/gdrive/MyDrive/Audio/C/01_294.wav 1\n",
            "/gdrive/MyDrive/Audio/C/01_295.wav 1\n",
            "/gdrive/MyDrive/Audio/C/01_296.wav 1\n",
            "/gdrive/MyDrive/Audio/C/01_297.wav 1\n",
            "/gdrive/MyDrive/Audio/C/01_298.wav 1\n",
            "/gdrive/MyDrive/Audio/C/01_299.wav 1\n",
            "/gdrive/MyDrive/Audio/C/01_300.wav 1\n",
            "/gdrive/MyDrive/Audio/C/01_301.wav 1\n",
            "/gdrive/MyDrive/Audio/C/01_302.wav 1\n",
            "/gdrive/MyDrive/Audio/C/01_303.wav 1\n",
            "/gdrive/MyDrive/Audio/C/01_304.wav 1\n",
            "/gdrive/MyDrive/Audio/C/01_305.wav 1\n",
            "/gdrive/MyDrive/Audio/C/01_306.wav 1\n",
            "/gdrive/MyDrive/Audio/C/01_307.wav 1\n",
            "/gdrive/MyDrive/Audio/C/01_308.wav 1\n",
            "/gdrive/MyDrive/Audio/C/01_309.wav 1\n",
            "/gdrive/MyDrive/Audio/C/01_310.wav 1\n",
            "/gdrive/MyDrive/Audio/C/01_311.wav 1\n",
            "/gdrive/MyDrive/Audio/C/01_312.wav 1\n",
            "/gdrive/MyDrive/Audio/C/01_313.wav 1\n",
            "/gdrive/MyDrive/Audio/C/01_314.wav 1\n",
            "/gdrive/MyDrive/Audio/C/01_315.wav 1\n",
            "/gdrive/MyDrive/Audio/C/01_316.wav 1\n",
            "/gdrive/MyDrive/Audio/C/01_317.wav 1\n",
            "/gdrive/MyDrive/Audio/C/01_318.wav 1\n",
            "/gdrive/MyDrive/Audio/C/01_319.wav 1\n",
            "/gdrive/MyDrive/Audio/C/01_320.wav 1\n",
            "/gdrive/MyDrive/Audio/C/01_321.wav 1\n",
            "/gdrive/MyDrive/Audio/C/01_322.wav 1\n",
            "/gdrive/MyDrive/Audio/C/01_323.wav 1\n",
            "/gdrive/MyDrive/Audio/C/01_324.wav 1\n",
            "/gdrive/MyDrive/Audio/C/01_325.wav 1\n",
            "/gdrive/MyDrive/Audio/C/01_326.wav 1\n",
            "/gdrive/MyDrive/Audio/C/01_327.wav 1\n",
            "/gdrive/MyDrive/Audio/C/01_328.wav 1\n",
            "/gdrive/MyDrive/Audio/C/01_329.wav 1\n",
            "/gdrive/MyDrive/Audio/C/01_330.wav 1\n",
            "/gdrive/MyDrive/Audio/C/01_331.wav 1\n",
            "/gdrive/MyDrive/Audio/C/01_332.wav 1\n",
            "/gdrive/MyDrive/Audio/C/01_333.wav 1\n",
            "/gdrive/MyDrive/Audio/C/01_334.wav 1\n",
            "/gdrive/MyDrive/Audio/C/01_335.wav 1\n",
            "/gdrive/MyDrive/Audio/C/01_336.wav 1\n",
            "/gdrive/MyDrive/Audio/C/01_337.wav 1\n",
            "/gdrive/MyDrive/Audio/C/01_338.wav 1\n",
            "/gdrive/MyDrive/Audio/C/01_339.wav 1\n",
            "/gdrive/MyDrive/Audio/C/01_340.wav 1\n",
            "/gdrive/MyDrive/Audio/C/01_341.wav 1\n",
            "/gdrive/MyDrive/Audio/C/01_342.wav 1\n",
            "/gdrive/MyDrive/Audio/C/01_343.wav 1\n",
            "/gdrive/MyDrive/Audio/C/01_344.wav 1\n",
            "/gdrive/MyDrive/Audio/C/01_345.wav 1\n",
            "/gdrive/MyDrive/Audio/C/01_346.wav 1\n",
            "/gdrive/MyDrive/Audio/C/01_347.wav 1\n",
            "/gdrive/MyDrive/Audio/C/01_348.wav 1\n",
            "/gdrive/MyDrive/Audio/C/01_349.wav 1\n",
            "/gdrive/MyDrive/Audio/C/01_350.wav 1\n",
            "/gdrive/MyDrive/Audio/C/01_351.wav 1\n",
            "/gdrive/MyDrive/Audio/C/01_352.wav 1\n",
            "/gdrive/MyDrive/Audio/C/01_353.wav 1\n",
            "/gdrive/MyDrive/Audio/C/01_354.wav 1\n",
            "/gdrive/MyDrive/Audio/C/01_355.wav 1\n",
            "/gdrive/MyDrive/Audio/C/01_356.wav 1\n",
            "/gdrive/MyDrive/Audio/C/01_357.wav 1\n",
            "/gdrive/MyDrive/Audio/C/01_358.wav 1\n",
            "/gdrive/MyDrive/Audio/C/01_359.wav 1\n",
            "/gdrive/MyDrive/Audio/C/01_360.wav 1\n",
            "/gdrive/MyDrive/Audio/C/01_361.wav 1\n",
            "/gdrive/MyDrive/Audio/C/01_362.wav 1\n",
            "/gdrive/MyDrive/Audio/C/01_363.wav 1\n",
            "/gdrive/MyDrive/Audio/C/01_364.wav 1\n",
            "/gdrive/MyDrive/Audio/C/01_365.wav 1\n",
            "/gdrive/MyDrive/Audio/C/01_366.wav 1\n",
            "/gdrive/MyDrive/Audio/C/01_367.wav 1\n",
            "/gdrive/MyDrive/Audio/C/01_368.wav 1\n",
            "/gdrive/MyDrive/Audio/C/01_369.wav 1\n",
            "/gdrive/MyDrive/Audio/C/01_370.wav 1\n",
            "/gdrive/MyDrive/Audio/C/01_371.wav 1\n",
            "/gdrive/MyDrive/Audio/C/01_372.wav 1\n",
            "/gdrive/MyDrive/Audio/C/01_373.wav 1\n",
            "/gdrive/MyDrive/Audio/C/01_374.wav 1\n",
            "/gdrive/MyDrive/Audio/C/01_375.wav 1\n",
            "/gdrive/MyDrive/Audio/C/01_376.wav 1\n",
            "/gdrive/MyDrive/Audio/C/01_377.wav 1\n",
            "/gdrive/MyDrive/Audio/C/01_378.wav 1\n",
            "/gdrive/MyDrive/Audio/C/01_379.wav 1\n",
            "/gdrive/MyDrive/Audio/C/01_380.wav 1\n",
            "/gdrive/MyDrive/Audio/C/01_381.wav 1\n",
            "/gdrive/MyDrive/Audio/C/01_382.wav 1\n",
            "/gdrive/MyDrive/Audio/C/01_383.wav 1\n",
            "/gdrive/MyDrive/Audio/C/01_384.wav 1\n",
            "/gdrive/MyDrive/Audio/C/01_385.wav 1\n",
            "/gdrive/MyDrive/Audio/C/01_386.wav 1\n",
            "/gdrive/MyDrive/Audio/C/01_387.wav 1\n",
            "/gdrive/MyDrive/Audio/C/01_388.wav 1\n",
            "/gdrive/MyDrive/Audio/C/01_389.wav 1\n",
            "/gdrive/MyDrive/Audio/C/01_390.wav 1\n",
            "/gdrive/MyDrive/Audio/C/01_391.wav 1\n",
            "/gdrive/MyDrive/Audio/C/01_392.wav 1\n",
            "/gdrive/MyDrive/Audio/C/01_393.wav 1\n",
            "/gdrive/MyDrive/Audio/C/01_394.wav 1\n",
            "/gdrive/MyDrive/Audio/C/01_395.wav 1\n",
            "/gdrive/MyDrive/Audio/C/01_397.wav 1\n",
            "/gdrive/MyDrive/Audio/C/01_396.wav 1\n",
            "/gdrive/MyDrive/Audio/C/01_398.wav 1\n",
            "/gdrive/MyDrive/Audio/C/01_399.wav 1\n",
            "/gdrive/MyDrive/Audio/C/01_400.wav 1\n",
            "/gdrive/MyDrive/Audio/C/01_401.wav 1\n",
            "/gdrive/MyDrive/Audio/C/01_402.wav 1\n",
            "/gdrive/MyDrive/Audio/C/01_403.wav 1\n",
            "/gdrive/MyDrive/Audio/C/01_404.wav 1\n",
            "/gdrive/MyDrive/Audio/C/01_405.wav 1\n",
            "/gdrive/MyDrive/Audio/C/01_406.wav 1\n",
            "/gdrive/MyDrive/Audio/C/01_407.wav 1\n",
            "/gdrive/MyDrive/Audio/C/01_408.wav 1\n",
            "/gdrive/MyDrive/Audio/C/01_409.wav 1\n",
            "/gdrive/MyDrive/Audio/C/02_001.wav 2\n",
            "/gdrive/MyDrive/Audio/C/02_002.wav 2\n",
            "/gdrive/MyDrive/Audio/C/02_003.wav 2\n",
            "/gdrive/MyDrive/Audio/C/02_004.wav 2\n",
            "/gdrive/MyDrive/Audio/C/02_005.wav 2\n",
            "/gdrive/MyDrive/Audio/C/02_006.wav 2\n",
            "/gdrive/MyDrive/Audio/C/02_007.wav 2\n",
            "/gdrive/MyDrive/Audio/C/02_008.wav 2\n",
            "/gdrive/MyDrive/Audio/C/02_009.wav 2\n",
            "/gdrive/MyDrive/Audio/C/02_010.wav 2\n",
            "/gdrive/MyDrive/Audio/C/02_011.wav 2\n",
            "/gdrive/MyDrive/Audio/C/02_012.wav 2\n",
            "/gdrive/MyDrive/Audio/C/02_013.wav 2\n",
            "/gdrive/MyDrive/Audio/C/02_014.wav 2\n",
            "/gdrive/MyDrive/Audio/C/02_015.wav 2\n",
            "/gdrive/MyDrive/Audio/C/02_016.wav 2\n",
            "/gdrive/MyDrive/Audio/C/02_017.wav 2\n",
            "/gdrive/MyDrive/Audio/C/02_018.wav 2\n",
            "/gdrive/MyDrive/Audio/C/02_019.wav 2\n",
            "/gdrive/MyDrive/Audio/C/02_020.wav 2\n",
            "/gdrive/MyDrive/Audio/C/02_021.wav 2\n",
            "/gdrive/MyDrive/Audio/C/02_022.wav 2\n",
            "/gdrive/MyDrive/Audio/C/02_023.wav 2\n",
            "/gdrive/MyDrive/Audio/C/02_024.wav 2\n",
            "/gdrive/MyDrive/Audio/C/02_025.wav 2\n",
            "/gdrive/MyDrive/Audio/C/02_026.wav 2\n",
            "/gdrive/MyDrive/Audio/C/02_027.wav 2\n",
            "/gdrive/MyDrive/Audio/C/02_028.wav 2\n",
            "/gdrive/MyDrive/Audio/C/02_029.wav 2\n",
            "/gdrive/MyDrive/Audio/C/02_030.wav 2\n",
            "/gdrive/MyDrive/Audio/C/02_031.wav 2\n",
            "/gdrive/MyDrive/Audio/C/02_032.wav 2\n",
            "/gdrive/MyDrive/Audio/C/02_033.wav 2\n",
            "/gdrive/MyDrive/Audio/C/02_034.wav 2\n",
            "/gdrive/MyDrive/Audio/C/02_035.wav 2\n",
            "/gdrive/MyDrive/Audio/C/02_036.wav 2\n",
            "/gdrive/MyDrive/Audio/C/02_037.wav 2\n",
            "/gdrive/MyDrive/Audio/C/02_038.wav 2\n",
            "/gdrive/MyDrive/Audio/C/02_039.wav 2\n",
            "/gdrive/MyDrive/Audio/C/02_040.wav 2\n",
            "/gdrive/MyDrive/Audio/C/02_041.wav 2\n",
            "/gdrive/MyDrive/Audio/C/02_042.wav 2\n",
            "/gdrive/MyDrive/Audio/C/02_043.wav 2\n",
            "/gdrive/MyDrive/Audio/C/02_044.wav 2\n",
            "/gdrive/MyDrive/Audio/C/02_045.wav 2\n",
            "/gdrive/MyDrive/Audio/C/02_046.wav 2\n",
            "/gdrive/MyDrive/Audio/C/02_047.wav 2\n",
            "/gdrive/MyDrive/Audio/C/02_048.wav 2\n",
            "/gdrive/MyDrive/Audio/C/02_049.wav 2\n",
            "/gdrive/MyDrive/Audio/C/02_050.wav 2\n",
            "/gdrive/MyDrive/Audio/C/02_051.wav 2\n",
            "/gdrive/MyDrive/Audio/C/02_052.wav 2\n",
            "/gdrive/MyDrive/Audio/C/02_053.wav 2\n",
            "/gdrive/MyDrive/Audio/C/02_054.wav 2\n",
            "/gdrive/MyDrive/Audio/C/02_055.wav 2\n",
            "/gdrive/MyDrive/Audio/C/02_056.wav 2\n",
            "/gdrive/MyDrive/Audio/C/02_057.wav 2\n",
            "/gdrive/MyDrive/Audio/C/02_058.wav 2\n",
            "/gdrive/MyDrive/Audio/C/02_059.wav 2\n",
            "/gdrive/MyDrive/Audio/C/02_060.wav 2\n",
            "/gdrive/MyDrive/Audio/C/02_061.wav 2\n",
            "/gdrive/MyDrive/Audio/C/02_062.wav 2\n",
            "/gdrive/MyDrive/Audio/C/02_063.wav 2\n",
            "/gdrive/MyDrive/Audio/C/02_064.wav 2\n",
            "/gdrive/MyDrive/Audio/C/02_065.wav 2\n",
            "/gdrive/MyDrive/Audio/C/02_066.wav 2\n",
            "/gdrive/MyDrive/Audio/C/02_067.wav 2\n",
            "/gdrive/MyDrive/Audio/C/02_068.wav 2\n",
            "/gdrive/MyDrive/Audio/C/02_069.wav 2\n",
            "/gdrive/MyDrive/Audio/C/02_070.wav 2\n",
            "/gdrive/MyDrive/Audio/C/02_071.wav 2\n",
            "/gdrive/MyDrive/Audio/C/02_072.wav 2\n",
            "/gdrive/MyDrive/Audio/C/02_073.wav 2\n",
            "/gdrive/MyDrive/Audio/C/02_074.wav 2\n",
            "/gdrive/MyDrive/Audio/C/02_075.wav 2\n",
            "/gdrive/MyDrive/Audio/C/02_076.wav 2\n",
            "/gdrive/MyDrive/Audio/C/02_077.wav 2\n",
            "/gdrive/MyDrive/Audio/C/02_078.wav 2\n",
            "/gdrive/MyDrive/Audio/C/02_079.wav 2\n",
            "/gdrive/MyDrive/Audio/C/02_080.wav 2\n",
            "/gdrive/MyDrive/Audio/C/02_081.wav 2\n",
            "/gdrive/MyDrive/Audio/C/02_082.wav 2\n",
            "/gdrive/MyDrive/Audio/C/02_083.wav 2\n",
            "/gdrive/MyDrive/Audio/C/02_084.wav 2\n",
            "/gdrive/MyDrive/Audio/C/02_085.wav 2\n",
            "/gdrive/MyDrive/Audio/C/02_086.wav 2\n",
            "/gdrive/MyDrive/Audio/C/02_087.wav 2\n",
            "/gdrive/MyDrive/Audio/C/02_088.wav 2\n",
            "/gdrive/MyDrive/Audio/C/02_089.wav 2\n",
            "/gdrive/MyDrive/Audio/C/02_090.wav 2\n",
            "/gdrive/MyDrive/Audio/C/02_091.wav 2\n",
            "/gdrive/MyDrive/Audio/C/02_092.wav 2\n",
            "/gdrive/MyDrive/Audio/C/02_093.wav 2\n",
            "/gdrive/MyDrive/Audio/C/02_094.wav 2\n",
            "/gdrive/MyDrive/Audio/C/02_095.wav 2\n",
            "/gdrive/MyDrive/Audio/C/02_096.wav 2\n",
            "/gdrive/MyDrive/Audio/C/02_097.wav 2\n",
            "/gdrive/MyDrive/Audio/C/02_098.wav 2\n",
            "/gdrive/MyDrive/Audio/C/02_099.wav 2\n",
            "/gdrive/MyDrive/Audio/C/02_100.wav 2\n",
            "/gdrive/MyDrive/Audio/C/02_101.wav 2\n",
            "/gdrive/MyDrive/Audio/C/02_102.wav 2\n",
            "/gdrive/MyDrive/Audio/C/02_103.wav 2\n",
            "/gdrive/MyDrive/Audio/C/02_104.wav 2\n",
            "/gdrive/MyDrive/Audio/C/02_105.wav 2\n",
            "/gdrive/MyDrive/Audio/C/02_106.wav 2\n",
            "/gdrive/MyDrive/Audio/C/02_107.wav 2\n",
            "/gdrive/MyDrive/Audio/C/02_108.wav 2\n",
            "/gdrive/MyDrive/Audio/C/02_109.wav 2\n",
            "/gdrive/MyDrive/Audio/C/02_110.wav 2\n",
            "/gdrive/MyDrive/Audio/C/02_111.wav 2\n",
            "/gdrive/MyDrive/Audio/C/02_112.wav 2\n",
            "/gdrive/MyDrive/Audio/C/02_113.wav 2\n",
            "/gdrive/MyDrive/Audio/C/02_114.wav 2\n",
            "/gdrive/MyDrive/Audio/C/02_115.wav 2\n",
            "/gdrive/MyDrive/Audio/C/02_116.wav 2\n",
            "/gdrive/MyDrive/Audio/C/02_117.wav 2\n",
            "/gdrive/MyDrive/Audio/C/02_118.wav 2\n",
            "/gdrive/MyDrive/Audio/C/02_119.wav 2\n",
            "/gdrive/MyDrive/Audio/C/02_120.wav 2\n",
            "/gdrive/MyDrive/Audio/C/02_121.wav 2\n",
            "/gdrive/MyDrive/Audio/C/02_122.wav 2\n",
            "/gdrive/MyDrive/Audio/C/02_123.wav 2\n",
            "/gdrive/MyDrive/Audio/C/02_124.wav 2\n",
            "/gdrive/MyDrive/Audio/C/02_125.wav 2\n",
            "/gdrive/MyDrive/Audio/C/02_126.wav 2\n",
            "/gdrive/MyDrive/Audio/C/02_127.wav 2\n",
            "/gdrive/MyDrive/Audio/C/02_128.wav 2\n",
            "/gdrive/MyDrive/Audio/C/02_129.wav 2\n",
            "/gdrive/MyDrive/Audio/C/02_130.wav 2\n",
            "/gdrive/MyDrive/Audio/C/02_131.wav 2\n",
            "/gdrive/MyDrive/Audio/C/02_132.wav 2\n",
            "/gdrive/MyDrive/Audio/C/02_133.wav 2\n",
            "/gdrive/MyDrive/Audio/C/02_134.wav 2\n",
            "/gdrive/MyDrive/Audio/C/02_135.wav 2\n",
            "/gdrive/MyDrive/Audio/C/02_136.wav 2\n",
            "/gdrive/MyDrive/Audio/C/02_137.wav 2\n",
            "/gdrive/MyDrive/Audio/C/02_138.wav 2\n",
            "/gdrive/MyDrive/Audio/C/02_139.wav 2\n",
            "/gdrive/MyDrive/Audio/C/02_140.wav 2\n",
            "/gdrive/MyDrive/Audio/C/02_141.wav 2\n",
            "/gdrive/MyDrive/Audio/C/02_142.wav 2\n",
            "/gdrive/MyDrive/Audio/C/02_143.wav 2\n",
            "/gdrive/MyDrive/Audio/C/02_144.wav 2\n",
            "/gdrive/MyDrive/Audio/C/02_145.wav 2\n",
            "/gdrive/MyDrive/Audio/C/02_146.wav 2\n",
            "/gdrive/MyDrive/Audio/C/02_147.wav 2\n",
            "/gdrive/MyDrive/Audio/C/02_148.wav 2\n",
            "/gdrive/MyDrive/Audio/C/02_149.wav 2\n",
            "/gdrive/MyDrive/Audio/C/02_150.wav 2\n",
            "/gdrive/MyDrive/Audio/C/02_151.wav 2\n",
            "/gdrive/MyDrive/Audio/C/02_152.wav 2\n",
            "/gdrive/MyDrive/Audio/C/02_153.wav 2\n",
            "/gdrive/MyDrive/Audio/C/02_154.wav 2\n",
            "/gdrive/MyDrive/Audio/C/02_155.wav 2\n",
            "/gdrive/MyDrive/Audio/C/02_156.wav 2\n",
            "/gdrive/MyDrive/Audio/C/02_157.wav 2\n",
            "/gdrive/MyDrive/Audio/C/02_158.wav 2\n",
            "/gdrive/MyDrive/Audio/C/02_159.wav 2\n",
            "/gdrive/MyDrive/Audio/C/02_160.wav 2\n",
            "/gdrive/MyDrive/Audio/C/02_161.wav 2\n",
            "/gdrive/MyDrive/Audio/C/02_162.wav 2\n",
            "/gdrive/MyDrive/Audio/C/02_163.wav 2\n",
            "/gdrive/MyDrive/Audio/C/02_164.wav 2\n",
            "/gdrive/MyDrive/Audio/C/02_165.wav 2\n",
            "/gdrive/MyDrive/Audio/C/02_166.wav 2\n",
            "/gdrive/MyDrive/Audio/C/02_167.wav 2\n",
            "/gdrive/MyDrive/Audio/C/02_168.wav 2\n",
            "/gdrive/MyDrive/Audio/C/02_169.wav 2\n",
            "/gdrive/MyDrive/Audio/C/02_170.wav 2\n",
            "/gdrive/MyDrive/Audio/C/02_171.wav 2\n",
            "/gdrive/MyDrive/Audio/C/02_172.wav 2\n",
            "/gdrive/MyDrive/Audio/C/02_173.wav 2\n",
            "/gdrive/MyDrive/Audio/C/02_174.wav 2\n",
            "/gdrive/MyDrive/Audio/C/02_175.wav 2\n",
            "/gdrive/MyDrive/Audio/C/02_176.wav 2\n",
            "/gdrive/MyDrive/Audio/C/02_177.wav 2\n",
            "/gdrive/MyDrive/Audio/C/02_178.wav 2\n",
            "/gdrive/MyDrive/Audio/C/02_179.wav 2\n",
            "/gdrive/MyDrive/Audio/C/02_180.wav 2\n",
            "/gdrive/MyDrive/Audio/C/02_181.wav 2\n",
            "/gdrive/MyDrive/Audio/C/02_182.wav 2\n",
            "/gdrive/MyDrive/Audio/C/02_183.wav 2\n",
            "/gdrive/MyDrive/Audio/C/02_184.wav 2\n",
            "/gdrive/MyDrive/Audio/C/02_185.wav 2\n",
            "/gdrive/MyDrive/Audio/C/02_186.wav 2\n",
            "/gdrive/MyDrive/Audio/C/02_187.wav 2\n",
            "/gdrive/MyDrive/Audio/C/02_188.wav 2\n",
            "/gdrive/MyDrive/Audio/C/02_189.wav 2\n",
            "/gdrive/MyDrive/Audio/C/02_190.wav 2\n",
            "/gdrive/MyDrive/Audio/C/02_191.wav 2\n",
            "/gdrive/MyDrive/Audio/C/02_192.wav 2\n",
            "/gdrive/MyDrive/Audio/C/02_193.wav 2\n",
            "/gdrive/MyDrive/Audio/C/02_194.wav 2\n",
            "/gdrive/MyDrive/Audio/C/02_195.wav 2\n",
            "/gdrive/MyDrive/Audio/C/02_196.wav 2\n",
            "/gdrive/MyDrive/Audio/C/02_197.wav 2\n",
            "/gdrive/MyDrive/Audio/C/02_198.wav 2\n",
            "/gdrive/MyDrive/Audio/C/02_199.wav 2\n",
            "/gdrive/MyDrive/Audio/C/02_200.wav 2\n",
            "/gdrive/MyDrive/Audio/C/02_201.wav 2\n",
            "/gdrive/MyDrive/Audio/C/02_202.wav 2\n",
            "/gdrive/MyDrive/Audio/C/02_203.wav 2\n",
            "/gdrive/MyDrive/Audio/C/02_204.wav 2\n",
            "/gdrive/MyDrive/Audio/C/02_205.wav 2\n",
            "/gdrive/MyDrive/Audio/C/02_206.wav 2\n",
            "/gdrive/MyDrive/Audio/C/02_207.wav 2\n",
            "/gdrive/MyDrive/Audio/C/02_208.wav 2\n",
            "/gdrive/MyDrive/Audio/C/02_209.wav 2\n",
            "/gdrive/MyDrive/Audio/C/02_210.wav 2\n",
            "/gdrive/MyDrive/Audio/C/02_211.wav 2\n",
            "/gdrive/MyDrive/Audio/C/02_212.wav 2\n",
            "/gdrive/MyDrive/Audio/C/02_213.wav 2\n",
            "/gdrive/MyDrive/Audio/C/02_214.wav 2\n",
            "/gdrive/MyDrive/Audio/C/02_215.wav 2\n",
            "/gdrive/MyDrive/Audio/C/02_216.wav 2\n",
            "/gdrive/MyDrive/Audio/C/02_217.wav 2\n",
            "/gdrive/MyDrive/Audio/C/02_218.wav 2\n",
            "/gdrive/MyDrive/Audio/C/02_219.wav 2\n",
            "/gdrive/MyDrive/Audio/C/02_220.wav 2\n",
            "/gdrive/MyDrive/Audio/C/02_221.wav 2\n",
            "/gdrive/MyDrive/Audio/C/02_222.wav 2\n",
            "/gdrive/MyDrive/Audio/C/02_223.wav 2\n",
            "/gdrive/MyDrive/Audio/C/02_224.wav 2\n",
            "/gdrive/MyDrive/Audio/C/02_225.wav 2\n",
            "/gdrive/MyDrive/Audio/C/02_226.wav 2\n",
            "/gdrive/MyDrive/Audio/C/02_227.wav 2\n",
            "/gdrive/MyDrive/Audio/C/02_228.wav 2\n",
            "/gdrive/MyDrive/Audio/C/02_229.wav 2\n",
            "/gdrive/MyDrive/Audio/C/02_230.wav 2\n",
            "/gdrive/MyDrive/Audio/C/02_231.wav 2\n",
            "/gdrive/MyDrive/Audio/C/02_232.wav 2\n",
            "/gdrive/MyDrive/Audio/C/02_233.wav 2\n",
            "/gdrive/MyDrive/Audio/C/02_234.wav 2\n",
            "/gdrive/MyDrive/Audio/C/02_235.wav 2\n",
            "/gdrive/MyDrive/Audio/C/02_236.wav 2\n",
            "/gdrive/MyDrive/Audio/C/02_237.wav 2\n",
            "/gdrive/MyDrive/Audio/C/02_238.wav 2\n",
            "/gdrive/MyDrive/Audio/C/02_239.wav 2\n",
            "/gdrive/MyDrive/Audio/C/02_240.wav 2\n",
            "/gdrive/MyDrive/Audio/C/02_241.wav 2\n",
            "/gdrive/MyDrive/Audio/C/02_242.wav 2\n",
            "/gdrive/MyDrive/Audio/C/02_243.wav 2\n",
            "/gdrive/MyDrive/Audio/C/02_244.wav 2\n",
            "/gdrive/MyDrive/Audio/C/02_245.wav 2\n",
            "/gdrive/MyDrive/Audio/C/02_246.wav 2\n",
            "/gdrive/MyDrive/Audio/C/02_247.wav 2\n",
            "/gdrive/MyDrive/Audio/C/02_248.wav 2\n",
            "/gdrive/MyDrive/Audio/C/02_249.wav 2\n",
            "/gdrive/MyDrive/Audio/C/02_250.wav 2\n",
            "/gdrive/MyDrive/Audio/C/02_251.wav 2\n",
            "/gdrive/MyDrive/Audio/C/02_252.wav 2\n",
            "/gdrive/MyDrive/Audio/C/02_253.wav 2\n",
            "/gdrive/MyDrive/Audio/C/02_254.wav 2\n",
            "/gdrive/MyDrive/Audio/C/02_255.wav 2\n",
            "/gdrive/MyDrive/Audio/C/02_256.wav 2\n",
            "/gdrive/MyDrive/Audio/C/02_257.wav 2\n",
            "/gdrive/MyDrive/Audio/C/02_258.wav 2\n",
            "/gdrive/MyDrive/Audio/C/02_259.wav 2\n",
            "/gdrive/MyDrive/Audio/C/02_260.wav 2\n",
            "/gdrive/MyDrive/Audio/C/02_261.wav 2\n",
            "/gdrive/MyDrive/Audio/C/02_262.wav 2\n",
            "/gdrive/MyDrive/Audio/C/02_263.wav 2\n",
            "/gdrive/MyDrive/Audio/C/02_264.wav 2\n",
            "/gdrive/MyDrive/Audio/C/02_265.wav 2\n",
            "/gdrive/MyDrive/Audio/C/02_266.wav 2\n",
            "/gdrive/MyDrive/Audio/C/02_267.wav 2\n",
            "/gdrive/MyDrive/Audio/C/02_268.wav 2\n",
            "/gdrive/MyDrive/Audio/C/02_269.wav 2\n",
            "/gdrive/MyDrive/Audio/C/02_270.wav 2\n",
            "/gdrive/MyDrive/Audio/C/02_271.wav 2\n",
            "/gdrive/MyDrive/Audio/C/02_272.wav 2\n",
            "/gdrive/MyDrive/Audio/C/02_273.wav 2\n",
            "/gdrive/MyDrive/Audio/C/02_274.wav 2\n",
            "/gdrive/MyDrive/Audio/C/02_275.wav 2\n",
            "/gdrive/MyDrive/Audio/C/02_276.wav 2\n",
            "/gdrive/MyDrive/Audio/C/02_277.wav 2\n",
            "/gdrive/MyDrive/Audio/C/02_278.wav 2\n",
            "/gdrive/MyDrive/Audio/C/02_279.wav 2\n",
            "/gdrive/MyDrive/Audio/C/02_280.wav 2\n",
            "/gdrive/MyDrive/Audio/C/02_281.wav 2\n",
            "/gdrive/MyDrive/Audio/C/02_282.wav 2\n",
            "/gdrive/MyDrive/Audio/C/02_283.wav 2\n",
            "/gdrive/MyDrive/Audio/C/02_284.wav 2\n",
            "/gdrive/MyDrive/Audio/C/02_285.wav 2\n",
            "/gdrive/MyDrive/Audio/C/02_286.wav 2\n",
            "/gdrive/MyDrive/Audio/C/02_287.wav 2\n",
            "/gdrive/MyDrive/Audio/C/02_288.wav 2\n",
            "/gdrive/MyDrive/Audio/C/02_289.wav 2\n",
            "/gdrive/MyDrive/Audio/C/02_290.wav 2\n",
            "/gdrive/MyDrive/Audio/C/02_291.wav 2\n",
            "/gdrive/MyDrive/Audio/C/02_292.wav 2\n",
            "/gdrive/MyDrive/Audio/C/02_293.wav 2\n",
            "/gdrive/MyDrive/Audio/C/02_294.wav 2\n",
            "/gdrive/MyDrive/Audio/C/02_295.wav 2\n",
            "/gdrive/MyDrive/Audio/C/02_296.wav 2\n",
            "/gdrive/MyDrive/Audio/C/02_297.wav 2\n",
            "/gdrive/MyDrive/Audio/C/02_298.wav 2\n",
            "/gdrive/MyDrive/Audio/C/02_299.wav 2\n",
            "/gdrive/MyDrive/Audio/C/02_300.wav 2\n",
            "/gdrive/MyDrive/Audio/C/02_301.wav 2\n",
            "/gdrive/MyDrive/Audio/C/02_302.wav 2\n",
            "/gdrive/MyDrive/Audio/C/02_303.wav 2\n",
            "/gdrive/MyDrive/Audio/C/02_304.wav 2\n",
            "/gdrive/MyDrive/Audio/C/02_305.wav 2\n",
            "/gdrive/MyDrive/Audio/C/02_306.wav 2\n",
            "/gdrive/MyDrive/Audio/C/02_307.wav 2\n",
            "/gdrive/MyDrive/Audio/C/02_308.wav 2\n",
            "/gdrive/MyDrive/Audio/C/02_309.wav 2\n",
            "/gdrive/MyDrive/Audio/C/02_310.wav 2\n",
            "/gdrive/MyDrive/Audio/C/02_311.wav 2\n",
            "/gdrive/MyDrive/Audio/C/02_312.wav 2\n",
            "/gdrive/MyDrive/Audio/C/02_313.wav 2\n",
            "/gdrive/MyDrive/Audio/C/02_314.wav 2\n",
            "/gdrive/MyDrive/Audio/C/02_315.wav 2\n",
            "/gdrive/MyDrive/Audio/C/02_316.wav 2\n",
            "/gdrive/MyDrive/Audio/C/02_317.wav 2\n",
            "/gdrive/MyDrive/Audio/C/02_318.wav 2\n",
            "/gdrive/MyDrive/Audio/C/02_319.wav 2\n",
            "/gdrive/MyDrive/Audio/C/02_320.wav 2\n",
            "/gdrive/MyDrive/Audio/C/02_321.wav 2\n",
            "/gdrive/MyDrive/Audio/C/02_322.wav 2\n",
            "/gdrive/MyDrive/Audio/C/02_323.wav 2\n",
            "/gdrive/MyDrive/Audio/C/02_324.wav 2\n",
            "/gdrive/MyDrive/Audio/C/02_325.wav 2\n",
            "/gdrive/MyDrive/Audio/C/02_326.wav 2\n",
            "/gdrive/MyDrive/Audio/C/02_327.wav 2\n",
            "/gdrive/MyDrive/Audio/C/02_328.wav 2\n",
            "/gdrive/MyDrive/Audio/C/02_329.wav 2\n",
            "/gdrive/MyDrive/Audio/C/02_330.wav 2\n",
            "/gdrive/MyDrive/Audio/C/02_331.wav 2\n",
            "/gdrive/MyDrive/Audio/C/02_332.wav 2\n",
            "/gdrive/MyDrive/Audio/C/02_333.wav 2\n",
            "/gdrive/MyDrive/Audio/C/02_334.wav 2\n",
            "/gdrive/MyDrive/Audio/C/02_335.wav 2\n",
            "/gdrive/MyDrive/Audio/C/02_336.wav 2\n",
            "/gdrive/MyDrive/Audio/C/02_337.wav 2\n",
            "/gdrive/MyDrive/Audio/C/02_338.wav 2\n",
            "/gdrive/MyDrive/Audio/C/02_339.wav 2\n",
            "/gdrive/MyDrive/Audio/C/02_340.wav 2\n",
            "/gdrive/MyDrive/Audio/C/02_341.wav 2\n",
            "/gdrive/MyDrive/Audio/C/02_342.wav 2\n",
            "/gdrive/MyDrive/Audio/C/02_343.wav 2\n",
            "/gdrive/MyDrive/Audio/C/02_344.wav 2\n",
            "/gdrive/MyDrive/Audio/C/02_345.wav 2\n",
            "/gdrive/MyDrive/Audio/C/02_346.wav 2\n",
            "/gdrive/MyDrive/Audio/C/02_347.wav 2\n",
            "/gdrive/MyDrive/Audio/C/02_348.wav 2\n",
            "/gdrive/MyDrive/Audio/C/02_349.wav 2\n",
            "/gdrive/MyDrive/Audio/C/02_350.wav 2\n",
            "/gdrive/MyDrive/Audio/C/02_351.wav 2\n",
            "/gdrive/MyDrive/Audio/C/02_352.wav 2\n",
            "/gdrive/MyDrive/Audio/C/02_353.wav 2\n",
            "/gdrive/MyDrive/Audio/C/02_354.wav 2\n",
            "/gdrive/MyDrive/Audio/C/02_355.wav 2\n",
            "/gdrive/MyDrive/Audio/C/02_356.wav 2\n",
            "/gdrive/MyDrive/Audio/C/02_357.wav 2\n",
            "/gdrive/MyDrive/Audio/C/02_358.wav 2\n",
            "/gdrive/MyDrive/Audio/C/02_359.wav 2\n",
            "/gdrive/MyDrive/Audio/C/02_360.wav 2\n",
            "/gdrive/MyDrive/Audio/C/02_361.wav 2\n",
            "/gdrive/MyDrive/Audio/C/02_362.wav 2\n",
            "/gdrive/MyDrive/Audio/C/02_363.wav 2\n",
            "/gdrive/MyDrive/Audio/C/02_364.wav 2\n",
            "/gdrive/MyDrive/Audio/C/02_365.wav 2\n",
            "/gdrive/MyDrive/Audio/C/02_366.wav 2\n",
            "/gdrive/MyDrive/Audio/C/02_367.wav 2\n",
            "/gdrive/MyDrive/Audio/C/02_368.wav 2\n",
            "/gdrive/MyDrive/Audio/C/02_369.wav 2\n",
            "/gdrive/MyDrive/Audio/C/02_370.wav 2\n",
            "/gdrive/MyDrive/Audio/C/02_371.wav 2\n",
            "/gdrive/MyDrive/Audio/C/02_372.wav 2\n",
            "/gdrive/MyDrive/Audio/C/02_373.wav 2\n",
            "/gdrive/MyDrive/Audio/C/02_374.wav 2\n",
            "/gdrive/MyDrive/Audio/C/02_375.wav 2\n",
            "/gdrive/MyDrive/Audio/C/02_376.wav 2\n",
            "/gdrive/MyDrive/Audio/C/02_377.wav 2\n",
            "/gdrive/MyDrive/Audio/C/02_378.wav 2\n",
            "/gdrive/MyDrive/Audio/C/02_379.wav 2\n",
            "/gdrive/MyDrive/Audio/C/02_380.wav 2\n",
            "/gdrive/MyDrive/Audio/C/02_381.wav 2\n",
            "/gdrive/MyDrive/Audio/C/02_382.wav 2\n",
            "/gdrive/MyDrive/Audio/C/02_383.wav 2\n",
            "/gdrive/MyDrive/Audio/C/02_384.wav 2\n",
            "/gdrive/MyDrive/Audio/C/02_385.wav 2\n",
            "/gdrive/MyDrive/Audio/C/02_386.wav 2\n",
            "/gdrive/MyDrive/Audio/C/02_387.wav 2\n",
            "/gdrive/MyDrive/Audio/C/02_388.wav 2\n",
            "/gdrive/MyDrive/Audio/C/02_389.wav 2\n",
            "/gdrive/MyDrive/Audio/C/02_390.wav 2\n",
            "/gdrive/MyDrive/Audio/C/02_391.wav 2\n",
            "/gdrive/MyDrive/Audio/C/02_392.wav 2\n",
            "/gdrive/MyDrive/Audio/C/02_393.wav 2\n",
            "/gdrive/MyDrive/Audio/C/02_394.wav 2\n",
            "/gdrive/MyDrive/Audio/C/02_395.wav 2\n",
            "/gdrive/MyDrive/Audio/C/02_396.wav 2\n",
            "/gdrive/MyDrive/Audio/C/02_397.wav 2\n",
            "/gdrive/MyDrive/Audio/C/02_398.wav 2\n",
            "/gdrive/MyDrive/Audio/C/02_399.wav 2\n",
            "/gdrive/MyDrive/Audio/C/02_400.wav 2\n",
            "/gdrive/MyDrive/Audio/C/02_401.wav 2\n",
            "/gdrive/MyDrive/Audio/C/02_402.wav 2\n",
            "/gdrive/MyDrive/Audio/C/02_403.wav 2\n",
            "/gdrive/MyDrive/Audio/C/02_404.wav 2\n",
            "/gdrive/MyDrive/Audio/C/02_405.wav 2\n",
            "/gdrive/MyDrive/Audio/C/02_406.wav 2\n",
            "/gdrive/MyDrive/Audio/C/02_407.wav 2\n",
            "/gdrive/MyDrive/Audio/C/02_408.wav 2\n",
            "/gdrive/MyDrive/Audio/C/02_409.wav 2\n",
            "/gdrive/MyDrive/Audio/C/02_410.wav 2\n",
            "/gdrive/MyDrive/Audio/C/02_411.wav 2\n",
            "/gdrive/MyDrive/Audio/C/02_412.wav 2\n",
            "/gdrive/MyDrive/Audio/C/02_413.wav 2\n",
            "/gdrive/MyDrive/Audio/C/02_414.wav 2\n",
            "/gdrive/MyDrive/Audio/C/02_415.wav 2\n",
            "/gdrive/MyDrive/Audio/C/02_416.wav 2\n",
            "/gdrive/MyDrive/Audio/C/02_417.wav 2\n",
            "/gdrive/MyDrive/Audio/C/02_418.wav 2\n",
            "/gdrive/MyDrive/Audio/C/02_419.wav 2\n",
            "/gdrive/MyDrive/Audio/C/02_420.wav 2\n",
            "/gdrive/MyDrive/Audio/C/00_001.wav 0\n",
            "/gdrive/MyDrive/Audio/C/00_002.wav 0\n",
            "/gdrive/MyDrive/Audio/C/00_003.wav 0\n",
            "/gdrive/MyDrive/Audio/C/00_004.wav 0\n",
            "/gdrive/MyDrive/Audio/C/00_005.wav 0\n",
            "/gdrive/MyDrive/Audio/C/00_006.wav 0\n",
            "/gdrive/MyDrive/Audio/C/00_007.wav 0\n",
            "/gdrive/MyDrive/Audio/C/00_008.wav 0\n",
            "/gdrive/MyDrive/Audio/C/00_009.wav 0\n",
            "/gdrive/MyDrive/Audio/C/00_010.wav 0\n",
            "/gdrive/MyDrive/Audio/C/00_011.wav 0\n",
            "/gdrive/MyDrive/Audio/C/00_012.wav 0\n",
            "/gdrive/MyDrive/Audio/C/00_013.wav 0\n",
            "/gdrive/MyDrive/Audio/C/00_014.wav 0\n",
            "/gdrive/MyDrive/Audio/C/00_015.wav 0\n",
            "/gdrive/MyDrive/Audio/C/00_016.wav 0\n",
            "/gdrive/MyDrive/Audio/C/00_017.wav 0\n",
            "/gdrive/MyDrive/Audio/C/00_018.wav 0\n",
            "/gdrive/MyDrive/Audio/C/00_019.wav 0\n",
            "/gdrive/MyDrive/Audio/C/00_020.wav 0\n",
            "/gdrive/MyDrive/Audio/C/00_021.wav 0\n",
            "/gdrive/MyDrive/Audio/C/00_022.wav 0\n",
            "/gdrive/MyDrive/Audio/C/00_023.wav 0\n",
            "/gdrive/MyDrive/Audio/C/00_024.wav 0\n",
            "/gdrive/MyDrive/Audio/C/00_025.wav 0\n",
            "/gdrive/MyDrive/Audio/C/00_026.wav 0\n",
            "/gdrive/MyDrive/Audio/C/00_027.wav 0\n",
            "/gdrive/MyDrive/Audio/C/00_028.wav 0\n",
            "/gdrive/MyDrive/Audio/C/00_029.wav 0\n",
            "/gdrive/MyDrive/Audio/C/00_030.wav 0\n",
            "/gdrive/MyDrive/Audio/C/00_031.wav 0\n",
            "/gdrive/MyDrive/Audio/C/00_032.wav 0\n",
            "/gdrive/MyDrive/Audio/C/00_033.wav 0\n",
            "/gdrive/MyDrive/Audio/C/00_034.wav 0\n",
            "/gdrive/MyDrive/Audio/C/00_035.wav 0\n",
            "/gdrive/MyDrive/Audio/C/00_036.wav 0\n",
            "/gdrive/MyDrive/Audio/C/00_037.wav 0\n",
            "/gdrive/MyDrive/Audio/C/00_038.wav 0\n",
            "/gdrive/MyDrive/Audio/C/00_039.wav 0\n",
            "/gdrive/MyDrive/Audio/C/00_040.wav 0\n",
            "/gdrive/MyDrive/Audio/C/00_041.wav 0\n",
            "/gdrive/MyDrive/Audio/C/00_042.wav 0\n",
            "/gdrive/MyDrive/Audio/C/00_043.wav 0\n",
            "/gdrive/MyDrive/Audio/C/00_044.wav 0\n",
            "/gdrive/MyDrive/Audio/C/00_045.wav 0\n",
            "/gdrive/MyDrive/Audio/C/00_046.wav 0\n",
            "/gdrive/MyDrive/Audio/C/00_047.wav 0\n",
            "/gdrive/MyDrive/Audio/C/00_048.wav 0\n",
            "/gdrive/MyDrive/Audio/C/00_049.wav 0\n",
            "/gdrive/MyDrive/Audio/C/00_050.wav 0\n",
            "/gdrive/MyDrive/Audio/C/00_051.wav 0\n",
            "/gdrive/MyDrive/Audio/C/00_052.wav 0\n",
            "/gdrive/MyDrive/Audio/C/00_053.wav 0\n",
            "/gdrive/MyDrive/Audio/C/00_054.wav 0\n",
            "/gdrive/MyDrive/Audio/C/00_055.wav 0\n",
            "/gdrive/MyDrive/Audio/C/00_056.wav 0\n",
            "/gdrive/MyDrive/Audio/C/00_057.wav 0\n",
            "/gdrive/MyDrive/Audio/C/00_058.wav 0\n",
            "/gdrive/MyDrive/Audio/C/00_059.wav 0\n",
            "/gdrive/MyDrive/Audio/C/00_060.wav 0\n",
            "/gdrive/MyDrive/Audio/C/00_061.wav 0\n",
            "/gdrive/MyDrive/Audio/C/00_062.wav 0\n",
            "/gdrive/MyDrive/Audio/C/00_063.wav 0\n",
            "/gdrive/MyDrive/Audio/C/00_064.wav 0\n",
            "/gdrive/MyDrive/Audio/C/00_065.wav 0\n",
            "/gdrive/MyDrive/Audio/C/00_066.wav 0\n",
            "/gdrive/MyDrive/Audio/C/00_067.wav 0\n",
            "/gdrive/MyDrive/Audio/C/00_068.wav 0\n",
            "/gdrive/MyDrive/Audio/C/00_069.wav 0\n",
            "/gdrive/MyDrive/Audio/C/00_070.wav 0\n",
            "/gdrive/MyDrive/Audio/C/00_071.wav 0\n",
            "/gdrive/MyDrive/Audio/C/00_072.wav 0\n",
            "/gdrive/MyDrive/Audio/C/00_073.wav 0\n",
            "/gdrive/MyDrive/Audio/C/00_074.wav 0\n",
            "/gdrive/MyDrive/Audio/C/00_075.wav 0\n",
            "/gdrive/MyDrive/Audio/C/00_076.wav 0\n",
            "/gdrive/MyDrive/Audio/C/00_077.wav 0\n",
            "/gdrive/MyDrive/Audio/C/00_078.wav 0\n",
            "/gdrive/MyDrive/Audio/C/00_079.wav 0\n",
            "/gdrive/MyDrive/Audio/C/00_080.wav 0\n",
            "/gdrive/MyDrive/Audio/C/00_081.wav 0\n",
            "/gdrive/MyDrive/Audio/C/00_082.wav 0\n",
            "/gdrive/MyDrive/Audio/C/00_083.wav 0\n",
            "/gdrive/MyDrive/Audio/C/00_084.wav 0\n",
            "/gdrive/MyDrive/Audio/C/00_085.wav 0\n",
            "/gdrive/MyDrive/Audio/C/00_086.wav 0\n",
            "/gdrive/MyDrive/Audio/C/00_087.wav 0\n",
            "/gdrive/MyDrive/Audio/C/00_088.wav 0\n",
            "/gdrive/MyDrive/Audio/C/00_089.wav 0\n",
            "/gdrive/MyDrive/Audio/C/00_090.wav 0\n",
            "/gdrive/MyDrive/Audio/C/00_091.wav 0\n",
            "/gdrive/MyDrive/Audio/C/00_092.wav 0\n",
            "/gdrive/MyDrive/Audio/C/00_093.wav 0\n",
            "/gdrive/MyDrive/Audio/C/00_094.wav 0\n",
            "/gdrive/MyDrive/Audio/C/00_095.wav 0\n",
            "/gdrive/MyDrive/Audio/C/00_096.wav 0\n",
            "/gdrive/MyDrive/Audio/C/00_097.wav 0\n",
            "/gdrive/MyDrive/Audio/C/00_098.wav 0\n",
            "/gdrive/MyDrive/Audio/C/00_099.wav 0\n",
            "/gdrive/MyDrive/Audio/C/00_100.wav 0\n",
            "/gdrive/MyDrive/Audio/C/00_101.wav 0\n",
            "/gdrive/MyDrive/Audio/C/00_102.wav 0\n",
            "/gdrive/MyDrive/Audio/C/00_103.wav 0\n",
            "/gdrive/MyDrive/Audio/C/00_104.wav 0\n",
            "/gdrive/MyDrive/Audio/C/00_105.wav 0\n",
            "/gdrive/MyDrive/Audio/C/00_106.wav 0\n",
            "/gdrive/MyDrive/Audio/C/00_107.wav 0\n",
            "/gdrive/MyDrive/Audio/C/00_108.wav 0\n",
            "/gdrive/MyDrive/Audio/C/00_109.wav 0\n",
            "/gdrive/MyDrive/Audio/C/00_110.wav 0\n",
            "/gdrive/MyDrive/Audio/C/00_111.wav 0\n",
            "/gdrive/MyDrive/Audio/C/00_112.wav 0\n",
            "/gdrive/MyDrive/Audio/C/00_113.wav 0\n",
            "/gdrive/MyDrive/Audio/C/00_114.wav 0\n",
            "/gdrive/MyDrive/Audio/C/00_115.wav 0\n",
            "/gdrive/MyDrive/Audio/C/00_116.wav 0\n",
            "/gdrive/MyDrive/Audio/C/00_117.wav 0\n",
            "/gdrive/MyDrive/Audio/C/00_118.wav 0\n",
            "/gdrive/MyDrive/Audio/C/00_119.wav 0\n",
            "/gdrive/MyDrive/Audio/C/00_120.wav 0\n",
            "/gdrive/MyDrive/Audio/C/00_121.wav 0\n",
            "/gdrive/MyDrive/Audio/C/00_122.wav 0\n",
            "/gdrive/MyDrive/Audio/C/00_123.wav 0\n",
            "/gdrive/MyDrive/Audio/C/00_124.wav 0\n",
            "/gdrive/MyDrive/Audio/C/00_125.wav 0\n",
            "/gdrive/MyDrive/Audio/C/00_126.wav 0\n",
            "/gdrive/MyDrive/Audio/C/00_127.wav 0\n",
            "/gdrive/MyDrive/Audio/C/00_128.wav 0\n",
            "/gdrive/MyDrive/Audio/C/00_129.wav 0\n",
            "/gdrive/MyDrive/Audio/C/00_130.wav 0\n",
            "/gdrive/MyDrive/Audio/C/00_131.wav 0\n",
            "/gdrive/MyDrive/Audio/C/00_132.wav 0\n",
            "/gdrive/MyDrive/Audio/C/00_133.wav 0\n",
            "/gdrive/MyDrive/Audio/C/00_134.wav 0\n",
            "/gdrive/MyDrive/Audio/C/00_135.wav 0\n",
            "/gdrive/MyDrive/Audio/C/00_136.wav 0\n",
            "/gdrive/MyDrive/Audio/C/00_137.wav 0\n",
            "/gdrive/MyDrive/Audio/C/00_138.wav 0\n",
            "/gdrive/MyDrive/Audio/C/00_139.wav 0\n",
            "/gdrive/MyDrive/Audio/C/00_140.wav 0\n",
            "/gdrive/MyDrive/Audio/C/00_141.wav 0\n",
            "/gdrive/MyDrive/Audio/C/00_142.wav 0\n",
            "/gdrive/MyDrive/Audio/C/00_143.wav 0\n",
            "/gdrive/MyDrive/Audio/C/00_144.wav 0\n",
            "/gdrive/MyDrive/Audio/C/00_145.wav 0\n",
            "/gdrive/MyDrive/Audio/C/00_146.wav 0\n",
            "/gdrive/MyDrive/Audio/C/00_147.wav 0\n",
            "/gdrive/MyDrive/Audio/C/00_148.wav 0\n",
            "/gdrive/MyDrive/Audio/C/00_149.wav 0\n",
            "/gdrive/MyDrive/Audio/C/00_150.wav 0\n",
            "/gdrive/MyDrive/Audio/C/00_151.wav 0\n",
            "/gdrive/MyDrive/Audio/C/00_152.wav 0\n",
            "/gdrive/MyDrive/Audio/C/00_153.wav 0\n",
            "/gdrive/MyDrive/Audio/C/00_154.wav 0\n",
            "/gdrive/MyDrive/Audio/C/00_155.wav 0\n",
            "/gdrive/MyDrive/Audio/C/00_156.wav 0\n",
            "/gdrive/MyDrive/Audio/C/00_157.wav 0\n",
            "/gdrive/MyDrive/Audio/C/00_158.wav 0\n",
            "/gdrive/MyDrive/Audio/C/00_159.wav 0\n",
            "/gdrive/MyDrive/Audio/C/00_160.wav 0\n",
            "/gdrive/MyDrive/Audio/C/00_161.wav 0\n",
            "/gdrive/MyDrive/Audio/C/00_162.wav 0\n",
            "/gdrive/MyDrive/Audio/C/00_163.wav 0\n",
            "/gdrive/MyDrive/Audio/C/00_164.wav 0\n",
            "/gdrive/MyDrive/Audio/C/00_165.wav 0\n",
            "/gdrive/MyDrive/Audio/C/00_166.wav 0\n",
            "/gdrive/MyDrive/Audio/C/00_167.wav 0\n",
            "/gdrive/MyDrive/Audio/C/00_168.wav 0\n",
            "/gdrive/MyDrive/Audio/C/00_169.wav 0\n",
            "/gdrive/MyDrive/Audio/C/00_170.wav 0\n",
            "/gdrive/MyDrive/Audio/C/00_171.wav 0\n",
            "/gdrive/MyDrive/Audio/C/00_172.wav 0\n",
            "/gdrive/MyDrive/Audio/C/00_173.wav 0\n",
            "/gdrive/MyDrive/Audio/C/00_174.wav 0\n",
            "/gdrive/MyDrive/Audio/C/00_175.wav 0\n",
            "/gdrive/MyDrive/Audio/C/00_176.wav 0\n",
            "/gdrive/MyDrive/Audio/C/00_177.wav 0\n",
            "/gdrive/MyDrive/Audio/C/00_178.wav 0\n",
            "/gdrive/MyDrive/Audio/C/00_179.wav 0\n",
            "/gdrive/MyDrive/Audio/C/00_180.wav 0\n",
            "/gdrive/MyDrive/Audio/C/00_181.wav 0\n",
            "/gdrive/MyDrive/Audio/C/00_182.wav 0\n",
            "/gdrive/MyDrive/Audio/C/00_183.wav 0\n",
            "/gdrive/MyDrive/Audio/C/00_184.wav 0\n",
            "/gdrive/MyDrive/Audio/C/00_185.wav 0\n",
            "/gdrive/MyDrive/Audio/C/00_186.wav 0\n",
            "/gdrive/MyDrive/Audio/C/00_187.wav 0\n",
            "/gdrive/MyDrive/Audio/C/00_188.wav 0\n",
            "/gdrive/MyDrive/Audio/C/00_189.wav 0\n",
            "/gdrive/MyDrive/Audio/C/00_190.wav 0\n",
            "/gdrive/MyDrive/Audio/C/00_191.wav 0\n",
            "/gdrive/MyDrive/Audio/C/00_192.wav 0\n",
            "/gdrive/MyDrive/Audio/C/00_193.wav 0\n",
            "/gdrive/MyDrive/Audio/C/00_194.wav 0\n",
            "/gdrive/MyDrive/Audio/C/00_195.wav 0\n",
            "/gdrive/MyDrive/Audio/C/00_196.wav 0\n",
            "/gdrive/MyDrive/Audio/C/00_197.wav 0\n",
            "/gdrive/MyDrive/Audio/C/00_198.wav 0\n",
            "/gdrive/MyDrive/Audio/C/00_199.wav 0\n",
            "/gdrive/MyDrive/Audio/C/00_200.wav 0\n",
            "/gdrive/MyDrive/Audio/C/00_201.wav 0\n",
            "/gdrive/MyDrive/Audio/C/00_202.wav 0\n",
            "/gdrive/MyDrive/Audio/C/00_203.wav 0\n",
            "/gdrive/MyDrive/Audio/C/00_204.wav 0\n",
            "/gdrive/MyDrive/Audio/C/00_205.wav 0\n",
            "/gdrive/MyDrive/Audio/C/00_206.wav 0\n",
            "/gdrive/MyDrive/Audio/C/00_207.wav 0\n",
            "/gdrive/MyDrive/Audio/C/00_208.wav 0\n",
            "/gdrive/MyDrive/Audio/C/00_209.wav 0\n",
            "/gdrive/MyDrive/Audio/C/00_210.wav 0\n",
            "/gdrive/MyDrive/Audio/C/00_211.wav 0\n",
            "/gdrive/MyDrive/Audio/C/00_212.wav 0\n",
            "/gdrive/MyDrive/Audio/C/00_213.wav 0\n",
            "/gdrive/MyDrive/Audio/C/00_214.wav 0\n",
            "/gdrive/MyDrive/Audio/C/00_215.wav 0\n",
            "/gdrive/MyDrive/Audio/C/00_216.wav 0\n",
            "/gdrive/MyDrive/Audio/C/00_217.wav 0\n",
            "/gdrive/MyDrive/Audio/C/00_218.wav 0\n",
            "/gdrive/MyDrive/Audio/C/00_219.wav 0\n",
            "/gdrive/MyDrive/Audio/C/00_220.wav 0\n",
            "/gdrive/MyDrive/Audio/C/00_221.wav 0\n",
            "/gdrive/MyDrive/Audio/C/00_222.wav 0\n",
            "/gdrive/MyDrive/Audio/C/00_223.wav 0\n",
            "/gdrive/MyDrive/Audio/C/00_224.wav 0\n",
            "/gdrive/MyDrive/Audio/C/00_225.wav 0\n",
            "/gdrive/MyDrive/Audio/C/00_226.wav 0\n",
            "/gdrive/MyDrive/Audio/C/00_227.wav 0\n",
            "/gdrive/MyDrive/Audio/C/00_228.wav 0\n",
            "/gdrive/MyDrive/Audio/C/00_229.wav 0\n",
            "/gdrive/MyDrive/Audio/C/00_230.wav 0\n",
            "/gdrive/MyDrive/Audio/C/00_231.wav 0\n",
            "/gdrive/MyDrive/Audio/C/00_232.wav 0\n",
            "/gdrive/MyDrive/Audio/C/00_233.wav 0\n",
            "/gdrive/MyDrive/Audio/C/00_234.wav 0\n",
            "/gdrive/MyDrive/Audio/C/00_235.wav 0\n",
            "/gdrive/MyDrive/Audio/C/00_236.wav 0\n",
            "/gdrive/MyDrive/Audio/C/00_237.wav 0\n",
            "/gdrive/MyDrive/Audio/C/00_238.wav 0\n",
            "/gdrive/MyDrive/Audio/C/00_239.wav 0\n",
            "/gdrive/MyDrive/Audio/C/00_240.wav 0\n",
            "/gdrive/MyDrive/Audio/C/00_241.wav 0\n",
            "/gdrive/MyDrive/Audio/C/00_242.wav 0\n",
            "/gdrive/MyDrive/Audio/C/00_243.wav 0\n",
            "/gdrive/MyDrive/Audio/C/00_244.wav 0\n",
            "/gdrive/MyDrive/Audio/C/00_245.wav 0\n",
            "/gdrive/MyDrive/Audio/C/00_246.wav 0\n",
            "/gdrive/MyDrive/Audio/C/00_247.wav 0\n",
            "/gdrive/MyDrive/Audio/C/00_248.wav 0\n",
            "/gdrive/MyDrive/Audio/C/00_249.wav 0\n",
            "/gdrive/MyDrive/Audio/C/00_250.wav 0\n",
            "/gdrive/MyDrive/Audio/C/00_251.wav 0\n",
            "/gdrive/MyDrive/Audio/C/00_252.wav 0\n",
            "/gdrive/MyDrive/Audio/C/00_253.wav 0\n",
            "/gdrive/MyDrive/Audio/C/00_254.wav 0\n",
            "/gdrive/MyDrive/Audio/C/00_255.wav 0\n",
            "/gdrive/MyDrive/Audio/C/00_256.wav 0\n",
            "/gdrive/MyDrive/Audio/C/00_257.wav 0\n",
            "/gdrive/MyDrive/Audio/C/00_258.wav 0\n",
            "/gdrive/MyDrive/Audio/C/00_259.wav 0\n",
            "/gdrive/MyDrive/Audio/C/00_260.wav 0\n",
            "/gdrive/MyDrive/Audio/C/00_261.wav 0\n",
            "/gdrive/MyDrive/Audio/C/00_262.wav 0\n",
            "/gdrive/MyDrive/Audio/C/00_263.wav 0\n",
            "/gdrive/MyDrive/Audio/C/00_264.wav 0\n",
            "/gdrive/MyDrive/Audio/C/00_265.wav 0\n",
            "/gdrive/MyDrive/Audio/C/00_266.wav 0\n",
            "/gdrive/MyDrive/Audio/C/00_267.wav 0\n",
            "/gdrive/MyDrive/Audio/C/00_268.wav 0\n",
            "/gdrive/MyDrive/Audio/C/00_269.wav 0\n",
            "/gdrive/MyDrive/Audio/C/00_270.wav 0\n",
            "/gdrive/MyDrive/Audio/C/00_271.wav 0\n",
            "/gdrive/MyDrive/Audio/C/00_272.wav 0\n",
            "/gdrive/MyDrive/Audio/C/00_273.wav 0\n",
            "/gdrive/MyDrive/Audio/C/00_274.wav 0\n",
            "/gdrive/MyDrive/Audio/C/00_275.wav 0\n",
            "/gdrive/MyDrive/Audio/C/00_276.wav 0\n",
            "/gdrive/MyDrive/Audio/C/00_277.wav 0\n",
            "/gdrive/MyDrive/Audio/C/00_278.wav 0\n",
            "/gdrive/MyDrive/Audio/C/00_279.wav 0\n",
            "/gdrive/MyDrive/Audio/C/00_280.wav 0\n",
            "/gdrive/MyDrive/Audio/C/00_281.wav 0\n",
            "/gdrive/MyDrive/Audio/C/00_282.wav 0\n",
            "/gdrive/MyDrive/Audio/C/00_283.wav 0\n",
            "/gdrive/MyDrive/Audio/C/00_284.wav 0\n",
            "/gdrive/MyDrive/Audio/C/00_285.wav 0\n",
            "/gdrive/MyDrive/Audio/C/00_286.wav 0\n",
            "/gdrive/MyDrive/Audio/C/00_287.wav 0\n",
            "/gdrive/MyDrive/Audio/C/00_288.wav 0\n",
            "/gdrive/MyDrive/Audio/C/00_289.wav 0\n",
            "/gdrive/MyDrive/Audio/C/00_290.wav 0\n",
            "/gdrive/MyDrive/Audio/C/00_291.wav 0\n",
            "/gdrive/MyDrive/Audio/C/00_292.wav 0\n",
            "/gdrive/MyDrive/Audio/C/00_293.wav 0\n",
            "/gdrive/MyDrive/Audio/C/00_294.wav 0\n",
            "/gdrive/MyDrive/Audio/C/00_295.wav 0\n",
            "/gdrive/MyDrive/Audio/C/00_296.wav 0\n",
            "/gdrive/MyDrive/Audio/C/00_297.wav 0\n",
            "/gdrive/MyDrive/Audio/C/00_298.wav 0\n",
            "/gdrive/MyDrive/Audio/C/00_299.wav 0\n",
            "/gdrive/MyDrive/Audio/C/00_300.wav 0\n",
            "/gdrive/MyDrive/Audio/C/00_301.wav 0\n",
            "/gdrive/MyDrive/Audio/C/00_302.wav 0\n",
            "/gdrive/MyDrive/Audio/C/00_303.wav 0\n",
            "/gdrive/MyDrive/Audio/C/00_304.wav 0\n",
            "/gdrive/MyDrive/Audio/C/00_305.wav 0\n",
            "/gdrive/MyDrive/Audio/C/00_306.wav 0\n",
            "/gdrive/MyDrive/Audio/C/00_307.wav 0\n",
            "/gdrive/MyDrive/Audio/C/00_308.wav 0\n",
            "/gdrive/MyDrive/Audio/C/00_309.wav 0\n",
            "/gdrive/MyDrive/Audio/C/00_310.wav 0\n",
            "/gdrive/MyDrive/Audio/C/00_311.wav 0\n",
            "/gdrive/MyDrive/Audio/C/00_312.wav 0\n",
            "/gdrive/MyDrive/Audio/C/00_313.wav 0\n",
            "/gdrive/MyDrive/Audio/C/00_314.wav 0\n",
            "/gdrive/MyDrive/Audio/C/00_315.wav 0\n",
            "/gdrive/MyDrive/Audio/C/00_316.wav 0\n",
            "/gdrive/MyDrive/Audio/C/00_317.wav 0\n",
            "/gdrive/MyDrive/Audio/C/00_318.wav 0\n",
            "/gdrive/MyDrive/Audio/C/00_319.wav 0\n",
            "/gdrive/MyDrive/Audio/C/00_320.wav 0\n",
            "/gdrive/MyDrive/Audio/C/00_321.wav 0\n",
            "/gdrive/MyDrive/Audio/C/00_322.wav 0\n",
            "/gdrive/MyDrive/Audio/C/00_323.wav 0\n",
            "/gdrive/MyDrive/Audio/C/00_324.wav 0\n",
            "/gdrive/MyDrive/Audio/C/00_325.wav 0\n",
            "/gdrive/MyDrive/Audio/C/00_326.wav 0\n",
            "/gdrive/MyDrive/Audio/C/00_327.wav 0\n",
            "/gdrive/MyDrive/Audio/C/00_328.wav 0\n",
            "/gdrive/MyDrive/Audio/C/00_329.wav 0\n",
            "/gdrive/MyDrive/Audio/C/00_330.wav 0\n",
            "/gdrive/MyDrive/Audio/C/00_331.wav 0\n",
            "/gdrive/MyDrive/Audio/C/00_332.wav 0\n",
            "/gdrive/MyDrive/Audio/C/00_333.wav 0\n",
            "/gdrive/MyDrive/Audio/C/00_334.wav 0\n",
            "/gdrive/MyDrive/Audio/C/00_335.wav 0\n",
            "/gdrive/MyDrive/Audio/C/00_336.wav 0\n",
            "/gdrive/MyDrive/Audio/C/00_337.wav 0\n",
            "/gdrive/MyDrive/Audio/C/00_338.wav 0\n",
            "/gdrive/MyDrive/Audio/C/00_339.wav 0\n",
            "/gdrive/MyDrive/Audio/C/00_340.wav 0\n",
            "/gdrive/MyDrive/Audio/C/00_341.wav 0\n",
            "/gdrive/MyDrive/Audio/C/00_342.wav 0\n",
            "/gdrive/MyDrive/Audio/C/00_343.wav 0\n",
            "/gdrive/MyDrive/Audio/C/00_344.wav 0\n",
            "/gdrive/MyDrive/Audio/C/00_345.wav 0\n",
            "/gdrive/MyDrive/Audio/C/00_346.wav 0\n",
            "/gdrive/MyDrive/Audio/C/00_347.wav 0\n",
            "/gdrive/MyDrive/Audio/C/00_348.wav 0\n",
            "/gdrive/MyDrive/Audio/C/00_349.wav 0\n",
            "/gdrive/MyDrive/Audio/C/00_350.wav 0\n",
            "/gdrive/MyDrive/Audio/C/00_351.wav 0\n",
            "/gdrive/MyDrive/Audio/C/00_352.wav 0\n",
            "/gdrive/MyDrive/Audio/C/00_353.wav 0\n",
            "/gdrive/MyDrive/Audio/C/00_354.wav 0\n",
            "/gdrive/MyDrive/Audio/C/00_355.wav 0\n",
            "/gdrive/MyDrive/Audio/C/00_356.wav 0\n",
            "/gdrive/MyDrive/Audio/C/00_357.wav 0\n",
            "/gdrive/MyDrive/Audio/C/00_358.wav 0\n",
            "/gdrive/MyDrive/Audio/C/00_359.wav 0\n",
            "/gdrive/MyDrive/Audio/C/00_360.wav 0\n",
            "/gdrive/MyDrive/Audio/C/00_361.wav 0\n",
            "/gdrive/MyDrive/Audio/C/00_362.wav 0\n",
            "/gdrive/MyDrive/Audio/C/00_363.wav 0\n",
            "/gdrive/MyDrive/Audio/C/00_364.wav 0\n",
            "/gdrive/MyDrive/Audio/C/00_365.wav 0\n",
            "/gdrive/MyDrive/Audio/C/00_366.wav 0\n",
            "/gdrive/MyDrive/Audio/C/00_367.wav 0\n",
            "/gdrive/MyDrive/Audio/C/00_368.wav 0\n",
            "/gdrive/MyDrive/Audio/C/00_369.wav 0\n",
            "/gdrive/MyDrive/Audio/C/00_370.wav 0\n",
            "/gdrive/MyDrive/Audio/C/00_371.wav 0\n",
            "/gdrive/MyDrive/Audio/C/00_372.wav 0\n",
            "/gdrive/MyDrive/Audio/C/00_373.wav 0\n",
            "/gdrive/MyDrive/Audio/C/00_374.wav 0\n",
            "/gdrive/MyDrive/Audio/C/00_375.wav 0\n",
            "/gdrive/MyDrive/Audio/C/00_376.wav 0\n",
            "/gdrive/MyDrive/Audio/C/00_377.wav 0\n",
            "/gdrive/MyDrive/Audio/C/00_378.wav 0\n",
            "/gdrive/MyDrive/Audio/C/00_379.wav 0\n",
            "/gdrive/MyDrive/Audio/C/00_380.wav 0\n",
            "/gdrive/MyDrive/Audio/C/00_381.wav 0\n",
            "/gdrive/MyDrive/Audio/C/00_382.wav 0\n",
            "/gdrive/MyDrive/Audio/C/00_383.wav 0\n",
            "/gdrive/MyDrive/Audio/C/00_384.wav 0\n",
            "/gdrive/MyDrive/Audio/C/00_385.wav 0\n",
            "/gdrive/MyDrive/Audio/C/00_386.wav 0\n",
            "/gdrive/MyDrive/Audio/C/00_387.wav 0\n",
            "/gdrive/MyDrive/Audio/C/00_388.wav 0\n",
            "/gdrive/MyDrive/Audio/C/00_389.wav 0\n",
            "/gdrive/MyDrive/Audio/C/00_390.wav 0\n",
            "/gdrive/MyDrive/Audio/C/00_391.wav 0\n",
            "/gdrive/MyDrive/Audio/C/00_392.wav 0\n",
            "/gdrive/MyDrive/Audio/C/00_393.wav 0\n",
            "/gdrive/MyDrive/Audio/C/00_394.wav 0\n",
            "/gdrive/MyDrive/Audio/C/00_395.wav 0\n",
            "/gdrive/MyDrive/Audio/C/00_396.wav 0\n",
            "/gdrive/MyDrive/Audio/C/00_397.wav 0\n",
            "/gdrive/MyDrive/Audio/C/01_001.wav 1\n",
            "/gdrive/MyDrive/Audio/C/01_002.wav 1\n",
            "/gdrive/MyDrive/Audio/C/01_003.wav 1\n",
            "/gdrive/MyDrive/Audio/C/01_004.wav 1\n",
            "/gdrive/MyDrive/Audio/C/01_005.wav 1\n",
            "/gdrive/MyDrive/Audio/C/01_006.wav 1\n",
            "/gdrive/MyDrive/Audio/C/01_007.wav 1\n",
            "/gdrive/MyDrive/Audio/C/01_008.wav 1\n",
            "/gdrive/MyDrive/Audio/C/01_009.wav 1\n",
            "/gdrive/MyDrive/Audio/C/01_010.wav 1\n",
            "/gdrive/MyDrive/Audio/C/01_011.wav 1\n",
            "/gdrive/MyDrive/Audio/C/01_012.wav 1\n",
            "/gdrive/MyDrive/Audio/C/01_013.wav 1\n",
            "/gdrive/MyDrive/Audio/C/01_014.wav 1\n",
            "/gdrive/MyDrive/Audio/C/01_015.wav 1\n",
            "/gdrive/MyDrive/Audio/C/01_016.wav 1\n",
            "/gdrive/MyDrive/Audio/C/01_017.wav 1\n",
            "/gdrive/MyDrive/Audio/C/01_019.wav 1\n",
            "/gdrive/MyDrive/Audio/C/01_018.wav 1\n",
            "/gdrive/MyDrive/Audio/C/01_020.wav 1\n",
            "/gdrive/MyDrive/Audio/C/01_021.wav 1\n",
            "/gdrive/MyDrive/Audio/C/01_022.wav 1\n",
            "/gdrive/MyDrive/Audio/C/01_023.wav 1\n",
            "/gdrive/MyDrive/Audio/C/01_024.wav 1\n",
            "/gdrive/MyDrive/Audio/C/01_025.wav 1\n",
            "/gdrive/MyDrive/Audio/C/01_026.wav 1\n",
            "/gdrive/MyDrive/Audio/C/01_027.wav 1\n",
            "/gdrive/MyDrive/Audio/C/01_028.wav 1\n",
            "/gdrive/MyDrive/Audio/C/01_029.wav 1\n",
            "/gdrive/MyDrive/Audio/C/01_031.wav 1\n",
            "/gdrive/MyDrive/Audio/C/01_030.wav 1\n",
            "/gdrive/MyDrive/Audio/C/01_032.wav 1\n",
            "/gdrive/MyDrive/Audio/C/01_033.wav 1\n",
            "/gdrive/MyDrive/Audio/C/01_034.wav 1\n",
            "/gdrive/MyDrive/Audio/C/01_035.wav 1\n",
            "/gdrive/MyDrive/Audio/C/01_036.wav 1\n",
            "/gdrive/MyDrive/Audio/C/01_038.wav 1\n",
            "/gdrive/MyDrive/Audio/C/01_037.wav 1\n",
            "/gdrive/MyDrive/Audio/C/01_039.wav 1\n",
            "/gdrive/MyDrive/Audio/C/01_040.wav 1\n",
            "/gdrive/MyDrive/Audio/C/01_041.wav 1\n",
            "/gdrive/MyDrive/Audio/C/01_042.wav 1\n",
            "/gdrive/MyDrive/Audio/C/01_043.wav 1\n",
            "/gdrive/MyDrive/Audio/C/01_044.wav 1\n",
            "/gdrive/MyDrive/Audio/C/01_045.wav 1\n",
            "/gdrive/MyDrive/Audio/C/01_046.wav 1\n",
            "/gdrive/MyDrive/Audio/C/01_047.wav 1\n",
            "/gdrive/MyDrive/Audio/C/01_048.wav 1\n",
            "/gdrive/MyDrive/Audio/C/01_049.wav 1\n",
            "/gdrive/MyDrive/Audio/C/01_050.wav 1\n",
            "/gdrive/MyDrive/Audio/C/01_051.wav 1\n",
            "/gdrive/MyDrive/Audio/C/01_052.wav 1\n",
            "/gdrive/MyDrive/Audio/C/01_053.wav 1\n",
            "/gdrive/MyDrive/Audio/C/01_055.wav 1\n",
            "/gdrive/MyDrive/Audio/C/01_054.wav 1\n",
            "/gdrive/MyDrive/Audio/C/01_056.wav 1\n",
            "/gdrive/MyDrive/Audio/C/01_057.wav 1\n",
            "/gdrive/MyDrive/Audio/C/01_058.wav 1\n",
            "/gdrive/MyDrive/Audio/C/01_059.wav 1\n",
            "/gdrive/MyDrive/Audio/C/01_060.wav 1\n",
            "/gdrive/MyDrive/Audio/C/01_062.wav 1\n",
            "/gdrive/MyDrive/Audio/C/01_061.wav 1\n",
            "/gdrive/MyDrive/Audio/C/01_063.wav 1\n",
            "/gdrive/MyDrive/Audio/C/01_064.wav 1\n",
            "/gdrive/MyDrive/Audio/C/01_065.wav 1\n",
            "/gdrive/MyDrive/Audio/C/01_066.wav 1\n",
            "/gdrive/MyDrive/Audio/C/01_067.wav 1\n",
            "/gdrive/MyDrive/Audio/C/01_068.wav 1\n",
            "/gdrive/MyDrive/Audio/C/01_069.wav 1\n",
            "/gdrive/MyDrive/Audio/C/01_070.wav 1\n",
            "/gdrive/MyDrive/Audio/C/01_071.wav 1\n",
            "/gdrive/MyDrive/Audio/C/01_072.wav 1\n",
            "/gdrive/MyDrive/Audio/C/01_073.wav 1\n",
            "/gdrive/MyDrive/Audio/C/01_074.wav 1\n",
            "/gdrive/MyDrive/Audio/C/01_076.wav 1\n",
            "/gdrive/MyDrive/Audio/C/01_075.wav 1\n",
            "/gdrive/MyDrive/Audio/C/01_077.wav 1\n",
            "/gdrive/MyDrive/Audio/C/01_078.wav 1\n",
            "/gdrive/MyDrive/Audio/C/01_079.wav 1\n",
            "/gdrive/MyDrive/Audio/C/01_080.wav 1\n",
            "/gdrive/MyDrive/Audio/C/01_081.wav 1\n",
            "/gdrive/MyDrive/Audio/C/01_082.wav 1\n",
            "/gdrive/MyDrive/Audio/C/01_083.wav 1\n",
            "/gdrive/MyDrive/Audio/C/01_084.wav 1\n",
            "/gdrive/MyDrive/Audio/C/01_085.wav 1\n",
            "/gdrive/MyDrive/Audio/C/01_086.wav 1\n",
            "/gdrive/MyDrive/Audio/C/01_087.wav 1\n",
            "/gdrive/MyDrive/Audio/C/01_088.wav 1\n",
            "/gdrive/MyDrive/Audio/C/01_089.wav 1\n",
            "/gdrive/MyDrive/Audio/C/01_090.wav 1\n",
            "/gdrive/MyDrive/Audio/C/01_091.wav 1\n",
            "/gdrive/MyDrive/Audio/C/01_093.wav 1\n",
            "/gdrive/MyDrive/Audio/C/01_092.wav 1\n",
            "/gdrive/MyDrive/Audio/C/01_094.wav 1\n",
            "/gdrive/MyDrive/Audio/C/01_095.wav 1\n",
            "/gdrive/MyDrive/Audio/C/01_096.wav 1\n",
            "/gdrive/MyDrive/Audio/C/01_097.wav 1\n",
            "/gdrive/MyDrive/Audio/C/01_098.wav 1\n",
            "/gdrive/MyDrive/Audio/C/01_099.wav 1\n",
            "/gdrive/MyDrive/Audio/C/01_100.wav 1\n",
            "/gdrive/MyDrive/Audio/C/01_101.wav 1\n",
            "/gdrive/MyDrive/Audio/C/01_102.wav 1\n",
            "/gdrive/MyDrive/Audio/C/01_103.wav 1\n",
            "/gdrive/MyDrive/Audio/C/01_104.wav 1\n",
            "/gdrive/MyDrive/Audio/C/01_105.wav 1\n",
            "/gdrive/MyDrive/Audio/C/01_106.wav 1\n",
            "/gdrive/MyDrive/Audio/C/01_107.wav 1\n",
            "/gdrive/MyDrive/Audio/C/01_108.wav 1\n",
            "/gdrive/MyDrive/Audio/C/01_109.wav 1\n",
            "/gdrive/MyDrive/Audio/C/01_110.wav 1\n",
            "/gdrive/MyDrive/Audio/C/01_111.wav 1\n",
            "/gdrive/MyDrive/Audio/C/01_112.wav 1\n",
            "/gdrive/MyDrive/Audio/C/01_113.wav 1\n",
            "/gdrive/MyDrive/Audio/C/01_114.wav 1\n",
            "/gdrive/MyDrive/Audio/C/01_115.wav 1\n",
            "/gdrive/MyDrive/Audio/C/01_116.wav 1\n",
            "/gdrive/MyDrive/Audio/C/01_117.wav 1\n",
            "/gdrive/MyDrive/Audio/C/01_118.wav 1\n",
            "/gdrive/MyDrive/Audio/C/01_119.wav 1\n",
            "/gdrive/MyDrive/Audio/C/01_120.wav 1\n",
            "/gdrive/MyDrive/Audio/C/01_121.wav 1\n",
            "/gdrive/MyDrive/Audio/C/01_122.wav 1\n",
            "/gdrive/MyDrive/Audio/C/01_123.wav 1\n",
            "/gdrive/MyDrive/Audio/C/01_124.wav 1\n",
            "/gdrive/MyDrive/Audio/C/01_125.wav 1\n",
            "/gdrive/MyDrive/Audio/C/01_126.wav 1\n",
            "/gdrive/MyDrive/Audio/C/01_127.wav 1\n",
            "/gdrive/MyDrive/Audio/C/01_128.wav 1\n",
            "/gdrive/MyDrive/Audio/C/01_129.wav 1\n",
            "/gdrive/MyDrive/Audio/C/01_130.wav 1\n",
            "/gdrive/MyDrive/Audio/C/01_131.wav 1\n",
            "/gdrive/MyDrive/Audio/C/01_132.wav 1\n",
            "/gdrive/MyDrive/Audio/C/01_133.wav 1\n",
            "/gdrive/MyDrive/Audio/C/01_134.wav 1\n",
            "/gdrive/MyDrive/Audio/C/01_135.wav 1\n",
            "/gdrive/MyDrive/Audio/C/01_136.wav 1\n",
            "/gdrive/MyDrive/Audio/C/01_137.wav 1\n",
            "/gdrive/MyDrive/Audio/C/01_138.wav 1\n",
            "/gdrive/MyDrive/Audio/C/01_139.wav 1\n",
            "/gdrive/MyDrive/Audio/C/01_140.wav 1\n",
            "/gdrive/MyDrive/Audio/C/01_141.wav 1\n",
            "/gdrive/MyDrive/Audio/C/01_142.wav 1\n",
            "/gdrive/MyDrive/Audio/C/01_143.wav 1\n",
            "/gdrive/MyDrive/Audio/C/01_144.wav 1\n",
            "/gdrive/MyDrive/Audio/C/01_145.wav 1\n",
            "/gdrive/MyDrive/Audio/C/01_147.wav 1\n",
            "/gdrive/MyDrive/Audio/C/01_146.wav 1\n",
            "/gdrive/MyDrive/Audio/C/01_148.wav 1\n",
            "/gdrive/MyDrive/Audio/C/01_149.wav 1\n",
            "/gdrive/MyDrive/Audio/C/01_150.wav 1\n",
            "/gdrive/MyDrive/Audio/C/01_151.wav 1\n",
            "/gdrive/MyDrive/Audio/C/01_152.wav 1\n",
            "/gdrive/MyDrive/Audio/C/01_153.wav 1\n",
            "/gdrive/MyDrive/Audio/C/01_154.wav 1\n",
            "/gdrive/MyDrive/Audio/C/01_155.wav 1\n",
            "/gdrive/MyDrive/Audio/C/01_156.wav 1\n",
            "/gdrive/MyDrive/Audio/C/01_157.wav 1\n",
            "/gdrive/MyDrive/Audio/C/01_158.wav 1\n",
            "/gdrive/MyDrive/Audio/C/01_159.wav 1\n",
            "/gdrive/MyDrive/Audio/C/01_160.wav 1\n",
            "/gdrive/MyDrive/Audio/C/01_161.wav 1\n",
            "/gdrive/MyDrive/Audio/C/01_162.wav 1\n",
            "/gdrive/MyDrive/Audio/C/01_163.wav 1\n",
            "/gdrive/MyDrive/Audio/C/01_164.wav 1\n",
            "/gdrive/MyDrive/Audio/C/01_165.wav 1\n",
            "/gdrive/MyDrive/Audio/C/01_166.wav 1\n",
            "/gdrive/MyDrive/Audio/C/01_167.wav 1\n",
            "/gdrive/MyDrive/Audio/C/01_169.wav 1\n",
            "/gdrive/MyDrive/Audio/C/01_168.wav 1\n",
            "/gdrive/MyDrive/Audio/C/01_170.wav 1\n",
            "/gdrive/MyDrive/Audio/C/01_171.wav 1\n",
            "/gdrive/MyDrive/Audio/C/01_172.wav 1\n",
            "/gdrive/MyDrive/Audio/C/01_173.wav 1\n",
            "/gdrive/MyDrive/Audio/C/01_174.wav 1\n",
            "/gdrive/MyDrive/Audio/C/01_175.wav 1\n",
            "/gdrive/MyDrive/Audio/C/01_176.wav 1\n",
            "/gdrive/MyDrive/Audio/C/01_177.wav 1\n",
            "/gdrive/MyDrive/Audio/C/01_178.wav 1\n",
            "/gdrive/MyDrive/Audio/C/01_179.wav 1\n",
            "/gdrive/MyDrive/Audio/C/01_180.wav 1\n",
            "/gdrive/MyDrive/Audio/C/01_181.wav 1\n",
            "/gdrive/MyDrive/Audio/C/01_182.wav 1\n",
            "/gdrive/MyDrive/Audio/C/01_183.wav 1\n",
            "/gdrive/MyDrive/Audio/C/01_185.wav 1\n",
            "/gdrive/MyDrive/Audio/C/01_184.wav 1\n",
            "/gdrive/MyDrive/Audio/C/01_186.wav 1\n",
            "/gdrive/MyDrive/Audio/C/01_187.wav 1\n",
            "/gdrive/MyDrive/Audio/C/01_188.wav 1\n",
            "/gdrive/MyDrive/Audio/C/01_189.wav 1\n",
            "/gdrive/MyDrive/Audio/C/01_190.wav 1\n",
            "/gdrive/MyDrive/Audio/C/01_191.wav 1\n",
            "/gdrive/MyDrive/Audio/C/01_192.wav 1\n",
            "/gdrive/MyDrive/Audio/C/01_193.wav 1\n",
            "/gdrive/MyDrive/Audio/C/01_194.wav 1\n",
            "/gdrive/MyDrive/Audio/C/01_195.wav 1\n",
            "/gdrive/MyDrive/Audio/C/01_196.wav 1\n",
            "/gdrive/MyDrive/Audio/C/01_197.wav 1\n",
            "/gdrive/MyDrive/Audio/C/01_198.wav 1\n",
            "/gdrive/MyDrive/Audio/C/01_199.wav 1\n",
            "/gdrive/MyDrive/Audio/C/01_200.wav 1\n",
            "/gdrive/MyDrive/Audio/C/01_201.wav 1\n",
            "/gdrive/MyDrive/Audio/C/01_202.wav 1\n",
            "/gdrive/MyDrive/Audio/C/01_203.wav 1\n",
            "/gdrive/MyDrive/Audio/C/01_204.wav 1\n",
            "/gdrive/MyDrive/Audio/C/01_205.wav 1\n",
            "/gdrive/MyDrive/Audio/C/01_206.wav 1\n",
            "/gdrive/MyDrive/Audio/C/01_207.wav 1\n",
            "/gdrive/MyDrive/Audio/C/01_208.wav 1\n",
            "/gdrive/MyDrive/Audio/C/01_209.wav 1\n",
            "/gdrive/MyDrive/Audio/C/01_210.wav 1\n",
            "/gdrive/MyDrive/Audio/C/01_211.wav 1\n",
            "/gdrive/MyDrive/Audio/C/01_212.wav 1\n",
            "/gdrive/MyDrive/Audio/C/01_213.wav 1\n",
            "/gdrive/MyDrive/Audio/C/01_214.wav 1\n",
            "/gdrive/MyDrive/Audio/C/01_215.wav 1\n",
            "/gdrive/MyDrive/Audio/C/01_216.wav 1\n",
            "/gdrive/MyDrive/Audio/C/01_217.wav 1\n",
            "/gdrive/MyDrive/Audio/C/01_218.wav 1\n",
            "/gdrive/MyDrive/Audio/C/01_219.wav 1\n",
            "/gdrive/MyDrive/Audio/C/01_220.wav 1\n",
            "/gdrive/MyDrive/Audio/C/01_221.wav 1\n",
            "/gdrive/MyDrive/Audio/C/01_222.wav 1\n",
            "/gdrive/MyDrive/Audio/C/01_223.wav 1\n",
            "/gdrive/MyDrive/Audio/C/01_224.wav 1\n",
            "/gdrive/MyDrive/Audio/C/01_225.wav 1\n",
            "/gdrive/MyDrive/Audio/C/01_226.wav 1\n"
          ]
        }
      ]
    },
    {
      "cell_type": "code",
      "source": [
        "print(raw_y[980])\n",
        "IPython.display.Audio(raw_x[980], rate=SAMPLING_RATE)"
      ],
      "metadata": {
        "colab": {
          "base_uri": "https://localhost:8080/",
          "height": 92
        },
        "id": "LMyoGSYqiA2D",
        "outputId": "6dc4e52a-d2d1-49e6-9b52-fc1c279c552b"
      },
      "execution_count": null,
      "outputs": [
        {
          "output_type": "stream",
          "name": "stdout",
          "text": [
            "0\n"
          ]
        },
        {
          "output_type": "execute_result",
          "data": {
            "text/plain": [
              "<IPython.lib.display.Audio object>"
            ],
            "text/html": [
              "\n",
              "                <audio  controls=\"controls\" >\n",
              "                    <source src=\"data:audio/wav;base64,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\" type=\"audio/wav\" />\n",
              "                    Your browser does not support the audio element.\n",
              "                </audio>\n",
              "              "
            ]
          },
          "metadata": {},
          "execution_count": 36
        }
      ]
    },
    {
      "cell_type": "code",
      "source": [
        "print(raw_y[1])\n",
        "IPython.display.Audio(raw_x[1], rate=SAMPLING_RATE)"
      ],
      "metadata": {
        "colab": {
          "base_uri": "https://localhost:8080/",
          "height": 92
        },
        "id": "bjXXExOuiHcr",
        "outputId": "258b8244-3efd-4cd2-bc84-7adaa0f69628"
      },
      "execution_count": null,
      "outputs": [
        {
          "output_type": "stream",
          "name": "stdout",
          "text": [
            "1\n"
          ]
        },
        {
          "output_type": "execute_result",
          "data": {
            "text/plain": [
              "<IPython.lib.display.Audio object>"
            ],
            "text/html": [
              "\n",
              "                <audio  controls=\"controls\" >\n",
              "                    <source src=\"data:audio/wav;base64,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\" type=\"audio/wav\" />\n",
              "                    Your browser does not support the audio element.\n",
              "                </audio>\n",
              "              "
            ]
          },
          "metadata": {},
          "execution_count": 37
        }
      ]
    },
    {
      "cell_type": "code",
      "source": [
        "from collections import Counter\n",
        "Counter(raw_y)\n"
      ],
      "metadata": {
        "colab": {
          "base_uri": "https://localhost:8080/"
        },
        "id": "WY8Ro3dfdARJ",
        "outputId": "ce7b4dd9-129f-499f-db51-b1aac5985f82"
      },
      "execution_count": null,
      "outputs": [
        {
          "output_type": "execute_result",
          "data": {
            "text/plain": [
              "Counter({1: 409, 2: 420, 0: 397})"
            ]
          },
          "metadata": {},
          "execution_count": 38
        }
      ]
    },
    {
      "cell_type": "markdown",
      "source": [
        "# padding"
      ],
      "metadata": {
        "id": "M1e1eHmSNfY9"
      }
    },
    {
      "cell_type": "code",
      "source": [
        "lens = []\n",
        "for i in range(len(raw_x)):\n",
        "    lens.append(len(raw_x[i]))\n",
        "\n",
        "plt.hist(lens, bins=100)\n",
        "plt.show()"
      ],
      "metadata": {
        "colab": {
          "base_uri": "https://localhost:8080/",
          "height": 265
        },
        "id": "FsjDBDIOEVd4",
        "outputId": "6cf6f1ba-6645-4aeb-c57c-fcf03535b013"
      },
      "execution_count": null,
      "outputs": [
        {
          "output_type": "display_data",
          "data": {
            "text/plain": [
              "<Figure size 432x288 with 1 Axes>"
            ],
            "image/png": "[encoded data removed]"
          },
          "metadata": {
            "needs_background": "light"
          }
        }
      ]
    },
    {
      "cell_type": "code",
      "source": [
        "print(lens[:10])"
      ],
      "metadata": {
        "colab": {
          "base_uri": "https://localhost:8080/"
        },
        "id": "92aGHRkbkisj",
        "outputId": "54dd75fe-0cc1-43c3-84ec-c94d06108e2f"
      },
      "execution_count": null,
      "outputs": [
        {
          "output_type": "stream",
          "name": "stdout",
          "text": [
            "[9702, 10364, 9702, 13451, 13671, 12569, 12128, 11907, 12348, 12569]\n"
          ]
        }
      ]
    },
    {
      "cell_type": "code",
      "source": [
        "from tensorflow.keras.preprocessing import sequence\n",
        "\n",
        "padded_raw_x = sequence.pad_sequences(raw_x, maxlen=22050, padding='post', dtype=float)\n",
        "# 파일 길이를 똑같이 맞춤 22050 (1초로)"
      ],
      "metadata": {
        "id": "aghztZe9-1N5"
      },
      "execution_count": null,
      "outputs": []
    },
    {
      "cell_type": "code",
      "source": [
        "print(raw_y[980])\n",
        "IPython.display.Audio(raw_x[980], rate=SAMPLING_RATE)"
      ],
      "metadata": {
        "colab": {
          "base_uri": "https://localhost:8080/",
          "height": 92
        },
        "outputId": "62fb5fdf-d254-4689-beb7-39c49e2ada98",
        "id": "7mTCyMzWiVAZ"
      },
      "execution_count": null,
      "outputs": [
        {
          "output_type": "stream",
          "name": "stdout",
          "text": [
            "0\n"
          ]
        },
        {
          "output_type": "execute_result",
          "data": {
            "text/plain": [
              "<IPython.lib.display.Audio object>"
            ],
            "text/html": [
              "\n",
              "                <audio  controls=\"controls\" >\n",
              "                    <source src=\"data:audio/wav;base64,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\" type=\"audio/wav\" />\n",
              "                    Your browser does not support the audio element.\n",
              "                </audio>\n",
              "              "
            ]
          },
          "metadata": {},
          "execution_count": 42
        }
      ]
    },
    {
      "cell_type": "code",
      "source": [
        "print(raw_y[1])\n",
        "IPython.display.Audio(raw_x[1], rate=SAMPLING_RATE)"
      ],
      "metadata": {
        "colab": {
          "base_uri": "https://localhost:8080/",
          "height": 92
        },
        "outputId": "76ac75d1-52e9-4ad2-fcca-c30e116e6a3c",
        "id": "R6-jXew3iVAZ"
      },
      "execution_count": null,
      "outputs": [
        {
          "output_type": "stream",
          "name": "stdout",
          "text": [
            "1\n"
          ]
        },
        {
          "output_type": "execute_result",
          "data": {
            "text/plain": [
              "<IPython.lib.display.Audio object>"
            ],
            "text/html": [
              "\n",
              "                <audio  controls=\"controls\" >\n",
              "                    <source src=\"data:audio/wav;base64,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\" type=\"audio/wav\" />\n",
              "                    Your browser does not support the audio element.\n",
              "                </audio>\n",
              "              "
            ]
          },
          "metadata": {},
          "execution_count": 43
        }
      ]
    },
    {
      "cell_type": "code",
      "source": [
        "raw_x = np.array(padded_raw_x)\n",
        "raw_y = np.array(raw_y)\n",
        "print(raw_x.shape)  \n",
        "print(raw_y.shape)"
      ],
      "metadata": {
        "colab": {
          "base_uri": "https://localhost:8080/"
        },
        "id": "1b-zDbF--1LQ",
        "outputId": "faf3f91f-f084-4d9c-df42-3f78311db950"
      },
      "execution_count": null,
      "outputs": [
        {
          "output_type": "stream",
          "name": "stdout",
          "text": [
            "(1226, 22050)\n",
            "(1226,)\n"
          ]
        }
      ]
    },
    {
      "cell_type": "code",
      "source": [
        "print(raw_y[980])\n",
        "IPython.display.Audio(raw_x[980], rate=SAMPLING_RATE)"
      ],
      "metadata": {
        "colab": {
          "base_uri": "https://localhost:8080/",
          "height": 92
        },
        "outputId": "3ff63398-cdb7-4c88-e678-72ca893a36c1",
        "id": "kvxddiJmibQf"
      },
      "execution_count": null,
      "outputs": [
        {
          "output_type": "stream",
          "name": "stdout",
          "text": [
            "0\n"
          ]
        },
        {
          "output_type": "execute_result",
          "data": {
            "text/plain": [
              "<IPython.lib.display.Audio object>"
            ],
            "text/html": [
              "\n",
              "                <audio  controls=\"controls\" >\n",
              "                    <source src=\"data:audio/wav;base64,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\" type=\"audio/wav\" />\n",
              "                    Your browser does not support the audio element.\n",
              "                </audio>\n",
              "              "
            ]
          },
          "metadata": {},
          "execution_count": 45
        }
      ]
    },
    {
      "cell_type": "code",
      "source": [
        "print(raw_y[1])\n",
        "IPython.display.Audio(raw_x[1], rate=SAMPLING_RATE)"
      ],
      "metadata": {
        "colab": {
          "base_uri": "https://localhost:8080/",
          "height": 92
        },
        "outputId": "f851ccfc-2645-43c1-ef72-5f7f662073cc",
        "id": "o02lV35TibQg"
      },
      "execution_count": null,
      "outputs": [
        {
          "output_type": "stream",
          "name": "stdout",
          "text": [
            "1\n"
          ]
        },
        {
          "output_type": "execute_result",
          "data": {
            "text/plain": [
              "<IPython.lib.display.Audio object>"
            ],
            "text/html": [
              "\n",
              "                <audio  controls=\"controls\" >\n",
              "                    <source src=\"data:audio/wav;base64,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\" type=\"audio/wav\" />\n",
              "                    Your browser does not support the audio element.\n",
              "                </audio>\n",
              "              "
            ]
          },
          "metadata": {},
          "execution_count": 46
        }
      ]
    },
    {
      "cell_type": "markdown",
      "source": [
        "# Normalization"
      ],
      "metadata": {
        "id": "fMc7mKiONdAs"
      }
    },
    {
      "cell_type": "code",
      "source": [],
      "metadata": {
        "id": "-KNY-Pztk8uI"
      },
      "execution_count": null,
      "outputs": []
    },
    {
      "cell_type": "code",
      "source": [
        "max = np.max(raw_x)\n",
        "min = np.min(raw_x)\n",
        "print(min, max)"
      ],
      "metadata": {
        "colab": {
          "base_uri": "https://localhost:8080/"
        },
        "id": "Yb7uzqDONoSF",
        "outputId": "169d8d6c-91b4-418d-e071-71c70bfa49df"
      },
      "execution_count": null,
      "outputs": [
        {
          "output_type": "stream",
          "name": "stdout",
          "text": [
            "-1.0326271057128906 1.1331255435943604\n"
          ]
        }
      ]
    },
    {
      "cell_type": "code",
      "source": [
        "# raw_x = (raw_x - min) / (max - min)"
      ],
      "metadata": {
        "id": "xjE3MuKwNcGt"
      },
      "execution_count": null,
      "outputs": []
    },
    {
      "cell_type": "markdown",
      "source": [
        "# 2차원으로 reshape"
      ],
      "metadata": {
        "id": "T-iyrW8_N869"
      }
    },
    {
      "cell_type": "code",
      "source": [
        "print(raw_x.shape)\n",
        "raw_x = raw_x.reshape((len(raw_x),-1,1))\n",
        "print(raw_x.shape)"
      ],
      "metadata": {
        "id": "EXF8sZPYN_RL",
        "colab": {
          "base_uri": "https://localhost:8080/"
        },
        "outputId": "203acd28-d05b-4464-b2dc-f19408461a42"
      },
      "execution_count": null,
      "outputs": [
        {
          "output_type": "stream",
          "name": "stdout",
          "text": [
            "(1226, 22050)\n",
            "(1226, 22050, 1)\n"
          ]
        }
      ]
    },
    {
      "cell_type": "markdown",
      "source": [
        "# 데이터 분리\n",
        "###### train, test 데이터로 분리"
      ],
      "metadata": {
        "id": "EjXer_ucN67c"
      }
    },
    {
      "cell_type": "code",
      "source": [
        "from sklearn.model_selection import train_test_split\n",
        "\n",
        "train_x, test_x, train_y, test_y = train_test_split(raw_x, raw_y, test_size=0.2, shuffle=True)"
      ],
      "metadata": {
        "id": "Z54gJGmi-1Ig"
      },
      "execution_count": null,
      "outputs": []
    },
    {
      "cell_type": "code",
      "source": [
        "print(len(train_y))\n",
        "print(train_y[len(train_y)-1])\n",
        "IPython.display.Audio(train_x[len(train_y)-1].squeeze(), rate=SAMPLING_RATE)"
      ],
      "metadata": {
        "colab": {
          "base_uri": "https://localhost:8080/",
          "height": 110
        },
        "outputId": "6c11a3fc-a139-46c6-ad5b-d2f6a072974d",
        "id": "ar3Q1ezWinMR"
      },
      "execution_count": null,
      "outputs": [
        {
          "output_type": "stream",
          "name": "stdout",
          "text": [
            "980\n",
            "1\n"
          ]
        },
        {
          "output_type": "execute_result",
          "data": {
            "text/plain": [
              "<IPython.lib.display.Audio object>"
            ],
            "text/html": [
              "\n",
              "                <audio  controls=\"controls\" >\n",
              "                    <source src=\"data:audio/wav;base64,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\" type=\"audio/wav\" />\n",
              "                    Your browser does not support the audio element.\n",
              "                </audio>\n",
              "              "
            ]
          },
          "metadata": {},
          "execution_count": 51
        }
      ]
    },
    {
      "cell_type": "code",
      "source": [
        "print(train_y[1])\n",
        "IPython.display.Audio(train_x[1].squeeze(), rate=SAMPLING_RATE)"
      ],
      "metadata": {
        "colab": {
          "base_uri": "https://localhost:8080/",
          "height": 92
        },
        "outputId": "a0212cda-8881-4ccc-b361-513dcbf64b09",
        "id": "RFKC_o3IinMS"
      },
      "execution_count": null,
      "outputs": [
        {
          "output_type": "stream",
          "name": "stdout",
          "text": [
            "0\n"
          ]
        },
        {
          "output_type": "execute_result",
          "data": {
            "text/plain": [
              "<IPython.lib.display.Audio object>"
            ],
            "text/html": [
              "\n",
              "                <audio  controls=\"controls\" >\n",
              "                    <source src=\"data:audio/wav;base64,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\" type=\"audio/wav\" />\n",
              "                    Your browser does not support the audio element.\n",
              "                </audio>\n",
              "              "
            ]
          },
          "metadata": {},
          "execution_count": 52
        }
      ]
    },
    {
      "cell_type": "code",
      "source": [
        "print(train_x.shape)\n",
        "print(train_y.shape)\n"
      ],
      "metadata": {
        "colab": {
          "base_uri": "https://localhost:8080/"
        },
        "id": "9DF-X34ifJgr",
        "outputId": "b6156f7c-4f58-4fd2-f1bb-ee03ba2dd48a"
      },
      "execution_count": null,
      "outputs": [
        {
          "output_type": "stream",
          "name": "stdout",
          "text": [
            "(980, 22050, 1)\n",
            "(980,)\n"
          ]
        }
      ]
    },
    {
      "cell_type": "code",
      "source": [
        "# loss graph를 학습하면서 실시간으로 그리는 방법\n",
        "\n",
        "from IPython.display import clear_output\n",
        "from tensorflow.keras.callbacks import Callback\n",
        "\n",
        "class PlotLosses(Callback):\n",
        "\n",
        "  def on_train_begin(self, logs={}):\n",
        "    self.epochs = []\n",
        "    self.losses = []\n",
        "    self.val_losses = []\n",
        "    self.logs = []\n",
        "    self.fig = plt.figure()\n",
        "\n",
        "\n",
        "  def on_epoch_end(self, epoch, logs={}):\n",
        "\n",
        "    self.epochs.append(epoch)\n",
        "    self.losses.append(logs.get('loss'))\n",
        "    self.val_losses.append(logs.get('val_loss'))\n",
        "\n",
        "    clear_output(wait=True)\n",
        "    plt.plot(self.epochs, self.losses, label=\"loss\")\n",
        "    plt.plot(self.epochs, self.val_losses, label=\"val_loss\")\n",
        "    plt.legend()\n",
        "    plt.show();\n",
        "    print(\"epochs = \", self.epochs[-1], \"loss = \", self.losses[-1], \", val_loss = \", self.val_losses[-1])"
      ],
      "metadata": {
        "id": "xULPFYqYA4Pv"
      },
      "execution_count": null,
      "outputs": []
    },
    {
      "cell_type": "markdown",
      "source": [
        "# 모델 생성"
      ],
      "metadata": {
        "id": "If9xsmhjPohA"
      }
    },
    {
      "cell_type": "code",
      "source": [
        "from tensorflow import keras\n",
        "from tensorflow.keras.layers import Dense, RepeatVector, Flatten, Input, Activation\n",
        "from tensorflow.keras.layers import Bidirectional, LSTM, GRU, Conv1D, MaxPooling1D, AveragePooling1D, Add, MaxPool1D\n",
        "from tensorflow.keras.layers import Dropout, GaussianNoise, BatchNormalization\n",
        "from tensorflow.keras.regularizers import l1, l2, L1L2\n",
        "\n",
        "input_shape = train_x.shape[1:]\n",
        "num_classes = 3  # C 폴더 [0: 부모, 1:까치, 2:의자]\n",
        "\n",
        "model = keras.Sequential()\n",
        "model.add(Input(input_shape))\n",
        "\n",
        "model.add(Conv1D(32, 27, padding=\"same\", activation=\"relu\"))  \n",
        "model.add(Conv1D(32, 27, padding=\"same\", activation=\"relu\")) \n",
        "model.add(MaxPooling1D())\n",
        "model.add(BatchNormalization())\n",
        "\n",
        "model.add(Conv1D(64, 27, padding=\"same\", activation=\"relu\"))  \n",
        "model.add(Conv1D(64, 27, padding=\"same\", activation=\"relu\"))  \n",
        "model.add(MaxPooling1D())\n",
        "model.add(BatchNormalization())\n",
        "\n",
        "model.add(Conv1D(128, 27, padding=\"same\", activation=\"relu\"))  \n",
        "model.add(Conv1D(128, 27, padding=\"same\", activation=\"relu\"))  \n",
        "model.add(Conv1D(128, 27, padding=\"same\", activation=\"relu\"))  \n",
        "model.add(MaxPooling1D())\n",
        "model.add(BatchNormalization())\n",
        "\n",
        "model.add(Conv1D(256, 27, padding=\"same\", activation=\"relu\"))  \n",
        "model.add(Conv1D(256, 27, padding=\"same\", activation=\"relu\"))  \n",
        "model.add(Conv1D(256, 27, padding=\"same\", activation=\"relu\"))  \n",
        "model.add(MaxPooling1D())\n",
        "model.add(BatchNormalization())\n",
        "\n",
        "model.add(Conv1D(256, 27, padding=\"same\", activation=\"relu\"))  \n",
        "model.add(Conv1D(256, 27, padding=\"same\", activation=\"relu\"))  \n",
        "model.add(Conv1D(256, 27, padding=\"same\", activation=\"relu\"))  \n",
        "model.add(MaxPooling1D())\n",
        "model.add(BatchNormalization())\n",
        "\n",
        "model.add(Conv1D(256, 27, padding=\"same\", activation=\"relu\"))  \n",
        "model.add(Conv1D(256, 27, padding=\"same\", activation=\"relu\"))  \n",
        "model.add(Conv1D(256, 27, padding=\"same\", activation=\"relu\"))  \n",
        "model.add(MaxPooling1D())\n",
        "model.add(Dropout(0.3))\n",
        "\n",
        "model.add(Flatten())\n",
        "model.add(Dense(256, activation=\"relu\")) #, kernel_regularizer=l2()))\n",
        "model.add(BatchNormalization())\n",
        "\n",
        "model.add(Dense(num_classes, activation=\"softmax\"))  \n",
        "\n",
        "from tensorflow.keras.optimizers import Adam, Adadelta, SGD\n",
        "optimizer = Adam(learning_rate=0.001*0.1, decay=0.01) \n",
        "\n",
        "model.compile(loss=\"sparse_categorical_crossentropy\", optimizer=optimizer, metrics=[\"acc\"])\n",
        "model.summary()\n"
      ],
      "metadata": {
        "colab": {
          "base_uri": "https://localhost:8080/"
        },
        "id": "pT7VVvOygvXA",
        "outputId": "fe77109e-2b7b-4731-d387-4c3e09e687e6"
      },
      "execution_count": null,
      "outputs": [
        {
          "output_type": "stream",
          "name": "stdout",
          "text": [
            "Model: \"sequential_1\"\n",
            "_________________________________________________________________\n",
            " Layer (type)                Output Shape              Param #   \n",
            "=================================================================\n",
            " conv1d_16 (Conv1D)          (None, 22050, 32)         896       \n",
            "                                                                 \n",
            " conv1d_17 (Conv1D)          (None, 22050, 32)         27680     \n",
            "                                                                 \n",
            " max_pooling1d_6 (MaxPooling  (None, 11025, 32)        0         \n",
            " 1D)                                                             \n",
            "                                                                 \n",
            " batch_normalization_7 (Batc  (None, 11025, 32)        128       \n",
            " hNormalization)                                                 \n",
            "                                                                 \n",
            " conv1d_18 (Conv1D)          (None, 11025, 64)         55360     \n",
            "                                                                 \n",
            " conv1d_19 (Conv1D)          (None, 11025, 64)         110656    \n",
            "                                                                 \n",
            " max_pooling1d_7 (MaxPooling  (None, 5512, 64)         0         \n",
            " 1D)                                                             \n",
            "                                                                 \n",
            " batch_normalization_8 (Batc  (None, 5512, 64)         256       \n",
            " hNormalization)                                                 \n",
            "                                                                 \n",
            " conv1d_20 (Conv1D)          (None, 5512, 128)         221312    \n",
            "                                                                 \n",
            " conv1d_21 (Conv1D)          (None, 5512, 128)         442496    \n",
            "                                                                 \n",
            " conv1d_22 (Conv1D)          (None, 5512, 128)         442496    \n",
            "                                                                 \n",
            " max_pooling1d_8 (MaxPooling  (None, 2756, 128)        0         \n",
            " 1D)                                                             \n",
            "                                                                 \n",
            " batch_normalization_9 (Batc  (None, 2756, 128)        512       \n",
            " hNormalization)                                                 \n",
            "                                                                 \n",
            " conv1d_23 (Conv1D)          (None, 2756, 256)         884992    \n",
            "                                                                 \n",
            " conv1d_24 (Conv1D)          (None, 2756, 256)         1769728   \n",
            "                                                                 \n",
            " conv1d_25 (Conv1D)          (None, 2756, 256)         1769728   \n",
            "                                                                 \n",
            " max_pooling1d_9 (MaxPooling  (None, 1378, 256)        0         \n",
            " 1D)                                                             \n",
            "                                                                 \n",
            " batch_normalization_10 (Bat  (None, 1378, 256)        1024      \n",
            " chNormalization)                                                \n",
            "                                                                 \n",
            " conv1d_26 (Conv1D)          (None, 1378, 256)         1769728   \n",
            "                                                                 \n",
            " conv1d_27 (Conv1D)          (None, 1378, 256)         1769728   \n",
            "                                                                 \n",
            " conv1d_28 (Conv1D)          (None, 1378, 256)         1769728   \n",
            "                                                                 \n",
            " max_pooling1d_10 (MaxPoolin  (None, 689, 256)         0         \n",
            " g1D)                                                            \n",
            "                                                                 \n",
            " batch_normalization_11 (Bat  (None, 689, 256)         1024      \n",
            " chNormalization)                                                \n",
            "                                                                 \n",
            " conv1d_29 (Conv1D)          (None, 689, 256)          1769728   \n",
            "                                                                 \n",
            " conv1d_30 (Conv1D)          (None, 689, 256)          1769728   \n",
            "                                                                 \n",
            " conv1d_31 (Conv1D)          (None, 689, 256)          1769728   \n",
            "                                                                 \n",
            " max_pooling1d_11 (MaxPoolin  (None, 344, 256)         0         \n",
            " g1D)                                                            \n",
            "                                                                 \n",
            " dropout_1 (Dropout)         (None, 344, 256)          0         \n",
            "                                                                 \n",
            " flatten_1 (Flatten)         (None, 88064)             0         \n",
            "                                                                 \n",
            " dense_2 (Dense)             (None, 256)               22544640  \n",
            "                                                                 \n",
            " batch_normalization_12 (Bat  (None, 256)              1024      \n",
            " chNormalization)                                                \n",
            "                                                                 \n",
            " dense_3 (Dense)             (None, 3)                 771       \n",
            "                                                                 \n",
            "=================================================================\n",
            "Total params: 38,893,091\n",
            "Trainable params: 38,891,107\n",
            "Non-trainable params: 1,984\n",
            "_________________________________________________________________\n"
          ]
        }
      ]
    },
    {
      "cell_type": "markdown",
      "source": [
        "# 학습"
      ],
      "metadata": {
        "id": "OyoGnDtbP8aC"
      }
    },
    {
      "cell_type": "code",
      "source": [
        "plot_losses = PlotLosses()\n",
        "history = model.fit(train_x, train_y, epochs=100, verbose=1, validation_split=0.1, batch_size=32,\n",
        "                    callbacks=[plot_losses])"
      ],
      "metadata": {
        "colab": {
          "base_uri": "https://localhost:8080/",
          "height": 302
        },
        "id": "ksVvwmtJjQ9S",
        "outputId": "5bc9df28-6421-456d-ce08-ddf0358289c0"
      },
      "execution_count": null,
      "outputs": [
        {
          "output_type": "display_data",
          "data": {
            "text/plain": [
              "<Figure size 432x288 with 1 Axes>"
            ],
            "image/png": "[encoded data removed]"
          },
          "metadata": {
            "needs_background": "light"
          }
        },
        {
          "output_type": "stream",
          "name": "stdout",
          "text": [
            "epochs =  99 loss =  0.0003833191585727036 , val_loss =  0.04160868376493454\n",
            "\b\b\b\b\b\b\b\b\b\b\b\b\b\b\b\b\b\b\b\b\b\b\b\b\b\b\b\b\b\b\b\b\b\b\b\b\b\b\b\b\b\b\b\b\b\b\b\b\b\b\b\b\b\b\b\b\b\b\b\b\b\b\b\b\b\b\b\b\b\b\b\b\b\b\b\b\b\b\b\b\b\r28/28 [==============================] - 16s 577ms/step - loss: 3.8332e-04 - acc: 1.0000 - val_loss: 0.0416 - val_acc: 0.9898\n"
          ]
        }
      ]
    },
    {
      "cell_type": "markdown",
      "source": [
        "# 평가 & 예측"
      ],
      "metadata": {
        "id": "plHWLtFUQYFD"
      }
    },
    {
      "cell_type": "code",
      "source": [
        "loss, acc = model.evaluate(test_x, test_y)\n",
        "print(\"loss=\", loss)\n",
        "print(\"acc=\", acc)\n",
        "\n",
        "\n",
        "y_ = model.predict(test_x)\n",
        "predicted = np.argmax(y_, axis=-1)\n",
        "plt.plot(test_y[:30], 'o')\n",
        "plt.plot(predicted[:30], '.')\n",
        "plt.show()\n"
      ],
      "metadata": {
        "id": "8lHjjByavmmo",
        "colab": {
          "base_uri": "https://localhost:8080/",
          "height": 320
        },
        "outputId": "04d2d16a-3008-44f4-e839-26c35fff397d"
      },
      "execution_count": null,
      "outputs": [
        {
          "output_type": "stream",
          "name": "stdout",
          "text": [
            "8/8 [==============================] - 1s 134ms/step - loss: 0.0737 - acc: 0.9919\n",
            "loss= 0.07368122786283493\n",
            "acc= 0.9918699264526367\n"
          ]
        },
        {
          "output_type": "display_data",
          "data": {
            "text/plain": [
              "<Figure size 432x288 with 1 Axes>"
            ],
            "image/png": "[encoded data removed]"
          },
          "metadata": {
            "needs_background": "light"
          }
        }
      ]
    },
    {
      "cell_type": "markdown",
      "source": [
        "# 모델 저장"
      ],
      "metadata": {
        "id": "6aATBIN2QgpO"
      }
    },
    {
      "cell_type": "code",
      "source": [
        "model.save('../gdrive/MyDrive/Audio/model/ganada_C.h5')"
      ],
      "metadata": {
        "id": "dFjSSA8-p1oV"
      },
      "execution_count": null,
      "outputs": []
    },
    {
      "cell_type": "code",
      "source": [],
      "metadata": {
        "id": "uZE3GSegUxVG"
      },
      "execution_count": null,
      "outputs": []
    }
  ]
}
