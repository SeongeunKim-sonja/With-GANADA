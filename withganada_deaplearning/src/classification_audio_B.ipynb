{
  "nbformat": 4,
  "nbformat_minor": 0,
  "metadata": {
    "colab": {
      "provenance": [],
      "collapsed_sections": [],
      "machine_shape": "hm",
      "include_colab_link": true
    },
    "kernelspec": {
      "name": "python3",
      "display_name": "Python 3"
    },
    "language_info": {
      "name": "python"
    },
    "accelerator": "GPU",
    "gpuClass": "standard"
  },
  "cells": [
    {
      "cell_type": "markdown",
      "metadata": {
        "id": "view-in-github",
        "colab_type": "text"
      },
      "source": [
        "<a href=\"https://colab.research.google.com/github/bomij33/With-GANADA/blob/bomi/code/audio_classification_B.ipynb\" target=\"_parent\"><img src=\"https://colab.research.google.com/assets/colab-badge.svg\" alt=\"Open In Colab\"/></a>"
      ]
    },
    {
      "cell_type": "markdown",
      "source": [
        "# Tensorflow 버전 다운로드 2.8.0"
      ],
      "metadata": {
        "id": "PA6S3Wm8D4D4"
      }
    },
    {
      "cell_type": "code",
      "source": [
        "# import tensorflow as tf\n",
        "# print(tf.__version__)"
      ],
      "metadata": {
        "colab": {
          "base_uri": "https://localhost:8080/"
        },
        "id": "b6FxXRPnT828",
        "outputId": "f419cad7-dbd7-4804-9f44-858828cea07d"
      },
      "execution_count": null,
      "outputs": [
        {
          "output_type": "stream",
          "name": "stdout",
          "text": [
            "2.8.2\n"
          ]
        }
      ]
    },
    {
      "cell_type": "code",
      "source": [
        "# !pip uninstall tensorflow"
      ],
      "metadata": {
        "colab": {
          "base_uri": "https://localhost:8080/"
        },
        "id": "KU2qUfwbxImC",
        "outputId": "c91c5048-981b-4f01-8d93-8a028eae3efa"
      },
      "execution_count": null,
      "outputs": [
        {
          "output_type": "stream",
          "name": "stdout",
          "text": [
            "Found existing installation: tensorflow 2.8.2+zzzcolab20220719082949\n",
            "Uninstalling tensorflow-2.8.2+zzzcolab20220719082949:\n",
            "  Would remove:\n",
            "    /usr/local/bin/estimator_ckpt_converter\n",
            "    /usr/local/bin/import_pb_to_tensorboard\n",
            "    /usr/local/bin/saved_model_cli\n",
            "    /usr/local/bin/tensorboard\n",
            "    /usr/local/bin/tf_upgrade_v2\n",
            "    /usr/local/bin/tflite_convert\n",
            "    /usr/local/bin/toco\n",
            "    /usr/local/bin/toco_from_protos\n",
            "    /usr/local/lib/python3.7/dist-packages/tensorflow-2.8.2+zzzcolab20220719082949.dist-info/*\n",
            "    /usr/local/lib/python3.7/dist-packages/tensorflow/*\n",
            "Proceed (y/n)? y\n",
            "  Successfully uninstalled tensorflow-2.8.2+zzzcolab20220719082949\n"
          ]
        }
      ]
    },
    {
      "cell_type": "code",
      "source": [
        "# !pip install tensorflow==2.8.0"
      ],
      "metadata": {
        "colab": {
          "base_uri": "https://localhost:8080/",
          "height": 1000
        },
        "id": "2Tg_70W8xSMY",
        "outputId": "a41364c9-0bc7-463d-9f8a-6e4a1666cdf8"
      },
      "execution_count": null,
      "outputs": [
        {
          "output_type": "stream",
          "name": "stdout",
          "text": [
            "Looking in indexes: https://pypi.org/simple, https://us-python.pkg.dev/colab-wheels/public/simple/\n",
            "Collecting tensorflow==2.8.0\n",
            "  Downloading https://us-python.pkg.dev/colab-wheels/public/tensorflow/tensorflow-2.8.0%2Bzzzcolab20220506162203-cp37-cp37m-linux_x86_64.whl (668.3 MB)\n",
            "\u001b[K     |████████████████████████████████| 668.3 MB 17 kB/s \n",
            "\u001b[?25hRequirement already satisfied: typing-extensions>=3.6.6 in /usr/local/lib/python3.7/dist-packages (from tensorflow==2.8.0) (4.1.1)\n",
            "Requirement already satisfied: six>=1.12.0 in /usr/local/lib/python3.7/dist-packages (from tensorflow==2.8.0) (1.15.0)\n",
            "Requirement already satisfied: google-pasta>=0.1.1 in /usr/local/lib/python3.7/dist-packages (from tensorflow==2.8.0) (0.2.0)\n",
            "Requirement already satisfied: termcolor>=1.1.0 in /usr/local/lib/python3.7/dist-packages (from tensorflow==2.8.0) (1.1.0)\n",
            "Requirement already satisfied: keras<2.9,>=2.8.0rc0 in /usr/local/lib/python3.7/dist-packages (from tensorflow==2.8.0) (2.8.0)\n",
            "Requirement already satisfied: numpy>=1.20 in /usr/local/lib/python3.7/dist-packages (from tensorflow==2.8.0) (1.21.6)\n",
            "Requirement already satisfied: keras-preprocessing>=1.1.1 in /usr/local/lib/python3.7/dist-packages (from tensorflow==2.8.0) (1.1.2)\n",
            "Requirement already satisfied: setuptools in /usr/local/lib/python3.7/dist-packages (from tensorflow==2.8.0) (57.4.0)\n",
            "Requirement already satisfied: flatbuffers>=1.12 in /usr/local/lib/python3.7/dist-packages (from tensorflow==2.8.0) (2.0)\n",
            "Requirement already satisfied: wrapt>=1.11.0 in /usr/local/lib/python3.7/dist-packages (from tensorflow==2.8.0) (1.14.1)\n",
            "Requirement already satisfied: opt-einsum>=2.3.2 in /usr/local/lib/python3.7/dist-packages (from tensorflow==2.8.0) (3.3.0)\n",
            "Requirement already satisfied: gast>=0.2.1 in /usr/local/lib/python3.7/dist-packages (from tensorflow==2.8.0) (0.5.3)\n",
            "Requirement already satisfied: tensorflow-io-gcs-filesystem>=0.23.1 in /usr/local/lib/python3.7/dist-packages (from tensorflow==2.8.0) (0.26.0)\n",
            "Requirement already satisfied: tensorboard<2.9,>=2.8 in /usr/local/lib/python3.7/dist-packages (from tensorflow==2.8.0) (2.8.0)\n",
            "Requirement already satisfied: astunparse>=1.6.0 in /usr/local/lib/python3.7/dist-packages (from tensorflow==2.8.0) (1.6.3)\n",
            "Collecting tf-estimator-nightly==2.8.0.dev2021122109\n",
            "  Downloading tf_estimator_nightly-2.8.0.dev2021122109-py2.py3-none-any.whl (462 kB)\n",
            "\u001b[K     |████████████████████████████████| 462 kB 4.3 MB/s \n",
            "\u001b[?25hRequirement already satisfied: absl-py>=0.4.0 in /usr/local/lib/python3.7/dist-packages (from tensorflow==2.8.0) (1.2.0)\n",
            "Requirement already satisfied: grpcio<2.0,>=1.24.3 in /usr/local/lib/python3.7/dist-packages (from tensorflow==2.8.0) (1.47.0)\n",
            "Requirement already satisfied: h5py>=2.9.0 in /usr/local/lib/python3.7/dist-packages (from tensorflow==2.8.0) (3.1.0)\n",
            "Requirement already satisfied: protobuf>=3.9.2 in /usr/local/lib/python3.7/dist-packages (from tensorflow==2.8.0) (3.17.3)\n",
            "Requirement already satisfied: libclang>=9.0.1 in /usr/local/lib/python3.7/dist-packages (from tensorflow==2.8.0) (14.0.6)\n",
            "Requirement already satisfied: wheel<1.0,>=0.23.0 in /usr/local/lib/python3.7/dist-packages (from astunparse>=1.6.0->tensorflow==2.8.0) (0.37.1)\n",
            "Requirement already satisfied: cached-property in /usr/local/lib/python3.7/dist-packages (from h5py>=2.9.0->tensorflow==2.8.0) (1.5.2)\n",
            "Requirement already satisfied: google-auth-oauthlib<0.5,>=0.4.1 in /usr/local/lib/python3.7/dist-packages (from tensorboard<2.9,>=2.8->tensorflow==2.8.0) (0.4.6)\n",
            "Requirement already satisfied: tensorboard-plugin-wit>=1.6.0 in /usr/local/lib/python3.7/dist-packages (from tensorboard<2.9,>=2.8->tensorflow==2.8.0) (1.8.1)\n",
            "Requirement already satisfied: requests<3,>=2.21.0 in /usr/local/lib/python3.7/dist-packages (from tensorboard<2.9,>=2.8->tensorflow==2.8.0) (2.23.0)\n",
            "Requirement already satisfied: tensorboard-data-server<0.7.0,>=0.6.0 in /usr/local/lib/python3.7/dist-packages (from tensorboard<2.9,>=2.8->tensorflow==2.8.0) (0.6.1)\n",
            "Requirement already satisfied: markdown>=2.6.8 in /usr/local/lib/python3.7/dist-packages (from tensorboard<2.9,>=2.8->tensorflow==2.8.0) (3.4.1)\n",
            "Requirement already satisfied: google-auth<3,>=1.6.3 in /usr/local/lib/python3.7/dist-packages (from tensorboard<2.9,>=2.8->tensorflow==2.8.0) (1.35.0)\n",
            "Requirement already satisfied: werkzeug>=0.11.15 in /usr/local/lib/python3.7/dist-packages (from tensorboard<2.9,>=2.8->tensorflow==2.8.0) (1.0.1)\n",
            "Requirement already satisfied: rsa<5,>=3.1.4 in /usr/local/lib/python3.7/dist-packages (from google-auth<3,>=1.6.3->tensorboard<2.9,>=2.8->tensorflow==2.8.0) (4.9)\n",
            "Requirement already satisfied: pyasn1-modules>=0.2.1 in /usr/local/lib/python3.7/dist-packages (from google-auth<3,>=1.6.3->tensorboard<2.9,>=2.8->tensorflow==2.8.0) (0.2.8)\n",
            "Requirement already satisfied: cachetools<5.0,>=2.0.0 in /usr/local/lib/python3.7/dist-packages (from google-auth<3,>=1.6.3->tensorboard<2.9,>=2.8->tensorflow==2.8.0) (4.2.4)\n",
            "Requirement already satisfied: requests-oauthlib>=0.7.0 in /usr/local/lib/python3.7/dist-packages (from google-auth-oauthlib<0.5,>=0.4.1->tensorboard<2.9,>=2.8->tensorflow==2.8.0) (1.3.1)\n",
            "Requirement already satisfied: importlib-metadata>=4.4 in /usr/local/lib/python3.7/dist-packages (from markdown>=2.6.8->tensorboard<2.9,>=2.8->tensorflow==2.8.0) (4.12.0)\n",
            "Requirement already satisfied: zipp>=0.5 in /usr/local/lib/python3.7/dist-packages (from importlib-metadata>=4.4->markdown>=2.6.8->tensorboard<2.9,>=2.8->tensorflow==2.8.0) (3.8.1)\n",
            "Requirement already satisfied: pyasn1<0.5.0,>=0.4.6 in /usr/local/lib/python3.7/dist-packages (from pyasn1-modules>=0.2.1->google-auth<3,>=1.6.3->tensorboard<2.9,>=2.8->tensorflow==2.8.0) (0.4.8)\n",
            "Requirement already satisfied: urllib3!=1.25.0,!=1.25.1,<1.26,>=1.21.1 in /usr/local/lib/python3.7/dist-packages (from requests<3,>=2.21.0->tensorboard<2.9,>=2.8->tensorflow==2.8.0) (1.24.3)\n",
            "Requirement already satisfied: certifi>=2017.4.17 in /usr/local/lib/python3.7/dist-packages (from requests<3,>=2.21.0->tensorboard<2.9,>=2.8->tensorflow==2.8.0) (2022.6.15)\n",
            "Requirement already satisfied: chardet<4,>=3.0.2 in /usr/local/lib/python3.7/dist-packages (from requests<3,>=2.21.0->tensorboard<2.9,>=2.8->tensorflow==2.8.0) (3.0.4)\n",
            "Requirement already satisfied: idna<3,>=2.5 in /usr/local/lib/python3.7/dist-packages (from requests<3,>=2.21.0->tensorboard<2.9,>=2.8->tensorflow==2.8.0) (2.10)\n",
            "Requirement already satisfied: oauthlib>=3.0.0 in /usr/local/lib/python3.7/dist-packages (from requests-oauthlib>=0.7.0->google-auth-oauthlib<0.5,>=0.4.1->tensorboard<2.9,>=2.8->tensorflow==2.8.0) (3.2.0)\n",
            "Installing collected packages: tf-estimator-nightly, tensorflow\n",
            "Successfully installed tensorflow-2.8.0+zzzcolab20220506162203 tf-estimator-nightly-2.8.0.dev2021122109\n"
          ]
        },
        {
          "output_type": "display_data",
          "data": {
            "application/vnd.colab-display-data+json": {
              "pip_warning": {
                "packages": [
                  "tensorflow"
                ]
              }
            }
          },
          "metadata": {}
        }
      ]
    },
    {
      "cell_type": "code",
      "source": [
        "# restart 후 확인\n",
        "# import tensorflow as tf\n",
        "# print(tf.__version__)"
      ],
      "metadata": {
        "colab": {
          "base_uri": "https://localhost:8080/"
        },
        "id": "h7DPpjeyxifv",
        "outputId": "d71357e6-2df1-4f03-f99f-7928b7778a78"
      },
      "execution_count": null,
      "outputs": [
        {
          "output_type": "stream",
          "name": "stdout",
          "text": [
            "2.8.2\n"
          ]
        }
      ]
    },
    {
      "cell_type": "markdown",
      "source": [
        "# 데이터 로딩"
      ],
      "metadata": {
        "id": "633sPckREDYg"
      }
    },
    {
      "cell_type": "code",
      "source": [
        "from google.colab import drive\n",
        "drive.mount('/gdrive')"
      ],
      "metadata": {
        "id": "KxyFkVYcdqlJ",
        "colab": {
          "base_uri": "https://localhost:8080/"
        },
        "outputId": "bb0277fe-c6a4-4885-f337-53375828287e"
      },
      "execution_count": 1,
      "outputs": [
        {
          "output_type": "stream",
          "name": "stdout",
          "text": [
            "Mounted at /gdrive\n"
          ]
        }
      ]
    },
    {
      "cell_type": "code",
      "source": [
        "import pandas as pd\n",
        "import numpy as np\n",
        "import matplotlib.pyplot as plt"
      ],
      "metadata": {
        "id": "mG4zvhT7ES63"
      },
      "execution_count": 2,
      "outputs": []
    },
    {
      "cell_type": "code",
      "source": [
        "import IPython\n",
        "import librosa\n",
        "SAMPLING_RATE = 22050"
      ],
      "metadata": {
        "id": "nH0sWXDSyeSc"
      },
      "execution_count": 3,
      "outputs": []
    },
    {
      "cell_type": "code",
      "source": [
        "import glob\n",
        "\n",
        "file_list = glob.glob(\"/gdrive/MyDrive/Audio/B/*.wav\")\n",
        "print(len(file_list))\n",
        "print(file_list[:3]) "
      ],
      "metadata": {
        "colab": {
          "base_uri": "https://localhost:8080/"
        },
        "id": "8HVbzOwCGAUQ",
        "outputId": "61b8df07-3d0b-4cad-f42b-ddaf3f2f40cb"
      },
      "execution_count": 4,
      "outputs": [
        {
          "output_type": "stream",
          "name": "stdout",
          "text": [
            "1153\n",
            "['/gdrive/MyDrive/Audio/B/00_153.wav', '/gdrive/MyDrive/Audio/B/00_154.wav', '/gdrive/MyDrive/Audio/B/00_155.wav']\n"
          ]
        }
      ]
    },
    {
      "cell_type": "code",
      "source": [
        "def load_wav(file_name):\n",
        "    data, _ = librosa.load(file_name, sr=SAMPLING_RATE)\n",
        "    return data\n",
        "\n",
        "raw_x = [] # data\n",
        "raw_y = [] # label\n",
        "for file_name in file_list:\n",
        "    label = int(file_name.split(\"/\")[-1].split(\"_\")[0])  # 파일명을 /로 구분하여 스필릿, 다시 _로 스플릿\n",
        "    # label = file_name.split(\"/\")[-1].split(\"_\")[0]\n",
        "\n",
        "    # label 은 파일명의 첫 3글자만 ex) A00\n",
        "    print(file_name, label)\n",
        "    data = load_wav(file_name)\n",
        "    raw_x.append(data)\n",
        "    raw_y.append(label)\n"
      ],
      "metadata": {
        "colab": {
          "base_uri": "https://localhost:8080/"
        },
        "id": "Aumki802EVg5",
        "outputId": "596b2c78-bf97-4a37-8fea-9ea8dc6ca56f"
      },
      "execution_count": 5,
      "outputs": [
        {
          "output_type": "stream",
          "name": "stdout",
          "text": [
            "/gdrive/MyDrive/Audio/B/00_153.wav 0\n",
            "/gdrive/MyDrive/Audio/B/00_154.wav 0\n",
            "/gdrive/MyDrive/Audio/B/00_155.wav 0\n",
            "/gdrive/MyDrive/Audio/B/00_156.wav 0\n",
            "/gdrive/MyDrive/Audio/B/00_157.wav 0\n",
            "/gdrive/MyDrive/Audio/B/00_158.wav 0\n",
            "/gdrive/MyDrive/Audio/B/00_159.wav 0\n",
            "/gdrive/MyDrive/Audio/B/00_160.wav 0\n",
            "/gdrive/MyDrive/Audio/B/00_161.wav 0\n",
            "/gdrive/MyDrive/Audio/B/00_162.wav 0\n",
            "/gdrive/MyDrive/Audio/B/00_163.wav 0\n",
            "/gdrive/MyDrive/Audio/B/00_164.wav 0\n",
            "/gdrive/MyDrive/Audio/B/00_165.wav 0\n",
            "/gdrive/MyDrive/Audio/B/00_166.wav 0\n",
            "/gdrive/MyDrive/Audio/B/00_167.wav 0\n",
            "/gdrive/MyDrive/Audio/B/00_168.wav 0\n",
            "/gdrive/MyDrive/Audio/B/00_169.wav 0\n",
            "/gdrive/MyDrive/Audio/B/00_170.wav 0\n",
            "/gdrive/MyDrive/Audio/B/00_171.wav 0\n",
            "/gdrive/MyDrive/Audio/B/00_172.wav 0\n",
            "/gdrive/MyDrive/Audio/B/00_173.wav 0\n",
            "/gdrive/MyDrive/Audio/B/00_174.wav 0\n",
            "/gdrive/MyDrive/Audio/B/00_175.wav 0\n",
            "/gdrive/MyDrive/Audio/B/00_176.wav 0\n",
            "/gdrive/MyDrive/Audio/B/00_177.wav 0\n",
            "/gdrive/MyDrive/Audio/B/00_178.wav 0\n",
            "/gdrive/MyDrive/Audio/B/00_179.wav 0\n",
            "/gdrive/MyDrive/Audio/B/00_180.wav 0\n",
            "/gdrive/MyDrive/Audio/B/00_181.wav 0\n",
            "/gdrive/MyDrive/Audio/B/00_182.wav 0\n",
            "/gdrive/MyDrive/Audio/B/00_183.wav 0\n",
            "/gdrive/MyDrive/Audio/B/00_184.wav 0\n",
            "/gdrive/MyDrive/Audio/B/00_185.wav 0\n",
            "/gdrive/MyDrive/Audio/B/00_186.wav 0\n",
            "/gdrive/MyDrive/Audio/B/00_187.wav 0\n",
            "/gdrive/MyDrive/Audio/B/00_188.wav 0\n",
            "/gdrive/MyDrive/Audio/B/00_189.wav 0\n",
            "/gdrive/MyDrive/Audio/B/00_190.wav 0\n",
            "/gdrive/MyDrive/Audio/B/00_191.wav 0\n",
            "/gdrive/MyDrive/Audio/B/00_192.wav 0\n",
            "/gdrive/MyDrive/Audio/B/00_193.wav 0\n",
            "/gdrive/MyDrive/Audio/B/00_194.wav 0\n",
            "/gdrive/MyDrive/Audio/B/00_195.wav 0\n",
            "/gdrive/MyDrive/Audio/B/00_196.wav 0\n",
            "/gdrive/MyDrive/Audio/B/00_197.wav 0\n",
            "/gdrive/MyDrive/Audio/B/00_198.wav 0\n",
            "/gdrive/MyDrive/Audio/B/00_199.wav 0\n",
            "/gdrive/MyDrive/Audio/B/00_200.wav 0\n",
            "/gdrive/MyDrive/Audio/B/00_201.wav 0\n",
            "/gdrive/MyDrive/Audio/B/00_202.wav 0\n",
            "/gdrive/MyDrive/Audio/B/00_203.wav 0\n",
            "/gdrive/MyDrive/Audio/B/00_204.wav 0\n",
            "/gdrive/MyDrive/Audio/B/00_205.wav 0\n",
            "/gdrive/MyDrive/Audio/B/00_206.wav 0\n",
            "/gdrive/MyDrive/Audio/B/00_207.wav 0\n",
            "/gdrive/MyDrive/Audio/B/00_208.wav 0\n",
            "/gdrive/MyDrive/Audio/B/00_209.wav 0\n",
            "/gdrive/MyDrive/Audio/B/00_210.wav 0\n",
            "/gdrive/MyDrive/Audio/B/00_211.wav 0\n",
            "/gdrive/MyDrive/Audio/B/00_212.wav 0\n",
            "/gdrive/MyDrive/Audio/B/00_213.wav 0\n",
            "/gdrive/MyDrive/Audio/B/00_214.wav 0\n",
            "/gdrive/MyDrive/Audio/B/00_215.wav 0\n",
            "/gdrive/MyDrive/Audio/B/00_216.wav 0\n",
            "/gdrive/MyDrive/Audio/B/00_217.wav 0\n",
            "/gdrive/MyDrive/Audio/B/00_218.wav 0\n",
            "/gdrive/MyDrive/Audio/B/00_219.wav 0\n",
            "/gdrive/MyDrive/Audio/B/00_220.wav 0\n",
            "/gdrive/MyDrive/Audio/B/00_221.wav 0\n",
            "/gdrive/MyDrive/Audio/B/00_222.wav 0\n",
            "/gdrive/MyDrive/Audio/B/00_223.wav 0\n",
            "/gdrive/MyDrive/Audio/B/00_224.wav 0\n",
            "/gdrive/MyDrive/Audio/B/00_225.wav 0\n",
            "/gdrive/MyDrive/Audio/B/00_226.wav 0\n",
            "/gdrive/MyDrive/Audio/B/00_227.wav 0\n",
            "/gdrive/MyDrive/Audio/B/00_228.wav 0\n",
            "/gdrive/MyDrive/Audio/B/00_229.wav 0\n",
            "/gdrive/MyDrive/Audio/B/00_230.wav 0\n",
            "/gdrive/MyDrive/Audio/B/00_231.wav 0\n",
            "/gdrive/MyDrive/Audio/B/00_232.wav 0\n",
            "/gdrive/MyDrive/Audio/B/00_233.wav 0\n",
            "/gdrive/MyDrive/Audio/B/00_234.wav 0\n",
            "/gdrive/MyDrive/Audio/B/00_235.wav 0\n",
            "/gdrive/MyDrive/Audio/B/00_236.wav 0\n",
            "/gdrive/MyDrive/Audio/B/00_237.wav 0\n",
            "/gdrive/MyDrive/Audio/B/00_238.wav 0\n",
            "/gdrive/MyDrive/Audio/B/00_239.wav 0\n",
            "/gdrive/MyDrive/Audio/B/00_240.wav 0\n",
            "/gdrive/MyDrive/Audio/B/00_241.wav 0\n",
            "/gdrive/MyDrive/Audio/B/00_242.wav 0\n",
            "/gdrive/MyDrive/Audio/B/00_243.wav 0\n",
            "/gdrive/MyDrive/Audio/B/00_244.wav 0\n",
            "/gdrive/MyDrive/Audio/B/00_245.wav 0\n",
            "/gdrive/MyDrive/Audio/B/00_246.wav 0\n",
            "/gdrive/MyDrive/Audio/B/00_247.wav 0\n",
            "/gdrive/MyDrive/Audio/B/00_248.wav 0\n",
            "/gdrive/MyDrive/Audio/B/00_249.wav 0\n",
            "/gdrive/MyDrive/Audio/B/00_250.wav 0\n",
            "/gdrive/MyDrive/Audio/B/00_251.wav 0\n",
            "/gdrive/MyDrive/Audio/B/00_252.wav 0\n",
            "/gdrive/MyDrive/Audio/B/00_253.wav 0\n",
            "/gdrive/MyDrive/Audio/B/00_254.wav 0\n",
            "/gdrive/MyDrive/Audio/B/00_255.wav 0\n",
            "/gdrive/MyDrive/Audio/B/00_256.wav 0\n",
            "/gdrive/MyDrive/Audio/B/00_257.wav 0\n",
            "/gdrive/MyDrive/Audio/B/00_258.wav 0\n",
            "/gdrive/MyDrive/Audio/B/00_259.wav 0\n",
            "/gdrive/MyDrive/Audio/B/00_260.wav 0\n",
            "/gdrive/MyDrive/Audio/B/00_261.wav 0\n",
            "/gdrive/MyDrive/Audio/B/00_262.wav 0\n",
            "/gdrive/MyDrive/Audio/B/00_263.wav 0\n",
            "/gdrive/MyDrive/Audio/B/00_264.wav 0\n",
            "/gdrive/MyDrive/Audio/B/00_265.wav 0\n",
            "/gdrive/MyDrive/Audio/B/00_266.wav 0\n",
            "/gdrive/MyDrive/Audio/B/00_267.wav 0\n",
            "/gdrive/MyDrive/Audio/B/00_268.wav 0\n",
            "/gdrive/MyDrive/Audio/B/00_269.wav 0\n",
            "/gdrive/MyDrive/Audio/B/00_270.wav 0\n",
            "/gdrive/MyDrive/Audio/B/00_271.wav 0\n",
            "/gdrive/MyDrive/Audio/B/00_272.wav 0\n",
            "/gdrive/MyDrive/Audio/B/00_273.wav 0\n",
            "/gdrive/MyDrive/Audio/B/00_274.wav 0\n",
            "/gdrive/MyDrive/Audio/B/00_275.wav 0\n",
            "/gdrive/MyDrive/Audio/B/00_276.wav 0\n",
            "/gdrive/MyDrive/Audio/B/00_277.wav 0\n",
            "/gdrive/MyDrive/Audio/B/00_278.wav 0\n",
            "/gdrive/MyDrive/Audio/B/00_279.wav 0\n",
            "/gdrive/MyDrive/Audio/B/00_280.wav 0\n",
            "/gdrive/MyDrive/Audio/B/00_281.wav 0\n",
            "/gdrive/MyDrive/Audio/B/00_282.wav 0\n",
            "/gdrive/MyDrive/Audio/B/00_283.wav 0\n",
            "/gdrive/MyDrive/Audio/B/00_284.wav 0\n",
            "/gdrive/MyDrive/Audio/B/00_285.wav 0\n",
            "/gdrive/MyDrive/Audio/B/00_286.wav 0\n",
            "/gdrive/MyDrive/Audio/B/00_287.wav 0\n",
            "/gdrive/MyDrive/Audio/B/00_288.wav 0\n",
            "/gdrive/MyDrive/Audio/B/00_289.wav 0\n",
            "/gdrive/MyDrive/Audio/B/00_290.wav 0\n",
            "/gdrive/MyDrive/Audio/B/00_291.wav 0\n",
            "/gdrive/MyDrive/Audio/B/00_292.wav 0\n",
            "/gdrive/MyDrive/Audio/B/00_293.wav 0\n",
            "/gdrive/MyDrive/Audio/B/00_294.wav 0\n",
            "/gdrive/MyDrive/Audio/B/00_295.wav 0\n",
            "/gdrive/MyDrive/Audio/B/00_296.wav 0\n",
            "/gdrive/MyDrive/Audio/B/00_297.wav 0\n",
            "/gdrive/MyDrive/Audio/B/00_298.wav 0\n",
            "/gdrive/MyDrive/Audio/B/00_299.wav 0\n",
            "/gdrive/MyDrive/Audio/B/00_300.wav 0\n",
            "/gdrive/MyDrive/Audio/B/00_301.wav 0\n",
            "/gdrive/MyDrive/Audio/B/00_302.wav 0\n",
            "/gdrive/MyDrive/Audio/B/00_303.wav 0\n",
            "/gdrive/MyDrive/Audio/B/00_304.wav 0\n",
            "/gdrive/MyDrive/Audio/B/00_305.wav 0\n",
            "/gdrive/MyDrive/Audio/B/00_306.wav 0\n",
            "/gdrive/MyDrive/Audio/B/00_307.wav 0\n",
            "/gdrive/MyDrive/Audio/B/00_308.wav 0\n",
            "/gdrive/MyDrive/Audio/B/00_309.wav 0\n",
            "/gdrive/MyDrive/Audio/B/00_310.wav 0\n",
            "/gdrive/MyDrive/Audio/B/00_311.wav 0\n",
            "/gdrive/MyDrive/Audio/B/00_312.wav 0\n",
            "/gdrive/MyDrive/Audio/B/00_313.wav 0\n",
            "/gdrive/MyDrive/Audio/B/00_314.wav 0\n",
            "/gdrive/MyDrive/Audio/B/00_315.wav 0\n",
            "/gdrive/MyDrive/Audio/B/00_316.wav 0\n",
            "/gdrive/MyDrive/Audio/B/00_317.wav 0\n",
            "/gdrive/MyDrive/Audio/B/00_318.wav 0\n",
            "/gdrive/MyDrive/Audio/B/00_319.wav 0\n",
            "/gdrive/MyDrive/Audio/B/00_320.wav 0\n",
            "/gdrive/MyDrive/Audio/B/00_321.wav 0\n",
            "/gdrive/MyDrive/Audio/B/00_322.wav 0\n",
            "/gdrive/MyDrive/Audio/B/00_323.wav 0\n",
            "/gdrive/MyDrive/Audio/B/00_324.wav 0\n",
            "/gdrive/MyDrive/Audio/B/00_325.wav 0\n",
            "/gdrive/MyDrive/Audio/B/00_326.wav 0\n",
            "/gdrive/MyDrive/Audio/B/00_327.wav 0\n",
            "/gdrive/MyDrive/Audio/B/00_328.wav 0\n",
            "/gdrive/MyDrive/Audio/B/00_329.wav 0\n",
            "/gdrive/MyDrive/Audio/B/00_330.wav 0\n",
            "/gdrive/MyDrive/Audio/B/00_331.wav 0\n",
            "/gdrive/MyDrive/Audio/B/00_332.wav 0\n",
            "/gdrive/MyDrive/Audio/B/00_333.wav 0\n",
            "/gdrive/MyDrive/Audio/B/00_334.wav 0\n",
            "/gdrive/MyDrive/Audio/B/00_335.wav 0\n",
            "/gdrive/MyDrive/Audio/B/00_336.wav 0\n",
            "/gdrive/MyDrive/Audio/B/00_337.wav 0\n",
            "/gdrive/MyDrive/Audio/B/00_338.wav 0\n",
            "/gdrive/MyDrive/Audio/B/00_339.wav 0\n",
            "/gdrive/MyDrive/Audio/B/00_340.wav 0\n",
            "/gdrive/MyDrive/Audio/B/00_341.wav 0\n",
            "/gdrive/MyDrive/Audio/B/00_342.wav 0\n",
            "/gdrive/MyDrive/Audio/B/00_343.wav 0\n",
            "/gdrive/MyDrive/Audio/B/00_344.wav 0\n",
            "/gdrive/MyDrive/Audio/B/00_345.wav 0\n",
            "/gdrive/MyDrive/Audio/B/00_346.wav 0\n",
            "/gdrive/MyDrive/Audio/B/00_347.wav 0\n",
            "/gdrive/MyDrive/Audio/B/02_001.wav 2\n",
            "/gdrive/MyDrive/Audio/B/02_002.wav 2\n",
            "/gdrive/MyDrive/Audio/B/02_003.wav 2\n",
            "/gdrive/MyDrive/Audio/B/02_004.wav 2\n",
            "/gdrive/MyDrive/Audio/B/02_005.wav 2\n",
            "/gdrive/MyDrive/Audio/B/02_006.wav 2\n",
            "/gdrive/MyDrive/Audio/B/02_007.wav 2\n",
            "/gdrive/MyDrive/Audio/B/02_008.wav 2\n",
            "/gdrive/MyDrive/Audio/B/02_009.wav 2\n",
            "/gdrive/MyDrive/Audio/B/02_010.wav 2\n",
            "/gdrive/MyDrive/Audio/B/02_011.wav 2\n",
            "/gdrive/MyDrive/Audio/B/02_012.wav 2\n",
            "/gdrive/MyDrive/Audio/B/02_013.wav 2\n",
            "/gdrive/MyDrive/Audio/B/02_014.wav 2\n",
            "/gdrive/MyDrive/Audio/B/02_015.wav 2\n",
            "/gdrive/MyDrive/Audio/B/02_016.wav 2\n",
            "/gdrive/MyDrive/Audio/B/02_017.wav 2\n",
            "/gdrive/MyDrive/Audio/B/02_018.wav 2\n",
            "/gdrive/MyDrive/Audio/B/02_019.wav 2\n",
            "/gdrive/MyDrive/Audio/B/02_020.wav 2\n",
            "/gdrive/MyDrive/Audio/B/02_021.wav 2\n",
            "/gdrive/MyDrive/Audio/B/02_022.wav 2\n",
            "/gdrive/MyDrive/Audio/B/02_023.wav 2\n",
            "/gdrive/MyDrive/Audio/B/02_024.wav 2\n",
            "/gdrive/MyDrive/Audio/B/02_025.wav 2\n",
            "/gdrive/MyDrive/Audio/B/02_026.wav 2\n",
            "/gdrive/MyDrive/Audio/B/02_027.wav 2\n",
            "/gdrive/MyDrive/Audio/B/02_028.wav 2\n",
            "/gdrive/MyDrive/Audio/B/02_029.wav 2\n",
            "/gdrive/MyDrive/Audio/B/02_030.wav 2\n",
            "/gdrive/MyDrive/Audio/B/02_031.wav 2\n",
            "/gdrive/MyDrive/Audio/B/02_032.wav 2\n",
            "/gdrive/MyDrive/Audio/B/02_033.wav 2\n",
            "/gdrive/MyDrive/Audio/B/02_034.wav 2\n",
            "/gdrive/MyDrive/Audio/B/02_035.wav 2\n",
            "/gdrive/MyDrive/Audio/B/02_036.wav 2\n",
            "/gdrive/MyDrive/Audio/B/02_037.wav 2\n",
            "/gdrive/MyDrive/Audio/B/02_038.wav 2\n",
            "/gdrive/MyDrive/Audio/B/02_039.wav 2\n",
            "/gdrive/MyDrive/Audio/B/02_040.wav 2\n",
            "/gdrive/MyDrive/Audio/B/02_041.wav 2\n",
            "/gdrive/MyDrive/Audio/B/02_042.wav 2\n",
            "/gdrive/MyDrive/Audio/B/02_043.wav 2\n",
            "/gdrive/MyDrive/Audio/B/02_044.wav 2\n",
            "/gdrive/MyDrive/Audio/B/02_045.wav 2\n",
            "/gdrive/MyDrive/Audio/B/02_046.wav 2\n",
            "/gdrive/MyDrive/Audio/B/02_047.wav 2\n",
            "/gdrive/MyDrive/Audio/B/02_048.wav 2\n",
            "/gdrive/MyDrive/Audio/B/02_049.wav 2\n",
            "/gdrive/MyDrive/Audio/B/02_050.wav 2\n",
            "/gdrive/MyDrive/Audio/B/02_051.wav 2\n",
            "/gdrive/MyDrive/Audio/B/02_052.wav 2\n",
            "/gdrive/MyDrive/Audio/B/02_053.wav 2\n",
            "/gdrive/MyDrive/Audio/B/02_054.wav 2\n",
            "/gdrive/MyDrive/Audio/B/02_055.wav 2\n",
            "/gdrive/MyDrive/Audio/B/02_056.wav 2\n",
            "/gdrive/MyDrive/Audio/B/02_057.wav 2\n",
            "/gdrive/MyDrive/Audio/B/02_058.wav 2\n",
            "/gdrive/MyDrive/Audio/B/02_059.wav 2\n",
            "/gdrive/MyDrive/Audio/B/02_060.wav 2\n",
            "/gdrive/MyDrive/Audio/B/02_061.wav 2\n",
            "/gdrive/MyDrive/Audio/B/02_062.wav 2\n",
            "/gdrive/MyDrive/Audio/B/02_063.wav 2\n",
            "/gdrive/MyDrive/Audio/B/02_064.wav 2\n",
            "/gdrive/MyDrive/Audio/B/02_065.wav 2\n",
            "/gdrive/MyDrive/Audio/B/02_066.wav 2\n",
            "/gdrive/MyDrive/Audio/B/02_067.wav 2\n",
            "/gdrive/MyDrive/Audio/B/02_068.wav 2\n",
            "/gdrive/MyDrive/Audio/B/02_069.wav 2\n",
            "/gdrive/MyDrive/Audio/B/02_070.wav 2\n",
            "/gdrive/MyDrive/Audio/B/02_071.wav 2\n",
            "/gdrive/MyDrive/Audio/B/02_072.wav 2\n",
            "/gdrive/MyDrive/Audio/B/02_073.wav 2\n",
            "/gdrive/MyDrive/Audio/B/02_074.wav 2\n",
            "/gdrive/MyDrive/Audio/B/02_075.wav 2\n",
            "/gdrive/MyDrive/Audio/B/02_076.wav 2\n",
            "/gdrive/MyDrive/Audio/B/02_077.wav 2\n",
            "/gdrive/MyDrive/Audio/B/02_078.wav 2\n",
            "/gdrive/MyDrive/Audio/B/02_079.wav 2\n",
            "/gdrive/MyDrive/Audio/B/02_080.wav 2\n",
            "/gdrive/MyDrive/Audio/B/02_081.wav 2\n",
            "/gdrive/MyDrive/Audio/B/02_082.wav 2\n",
            "/gdrive/MyDrive/Audio/B/02_083.wav 2\n",
            "/gdrive/MyDrive/Audio/B/02_084.wav 2\n",
            "/gdrive/MyDrive/Audio/B/02_085.wav 2\n",
            "/gdrive/MyDrive/Audio/B/02_086.wav 2\n",
            "/gdrive/MyDrive/Audio/B/02_087.wav 2\n",
            "/gdrive/MyDrive/Audio/B/02_088.wav 2\n",
            "/gdrive/MyDrive/Audio/B/02_089.wav 2\n",
            "/gdrive/MyDrive/Audio/B/02_090.wav 2\n",
            "/gdrive/MyDrive/Audio/B/02_091.wav 2\n",
            "/gdrive/MyDrive/Audio/B/02_092.wav 2\n",
            "/gdrive/MyDrive/Audio/B/02_093.wav 2\n",
            "/gdrive/MyDrive/Audio/B/02_094.wav 2\n",
            "/gdrive/MyDrive/Audio/B/02_095.wav 2\n",
            "/gdrive/MyDrive/Audio/B/02_096.wav 2\n",
            "/gdrive/MyDrive/Audio/B/02_097.wav 2\n",
            "/gdrive/MyDrive/Audio/B/02_098.wav 2\n",
            "/gdrive/MyDrive/Audio/B/02_099.wav 2\n",
            "/gdrive/MyDrive/Audio/B/02_100.wav 2\n",
            "/gdrive/MyDrive/Audio/B/02_101.wav 2\n",
            "/gdrive/MyDrive/Audio/B/02_102.wav 2\n",
            "/gdrive/MyDrive/Audio/B/02_103.wav 2\n",
            "/gdrive/MyDrive/Audio/B/02_104.wav 2\n",
            "/gdrive/MyDrive/Audio/B/02_105.wav 2\n",
            "/gdrive/MyDrive/Audio/B/02_106.wav 2\n",
            "/gdrive/MyDrive/Audio/B/02_107.wav 2\n",
            "/gdrive/MyDrive/Audio/B/02_108.wav 2\n",
            "/gdrive/MyDrive/Audio/B/02_109.wav 2\n",
            "/gdrive/MyDrive/Audio/B/02_110.wav 2\n",
            "/gdrive/MyDrive/Audio/B/02_111.wav 2\n",
            "/gdrive/MyDrive/Audio/B/02_112.wav 2\n",
            "/gdrive/MyDrive/Audio/B/02_113.wav 2\n",
            "/gdrive/MyDrive/Audio/B/02_114.wav 2\n",
            "/gdrive/MyDrive/Audio/B/02_115.wav 2\n",
            "/gdrive/MyDrive/Audio/B/02_116.wav 2\n",
            "/gdrive/MyDrive/Audio/B/02_117.wav 2\n",
            "/gdrive/MyDrive/Audio/B/02_118.wav 2\n",
            "/gdrive/MyDrive/Audio/B/02_119.wav 2\n",
            "/gdrive/MyDrive/Audio/B/02_120.wav 2\n",
            "/gdrive/MyDrive/Audio/B/02_121.wav 2\n",
            "/gdrive/MyDrive/Audio/B/02_122.wav 2\n",
            "/gdrive/MyDrive/Audio/B/02_123.wav 2\n",
            "/gdrive/MyDrive/Audio/B/02_124.wav 2\n",
            "/gdrive/MyDrive/Audio/B/02_125.wav 2\n",
            "/gdrive/MyDrive/Audio/B/02_126.wav 2\n",
            "/gdrive/MyDrive/Audio/B/02_127.wav 2\n",
            "/gdrive/MyDrive/Audio/B/02_128.wav 2\n",
            "/gdrive/MyDrive/Audio/B/02_129.wav 2\n",
            "/gdrive/MyDrive/Audio/B/02_130.wav 2\n",
            "/gdrive/MyDrive/Audio/B/02_131.wav 2\n",
            "/gdrive/MyDrive/Audio/B/02_132.wav 2\n",
            "/gdrive/MyDrive/Audio/B/02_133.wav 2\n",
            "/gdrive/MyDrive/Audio/B/02_134.wav 2\n",
            "/gdrive/MyDrive/Audio/B/02_135.wav 2\n",
            "/gdrive/MyDrive/Audio/B/02_136.wav 2\n",
            "/gdrive/MyDrive/Audio/B/02_137.wav 2\n",
            "/gdrive/MyDrive/Audio/B/02_138.wav 2\n",
            "/gdrive/MyDrive/Audio/B/02_139.wav 2\n",
            "/gdrive/MyDrive/Audio/B/02_140.wav 2\n",
            "/gdrive/MyDrive/Audio/B/02_141.wav 2\n",
            "/gdrive/MyDrive/Audio/B/02_142.wav 2\n",
            "/gdrive/MyDrive/Audio/B/02_143.wav 2\n",
            "/gdrive/MyDrive/Audio/B/02_144.wav 2\n",
            "/gdrive/MyDrive/Audio/B/02_145.wav 2\n",
            "/gdrive/MyDrive/Audio/B/02_146.wav 2\n",
            "/gdrive/MyDrive/Audio/B/02_147.wav 2\n",
            "/gdrive/MyDrive/Audio/B/02_148.wav 2\n",
            "/gdrive/MyDrive/Audio/B/02_149.wav 2\n",
            "/gdrive/MyDrive/Audio/B/02_150.wav 2\n",
            "/gdrive/MyDrive/Audio/B/02_151.wav 2\n",
            "/gdrive/MyDrive/Audio/B/02_152.wav 2\n",
            "/gdrive/MyDrive/Audio/B/02_153.wav 2\n",
            "/gdrive/MyDrive/Audio/B/02_154.wav 2\n",
            "/gdrive/MyDrive/Audio/B/02_155.wav 2\n",
            "/gdrive/MyDrive/Audio/B/02_156.wav 2\n",
            "/gdrive/MyDrive/Audio/B/02_157.wav 2\n",
            "/gdrive/MyDrive/Audio/B/02_158.wav 2\n",
            "/gdrive/MyDrive/Audio/B/02_159.wav 2\n",
            "/gdrive/MyDrive/Audio/B/02_160.wav 2\n",
            "/gdrive/MyDrive/Audio/B/02_161.wav 2\n",
            "/gdrive/MyDrive/Audio/B/02_162.wav 2\n",
            "/gdrive/MyDrive/Audio/B/02_163.wav 2\n",
            "/gdrive/MyDrive/Audio/B/02_164.wav 2\n",
            "/gdrive/MyDrive/Audio/B/02_165.wav 2\n",
            "/gdrive/MyDrive/Audio/B/02_166.wav 2\n",
            "/gdrive/MyDrive/Audio/B/02_167.wav 2\n",
            "/gdrive/MyDrive/Audio/B/02_168.wav 2\n",
            "/gdrive/MyDrive/Audio/B/02_169.wav 2\n",
            "/gdrive/MyDrive/Audio/B/02_170.wav 2\n",
            "/gdrive/MyDrive/Audio/B/02_171.wav 2\n",
            "/gdrive/MyDrive/Audio/B/02_172.wav 2\n",
            "/gdrive/MyDrive/Audio/B/02_173.wav 2\n",
            "/gdrive/MyDrive/Audio/B/02_174.wav 2\n",
            "/gdrive/MyDrive/Audio/B/02_175.wav 2\n",
            "/gdrive/MyDrive/Audio/B/02_176.wav 2\n",
            "/gdrive/MyDrive/Audio/B/02_177.wav 2\n",
            "/gdrive/MyDrive/Audio/B/02_178.wav 2\n",
            "/gdrive/MyDrive/Audio/B/02_179.wav 2\n",
            "/gdrive/MyDrive/Audio/B/02_180.wav 2\n",
            "/gdrive/MyDrive/Audio/B/02_181.wav 2\n",
            "/gdrive/MyDrive/Audio/B/02_182.wav 2\n",
            "/gdrive/MyDrive/Audio/B/02_183.wav 2\n",
            "/gdrive/MyDrive/Audio/B/02_184.wav 2\n",
            "/gdrive/MyDrive/Audio/B/02_185.wav 2\n",
            "/gdrive/MyDrive/Audio/B/02_186.wav 2\n",
            "/gdrive/MyDrive/Audio/B/02_187.wav 2\n",
            "/gdrive/MyDrive/Audio/B/02_188.wav 2\n",
            "/gdrive/MyDrive/Audio/B/02_189.wav 2\n",
            "/gdrive/MyDrive/Audio/B/02_190.wav 2\n",
            "/gdrive/MyDrive/Audio/B/02_191.wav 2\n",
            "/gdrive/MyDrive/Audio/B/02_192.wav 2\n",
            "/gdrive/MyDrive/Audio/B/02_193.wav 2\n",
            "/gdrive/MyDrive/Audio/B/02_194.wav 2\n",
            "/gdrive/MyDrive/Audio/B/02_195.wav 2\n",
            "/gdrive/MyDrive/Audio/B/02_196.wav 2\n",
            "/gdrive/MyDrive/Audio/B/02_197.wav 2\n",
            "/gdrive/MyDrive/Audio/B/02_198.wav 2\n",
            "/gdrive/MyDrive/Audio/B/02_199.wav 2\n",
            "/gdrive/MyDrive/Audio/B/02_200.wav 2\n",
            "/gdrive/MyDrive/Audio/B/02_201.wav 2\n",
            "/gdrive/MyDrive/Audio/B/02_202.wav 2\n",
            "/gdrive/MyDrive/Audio/B/02_203.wav 2\n",
            "/gdrive/MyDrive/Audio/B/02_204.wav 2\n",
            "/gdrive/MyDrive/Audio/B/02_205.wav 2\n",
            "/gdrive/MyDrive/Audio/B/02_206.wav 2\n",
            "/gdrive/MyDrive/Audio/B/02_207.wav 2\n",
            "/gdrive/MyDrive/Audio/B/02_208.wav 2\n",
            "/gdrive/MyDrive/Audio/B/02_209.wav 2\n",
            "/gdrive/MyDrive/Audio/B/02_210.wav 2\n",
            "/gdrive/MyDrive/Audio/B/02_211.wav 2\n",
            "/gdrive/MyDrive/Audio/B/02_212.wav 2\n",
            "/gdrive/MyDrive/Audio/B/02_213.wav 2\n",
            "/gdrive/MyDrive/Audio/B/02_214.wav 2\n",
            "/gdrive/MyDrive/Audio/B/02_215.wav 2\n",
            "/gdrive/MyDrive/Audio/B/02_216.wav 2\n",
            "/gdrive/MyDrive/Audio/B/02_217.wav 2\n",
            "/gdrive/MyDrive/Audio/B/02_218.wav 2\n",
            "/gdrive/MyDrive/Audio/B/02_219.wav 2\n",
            "/gdrive/MyDrive/Audio/B/02_220.wav 2\n",
            "/gdrive/MyDrive/Audio/B/02_221.wav 2\n",
            "/gdrive/MyDrive/Audio/B/02_222.wav 2\n",
            "/gdrive/MyDrive/Audio/B/02_223.wav 2\n",
            "/gdrive/MyDrive/Audio/B/02_224.wav 2\n",
            "/gdrive/MyDrive/Audio/B/02_225.wav 2\n",
            "/gdrive/MyDrive/Audio/B/02_226.wav 2\n",
            "/gdrive/MyDrive/Audio/B/02_227.wav 2\n",
            "/gdrive/MyDrive/Audio/B/02_228.wav 2\n",
            "/gdrive/MyDrive/Audio/B/02_229.wav 2\n",
            "/gdrive/MyDrive/Audio/B/02_230.wav 2\n",
            "/gdrive/MyDrive/Audio/B/02_231.wav 2\n",
            "/gdrive/MyDrive/Audio/B/02_232.wav 2\n",
            "/gdrive/MyDrive/Audio/B/02_233.wav 2\n",
            "/gdrive/MyDrive/Audio/B/02_234.wav 2\n",
            "/gdrive/MyDrive/Audio/B/02_235.wav 2\n",
            "/gdrive/MyDrive/Audio/B/02_236.wav 2\n",
            "/gdrive/MyDrive/Audio/B/02_237.wav 2\n",
            "/gdrive/MyDrive/Audio/B/02_238.wav 2\n",
            "/gdrive/MyDrive/Audio/B/02_239.wav 2\n",
            "/gdrive/MyDrive/Audio/B/02_240.wav 2\n",
            "/gdrive/MyDrive/Audio/B/02_241.wav 2\n",
            "/gdrive/MyDrive/Audio/B/02_242.wav 2\n",
            "/gdrive/MyDrive/Audio/B/02_243.wav 2\n",
            "/gdrive/MyDrive/Audio/B/02_244.wav 2\n",
            "/gdrive/MyDrive/Audio/B/02_245.wav 2\n",
            "/gdrive/MyDrive/Audio/B/02_246.wav 2\n",
            "/gdrive/MyDrive/Audio/B/02_247.wav 2\n",
            "/gdrive/MyDrive/Audio/B/02_248.wav 2\n",
            "/gdrive/MyDrive/Audio/B/02_249.wav 2\n",
            "/gdrive/MyDrive/Audio/B/02_250.wav 2\n",
            "/gdrive/MyDrive/Audio/B/02_251.wav 2\n",
            "/gdrive/MyDrive/Audio/B/02_252.wav 2\n",
            "/gdrive/MyDrive/Audio/B/02_253.wav 2\n",
            "/gdrive/MyDrive/Audio/B/02_254.wav 2\n",
            "/gdrive/MyDrive/Audio/B/02_255.wav 2\n",
            "/gdrive/MyDrive/Audio/B/02_256.wav 2\n",
            "/gdrive/MyDrive/Audio/B/02_257.wav 2\n",
            "/gdrive/MyDrive/Audio/B/02_258.wav 2\n",
            "/gdrive/MyDrive/Audio/B/02_259.wav 2\n",
            "/gdrive/MyDrive/Audio/B/02_260.wav 2\n",
            "/gdrive/MyDrive/Audio/B/02_261.wav 2\n",
            "/gdrive/MyDrive/Audio/B/02_262.wav 2\n",
            "/gdrive/MyDrive/Audio/B/02_263.wav 2\n",
            "/gdrive/MyDrive/Audio/B/02_264.wav 2\n",
            "/gdrive/MyDrive/Audio/B/02_265.wav 2\n",
            "/gdrive/MyDrive/Audio/B/02_266.wav 2\n",
            "/gdrive/MyDrive/Audio/B/02_267.wav 2\n",
            "/gdrive/MyDrive/Audio/B/02_268.wav 2\n",
            "/gdrive/MyDrive/Audio/B/02_269.wav 2\n",
            "/gdrive/MyDrive/Audio/B/02_270.wav 2\n",
            "/gdrive/MyDrive/Audio/B/02_271.wav 2\n",
            "/gdrive/MyDrive/Audio/B/02_272.wav 2\n",
            "/gdrive/MyDrive/Audio/B/02_273.wav 2\n",
            "/gdrive/MyDrive/Audio/B/02_274.wav 2\n",
            "/gdrive/MyDrive/Audio/B/02_275.wav 2\n",
            "/gdrive/MyDrive/Audio/B/02_276.wav 2\n",
            "/gdrive/MyDrive/Audio/B/02_277.wav 2\n",
            "/gdrive/MyDrive/Audio/B/02_278.wav 2\n",
            "/gdrive/MyDrive/Audio/B/02_279.wav 2\n",
            "/gdrive/MyDrive/Audio/B/02_280.wav 2\n",
            "/gdrive/MyDrive/Audio/B/02_281.wav 2\n",
            "/gdrive/MyDrive/Audio/B/02_282.wav 2\n",
            "/gdrive/MyDrive/Audio/B/02_283.wav 2\n",
            "/gdrive/MyDrive/Audio/B/02_284.wav 2\n",
            "/gdrive/MyDrive/Audio/B/02_285.wav 2\n",
            "/gdrive/MyDrive/Audio/B/02_286.wav 2\n",
            "/gdrive/MyDrive/Audio/B/02_287.wav 2\n",
            "/gdrive/MyDrive/Audio/B/02_288.wav 2\n",
            "/gdrive/MyDrive/Audio/B/02_289.wav 2\n",
            "/gdrive/MyDrive/Audio/B/02_290.wav 2\n",
            "/gdrive/MyDrive/Audio/B/02_291.wav 2\n",
            "/gdrive/MyDrive/Audio/B/02_292.wav 2\n",
            "/gdrive/MyDrive/Audio/B/02_293.wav 2\n",
            "/gdrive/MyDrive/Audio/B/02_294.wav 2\n",
            "/gdrive/MyDrive/Audio/B/02_295.wav 2\n",
            "/gdrive/MyDrive/Audio/B/02_296.wav 2\n",
            "/gdrive/MyDrive/Audio/B/02_297.wav 2\n",
            "/gdrive/MyDrive/Audio/B/02_298.wav 2\n",
            "/gdrive/MyDrive/Audio/B/02_299.wav 2\n",
            "/gdrive/MyDrive/Audio/B/02_300.wav 2\n",
            "/gdrive/MyDrive/Audio/B/02_301.wav 2\n",
            "/gdrive/MyDrive/Audio/B/02_302.wav 2\n",
            "/gdrive/MyDrive/Audio/B/02_303.wav 2\n",
            "/gdrive/MyDrive/Audio/B/02_304.wav 2\n",
            "/gdrive/MyDrive/Audio/B/02_305.wav 2\n",
            "/gdrive/MyDrive/Audio/B/02_306.wav 2\n",
            "/gdrive/MyDrive/Audio/B/02_307.wav 2\n",
            "/gdrive/MyDrive/Audio/B/02_308.wav 2\n",
            "/gdrive/MyDrive/Audio/B/02_309.wav 2\n",
            "/gdrive/MyDrive/Audio/B/02_310.wav 2\n",
            "/gdrive/MyDrive/Audio/B/02_311.wav 2\n",
            "/gdrive/MyDrive/Audio/B/02_312.wav 2\n",
            "/gdrive/MyDrive/Audio/B/02_313.wav 2\n",
            "/gdrive/MyDrive/Audio/B/02_314.wav 2\n",
            "/gdrive/MyDrive/Audio/B/02_315.wav 2\n",
            "/gdrive/MyDrive/Audio/B/02_316.wav 2\n",
            "/gdrive/MyDrive/Audio/B/02_317.wav 2\n",
            "/gdrive/MyDrive/Audio/B/02_318.wav 2\n",
            "/gdrive/MyDrive/Audio/B/02_319.wav 2\n",
            "/gdrive/MyDrive/Audio/B/02_320.wav 2\n",
            "/gdrive/MyDrive/Audio/B/02_321.wav 2\n",
            "/gdrive/MyDrive/Audio/B/02_322.wav 2\n",
            "/gdrive/MyDrive/Audio/B/02_323.wav 2\n",
            "/gdrive/MyDrive/Audio/B/02_324.wav 2\n",
            "/gdrive/MyDrive/Audio/B/02_325.wav 2\n",
            "/gdrive/MyDrive/Audio/B/02_326.wav 2\n",
            "/gdrive/MyDrive/Audio/B/02_327.wav 2\n",
            "/gdrive/MyDrive/Audio/B/02_328.wav 2\n",
            "/gdrive/MyDrive/Audio/B/02_329.wav 2\n",
            "/gdrive/MyDrive/Audio/B/02_330.wav 2\n",
            "/gdrive/MyDrive/Audio/B/02_331.wav 2\n",
            "/gdrive/MyDrive/Audio/B/02_332.wav 2\n",
            "/gdrive/MyDrive/Audio/B/02_333.wav 2\n",
            "/gdrive/MyDrive/Audio/B/02_334.wav 2\n",
            "/gdrive/MyDrive/Audio/B/02_335.wav 2\n",
            "/gdrive/MyDrive/Audio/B/02_336.wav 2\n",
            "/gdrive/MyDrive/Audio/B/02_337.wav 2\n",
            "/gdrive/MyDrive/Audio/B/02_338.wav 2\n",
            "/gdrive/MyDrive/Audio/B/02_339.wav 2\n",
            "/gdrive/MyDrive/Audio/B/02_340.wav 2\n",
            "/gdrive/MyDrive/Audio/B/02_341.wav 2\n",
            "/gdrive/MyDrive/Audio/B/02_342.wav 2\n",
            "/gdrive/MyDrive/Audio/B/02_343.wav 2\n",
            "/gdrive/MyDrive/Audio/B/02_344.wav 2\n",
            "/gdrive/MyDrive/Audio/B/02_345.wav 2\n",
            "/gdrive/MyDrive/Audio/B/02_346.wav 2\n",
            "/gdrive/MyDrive/Audio/B/02_347.wav 2\n",
            "/gdrive/MyDrive/Audio/B/02_348.wav 2\n",
            "/gdrive/MyDrive/Audio/B/02_349.wav 2\n",
            "/gdrive/MyDrive/Audio/B/02_350.wav 2\n",
            "/gdrive/MyDrive/Audio/B/02_351.wav 2\n",
            "/gdrive/MyDrive/Audio/B/02_352.wav 2\n",
            "/gdrive/MyDrive/Audio/B/02_353.wav 2\n",
            "/gdrive/MyDrive/Audio/B/02_354.wav 2\n",
            "/gdrive/MyDrive/Audio/B/02_355.wav 2\n",
            "/gdrive/MyDrive/Audio/B/02_356.wav 2\n",
            "/gdrive/MyDrive/Audio/B/02_357.wav 2\n",
            "/gdrive/MyDrive/Audio/B/02_358.wav 2\n",
            "/gdrive/MyDrive/Audio/B/02_359.wav 2\n",
            "/gdrive/MyDrive/Audio/B/02_360.wav 2\n",
            "/gdrive/MyDrive/Audio/B/02_361.wav 2\n",
            "/gdrive/MyDrive/Audio/B/02_362.wav 2\n",
            "/gdrive/MyDrive/Audio/B/02_363.wav 2\n",
            "/gdrive/MyDrive/Audio/B/02_364.wav 2\n",
            "/gdrive/MyDrive/Audio/B/02_365.wav 2\n",
            "/gdrive/MyDrive/Audio/B/02_366.wav 2\n",
            "/gdrive/MyDrive/Audio/B/02_367.wav 2\n",
            "/gdrive/MyDrive/Audio/B/02_368.wav 2\n",
            "/gdrive/MyDrive/Audio/B/02_369.wav 2\n",
            "/gdrive/MyDrive/Audio/B/02_370.wav 2\n",
            "/gdrive/MyDrive/Audio/B/02_371.wav 2\n",
            "/gdrive/MyDrive/Audio/B/02_372.wav 2\n",
            "/gdrive/MyDrive/Audio/B/02_373.wav 2\n",
            "/gdrive/MyDrive/Audio/B/02_374.wav 2\n",
            "/gdrive/MyDrive/Audio/B/02_375.wav 2\n",
            "/gdrive/MyDrive/Audio/B/02_376.wav 2\n",
            "/gdrive/MyDrive/Audio/B/02_377.wav 2\n",
            "/gdrive/MyDrive/Audio/B/02_378.wav 2\n",
            "/gdrive/MyDrive/Audio/B/02_379.wav 2\n",
            "/gdrive/MyDrive/Audio/B/02_380.wav 2\n",
            "/gdrive/MyDrive/Audio/B/02_381.wav 2\n",
            "/gdrive/MyDrive/Audio/B/02_382.wav 2\n",
            "/gdrive/MyDrive/Audio/B/02_383.wav 2\n",
            "/gdrive/MyDrive/Audio/B/02_384.wav 2\n",
            "/gdrive/MyDrive/Audio/B/02_385.wav 2\n",
            "/gdrive/MyDrive/Audio/B/02_386.wav 2\n",
            "/gdrive/MyDrive/Audio/B/02_387.wav 2\n",
            "/gdrive/MyDrive/Audio/B/02_388.wav 2\n",
            "/gdrive/MyDrive/Audio/B/02_389.wav 2\n",
            "/gdrive/MyDrive/Audio/B/02_390.wav 2\n",
            "/gdrive/MyDrive/Audio/B/02_391.wav 2\n",
            "/gdrive/MyDrive/Audio/B/02_392.wav 2\n",
            "/gdrive/MyDrive/Audio/B/02_393.wav 2\n",
            "/gdrive/MyDrive/Audio/B/02_394.wav 2\n",
            "/gdrive/MyDrive/Audio/B/02_395.wav 2\n",
            "/gdrive/MyDrive/Audio/B/02_396.wav 2\n",
            "/gdrive/MyDrive/Audio/B/02_397.wav 2\n",
            "/gdrive/MyDrive/Audio/B/02_398.wav 2\n",
            "/gdrive/MyDrive/Audio/B/02_399.wav 2\n",
            "/gdrive/MyDrive/Audio/B/02_400.wav 2\n",
            "/gdrive/MyDrive/Audio/B/02_401.wav 2\n",
            "/gdrive/MyDrive/Audio/B/02_402.wav 2\n",
            "/gdrive/MyDrive/Audio/B/02_403.wav 2\n",
            "/gdrive/MyDrive/Audio/B/02_404.wav 2\n",
            "/gdrive/MyDrive/Audio/B/02_405.wav 2\n",
            "/gdrive/MyDrive/Audio/B/02_406.wav 2\n",
            "/gdrive/MyDrive/Audio/B/02_407.wav 2\n",
            "/gdrive/MyDrive/Audio/B/02_408.wav 2\n",
            "/gdrive/MyDrive/Audio/B/01_001.wav 1\n",
            "/gdrive/MyDrive/Audio/B/01_002.wav 1\n",
            "/gdrive/MyDrive/Audio/B/01_003.wav 1\n",
            "/gdrive/MyDrive/Audio/B/01_004.wav 1\n",
            "/gdrive/MyDrive/Audio/B/01_005.wav 1\n",
            "/gdrive/MyDrive/Audio/B/01_006.wav 1\n",
            "/gdrive/MyDrive/Audio/B/01_007.wav 1\n",
            "/gdrive/MyDrive/Audio/B/01_008.wav 1\n",
            "/gdrive/MyDrive/Audio/B/01_009.wav 1\n",
            "/gdrive/MyDrive/Audio/B/01_010.wav 1\n",
            "/gdrive/MyDrive/Audio/B/01_011.wav 1\n",
            "/gdrive/MyDrive/Audio/B/01_012.wav 1\n",
            "/gdrive/MyDrive/Audio/B/01_013.wav 1\n",
            "/gdrive/MyDrive/Audio/B/01_014.wav 1\n",
            "/gdrive/MyDrive/Audio/B/01_015.wav 1\n",
            "/gdrive/MyDrive/Audio/B/01_016.wav 1\n",
            "/gdrive/MyDrive/Audio/B/01_017.wav 1\n",
            "/gdrive/MyDrive/Audio/B/01_018.wav 1\n",
            "/gdrive/MyDrive/Audio/B/01_019.wav 1\n",
            "/gdrive/MyDrive/Audio/B/01_020.wav 1\n",
            "/gdrive/MyDrive/Audio/B/01_021.wav 1\n",
            "/gdrive/MyDrive/Audio/B/01_022.wav 1\n",
            "/gdrive/MyDrive/Audio/B/01_023.wav 1\n",
            "/gdrive/MyDrive/Audio/B/01_024.wav 1\n",
            "/gdrive/MyDrive/Audio/B/01_025.wav 1\n",
            "/gdrive/MyDrive/Audio/B/01_026.wav 1\n",
            "/gdrive/MyDrive/Audio/B/01_027.wav 1\n",
            "/gdrive/MyDrive/Audio/B/01_028.wav 1\n",
            "/gdrive/MyDrive/Audio/B/01_029.wav 1\n",
            "/gdrive/MyDrive/Audio/B/01_030.wav 1\n",
            "/gdrive/MyDrive/Audio/B/01_031.wav 1\n",
            "/gdrive/MyDrive/Audio/B/01_032.wav 1\n",
            "/gdrive/MyDrive/Audio/B/01_033.wav 1\n",
            "/gdrive/MyDrive/Audio/B/01_034.wav 1\n",
            "/gdrive/MyDrive/Audio/B/01_035.wav 1\n",
            "/gdrive/MyDrive/Audio/B/01_036.wav 1\n",
            "/gdrive/MyDrive/Audio/B/01_037.wav 1\n",
            "/gdrive/MyDrive/Audio/B/01_038.wav 1\n",
            "/gdrive/MyDrive/Audio/B/01_039.wav 1\n",
            "/gdrive/MyDrive/Audio/B/01_040.wav 1\n",
            "/gdrive/MyDrive/Audio/B/01_041.wav 1\n",
            "/gdrive/MyDrive/Audio/B/01_042.wav 1\n",
            "/gdrive/MyDrive/Audio/B/01_043.wav 1\n",
            "/gdrive/MyDrive/Audio/B/01_044.wav 1\n",
            "/gdrive/MyDrive/Audio/B/01_045.wav 1\n",
            "/gdrive/MyDrive/Audio/B/01_046.wav 1\n",
            "/gdrive/MyDrive/Audio/B/01_047.wav 1\n",
            "/gdrive/MyDrive/Audio/B/01_048.wav 1\n",
            "/gdrive/MyDrive/Audio/B/01_049.wav 1\n",
            "/gdrive/MyDrive/Audio/B/01_050.wav 1\n",
            "/gdrive/MyDrive/Audio/B/01_051.wav 1\n",
            "/gdrive/MyDrive/Audio/B/01_052.wav 1\n",
            "/gdrive/MyDrive/Audio/B/01_053.wav 1\n",
            "/gdrive/MyDrive/Audio/B/01_054.wav 1\n",
            "/gdrive/MyDrive/Audio/B/01_055.wav 1\n",
            "/gdrive/MyDrive/Audio/B/01_056.wav 1\n",
            "/gdrive/MyDrive/Audio/B/01_057.wav 1\n",
            "/gdrive/MyDrive/Audio/B/01_058.wav 1\n",
            "/gdrive/MyDrive/Audio/B/01_059.wav 1\n",
            "/gdrive/MyDrive/Audio/B/01_060.wav 1\n",
            "/gdrive/MyDrive/Audio/B/01_061.wav 1\n",
            "/gdrive/MyDrive/Audio/B/01_062.wav 1\n",
            "/gdrive/MyDrive/Audio/B/01_063.wav 1\n",
            "/gdrive/MyDrive/Audio/B/01_064.wav 1\n",
            "/gdrive/MyDrive/Audio/B/01_065.wav 1\n",
            "/gdrive/MyDrive/Audio/B/01_066.wav 1\n",
            "/gdrive/MyDrive/Audio/B/01_067.wav 1\n",
            "/gdrive/MyDrive/Audio/B/01_068.wav 1\n",
            "/gdrive/MyDrive/Audio/B/01_069.wav 1\n",
            "/gdrive/MyDrive/Audio/B/01_070.wav 1\n",
            "/gdrive/MyDrive/Audio/B/01_071.wav 1\n",
            "/gdrive/MyDrive/Audio/B/01_072.wav 1\n",
            "/gdrive/MyDrive/Audio/B/01_073.wav 1\n",
            "/gdrive/MyDrive/Audio/B/01_074.wav 1\n",
            "/gdrive/MyDrive/Audio/B/01_075.wav 1\n",
            "/gdrive/MyDrive/Audio/B/01_076.wav 1\n",
            "/gdrive/MyDrive/Audio/B/01_077.wav 1\n",
            "/gdrive/MyDrive/Audio/B/01_078.wav 1\n",
            "/gdrive/MyDrive/Audio/B/01_079.wav 1\n",
            "/gdrive/MyDrive/Audio/B/01_080.wav 1\n",
            "/gdrive/MyDrive/Audio/B/01_081.wav 1\n",
            "/gdrive/MyDrive/Audio/B/01_082.wav 1\n",
            "/gdrive/MyDrive/Audio/B/01_083.wav 1\n",
            "/gdrive/MyDrive/Audio/B/01_084.wav 1\n",
            "/gdrive/MyDrive/Audio/B/01_085.wav 1\n",
            "/gdrive/MyDrive/Audio/B/01_086.wav 1\n",
            "/gdrive/MyDrive/Audio/B/01_087.wav 1\n",
            "/gdrive/MyDrive/Audio/B/01_088.wav 1\n",
            "/gdrive/MyDrive/Audio/B/01_089.wav 1\n",
            "/gdrive/MyDrive/Audio/B/01_090.wav 1\n",
            "/gdrive/MyDrive/Audio/B/01_091.wav 1\n",
            "/gdrive/MyDrive/Audio/B/01_092.wav 1\n",
            "/gdrive/MyDrive/Audio/B/01_093.wav 1\n",
            "/gdrive/MyDrive/Audio/B/01_094.wav 1\n",
            "/gdrive/MyDrive/Audio/B/01_095.wav 1\n",
            "/gdrive/MyDrive/Audio/B/01_096.wav 1\n",
            "/gdrive/MyDrive/Audio/B/01_097.wav 1\n",
            "/gdrive/MyDrive/Audio/B/01_098.wav 1\n",
            "/gdrive/MyDrive/Audio/B/01_099.wav 1\n",
            "/gdrive/MyDrive/Audio/B/01_100.wav 1\n",
            "/gdrive/MyDrive/Audio/B/01_101.wav 1\n",
            "/gdrive/MyDrive/Audio/B/01_102.wav 1\n",
            "/gdrive/MyDrive/Audio/B/01_103.wav 1\n",
            "/gdrive/MyDrive/Audio/B/01_104.wav 1\n",
            "/gdrive/MyDrive/Audio/B/01_105.wav 1\n",
            "/gdrive/MyDrive/Audio/B/01_106.wav 1\n",
            "/gdrive/MyDrive/Audio/B/01_107.wav 1\n",
            "/gdrive/MyDrive/Audio/B/01_108.wav 1\n",
            "/gdrive/MyDrive/Audio/B/01_109.wav 1\n",
            "/gdrive/MyDrive/Audio/B/01_110.wav 1\n",
            "/gdrive/MyDrive/Audio/B/01_111.wav 1\n",
            "/gdrive/MyDrive/Audio/B/01_112.wav 1\n",
            "/gdrive/MyDrive/Audio/B/01_113.wav 1\n",
            "/gdrive/MyDrive/Audio/B/01_114.wav 1\n",
            "/gdrive/MyDrive/Audio/B/01_115.wav 1\n",
            "/gdrive/MyDrive/Audio/B/01_116.wav 1\n",
            "/gdrive/MyDrive/Audio/B/01_117.wav 1\n",
            "/gdrive/MyDrive/Audio/B/01_118.wav 1\n",
            "/gdrive/MyDrive/Audio/B/01_119.wav 1\n",
            "/gdrive/MyDrive/Audio/B/01_120.wav 1\n",
            "/gdrive/MyDrive/Audio/B/01_121.wav 1\n",
            "/gdrive/MyDrive/Audio/B/01_122.wav 1\n",
            "/gdrive/MyDrive/Audio/B/01_123.wav 1\n",
            "/gdrive/MyDrive/Audio/B/01_124.wav 1\n",
            "/gdrive/MyDrive/Audio/B/01_125.wav 1\n",
            "/gdrive/MyDrive/Audio/B/01_126.wav 1\n",
            "/gdrive/MyDrive/Audio/B/01_127.wav 1\n",
            "/gdrive/MyDrive/Audio/B/01_128.wav 1\n",
            "/gdrive/MyDrive/Audio/B/01_129.wav 1\n",
            "/gdrive/MyDrive/Audio/B/01_130.wav 1\n",
            "/gdrive/MyDrive/Audio/B/01_131.wav 1\n",
            "/gdrive/MyDrive/Audio/B/01_132.wav 1\n",
            "/gdrive/MyDrive/Audio/B/01_133.wav 1\n",
            "/gdrive/MyDrive/Audio/B/01_134.wav 1\n",
            "/gdrive/MyDrive/Audio/B/01_135.wav 1\n",
            "/gdrive/MyDrive/Audio/B/01_136.wav 1\n",
            "/gdrive/MyDrive/Audio/B/01_137.wav 1\n",
            "/gdrive/MyDrive/Audio/B/01_138.wav 1\n",
            "/gdrive/MyDrive/Audio/B/01_139.wav 1\n",
            "/gdrive/MyDrive/Audio/B/01_140.wav 1\n",
            "/gdrive/MyDrive/Audio/B/01_141.wav 1\n",
            "/gdrive/MyDrive/Audio/B/01_142.wav 1\n",
            "/gdrive/MyDrive/Audio/B/01_143.wav 1\n",
            "/gdrive/MyDrive/Audio/B/01_144.wav 1\n",
            "/gdrive/MyDrive/Audio/B/01_145.wav 1\n",
            "/gdrive/MyDrive/Audio/B/01_146.wav 1\n",
            "/gdrive/MyDrive/Audio/B/01_147.wav 1\n",
            "/gdrive/MyDrive/Audio/B/01_148.wav 1\n",
            "/gdrive/MyDrive/Audio/B/01_149.wav 1\n",
            "/gdrive/MyDrive/Audio/B/01_150.wav 1\n",
            "/gdrive/MyDrive/Audio/B/01_151.wav 1\n",
            "/gdrive/MyDrive/Audio/B/01_152.wav 1\n",
            "/gdrive/MyDrive/Audio/B/01_153.wav 1\n",
            "/gdrive/MyDrive/Audio/B/01_154.wav 1\n",
            "/gdrive/MyDrive/Audio/B/01_155.wav 1\n",
            "/gdrive/MyDrive/Audio/B/01_156.wav 1\n",
            "/gdrive/MyDrive/Audio/B/01_157.wav 1\n",
            "/gdrive/MyDrive/Audio/B/01_158.wav 1\n",
            "/gdrive/MyDrive/Audio/B/01_159.wav 1\n",
            "/gdrive/MyDrive/Audio/B/01_160.wav 1\n",
            "/gdrive/MyDrive/Audio/B/01_161.wav 1\n",
            "/gdrive/MyDrive/Audio/B/01_162.wav 1\n",
            "/gdrive/MyDrive/Audio/B/01_163.wav 1\n",
            "/gdrive/MyDrive/Audio/B/01_164.wav 1\n",
            "/gdrive/MyDrive/Audio/B/01_165.wav 1\n",
            "/gdrive/MyDrive/Audio/B/01_166.wav 1\n",
            "/gdrive/MyDrive/Audio/B/01_167.wav 1\n",
            "/gdrive/MyDrive/Audio/B/01_168.wav 1\n",
            "/gdrive/MyDrive/Audio/B/01_169.wav 1\n",
            "/gdrive/MyDrive/Audio/B/01_170.wav 1\n",
            "/gdrive/MyDrive/Audio/B/01_171.wav 1\n",
            "/gdrive/MyDrive/Audio/B/01_172.wav 1\n",
            "/gdrive/MyDrive/Audio/B/01_173.wav 1\n",
            "/gdrive/MyDrive/Audio/B/01_174.wav 1\n",
            "/gdrive/MyDrive/Audio/B/01_175.wav 1\n",
            "/gdrive/MyDrive/Audio/B/01_176.wav 1\n",
            "/gdrive/MyDrive/Audio/B/01_177.wav 1\n",
            "/gdrive/MyDrive/Audio/B/01_178.wav 1\n",
            "/gdrive/MyDrive/Audio/B/01_179.wav 1\n",
            "/gdrive/MyDrive/Audio/B/01_180.wav 1\n",
            "/gdrive/MyDrive/Audio/B/01_181.wav 1\n",
            "/gdrive/MyDrive/Audio/B/01_182.wav 1\n",
            "/gdrive/MyDrive/Audio/B/01_183.wav 1\n",
            "/gdrive/MyDrive/Audio/B/01_184.wav 1\n",
            "/gdrive/MyDrive/Audio/B/01_185.wav 1\n",
            "/gdrive/MyDrive/Audio/B/01_186.wav 1\n",
            "/gdrive/MyDrive/Audio/B/01_187.wav 1\n",
            "/gdrive/MyDrive/Audio/B/01_188.wav 1\n",
            "/gdrive/MyDrive/Audio/B/01_189.wav 1\n",
            "/gdrive/MyDrive/Audio/B/01_190.wav 1\n",
            "/gdrive/MyDrive/Audio/B/01_191.wav 1\n",
            "/gdrive/MyDrive/Audio/B/01_192.wav 1\n",
            "/gdrive/MyDrive/Audio/B/01_193.wav 1\n",
            "/gdrive/MyDrive/Audio/B/01_194.wav 1\n",
            "/gdrive/MyDrive/Audio/B/01_195.wav 1\n",
            "/gdrive/MyDrive/Audio/B/01_196.wav 1\n",
            "/gdrive/MyDrive/Audio/B/01_197.wav 1\n",
            "/gdrive/MyDrive/Audio/B/01_198.wav 1\n",
            "/gdrive/MyDrive/Audio/B/01_199.wav 1\n",
            "/gdrive/MyDrive/Audio/B/01_200.wav 1\n",
            "/gdrive/MyDrive/Audio/B/01_201.wav 1\n",
            "/gdrive/MyDrive/Audio/B/01_202.wav 1\n",
            "/gdrive/MyDrive/Audio/B/01_203.wav 1\n",
            "/gdrive/MyDrive/Audio/B/01_204.wav 1\n",
            "/gdrive/MyDrive/Audio/B/01_205.wav 1\n",
            "/gdrive/MyDrive/Audio/B/01_206.wav 1\n",
            "/gdrive/MyDrive/Audio/B/01_207.wav 1\n",
            "/gdrive/MyDrive/Audio/B/01_208.wav 1\n",
            "/gdrive/MyDrive/Audio/B/01_209.wav 1\n",
            "/gdrive/MyDrive/Audio/B/01_210.wav 1\n",
            "/gdrive/MyDrive/Audio/B/01_211.wav 1\n",
            "/gdrive/MyDrive/Audio/B/01_212.wav 1\n",
            "/gdrive/MyDrive/Audio/B/01_213.wav 1\n",
            "/gdrive/MyDrive/Audio/B/01_214.wav 1\n",
            "/gdrive/MyDrive/Audio/B/01_215.wav 1\n",
            "/gdrive/MyDrive/Audio/B/01_216.wav 1\n",
            "/gdrive/MyDrive/Audio/B/01_217.wav 1\n",
            "/gdrive/MyDrive/Audio/B/01_218.wav 1\n",
            "/gdrive/MyDrive/Audio/B/01_219.wav 1\n",
            "/gdrive/MyDrive/Audio/B/01_220.wav 1\n",
            "/gdrive/MyDrive/Audio/B/01_221.wav 1\n",
            "/gdrive/MyDrive/Audio/B/01_222.wav 1\n",
            "/gdrive/MyDrive/Audio/B/01_223.wav 1\n",
            "/gdrive/MyDrive/Audio/B/01_224.wav 1\n",
            "/gdrive/MyDrive/Audio/B/01_225.wav 1\n",
            "/gdrive/MyDrive/Audio/B/01_226.wav 1\n",
            "/gdrive/MyDrive/Audio/B/01_227.wav 1\n",
            "/gdrive/MyDrive/Audio/B/01_228.wav 1\n",
            "/gdrive/MyDrive/Audio/B/01_229.wav 1\n",
            "/gdrive/MyDrive/Audio/B/01_230.wav 1\n",
            "/gdrive/MyDrive/Audio/B/01_231.wav 1\n",
            "/gdrive/MyDrive/Audio/B/01_232.wav 1\n",
            "/gdrive/MyDrive/Audio/B/01_233.wav 1\n",
            "/gdrive/MyDrive/Audio/B/01_234.wav 1\n",
            "/gdrive/MyDrive/Audio/B/01_235.wav 1\n",
            "/gdrive/MyDrive/Audio/B/01_236.wav 1\n",
            "/gdrive/MyDrive/Audio/B/01_237.wav 1\n",
            "/gdrive/MyDrive/Audio/B/01_238.wav 1\n",
            "/gdrive/MyDrive/Audio/B/01_239.wav 1\n",
            "/gdrive/MyDrive/Audio/B/01_240.wav 1\n",
            "/gdrive/MyDrive/Audio/B/01_241.wav 1\n",
            "/gdrive/MyDrive/Audio/B/01_242.wav 1\n",
            "/gdrive/MyDrive/Audio/B/01_243.wav 1\n",
            "/gdrive/MyDrive/Audio/B/01_244.wav 1\n",
            "/gdrive/MyDrive/Audio/B/01_245.wav 1\n",
            "/gdrive/MyDrive/Audio/B/01_246.wav 1\n",
            "/gdrive/MyDrive/Audio/B/01_247.wav 1\n",
            "/gdrive/MyDrive/Audio/B/01_248.wav 1\n",
            "/gdrive/MyDrive/Audio/B/01_249.wav 1\n",
            "/gdrive/MyDrive/Audio/B/01_250.wav 1\n",
            "/gdrive/MyDrive/Audio/B/01_251.wav 1\n",
            "/gdrive/MyDrive/Audio/B/01_252.wav 1\n",
            "/gdrive/MyDrive/Audio/B/01_253.wav 1\n",
            "/gdrive/MyDrive/Audio/B/01_254.wav 1\n",
            "/gdrive/MyDrive/Audio/B/01_255.wav 1\n",
            "/gdrive/MyDrive/Audio/B/01_256.wav 1\n",
            "/gdrive/MyDrive/Audio/B/01_257.wav 1\n",
            "/gdrive/MyDrive/Audio/B/01_258.wav 1\n",
            "/gdrive/MyDrive/Audio/B/01_259.wav 1\n",
            "/gdrive/MyDrive/Audio/B/01_260.wav 1\n",
            "/gdrive/MyDrive/Audio/B/01_261.wav 1\n",
            "/gdrive/MyDrive/Audio/B/01_262.wav 1\n",
            "/gdrive/MyDrive/Audio/B/01_263.wav 1\n",
            "/gdrive/MyDrive/Audio/B/01_264.wav 1\n",
            "/gdrive/MyDrive/Audio/B/01_265.wav 1\n",
            "/gdrive/MyDrive/Audio/B/01_266.wav 1\n",
            "/gdrive/MyDrive/Audio/B/01_267.wav 1\n",
            "/gdrive/MyDrive/Audio/B/01_268.wav 1\n",
            "/gdrive/MyDrive/Audio/B/01_269.wav 1\n",
            "/gdrive/MyDrive/Audio/B/01_270.wav 1\n",
            "/gdrive/MyDrive/Audio/B/01_271.wav 1\n",
            "/gdrive/MyDrive/Audio/B/01_272.wav 1\n",
            "/gdrive/MyDrive/Audio/B/01_273.wav 1\n",
            "/gdrive/MyDrive/Audio/B/01_274.wav 1\n",
            "/gdrive/MyDrive/Audio/B/01_275.wav 1\n",
            "/gdrive/MyDrive/Audio/B/01_276.wav 1\n",
            "/gdrive/MyDrive/Audio/B/01_277.wav 1\n",
            "/gdrive/MyDrive/Audio/B/01_278.wav 1\n",
            "/gdrive/MyDrive/Audio/B/01_279.wav 1\n",
            "/gdrive/MyDrive/Audio/B/01_280.wav 1\n",
            "/gdrive/MyDrive/Audio/B/01_281.wav 1\n",
            "/gdrive/MyDrive/Audio/B/01_282.wav 1\n",
            "/gdrive/MyDrive/Audio/B/01_283.wav 1\n",
            "/gdrive/MyDrive/Audio/B/01_284.wav 1\n",
            "/gdrive/MyDrive/Audio/B/01_285.wav 1\n",
            "/gdrive/MyDrive/Audio/B/01_286.wav 1\n",
            "/gdrive/MyDrive/Audio/B/01_287.wav 1\n",
            "/gdrive/MyDrive/Audio/B/01_288.wav 1\n",
            "/gdrive/MyDrive/Audio/B/01_289.wav 1\n",
            "/gdrive/MyDrive/Audio/B/01_290.wav 1\n",
            "/gdrive/MyDrive/Audio/B/01_291.wav 1\n",
            "/gdrive/MyDrive/Audio/B/01_292.wav 1\n",
            "/gdrive/MyDrive/Audio/B/01_293.wav 1\n",
            "/gdrive/MyDrive/Audio/B/01_294.wav 1\n",
            "/gdrive/MyDrive/Audio/B/01_295.wav 1\n",
            "/gdrive/MyDrive/Audio/B/01_296.wav 1\n",
            "/gdrive/MyDrive/Audio/B/01_297.wav 1\n",
            "/gdrive/MyDrive/Audio/B/01_298.wav 1\n",
            "/gdrive/MyDrive/Audio/B/01_299.wav 1\n",
            "/gdrive/MyDrive/Audio/B/01_300.wav 1\n",
            "/gdrive/MyDrive/Audio/B/01_301.wav 1\n",
            "/gdrive/MyDrive/Audio/B/01_302.wav 1\n",
            "/gdrive/MyDrive/Audio/B/01_303.wav 1\n",
            "/gdrive/MyDrive/Audio/B/01_304.wav 1\n",
            "/gdrive/MyDrive/Audio/B/01_305.wav 1\n",
            "/gdrive/MyDrive/Audio/B/01_306.wav 1\n",
            "/gdrive/MyDrive/Audio/B/01_307.wav 1\n",
            "/gdrive/MyDrive/Audio/B/01_308.wav 1\n",
            "/gdrive/MyDrive/Audio/B/01_309.wav 1\n",
            "/gdrive/MyDrive/Audio/B/01_310.wav 1\n",
            "/gdrive/MyDrive/Audio/B/01_311.wav 1\n",
            "/gdrive/MyDrive/Audio/B/01_312.wav 1\n",
            "/gdrive/MyDrive/Audio/B/01_313.wav 1\n",
            "/gdrive/MyDrive/Audio/B/01_314.wav 1\n",
            "/gdrive/MyDrive/Audio/B/01_315.wav 1\n",
            "/gdrive/MyDrive/Audio/B/01_316.wav 1\n",
            "/gdrive/MyDrive/Audio/B/01_317.wav 1\n",
            "/gdrive/MyDrive/Audio/B/01_318.wav 1\n",
            "/gdrive/MyDrive/Audio/B/01_319.wav 1\n",
            "/gdrive/MyDrive/Audio/B/01_320.wav 1\n",
            "/gdrive/MyDrive/Audio/B/01_321.wav 1\n",
            "/gdrive/MyDrive/Audio/B/01_322.wav 1\n",
            "/gdrive/MyDrive/Audio/B/01_323.wav 1\n",
            "/gdrive/MyDrive/Audio/B/01_324.wav 1\n",
            "/gdrive/MyDrive/Audio/B/01_325.wav 1\n",
            "/gdrive/MyDrive/Audio/B/01_326.wav 1\n",
            "/gdrive/MyDrive/Audio/B/01_327.wav 1\n",
            "/gdrive/MyDrive/Audio/B/01_328.wav 1\n",
            "/gdrive/MyDrive/Audio/B/01_329.wav 1\n",
            "/gdrive/MyDrive/Audio/B/01_330.wav 1\n",
            "/gdrive/MyDrive/Audio/B/01_331.wav 1\n",
            "/gdrive/MyDrive/Audio/B/01_332.wav 1\n",
            "/gdrive/MyDrive/Audio/B/01_333.wav 1\n",
            "/gdrive/MyDrive/Audio/B/01_334.wav 1\n",
            "/gdrive/MyDrive/Audio/B/01_335.wav 1\n",
            "/gdrive/MyDrive/Audio/B/01_336.wav 1\n",
            "/gdrive/MyDrive/Audio/B/01_337.wav 1\n",
            "/gdrive/MyDrive/Audio/B/01_338.wav 1\n",
            "/gdrive/MyDrive/Audio/B/01_339.wav 1\n",
            "/gdrive/MyDrive/Audio/B/01_340.wav 1\n",
            "/gdrive/MyDrive/Audio/B/01_341.wav 1\n",
            "/gdrive/MyDrive/Audio/B/01_342.wav 1\n",
            "/gdrive/MyDrive/Audio/B/01_343.wav 1\n",
            "/gdrive/MyDrive/Audio/B/01_344.wav 1\n",
            "/gdrive/MyDrive/Audio/B/01_345.wav 1\n",
            "/gdrive/MyDrive/Audio/B/01_346.wav 1\n",
            "/gdrive/MyDrive/Audio/B/01_347.wav 1\n",
            "/gdrive/MyDrive/Audio/B/01_348.wav 1\n",
            "/gdrive/MyDrive/Audio/B/01_349.wav 1\n",
            "/gdrive/MyDrive/Audio/B/01_350.wav 1\n",
            "/gdrive/MyDrive/Audio/B/01_351.wav 1\n",
            "/gdrive/MyDrive/Audio/B/01_352.wav 1\n",
            "/gdrive/MyDrive/Audio/B/01_353.wav 1\n",
            "/gdrive/MyDrive/Audio/B/01_354.wav 1\n",
            "/gdrive/MyDrive/Audio/B/01_355.wav 1\n",
            "/gdrive/MyDrive/Audio/B/01_356.wav 1\n",
            "/gdrive/MyDrive/Audio/B/01_357.wav 1\n",
            "/gdrive/MyDrive/Audio/B/01_358.wav 1\n",
            "/gdrive/MyDrive/Audio/B/01_359.wav 1\n",
            "/gdrive/MyDrive/Audio/B/01_360.wav 1\n",
            "/gdrive/MyDrive/Audio/B/01_361.wav 1\n",
            "/gdrive/MyDrive/Audio/B/01_362.wav 1\n",
            "/gdrive/MyDrive/Audio/B/01_363.wav 1\n",
            "/gdrive/MyDrive/Audio/B/01_364.wav 1\n",
            "/gdrive/MyDrive/Audio/B/01_365.wav 1\n",
            "/gdrive/MyDrive/Audio/B/01_366.wav 1\n",
            "/gdrive/MyDrive/Audio/B/01_367.wav 1\n",
            "/gdrive/MyDrive/Audio/B/01_368.wav 1\n",
            "/gdrive/MyDrive/Audio/B/01_369.wav 1\n",
            "/gdrive/MyDrive/Audio/B/01_370.wav 1\n",
            "/gdrive/MyDrive/Audio/B/01_371.wav 1\n",
            "/gdrive/MyDrive/Audio/B/01_372.wav 1\n",
            "/gdrive/MyDrive/Audio/B/01_373.wav 1\n",
            "/gdrive/MyDrive/Audio/B/01_374.wav 1\n",
            "/gdrive/MyDrive/Audio/B/01_375.wav 1\n",
            "/gdrive/MyDrive/Audio/B/01_376.wav 1\n",
            "/gdrive/MyDrive/Audio/B/01_377.wav 1\n",
            "/gdrive/MyDrive/Audio/B/01_378.wav 1\n",
            "/gdrive/MyDrive/Audio/B/01_379.wav 1\n",
            "/gdrive/MyDrive/Audio/B/01_380.wav 1\n",
            "/gdrive/MyDrive/Audio/B/01_381.wav 1\n",
            "/gdrive/MyDrive/Audio/B/01_382.wav 1\n",
            "/gdrive/MyDrive/Audio/B/01_383.wav 1\n",
            "/gdrive/MyDrive/Audio/B/01_384.wav 1\n",
            "/gdrive/MyDrive/Audio/B/01_385.wav 1\n",
            "/gdrive/MyDrive/Audio/B/01_386.wav 1\n",
            "/gdrive/MyDrive/Audio/B/01_387.wav 1\n",
            "/gdrive/MyDrive/Audio/B/01_388.wav 1\n",
            "/gdrive/MyDrive/Audio/B/01_389.wav 1\n",
            "/gdrive/MyDrive/Audio/B/01_390.wav 1\n",
            "/gdrive/MyDrive/Audio/B/01_391.wav 1\n",
            "/gdrive/MyDrive/Audio/B/01_392.wav 1\n",
            "/gdrive/MyDrive/Audio/B/01_393.wav 1\n",
            "/gdrive/MyDrive/Audio/B/01_394.wav 1\n",
            "/gdrive/MyDrive/Audio/B/01_395.wav 1\n",
            "/gdrive/MyDrive/Audio/B/01_396.wav 1\n",
            "/gdrive/MyDrive/Audio/B/01_397.wav 1\n",
            "/gdrive/MyDrive/Audio/B/00_000.wav 0\n",
            "/gdrive/MyDrive/Audio/B/00_001.wav 0\n",
            "/gdrive/MyDrive/Audio/B/00_002.wav 0\n",
            "/gdrive/MyDrive/Audio/B/00_003.wav 0\n",
            "/gdrive/MyDrive/Audio/B/00_004.wav 0\n",
            "/gdrive/MyDrive/Audio/B/00_005.wav 0\n",
            "/gdrive/MyDrive/Audio/B/00_006.wav 0\n",
            "/gdrive/MyDrive/Audio/B/00_007.wav 0\n",
            "/gdrive/MyDrive/Audio/B/00_008.wav 0\n",
            "/gdrive/MyDrive/Audio/B/00_009.wav 0\n",
            "/gdrive/MyDrive/Audio/B/00_010.wav 0\n",
            "/gdrive/MyDrive/Audio/B/00_011.wav 0\n",
            "/gdrive/MyDrive/Audio/B/00_012.wav 0\n",
            "/gdrive/MyDrive/Audio/B/00_013.wav 0\n",
            "/gdrive/MyDrive/Audio/B/00_014.wav 0\n",
            "/gdrive/MyDrive/Audio/B/00_015.wav 0\n",
            "/gdrive/MyDrive/Audio/B/00_016.wav 0\n",
            "/gdrive/MyDrive/Audio/B/00_017.wav 0\n",
            "/gdrive/MyDrive/Audio/B/00_018.wav 0\n",
            "/gdrive/MyDrive/Audio/B/00_019.wav 0\n",
            "/gdrive/MyDrive/Audio/B/00_020.wav 0\n",
            "/gdrive/MyDrive/Audio/B/00_021.wav 0\n",
            "/gdrive/MyDrive/Audio/B/00_022.wav 0\n",
            "/gdrive/MyDrive/Audio/B/00_023.wav 0\n",
            "/gdrive/MyDrive/Audio/B/00_024.wav 0\n",
            "/gdrive/MyDrive/Audio/B/00_025.wav 0\n",
            "/gdrive/MyDrive/Audio/B/00_026.wav 0\n",
            "/gdrive/MyDrive/Audio/B/00_027.wav 0\n",
            "/gdrive/MyDrive/Audio/B/00_028.wav 0\n",
            "/gdrive/MyDrive/Audio/B/00_029.wav 0\n",
            "/gdrive/MyDrive/Audio/B/00_030.wav 0\n",
            "/gdrive/MyDrive/Audio/B/00_031.wav 0\n",
            "/gdrive/MyDrive/Audio/B/00_032.wav 0\n",
            "/gdrive/MyDrive/Audio/B/00_033.wav 0\n",
            "/gdrive/MyDrive/Audio/B/00_034.wav 0\n",
            "/gdrive/MyDrive/Audio/B/00_035.wav 0\n",
            "/gdrive/MyDrive/Audio/B/00_036.wav 0\n",
            "/gdrive/MyDrive/Audio/B/00_037.wav 0\n",
            "/gdrive/MyDrive/Audio/B/00_038.wav 0\n",
            "/gdrive/MyDrive/Audio/B/00_039.wav 0\n",
            "/gdrive/MyDrive/Audio/B/00_040.wav 0\n",
            "/gdrive/MyDrive/Audio/B/00_041.wav 0\n",
            "/gdrive/MyDrive/Audio/B/00_042.wav 0\n",
            "/gdrive/MyDrive/Audio/B/00_043.wav 0\n",
            "/gdrive/MyDrive/Audio/B/00_044.wav 0\n",
            "/gdrive/MyDrive/Audio/B/00_045.wav 0\n",
            "/gdrive/MyDrive/Audio/B/00_046.wav 0\n",
            "/gdrive/MyDrive/Audio/B/00_047.wav 0\n",
            "/gdrive/MyDrive/Audio/B/00_048.wav 0\n",
            "/gdrive/MyDrive/Audio/B/00_049.wav 0\n",
            "/gdrive/MyDrive/Audio/B/00_050.wav 0\n",
            "/gdrive/MyDrive/Audio/B/00_051.wav 0\n",
            "/gdrive/MyDrive/Audio/B/00_052.wav 0\n",
            "/gdrive/MyDrive/Audio/B/00_053.wav 0\n",
            "/gdrive/MyDrive/Audio/B/00_054.wav 0\n",
            "/gdrive/MyDrive/Audio/B/00_055.wav 0\n",
            "/gdrive/MyDrive/Audio/B/00_056.wav 0\n",
            "/gdrive/MyDrive/Audio/B/00_057.wav 0\n",
            "/gdrive/MyDrive/Audio/B/00_058.wav 0\n",
            "/gdrive/MyDrive/Audio/B/00_059.wav 0\n",
            "/gdrive/MyDrive/Audio/B/00_060.wav 0\n",
            "/gdrive/MyDrive/Audio/B/00_061.wav 0\n",
            "/gdrive/MyDrive/Audio/B/00_062.wav 0\n",
            "/gdrive/MyDrive/Audio/B/00_063.wav 0\n",
            "/gdrive/MyDrive/Audio/B/00_064.wav 0\n",
            "/gdrive/MyDrive/Audio/B/00_065.wav 0\n",
            "/gdrive/MyDrive/Audio/B/00_066.wav 0\n",
            "/gdrive/MyDrive/Audio/B/00_067.wav 0\n",
            "/gdrive/MyDrive/Audio/B/00_068.wav 0\n",
            "/gdrive/MyDrive/Audio/B/00_069.wav 0\n",
            "/gdrive/MyDrive/Audio/B/00_070.wav 0\n",
            "/gdrive/MyDrive/Audio/B/00_071.wav 0\n",
            "/gdrive/MyDrive/Audio/B/00_072.wav 0\n",
            "/gdrive/MyDrive/Audio/B/00_073.wav 0\n",
            "/gdrive/MyDrive/Audio/B/00_074.wav 0\n",
            "/gdrive/MyDrive/Audio/B/00_075.wav 0\n",
            "/gdrive/MyDrive/Audio/B/00_076.wav 0\n",
            "/gdrive/MyDrive/Audio/B/00_077.wav 0\n",
            "/gdrive/MyDrive/Audio/B/00_078.wav 0\n",
            "/gdrive/MyDrive/Audio/B/00_079.wav 0\n",
            "/gdrive/MyDrive/Audio/B/00_080.wav 0\n",
            "/gdrive/MyDrive/Audio/B/00_081.wav 0\n",
            "/gdrive/MyDrive/Audio/B/00_082.wav 0\n",
            "/gdrive/MyDrive/Audio/B/00_083.wav 0\n",
            "/gdrive/MyDrive/Audio/B/00_084.wav 0\n",
            "/gdrive/MyDrive/Audio/B/00_085.wav 0\n",
            "/gdrive/MyDrive/Audio/B/00_086.wav 0\n",
            "/gdrive/MyDrive/Audio/B/00_087.wav 0\n",
            "/gdrive/MyDrive/Audio/B/00_088.wav 0\n",
            "/gdrive/MyDrive/Audio/B/00_089.wav 0\n",
            "/gdrive/MyDrive/Audio/B/00_090.wav 0\n",
            "/gdrive/MyDrive/Audio/B/00_091.wav 0\n",
            "/gdrive/MyDrive/Audio/B/00_092.wav 0\n",
            "/gdrive/MyDrive/Audio/B/00_093.wav 0\n",
            "/gdrive/MyDrive/Audio/B/00_094.wav 0\n",
            "/gdrive/MyDrive/Audio/B/00_095.wav 0\n",
            "/gdrive/MyDrive/Audio/B/00_096.wav 0\n",
            "/gdrive/MyDrive/Audio/B/00_097.wav 0\n",
            "/gdrive/MyDrive/Audio/B/00_098.wav 0\n",
            "/gdrive/MyDrive/Audio/B/00_099.wav 0\n",
            "/gdrive/MyDrive/Audio/B/00_100.wav 0\n",
            "/gdrive/MyDrive/Audio/B/00_101.wav 0\n",
            "/gdrive/MyDrive/Audio/B/00_102.wav 0\n",
            "/gdrive/MyDrive/Audio/B/00_103.wav 0\n",
            "/gdrive/MyDrive/Audio/B/00_104.wav 0\n",
            "/gdrive/MyDrive/Audio/B/00_105.wav 0\n",
            "/gdrive/MyDrive/Audio/B/00_106.wav 0\n",
            "/gdrive/MyDrive/Audio/B/00_107.wav 0\n",
            "/gdrive/MyDrive/Audio/B/00_108.wav 0\n",
            "/gdrive/MyDrive/Audio/B/00_109.wav 0\n",
            "/gdrive/MyDrive/Audio/B/00_110.wav 0\n",
            "/gdrive/MyDrive/Audio/B/00_111.wav 0\n",
            "/gdrive/MyDrive/Audio/B/00_112.wav 0\n",
            "/gdrive/MyDrive/Audio/B/00_113.wav 0\n",
            "/gdrive/MyDrive/Audio/B/00_114.wav 0\n",
            "/gdrive/MyDrive/Audio/B/00_115.wav 0\n",
            "/gdrive/MyDrive/Audio/B/00_116.wav 0\n",
            "/gdrive/MyDrive/Audio/B/00_117.wav 0\n",
            "/gdrive/MyDrive/Audio/B/00_118.wav 0\n",
            "/gdrive/MyDrive/Audio/B/00_119.wav 0\n",
            "/gdrive/MyDrive/Audio/B/00_120.wav 0\n",
            "/gdrive/MyDrive/Audio/B/00_121.wav 0\n",
            "/gdrive/MyDrive/Audio/B/00_122.wav 0\n",
            "/gdrive/MyDrive/Audio/B/00_123.wav 0\n",
            "/gdrive/MyDrive/Audio/B/00_124.wav 0\n",
            "/gdrive/MyDrive/Audio/B/00_125.wav 0\n",
            "/gdrive/MyDrive/Audio/B/00_126.wav 0\n",
            "/gdrive/MyDrive/Audio/B/00_127.wav 0\n",
            "/gdrive/MyDrive/Audio/B/00_128.wav 0\n",
            "/gdrive/MyDrive/Audio/B/00_129.wav 0\n",
            "/gdrive/MyDrive/Audio/B/00_130.wav 0\n",
            "/gdrive/MyDrive/Audio/B/00_131.wav 0\n",
            "/gdrive/MyDrive/Audio/B/00_132.wav 0\n",
            "/gdrive/MyDrive/Audio/B/00_133.wav 0\n",
            "/gdrive/MyDrive/Audio/B/00_134.wav 0\n",
            "/gdrive/MyDrive/Audio/B/00_135.wav 0\n",
            "/gdrive/MyDrive/Audio/B/00_136.wav 0\n",
            "/gdrive/MyDrive/Audio/B/00_137.wav 0\n",
            "/gdrive/MyDrive/Audio/B/00_138.wav 0\n",
            "/gdrive/MyDrive/Audio/B/00_139.wav 0\n",
            "/gdrive/MyDrive/Audio/B/00_140.wav 0\n",
            "/gdrive/MyDrive/Audio/B/00_141.wav 0\n",
            "/gdrive/MyDrive/Audio/B/00_142.wav 0\n",
            "/gdrive/MyDrive/Audio/B/00_143.wav 0\n",
            "/gdrive/MyDrive/Audio/B/00_144.wav 0\n",
            "/gdrive/MyDrive/Audio/B/00_145.wav 0\n",
            "/gdrive/MyDrive/Audio/B/00_146.wav 0\n",
            "/gdrive/MyDrive/Audio/B/00_147.wav 0\n",
            "/gdrive/MyDrive/Audio/B/00_148.wav 0\n",
            "/gdrive/MyDrive/Audio/B/00_149.wav 0\n",
            "/gdrive/MyDrive/Audio/B/00_150.wav 0\n",
            "/gdrive/MyDrive/Audio/B/00_151.wav 0\n",
            "/gdrive/MyDrive/Audio/B/00_152.wav 0\n"
          ]
        }
      ]
    },
    {
      "cell_type": "code",
      "source": [
        "print(raw_y[980])\n",
        "IPython.display.Audio(raw_x[980], rate=SAMPLING_RATE)"
      ],
      "metadata": {
        "colab": {
          "base_uri": "https://localhost:8080/",
          "height": 92
        },
        "id": "LMyoGSYqiA2D",
        "outputId": "ddbd17e9-2d39-4c47-c7b1-5507b4242e5a"
      },
      "execution_count": 6,
      "outputs": [
        {
          "output_type": "stream",
          "name": "stdout",
          "text": [
            "1\n"
          ]
        },
        {
          "output_type": "execute_result",
          "data": {
            "text/plain": [
              "<IPython.lib.display.Audio object>"
            ],
            "text/html": [
              "\n",
              "                <audio  controls=\"controls\" >\n",
              "                    <source src=\"data:audio/wav;base64,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\" type=\"audio/wav\" />\n",
              "                    Your browser does not support the audio element.\n",
              "                </audio>\n",
              "              "
            ]
          },
          "metadata": {},
          "execution_count": 6
        }
      ]
    },
    {
      "cell_type": "code",
      "source": [
        "print(raw_y[1])\n",
        "IPython.display.Audio(raw_x[1], rate=SAMPLING_RATE)"
      ],
      "metadata": {
        "colab": {
          "base_uri": "https://localhost:8080/",
          "height": 92
        },
        "id": "bjXXExOuiHcr",
        "outputId": "4df9a30d-22a4-438d-c3c6-264ace44581d"
      },
      "execution_count": 7,
      "outputs": [
        {
          "output_type": "stream",
          "name": "stdout",
          "text": [
            "0\n"
          ]
        },
        {
          "output_type": "execute_result",
          "data": {
            "text/plain": [
              "<IPython.lib.display.Audio object>"
            ],
            "text/html": [
              "\n",
              "                <audio  controls=\"controls\" >\n",
              "                    <source src=\"data:audio/wav;base64,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\" type=\"audio/wav\" />\n",
              "                    Your browser does not support the audio element.\n",
              "                </audio>\n",
              "              "
            ]
          },
          "metadata": {},
          "execution_count": 7
        }
      ]
    },
    {
      "cell_type": "code",
      "source": [
        "from collections import Counter\n",
        "Counter(raw_y)\n"
      ],
      "metadata": {
        "colab": {
          "base_uri": "https://localhost:8080/"
        },
        "id": "WY8Ro3dfdARJ",
        "outputId": "95ae6c7b-7b40-4173-8734-dd5351490267"
      },
      "execution_count": 8,
      "outputs": [
        {
          "output_type": "execute_result",
          "data": {
            "text/plain": [
              "Counter({0: 348, 2: 408, 1: 397})"
            ]
          },
          "metadata": {},
          "execution_count": 8
        }
      ]
    },
    {
      "cell_type": "markdown",
      "source": [
        "# padding"
      ],
      "metadata": {
        "id": "M1e1eHmSNfY9"
      }
    },
    {
      "cell_type": "code",
      "source": [
        "lens = []\n",
        "for i in range(len(raw_x)):\n",
        "    lens.append(len(raw_x[i]))\n",
        "\n",
        "plt.hist(lens, bins=100)\n",
        "plt.show()"
      ],
      "metadata": {
        "colab": {
          "base_uri": "https://localhost:8080/",
          "height": 268
        },
        "id": "FsjDBDIOEVd4",
        "outputId": "f43c3aca-5b37-4538-81ad-042800f8f48e"
      },
      "execution_count": 9,
      "outputs": [
        {
          "output_type": "display_data",
          "data": {
            "text/plain": [
              "<Figure size 432x288 with 1 Axes>"
            ],
            "image/png": "[encoded data removed]"
          },
          "metadata": {
            "needs_background": "light"
          }
        }
      ]
    },
    {
      "cell_type": "code",
      "source": [
        "print(lens[:10])"
      ],
      "metadata": {
        "colab": {
          "base_uri": "https://localhost:8080/"
        },
        "id": "92aGHRkbkisj",
        "outputId": "4a0dd723-8070-4c0e-d5a2-eda0862c30f4"
      },
      "execution_count": 10,
      "outputs": [
        {
          "output_type": "stream",
          "name": "stdout",
          "text": [
            "[10153, 9750, 10392, 9923, 9841, 10515, 10356, 10222, 10087, 9649]\n"
          ]
        }
      ]
    },
    {
      "cell_type": "code",
      "source": [
        "from tensorflow.keras.preprocessing import sequence\n",
        "\n",
        "padded_raw_x = sequence.pad_sequences(raw_x, maxlen=22050, padding='post', dtype=float)\n",
        "# 파일 길이를 똑같이 맞춤 22050 (1초로)"
      ],
      "metadata": {
        "id": "aghztZe9-1N5"
      },
      "execution_count": 11,
      "outputs": []
    },
    {
      "cell_type": "code",
      "source": [
        "print(raw_y[980])\n",
        "IPython.display.Audio(raw_x[980], rate=SAMPLING_RATE)"
      ],
      "metadata": {
        "colab": {
          "base_uri": "https://localhost:8080/",
          "height": 92
        },
        "outputId": "1d3bef9f-9863-41b7-ffec-f3715ce45511",
        "id": "7mTCyMzWiVAZ"
      },
      "execution_count": 12,
      "outputs": [
        {
          "output_type": "stream",
          "name": "stdout",
          "text": [
            "1\n"
          ]
        },
        {
          "output_type": "execute_result",
          "data": {
            "text/plain": [
              "<IPython.lib.display.Audio object>"
            ],
            "text/html": [
              "\n",
              "                <audio  controls=\"controls\" >\n",
              "                    <source src=\"data:audio/wav;base64,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\" type=\"audio/wav\" />\n",
              "                    Your browser does not support the audio element.\n",
              "                </audio>\n",
              "              "
            ]
          },
          "metadata": {},
          "execution_count": 12
        }
      ]
    },
    {
      "cell_type": "code",
      "source": [
        "print(raw_y[1])\n",
        "IPython.display.Audio(raw_x[1], rate=SAMPLING_RATE)"
      ],
      "metadata": {
        "colab": {
          "base_uri": "https://localhost:8080/",
          "height": 92
        },
        "outputId": "d939777b-d3a6-4b2e-d990-689a2695bf9a",
        "id": "R6-jXew3iVAZ"
      },
      "execution_count": 13,
      "outputs": [
        {
          "output_type": "stream",
          "name": "stdout",
          "text": [
            "0\n"
          ]
        },
        {
          "output_type": "execute_result",
          "data": {
            "text/plain": [
              "<IPython.lib.display.Audio object>"
            ],
            "text/html": [
              "\n",
              "                <audio  controls=\"controls\" >\n",
              "                    <source src=\"data:audio/wav;base64,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\" type=\"audio/wav\" />\n",
              "                    Your browser does not support the audio element.\n",
              "                </audio>\n",
              "              "
            ]
          },
          "metadata": {},
          "execution_count": 13
        }
      ]
    },
    {
      "cell_type": "code",
      "source": [
        "raw_x = np.array(padded_raw_x)\n",
        "raw_y = np.array(raw_y)\n",
        "print(raw_x.shape)  \n",
        "print(raw_y.shape)"
      ],
      "metadata": {
        "colab": {
          "base_uri": "https://localhost:8080/"
        },
        "id": "1b-zDbF--1LQ",
        "outputId": "3448b2d6-160a-415e-9b65-b8fd0d78864a"
      },
      "execution_count": 14,
      "outputs": [
        {
          "output_type": "stream",
          "name": "stdout",
          "text": [
            "(1153, 22050)\n",
            "(1153,)\n"
          ]
        }
      ]
    },
    {
      "cell_type": "code",
      "source": [
        "print(raw_y[980])\n",
        "IPython.display.Audio(raw_x[980], rate=SAMPLING_RATE)"
      ],
      "metadata": {
        "colab": {
          "base_uri": "https://localhost:8080/",
          "height": 92
        },
        "outputId": "3511c77b-cae7-4c3d-a46f-913a0b8bc458",
        "id": "kvxddiJmibQf"
      },
      "execution_count": 15,
      "outputs": [
        {
          "output_type": "stream",
          "name": "stdout",
          "text": [
            "1\n"
          ]
        },
        {
          "output_type": "execute_result",
          "data": {
            "text/plain": [
              "<IPython.lib.display.Audio object>"
            ],
            "text/html": [
              "\n",
              "                <audio  controls=\"controls\" >\n",
              "                    <source src=\"data:audio/wav;base64,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\" type=\"audio/wav\" />\n",
              "                    Your browser does not support the audio element.\n",
              "                </audio>\n",
              "              "
            ]
          },
          "metadata": {},
          "execution_count": 15
        }
      ]
    },
    {
      "cell_type": "code",
      "source": [
        "print(raw_y[1])\n",
        "IPython.display.Audio(raw_x[1], rate=SAMPLING_RATE)"
      ],
      "metadata": {
        "colab": {
          "base_uri": "https://localhost:8080/",
          "height": 92
        },
        "outputId": "844ae4a8-d077-456f-9a18-1de9a019afab",
        "id": "o02lV35TibQg"
      },
      "execution_count": 16,
      "outputs": [
        {
          "output_type": "stream",
          "name": "stdout",
          "text": [
            "0\n"
          ]
        },
        {
          "output_type": "execute_result",
          "data": {
            "text/plain": [
              "<IPython.lib.display.Audio object>"
            ],
            "text/html": [
              "\n",
              "                <audio  controls=\"controls\" >\n",
              "                    <source src=\"data:audio/wav;base64,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\" type=\"audio/wav\" />\n",
              "                    Your browser does not support the audio element.\n",
              "                </audio>\n",
              "              "
            ]
          },
          "metadata": {},
          "execution_count": 16
        }
      ]
    },
    {
      "cell_type": "markdown",
      "source": [
        "# Normalization"
      ],
      "metadata": {
        "id": "fMc7mKiONdAs"
      }
    },
    {
      "cell_type": "code",
      "source": [],
      "metadata": {
        "id": "-KNY-Pztk8uI"
      },
      "execution_count": 16,
      "outputs": []
    },
    {
      "cell_type": "code",
      "source": [
        "max = np.max(raw_x)\n",
        "min = np.min(raw_x)\n",
        "print(min, max)"
      ],
      "metadata": {
        "colab": {
          "base_uri": "https://localhost:8080/"
        },
        "id": "Yb7uzqDONoSF",
        "outputId": "50bd740a-f5be-4ea3-d1f4-217406bdb833"
      },
      "execution_count": 17,
      "outputs": [
        {
          "output_type": "stream",
          "name": "stdout",
          "text": [
            "-1.001734972000122 1.0368831157684326\n"
          ]
        }
      ]
    },
    {
      "cell_type": "code",
      "source": [
        "# raw_x = (raw_x - min) / (max - min)"
      ],
      "metadata": {
        "id": "xjE3MuKwNcGt"
      },
      "execution_count": 18,
      "outputs": []
    },
    {
      "cell_type": "markdown",
      "source": [
        "# 2차원으로 reshape"
      ],
      "metadata": {
        "id": "T-iyrW8_N869"
      }
    },
    {
      "cell_type": "code",
      "source": [
        "print(raw_x.shape)\n",
        "raw_x = raw_x.reshape((len(raw_x),-1,1))\n",
        "print(raw_x.shape)"
      ],
      "metadata": {
        "id": "EXF8sZPYN_RL",
        "colab": {
          "base_uri": "https://localhost:8080/"
        },
        "outputId": "c511506e-ed06-41cd-ae6e-0fbab4534b48"
      },
      "execution_count": 19,
      "outputs": [
        {
          "output_type": "stream",
          "name": "stdout",
          "text": [
            "(1153, 22050)\n",
            "(1153, 22050, 1)\n"
          ]
        }
      ]
    },
    {
      "cell_type": "markdown",
      "source": [
        "# 데이터 분리"
      ],
      "metadata": {
        "id": "EjXer_ucN67c"
      }
    },
    {
      "cell_type": "code",
      "source": [
        "from sklearn.model_selection import train_test_split\n",
        "\n",
        "train_x, test_x, train_y, test_y = train_test_split(raw_x, raw_y, test_size=0.2, shuffle=True)"
      ],
      "metadata": {
        "id": "Z54gJGmi-1Ig"
      },
      "execution_count": 20,
      "outputs": []
    },
    {
      "cell_type": "code",
      "source": [
        "print(len(train_y))\n",
        "print(train_y[len(train_y)-1])\n",
        "IPython.display.Audio(train_x[len(train_y)-1].squeeze(), rate=SAMPLING_RATE)"
      ],
      "metadata": {
        "colab": {
          "base_uri": "https://localhost:8080/",
          "height": 110
        },
        "outputId": "fc6c6638-3376-4dbd-a136-712537b29a3a",
        "id": "ar3Q1ezWinMR"
      },
      "execution_count": 21,
      "outputs": [
        {
          "output_type": "stream",
          "name": "stdout",
          "text": [
            "922\n",
            "0\n"
          ]
        },
        {
          "output_type": "execute_result",
          "data": {
            "text/plain": [
              "<IPython.lib.display.Audio object>"
            ],
            "text/html": [
              "\n",
              "                <audio  controls=\"controls\" >\n",
              "                    <source src=\"data:audio/wav;base64,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\" type=\"audio/wav\" />\n",
              "                    Your browser does not support the audio element.\n",
              "                </audio>\n",
              "              "
            ]
          },
          "metadata": {},
          "execution_count": 21
        }
      ]
    },
    {
      "cell_type": "code",
      "source": [
        "print(train_y[1])\n",
        "IPython.display.Audio(train_x[1].squeeze(), rate=SAMPLING_RATE)"
      ],
      "metadata": {
        "colab": {
          "base_uri": "https://localhost:8080/",
          "height": 92
        },
        "outputId": "2e59a5b0-c289-41c5-ef0e-816dff5fd618",
        "id": "RFKC_o3IinMS"
      },
      "execution_count": 22,
      "outputs": [
        {
          "output_type": "stream",
          "name": "stdout",
          "text": [
            "1\n"
          ]
        },
        {
          "output_type": "execute_result",
          "data": {
            "text/plain": [
              "<IPython.lib.display.Audio object>"
            ],
            "text/html": [
              "\n",
              "                <audio  controls=\"controls\" >\n",
              "                    <source src=\"data:audio/wav;base64,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\" type=\"audio/wav\" />\n",
              "                    Your browser does not support the audio element.\n",
              "                </audio>\n",
              "              "
            ]
          },
          "metadata": {},
          "execution_count": 22
        }
      ]
    },
    {
      "cell_type": "code",
      "source": [
        "print(train_x.shape)\n",
        "print(train_y.shape)\n"
      ],
      "metadata": {
        "colab": {
          "base_uri": "https://localhost:8080/"
        },
        "id": "9DF-X34ifJgr",
        "outputId": "507e8612-cec5-499e-d2fd-57b4a8a839e1"
      },
      "execution_count": 23,
      "outputs": [
        {
          "output_type": "stream",
          "name": "stdout",
          "text": [
            "(922, 22050, 1)\n",
            "(922,)\n"
          ]
        }
      ]
    },
    {
      "cell_type": "code",
      "source": [
        "# copy from https://gist.github.com/stared/dfb4dfaf6d9a8501cd1cc8b8cb806d2e\n",
        "\n",
        "# loss graph를 학습하면서 실시간으로 그리는 방법\n",
        "\n",
        "from IPython.display import clear_output\n",
        "from tensorflow.keras.callbacks import Callback\n",
        "\n",
        "class PlotLosses(Callback):\n",
        "\n",
        "  def on_train_begin(self, logs={}):\n",
        "    self.epochs = []\n",
        "    self.losses = []\n",
        "    self.val_losses = []\n",
        "    self.logs = []\n",
        "    self.fig = plt.figure()\n",
        "\n",
        "\n",
        "  def on_epoch_end(self, epoch, logs={}):\n",
        "\n",
        "    self.epochs.append(epoch)\n",
        "    self.losses.append(logs.get('loss'))\n",
        "    self.val_losses.append(logs.get('val_loss'))\n",
        "\n",
        "    clear_output(wait=True)\n",
        "    plt.plot(self.epochs, self.losses, label=\"loss\")\n",
        "    plt.plot(self.epochs, self.val_losses, label=\"val_loss\")\n",
        "    plt.legend()\n",
        "    plt.show();\n",
        "    print(\"epochs = \", self.epochs[-1], \"loss = \", self.losses[-1], \", val_loss = \", self.val_losses[-1])"
      ],
      "metadata": {
        "id": "xULPFYqYA4Pv"
      },
      "execution_count": 29,
      "outputs": []
    },
    {
      "cell_type": "code",
      "source": [
        "from tensorflow import keras\n",
        "from tensorflow.keras.layers import Dense, RepeatVector, Flatten, Input, Activation\n",
        "from tensorflow.keras.layers import Bidirectional, LSTM, GRU, Conv1D, MaxPooling1D, AveragePooling1D, Add, MaxPool1D\n",
        "from tensorflow.keras.layers import Dropout, GaussianNoise, BatchNormalization\n",
        "from tensorflow.keras.regularizers import l1, l2, L1L2\n",
        "\n",
        "input_shape = train_x.shape[1:]\n",
        "num_classes = 3  # B 폴더 [0: 가수, 1:오리, 2:파도]\n",
        "\n",
        "model = keras.Sequential()\n",
        "model.add(Input(input_shape))\n",
        "\n",
        "\n",
        "model.add(Conv1D(32, 27, padding=\"same\", activation=\"relu\"))  \n",
        "model.add(Conv1D(32, 27, padding=\"same\", activation=\"relu\")) \n",
        "model.add(MaxPooling1D())\n",
        "model.add(BatchNormalization())\n",
        "# model.add(Dropout(0.3))\n",
        "\n",
        "model.add(Conv1D(64, 27, padding=\"same\", activation=\"relu\"))  \n",
        "model.add(Conv1D(64, 27, padding=\"same\", activation=\"relu\"))  \n",
        "model.add(MaxPooling1D())\n",
        "model.add(BatchNormalization())\n",
        "# model.add(Dropout(0.3))\n",
        "\n",
        "model.add(Conv1D(128, 27, padding=\"same\", activation=\"relu\"))  \n",
        "model.add(Conv1D(128, 27, padding=\"same\", activation=\"relu\"))  \n",
        "model.add(Conv1D(128, 27, padding=\"same\", activation=\"relu\"))  \n",
        "model.add(MaxPooling1D())\n",
        "model.add(BatchNormalization())\n",
        "# model.add(Dropout(0.3))\n",
        "\n",
        "model.add(Conv1D(256, 27, padding=\"same\", activation=\"relu\"))  \n",
        "model.add(Conv1D(256, 27, padding=\"same\", activation=\"relu\"))  \n",
        "model.add(Conv1D(256, 27, padding=\"same\", activation=\"relu\"))  \n",
        "model.add(MaxPooling1D())\n",
        "model.add(BatchNormalization())\n",
        "# model.add(Dropout(0.3))\n",
        "\n",
        "model.add(Conv1D(256, 27, padding=\"same\", activation=\"relu\"))  \n",
        "model.add(Conv1D(256, 27, padding=\"same\", activation=\"relu\"))  \n",
        "model.add(Conv1D(256, 27, padding=\"same\", activation=\"relu\"))  \n",
        "model.add(MaxPooling1D())\n",
        "model.add(BatchNormalization())\n",
        "# model.add(Dropout(0.3))\n",
        "\n",
        "model.add(Conv1D(256, 27, padding=\"same\", activation=\"relu\"))  \n",
        "model.add(Conv1D(256, 27, padding=\"same\", activation=\"relu\"))  \n",
        "model.add(Conv1D(256, 27, padding=\"same\", activation=\"relu\"))  \n",
        "model.add(MaxPooling1D())\n",
        "model.add(Dropout(0.3))\n",
        "model.add(BatchNormalization())\n",
        "\n",
        "model.add(Flatten())\n",
        "model.add(Dense(256, activation=\"relu\")) #, kernel_regularizer=l2()))\n",
        "model.add(BatchNormalization())\n",
        "\n",
        "model.add(Dense(num_classes, activation=\"softmax\"))  \n",
        "\n",
        "from tensorflow.keras.optimizers import Adam, Adadelta, SGD\n",
        "# optimizer = SGD(learning_rate=0.001) # *0.1, decay=0.01)  \n",
        "optimizer = Adam(learning_rate=0.001*0.1, decay=0.01) \n",
        "\n",
        "model.compile(loss=\"sparse_categorical_crossentropy\", optimizer=optimizer, metrics=[\"acc\"])\n",
        "model.summary()\n"
      ],
      "metadata": {
        "colab": {
          "base_uri": "https://localhost:8080/"
        },
        "id": "pT7VVvOygvXA",
        "outputId": "064d5fcb-2a14-4456-e295-07d2c0c4c914"
      },
      "execution_count": 32,
      "outputs": [
        {
          "output_type": "stream",
          "name": "stdout",
          "text": [
            "Model: \"sequential_2\"\n",
            "_________________________________________________________________\n",
            " Layer (type)                Output Shape              Param #   \n",
            "=================================================================\n",
            " conv1d_32 (Conv1D)          (None, 22050, 32)         896       \n",
            "                                                                 \n",
            " conv1d_33 (Conv1D)          (None, 22050, 32)         27680     \n",
            "                                                                 \n",
            " max_pooling1d_12 (MaxPoolin  (None, 11025, 32)        0         \n",
            " g1D)                                                            \n",
            "                                                                 \n",
            " batch_normalization_1 (Batc  (None, 11025, 32)        128       \n",
            " hNormalization)                                                 \n",
            "                                                                 \n",
            " conv1d_34 (Conv1D)          (None, 11025, 64)         55360     \n",
            "                                                                 \n",
            " conv1d_35 (Conv1D)          (None, 11025, 64)         110656    \n",
            "                                                                 \n",
            " max_pooling1d_13 (MaxPoolin  (None, 5512, 64)         0         \n",
            " g1D)                                                            \n",
            "                                                                 \n",
            " batch_normalization_2 (Batc  (None, 5512, 64)         256       \n",
            " hNormalization)                                                 \n",
            "                                                                 \n",
            " conv1d_36 (Conv1D)          (None, 5512, 128)         221312    \n",
            "                                                                 \n",
            " conv1d_37 (Conv1D)          (None, 5512, 128)         442496    \n",
            "                                                                 \n",
            " conv1d_38 (Conv1D)          (None, 5512, 128)         442496    \n",
            "                                                                 \n",
            " max_pooling1d_14 (MaxPoolin  (None, 2756, 128)        0         \n",
            " g1D)                                                            \n",
            "                                                                 \n",
            " batch_normalization_3 (Batc  (None, 2756, 128)        512       \n",
            " hNormalization)                                                 \n",
            "                                                                 \n",
            " conv1d_39 (Conv1D)          (None, 2756, 256)         884992    \n",
            "                                                                 \n",
            " conv1d_40 (Conv1D)          (None, 2756, 256)         1769728   \n",
            "                                                                 \n",
            " conv1d_41 (Conv1D)          (None, 2756, 256)         1769728   \n",
            "                                                                 \n",
            " max_pooling1d_15 (MaxPoolin  (None, 1378, 256)        0         \n",
            " g1D)                                                            \n",
            "                                                                 \n",
            " batch_normalization_4 (Batc  (None, 1378, 256)        1024      \n",
            " hNormalization)                                                 \n",
            "                                                                 \n",
            " conv1d_42 (Conv1D)          (None, 1378, 256)         1769728   \n",
            "                                                                 \n",
            " conv1d_43 (Conv1D)          (None, 1378, 256)         1769728   \n",
            "                                                                 \n",
            " conv1d_44 (Conv1D)          (None, 1378, 256)         1769728   \n",
            "                                                                 \n",
            " max_pooling1d_16 (MaxPoolin  (None, 689, 256)         0         \n",
            " g1D)                                                            \n",
            "                                                                 \n",
            " batch_normalization_5 (Batc  (None, 689, 256)         1024      \n",
            " hNormalization)                                                 \n",
            "                                                                 \n",
            " conv1d_45 (Conv1D)          (None, 689, 256)          1769728   \n",
            "                                                                 \n",
            " conv1d_46 (Conv1D)          (None, 689, 256)          1769728   \n",
            "                                                                 \n",
            " conv1d_47 (Conv1D)          (None, 689, 256)          1769728   \n",
            "                                                                 \n",
            " max_pooling1d_17 (MaxPoolin  (None, 344, 256)         0         \n",
            " g1D)                                                            \n",
            "                                                                 \n",
            " dropout_7 (Dropout)         (None, 344, 256)          0         \n",
            "                                                                 \n",
            " batch_normalization_6 (Batc  (None, 344, 256)         1024      \n",
            " hNormalization)                                                 \n",
            "                                                                 \n",
            " flatten_2 (Flatten)         (None, 88064)             0         \n",
            "                                                                 \n",
            " dense_4 (Dense)             (None, 256)               22544640  \n",
            "                                                                 \n",
            " batch_normalization_7 (Batc  (None, 256)              1024      \n",
            " hNormalization)                                                 \n",
            "                                                                 \n",
            " dense_5 (Dense)             (None, 3)                 771       \n",
            "                                                                 \n",
            "=================================================================\n",
            "Total params: 38,894,115\n",
            "Trainable params: 38,891,619\n",
            "Non-trainable params: 2,496\n",
            "_________________________________________________________________\n"
          ]
        }
      ]
    },
    {
      "cell_type": "code",
      "source": [
        "plot_losses = PlotLosses()\n",
        "history = model.fit(train_x, train_y, epochs=100, verbose=1, validation_split=0.1, batch_size=32,\n",
        "                    callbacks=[plot_losses])"
      ],
      "metadata": {
        "colab": {
          "base_uri": "https://localhost:8080/",
          "height": 302
        },
        "id": "ksVvwmtJjQ9S",
        "outputId": "58e8060b-726a-465e-ccbd-c4dbb2c8ce15"
      },
      "execution_count": 33,
      "outputs": [
        {
          "output_type": "display_data",
          "data": {
            "text/plain": [
              "<Figure size 432x288 with 1 Axes>"
            ],
            "image/png": "[encoded data removed]"
          },
          "metadata": {
            "needs_background": "light"
          }
        },
        {
          "output_type": "stream",
          "name": "stdout",
          "text": [
            "epochs =  99 loss =  0.0012590773403644562 , val_loss =  0.04898197948932648\n",
            "\b\b\b\b\b\b\b\b\b\b\b\b\b\b\b\b\b\b\b\b\b\b\b\b\b\b\b\b\b\b\b\b\b\b\b\b\b\b\b\b\b\b\b\b\b\b\b\b\b\b\b\b\b\b\b\b\b\b\b\b\b\b\b\b\b\b\b\b\b\b\b\b\b\b\b\b\b\r26/26 [==============================] - 8s 303ms/step - loss: 0.0013 - acc: 1.0000 - val_loss: 0.0490 - val_acc: 0.9892\n"
          ]
        }
      ]
    },
    {
      "cell_type": "code",
      "source": [
        "loss, acc = model.evaluate(test_x, test_y)\n",
        "print(\"loss=\", loss)\n",
        "print(\"acc=\", acc)\n",
        "\n",
        "\n",
        "y_ = model.predict(test_x)\n",
        "predicted = np.argmax(y_, axis=-1)\n",
        "plt.plot(test_y[:30], 'o')\n",
        "plt.plot(predicted[:30], '.')\n",
        "plt.show()\n"
      ],
      "metadata": {
        "id": "8lHjjByavmmo",
        "colab": {
          "base_uri": "https://localhost:8080/",
          "height": 320
        },
        "outputId": "d7b436f2-0fce-458a-b1ef-a59c27774921"
      },
      "execution_count": 34,
      "outputs": [
        {
          "output_type": "stream",
          "name": "stdout",
          "text": [
            "8/8 [==============================] - 0s 46ms/step - loss: 0.1414 - acc: 0.9740\n",
            "loss= 0.14140471816062927\n",
            "acc= 0.9740259647369385\n"
          ]
        },
        {
          "output_type": "display_data",
          "data": {
            "text/plain": [
              "<Figure size 432x288 with 1 Axes>"
            ],
            "image/png": "[encoded data removed]"
          },
          "metadata": {
            "needs_background": "light"
          }
        }
      ]
    },
    {
      "cell_type": "code",
      "source": [
        "model.save('../gdrive/MyDrive/Audio/model/ganada_B_220908_acc97.h5')"
      ],
      "metadata": {
        "id": "dFjSSA8-p1oV"
      },
      "execution_count": 35,
      "outputs": []
    }
  ]
}
