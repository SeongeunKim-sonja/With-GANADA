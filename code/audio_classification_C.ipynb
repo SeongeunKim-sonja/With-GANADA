{
  "nbformat": 4,
  "nbformat_minor": 0,
  "metadata": {
    "colab": {
      "name": "audio_classification_C.ipynb",
      "provenance": [],
      "collapsed_sections": [],
      "machine_shape": "hm",
      "include_colab_link": true
    },
    "kernelspec": {
      "name": "python3",
      "display_name": "Python 3"
    },
    "language_info": {
      "name": "python"
    },
    "accelerator": "GPU",
    "gpuClass": "standard"
  },
  "cells": [
    {
      "cell_type": "markdown",
      "metadata": {
        "id": "view-in-github",
        "colab_type": "text"
      },
      "source": [
        "<a href=\"https://colab.research.google.com/github/bomij33/With-GANADA/blob/bomi/code/audio_classification_C.ipynb\" target=\"_parent\"><img src=\"https://colab.research.google.com/assets/colab-badge.svg\" alt=\"Open In Colab\"/></a>"
      ]
    },
    {
      "cell_type": "markdown",
      "source": [
        "# Tensorflow 버전 다운로드 2.8.0"
      ],
      "metadata": {
        "id": "PA6S3Wm8D4D4"
      }
    },
    {
      "cell_type": "code",
      "source": [
        "import tensorflow as tf\n",
        "print(tf.__version__)"
      ],
      "metadata": {
        "colab": {
          "base_uri": "https://localhost:8080/"
        },
        "id": "b6FxXRPnT828",
        "outputId": "c20e293a-7be7-47b3-ee16-b607009eb8a2"
      },
      "execution_count": null,
      "outputs": [
        {
          "output_type": "stream",
          "name": "stdout",
          "text": [
            "2.8.2\n"
          ]
        }
      ]
    },
    {
      "cell_type": "code",
      "source": [
        "!pip uninstall tensorflow"
      ],
      "metadata": {
        "colab": {
          "base_uri": "https://localhost:8080/"
        },
        "id": "KU2qUfwbxImC",
        "outputId": "c91c5048-981b-4f01-8d93-8a028eae3efa"
      },
      "execution_count": null,
      "outputs": [
        {
          "output_type": "stream",
          "name": "stdout",
          "text": [
            "Found existing installation: tensorflow 2.8.2+zzzcolab20220719082949\n",
            "Uninstalling tensorflow-2.8.2+zzzcolab20220719082949:\n",
            "  Would remove:\n",
            "    /usr/local/bin/estimator_ckpt_converter\n",
            "    /usr/local/bin/import_pb_to_tensorboard\n",
            "    /usr/local/bin/saved_model_cli\n",
            "    /usr/local/bin/tensorboard\n",
            "    /usr/local/bin/tf_upgrade_v2\n",
            "    /usr/local/bin/tflite_convert\n",
            "    /usr/local/bin/toco\n",
            "    /usr/local/bin/toco_from_protos\n",
            "    /usr/local/lib/python3.7/dist-packages/tensorflow-2.8.2+zzzcolab20220719082949.dist-info/*\n",
            "    /usr/local/lib/python3.7/dist-packages/tensorflow/*\n",
            "Proceed (y/n)? y\n",
            "  Successfully uninstalled tensorflow-2.8.2+zzzcolab20220719082949\n"
          ]
        }
      ]
    },
    {
      "cell_type": "code",
      "source": [
        "!pip install tensorflow==2.8.0"
      ],
      "metadata": {
        "colab": {
          "base_uri": "https://localhost:8080/",
          "height": 1000
        },
        "id": "2Tg_70W8xSMY",
        "outputId": "a41364c9-0bc7-463d-9f8a-6e4a1666cdf8"
      },
      "execution_count": null,
      "outputs": [
        {
          "output_type": "stream",
          "name": "stdout",
          "text": [
            "Looking in indexes: https://pypi.org/simple, https://us-python.pkg.dev/colab-wheels/public/simple/\n",
            "Collecting tensorflow==2.8.0\n",
            "  Downloading https://us-python.pkg.dev/colab-wheels/public/tensorflow/tensorflow-2.8.0%2Bzzzcolab20220506162203-cp37-cp37m-linux_x86_64.whl (668.3 MB)\n",
            "\u001b[K     |████████████████████████████████| 668.3 MB 17 kB/s \n",
            "\u001b[?25hRequirement already satisfied: typing-extensions>=3.6.6 in /usr/local/lib/python3.7/dist-packages (from tensorflow==2.8.0) (4.1.1)\n",
            "Requirement already satisfied: six>=1.12.0 in /usr/local/lib/python3.7/dist-packages (from tensorflow==2.8.0) (1.15.0)\n",
            "Requirement already satisfied: google-pasta>=0.1.1 in /usr/local/lib/python3.7/dist-packages (from tensorflow==2.8.0) (0.2.0)\n",
            "Requirement already satisfied: termcolor>=1.1.0 in /usr/local/lib/python3.7/dist-packages (from tensorflow==2.8.0) (1.1.0)\n",
            "Requirement already satisfied: keras<2.9,>=2.8.0rc0 in /usr/local/lib/python3.7/dist-packages (from tensorflow==2.8.0) (2.8.0)\n",
            "Requirement already satisfied: numpy>=1.20 in /usr/local/lib/python3.7/dist-packages (from tensorflow==2.8.0) (1.21.6)\n",
            "Requirement already satisfied: keras-preprocessing>=1.1.1 in /usr/local/lib/python3.7/dist-packages (from tensorflow==2.8.0) (1.1.2)\n",
            "Requirement already satisfied: setuptools in /usr/local/lib/python3.7/dist-packages (from tensorflow==2.8.0) (57.4.0)\n",
            "Requirement already satisfied: flatbuffers>=1.12 in /usr/local/lib/python3.7/dist-packages (from tensorflow==2.8.0) (2.0)\n",
            "Requirement already satisfied: wrapt>=1.11.0 in /usr/local/lib/python3.7/dist-packages (from tensorflow==2.8.0) (1.14.1)\n",
            "Requirement already satisfied: opt-einsum>=2.3.2 in /usr/local/lib/python3.7/dist-packages (from tensorflow==2.8.0) (3.3.0)\n",
            "Requirement already satisfied: gast>=0.2.1 in /usr/local/lib/python3.7/dist-packages (from tensorflow==2.8.0) (0.5.3)\n",
            "Requirement already satisfied: tensorflow-io-gcs-filesystem>=0.23.1 in /usr/local/lib/python3.7/dist-packages (from tensorflow==2.8.0) (0.26.0)\n",
            "Requirement already satisfied: tensorboard<2.9,>=2.8 in /usr/local/lib/python3.7/dist-packages (from tensorflow==2.8.0) (2.8.0)\n",
            "Requirement already satisfied: astunparse>=1.6.0 in /usr/local/lib/python3.7/dist-packages (from tensorflow==2.8.0) (1.6.3)\n",
            "Collecting tf-estimator-nightly==2.8.0.dev2021122109\n",
            "  Downloading tf_estimator_nightly-2.8.0.dev2021122109-py2.py3-none-any.whl (462 kB)\n",
            "\u001b[K     |████████████████████████████████| 462 kB 4.3 MB/s \n",
            "\u001b[?25hRequirement already satisfied: absl-py>=0.4.0 in /usr/local/lib/python3.7/dist-packages (from tensorflow==2.8.0) (1.2.0)\n",
            "Requirement already satisfied: grpcio<2.0,>=1.24.3 in /usr/local/lib/python3.7/dist-packages (from tensorflow==2.8.0) (1.47.0)\n",
            "Requirement already satisfied: h5py>=2.9.0 in /usr/local/lib/python3.7/dist-packages (from tensorflow==2.8.0) (3.1.0)\n",
            "Requirement already satisfied: protobuf>=3.9.2 in /usr/local/lib/python3.7/dist-packages (from tensorflow==2.8.0) (3.17.3)\n",
            "Requirement already satisfied: libclang>=9.0.1 in /usr/local/lib/python3.7/dist-packages (from tensorflow==2.8.0) (14.0.6)\n",
            "Requirement already satisfied: wheel<1.0,>=0.23.0 in /usr/local/lib/python3.7/dist-packages (from astunparse>=1.6.0->tensorflow==2.8.0) (0.37.1)\n",
            "Requirement already satisfied: cached-property in /usr/local/lib/python3.7/dist-packages (from h5py>=2.9.0->tensorflow==2.8.0) (1.5.2)\n",
            "Requirement already satisfied: google-auth-oauthlib<0.5,>=0.4.1 in /usr/local/lib/python3.7/dist-packages (from tensorboard<2.9,>=2.8->tensorflow==2.8.0) (0.4.6)\n",
            "Requirement already satisfied: tensorboard-plugin-wit>=1.6.0 in /usr/local/lib/python3.7/dist-packages (from tensorboard<2.9,>=2.8->tensorflow==2.8.0) (1.8.1)\n",
            "Requirement already satisfied: requests<3,>=2.21.0 in /usr/local/lib/python3.7/dist-packages (from tensorboard<2.9,>=2.8->tensorflow==2.8.0) (2.23.0)\n",
            "Requirement already satisfied: tensorboard-data-server<0.7.0,>=0.6.0 in /usr/local/lib/python3.7/dist-packages (from tensorboard<2.9,>=2.8->tensorflow==2.8.0) (0.6.1)\n",
            "Requirement already satisfied: markdown>=2.6.8 in /usr/local/lib/python3.7/dist-packages (from tensorboard<2.9,>=2.8->tensorflow==2.8.0) (3.4.1)\n",
            "Requirement already satisfied: google-auth<3,>=1.6.3 in /usr/local/lib/python3.7/dist-packages (from tensorboard<2.9,>=2.8->tensorflow==2.8.0) (1.35.0)\n",
            "Requirement already satisfied: werkzeug>=0.11.15 in /usr/local/lib/python3.7/dist-packages (from tensorboard<2.9,>=2.8->tensorflow==2.8.0) (1.0.1)\n",
            "Requirement already satisfied: rsa<5,>=3.1.4 in /usr/local/lib/python3.7/dist-packages (from google-auth<3,>=1.6.3->tensorboard<2.9,>=2.8->tensorflow==2.8.0) (4.9)\n",
            "Requirement already satisfied: pyasn1-modules>=0.2.1 in /usr/local/lib/python3.7/dist-packages (from google-auth<3,>=1.6.3->tensorboard<2.9,>=2.8->tensorflow==2.8.0) (0.2.8)\n",
            "Requirement already satisfied: cachetools<5.0,>=2.0.0 in /usr/local/lib/python3.7/dist-packages (from google-auth<3,>=1.6.3->tensorboard<2.9,>=2.8->tensorflow==2.8.0) (4.2.4)\n",
            "Requirement already satisfied: requests-oauthlib>=0.7.0 in /usr/local/lib/python3.7/dist-packages (from google-auth-oauthlib<0.5,>=0.4.1->tensorboard<2.9,>=2.8->tensorflow==2.8.0) (1.3.1)\n",
            "Requirement already satisfied: importlib-metadata>=4.4 in /usr/local/lib/python3.7/dist-packages (from markdown>=2.6.8->tensorboard<2.9,>=2.8->tensorflow==2.8.0) (4.12.0)\n",
            "Requirement already satisfied: zipp>=0.5 in /usr/local/lib/python3.7/dist-packages (from importlib-metadata>=4.4->markdown>=2.6.8->tensorboard<2.9,>=2.8->tensorflow==2.8.0) (3.8.1)\n",
            "Requirement already satisfied: pyasn1<0.5.0,>=0.4.6 in /usr/local/lib/python3.7/dist-packages (from pyasn1-modules>=0.2.1->google-auth<3,>=1.6.3->tensorboard<2.9,>=2.8->tensorflow==2.8.0) (0.4.8)\n",
            "Requirement already satisfied: urllib3!=1.25.0,!=1.25.1,<1.26,>=1.21.1 in /usr/local/lib/python3.7/dist-packages (from requests<3,>=2.21.0->tensorboard<2.9,>=2.8->tensorflow==2.8.0) (1.24.3)\n",
            "Requirement already satisfied: certifi>=2017.4.17 in /usr/local/lib/python3.7/dist-packages (from requests<3,>=2.21.0->tensorboard<2.9,>=2.8->tensorflow==2.8.0) (2022.6.15)\n",
            "Requirement already satisfied: chardet<4,>=3.0.2 in /usr/local/lib/python3.7/dist-packages (from requests<3,>=2.21.0->tensorboard<2.9,>=2.8->tensorflow==2.8.0) (3.0.4)\n",
            "Requirement already satisfied: idna<3,>=2.5 in /usr/local/lib/python3.7/dist-packages (from requests<3,>=2.21.0->tensorboard<2.9,>=2.8->tensorflow==2.8.0) (2.10)\n",
            "Requirement already satisfied: oauthlib>=3.0.0 in /usr/local/lib/python3.7/dist-packages (from requests-oauthlib>=0.7.0->google-auth-oauthlib<0.5,>=0.4.1->tensorboard<2.9,>=2.8->tensorflow==2.8.0) (3.2.0)\n",
            "Installing collected packages: tf-estimator-nightly, tensorflow\n",
            "Successfully installed tensorflow-2.8.0+zzzcolab20220506162203 tf-estimator-nightly-2.8.0.dev2021122109\n"
          ]
        },
        {
          "output_type": "display_data",
          "data": {
            "application/vnd.colab-display-data+json": {
              "pip_warning": {
                "packages": [
                  "tensorflow"
                ]
              }
            }
          },
          "metadata": {}
        }
      ]
    },
    {
      "cell_type": "code",
      "source": [
        "# restart 후 확인\n",
        "import tensorflow as tf\n",
        "print(tf.__version__)"
      ],
      "metadata": {
        "colab": {
          "base_uri": "https://localhost:8080/"
        },
        "id": "h7DPpjeyxifv",
        "outputId": "6159d22b-3332-466a-cd8b-b2bb8f60f82a"
      },
      "execution_count": null,
      "outputs": [
        {
          "output_type": "stream",
          "name": "stdout",
          "text": [
            "2.8.0\n"
          ]
        }
      ]
    },
    {
      "cell_type": "markdown",
      "source": [
        "# 데이터 로딩"
      ],
      "metadata": {
        "id": "633sPckREDYg"
      }
    },
    {
      "cell_type": "code",
      "source": [
        "from google.colab import drive\n",
        "drive.mount('/gdrive')"
      ],
      "metadata": {
        "colab": {
          "base_uri": "https://localhost:8080/"
        },
        "id": "KxyFkVYcdqlJ",
        "outputId": "c12b9085-2ed1-4e80-e5d3-4dfe6faa6ef6"
      },
      "execution_count": 1,
      "outputs": [
        {
          "output_type": "stream",
          "name": "stdout",
          "text": [
            "Mounted at /gdrive\n"
          ]
        }
      ]
    },
    {
      "cell_type": "code",
      "source": [
        "import pandas as pd\n",
        "import numpy as np\n",
        "import matplotlib.pyplot as plt"
      ],
      "metadata": {
        "id": "mG4zvhT7ES63"
      },
      "execution_count": 2,
      "outputs": []
    },
    {
      "cell_type": "code",
      "source": [
        "import IPython\n",
        "import librosa\n",
        "SAMPLING_RATE = 22050"
      ],
      "metadata": {
        "id": "nH0sWXDSyeSc"
      },
      "execution_count": 3,
      "outputs": []
    },
    {
      "cell_type": "code",
      "source": [
        "import glob\n",
        "\n",
        "file_list = glob.glob(\"/gdrive/MyDrive/Audio/C/*.wav\")  # 공유 드라이브의 B단계 음성 파일\n",
        "print(len(file_list))\n",
        "print(file_list[:3]) "
      ],
      "metadata": {
        "colab": {
          "base_uri": "https://localhost:8080/"
        },
        "id": "8HVbzOwCGAUQ",
        "outputId": "d67b96b1-0df5-4214-e3f0-5ea3d45d889c"
      },
      "execution_count": 4,
      "outputs": [
        {
          "output_type": "stream",
          "name": "stdout",
          "text": [
            "1215\n",
            "['/gdrive/MyDrive/Audio/C/00_216.wav', '/gdrive/MyDrive/Audio/C/00_217.wav', '/gdrive/MyDrive/Audio/C/00_218.wav']\n"
          ]
        }
      ]
    },
    {
      "cell_type": "code",
      "source": [
        "def load_wav(file_name):\n",
        "    data, _ = librosa.load(file_name, sr=SAMPLING_RATE)\n",
        "    return data\n",
        "\n",
        "raw_x = [] # data\n",
        "raw_y = [] # label\n",
        "for file_name in file_list:\n",
        "    label = int(file_name.split(\"/\")[-1].split(\"_\")[0])  # 파일명을 /로 구분하여 스필릿, 다시 _로 스플릿\n",
        "    # label = file_name.split(\"/\")[-1].split(\"_\")[0]\n",
        "\n",
        "    print(file_name, label)\n",
        "    data = load_wav(file_name)\n",
        "    raw_x.append(data)\n",
        "    raw_y.append(label)\n"
      ],
      "metadata": {
        "colab": {
          "base_uri": "https://localhost:8080/"
        },
        "id": "Aumki802EVg5",
        "outputId": "3ba9a1c8-9e3f-453c-b451-4785f4d48c02"
      },
      "execution_count": 5,
      "outputs": [
        {
          "output_type": "stream",
          "name": "stdout",
          "text": [
            "/gdrive/MyDrive/Audio/C/00_216.wav 0\n",
            "/gdrive/MyDrive/Audio/C/00_217.wav 0\n",
            "/gdrive/MyDrive/Audio/C/00_218.wav 0\n",
            "/gdrive/MyDrive/Audio/C/00_219.wav 0\n",
            "/gdrive/MyDrive/Audio/C/00_221.wav 0\n",
            "/gdrive/MyDrive/Audio/C/00_220.wav 0\n",
            "/gdrive/MyDrive/Audio/C/00_222.wav 0\n",
            "/gdrive/MyDrive/Audio/C/00_223.wav 0\n",
            "/gdrive/MyDrive/Audio/C/00_224.wav 0\n",
            "/gdrive/MyDrive/Audio/C/00_225.wav 0\n",
            "/gdrive/MyDrive/Audio/C/00_226.wav 0\n",
            "/gdrive/MyDrive/Audio/C/00_227.wav 0\n",
            "/gdrive/MyDrive/Audio/C/00_228.wav 0\n",
            "/gdrive/MyDrive/Audio/C/00_229.wav 0\n",
            "/gdrive/MyDrive/Audio/C/00_230.wav 0\n",
            "/gdrive/MyDrive/Audio/C/00_232.wav 0\n",
            "/gdrive/MyDrive/Audio/C/00_231.wav 0\n",
            "/gdrive/MyDrive/Audio/C/00_233.wav 0\n",
            "/gdrive/MyDrive/Audio/C/00_234.wav 0\n",
            "/gdrive/MyDrive/Audio/C/00_235.wav 0\n",
            "/gdrive/MyDrive/Audio/C/00_236.wav 0\n",
            "/gdrive/MyDrive/Audio/C/00_237.wav 0\n",
            "/gdrive/MyDrive/Audio/C/00_238.wav 0\n",
            "/gdrive/MyDrive/Audio/C/00_239.wav 0\n",
            "/gdrive/MyDrive/Audio/C/00_240.wav 0\n",
            "/gdrive/MyDrive/Audio/C/00_241.wav 0\n",
            "/gdrive/MyDrive/Audio/C/00_242.wav 0\n",
            "/gdrive/MyDrive/Audio/C/00_243.wav 0\n",
            "/gdrive/MyDrive/Audio/C/00_244.wav 0\n",
            "/gdrive/MyDrive/Audio/C/00_245.wav 0\n",
            "/gdrive/MyDrive/Audio/C/00_246.wav 0\n",
            "/gdrive/MyDrive/Audio/C/00_247.wav 0\n",
            "/gdrive/MyDrive/Audio/C/00_248.wav 0\n",
            "/gdrive/MyDrive/Audio/C/00_249.wav 0\n",
            "/gdrive/MyDrive/Audio/C/00_250.wav 0\n",
            "/gdrive/MyDrive/Audio/C/00_251.wav 0\n",
            "/gdrive/MyDrive/Audio/C/00_252.wav 0\n",
            "/gdrive/MyDrive/Audio/C/00_253.wav 0\n",
            "/gdrive/MyDrive/Audio/C/00_254.wav 0\n",
            "/gdrive/MyDrive/Audio/C/00_255.wav 0\n",
            "/gdrive/MyDrive/Audio/C/00_256.wav 0\n",
            "/gdrive/MyDrive/Audio/C/00_257.wav 0\n",
            "/gdrive/MyDrive/Audio/C/00_258.wav 0\n",
            "/gdrive/MyDrive/Audio/C/00_259.wav 0\n",
            "/gdrive/MyDrive/Audio/C/00_260.wav 0\n",
            "/gdrive/MyDrive/Audio/C/00_261.wav 0\n",
            "/gdrive/MyDrive/Audio/C/00_262.wav 0\n",
            "/gdrive/MyDrive/Audio/C/00_263.wav 0\n",
            "/gdrive/MyDrive/Audio/C/00_264.wav 0\n",
            "/gdrive/MyDrive/Audio/C/00_265.wav 0\n",
            "/gdrive/MyDrive/Audio/C/00_266.wav 0\n",
            "/gdrive/MyDrive/Audio/C/00_267.wav 0\n",
            "/gdrive/MyDrive/Audio/C/00_268.wav 0\n",
            "/gdrive/MyDrive/Audio/C/00_269.wav 0\n",
            "/gdrive/MyDrive/Audio/C/00_270.wav 0\n",
            "/gdrive/MyDrive/Audio/C/00_271.wav 0\n",
            "/gdrive/MyDrive/Audio/C/00_272.wav 0\n",
            "/gdrive/MyDrive/Audio/C/00_273.wav 0\n",
            "/gdrive/MyDrive/Audio/C/00_274.wav 0\n",
            "/gdrive/MyDrive/Audio/C/00_275.wav 0\n",
            "/gdrive/MyDrive/Audio/C/00_276.wav 0\n",
            "/gdrive/MyDrive/Audio/C/00_277.wav 0\n",
            "/gdrive/MyDrive/Audio/C/00_278.wav 0\n",
            "/gdrive/MyDrive/Audio/C/00_279.wav 0\n",
            "/gdrive/MyDrive/Audio/C/00_280.wav 0\n",
            "/gdrive/MyDrive/Audio/C/00_281.wav 0\n",
            "/gdrive/MyDrive/Audio/C/00_282.wav 0\n",
            "/gdrive/MyDrive/Audio/C/00_283.wav 0\n",
            "/gdrive/MyDrive/Audio/C/00_284.wav 0\n",
            "/gdrive/MyDrive/Audio/C/00_285.wav 0\n",
            "/gdrive/MyDrive/Audio/C/00_286.wav 0\n",
            "/gdrive/MyDrive/Audio/C/00_287.wav 0\n",
            "/gdrive/MyDrive/Audio/C/00_288.wav 0\n",
            "/gdrive/MyDrive/Audio/C/00_289.wav 0\n",
            "/gdrive/MyDrive/Audio/C/00_290.wav 0\n",
            "/gdrive/MyDrive/Audio/C/00_291.wav 0\n",
            "/gdrive/MyDrive/Audio/C/00_292.wav 0\n",
            "/gdrive/MyDrive/Audio/C/00_293.wav 0\n",
            "/gdrive/MyDrive/Audio/C/00_294.wav 0\n",
            "/gdrive/MyDrive/Audio/C/00_295.wav 0\n",
            "/gdrive/MyDrive/Audio/C/00_296.wav 0\n",
            "/gdrive/MyDrive/Audio/C/00_298.wav 0\n",
            "/gdrive/MyDrive/Audio/C/00_297.wav 0\n",
            "/gdrive/MyDrive/Audio/C/00_299.wav 0\n",
            "/gdrive/MyDrive/Audio/C/00_300.wav 0\n",
            "/gdrive/MyDrive/Audio/C/00_301.wav 0\n",
            "/gdrive/MyDrive/Audio/C/00_302.wav 0\n",
            "/gdrive/MyDrive/Audio/C/00_303.wav 0\n",
            "/gdrive/MyDrive/Audio/C/00_304.wav 0\n",
            "/gdrive/MyDrive/Audio/C/00_305.wav 0\n",
            "/gdrive/MyDrive/Audio/C/00_306.wav 0\n",
            "/gdrive/MyDrive/Audio/C/00_307.wav 0\n",
            "/gdrive/MyDrive/Audio/C/00_308.wav 0\n",
            "/gdrive/MyDrive/Audio/C/00_309.wav 0\n",
            "/gdrive/MyDrive/Audio/C/00_310.wav 0\n",
            "/gdrive/MyDrive/Audio/C/00_311.wav 0\n",
            "/gdrive/MyDrive/Audio/C/00_312.wav 0\n",
            "/gdrive/MyDrive/Audio/C/00_313.wav 0\n",
            "/gdrive/MyDrive/Audio/C/00_314.wav 0\n",
            "/gdrive/MyDrive/Audio/C/00_315.wav 0\n",
            "/gdrive/MyDrive/Audio/C/00_316.wav 0\n",
            "/gdrive/MyDrive/Audio/C/00_317.wav 0\n",
            "/gdrive/MyDrive/Audio/C/00_318.wav 0\n",
            "/gdrive/MyDrive/Audio/C/00_319.wav 0\n",
            "/gdrive/MyDrive/Audio/C/00_320.wav 0\n",
            "/gdrive/MyDrive/Audio/C/00_321.wav 0\n",
            "/gdrive/MyDrive/Audio/C/00_322.wav 0\n",
            "/gdrive/MyDrive/Audio/C/00_323.wav 0\n",
            "/gdrive/MyDrive/Audio/C/00_324.wav 0\n",
            "/gdrive/MyDrive/Audio/C/00_325.wav 0\n",
            "/gdrive/MyDrive/Audio/C/00_326.wav 0\n",
            "/gdrive/MyDrive/Audio/C/00_327.wav 0\n",
            "/gdrive/MyDrive/Audio/C/00_328.wav 0\n",
            "/gdrive/MyDrive/Audio/C/00_329.wav 0\n",
            "/gdrive/MyDrive/Audio/C/00_330.wav 0\n",
            "/gdrive/MyDrive/Audio/C/00_331.wav 0\n",
            "/gdrive/MyDrive/Audio/C/00_332.wav 0\n",
            "/gdrive/MyDrive/Audio/C/00_333.wav 0\n",
            "/gdrive/MyDrive/Audio/C/00_334.wav 0\n",
            "/gdrive/MyDrive/Audio/C/00_335.wav 0\n",
            "/gdrive/MyDrive/Audio/C/00_337.wav 0\n",
            "/gdrive/MyDrive/Audio/C/00_336.wav 0\n",
            "/gdrive/MyDrive/Audio/C/00_338.wav 0\n",
            "/gdrive/MyDrive/Audio/C/00_339.wav 0\n",
            "/gdrive/MyDrive/Audio/C/00_340.wav 0\n",
            "/gdrive/MyDrive/Audio/C/00_341.wav 0\n",
            "/gdrive/MyDrive/Audio/C/00_342.wav 0\n",
            "/gdrive/MyDrive/Audio/C/00_343.wav 0\n",
            "/gdrive/MyDrive/Audio/C/00_344.wav 0\n",
            "/gdrive/MyDrive/Audio/C/00_345.wav 0\n",
            "/gdrive/MyDrive/Audio/C/00_346.wav 0\n",
            "/gdrive/MyDrive/Audio/C/00_347.wav 0\n",
            "/gdrive/MyDrive/Audio/C/00_348.wav 0\n",
            "/gdrive/MyDrive/Audio/C/00_349.wav 0\n",
            "/gdrive/MyDrive/Audio/C/00_350.wav 0\n",
            "/gdrive/MyDrive/Audio/C/00_351.wav 0\n",
            "/gdrive/MyDrive/Audio/C/00_352.wav 0\n",
            "/gdrive/MyDrive/Audio/C/00_353.wav 0\n",
            "/gdrive/MyDrive/Audio/C/00_354.wav 0\n",
            "/gdrive/MyDrive/Audio/C/00_355.wav 0\n",
            "/gdrive/MyDrive/Audio/C/00_356.wav 0\n",
            "/gdrive/MyDrive/Audio/C/00_357.wav 0\n",
            "/gdrive/MyDrive/Audio/C/00_358.wav 0\n",
            "/gdrive/MyDrive/Audio/C/00_359.wav 0\n",
            "/gdrive/MyDrive/Audio/C/00_360.wav 0\n",
            "/gdrive/MyDrive/Audio/C/00_361.wav 0\n",
            "/gdrive/MyDrive/Audio/C/00_362.wav 0\n",
            "/gdrive/MyDrive/Audio/C/00_363.wav 0\n",
            "/gdrive/MyDrive/Audio/C/00_364.wav 0\n",
            "/gdrive/MyDrive/Audio/C/00_365.wav 0\n",
            "/gdrive/MyDrive/Audio/C/00_366.wav 0\n",
            "/gdrive/MyDrive/Audio/C/00_367.wav 0\n",
            "/gdrive/MyDrive/Audio/C/00_368.wav 0\n",
            "/gdrive/MyDrive/Audio/C/00_369.wav 0\n",
            "/gdrive/MyDrive/Audio/C/00_370.wav 0\n",
            "/gdrive/MyDrive/Audio/C/00_371.wav 0\n",
            "/gdrive/MyDrive/Audio/C/00_372.wav 0\n",
            "/gdrive/MyDrive/Audio/C/00_373.wav 0\n",
            "/gdrive/MyDrive/Audio/C/00_374.wav 0\n",
            "/gdrive/MyDrive/Audio/C/00_375.wav 0\n",
            "/gdrive/MyDrive/Audio/C/00_376.wav 0\n",
            "/gdrive/MyDrive/Audio/C/00_377.wav 0\n",
            "/gdrive/MyDrive/Audio/C/00_378.wav 0\n",
            "/gdrive/MyDrive/Audio/C/00_379.wav 0\n",
            "/gdrive/MyDrive/Audio/C/00_380.wav 0\n",
            "/gdrive/MyDrive/Audio/C/00_381.wav 0\n",
            "/gdrive/MyDrive/Audio/C/00_382.wav 0\n",
            "/gdrive/MyDrive/Audio/C/00_383.wav 0\n",
            "/gdrive/MyDrive/Audio/C/00_384.wav 0\n",
            "/gdrive/MyDrive/Audio/C/00_385.wav 0\n",
            "/gdrive/MyDrive/Audio/C/00_386.wav 0\n",
            "/gdrive/MyDrive/Audio/C/00_387.wav 0\n",
            "/gdrive/MyDrive/Audio/C/00_388.wav 0\n",
            "/gdrive/MyDrive/Audio/C/00_389.wav 0\n",
            "/gdrive/MyDrive/Audio/C/00_390.wav 0\n",
            "/gdrive/MyDrive/Audio/C/00_391.wav 0\n",
            "/gdrive/MyDrive/Audio/C/00_392.wav 0\n",
            "/gdrive/MyDrive/Audio/C/00_393.wav 0\n",
            "/gdrive/MyDrive/Audio/C/00_394.wav 0\n",
            "/gdrive/MyDrive/Audio/C/00_395.wav 0\n",
            "/gdrive/MyDrive/Audio/C/00_396.wav 0\n",
            "/gdrive/MyDrive/Audio/C/00_397.wav 0\n",
            "/gdrive/MyDrive/Audio/C/00_398.wav 0\n",
            "/gdrive/MyDrive/Audio/C/00_399.wav 0\n",
            "/gdrive/MyDrive/Audio/C/00_400.wav 0\n",
            "/gdrive/MyDrive/Audio/C/00_401.wav 0\n",
            "/gdrive/MyDrive/Audio/C/00_402.wav 0\n",
            "/gdrive/MyDrive/Audio/C/00_403.wav 0\n",
            "/gdrive/MyDrive/Audio/C/00_404.wav 0\n",
            "/gdrive/MyDrive/Audio/C/00_405.wav 0\n",
            "/gdrive/MyDrive/Audio/C/00_406.wav 0\n",
            "/gdrive/MyDrive/Audio/C/00_407.wav 0\n",
            "/gdrive/MyDrive/Audio/C/00_408.wav 0\n",
            "/gdrive/MyDrive/Audio/C/00_409.wav 0\n",
            "/gdrive/MyDrive/Audio/C/00_410.wav 0\n",
            "/gdrive/MyDrive/Audio/C/01_001.wav 1\n",
            "/gdrive/MyDrive/Audio/C/01_002.wav 1\n",
            "/gdrive/MyDrive/Audio/C/01_003.wav 1\n",
            "/gdrive/MyDrive/Audio/C/01_004.wav 1\n",
            "/gdrive/MyDrive/Audio/C/01_005.wav 1\n",
            "/gdrive/MyDrive/Audio/C/01_006.wav 1\n",
            "/gdrive/MyDrive/Audio/C/01_007.wav 1\n",
            "/gdrive/MyDrive/Audio/C/01_008.wav 1\n",
            "/gdrive/MyDrive/Audio/C/01_009.wav 1\n",
            "/gdrive/MyDrive/Audio/C/01_010.wav 1\n",
            "/gdrive/MyDrive/Audio/C/01_011.wav 1\n",
            "/gdrive/MyDrive/Audio/C/01_012.wav 1\n",
            "/gdrive/MyDrive/Audio/C/01_013.wav 1\n",
            "/gdrive/MyDrive/Audio/C/01_014.wav 1\n",
            "/gdrive/MyDrive/Audio/C/01_015.wav 1\n",
            "/gdrive/MyDrive/Audio/C/01_016.wav 1\n",
            "/gdrive/MyDrive/Audio/C/01_017.wav 1\n",
            "/gdrive/MyDrive/Audio/C/01_018.wav 1\n",
            "/gdrive/MyDrive/Audio/C/01_019.wav 1\n",
            "/gdrive/MyDrive/Audio/C/01_020.wav 1\n",
            "/gdrive/MyDrive/Audio/C/01_021.wav 1\n",
            "/gdrive/MyDrive/Audio/C/01_022.wav 1\n",
            "/gdrive/MyDrive/Audio/C/01_023.wav 1\n",
            "/gdrive/MyDrive/Audio/C/01_024.wav 1\n",
            "/gdrive/MyDrive/Audio/C/01_025.wav 1\n",
            "/gdrive/MyDrive/Audio/C/01_026.wav 1\n",
            "/gdrive/MyDrive/Audio/C/01_027.wav 1\n",
            "/gdrive/MyDrive/Audio/C/01_028.wav 1\n",
            "/gdrive/MyDrive/Audio/C/01_029.wav 1\n",
            "/gdrive/MyDrive/Audio/C/01_030.wav 1\n",
            "/gdrive/MyDrive/Audio/C/01_031.wav 1\n",
            "/gdrive/MyDrive/Audio/C/01_032.wav 1\n",
            "/gdrive/MyDrive/Audio/C/01_033.wav 1\n",
            "/gdrive/MyDrive/Audio/C/01_034.wav 1\n",
            "/gdrive/MyDrive/Audio/C/01_035.wav 1\n",
            "/gdrive/MyDrive/Audio/C/01_036.wav 1\n",
            "/gdrive/MyDrive/Audio/C/01_037.wav 1\n",
            "/gdrive/MyDrive/Audio/C/01_038.wav 1\n",
            "/gdrive/MyDrive/Audio/C/01_039.wav 1\n",
            "/gdrive/MyDrive/Audio/C/01_040.wav 1\n",
            "/gdrive/MyDrive/Audio/C/01_041.wav 1\n",
            "/gdrive/MyDrive/Audio/C/01_042.wav 1\n",
            "/gdrive/MyDrive/Audio/C/01_043.wav 1\n",
            "/gdrive/MyDrive/Audio/C/01_044.wav 1\n",
            "/gdrive/MyDrive/Audio/C/01_045.wav 1\n",
            "/gdrive/MyDrive/Audio/C/01_046.wav 1\n",
            "/gdrive/MyDrive/Audio/C/01_047.wav 1\n",
            "/gdrive/MyDrive/Audio/C/01_048.wav 1\n",
            "/gdrive/MyDrive/Audio/C/01_049.wav 1\n",
            "/gdrive/MyDrive/Audio/C/01_050.wav 1\n",
            "/gdrive/MyDrive/Audio/C/01_051.wav 1\n",
            "/gdrive/MyDrive/Audio/C/01_052.wav 1\n",
            "/gdrive/MyDrive/Audio/C/01_053.wav 1\n",
            "/gdrive/MyDrive/Audio/C/01_054.wav 1\n",
            "/gdrive/MyDrive/Audio/C/01_055.wav 1\n",
            "/gdrive/MyDrive/Audio/C/01_056.wav 1\n",
            "/gdrive/MyDrive/Audio/C/01_057.wav 1\n",
            "/gdrive/MyDrive/Audio/C/01_058.wav 1\n",
            "/gdrive/MyDrive/Audio/C/01_059.wav 1\n",
            "/gdrive/MyDrive/Audio/C/01_060.wav 1\n",
            "/gdrive/MyDrive/Audio/C/01_061.wav 1\n",
            "/gdrive/MyDrive/Audio/C/01_062.wav 1\n",
            "/gdrive/MyDrive/Audio/C/01_063.wav 1\n",
            "/gdrive/MyDrive/Audio/C/01_064.wav 1\n",
            "/gdrive/MyDrive/Audio/C/01_065.wav 1\n",
            "/gdrive/MyDrive/Audio/C/01_066.wav 1\n",
            "/gdrive/MyDrive/Audio/C/01_067.wav 1\n",
            "/gdrive/MyDrive/Audio/C/01_068.wav 1\n",
            "/gdrive/MyDrive/Audio/C/01_069.wav 1\n",
            "/gdrive/MyDrive/Audio/C/01_070.wav 1\n",
            "/gdrive/MyDrive/Audio/C/01_071.wav 1\n",
            "/gdrive/MyDrive/Audio/C/01_072.wav 1\n",
            "/gdrive/MyDrive/Audio/C/01_073.wav 1\n",
            "/gdrive/MyDrive/Audio/C/01_074.wav 1\n",
            "/gdrive/MyDrive/Audio/C/01_075.wav 1\n",
            "/gdrive/MyDrive/Audio/C/01_076.wav 1\n",
            "/gdrive/MyDrive/Audio/C/01_077.wav 1\n",
            "/gdrive/MyDrive/Audio/C/01_078.wav 1\n",
            "/gdrive/MyDrive/Audio/C/01_079.wav 1\n",
            "/gdrive/MyDrive/Audio/C/01_080.wav 1\n",
            "/gdrive/MyDrive/Audio/C/01_081.wav 1\n",
            "/gdrive/MyDrive/Audio/C/01_082.wav 1\n",
            "/gdrive/MyDrive/Audio/C/01_083.wav 1\n",
            "/gdrive/MyDrive/Audio/C/01_084.wav 1\n",
            "/gdrive/MyDrive/Audio/C/01_085.wav 1\n",
            "/gdrive/MyDrive/Audio/C/01_086.wav 1\n",
            "/gdrive/MyDrive/Audio/C/01_087.wav 1\n",
            "/gdrive/MyDrive/Audio/C/01_088.wav 1\n",
            "/gdrive/MyDrive/Audio/C/01_089.wav 1\n",
            "/gdrive/MyDrive/Audio/C/01_090.wav 1\n",
            "/gdrive/MyDrive/Audio/C/01_091.wav 1\n",
            "/gdrive/MyDrive/Audio/C/01_093.wav 1\n",
            "/gdrive/MyDrive/Audio/C/01_092.wav 1\n",
            "/gdrive/MyDrive/Audio/C/01_094.wav 1\n",
            "/gdrive/MyDrive/Audio/C/01_095.wav 1\n",
            "/gdrive/MyDrive/Audio/C/01_096.wav 1\n",
            "/gdrive/MyDrive/Audio/C/01_097.wav 1\n",
            "/gdrive/MyDrive/Audio/C/01_098.wav 1\n",
            "/gdrive/MyDrive/Audio/C/01_099.wav 1\n",
            "/gdrive/MyDrive/Audio/C/01_100.wav 1\n",
            "/gdrive/MyDrive/Audio/C/01_101.wav 1\n",
            "/gdrive/MyDrive/Audio/C/01_102.wav 1\n",
            "/gdrive/MyDrive/Audio/C/01_103.wav 1\n",
            "/gdrive/MyDrive/Audio/C/01_104.wav 1\n",
            "/gdrive/MyDrive/Audio/C/01_105.wav 1\n",
            "/gdrive/MyDrive/Audio/C/01_106.wav 1\n",
            "/gdrive/MyDrive/Audio/C/01_107.wav 1\n",
            "/gdrive/MyDrive/Audio/C/01_108.wav 1\n",
            "/gdrive/MyDrive/Audio/C/01_109.wav 1\n",
            "/gdrive/MyDrive/Audio/C/01_111.wav 1\n",
            "/gdrive/MyDrive/Audio/C/01_110.wav 1\n",
            "/gdrive/MyDrive/Audio/C/01_112.wav 1\n",
            "/gdrive/MyDrive/Audio/C/01_113.wav 1\n",
            "/gdrive/MyDrive/Audio/C/01_114.wav 1\n",
            "/gdrive/MyDrive/Audio/C/01_116.wav 1\n",
            "/gdrive/MyDrive/Audio/C/01_115.wav 1\n",
            "/gdrive/MyDrive/Audio/C/01_117.wav 1\n",
            "/gdrive/MyDrive/Audio/C/01_118.wav 1\n",
            "/gdrive/MyDrive/Audio/C/01_119.wav 1\n",
            "/gdrive/MyDrive/Audio/C/01_120.wav 1\n",
            "/gdrive/MyDrive/Audio/C/01_121.wav 1\n",
            "/gdrive/MyDrive/Audio/C/01_123.wav 1\n",
            "/gdrive/MyDrive/Audio/C/01_122.wav 1\n",
            "/gdrive/MyDrive/Audio/C/01_124.wav 1\n",
            "/gdrive/MyDrive/Audio/C/01_125.wav 1\n",
            "/gdrive/MyDrive/Audio/C/01_126.wav 1\n",
            "/gdrive/MyDrive/Audio/C/01_127.wav 1\n",
            "/gdrive/MyDrive/Audio/C/01_128.wav 1\n",
            "/gdrive/MyDrive/Audio/C/01_129.wav 1\n",
            "/gdrive/MyDrive/Audio/C/01_130.wav 1\n",
            "/gdrive/MyDrive/Audio/C/01_131.wav 1\n",
            "/gdrive/MyDrive/Audio/C/01_132.wav 1\n",
            "/gdrive/MyDrive/Audio/C/01_134.wav 1\n",
            "/gdrive/MyDrive/Audio/C/01_133.wav 1\n",
            "/gdrive/MyDrive/Audio/C/01_135.wav 1\n",
            "/gdrive/MyDrive/Audio/C/01_136.wav 1\n",
            "/gdrive/MyDrive/Audio/C/01_137.wav 1\n",
            "/gdrive/MyDrive/Audio/C/01_139.wav 1\n",
            "/gdrive/MyDrive/Audio/C/01_138.wav 1\n",
            "/gdrive/MyDrive/Audio/C/01_140.wav 1\n",
            "/gdrive/MyDrive/Audio/C/01_141.wav 1\n",
            "/gdrive/MyDrive/Audio/C/01_142.wav 1\n",
            "/gdrive/MyDrive/Audio/C/01_143.wav 1\n",
            "/gdrive/MyDrive/Audio/C/01_145.wav 1\n",
            "/gdrive/MyDrive/Audio/C/01_144.wav 1\n",
            "/gdrive/MyDrive/Audio/C/01_146.wav 1\n",
            "/gdrive/MyDrive/Audio/C/01_147.wav 1\n",
            "/gdrive/MyDrive/Audio/C/01_148.wav 1\n",
            "/gdrive/MyDrive/Audio/C/01_149.wav 1\n",
            "/gdrive/MyDrive/Audio/C/01_150.wav 1\n",
            "/gdrive/MyDrive/Audio/C/01_151.wav 1\n",
            "/gdrive/MyDrive/Audio/C/01_152.wav 1\n",
            "/gdrive/MyDrive/Audio/C/01_153.wav 1\n",
            "/gdrive/MyDrive/Audio/C/01_154.wav 1\n",
            "/gdrive/MyDrive/Audio/C/01_155.wav 1\n",
            "/gdrive/MyDrive/Audio/C/01_156.wav 1\n",
            "/gdrive/MyDrive/Audio/C/01_157.wav 1\n",
            "/gdrive/MyDrive/Audio/C/01_158.wav 1\n",
            "/gdrive/MyDrive/Audio/C/01_159.wav 1\n",
            "/gdrive/MyDrive/Audio/C/01_160.wav 1\n",
            "/gdrive/MyDrive/Audio/C/01_161.wav 1\n",
            "/gdrive/MyDrive/Audio/C/01_162.wav 1\n",
            "/gdrive/MyDrive/Audio/C/01_163.wav 1\n",
            "/gdrive/MyDrive/Audio/C/01_164.wav 1\n",
            "/gdrive/MyDrive/Audio/C/01_165.wav 1\n",
            "/gdrive/MyDrive/Audio/C/01_166.wav 1\n",
            "/gdrive/MyDrive/Audio/C/01_167.wav 1\n",
            "/gdrive/MyDrive/Audio/C/01_168.wav 1\n",
            "/gdrive/MyDrive/Audio/C/01_169.wav 1\n",
            "/gdrive/MyDrive/Audio/C/01_170.wav 1\n",
            "/gdrive/MyDrive/Audio/C/01_171.wav 1\n",
            "/gdrive/MyDrive/Audio/C/01_172.wav 1\n",
            "/gdrive/MyDrive/Audio/C/01_173.wav 1\n",
            "/gdrive/MyDrive/Audio/C/01_174.wav 1\n",
            "/gdrive/MyDrive/Audio/C/01_175.wav 1\n",
            "/gdrive/MyDrive/Audio/C/01_176.wav 1\n",
            "/gdrive/MyDrive/Audio/C/01_177.wav 1\n",
            "/gdrive/MyDrive/Audio/C/01_178.wav 1\n",
            "/gdrive/MyDrive/Audio/C/01_179.wav 1\n",
            "/gdrive/MyDrive/Audio/C/01_180.wav 1\n",
            "/gdrive/MyDrive/Audio/C/01_181.wav 1\n",
            "/gdrive/MyDrive/Audio/C/01_182.wav 1\n",
            "/gdrive/MyDrive/Audio/C/01_183.wav 1\n",
            "/gdrive/MyDrive/Audio/C/01_184.wav 1\n",
            "/gdrive/MyDrive/Audio/C/01_185.wav 1\n",
            "/gdrive/MyDrive/Audio/C/01_186.wav 1\n",
            "/gdrive/MyDrive/Audio/C/01_187.wav 1\n",
            "/gdrive/MyDrive/Audio/C/01_188.wav 1\n",
            "/gdrive/MyDrive/Audio/C/01_189.wav 1\n",
            "/gdrive/MyDrive/Audio/C/01_190.wav 1\n",
            "/gdrive/MyDrive/Audio/C/01_191.wav 1\n",
            "/gdrive/MyDrive/Audio/C/01_192.wav 1\n",
            "/gdrive/MyDrive/Audio/C/01_193.wav 1\n",
            "/gdrive/MyDrive/Audio/C/01_194.wav 1\n",
            "/gdrive/MyDrive/Audio/C/01_195.wav 1\n",
            "/gdrive/MyDrive/Audio/C/01_196.wav 1\n",
            "/gdrive/MyDrive/Audio/C/01_197.wav 1\n",
            "/gdrive/MyDrive/Audio/C/01_198.wav 1\n",
            "/gdrive/MyDrive/Audio/C/01_199.wav 1\n",
            "/gdrive/MyDrive/Audio/C/01_200.wav 1\n",
            "/gdrive/MyDrive/Audio/C/01_201.wav 1\n",
            "/gdrive/MyDrive/Audio/C/01_202.wav 1\n",
            "/gdrive/MyDrive/Audio/C/01_203.wav 1\n",
            "/gdrive/MyDrive/Audio/C/01_204.wav 1\n",
            "/gdrive/MyDrive/Audio/C/01_205.wav 1\n",
            "/gdrive/MyDrive/Audio/C/01_206.wav 1\n",
            "/gdrive/MyDrive/Audio/C/01_207.wav 1\n",
            "/gdrive/MyDrive/Audio/C/01_208.wav 1\n",
            "/gdrive/MyDrive/Audio/C/01_209.wav 1\n",
            "/gdrive/MyDrive/Audio/C/01_210.wav 1\n",
            "/gdrive/MyDrive/Audio/C/01_211.wav 1\n",
            "/gdrive/MyDrive/Audio/C/01_212.wav 1\n",
            "/gdrive/MyDrive/Audio/C/01_213.wav 1\n",
            "/gdrive/MyDrive/Audio/C/01_214.wav 1\n",
            "/gdrive/MyDrive/Audio/C/01_215.wav 1\n",
            "/gdrive/MyDrive/Audio/C/01_216.wav 1\n",
            "/gdrive/MyDrive/Audio/C/01_217.wav 1\n",
            "/gdrive/MyDrive/Audio/C/01_218.wav 1\n",
            "/gdrive/MyDrive/Audio/C/01_219.wav 1\n",
            "/gdrive/MyDrive/Audio/C/01_220.wav 1\n",
            "/gdrive/MyDrive/Audio/C/01_221.wav 1\n",
            "/gdrive/MyDrive/Audio/C/01_222.wav 1\n",
            "/gdrive/MyDrive/Audio/C/01_223.wav 1\n",
            "/gdrive/MyDrive/Audio/C/01_224.wav 1\n",
            "/gdrive/MyDrive/Audio/C/01_225.wav 1\n",
            "/gdrive/MyDrive/Audio/C/01_226.wav 1\n",
            "/gdrive/MyDrive/Audio/C/01_227.wav 1\n",
            "/gdrive/MyDrive/Audio/C/01_228.wav 1\n",
            "/gdrive/MyDrive/Audio/C/01_229.wav 1\n",
            "/gdrive/MyDrive/Audio/C/01_230.wav 1\n",
            "/gdrive/MyDrive/Audio/C/01_231.wav 1\n",
            "/gdrive/MyDrive/Audio/C/01_232.wav 1\n",
            "/gdrive/MyDrive/Audio/C/01_233.wav 1\n",
            "/gdrive/MyDrive/Audio/C/01_234.wav 1\n",
            "/gdrive/MyDrive/Audio/C/01_235.wav 1\n",
            "/gdrive/MyDrive/Audio/C/01_236.wav 1\n",
            "/gdrive/MyDrive/Audio/C/01_237.wav 1\n",
            "/gdrive/MyDrive/Audio/C/01_238.wav 1\n",
            "/gdrive/MyDrive/Audio/C/01_239.wav 1\n",
            "/gdrive/MyDrive/Audio/C/01_240.wav 1\n",
            "/gdrive/MyDrive/Audio/C/01_241.wav 1\n",
            "/gdrive/MyDrive/Audio/C/01_242.wav 1\n",
            "/gdrive/MyDrive/Audio/C/01_243.wav 1\n",
            "/gdrive/MyDrive/Audio/C/01_244.wav 1\n",
            "/gdrive/MyDrive/Audio/C/01_245.wav 1\n",
            "/gdrive/MyDrive/Audio/C/01_246.wav 1\n",
            "/gdrive/MyDrive/Audio/C/01_247.wav 1\n",
            "/gdrive/MyDrive/Audio/C/01_248.wav 1\n",
            "/gdrive/MyDrive/Audio/C/01_249.wav 1\n",
            "/gdrive/MyDrive/Audio/C/01_250.wav 1\n",
            "/gdrive/MyDrive/Audio/C/01_251.wav 1\n",
            "/gdrive/MyDrive/Audio/C/01_252.wav 1\n",
            "/gdrive/MyDrive/Audio/C/01_253.wav 1\n",
            "/gdrive/MyDrive/Audio/C/01_254.wav 1\n",
            "/gdrive/MyDrive/Audio/C/01_255.wav 1\n",
            "/gdrive/MyDrive/Audio/C/01_256.wav 1\n",
            "/gdrive/MyDrive/Audio/C/01_257.wav 1\n",
            "/gdrive/MyDrive/Audio/C/01_258.wav 1\n",
            "/gdrive/MyDrive/Audio/C/01_260.wav 1\n",
            "/gdrive/MyDrive/Audio/C/01_259.wav 1\n",
            "/gdrive/MyDrive/Audio/C/01_261.wav 1\n",
            "/gdrive/MyDrive/Audio/C/01_262.wav 1\n",
            "/gdrive/MyDrive/Audio/C/01_263.wav 1\n",
            "/gdrive/MyDrive/Audio/C/01_264.wav 1\n",
            "/gdrive/MyDrive/Audio/C/01_265.wav 1\n",
            "/gdrive/MyDrive/Audio/C/01_266.wav 1\n",
            "/gdrive/MyDrive/Audio/C/01_267.wav 1\n",
            "/gdrive/MyDrive/Audio/C/01_268.wav 1\n",
            "/gdrive/MyDrive/Audio/C/01_269.wav 1\n",
            "/gdrive/MyDrive/Audio/C/01_270.wav 1\n",
            "/gdrive/MyDrive/Audio/C/01_271.wav 1\n",
            "/gdrive/MyDrive/Audio/C/01_272.wav 1\n",
            "/gdrive/MyDrive/Audio/C/01_273.wav 1\n",
            "/gdrive/MyDrive/Audio/C/01_274.wav 1\n",
            "/gdrive/MyDrive/Audio/C/01_275.wav 1\n",
            "/gdrive/MyDrive/Audio/C/01_276.wav 1\n",
            "/gdrive/MyDrive/Audio/C/01_278.wav 1\n",
            "/gdrive/MyDrive/Audio/C/01_277.wav 1\n",
            "/gdrive/MyDrive/Audio/C/01_279.wav 1\n",
            "/gdrive/MyDrive/Audio/C/01_280.wav 1\n",
            "/gdrive/MyDrive/Audio/C/01_281.wav 1\n",
            "/gdrive/MyDrive/Audio/C/01_282.wav 1\n",
            "/gdrive/MyDrive/Audio/C/01_283.wav 1\n",
            "/gdrive/MyDrive/Audio/C/01_284.wav 1\n",
            "/gdrive/MyDrive/Audio/C/01_285.wav 1\n",
            "/gdrive/MyDrive/Audio/C/01_286.wav 1\n",
            "/gdrive/MyDrive/Audio/C/01_287.wav 1\n",
            "/gdrive/MyDrive/Audio/C/01_289.wav 1\n",
            "/gdrive/MyDrive/Audio/C/01_288.wav 1\n",
            "/gdrive/MyDrive/Audio/C/01_290.wav 1\n",
            "/gdrive/MyDrive/Audio/C/01_291.wav 1\n",
            "/gdrive/MyDrive/Audio/C/01_292.wav 1\n",
            "/gdrive/MyDrive/Audio/C/01_293.wav 1\n",
            "/gdrive/MyDrive/Audio/C/01_294.wav 1\n",
            "/gdrive/MyDrive/Audio/C/01_295.wav 1\n",
            "/gdrive/MyDrive/Audio/C/01_296.wav 1\n",
            "/gdrive/MyDrive/Audio/C/01_297.wav 1\n",
            "/gdrive/MyDrive/Audio/C/01_298.wav 1\n",
            "/gdrive/MyDrive/Audio/C/01_299.wav 1\n",
            "/gdrive/MyDrive/Audio/C/01_300.wav 1\n",
            "/gdrive/MyDrive/Audio/C/01_301.wav 1\n",
            "/gdrive/MyDrive/Audio/C/01_302.wav 1\n",
            "/gdrive/MyDrive/Audio/C/01_303.wav 1\n",
            "/gdrive/MyDrive/Audio/C/01_304.wav 1\n",
            "/gdrive/MyDrive/Audio/C/01_305.wav 1\n",
            "/gdrive/MyDrive/Audio/C/01_306.wav 1\n",
            "/gdrive/MyDrive/Audio/C/01_307.wav 1\n",
            "/gdrive/MyDrive/Audio/C/01_308.wav 1\n",
            "/gdrive/MyDrive/Audio/C/01_309.wav 1\n",
            "/gdrive/MyDrive/Audio/C/01_310.wav 1\n",
            "/gdrive/MyDrive/Audio/C/01_311.wav 1\n",
            "/gdrive/MyDrive/Audio/C/01_312.wav 1\n",
            "/gdrive/MyDrive/Audio/C/01_313.wav 1\n",
            "/gdrive/MyDrive/Audio/C/01_314.wav 1\n",
            "/gdrive/MyDrive/Audio/C/01_315.wav 1\n",
            "/gdrive/MyDrive/Audio/C/01_316.wav 1\n",
            "/gdrive/MyDrive/Audio/C/01_318.wav 1\n",
            "/gdrive/MyDrive/Audio/C/01_317.wav 1\n",
            "/gdrive/MyDrive/Audio/C/01_319.wav 1\n",
            "/gdrive/MyDrive/Audio/C/01_320.wav 1\n",
            "/gdrive/MyDrive/Audio/C/01_321.wav 1\n",
            "/gdrive/MyDrive/Audio/C/01_322.wav 1\n",
            "/gdrive/MyDrive/Audio/C/01_324.wav 1\n",
            "/gdrive/MyDrive/Audio/C/01_323.wav 1\n",
            "/gdrive/MyDrive/Audio/C/01_325.wav 1\n",
            "/gdrive/MyDrive/Audio/C/01_326.wav 1\n",
            "/gdrive/MyDrive/Audio/C/01_328.wav 1\n",
            "/gdrive/MyDrive/Audio/C/01_327.wav 1\n",
            "/gdrive/MyDrive/Audio/C/01_329.wav 1\n",
            "/gdrive/MyDrive/Audio/C/01_330.wav 1\n",
            "/gdrive/MyDrive/Audio/C/01_331.wav 1\n",
            "/gdrive/MyDrive/Audio/C/01_332.wav 1\n",
            "/gdrive/MyDrive/Audio/C/01_333.wav 1\n",
            "/gdrive/MyDrive/Audio/C/01_334.wav 1\n",
            "/gdrive/MyDrive/Audio/C/01_335.wav 1\n",
            "/gdrive/MyDrive/Audio/C/01_336.wav 1\n",
            "/gdrive/MyDrive/Audio/C/01_338.wav 1\n",
            "/gdrive/MyDrive/Audio/C/01_337.wav 1\n",
            "/gdrive/MyDrive/Audio/C/01_339.wav 1\n",
            "/gdrive/MyDrive/Audio/C/01_340.wav 1\n",
            "/gdrive/MyDrive/Audio/C/01_341.wav 1\n",
            "/gdrive/MyDrive/Audio/C/01_342.wav 1\n",
            "/gdrive/MyDrive/Audio/C/01_343.wav 1\n",
            "/gdrive/MyDrive/Audio/C/01_344.wav 1\n",
            "/gdrive/MyDrive/Audio/C/01_345.wav 1\n",
            "/gdrive/MyDrive/Audio/C/01_346.wav 1\n",
            "/gdrive/MyDrive/Audio/C/01_347.wav 1\n",
            "/gdrive/MyDrive/Audio/C/01_348.wav 1\n",
            "/gdrive/MyDrive/Audio/C/01_349.wav 1\n",
            "/gdrive/MyDrive/Audio/C/01_350.wav 1\n",
            "/gdrive/MyDrive/Audio/C/01_351.wav 1\n",
            "/gdrive/MyDrive/Audio/C/01_352.wav 1\n",
            "/gdrive/MyDrive/Audio/C/01_353.wav 1\n",
            "/gdrive/MyDrive/Audio/C/01_354.wav 1\n",
            "/gdrive/MyDrive/Audio/C/01_355.wav 1\n",
            "/gdrive/MyDrive/Audio/C/01_356.wav 1\n",
            "/gdrive/MyDrive/Audio/C/01_357.wav 1\n",
            "/gdrive/MyDrive/Audio/C/01_359.wav 1\n",
            "/gdrive/MyDrive/Audio/C/01_358.wav 1\n",
            "/gdrive/MyDrive/Audio/C/01_360.wav 1\n",
            "/gdrive/MyDrive/Audio/C/01_361.wav 1\n",
            "/gdrive/MyDrive/Audio/C/01_362.wav 1\n",
            "/gdrive/MyDrive/Audio/C/01_364.wav 1\n",
            "/gdrive/MyDrive/Audio/C/01_363.wav 1\n",
            "/gdrive/MyDrive/Audio/C/01_365.wav 1\n",
            "/gdrive/MyDrive/Audio/C/01_366.wav 1\n",
            "/gdrive/MyDrive/Audio/C/01_368.wav 1\n",
            "/gdrive/MyDrive/Audio/C/01_367.wav 1\n",
            "/gdrive/MyDrive/Audio/C/01_369.wav 1\n",
            "/gdrive/MyDrive/Audio/C/01_370.wav 1\n",
            "/gdrive/MyDrive/Audio/C/01_371.wav 1\n",
            "/gdrive/MyDrive/Audio/C/01_372.wav 1\n",
            "/gdrive/MyDrive/Audio/C/01_373.wav 1\n",
            "/gdrive/MyDrive/Audio/C/01_374.wav 1\n",
            "/gdrive/MyDrive/Audio/C/01_375.wav 1\n",
            "/gdrive/MyDrive/Audio/C/01_377.wav 1\n",
            "/gdrive/MyDrive/Audio/C/01_376.wav 1\n",
            "/gdrive/MyDrive/Audio/C/01_378.wav 1\n",
            "/gdrive/MyDrive/Audio/C/01_379.wav 1\n",
            "/gdrive/MyDrive/Audio/C/01_381.wav 1\n",
            "/gdrive/MyDrive/Audio/C/01_380.wav 1\n",
            "/gdrive/MyDrive/Audio/C/01_382.wav 1\n",
            "/gdrive/MyDrive/Audio/C/01_383.wav 1\n",
            "/gdrive/MyDrive/Audio/C/01_384.wav 1\n",
            "/gdrive/MyDrive/Audio/C/01_385.wav 1\n",
            "/gdrive/MyDrive/Audio/C/01_386.wav 1\n",
            "/gdrive/MyDrive/Audio/C/01_387.wav 1\n",
            "/gdrive/MyDrive/Audio/C/01_388.wav 1\n",
            "/gdrive/MyDrive/Audio/C/01_389.wav 1\n",
            "/gdrive/MyDrive/Audio/C/01_390.wav 1\n",
            "/gdrive/MyDrive/Audio/C/01_391.wav 1\n",
            "/gdrive/MyDrive/Audio/C/01_392.wav 1\n",
            "/gdrive/MyDrive/Audio/C/01_393.wav 1\n",
            "/gdrive/MyDrive/Audio/C/01_394.wav 1\n",
            "/gdrive/MyDrive/Audio/C/01_395.wav 1\n",
            "/gdrive/MyDrive/Audio/C/01_396.wav 1\n",
            "/gdrive/MyDrive/Audio/C/01_397.wav 1\n",
            "/gdrive/MyDrive/Audio/C/01_398.wav 1\n",
            "/gdrive/MyDrive/Audio/C/01_399.wav 1\n",
            "/gdrive/MyDrive/Audio/C/01_400.wav 1\n",
            "/gdrive/MyDrive/Audio/C/01_401.wav 1\n",
            "/gdrive/MyDrive/Audio/C/01_402.wav 1\n",
            "/gdrive/MyDrive/Audio/C/01_403.wav 1\n",
            "/gdrive/MyDrive/Audio/C/01_404.wav 1\n",
            "/gdrive/MyDrive/Audio/C/01_405.wav 1\n",
            "/gdrive/MyDrive/Audio/C/01_406.wav 1\n",
            "/gdrive/MyDrive/Audio/C/01_407.wav 1\n",
            "/gdrive/MyDrive/Audio/C/01_408.wav 1\n",
            "/gdrive/MyDrive/Audio/C/02_001.wav 2\n",
            "/gdrive/MyDrive/Audio/C/02_002.wav 2\n",
            "/gdrive/MyDrive/Audio/C/02_003.wav 2\n",
            "/gdrive/MyDrive/Audio/C/02_004.wav 2\n",
            "/gdrive/MyDrive/Audio/C/02_005.wav 2\n",
            "/gdrive/MyDrive/Audio/C/02_006.wav 2\n",
            "/gdrive/MyDrive/Audio/C/02_007.wav 2\n",
            "/gdrive/MyDrive/Audio/C/02_008.wav 2\n",
            "/gdrive/MyDrive/Audio/C/02_009.wav 2\n",
            "/gdrive/MyDrive/Audio/C/02_010.wav 2\n",
            "/gdrive/MyDrive/Audio/C/02_011.wav 2\n",
            "/gdrive/MyDrive/Audio/C/02_012.wav 2\n",
            "/gdrive/MyDrive/Audio/C/02_013.wav 2\n",
            "/gdrive/MyDrive/Audio/C/02_014.wav 2\n",
            "/gdrive/MyDrive/Audio/C/02_015.wav 2\n",
            "/gdrive/MyDrive/Audio/C/02_016.wav 2\n",
            "/gdrive/MyDrive/Audio/C/02_017.wav 2\n",
            "/gdrive/MyDrive/Audio/C/02_018.wav 2\n",
            "/gdrive/MyDrive/Audio/C/02_019.wav 2\n",
            "/gdrive/MyDrive/Audio/C/02_020.wav 2\n",
            "/gdrive/MyDrive/Audio/C/02_021.wav 2\n",
            "/gdrive/MyDrive/Audio/C/02_022.wav 2\n",
            "/gdrive/MyDrive/Audio/C/02_023.wav 2\n",
            "/gdrive/MyDrive/Audio/C/02_024.wav 2\n",
            "/gdrive/MyDrive/Audio/C/02_025.wav 2\n",
            "/gdrive/MyDrive/Audio/C/02_026.wav 2\n",
            "/gdrive/MyDrive/Audio/C/02_027.wav 2\n",
            "/gdrive/MyDrive/Audio/C/02_028.wav 2\n",
            "/gdrive/MyDrive/Audio/C/02_029.wav 2\n",
            "/gdrive/MyDrive/Audio/C/02_030.wav 2\n",
            "/gdrive/MyDrive/Audio/C/02_031.wav 2\n",
            "/gdrive/MyDrive/Audio/C/02_032.wav 2\n",
            "/gdrive/MyDrive/Audio/C/02_033.wav 2\n",
            "/gdrive/MyDrive/Audio/C/02_035.wav 2\n",
            "/gdrive/MyDrive/Audio/C/02_034.wav 2\n",
            "/gdrive/MyDrive/Audio/C/02_036.wav 2\n",
            "/gdrive/MyDrive/Audio/C/02_037.wav 2\n",
            "/gdrive/MyDrive/Audio/C/02_038.wav 2\n",
            "/gdrive/MyDrive/Audio/C/02_039.wav 2\n",
            "/gdrive/MyDrive/Audio/C/02_040.wav 2\n",
            "/gdrive/MyDrive/Audio/C/02_041.wav 2\n",
            "/gdrive/MyDrive/Audio/C/02_042.wav 2\n",
            "/gdrive/MyDrive/Audio/C/02_043.wav 2\n",
            "/gdrive/MyDrive/Audio/C/02_044.wav 2\n",
            "/gdrive/MyDrive/Audio/C/02_045.wav 2\n",
            "/gdrive/MyDrive/Audio/C/02_046.wav 2\n",
            "/gdrive/MyDrive/Audio/C/02_047.wav 2\n",
            "/gdrive/MyDrive/Audio/C/02_048.wav 2\n",
            "/gdrive/MyDrive/Audio/C/02_049.wav 2\n",
            "/gdrive/MyDrive/Audio/C/02_050.wav 2\n",
            "/gdrive/MyDrive/Audio/C/02_051.wav 2\n",
            "/gdrive/MyDrive/Audio/C/02_052.wav 2\n",
            "/gdrive/MyDrive/Audio/C/02_053.wav 2\n",
            "/gdrive/MyDrive/Audio/C/02_054.wav 2\n",
            "/gdrive/MyDrive/Audio/C/02_055.wav 2\n",
            "/gdrive/MyDrive/Audio/C/02_057.wav 2\n",
            "/gdrive/MyDrive/Audio/C/02_056.wav 2\n",
            "/gdrive/MyDrive/Audio/C/02_058.wav 2\n",
            "/gdrive/MyDrive/Audio/C/02_059.wav 2\n",
            "/gdrive/MyDrive/Audio/C/02_060.wav 2\n",
            "/gdrive/MyDrive/Audio/C/02_061.wav 2\n",
            "/gdrive/MyDrive/Audio/C/02_062.wav 2\n",
            "/gdrive/MyDrive/Audio/C/02_063.wav 2\n",
            "/gdrive/MyDrive/Audio/C/02_064.wav 2\n",
            "/gdrive/MyDrive/Audio/C/02_065.wav 2\n",
            "/gdrive/MyDrive/Audio/C/02_067.wav 2\n",
            "/gdrive/MyDrive/Audio/C/02_066.wav 2\n",
            "/gdrive/MyDrive/Audio/C/02_068.wav 2\n",
            "/gdrive/MyDrive/Audio/C/02_069.wav 2\n",
            "/gdrive/MyDrive/Audio/C/02_070.wav 2\n",
            "/gdrive/MyDrive/Audio/C/02_071.wav 2\n",
            "/gdrive/MyDrive/Audio/C/02_072.wav 2\n",
            "/gdrive/MyDrive/Audio/C/02_073.wav 2\n",
            "/gdrive/MyDrive/Audio/C/02_074.wav 2\n",
            "/gdrive/MyDrive/Audio/C/02_075.wav 2\n",
            "/gdrive/MyDrive/Audio/C/02_076.wav 2\n",
            "/gdrive/MyDrive/Audio/C/02_077.wav 2\n",
            "/gdrive/MyDrive/Audio/C/02_078.wav 2\n",
            "/gdrive/MyDrive/Audio/C/02_079.wav 2\n",
            "/gdrive/MyDrive/Audio/C/02_080.wav 2\n",
            "/gdrive/MyDrive/Audio/C/02_081.wav 2\n",
            "/gdrive/MyDrive/Audio/C/02_082.wav 2\n",
            "/gdrive/MyDrive/Audio/C/02_083.wav 2\n",
            "/gdrive/MyDrive/Audio/C/02_084.wav 2\n",
            "/gdrive/MyDrive/Audio/C/02_085.wav 2\n",
            "/gdrive/MyDrive/Audio/C/02_086.wav 2\n",
            "/gdrive/MyDrive/Audio/C/02_088.wav 2\n",
            "/gdrive/MyDrive/Audio/C/02_087.wav 2\n",
            "/gdrive/MyDrive/Audio/C/02_089.wav 2\n",
            "/gdrive/MyDrive/Audio/C/02_090.wav 2\n",
            "/gdrive/MyDrive/Audio/C/02_091.wav 2\n",
            "/gdrive/MyDrive/Audio/C/02_092.wav 2\n",
            "/gdrive/MyDrive/Audio/C/02_093.wav 2\n",
            "/gdrive/MyDrive/Audio/C/02_094.wav 2\n",
            "/gdrive/MyDrive/Audio/C/02_095.wav 2\n",
            "/gdrive/MyDrive/Audio/C/02_096.wav 2\n",
            "/gdrive/MyDrive/Audio/C/02_098.wav 2\n",
            "/gdrive/MyDrive/Audio/C/02_097.wav 2\n",
            "/gdrive/MyDrive/Audio/C/02_099.wav 2\n",
            "/gdrive/MyDrive/Audio/C/02_100.wav 2\n",
            "/gdrive/MyDrive/Audio/C/02_101.wav 2\n",
            "/gdrive/MyDrive/Audio/C/02_102.wav 2\n",
            "/gdrive/MyDrive/Audio/C/02_103.wav 2\n",
            "/gdrive/MyDrive/Audio/C/02_104.wav 2\n",
            "/gdrive/MyDrive/Audio/C/02_105.wav 2\n",
            "/gdrive/MyDrive/Audio/C/02_106.wav 2\n",
            "/gdrive/MyDrive/Audio/C/02_108.wav 2\n",
            "/gdrive/MyDrive/Audio/C/02_107.wav 2\n",
            "/gdrive/MyDrive/Audio/C/02_109.wav 2\n",
            "/gdrive/MyDrive/Audio/C/02_110.wav 2\n",
            "/gdrive/MyDrive/Audio/C/02_111.wav 2\n",
            "/gdrive/MyDrive/Audio/C/02_112.wav 2\n",
            "/gdrive/MyDrive/Audio/C/02_113.wav 2\n",
            "/gdrive/MyDrive/Audio/C/02_114.wav 2\n",
            "/gdrive/MyDrive/Audio/C/02_115.wav 2\n",
            "/gdrive/MyDrive/Audio/C/02_116.wav 2\n",
            "/gdrive/MyDrive/Audio/C/02_117.wav 2\n",
            "/gdrive/MyDrive/Audio/C/02_118.wav 2\n",
            "/gdrive/MyDrive/Audio/C/02_119.wav 2\n",
            "/gdrive/MyDrive/Audio/C/02_120.wav 2\n",
            "/gdrive/MyDrive/Audio/C/02_121.wav 2\n",
            "/gdrive/MyDrive/Audio/C/02_122.wav 2\n",
            "/gdrive/MyDrive/Audio/C/02_123.wav 2\n",
            "/gdrive/MyDrive/Audio/C/02_125.wav 2\n",
            "/gdrive/MyDrive/Audio/C/02_124.wav 2\n",
            "/gdrive/MyDrive/Audio/C/02_126.wav 2\n",
            "/gdrive/MyDrive/Audio/C/02_127.wav 2\n",
            "/gdrive/MyDrive/Audio/C/02_128.wav 2\n",
            "/gdrive/MyDrive/Audio/C/02_129.wav 2\n",
            "/gdrive/MyDrive/Audio/C/02_130.wav 2\n",
            "/gdrive/MyDrive/Audio/C/02_131.wav 2\n",
            "/gdrive/MyDrive/Audio/C/02_132.wav 2\n",
            "/gdrive/MyDrive/Audio/C/02_133.wav 2\n",
            "/gdrive/MyDrive/Audio/C/02_134.wav 2\n",
            "/gdrive/MyDrive/Audio/C/02_135.wav 2\n",
            "/gdrive/MyDrive/Audio/C/02_136.wav 2\n",
            "/gdrive/MyDrive/Audio/C/02_137.wav 2\n",
            "/gdrive/MyDrive/Audio/C/02_138.wav 2\n",
            "/gdrive/MyDrive/Audio/C/02_139.wav 2\n",
            "/gdrive/MyDrive/Audio/C/02_140.wav 2\n",
            "/gdrive/MyDrive/Audio/C/02_141.wav 2\n",
            "/gdrive/MyDrive/Audio/C/02_142.wav 2\n",
            "/gdrive/MyDrive/Audio/C/02_143.wav 2\n",
            "/gdrive/MyDrive/Audio/C/02_144.wav 2\n",
            "/gdrive/MyDrive/Audio/C/02_145.wav 2\n",
            "/gdrive/MyDrive/Audio/C/02_146.wav 2\n",
            "/gdrive/MyDrive/Audio/C/02_147.wav 2\n",
            "/gdrive/MyDrive/Audio/C/02_148.wav 2\n",
            "/gdrive/MyDrive/Audio/C/02_149.wav 2\n",
            "/gdrive/MyDrive/Audio/C/02_150.wav 2\n",
            "/gdrive/MyDrive/Audio/C/02_151.wav 2\n",
            "/gdrive/MyDrive/Audio/C/02_152.wav 2\n",
            "/gdrive/MyDrive/Audio/C/02_153.wav 2\n",
            "/gdrive/MyDrive/Audio/C/02_154.wav 2\n",
            "/gdrive/MyDrive/Audio/C/02_155.wav 2\n",
            "/gdrive/MyDrive/Audio/C/02_156.wav 2\n",
            "/gdrive/MyDrive/Audio/C/02_157.wav 2\n",
            "/gdrive/MyDrive/Audio/C/02_158.wav 2\n",
            "/gdrive/MyDrive/Audio/C/02_159.wav 2\n",
            "/gdrive/MyDrive/Audio/C/02_160.wav 2\n",
            "/gdrive/MyDrive/Audio/C/02_161.wav 2\n",
            "/gdrive/MyDrive/Audio/C/02_162.wav 2\n",
            "/gdrive/MyDrive/Audio/C/02_163.wav 2\n",
            "/gdrive/MyDrive/Audio/C/02_164.wav 2\n",
            "/gdrive/MyDrive/Audio/C/02_165.wav 2\n",
            "/gdrive/MyDrive/Audio/C/02_166.wav 2\n",
            "/gdrive/MyDrive/Audio/C/02_167.wav 2\n",
            "/gdrive/MyDrive/Audio/C/02_168.wav 2\n",
            "/gdrive/MyDrive/Audio/C/02_169.wav 2\n",
            "/gdrive/MyDrive/Audio/C/02_170.wav 2\n",
            "/gdrive/MyDrive/Audio/C/02_171.wav 2\n",
            "/gdrive/MyDrive/Audio/C/02_172.wav 2\n",
            "/gdrive/MyDrive/Audio/C/02_173.wav 2\n",
            "/gdrive/MyDrive/Audio/C/02_174.wav 2\n",
            "/gdrive/MyDrive/Audio/C/02_175.wav 2\n",
            "/gdrive/MyDrive/Audio/C/02_176.wav 2\n",
            "/gdrive/MyDrive/Audio/C/02_177.wav 2\n",
            "/gdrive/MyDrive/Audio/C/02_178.wav 2\n",
            "/gdrive/MyDrive/Audio/C/02_179.wav 2\n",
            "/gdrive/MyDrive/Audio/C/02_180.wav 2\n",
            "/gdrive/MyDrive/Audio/C/02_181.wav 2\n",
            "/gdrive/MyDrive/Audio/C/02_182.wav 2\n",
            "/gdrive/MyDrive/Audio/C/02_183.wav 2\n",
            "/gdrive/MyDrive/Audio/C/02_184.wav 2\n",
            "/gdrive/MyDrive/Audio/C/02_185.wav 2\n",
            "/gdrive/MyDrive/Audio/C/02_187.wav 2\n",
            "/gdrive/MyDrive/Audio/C/02_186.wav 2\n",
            "/gdrive/MyDrive/Audio/C/02_188.wav 2\n",
            "/gdrive/MyDrive/Audio/C/02_189.wav 2\n",
            "/gdrive/MyDrive/Audio/C/02_190.wav 2\n",
            "/gdrive/MyDrive/Audio/C/02_191.wav 2\n",
            "/gdrive/MyDrive/Audio/C/02_192.wav 2\n",
            "/gdrive/MyDrive/Audio/C/02_193.wav 2\n",
            "/gdrive/MyDrive/Audio/C/02_194.wav 2\n",
            "/gdrive/MyDrive/Audio/C/02_195.wav 2\n",
            "/gdrive/MyDrive/Audio/C/02_196.wav 2\n",
            "/gdrive/MyDrive/Audio/C/02_197.wav 2\n",
            "/gdrive/MyDrive/Audio/C/02_198.wav 2\n",
            "/gdrive/MyDrive/Audio/C/02_199.wav 2\n",
            "/gdrive/MyDrive/Audio/C/02_200.wav 2\n",
            "/gdrive/MyDrive/Audio/C/02_201.wav 2\n",
            "/gdrive/MyDrive/Audio/C/02_202.wav 2\n",
            "/gdrive/MyDrive/Audio/C/02_203.wav 2\n",
            "/gdrive/MyDrive/Audio/C/02_204.wav 2\n",
            "/gdrive/MyDrive/Audio/C/02_205.wav 2\n",
            "/gdrive/MyDrive/Audio/C/02_206.wav 2\n",
            "/gdrive/MyDrive/Audio/C/02_207.wav 2\n",
            "/gdrive/MyDrive/Audio/C/02_208.wav 2\n",
            "/gdrive/MyDrive/Audio/C/02_209.wav 2\n",
            "/gdrive/MyDrive/Audio/C/02_210.wav 2\n",
            "/gdrive/MyDrive/Audio/C/02_211.wav 2\n",
            "/gdrive/MyDrive/Audio/C/02_212.wav 2\n",
            "/gdrive/MyDrive/Audio/C/02_213.wav 2\n",
            "/gdrive/MyDrive/Audio/C/02_214.wav 2\n",
            "/gdrive/MyDrive/Audio/C/02_215.wav 2\n",
            "/gdrive/MyDrive/Audio/C/02_216.wav 2\n",
            "/gdrive/MyDrive/Audio/C/02_217.wav 2\n",
            "/gdrive/MyDrive/Audio/C/02_218.wav 2\n",
            "/gdrive/MyDrive/Audio/C/02_219.wav 2\n",
            "/gdrive/MyDrive/Audio/C/02_220.wav 2\n",
            "/gdrive/MyDrive/Audio/C/02_221.wav 2\n",
            "/gdrive/MyDrive/Audio/C/02_222.wav 2\n",
            "/gdrive/MyDrive/Audio/C/02_224.wav 2\n",
            "/gdrive/MyDrive/Audio/C/02_223.wav 2\n",
            "/gdrive/MyDrive/Audio/C/02_225.wav 2\n",
            "/gdrive/MyDrive/Audio/C/02_226.wav 2\n",
            "/gdrive/MyDrive/Audio/C/02_227.wav 2\n",
            "/gdrive/MyDrive/Audio/C/02_229.wav 2\n",
            "/gdrive/MyDrive/Audio/C/02_228.wav 2\n",
            "/gdrive/MyDrive/Audio/C/02_230.wav 2\n",
            "/gdrive/MyDrive/Audio/C/02_231.wav 2\n",
            "/gdrive/MyDrive/Audio/C/02_232.wav 2\n",
            "/gdrive/MyDrive/Audio/C/02_233.wav 2\n",
            "/gdrive/MyDrive/Audio/C/02_234.wav 2\n",
            "/gdrive/MyDrive/Audio/C/02_235.wav 2\n",
            "/gdrive/MyDrive/Audio/C/02_236.wav 2\n",
            "/gdrive/MyDrive/Audio/C/02_237.wav 2\n",
            "/gdrive/MyDrive/Audio/C/02_238.wav 2\n",
            "/gdrive/MyDrive/Audio/C/02_239.wav 2\n",
            "/gdrive/MyDrive/Audio/C/02_240.wav 2\n",
            "/gdrive/MyDrive/Audio/C/02_241.wav 2\n",
            "/gdrive/MyDrive/Audio/C/02_242.wav 2\n",
            "/gdrive/MyDrive/Audio/C/02_243.wav 2\n",
            "/gdrive/MyDrive/Audio/C/02_244.wav 2\n",
            "/gdrive/MyDrive/Audio/C/02_245.wav 2\n",
            "/gdrive/MyDrive/Audio/C/02_246.wav 2\n",
            "/gdrive/MyDrive/Audio/C/02_247.wav 2\n",
            "/gdrive/MyDrive/Audio/C/02_248.wav 2\n",
            "/gdrive/MyDrive/Audio/C/02_250.wav 2\n",
            "/gdrive/MyDrive/Audio/C/02_249.wav 2\n",
            "/gdrive/MyDrive/Audio/C/02_251.wav 2\n",
            "/gdrive/MyDrive/Audio/C/02_252.wav 2\n",
            "/gdrive/MyDrive/Audio/C/02_253.wav 2\n",
            "/gdrive/MyDrive/Audio/C/02_254.wav 2\n",
            "/gdrive/MyDrive/Audio/C/02_255.wav 2\n",
            "/gdrive/MyDrive/Audio/C/02_256.wav 2\n",
            "/gdrive/MyDrive/Audio/C/02_257.wav 2\n",
            "/gdrive/MyDrive/Audio/C/02_258.wav 2\n",
            "/gdrive/MyDrive/Audio/C/02_259.wav 2\n",
            "/gdrive/MyDrive/Audio/C/02_260.wav 2\n",
            "/gdrive/MyDrive/Audio/C/02_261.wav 2\n",
            "/gdrive/MyDrive/Audio/C/02_262.wav 2\n",
            "/gdrive/MyDrive/Audio/C/02_263.wav 2\n",
            "/gdrive/MyDrive/Audio/C/02_264.wav 2\n",
            "/gdrive/MyDrive/Audio/C/02_265.wav 2\n",
            "/gdrive/MyDrive/Audio/C/02_266.wav 2\n",
            "/gdrive/MyDrive/Audio/C/02_267.wav 2\n",
            "/gdrive/MyDrive/Audio/C/02_268.wav 2\n",
            "/gdrive/MyDrive/Audio/C/02_269.wav 2\n",
            "/gdrive/MyDrive/Audio/C/02_270.wav 2\n",
            "/gdrive/MyDrive/Audio/C/02_271.wav 2\n",
            "/gdrive/MyDrive/Audio/C/02_272.wav 2\n",
            "/gdrive/MyDrive/Audio/C/02_273.wav 2\n",
            "/gdrive/MyDrive/Audio/C/02_274.wav 2\n",
            "/gdrive/MyDrive/Audio/C/02_275.wav 2\n",
            "/gdrive/MyDrive/Audio/C/02_276.wav 2\n",
            "/gdrive/MyDrive/Audio/C/02_277.wav 2\n",
            "/gdrive/MyDrive/Audio/C/02_278.wav 2\n",
            "/gdrive/MyDrive/Audio/C/02_279.wav 2\n",
            "/gdrive/MyDrive/Audio/C/02_280.wav 2\n",
            "/gdrive/MyDrive/Audio/C/02_281.wav 2\n",
            "/gdrive/MyDrive/Audio/C/02_282.wav 2\n",
            "/gdrive/MyDrive/Audio/C/02_283.wav 2\n",
            "/gdrive/MyDrive/Audio/C/02_284.wav 2\n",
            "/gdrive/MyDrive/Audio/C/02_285.wav 2\n",
            "/gdrive/MyDrive/Audio/C/02_286.wav 2\n",
            "/gdrive/MyDrive/Audio/C/02_287.wav 2\n",
            "/gdrive/MyDrive/Audio/C/02_288.wav 2\n",
            "/gdrive/MyDrive/Audio/C/02_289.wav 2\n",
            "/gdrive/MyDrive/Audio/C/02_290.wav 2\n",
            "/gdrive/MyDrive/Audio/C/02_291.wav 2\n",
            "/gdrive/MyDrive/Audio/C/02_292.wav 2\n",
            "/gdrive/MyDrive/Audio/C/02_293.wav 2\n",
            "/gdrive/MyDrive/Audio/C/02_294.wav 2\n",
            "/gdrive/MyDrive/Audio/C/02_295.wav 2\n",
            "/gdrive/MyDrive/Audio/C/02_296.wav 2\n",
            "/gdrive/MyDrive/Audio/C/02_297.wav 2\n",
            "/gdrive/MyDrive/Audio/C/02_298.wav 2\n",
            "/gdrive/MyDrive/Audio/C/02_299.wav 2\n",
            "/gdrive/MyDrive/Audio/C/02_300.wav 2\n",
            "/gdrive/MyDrive/Audio/C/02_301.wav 2\n",
            "/gdrive/MyDrive/Audio/C/02_303.wav 2\n",
            "/gdrive/MyDrive/Audio/C/02_302.wav 2\n",
            "/gdrive/MyDrive/Audio/C/02_304.wav 2\n",
            "/gdrive/MyDrive/Audio/C/02_305.wav 2\n",
            "/gdrive/MyDrive/Audio/C/02_306.wav 2\n",
            "/gdrive/MyDrive/Audio/C/02_308.wav 2\n",
            "/gdrive/MyDrive/Audio/C/02_307.wav 2\n",
            "/gdrive/MyDrive/Audio/C/02_309.wav 2\n",
            "/gdrive/MyDrive/Audio/C/02_310.wav 2\n",
            "/gdrive/MyDrive/Audio/C/02_311.wav 2\n",
            "/gdrive/MyDrive/Audio/C/02_312.wav 2\n",
            "/gdrive/MyDrive/Audio/C/02_313.wav 2\n",
            "/gdrive/MyDrive/Audio/C/02_314.wav 2\n",
            "/gdrive/MyDrive/Audio/C/02_315.wav 2\n",
            "/gdrive/MyDrive/Audio/C/02_316.wav 2\n",
            "/gdrive/MyDrive/Audio/C/02_317.wav 2\n",
            "/gdrive/MyDrive/Audio/C/02_319.wav 2\n",
            "/gdrive/MyDrive/Audio/C/02_318.wav 2\n",
            "/gdrive/MyDrive/Audio/C/02_320.wav 2\n",
            "/gdrive/MyDrive/Audio/C/02_321.wav 2\n",
            "/gdrive/MyDrive/Audio/C/02_322.wav 2\n",
            "/gdrive/MyDrive/Audio/C/02_324.wav 2\n",
            "/gdrive/MyDrive/Audio/C/02_323.wav 2\n",
            "/gdrive/MyDrive/Audio/C/02_325.wav 2\n",
            "/gdrive/MyDrive/Audio/C/02_326.wav 2\n",
            "/gdrive/MyDrive/Audio/C/02_327.wav 2\n",
            "/gdrive/MyDrive/Audio/C/02_329.wav 2\n",
            "/gdrive/MyDrive/Audio/C/02_328.wav 2\n",
            "/gdrive/MyDrive/Audio/C/02_330.wav 2\n",
            "/gdrive/MyDrive/Audio/C/02_331.wav 2\n",
            "/gdrive/MyDrive/Audio/C/02_332.wav 2\n",
            "/gdrive/MyDrive/Audio/C/02_333.wav 2\n",
            "/gdrive/MyDrive/Audio/C/02_334.wav 2\n",
            "/gdrive/MyDrive/Audio/C/02_335.wav 2\n",
            "/gdrive/MyDrive/Audio/C/02_336.wav 2\n",
            "/gdrive/MyDrive/Audio/C/02_337.wav 2\n",
            "/gdrive/MyDrive/Audio/C/02_338.wav 2\n",
            "/gdrive/MyDrive/Audio/C/02_339.wav 2\n",
            "/gdrive/MyDrive/Audio/C/02_340.wav 2\n",
            "/gdrive/MyDrive/Audio/C/02_341.wav 2\n",
            "/gdrive/MyDrive/Audio/C/02_342.wav 2\n",
            "/gdrive/MyDrive/Audio/C/02_344.wav 2\n",
            "/gdrive/MyDrive/Audio/C/02_343.wav 2\n",
            "/gdrive/MyDrive/Audio/C/02_345.wav 2\n",
            "/gdrive/MyDrive/Audio/C/02_346.wav 2\n",
            "/gdrive/MyDrive/Audio/C/02_347.wav 2\n",
            "/gdrive/MyDrive/Audio/C/02_348.wav 2\n",
            "/gdrive/MyDrive/Audio/C/02_349.wav 2\n",
            "/gdrive/MyDrive/Audio/C/02_350.wav 2\n",
            "/gdrive/MyDrive/Audio/C/02_351.wav 2\n",
            "/gdrive/MyDrive/Audio/C/02_352.wav 2\n",
            "/gdrive/MyDrive/Audio/C/02_353.wav 2\n",
            "/gdrive/MyDrive/Audio/C/02_354.wav 2\n",
            "/gdrive/MyDrive/Audio/C/02_355.wav 2\n",
            "/gdrive/MyDrive/Audio/C/02_356.wav 2\n",
            "/gdrive/MyDrive/Audio/C/02_357.wav 2\n",
            "/gdrive/MyDrive/Audio/C/02_358.wav 2\n",
            "/gdrive/MyDrive/Audio/C/02_359.wav 2\n",
            "/gdrive/MyDrive/Audio/C/02_360.wav 2\n",
            "/gdrive/MyDrive/Audio/C/02_362.wav 2\n",
            "/gdrive/MyDrive/Audio/C/02_361.wav 2\n",
            "/gdrive/MyDrive/Audio/C/02_363.wav 2\n",
            "/gdrive/MyDrive/Audio/C/02_364.wav 2\n",
            "/gdrive/MyDrive/Audio/C/02_365.wav 2\n",
            "/gdrive/MyDrive/Audio/C/02_366.wav 2\n",
            "/gdrive/MyDrive/Audio/C/02_367.wav 2\n",
            "/gdrive/MyDrive/Audio/C/02_368.wav 2\n",
            "/gdrive/MyDrive/Audio/C/02_369.wav 2\n",
            "/gdrive/MyDrive/Audio/C/02_370.wav 2\n",
            "/gdrive/MyDrive/Audio/C/02_371.wav 2\n",
            "/gdrive/MyDrive/Audio/C/02_373.wav 2\n",
            "/gdrive/MyDrive/Audio/C/02_372.wav 2\n",
            "/gdrive/MyDrive/Audio/C/02_374.wav 2\n",
            "/gdrive/MyDrive/Audio/C/02_375.wav 2\n",
            "/gdrive/MyDrive/Audio/C/02_376.wav 2\n",
            "/gdrive/MyDrive/Audio/C/02_377.wav 2\n",
            "/gdrive/MyDrive/Audio/C/02_378.wav 2\n",
            "/gdrive/MyDrive/Audio/C/02_379.wav 2\n",
            "/gdrive/MyDrive/Audio/C/02_380.wav 2\n",
            "/gdrive/MyDrive/Audio/C/02_381.wav 2\n",
            "/gdrive/MyDrive/Audio/C/02_383.wav 2\n",
            "/gdrive/MyDrive/Audio/C/02_382.wav 2\n",
            "/gdrive/MyDrive/Audio/C/02_384.wav 2\n",
            "/gdrive/MyDrive/Audio/C/02_385.wav 2\n",
            "/gdrive/MyDrive/Audio/C/02_387.wav 2\n",
            "/gdrive/MyDrive/Audio/C/02_386.wav 2\n",
            "/gdrive/MyDrive/Audio/C/02_388.wav 2\n",
            "/gdrive/MyDrive/Audio/C/02_389.wav 2\n",
            "/gdrive/MyDrive/Audio/C/02_390.wav 2\n",
            "/gdrive/MyDrive/Audio/C/02_391.wav 2\n",
            "/gdrive/MyDrive/Audio/C/02_393.wav 2\n",
            "/gdrive/MyDrive/Audio/C/02_392.wav 2\n",
            "/gdrive/MyDrive/Audio/C/02_394.wav 2\n",
            "/gdrive/MyDrive/Audio/C/02_395.wav 2\n",
            "/gdrive/MyDrive/Audio/C/02_396.wav 2\n",
            "/gdrive/MyDrive/Audio/C/02_397.wav 2\n",
            "/gdrive/MyDrive/Audio/C/00_001.wav 0\n",
            "/gdrive/MyDrive/Audio/C/00_002.wav 0\n",
            "/gdrive/MyDrive/Audio/C/00_003.wav 0\n",
            "/gdrive/MyDrive/Audio/C/00_004.wav 0\n",
            "/gdrive/MyDrive/Audio/C/00_005.wav 0\n",
            "/gdrive/MyDrive/Audio/C/00_006.wav 0\n",
            "/gdrive/MyDrive/Audio/C/00_007.wav 0\n",
            "/gdrive/MyDrive/Audio/C/00_008.wav 0\n",
            "/gdrive/MyDrive/Audio/C/00_009.wav 0\n",
            "/gdrive/MyDrive/Audio/C/00_010.wav 0\n",
            "/gdrive/MyDrive/Audio/C/00_011.wav 0\n",
            "/gdrive/MyDrive/Audio/C/00_012.wav 0\n",
            "/gdrive/MyDrive/Audio/C/00_013.wav 0\n",
            "/gdrive/MyDrive/Audio/C/00_014.wav 0\n",
            "/gdrive/MyDrive/Audio/C/00_015.wav 0\n",
            "/gdrive/MyDrive/Audio/C/00_016.wav 0\n",
            "/gdrive/MyDrive/Audio/C/00_017.wav 0\n",
            "/gdrive/MyDrive/Audio/C/00_018.wav 0\n",
            "/gdrive/MyDrive/Audio/C/00_019.wav 0\n",
            "/gdrive/MyDrive/Audio/C/00_020.wav 0\n",
            "/gdrive/MyDrive/Audio/C/00_021.wav 0\n",
            "/gdrive/MyDrive/Audio/C/00_022.wav 0\n",
            "/gdrive/MyDrive/Audio/C/00_023.wav 0\n",
            "/gdrive/MyDrive/Audio/C/00_024.wav 0\n",
            "/gdrive/MyDrive/Audio/C/00_025.wav 0\n",
            "/gdrive/MyDrive/Audio/C/00_026.wav 0\n",
            "/gdrive/MyDrive/Audio/C/00_027.wav 0\n",
            "/gdrive/MyDrive/Audio/C/00_028.wav 0\n",
            "/gdrive/MyDrive/Audio/C/00_029.wav 0\n",
            "/gdrive/MyDrive/Audio/C/00_031.wav 0\n",
            "/gdrive/MyDrive/Audio/C/00_030.wav 0\n",
            "/gdrive/MyDrive/Audio/C/00_032.wav 0\n",
            "/gdrive/MyDrive/Audio/C/00_033.wav 0\n",
            "/gdrive/MyDrive/Audio/C/00_034.wav 0\n",
            "/gdrive/MyDrive/Audio/C/00_035.wav 0\n",
            "/gdrive/MyDrive/Audio/C/00_036.wav 0\n",
            "/gdrive/MyDrive/Audio/C/00_038.wav 0\n",
            "/gdrive/MyDrive/Audio/C/00_037.wav 0\n",
            "/gdrive/MyDrive/Audio/C/00_039.wav 0\n",
            "/gdrive/MyDrive/Audio/C/00_040.wav 0\n",
            "/gdrive/MyDrive/Audio/C/00_041.wav 0\n",
            "/gdrive/MyDrive/Audio/C/00_042.wav 0\n",
            "/gdrive/MyDrive/Audio/C/00_043.wav 0\n",
            "/gdrive/MyDrive/Audio/C/00_044.wav 0\n",
            "/gdrive/MyDrive/Audio/C/00_045.wav 0\n",
            "/gdrive/MyDrive/Audio/C/00_046.wav 0\n",
            "/gdrive/MyDrive/Audio/C/00_047.wav 0\n",
            "/gdrive/MyDrive/Audio/C/00_048.wav 0\n",
            "/gdrive/MyDrive/Audio/C/00_049.wav 0\n",
            "/gdrive/MyDrive/Audio/C/00_050.wav 0\n",
            "/gdrive/MyDrive/Audio/C/00_051.wav 0\n",
            "/gdrive/MyDrive/Audio/C/00_052.wav 0\n",
            "/gdrive/MyDrive/Audio/C/00_053.wav 0\n",
            "/gdrive/MyDrive/Audio/C/00_054.wav 0\n",
            "/gdrive/MyDrive/Audio/C/00_055.wav 0\n",
            "/gdrive/MyDrive/Audio/C/00_056.wav 0\n",
            "/gdrive/MyDrive/Audio/C/00_057.wav 0\n",
            "/gdrive/MyDrive/Audio/C/00_058.wav 0\n",
            "/gdrive/MyDrive/Audio/C/00_059.wav 0\n",
            "/gdrive/MyDrive/Audio/C/00_060.wav 0\n",
            "/gdrive/MyDrive/Audio/C/00_061.wav 0\n",
            "/gdrive/MyDrive/Audio/C/00_062.wav 0\n",
            "/gdrive/MyDrive/Audio/C/00_063.wav 0\n",
            "/gdrive/MyDrive/Audio/C/00_064.wav 0\n",
            "/gdrive/MyDrive/Audio/C/00_066.wav 0\n",
            "/gdrive/MyDrive/Audio/C/00_065.wav 0\n",
            "/gdrive/MyDrive/Audio/C/00_067.wav 0\n",
            "/gdrive/MyDrive/Audio/C/00_068.wav 0\n",
            "/gdrive/MyDrive/Audio/C/00_069.wav 0\n",
            "/gdrive/MyDrive/Audio/C/00_070.wav 0\n",
            "/gdrive/MyDrive/Audio/C/00_071.wav 0\n",
            "/gdrive/MyDrive/Audio/C/00_072.wav 0\n",
            "/gdrive/MyDrive/Audio/C/00_074.wav 0\n",
            "/gdrive/MyDrive/Audio/C/00_073.wav 0\n",
            "/gdrive/MyDrive/Audio/C/00_075.wav 0\n",
            "/gdrive/MyDrive/Audio/C/00_076.wav 0\n",
            "/gdrive/MyDrive/Audio/C/00_078.wav 0\n",
            "/gdrive/MyDrive/Audio/C/00_077.wav 0\n",
            "/gdrive/MyDrive/Audio/C/00_079.wav 0\n",
            "/gdrive/MyDrive/Audio/C/00_080.wav 0\n",
            "/gdrive/MyDrive/Audio/C/00_081.wav 0\n",
            "/gdrive/MyDrive/Audio/C/00_082.wav 0\n",
            "/gdrive/MyDrive/Audio/C/00_083.wav 0\n",
            "/gdrive/MyDrive/Audio/C/00_084.wav 0\n",
            "/gdrive/MyDrive/Audio/C/00_085.wav 0\n",
            "/gdrive/MyDrive/Audio/C/00_086.wav 0\n",
            "/gdrive/MyDrive/Audio/C/00_088.wav 0\n",
            "/gdrive/MyDrive/Audio/C/00_087.wav 0\n",
            "/gdrive/MyDrive/Audio/C/00_089.wav 0\n",
            "/gdrive/MyDrive/Audio/C/00_090.wav 0\n",
            "/gdrive/MyDrive/Audio/C/00_091.wav 0\n",
            "/gdrive/MyDrive/Audio/C/00_092.wav 0\n",
            "/gdrive/MyDrive/Audio/C/00_093.wav 0\n",
            "/gdrive/MyDrive/Audio/C/00_094.wav 0\n",
            "/gdrive/MyDrive/Audio/C/00_095.wav 0\n",
            "/gdrive/MyDrive/Audio/C/00_096.wav 0\n",
            "/gdrive/MyDrive/Audio/C/00_097.wav 0\n",
            "/gdrive/MyDrive/Audio/C/00_098.wav 0\n",
            "/gdrive/MyDrive/Audio/C/00_099.wav 0\n",
            "/gdrive/MyDrive/Audio/C/00_100.wav 0\n",
            "/gdrive/MyDrive/Audio/C/00_101.wav 0\n",
            "/gdrive/MyDrive/Audio/C/00_102.wav 0\n",
            "/gdrive/MyDrive/Audio/C/00_103.wav 0\n",
            "/gdrive/MyDrive/Audio/C/00_104.wav 0\n",
            "/gdrive/MyDrive/Audio/C/00_105.wav 0\n",
            "/gdrive/MyDrive/Audio/C/00_106.wav 0\n",
            "/gdrive/MyDrive/Audio/C/00_108.wav 0\n",
            "/gdrive/MyDrive/Audio/C/00_107.wav 0\n",
            "/gdrive/MyDrive/Audio/C/00_109.wav 0\n",
            "/gdrive/MyDrive/Audio/C/00_110.wav 0\n",
            "/gdrive/MyDrive/Audio/C/00_111.wav 0\n",
            "/gdrive/MyDrive/Audio/C/00_112.wav 0\n",
            "/gdrive/MyDrive/Audio/C/00_113.wav 0\n",
            "/gdrive/MyDrive/Audio/C/00_114.wav 0\n",
            "/gdrive/MyDrive/Audio/C/00_115.wav 0\n",
            "/gdrive/MyDrive/Audio/C/00_117.wav 0\n",
            "/gdrive/MyDrive/Audio/C/00_116.wav 0\n",
            "/gdrive/MyDrive/Audio/C/00_118.wav 0\n",
            "/gdrive/MyDrive/Audio/C/00_120.wav 0\n",
            "/gdrive/MyDrive/Audio/C/00_119.wav 0\n",
            "/gdrive/MyDrive/Audio/C/00_121.wav 0\n",
            "/gdrive/MyDrive/Audio/C/00_122.wav 0\n",
            "/gdrive/MyDrive/Audio/C/00_124.wav 0\n",
            "/gdrive/MyDrive/Audio/C/00_123.wav 0\n",
            "/gdrive/MyDrive/Audio/C/00_125.wav 0\n",
            "/gdrive/MyDrive/Audio/C/00_126.wav 0\n",
            "/gdrive/MyDrive/Audio/C/00_127.wav 0\n",
            "/gdrive/MyDrive/Audio/C/00_128.wav 0\n",
            "/gdrive/MyDrive/Audio/C/00_129.wav 0\n",
            "/gdrive/MyDrive/Audio/C/00_130.wav 0\n",
            "/gdrive/MyDrive/Audio/C/00_131.wav 0\n",
            "/gdrive/MyDrive/Audio/C/00_133.wav 0\n",
            "/gdrive/MyDrive/Audio/C/00_132.wav 0\n",
            "/gdrive/MyDrive/Audio/C/00_134.wav 0\n",
            "/gdrive/MyDrive/Audio/C/00_135.wav 0\n",
            "/gdrive/MyDrive/Audio/C/00_136.wav 0\n",
            "/gdrive/MyDrive/Audio/C/00_137.wav 0\n",
            "/gdrive/MyDrive/Audio/C/00_138.wav 0\n",
            "/gdrive/MyDrive/Audio/C/00_139.wav 0\n",
            "/gdrive/MyDrive/Audio/C/00_140.wav 0\n",
            "/gdrive/MyDrive/Audio/C/00_141.wav 0\n",
            "/gdrive/MyDrive/Audio/C/00_142.wav 0\n",
            "/gdrive/MyDrive/Audio/C/00_143.wav 0\n",
            "/gdrive/MyDrive/Audio/C/00_144.wav 0\n",
            "/gdrive/MyDrive/Audio/C/00_146.wav 0\n",
            "/gdrive/MyDrive/Audio/C/00_145.wav 0\n",
            "/gdrive/MyDrive/Audio/C/00_147.wav 0\n",
            "/gdrive/MyDrive/Audio/C/00_148.wav 0\n",
            "/gdrive/MyDrive/Audio/C/00_149.wav 0\n",
            "/gdrive/MyDrive/Audio/C/00_150.wav 0\n",
            "/gdrive/MyDrive/Audio/C/00_151.wav 0\n",
            "/gdrive/MyDrive/Audio/C/00_152.wav 0\n",
            "/gdrive/MyDrive/Audio/C/00_153.wav 0\n",
            "/gdrive/MyDrive/Audio/C/00_154.wav 0\n",
            "/gdrive/MyDrive/Audio/C/00_155.wav 0\n",
            "/gdrive/MyDrive/Audio/C/00_156.wav 0\n",
            "/gdrive/MyDrive/Audio/C/00_157.wav 0\n",
            "/gdrive/MyDrive/Audio/C/00_159.wav 0\n",
            "/gdrive/MyDrive/Audio/C/00_158.wav 0\n",
            "/gdrive/MyDrive/Audio/C/00_160.wav 0\n",
            "/gdrive/MyDrive/Audio/C/00_161.wav 0\n",
            "/gdrive/MyDrive/Audio/C/00_162.wav 0\n",
            "/gdrive/MyDrive/Audio/C/00_163.wav 0\n",
            "/gdrive/MyDrive/Audio/C/00_164.wav 0\n",
            "/gdrive/MyDrive/Audio/C/00_165.wav 0\n",
            "/gdrive/MyDrive/Audio/C/00_166.wav 0\n",
            "/gdrive/MyDrive/Audio/C/00_167.wav 0\n",
            "/gdrive/MyDrive/Audio/C/00_168.wav 0\n",
            "/gdrive/MyDrive/Audio/C/00_169.wav 0\n",
            "/gdrive/MyDrive/Audio/C/00_170.wav 0\n",
            "/gdrive/MyDrive/Audio/C/00_172.wav 0\n",
            "/gdrive/MyDrive/Audio/C/00_171.wav 0\n",
            "/gdrive/MyDrive/Audio/C/00_173.wav 0\n",
            "/gdrive/MyDrive/Audio/C/00_174.wav 0\n",
            "/gdrive/MyDrive/Audio/C/00_175.wav 0\n",
            "/gdrive/MyDrive/Audio/C/00_177.wav 0\n",
            "/gdrive/MyDrive/Audio/C/00_176.wav 0\n",
            "/gdrive/MyDrive/Audio/C/00_178.wav 0\n",
            "/gdrive/MyDrive/Audio/C/00_179.wav 0\n",
            "/gdrive/MyDrive/Audio/C/00_180.wav 0\n",
            "/gdrive/MyDrive/Audio/C/00_181.wav 0\n",
            "/gdrive/MyDrive/Audio/C/00_182.wav 0\n",
            "/gdrive/MyDrive/Audio/C/00_183.wav 0\n",
            "/gdrive/MyDrive/Audio/C/00_184.wav 0\n",
            "/gdrive/MyDrive/Audio/C/00_185.wav 0\n",
            "/gdrive/MyDrive/Audio/C/00_187.wav 0\n",
            "/gdrive/MyDrive/Audio/C/00_186.wav 0\n",
            "/gdrive/MyDrive/Audio/C/00_188.wav 0\n",
            "/gdrive/MyDrive/Audio/C/00_189.wav 0\n",
            "/gdrive/MyDrive/Audio/C/00_190.wav 0\n",
            "/gdrive/MyDrive/Audio/C/00_191.wav 0\n",
            "/gdrive/MyDrive/Audio/C/00_192.wav 0\n",
            "/gdrive/MyDrive/Audio/C/00_193.wav 0\n",
            "/gdrive/MyDrive/Audio/C/00_194.wav 0\n",
            "/gdrive/MyDrive/Audio/C/00_195.wav 0\n",
            "/gdrive/MyDrive/Audio/C/00_196.wav 0\n",
            "/gdrive/MyDrive/Audio/C/00_197.wav 0\n",
            "/gdrive/MyDrive/Audio/C/00_198.wav 0\n",
            "/gdrive/MyDrive/Audio/C/00_199.wav 0\n",
            "/gdrive/MyDrive/Audio/C/00_200.wav 0\n",
            "/gdrive/MyDrive/Audio/C/00_201.wav 0\n",
            "/gdrive/MyDrive/Audio/C/00_202.wav 0\n",
            "/gdrive/MyDrive/Audio/C/00_203.wav 0\n",
            "/gdrive/MyDrive/Audio/C/00_204.wav 0\n",
            "/gdrive/MyDrive/Audio/C/00_205.wav 0\n",
            "/gdrive/MyDrive/Audio/C/00_207.wav 0\n",
            "/gdrive/MyDrive/Audio/C/00_206.wav 0\n",
            "/gdrive/MyDrive/Audio/C/00_208.wav 0\n",
            "/gdrive/MyDrive/Audio/C/00_209.wav 0\n",
            "/gdrive/MyDrive/Audio/C/00_210.wav 0\n",
            "/gdrive/MyDrive/Audio/C/00_211.wav 0\n",
            "/gdrive/MyDrive/Audio/C/00_212.wav 0\n",
            "/gdrive/MyDrive/Audio/C/00_213.wav 0\n",
            "/gdrive/MyDrive/Audio/C/00_214.wav 0\n",
            "/gdrive/MyDrive/Audio/C/00_215.wav 0\n"
          ]
        }
      ]
    },
    {
      "cell_type": "code",
      "source": [
        "from collections import Counter\n",
        "Counter(raw_y)\n"
      ],
      "metadata": {
        "colab": {
          "base_uri": "https://localhost:8080/"
        },
        "id": "WY8Ro3dfdARJ",
        "outputId": "da4b6e31-50c5-445f-da91-16c67b12da53"
      },
      "execution_count": 6,
      "outputs": [
        {
          "output_type": "execute_result",
          "data": {
            "text/plain": [
              "Counter({0: 410, 1: 408, 2: 397})"
            ]
          },
          "metadata": {},
          "execution_count": 6
        }
      ]
    },
    {
      "cell_type": "code",
      "source": [
        "print(raw_y[980])\n",
        "IPython.display.Audio(raw_x[980], rate=SAMPLING_RATE)"
      ],
      "metadata": {
        "colab": {
          "base_uri": "https://localhost:8080/",
          "height": 92
        },
        "id": "LMyoGSYqiA2D",
        "outputId": "2ea4b585-6369-411f-c09b-07c0dbf3f48c"
      },
      "execution_count": 7,
      "outputs": [
        {
          "output_type": "stream",
          "name": "stdout",
          "text": [
            "2\n"
          ]
        },
        {
          "output_type": "execute_result",
          "data": {
            "text/plain": [
              "<IPython.lib.display.Audio object>"
            ],
            "text/html": [
              "\n",
              "                <audio  controls=\"controls\" >\n",
              "                    <source src=\"data:audio/wav;base64,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\" type=\"audio/wav\" />\n",
              "                    Your browser does not support the audio element.\n",
              "                </audio>\n",
              "              "
            ]
          },
          "metadata": {},
          "execution_count": 7
        }
      ]
    },
    {
      "cell_type": "code",
      "source": [
        "print(raw_y[1])\n",
        "IPython.display.Audio(raw_x[1], rate=SAMPLING_RATE)"
      ],
      "metadata": {
        "colab": {
          "base_uri": "https://localhost:8080/",
          "height": 92
        },
        "id": "bjXXExOuiHcr",
        "outputId": "39b71b38-1060-46d3-8566-c3a55b5f9e1e"
      },
      "execution_count": 8,
      "outputs": [
        {
          "output_type": "stream",
          "name": "stdout",
          "text": [
            "0\n"
          ]
        },
        {
          "output_type": "execute_result",
          "data": {
            "text/plain": [
              "<IPython.lib.display.Audio object>"
            ],
            "text/html": [
              "\n",
              "                <audio  controls=\"controls\" >\n",
              "                    <source src=\"data:audio/wav;base64,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\" type=\"audio/wav\" />\n",
              "                    Your browser does not support the audio element.\n",
              "                </audio>\n",
              "              "
            ]
          },
          "metadata": {},
          "execution_count": 8
        }
      ]
    },
    {
      "cell_type": "markdown",
      "source": [
        "# padding"
      ],
      "metadata": {
        "id": "M1e1eHmSNfY9"
      }
    },
    {
      "cell_type": "code",
      "source": [
        "lens = []\n",
        "for i in range(len(raw_x)):\n",
        "    lens.append(len(raw_x[i]))\n",
        "\n",
        "plt.hist(lens, bins=100)\n",
        "plt.show()"
      ],
      "metadata": {
        "colab": {
          "base_uri": "https://localhost:8080/",
          "height": 265
        },
        "id": "FsjDBDIOEVd4",
        "outputId": "b1053329-e4ff-490d-86ff-927e5e4c5ba6"
      },
      "execution_count": 9,
      "outputs": [
        {
          "output_type": "display_data",
          "data": {
            "text/plain": [
              "<Figure size 432x288 with 1 Axes>"
            ],
            "image/png": "[encoded data removed]"
          },
          "metadata": {
            "needs_background": "light"
          }
        }
      ]
    },
    {
      "cell_type": "code",
      "source": [
        "print(lens[:10])"
      ],
      "metadata": {
        "colab": {
          "base_uri": "https://localhost:8080/"
        },
        "id": "92aGHRkbkisj",
        "outputId": "5997b235-19b6-403c-d9e6-9873fe9a086e"
      },
      "execution_count": 10,
      "outputs": [
        {
          "output_type": "stream",
          "name": "stdout",
          "text": [
            "[8600, 9261, 8820, 9041, 7938, 7056, 221, 6836, 7056, 8379]\n"
          ]
        }
      ]
    },
    {
      "cell_type": "code",
      "source": [
        "from tensorflow.keras.preprocessing import sequence\n",
        "\n",
        "padded_raw_x = sequence.pad_sequences(raw_x, maxlen=22050, padding='post', dtype=float)\n",
        "# 파일 길이를 똑같이 맞춤 22050 (1초로)"
      ],
      "metadata": {
        "id": "aghztZe9-1N5"
      },
      "execution_count": 11,
      "outputs": []
    },
    {
      "cell_type": "code",
      "source": [
        "print(raw_y[670])\n",
        "IPython.display.Audio(raw_x[670], rate=SAMPLING_RATE)"
      ],
      "metadata": {
        "colab": {
          "base_uri": "https://localhost:8080/",
          "height": 92
        },
        "outputId": "74541c9b-ff35-40b3-92d1-cac0e2914223",
        "id": "7mTCyMzWiVAZ"
      },
      "execution_count": 12,
      "outputs": [
        {
          "output_type": "stream",
          "name": "stdout",
          "text": [
            "2\n"
          ]
        },
        {
          "output_type": "execute_result",
          "data": {
            "text/plain": [
              "<IPython.lib.display.Audio object>"
            ],
            "text/html": [
              "\n",
              "                <audio  controls=\"controls\" >\n",
              "                    <source src=\"data:audio/wav;base64,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\" type=\"audio/wav\" />\n",
              "                    Your browser does not support the audio element.\n",
              "                </audio>\n",
              "              "
            ]
          },
          "metadata": {},
          "execution_count": 12
        }
      ]
    },
    {
      "cell_type": "code",
      "source": [
        "print(raw_y[340])\n",
        "IPython.display.Audio(raw_x[340], rate=SAMPLING_RATE)"
      ],
      "metadata": {
        "colab": {
          "base_uri": "https://localhost:8080/",
          "height": 92
        },
        "outputId": "1ea4cd18-9f0d-4a3a-e925-cdbb66724daf",
        "id": "R6-jXew3iVAZ"
      },
      "execution_count": 13,
      "outputs": [
        {
          "output_type": "stream",
          "name": "stdout",
          "text": [
            "1\n"
          ]
        },
        {
          "output_type": "execute_result",
          "data": {
            "text/plain": [
              "<IPython.lib.display.Audio object>"
            ],
            "text/html": [
              "\n",
              "                <audio  controls=\"controls\" >\n",
              "                    <source src=\"data:audio/wav;base64,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\" type=\"audio/wav\" />\n",
              "                    Your browser does not support the audio element.\n",
              "                </audio>\n",
              "              "
            ]
          },
          "metadata": {},
          "execution_count": 13
        }
      ]
    },
    {
      "cell_type": "code",
      "source": [
        "raw_x = np.array(padded_raw_x)\n",
        "raw_y = np.array(raw_y)\n",
        "print(raw_x.shape)  \n",
        "print(raw_y.shape)"
      ],
      "metadata": {
        "colab": {
          "base_uri": "https://localhost:8080/"
        },
        "id": "1b-zDbF--1LQ",
        "outputId": "e631be51-3d7b-462a-cd1a-19138e7c0b17"
      },
      "execution_count": 14,
      "outputs": [
        {
          "output_type": "stream",
          "name": "stdout",
          "text": [
            "(1215, 22050)\n",
            "(1215,)\n"
          ]
        }
      ]
    },
    {
      "cell_type": "code",
      "source": [
        "print(raw_y[980])\n",
        "IPython.display.Audio(raw_x[980], rate=SAMPLING_RATE)"
      ],
      "metadata": {
        "colab": {
          "base_uri": "https://localhost:8080/",
          "height": 92
        },
        "outputId": "f4443942-4d16-498b-fd28-d79c05738e4c",
        "id": "kvxddiJmibQf"
      },
      "execution_count": 15,
      "outputs": [
        {
          "output_type": "stream",
          "name": "stdout",
          "text": [
            "2\n"
          ]
        },
        {
          "output_type": "execute_result",
          "data": {
            "text/plain": [
              "<IPython.lib.display.Audio object>"
            ],
            "text/html": [
              "\n",
              "                <audio  controls=\"controls\" >\n",
              "                    <source src=\"data:audio/wav;base64,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\" type=\"audio/wav\" />\n",
              "                    Your browser does not support the audio element.\n",
              "                </audio>\n",
              "              "
            ]
          },
          "metadata": {},
          "execution_count": 15
        }
      ]
    },
    {
      "cell_type": "code",
      "source": [
        "print(raw_y[1])\n",
        "IPython.display.Audio(raw_x[1], rate=SAMPLING_RATE)"
      ],
      "metadata": {
        "colab": {
          "base_uri": "https://localhost:8080/",
          "height": 92
        },
        "outputId": "7f24b9ac-0176-4e10-f1b5-45fdd46a07c5",
        "id": "o02lV35TibQg"
      },
      "execution_count": 16,
      "outputs": [
        {
          "output_type": "stream",
          "name": "stdout",
          "text": [
            "0\n"
          ]
        },
        {
          "output_type": "execute_result",
          "data": {
            "text/plain": [
              "<IPython.lib.display.Audio object>"
            ],
            "text/html": [
              "\n",
              "                <audio  controls=\"controls\" >\n",
              "                    <source src=\"data:audio/wav;base64,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\" type=\"audio/wav\" />\n",
              "                    Your browser does not support the audio element.\n",
              "                </audio>\n",
              "              "
            ]
          },
          "metadata": {},
          "execution_count": 16
        }
      ]
    },
    {
      "cell_type": "markdown",
      "source": [
        "# Normalization"
      ],
      "metadata": {
        "id": "fMc7mKiONdAs"
      }
    },
    {
      "cell_type": "code",
      "source": [],
      "metadata": {
        "id": "-KNY-Pztk8uI"
      },
      "execution_count": 16,
      "outputs": []
    },
    {
      "cell_type": "code",
      "source": [
        "max = np.max(raw_x)\n",
        "min = np.min(raw_x)\n",
        "print(min, max)"
      ],
      "metadata": {
        "colab": {
          "base_uri": "https://localhost:8080/"
        },
        "id": "Yb7uzqDONoSF",
        "outputId": "5cde5c86-1574-4ab7-ecde-6d83ab9d8ef3"
      },
      "execution_count": 17,
      "outputs": [
        {
          "output_type": "stream",
          "name": "stdout",
          "text": [
            "-1.001734972000122 1.0208665132522583\n"
          ]
        }
      ]
    },
    {
      "cell_type": "code",
      "source": [
        "# raw_x = (raw_x - min) / (max - min)"
      ],
      "metadata": {
        "id": "xjE3MuKwNcGt"
      },
      "execution_count": 18,
      "outputs": []
    },
    {
      "cell_type": "markdown",
      "source": [
        "# 2차원으로 reshape"
      ],
      "metadata": {
        "id": "T-iyrW8_N869"
      }
    },
    {
      "cell_type": "code",
      "source": [
        "print(raw_x.shape)\n",
        "raw_x = raw_x.reshape((len(raw_x),-1,1))\n",
        "print(raw_x.shape)"
      ],
      "metadata": {
        "id": "EXF8sZPYN_RL",
        "colab": {
          "base_uri": "https://localhost:8080/"
        },
        "outputId": "1b13726d-dd83-4ae6-fe26-7a8432d4b604"
      },
      "execution_count": 19,
      "outputs": [
        {
          "output_type": "stream",
          "name": "stdout",
          "text": [
            "(1215, 22050)\n",
            "(1215, 22050, 1)\n"
          ]
        }
      ]
    },
    {
      "cell_type": "markdown",
      "source": [
        "# 데이터 분리"
      ],
      "metadata": {
        "id": "EjXer_ucN67c"
      }
    },
    {
      "cell_type": "code",
      "source": [
        "from sklearn.model_selection import train_test_split\n",
        "\n",
        "train_x, test_x, train_y, test_y = train_test_split(raw_x, raw_y, test_size=0.2, shuffle=True)"
      ],
      "metadata": {
        "id": "Z54gJGmi-1Ig"
      },
      "execution_count": 20,
      "outputs": []
    },
    {
      "cell_type": "code",
      "source": [
        "print(len(train_y))\n",
        "print(train_y[len(train_y)-1])\n",
        "IPython.display.Audio(train_x[len(train_y)-1].squeeze(), rate=SAMPLING_RATE)"
      ],
      "metadata": {
        "colab": {
          "base_uri": "https://localhost:8080/",
          "height": 111
        },
        "outputId": "19b2809f-dcfc-4b7f-8de4-2402535b011b",
        "id": "ar3Q1ezWinMR"
      },
      "execution_count": 21,
      "outputs": [
        {
          "output_type": "stream",
          "name": "stdout",
          "text": [
            "972\n",
            "2\n"
          ]
        },
        {
          "output_type": "execute_result",
          "data": {
            "text/plain": [
              "<IPython.lib.display.Audio object>"
            ],
            "text/html": [
              "\n",
              "                <audio  controls=\"controls\" >\n",
              "                    <source src=\"data:audio/wav;base64,UklGRmisAABXQVZFZm10IBAAAAABAAEAIlYAAESsAAACABAAZGF0YUSsAACO/30AHf8Q/jb/VACV/6L+FQCO/73/Zv+H/7wADgHyAbABeQE7/wkAPQGC/0n/ef75/1AALQCLAJL/0v8b/yX/EQE9ALn+A//7/nsAyv/N/m7/Rf5q/m//E//A/o7+hf1f/2oAZgFTASX///+PAOEAMwCa/57+Cf6d/Tb+bv7Y/oEBRgCa/4j/BQDqAMn/h/9nASYCMwLcAlUDKQRkAjYCrQLTAYQBRAHSAucCKgAVABgBuQBIADP/Tf+QAG4Agf/2/+//agASAFYAhgBZ/qH+WP++/zz/zf7V/hX/eP8LADQA0v7L/of/OQB//1//Df+9/tn/qP4X/0X/4v7J/lL+1P97/vv9P/+s/xz/Nv9EAHf/Uv/W/nz/PQBkAJMBwAF6AcMADwFbATIAcwDuAN0BNgH/ADoCEAGYAPb/qgDgANAAWACO/y0BiQAvAGQAjv/l/wv/Af/9/h/+SP+9/vH+wf7X/pH/fv6p/zUADADB/57/nAAEAPH/+wAkAL//vP9J/93/e//q/3oA7gDAATkB0AGSAb8BdQBk/R0AdgGWADsCFgF8AI4A9wF7Anr/bf8//0kANwGt/2P+5P0r/q/+GP8r/hT95fxA/nj/XwFh/3T/DAK5/4oA8/9bAOIALQBrAmECmQJCAnYBtgC4AFQAcgCNAVIAbgCn/1//1v/d/i0AvgA2AVQBLwBjAxYCdf98ALf/UAEzAWwB4QE0AfoA6ABMAbYA/QBQAO7/mACcAer/Yf6z/hf+Z/9G/5n+T/9e/yj/K//j/ib/J/9T/rv93v2//8QAlP8AACsAEf9W/1T/df/N/kb/x/+g/18AgQBoAFwAMQCzAA4BgAAoAekA7gBvALP/OgF2AV4AvP9YAIEBmP8S/5cAKgARAJ4ACgFXAAYADv+v/3oAs/9NAPP/SP/e/rX/DQBl/vj+Q/9u/1IAf/4v/j7+m/6LAOD/jP9nAEAAXwE0ANv+s//g/yQBIQCh/7P/Ef9+/5//1f9N/yH/K/5k/9L/2P4mAPf/+f/z/rH/kADh/zoBGgAkAK8BoAA2Ae8BjQCv/yYAQgCaAIkBTgEfAZgA1QFeAcD/Rf/d/V/+2/6L/1X/Tf8A/23/7AAJALj/Av+s/zMAwP43/jX/kf+r/rb/WADZ/37/owDIAHQAiQAzAFkB2QDl/33/x/+s/2cA0f+S/6f/o/8YAYb/kP9j/4AA5ADFAAUBFADYANAAfAE8Ad8AtAD2AFkAhv9FAPn/pP/G/wj/8v8FAaj+Gv8i/oD9ef/d/kH/h/3z/ZT+M/9r/x3+mv+c/Y3/0v5Y/dcATABjAYYABf9t/17/ewCCAHT/k/8IAND/qf5w/5YAqv9D/7b+nv+j/2r/Bf8F/4v/XP/MAP4AQQA4/2L/hP/n/9H/dgCXAe0AFQJIAZMAHAHIASkCOQBl/6cAMAFkAG8ATv+3/tr/Uf+q/4n/bv4//8z+V/8h/87+1wBfAOX/CQBWAGQADwAg/zb/RQDtAIsBQwCeAAsBGwGKAZn/u/9EAGYA+QASAOH++/23/3f/tv5e/jn+UQAaAL4ABwFYAOcAtgDZ/3//MwBXADr/h/9XAA8AFwAB/xH+xv82AeQAAgESAVQBAAKnAU8CbgHX/+wAeAB+AQ4BLABfASsBoAJIAWUAWQFuAnkCxQDeANIAAgIZAtoAYQADAS8BXgBcADgA6f/s//X/d/8fAJL/Bf+V/ur9K//L/r39Zv1P/f/9Sv5I/jP+R/69/kn+4v1+/oL/of8u/2z/kf9c/1//2v6H/9b/Cv86/3n/FgBNAAoAp//w/5D/af8C/wf/5/+v/3//a/8gAAcAuAAVAUcA5wCuAWMByACIAH8ARAE3AYEBCgG1AHgCUQJRAuUBDQEDAVYAwAAnAeMAeACXAHcA+P8xAPIAWgIUASMAVwFLAUYCHgH//0kAV//e/zb/JP/o/l3/NgH/AE8AMv++/2v/r////9P/vgBLAJwAxQA/AZ4AZADz/7z/eAAkAOEAu/8YANgA7QCgAZQAe/9H/zEA6P/3/y//6f8WABf+NAA5AYAAB/8f/uL+BwB3AHYAMQLmACcAbQFFASMBZf6M/dr/cf9h/Zv8Ev4n/5X+wv1T/pL/x/9kACT/4P7r/vj+NAGH/nD9T//5/3X+hv2W/g//GgBs/3//k/5E/t79zv3l/Qv9/f7L/nr/FQCb/9v/IP6N/s7+yf6c/xX/Hf6Z/Zv9SP3J/4/+0/5Y/0P9ywBjALUASQGM/xH/Uv9iAMIAkgB8/9//rwB1AVoBxQFjAkYBJgMUDYwZ0h5XHggerBt7ElMExPpp++78Z/w+/P/72QCjA+f9nftx+wL9CP4H9+P2C/kG+x78nviq+CT1/vO98DrtmOzU6mHtW+1u7RztSO/I8tr0PPZ2+K/9uv8lAVf/K/9yAvcCCwOIAbUClQZTCAMIFwaaBnsH+gUKBgEHIQm4CjEL8AqVC1YMPQqbCKMHVQitBgwFPQYyBRMFqQSVA9gDBAMoAnUCpwFHAqQB6f76/o/8nPwq/ZH7YfuS+Hv6lvwd+/D65/ob/dD8//qm/Az8mPty+5v6pfu4+6X7Vft9/Kb84PpJ+rX6TvwK/cr89/wV/QX+a/+f/uP9X/9FAIoAhwJeAlkD0wUZBVkFCATcBBMHlgX0BSAGEAYrBacEGAYcBk4HhgfOBxcJ7AjqBxgHLQarA/0CUwKjAZMCNAL//6/+Bf6i/Cb8oft7/Cj7fPpc/FD9cf7s/GT8W/0Y/gn9x/vs+8v7rPtd+xD8qPwt/Xz9jv0r/Ab83Pvv+6n8RP1w/jz+Ov/C/RP+Wv0t/CEBCAiWDAUOEhGiEeMQrg+xDe4M5Qo3COkGGgUdBGgEwv+l//kBewGOApj/aP8Z/8b9Mf1O+pr6GPYf9HP1DfK68ETv9+6m7frqausu7J/t1O497rjvAfIr8670Xvdu/DT9A/2IAMIEyAXqADMA5ASXB3YF+wOwA5MFWAavBRoKNAhBCJsLJgtGCzYJMgldDIoLkgnxCpUJUQpXCkoIzgnJCmgK+gmRChAKLgkDCbIIegdkB1IH7gapBTUE3AMcATgAkv8s/s7+cP2b/Cb+Bvxr+5L8S/u1/NL8fvte+kf7AP0D+237Lvnw9sX4L/gZ+Ab4t/m5+e34lfg49633b/g1+Ur51PpE+x37ufok/MP9wPzq/Rv+5P8aAI39+/wf/Zf+Av4Q/SD8vfpp+0r7oPuF/fP7+vz4/kX9a/+E/tv+5wF7AoQCRQCPAN4Akv8N/4D/oACbAg8D2QOJBXkGLQccBvQI6Qr+CqcKCwqNC7YJbwjzCMsJhgnWB/IHEQcAB6kGMgWxBAYEhwPfAp4DygKVAQMC3wO7BWoFswXMBkYGzAXKBXsEVgUqBKsDTAPiAiAE1QCd/tX9jv1N/g7/HwAUAO79H/4E/qv6Zfr4+ob5xPlB+9r6yvp7+ef54/hi9of3fvZm9V/0BPYT9730IfUc9x74RfaT9b/1ZPVt9Vj10/Q89Kz1SveT9wv2d/e6+C/40/kC+Vb6gfuU+2z8KvtX/er9v/1A/xwAWQFiAWkC5QISA24D7gToB1YKLQ2xDaQM8gzaCjoIcgb5AvwBdQPDBAsEEALGAlADqgEvA/IESATOA2sEXQQiASABTQGF//L/KwHSAN//iADBAOz/7//VAUcDRAPaAhIGGgfTBtIIHgiyCJcJzApxCm4JLQv9CV4IEgptCWEIIAeWBrwITAYRBUIF0wT4BFkDEgM2Ai4AfP1I/Kv7yfm3+L73jPWF8iTwnu9E7hrsI+xP6lPoW+Va49fjs+Ej4fzgdd963h/esN4f3nneouBo4eTjIeac55Dp9uvN7zzx2/Ne9+X45vrL/a8ACQSGBjEJPQ3fDsAPeBGuFKQWgBjkG5YdaSG2JVgmZic9KLop1yuAK7wrnCllKXgoaCVKJfEjPCGvHTod/hzVGpMYABWbFBAVfhAQDtMMEAuRCl0IpwaVA34Bmv+J/O75vPdK9wf11PM184Dwze5O7RPtF+ug6Wvqb+gz6KrlfeI/4nXgeeAy32Pc2toN25TcR9tS2QHZHNpc27TZh9hv2qjcdtwq3L/bPtvv3BHeKd8m32rhdOVo5mLpBe297y/0bfn3/bACzQcdDHgRchSCF0MdViDPIzEn3SkOLNUuYDHJMWw0BDXWNuk3iTYCNwg22TY4NuI0uTMaMgUvNiuCJ0cirx+AG2gWFBF8DQoKcgS6/3P6bvhu9BHw8+y+6d/pwuhS6Fnnp+ht6i7q3eyc7DntoO83743vUe+T7nnwUvOv83f2hPrA+nL8Vv4TAJ8A3QHVA5UD/QR6BIcDkALXAbQAk/6q/Xb8J/sO+Mz1I/UT8wfvMOx56WvkkOBQ3n7ZmdTx0WbPl8w9ybLHi8VlxAjF2MW4xsXIgcyp0AzVeteu3V/jduhx70HzXfq/APQFWwvsD98WbhvZHnIiMyY9KyUvfzIMNXA3ITrlOxZA10J2RMtEhES0RQVFnENoP888ODk/NesyZy1tJ0sh/hohFmcQZgocBpoDhwCb+gP3APTp8s/xYvGM8LfuKfB+8C/y2/Au8cLyXvI889LxBfNy9Qf2XviG+V/6ZfzO/LT9Pv5z/44AfgC1AUIDzAIBBI8FHQUIBK4DLgM0/379J/yQ+ff1tfE579Xr/uaH5NLhON2m29/Y8NXh0qPOxcxHytfHfsbXwxPCmb8wvLO9177qv1HDScUjylfOMNMp2dHdleYX7d/zy/tRAzkKZg8BFjsbeCD1JPkqWC7cMro3hTreP1pCC0X9R11MYU1jTzRQ6VAJVddT11SqUoRQ2E6rSjNGcT5mOO8xQitLJNkcAhZcDoEGZ/+/+BT0F/BL7Mzp4uZZ5SbkX+MV5C3lpuRj5mjnb+j16sXqD+0d7svuGfCy8KPxJPNI9Yr2pPcd+QL71vwWAA0CMAPsBAEHPgnnCPwH2QdlCEcIjwY/BG8B6P1R+cH0cfEc7XLoKePM3Z/bXdmL1d3RUc6uypnKqMZBwnPCqr4Pu7y3TLbytga2P7f1uUe7o749wjrH2c4m1j3d4uJ86Y/xOvt0AjUJahHnGGsh+ij3LkozrDnwP1lGPkxWT0JTEVa7WQBd0V7iX05iHmUAZnVk6GBaX45cGVqAU3JKaEVRPvU3tS+iJEMdkRW+DSMHFP3z9qnyjusz5tbgZ9+M3cbaGNlX13LY99iM2cjZw9pB22/cNN553/7g0eAB5HLkFOV65/zpsOwB7gTx+fK19Qn4C/xBAxIItgIqBloF4AI0CdYAtQVhAtL5Cftj9JXyBO4r6Ivjw97O2+PZz9XG0S7L08j8xnjAq8CHu4q47LaFtPS2FrefuHC7CsCpxDDJUc/s1sLeDOV07an4JAEbCDwQRRntID4nQy+9NPk6TEKcSIlNS1E9ViJbRF+xYV5k6WTFZ+NpYGeMZsBj52BXXmVYH1BqSWdD8TokMXgocx89FpkMxAEs+z7zxuuf5hfgbdx110XVatV50WfRg9TV1FnRo9VN2CrXD93s2/fdzOF85EHpM+sb7xjy4vT/99D5Tv0k/1X/YgLDBGQHFQZvBp0I5wdOCHQGoAefBZEBz/9l/Hz5XfP+7UTqZ+UQ4ATaidQ5zx/LL8cGw7C+9rhJtZmxGa0Dq5CpcqrTqm+p5KwjszK2kbo/wKfGgtIB3IDjiezG9kICtw2xFvcfJytKMJc3e0CeSJxPdFS7WV9dYWNBZ/pqZm3Hbg9xfnJZdIB0q3HHbYprL2a7Ym5clFMKTRBDwzh1MBYn2RvCEt4IbAG0+Jnwz+nh4a/d0NeJ1NPRv812yhfL0MxhzCjMz8y+zxjQH9ES027Wkdnc2pHdfuHK4+Hmcuvm7cHxWPTV98P5tvw6ASQCkwOPBb8HWQm4CnsJxAg7Ca8HAgWMAx0Bwf21+Tjzcu2k5wXlw96b11fSCMzLyBnEHsF2vWu5WLUxsjixqa/2r1yxjbMttjq6Q72iw3/LFNFf2Jjg9em186j73QK0DPIVoB4IKakxUjjpQP5Hck9nVt1c3GKcZV9rBm/Wc3p3BnnVeCp42HqxeQB2xW2zaBhje1zbVD1L3UJaN7Mu+CNvGtsQpwY0/o319e2j59Hgrtl11lvSQs9yzI3LoMhgxgnIu8eRydrJZMr7yujLKM4V0IbT/NZ72b/crOGR5NnndOu/7hbzOvZz+Nv58fr8+5v8Tv1V/uz9Hv4f/ED6Jfud+Hr2UfQB8Fvsv+hA5e3ggdsV2A/T6c4Ny2jGSMQiwfO+QLuet4a2wrdTuRe6lryIv4rDYcqW0obZauG16pP0hvxBBpARihq0IbUoDDEdOetAcEX2SfdOZVXnWbhc+V6KYUFnhGkPbcZvO3GnbulsTG9/bddoIWHKWZFSM0tdQuo4+C0yI2YXegtjAnv4w/Dt6PziOt0G2HbUcdGO0UXR7c9/z6bQPtIR0zfUWNZR1b/X39mO2srdt91y4f3k6+ab6RTrRe277znydvTb9bH4tfoo+Qf7wfxw/e39ePxG+kH3vfaq9OnwIuyT59LkguHY3QfbcNc80rfO3so6yOfCJb9jvP+3crdhsyGx/bFQs4a0kbUrueW9KsN2yK7OvdXk3ZrnPvEX+zcFJg3PFc8feCi5MSs6+z82RnRLHVPMWblcAmKrZRtpCm2fcNBya3OCc0VzdHOucItuQ2t7ZKlff1lnUkdKLEBEN7EupyaPHIgQFAYJ/tP20PAJ7L3l+t+G227aP9oh1z7VZ9TD1FLUl9MH1LfUKNZM1wXZmtl32TvbX9393gbgheBw44vkuORT5RLn4Okf6a/qdOy07MDsLe2l7b3sZ+xN61/qHOoI6B7ltuNV4QffLttd1+/UX9CCzfDJW8fRw47ATb+SvPq7K7rYuTy8lr+3wRzFy8hvztnWP95t6N7uEffg/3YGBhC3F7cccSMQKzYxpTcZPRRCXEfCSxxPz1PWV/Jbll7jYi9ngmhGbMNrHWy5a6FoS2beYcpd11dtUDVJaEKEOGMvLyj5HxwYbg9RCCwBTftj9Y/wfe0W6kvnXuWy5X7l0uTg4ynkvuSL5oPmQOWl5V/k8uTW5RXmneTX41nkYuSP4tThWeFO4N/hWODb397fl+Fs4f7fKuEg4bjhqN+03S/cats93GHZldUv1XXTtdKm0JbMkMt4yXPIbsY1xBLBxLwNvL66r7iqt9a3lrq8vba/g8U0zSbTGNf/3THpXPND/AsEbAwQFe8eCCYlLZozRzlcQPxEQUoiTnxSylYkW4JfmmI1ZXtpF2y5bnZx63Ejcj1uUWwMaW9nnWIMWnBStkkdQ6Y4Ey8KJBQbXBIzCQIC0/n580ftUOnf5ffjbeNK4/3ij+Kq5GjmIOf05trpE+pW6W3paudq5zrn4+Ri43zjduE74Grgu9+o3xzileAy3/TfVeD84WzhyOHx3ojfReHZ4Jfg9NwL2ybZIdhl1TXTjs9OywrK6cbHxVfDwsDbvi+9ILwRvDC8nrvduhC8H8EgxNbItM3W07TaguLk6jfzf/2HBTEOdBXtHb0koynPL740EDmgPYFBCUYYSjBMu09OUTRVl1dfWQFd/V36XwxhoWEfYG5dK1sLWIdSS05ySE5AfDp4MT8qUyN0G0MSEwnIAtD9L/u+9onyv+6R7Zrtg+xr6x3tLu2+7JrugO8K8dfuqfK88qzxD/PE7pfvTu0w6x/sfem358/lOOOJ43nhVuDG3wPemd4t3THbAdpC2pLZ5tjk1u3UsNTg0tPRgM/+zaPMhMqpxyvEHsT8wpTBcb+LvGm8n7wlu8O40rkSusq9y8OWxrzJOs1D1PPcH+cp7iX27/+GBw0P7BcIIH4jJissL4QznjpwPitCm0PCSKVM4FD1VElVTVlsXV9fkGF5Y9xk8mUdZORh5l/FXnpd4lfJUgJMKkY8QJI3WDAsKeoiqRrqEQ4LPQXm/4b8uviE9KnygvBO8WfxbvDa8Y/zm/RI86Dz2fNO8orzhvLS7sPtEOzD6Q3o7ObX5bzhVeB63tzc0dza2kXa5tnB2cLWCtUh1dDUQ9Oj0C7O3Mv3y8fJH8jxxvLEPsNRwj3BF78+vpa8c7zPup+55bnauPK5abuIvb3AbcT0yVDPjdTR3F/jBuxK9Ab7kgRuCjcS6RnpHQMjOyg3LHgyZDivPTZDOkcQTUhRnlWTWM1b7GAhY61lg2jfajlrGGwca4VoSWfAYidfIForVGtN3Ud3QXs34jGsKnchaBrZFA0OGwhFBPQAQP1v/Mr7VPgV+Lv2o/hs+WX22fa29eP0pvRd8rbuLey46qnnNOMB4Njdf9nJ10/Wn9Sf017QBNAZ0P3QudKI0FzQINEO0HHQj9BN0JnOc8z6ycrJ08oayIvFBcOHwd6/eL78vjy+FbxmuQe56rgYuGu3u7c3uu29DsDcwmbHW8sM0SHWGd7r5L/qQfOD+Nb+BQbaC2UQ+BW0G7cgXyf9LCoybThOQEhG2Uz7U35Y81y/YNJlVWm8bCZxyHIschVxjG81bmtsvmgsZFJdeVibUZxI4kHNOUcxuimvIt8b1BQqDs4IrwOr//r8uPuK+Ov2KvWi9D33KvfW9ebyI/JK8Tjwv+3d6vnnK+X+4qbe4dxy2ubXVNZY1dvV6dRd07DS09Jp00LUONSv03HTxNLD0jnS/dBa0CrOh81wy97GLsWAwUO/CL27ub+5ebjttd+yoLEQsDSwL7Las2W3QLoRvofB78YOzkHUjdyA43Lp8vDp96P+LASQCTUP1BPcGAsdhyJRKgkxiTaEPLZDqkqsTmlU0Vr3YHNnsmmWbK9tyXAAc99w5W8tbXZqlWb2YrZc3FZAUvpLukMJOmU0CC72JggfrBiKFZQRFwytBxMEcwGQAFH9e/us+fv37/cj9pryOPCw7qXrJuiU5L/id9912+fYbNcE1vbSMdIq0SnRQNFW0b/SY9Jk0jfUQ9bw1BfVqtXx1enUstRX02XRXtRb00zSENLO0SHQr83GzA7MectmydbH4sVBxL/A7b/AwMK/c8KBxGnHNcrJymXQzNaR24/gueXg67HuOvJs91b9GAN4BlQM3xHqF7se0SSkLIUyWzndQUlISk6EU1Vaa2FIZ2prFW44csJ0C3Xtc+l03HOLbuVqV2aHYaFbclMsTJxGXkBCOaIyHiw8J3giFh1DF78RhQ5LDIMHKQOX/z38p/rf9zL1xPAA7VTqGefq4/Lg9t0n2/bZ2dbV0yTRqdCr0FPO+84Y0GrPRc+9z9HQfNIm0gvS1dIw01XUY9Ts06HTvdPH0yvTh9Dwzf3ODs/iyzPJ0cgWyLvFfsNrv6K8Lr4dvyu/Wr8WwEjCKMYGx5fI2c4d1QjaHtza3sTin+cR7OzvnPTM+FL8nAD7BjwNVhOhG0gkwCq3Mdc4M0BMR0ZPfVfOXP5gOWU+aRxrU22ib+Fw4W9ebaVqLmWtYZFeeVljVWJRh0zQRntCkD0POUY1yDAULsIqziV6IFgdiRqWFwETGQ/RC78GOgMr/hP6ZPVt8Czrt+UT4vbdWdl81Q7TiM+QzbvLxckLy/zKv8mVyZXJLMtOy9jK08nHySnLkMoVy4/KsMr4yYnJvMnQx6THpsc+x9HFRsYqxmLF7MNgwfe/0rxwvSa9jL39voW/gcLsw8TGv8jkzYvRvNSr2v3bEd2u3gPiteJ15PXnwOru8Kv1Y/lTAOkH5BCeGm8hOCreMco6wEVsTJ1SUlnhX/Bj6GeaawJvQnR2dVJ1U3TJcu1w9W4dbs5qFmgsY4ld01joVPhR9EycSY5HhkNIPzc72zRiMQou6yl/JK4dSBgDE5MP2whBArn72vWS8MXpkOOc3r7aedUt0HTJOcbHwxzBK7+XvPi7DLp9uqK4x7blt7S3i7cNthS2mbbAt4S4rLnQuoK72ruxukm7R7ucu9K6P7mfuMi3n7f9ts62/Lhcuue6hL7tv9fCpcf8yLbM+dCO1HDWRdgM2wncYd8I5Hro8Oq567rwmfgx/4UEwQvXFb0d2yQrLTA2vD+lR8pOBVTeWXJgSmVQatRtOHATdH12BHcjeH15LHtjevx1GHIJcBJv/mySaLRlVWNoX6xYYlN+UU9P9EvbRvNAhjqSNdkucCi8Io4czxTGC9MDrvzT9oHvWen743veTtdw0fLMScjpxSTCyr5PvHi4m7V3tcS1QbPysB6y67EVsY+wkLBUsvKxpbHJsqSx9bBrsVWxhbMgszaySLLRsbmz27KAs7S0QLQhtvu2sLgFui28Ur9/wb7Et8a1ya3Nn9FU1V7XO9oI3hjiyuSJ52rs5fCq9UH7OQF+CHkRihnhIO4pZTH2N59AP0izTopVPVvRYEFlLWlBbbtu0HFadOl0u3dSeGN4cHaRcs5w9m69bdBqNWeDZPFgQ10CWWpUzFFaTwlLzkXpQCg8ZTeiMdws2CTkHAQZFw/QCAQEo/oo80HsK+ZS4PXa99S7z+PMOsgcxPrAu71pvKC7RboJtwG3ubbGteC0iLNmtHazr7QGs8qwprFgsZ+yPbJHsTyx9rBisIqxm7KJsVqymLN+s0ezVrQVtRi2uriMu1i/lMC8wR7FLsdGy83Nus/p0xzYs9u83J3f9OFJ5arrXvD69Yz7ggKaCQ4RCBoNImUrjjPaOhNCPEpEURtXOFw5YcZnS2uSbZBu0XDwc8N1fnUuc/Bz/3S9c7hvfGofafFnJ2RrYDNcF1oiWHNTTU4iSiVG0UGHPVM5fDUDMKEpESP2Gj8UnQ+QCFYAlfm78xTuueiX4kXdQNkp1SvR+Mwcy2rJz8aCxAjDX8KDwRrBKr/EvHe7sbpru/i5bbhRuPq3wLc9tiO10rPus52017P1sxu0y7QctVizg7UouK63xrcvuJu6Ir1hvQ2+g8F0xvjHjsjdyyHO0dOv1pbZZt804A7jNOdf7GbwSvTO+ev/1gZaDQ8UNRtXIqMpVzGsNxs/EUU4SxFRjVULWrFdVmKwZWto2GnoarZs620PbhltP2xHawxpqmbsY4Bh0l8iXT9aI1USUdtPhUvqRiRDdD4nO302UTH1K9Umuh9ZF5YROwvtBFb+9PeD8aDrg+WC35rb9NeP1PXPq8z/yvrHIcarxKjDecEev3a/lr9zv8G8f7uEu+q6Zrs7u3u6R7mRuT+4crcGuO22E7ftttm2HLeutsW3zLh9uiK7CLrDuji8fr7GwIbC3cS7xwjKDc2ezqrRl9bB2c/eDuHQ4nbkdOft663w2vUK+YQAtgQoCp4R4RedIB4nly7ENOU6rEA1R4xNQ1IDWVtcT17QYTNlFmhBamVr0myabtNtdGyha2FpH2bgYz9hBF+FXcZaG1hZVA1Q70t1ST1GREIgPdE2CjQnMLEqEiROHf4XAxHHCZ4E3/0Z98zw4+ld5SHhmdwU2OjSYc+8zLDIvca/w03BrcB7vSG7FbrQuG+4T7iVt462V7VXtLazCbNmsjmzRLPssnqyXLLDs9S0nLREtj+4sre/ud+5D7ptvES8zru2vIS/TMPYxnHJ6st/zvPRqtS21znaxN4X5LPk8OVU6h7vifEH9Sz5xv9CBnIL4hFxGfgihCnpL8c18zqrQvVJxk4/VNhYC10XYkFk62c+a3lsIG+Ob5twlXGLcGdxd29EbNVoHGXeYddfO129WAZWoFERTuZKrkbeQeQ8/jdHMhEuZihbIiwbsRMiDQAGQ/9M+KfyTexH547hXtuA133TjNCWzZbLAckKxhbE58HSwAvAfL6bvbW7broHusC4E7nzuCW4trfcthK2KrYAtz63QrbUtuW2GbfOt/a3lbkAu6m8+byGvKS9oL/qv2jBUsOpxRzK5Mx6zk7QB9RD143ZYdsQ3nvhnuXE6IDqKe6T8Sf28fll/qYDOgmoEcUXDx2tJL8taTRfOOc9LUXAS+xRK1YZWbldf2EYZY1mnWcpavZqLGsAa11p42hkaMlmSGTSX2FealyQWkRYt1J8UMlMjEjlRW5BFD7xOFIzSi4+KZgk6RxeFe4OhwgCAjD7uPRk7svoY+Pz3tLZBNUE05zPvMslyd3G6cOPwWnAIL6ivW+9F7s2u526c7ltuWW4nLkButm6A7uKuCO4NbmguQi6dLmJubq607oFu4W6ibxbvhW/PL34vFe/0b/4wSnDMsa3yUXNds4p0AnU+9av3E3exd/K4pHkeOc26w7vBPL99d/5kv+1BfoLRRPUGT4gDidgLkE1ETshQl1IREt5UTJWmVp6Xq1hTGWyZl1qvmkYa3dsxmruam5pkGeWYzJg7VzIWrpYCVWpUelNbErMRllEjT9GPNk3TzIiL8IoFySjHpoZCBMaCzQFtf5t+ZnxjOuG5xLjW90N2KLVw9FDzi7M1coQyB/G6MMuwsXCgsDCv5u/770bvum9mrx7vOu7fruvu/S6ubrWuui6jroMuxm867xmvHe9Pb8Ovum9lr6nv7+/GMFdwlfD+MWxyGPLKs7L0WjUcNZd2NHbWd5g4rjlxOd46vnqZ+3P797zFPrO/qYDyAk7D+8VVh3LI5gs3DOXOYU/lkS1SpNQ4FTlWLFdiGHtYpZk22kGa8VqGGw4aldqoGldaM9k3WCiXXhZtlf2U1dRGE8zS85HuUTGQCo99zfgMlMzWi3mJhYjWRv4FTgQrAnVAmP8M/fy8f7ssOi841bfxdva1ufTN9LTz1/O+MuVyQnIBccFxhTFkcOIwpXCrMGrwem/DcD9v2K9AL1svXe9p7zau6W647nZuJK557muujG7IbpAvL27hbutvBW9Xb7UvpK/n8JQxfXHJcuqzFfRF9Qk15LbXN564gPjW+Vh6lPsd+7/8ZD2tv0xAt0GZA55FawdAyXHKn4wUDi/P/hEJ0lGT9pUw1k/XtRfpGJzZtlpRWuVa4ZsYG2Pa7Jqo2idZflj01+OXd1aZFh5VbZSuE/FTKhKTUbUQqQ9ujnENZQwXynuIRAeaRcmD50HSgHk+yX2Pe4W6JPjNt7f2u7VYtHFzizNNsyryaHHesVsxOHDw8Gjv4G+Sr8Av7C8sboruz285rthujW5trlkuc633LbNt4m4+ri+uJi4wLnCulS7G7vxuk671LyCvhm/sb96w8LHhsk/yurLDtB50o/UOte52c3dUOCY4V3kUOiN7JrwKfUI+yIBxgdvDxsVtRuUI0Aq3TG6Nz89gkOiSS9P6lQ+Wg1ezGHEY+Nl22jBan1rkmvTaj5rtmqaZyllHmJ7X/JekVu4VqhSe1CdT4hLZkdDQ58/QzvUNhMy+SwxKKkipx1rFqcPLgofBLT8nfdR8qXr5ObV4TXdCdk81ojTI9DbzN7KUcogyo3H+sQrxNTCEcLAv5C9Lr2rvce8cbpPuY25Ublcubu5ubkMupm6rruFu3W8SLwXvJK8p7ykvVq+jr/CwIvBocFyw3zHH8vgzIvOlc/K0tHVbNgI3CHeeOFg4+zj8OU36Znsz/Dj8/L3PP24AgIJwxDIF7YdeyZWLQozojglP6RFP0rFTixTzleJW85dKmD9YtJlMmc3ZzZnoWfIZoxkKWQDYABc9FrbV0dU4FHSTwhM3UrxRtFBmT/BOq82EzLSLXApxiIjHicYTRF/C2YELP/0+G/yeu/46R7kR+Ct2+jZLtc902fQ182YzNXKNsnXyAjJ6MZTxlPFrsMuw4TBTcI8wurAHcDnwNvBqcAZv0fA/8FYwV/BcsI2xPfD9MMVxIvDGsQoxLXE5MQLxaPFKcdkyejMu84z0CzTLNTH1pbZ8dtO3Y3eV+G947Pmoefj6ajuWfPE9+n7PgKECcIPqxSyGn8h5yhUL0s0GToqQGlFmUmpToFSx1XOWWVcXl90Yj9jL2Q8ZBpjImMKYjVhSF8sXCRa01alVXtTI1B/TvlKLUh5RBVANDyCNxAyRy1MKb8jUR4gF0AQ6AoKBJb9WfdA8o/tvejX47jeLttp13DU7dLMzxfOf8x0yprK88ftxtfG5MUCxUrC1sEBwp7BKsCYv/LAaMEmwSnBcsBkwP/BZsOXw9fCJcM8xRDGTMa/xXvEe8bVxI/E/MX8xlbJ+cqRzazOxdIe1D/WhNhA2jDeJeAE5Bbk8uWu56Dq4u9V8Wv26Pot/+wEhAq8EQYZWx/EJL8qdjFmOAw/7EPCSO1Nc1LSVita3l5TYs9kQWcjZ59ovWjTZ0RoAmajYx5hfF2kWkNXulR1UydQ30vqR6REf0KwP8Y7vTWIMBcsQiUHILsaXBTGD6EIvgA7+0X1Wu/u6aDkDuCt21/XE9Q20avO68sLyZ3H9MV4w7zC3MEFwTHBd7/Lvuy/XMDAv8S+D79ev7LAesBBv4G/7L8XwR7BQcE4wt3DZsP2whPEO8SuxHjEsMThwxXEOMW1xQrJucumzf/PU9Iz1LHV4Njk3Nvfh+GN5GTmi+co6ZfsJPFt80P3+/tSARUINg12EuQa5CF2J3wtgDQGPLtB/UYrSxhQEFZ1WkxdGmC+Y/tm2GeraOdpUWkWad5mOGVHY5BgS17MWUNWX1I1UY9NKErORu5AAT7oOG01xzDWKqElPCBGGsMTbg1UBwgCifvd9Nruq+l/5HDffduQ15nTINEDzW/L6crlySfJIMbpxsjET8O2xNLDhsPUw0jEU8KWwy/DJ8O4w8XB98M5w8zDtMQpxeLGtsUUx4DHusZQyAnHMcadxybGysV1xezFrMhWynrMvM4g0mnVrtYb2Grb3N7s4anjK+VS6APpJOuC7BTuWvRO95P7uv9XBZsN9hFpGMUekyXILP0xjTfjPTZE+0j8S19QZFXjVw9b3F0vYEBjzGQBZHxjSGLMYWJiwF+AXeFaalj1VZxSrE/USkJIWEUoQBQ9fTrWNjszzS4UKCkjUx+DGVgTMQ1mBjoAq/rT83/tjui0423gbNuW1aLT3NA7zinMFsrMyQLIs8WZxTrGs8ZfxrbEmMSexBDFzcVPxEjExsTNxPDEocOdxN7EHMRQxbTEoMUZxtrFZcbBxXDFZ8Zox+7F08UhxtbGM8iJyBXLHs4Q0FTSB9Vn16vZfN2t4D7i2uRG54zpRusN77Dy6fQ3+gn+CAS7Cq4OlxdLHggjqyrkL+k2cD33QrlJq02BUhhXcVrpXuxgqmNIZsZneWmfZztnfWd3Zv5k92EmXlVb/lkGVxJTWk/CTR1LOEcUQws+wzv3OBk08i34KIYkjB7fGBMRMgt2Bfj9hPd08OTrGuaC4brd69hR1pTSPNDCzcbKm8mfyPHGeMWvw73CNcK9wezAN7/Tv8C/CsB+vqu+38DOwBbCMcHhwQXDTcMdxXzEg8XTx3PHQ8hLyPPHKsl2yRTJWck1yizLes2UzgbSoNTH1efYttmS3EzeB+EQ5FvlOek+68fszO3j8LjzIva3+/3/1QRgCZoPZhbnG+UiZSjZLgc1yDoNQdhFX0tNUItUcFcPWb1bxF9SYqhjY2QdY7hjD2SXYgxgwF7BXCJY21VFU5tPrkzESphGMUI5P3I7RTcoMrsuzSmtI40e3xguExsMiwalATf7IvWe77vqhuXr4BDdttjH1NnSUtCJzWDLu8qdyobIqMdRxlTGWcbixcDEIcIew7rDTMPswhbCOMPFxMTEPcQrxGXFWsY2xrfFs8Vfxt/GxMY2xanECcQgxJzDpcMlxGHEtcdeyRjLNMzazr3Rf9OY1ZnXzdsJ373gyOHi45vmNOoo7Gvv+/Ik+Kv95wDrBzwNBBOdGkMgNiYiLrgzMzt1QEJFiU37T3dU7VevW4JfcmAtYyZlJ2a+ZS9mgWWVZKVhul+eXUtaUVjuU69SqU43SW5CVUT7RPs7EDoKMict/CiAIQ8dcRZnEmgNCAV3/v/3J/Fh7YPn2+Gx3Wrakta80kzP/8wrzN3JackvyIbHmcZgxpjGcMaSxlbGHcZJxhfIgsezxwrJkcseyjzM/M0Ny5nPZM7PzgvQz81V0LrPEs9Lzv7LK82EzLHLZcuRyjjMBcx5zIPOOtMt1pLVa9br18XaWd2S36Xh4eON5X/nxuk57E3vd/Fk9QH6z/5YBPIIMw8tFZMbbyJJKJUugDRFO+5A70QmSfxN8lDeVJNY+1liXaFeJF5TX65ggl8gX3NdhVpHWQNWq1MVUABNt0poRzVEFEH1PQo6bznDNfsvxSuKJUshiRztFkYS/QtaBYr+NPgZ8qfsFulI5KPfS9v+1zDW6tKZ0EfOEs3ozJvKTMm+yRrKkcnmyN7IY8jGx5zHasf7x2rIfsgLykPK48kQzMfLWMtmzMzLNMxLzI/MNcyQyw3MKMx0zHvL88mOye3KZcywzYHP+tH+03vVotcg2VbdQeDF4XPk7OUn6P7pE+xG7lrxjfSb96X8/gAcBmUMKxJhGP4dgiTQKlIxrzhTPshDLkmhTmNShVYrW3VejWBJYfFkr2XyZNlkgWKrYiRgLF2EWtFVD1PhUAZOREl5RbVBtD4nOyk26jPaMCAt4igII6kdGhp/FAsQXgllAgv/RPeZ8ojrI+Xm4/Pebdqz1hHTotQj1M/OGM5xzhnPxM40zgPORM7AzinOWs3oywnORM0/zPHLj8uNzfrM983Gzc/Nqs39zE7OM83gzDDM3cpbyuHHnceKyNLGHMaPxsPH68eEyE3Kbs30zyzRrdSF1c3XN9rf2zDeEN/y4N7iueXS5mnp0uyl7xj1svlg/i8EhQktEcwYLB7SI7Qp/zF3OIw9hUP3R/NMIVIXVq9YD1uLXQVh+GJiYsliLWRmZMhhuF/1XOJZQ1hJVIxRbE6SS3tI6UTUQos9hzrtN8czWi4HKTckbB+WG3UVDg+6B3kDG/3v9TXxi+zN57/hdN3Z2AfXMdWn0v3QLM4FzG3MPMway4rI1MZVyMnHkscMxqXF+caQxWTEs8QdxTPGKcblxSTG78XtxsvFXMS1xKDFFMXiwmbABcDGwbTB8sBRwPbBF8V0xzrJ3crXzUrSQtY/2N7aWt/w4/Hm6Ofs6HTsjO4E8Rn0OfZi+o7/wAVZCFcNTxXWGtMgPSWaKoUxxDiSPttBC0V3SQhPClNBVc9WN1nXXNBdmF2FXlldolwJW3FYZFaNU6tS9U7hSnJHikQgRCM/mjsLOgU4HTZSMrovTytMKP8jzB6OGxQWZhAZCk4EXv4Y+GvyBe6Y6TflsOCS3fDaftjz1rXUXNOI0YjRDdE/z87OiNAoz0rNi807zFfNVc0FzVPMt8sjzXjNkszsy2LMssstzNPLFsmYyNfIIciKxjfFp8S/xI/EG8OIw0bFjMfzyhTNB9Ac1IjWztka3OTfUuJJ40Loaena6n3sZu5u8cjzifad+TD+wwHeBjgLMREbGA8cfyC5Jb0rKDJ0Njo6KT8FQ4BIxEwQTjVQX1M2ViNXQlfbVqNWHVdZVvNTE1H2T3NPQ0wfSSlHBUXQQ9dDfz88PBw9xzgMNtwzXC9ZLwkrRiMTIvEbcRaTEmEKdAaT/6T6FPje8brsEelV5TziWt9w3OXZj9hs1xPV6NMG0gLRZM/1zWHNestuyifJL8jdxp7FrsWcxEfEPcSbwzrDzcCEwEHAz73jve+8OrqduGu3MbdGt+m2ubbOt4O5yryHwiHHg8zX0sDXgt1L4gzmhOkb7A7vcvHS82T1lPiA/G//FAMCBqsJHQ4SExYYFRwoIKUk4SgNLcQwFTT/Nr05iTxzPz5CiESCRnJJZEpPSoFMT06ITutMWEz4SuRJO0hNRa9C0z53O/I30TT2MZAw2i7ZLbUtnyooK80rVSqhKk4n5SVyJ84puydYJbUjvByGGGERSQy9BUz+avrX8tXuRetK5UHhVt+63CDcJNrK1S/VbNQC0wHS0s3JyRjIIMb4whm+iboIuZq38LTasaGvKK40q6OpcKqjqQqp4qfZpcylBKhDqIakbqQ0pw6pH66+smq28btiw9DKy9Ms3gnnWfEn/OcFdg4dFmAdfiPUKAAwFjVmOoo/j0NaSmJNM1IOVhBY4V0GYG9jhGXxZI5nk2YzZnxkHWD3XcRX2FInT6RJwUR8PcM2GzDIKVUkbB1iF+wRWg6OCegFEwVTAggBc//5/Y79AP40/9z+Zv6S/iD+8Pya+0r5eveh9Wzzi/Au7svseepg6PXkyOJW4TjhxOE+4NXf+d5X3/ffF+Eg4lrivONO5aHomOrr687spuwD7t7u7u357PLrAep+54HkY+GG3QDas9VD0UDNlsiWxA7AcLyktzqzHbIXr5CtEK6ssCm1uLeuuz2/wcTcyz3TO9zP4jrrY/Rm/BoDQge+DTsU+xhTHgAksCg7LlM0vDkdQGpEXElTTjdTNFiUW4Fecl5kX59gYWA0X7Bc6VmwV+RUXFCcTO5HPUITPuQ5AzRJMAYsWSYRI6kdSRl1Fi4VoRQQEkwRkxGdEuAScRJEEQMRPBCzDaEKZAaeAwv/qvma8wTuR+nB417eGdrC1/XTBdA9zXXNdcvtx4DH9ccxyZPIIsl6ysHJ0cjdyf7KfMvXy5DLOs09zoDNhMzwyzbLd8pdyfjGOcbwwyLBPr5iu7u5M7aNtAqxMLH+s3y2Yb0NwZ7GzsuJ09fcp+IF7hf5oAMoDRcTphnmH2UnrC9wNIc5oj0JQrFI1EzaUElTjlYyWg9c215mYSpjJGKQYVRhil8ZXuJZUVWnUS9NUUj3Qgs90zbaME8q/yLtG3MXahPvD6AMPwjsBFsD1gEwAJwB/gJ9BNIEvgQTBxwIGQrjCvUJEwpKCGAHbQahA5T/Vvpw9wHy9Oyw6G/jvuB+3DbZpNZ81EHTgtIj0o7Sd9OP1W7Ypdec2QfcH92j3RHbn9ro2tDZLNcV1HDRYM8qy4DGpsK6viO8d7cdsoutvqrYp7yk6aAPn/6gDaJupd+qaLERud7AzMeY0Nbc1+lV9Un+swjoErgb0CPKKvcyeToCQXpHgEzWUSJXaVtlYPNjjmWWaOVpTmv1bDVrwGrvZ7FkUGLGXaBarFWmT01Ks0XwP9Q3TDHaKWMjIR9OGk8V2Q7XCHAF1AKIAWoB2//7/gP/BQEaA8cD6AWQBkAHdgdiBrMGIgYiBA0A1foy9iryCu055kXiPt6i2D/V5NDKzYzNpsw5zQrMqsuMz3rSnNQt1h7Xwdhh22Dd9d0x3mDeSt2C21DZitbL00LQG8xXx2LDNMBKu7K1LLAxrI6nx6H1nnCd9Z9OpBepTa4EtCW9ZMcw013fz+nv8xsBfwzPFrsf9yarL9w0DzsxQ0RJiE74UhtXSVs1XvpgvWJ6ZE9mJWjTZ6tkFmQbYsFfhl2eVxtTYE/fSfREaz2JNiMxfipRJAMd4hdeE/UOxwpuBu4DdwG+/3T+7f0nAEICoQGCAQwDnwXzBnsHwQdmBtIGKgYUBOYBu/0s+ln2dPGr7DnnIeOq37Xa2tYG1BPTOdEL0ObRUdNX1XXWedkn3SPgm+Mr5RDmiuaV58rn5eXw44/gldyt1y3T2s4cyYnEJ76xuHm0oK+wqceid5y+mPiVHZQNl6Kae6BqpqWtJbezwDXMsdjX5bzyBADgCxgXKCHHKe8xPTmLQUtIKU9eVo1bhGBdZaxp8WqrbEpvLG//bhlv92zMarVnsmQAYtZbWFcTUfNK00R0PQA4vS79J6Ih2xnrFEsQWgwdCA8EAgBP/t7+Yf+pAE8BQwNiBVkH0gp8DLQNDQ0qDNoLMgl3B/wEEgBb+6P14O5s6rDkZd5r2WjVHNNf0DPNUMwHzRvNC8/qz8LRk9Xb2XDdQN8j4xHlpuZT5zrmIufY5d7jfeEu3SLa4NX40DjN48dXwpi9Gbhesu2rJKbhoRSeXZu8mX2bi6Bbp1GuyrSOvHfICNVn4THvvvr/B+sUdB/yJ5QweTqHQTNIeU2WU6ZZX10oYQNjT2Y+abJo72c6aJtpXWgUZXdhK1xyWcxXk1ERSqREAD+bOJUxtCg1Ihsc9hPuDMAHeQU0BKQBC/12+v76jfyd/Zb9yP61AUYFKwhdCccKbAwlDFILyAmcCRcItQQyAQ37LPZH8QDsl+bu4MncUdh41cTRn85izs3OtM/PzynRidSm2DXcmd5/4d/khOcl6g/rEeuN6vTpQ+iQ5QPjLN/H20DVB9BBy+DFc8HMuiO2gq8+qZ+jkJ67nLuao5xsoKajZKi4r8G5csUc0fLcaOkH9UUCcg64GZgjpSueM447EUVGS+lQtlXcWbBeI2MFZjtnSWkAaxFu4Wyean1o9mVJY1VerVn3U/BO80hBQWs6ATX0LJkkrRzCFV0QbwvmCCYFDwLs/+39+Pyo/tsAugNvBfYGTAtXDSMQcBBUEEUQ/A0ZDI4ICAVXAA78LPa67y/q8eOa33fZydRG0frMGMtFx5DFTsbyxeHHQ8kmzMrPMdOk2Z/cgd7M4YLkX+ZG5tDm4eUf5MjhmN2r2TnV/dDezPPHhcK6vMK2BLEPq4elKaHwnCicsp18oo6n+apssbm4H8MOzvjZEees8+QArgvRFpEifCtPNIk8LUOGSh5RgFf8W51fTWOuZtdoJmpabA1s7ms2awBp2GWnYvZgplyjVtRPXUnyQ2Q94TWHLS4lRh3XFRwPWQk3BY0CwAA9/9/9Gf07/ooAawOuBqcIegtaDVMO9xDrECsQMg6MC70I/ARvA1z+JPea8Zjs3+ef4tnb/tVj0h3P88yay8fK1ciNyczMzc4D0lXVSdqi34DjqOeG6lzsu+0B7yruoexl6xPoHOS83mbaENbY0IfKnMIWvhW4zLBQqh6lJqAumWyWnpW/lwuccqBZp4euv7eIw4HPONwO6zD4NQQ9EM8bbSd+MMk4DEA9R/ZPD1btWidgLWOpZ8Zrpmzbbe5uJnCFcNNt4mnmZ7ll62EcXbVWJVDqSppElTzlNCQs6CNGHEgUSw0wCFoEGQFL/mT7Rvqp+rL7Jv8zAiIEmAZ5CFELiA5pEboSCRMnEk0PeA1rChQGWADb+bnz7Ozu59XgL9qW1oXR8c2Uyi3IOMj4xmDHI8oMzY3RkdWc2Zze3OGs5GLn5em1693roupm6TbnZ+Or36raTNVd0KzLl8aOwCy6PbOarZ+o5KIunkiZhZbtmHmcTKFopwGuUbYXwHDN6tk758r0RP8jDfEYhCNzLXg0sjwtRJFLVFGtVctbXmCHZLFnnmgsauBrB23LbD1rRGnvZq9jr2FfXR9ZCVPcSrFFWz1INiou+iMXHSIWJg/FCNwC/f/m/sz9/fxk/HL9xwAbBBAH2ArNDeYQTxPGFYsXQhf3FmcUIBFkDqkKhQYVAIf32/Ay7FvmWd/j2B7T1s7Sy1/Kdsi0xlbHLcopzBnOFtMl15fcMuCs4g7nFuoS7Sntoe3t7RLq5uf35CrhiN1G2NjRAMqYxFu/HrmFsVmq+qPrnQmYHJOpkRCSMpULmZ+e3KWnr1S8OMip1EjhXO4O/ZwJARaeIhos5TQcPJNDVkteUc9Wp1oeX45jXWaFaORoQWpAa9dqA2qTZ+llkGI2X9VbSlUVUIdKAUNeO5EyoyrGIjsZWhFNCxkGzgL5/zH9rvyq/L78t/5WAcwE3gdaCvINtRAfEwAUqhPGFMkTtxC1DXIKpAYvAVv6PvMN7JzlLt+G2UrUa82QyCrGJ8QHw0zDpcQ8yM7MS9B31B3a89/O5FPpsexe8EP0k/Wz9NLyfvBL7i7qJuXJ31LanNXSzrfHGMGpu0C1Ia63pmKfNptLmGGWf5ZhmV+fuqWQrNi21sHIz13dF+o2+LkF4RM5HzUqqzP4PMRFKUwwU1tYv110YzRncmm9a1duK28EbytvJW5SbCJpoGUvYsJdTllYUjBLDEWdPcg1/S3CJVcdABXHDcYHWwLq/Qj7j/jj9tT3m/cB+RL8QP+HA2QFxQjLDJkPQhKPEoYTjxO6Ed4PKAtlB6kDn/2J9xjwNepY5IHdCNjt0bHNKcvfyHnHkseXyNDKWM5p0fjWg9wv4s7lIek77/nwaPMh9Tn0dPPt8d7wTOzq5hzj390N2ILRCMxCx4C/YbeBsG2pwKOencaY1JaSlsSa9J4doz+q6rO5v3DKpNbO5NXyhQH/DZEZpiWrMIA6NkLCSmZSIFg+XohiM2fhaips7G23buBvDW9EbG1pB2WpYUldAlhCUd5JRkSxPUE2pS1/JHocrxNsC9ADsvt99jvyP+937kruRe7q7yD07/j1/y4F0AlMD0oSWRetGyId5Bz2Gr8Zdxd+FF0PJQnhA7j8WPUD7i/n/d9V1/DREM+fy+TJH8iNxvTIPszMzmnRh9V03OvhQOWq6T7tLvBc8zD0nfMk8pbwO+5Q6kPmJuHM22HVcM/NyizFE79XuGWxX6qEpMKfSJsBmK6W2pffmrSf+aWorp+4jMPb0Lbehe3A/B4KBBgBJA8uOzmgQdVK/lJsWoNhE2bmaztuB3Bbcoh07HNecFFwNGxiZxFjG138WAhTnUznRBo9ajX/LQsmUB18FR4NRAbm/8T6KvhX9572xfW39Tr4mP30AjYHzQr6DpoT+RfoGiUd7R1zHcwc7hpYGNoTOw5pB1D/uPfo74PnjN4T1qjOY8lQxIvAOr4zvC+9JL/JwUbEDcn2zfLTQNob3UDiZOYp6nztmu0B7T7sQuv16VDmvuAy3KHXU9K2zXjIPcIRvWS2nrBmq96kM6Dfm+SZhZrxnS6k/Kd/rdu23MH4z8LdtepW93kEnBJAHycrXDTIPEJG304kV+9diGNKaNFsA3C0cUhynHJTcjdvXmxtacJk6F75WA5Ur06kR2s/0TcfMYIqgiKUGVoR9wmFBCT/1vrb9831wvUu9tT3QPqq/gUDqwbrCigP1RMqFzoZxRs2HU8cdhsEGckVbxJRDUIH5f/U+GfxcOmU4Tja9tQcz3/K4sezxKrDNMTwxLbHlMv7zzjVrtld39/kd+lo7SbvifFF89vybPLQ8PbsEumh5TjhUdsf1UHPMsoxxIG+37c7sJuqS6Q/oICdBZwGn6CiP6cUrpa1/8DIzQzb8uec9DIDqRDiHGwnJjL6OatBMkkNULtXN1twX1dkq2eWaUhrN2yNbIVsfWmEZuxjK2AOW6hV10+dSbpCjDpuM9MqYCEGGf8Pcwg4AlX7uvWu8hjx0vE287n02PaE+nIAGAZjC6UP9hP8F3gaoh1tH5wdoBpFFxYUqBC4CtYDmP3q9kPwxufh37na0tRkz4vJVcUPxE7EhcW5xdvGesosz4LTy9eG3DfgNuTY6JDrYeyD7QHvve1k7BHq7eZL4yLemNqJ1KXOEsm0wXO7gbSQrrSm0qAynlqaPppYmmWd8aI7qNyx17u1x03VbOPM8nIAhw4IHF4oZDOQPKpFPk2yVChbYmCvZIVnHGogbaZut27GbtdtRm3TacplR2LmXMJXZVEiSpVDvzs/NAQspSIfGocRQgqCArT8t/fJ9GbzfPIz9GL1fPd7+7cA9wUdC4gOLhPHFyQauxy+HT4e0BxtGb0VdhFeDesGgP4895Hv4ufK4OnYy9Efy1XGO8M7v3G9Yb1LvxvCTMUvykjOWdMK2WzemuPn51brm+3q7q7vce5X7MXptuTD4ODbD9fj0fzL7Marv+K6p7R/raWmoaBHnfqYNZddmBKcdqAmpu2sELejw+PRmOFO73P+wQxJGxIohDIHPYVHcVFBWZxfmGWDa9pvonINdAZ2mncFeAx3BXZtcwhvQ2p7YxZdKFiBUv1JZ0LHOd4weiioHg4Xwg6VB2UBt/wR+tX2SPZh9jj3o/hW/IYCBwdYDAoQNBRJGSccrh+2IZwhWiDHHWIaKBfTEegKsAOY+6L0CO015bXdT9a5zwDJQcQkwgPAT7/2v1PBjMTnxyDMXNHy1VDbG+GJ5LXnUOox60Ds3enY56Hls+DD3P7WRtGhy4rGzsFau7y0Nq4OqG2jr53Zl4iVSpOElKuXlpqpoeKo9LLPvyfL6Nlu6CX3aQaUE2Ah3i0dOVhDPU1uVehdSWVGahtvK3Irdl94M3kSemJ4IHdzdH1wsGzJZnNgRlqOUjBKi0IVOi4ydii5Hr8X9RBMCikDFf6I+1X6GfpE+Wv5IPwY/8YEogmGDfgSuRalGs0eByG4IvgjACL8HzAdqxmDFIEOagau/Wn3fO6y5bjcG9Ubz6bJh8PSvt27pLoqvRC9SL+MwnTH58320T3YVdyI4OblEegc6tfq8+lO6FblUONL39bZINXbz73KaMWYvcC3IrL3qdiktJ0mmcuXUZVBljKYKJ21pUStU7e1wujOZt5R7JD6jwjvFUMkwi/JOFVC70rWUpFZvl/GZUdoh2zpcMtyg3X8dY50VnPxb9ls62n6Y0NcKVVlTi5H2z85NtcsdCNRGuYSnwqkAr39dPnS9QL0xvFY8vvysvTu+LP85QExB2kMGBGnFQga3xw1HkofTB+jHhwd3RgkFGYO7gcCARz5oPFD6YXfotn00cnJAMU8wHK/1707vTG+kL9XwwvH8MqCz5TTRtdp3WThD+Pv5Cfl4+YZ5oPjguEF3YfZONRlzz3LgsXTvvC3cLKBq66loqCnncacA5y2na6h26byrjW4HcKrz97cxup2+UQHexXQISIs6TXYPlNGME7KVDBab1+4Y5xoCm37bwdy3HPwdAZ1GHXTcp9u4GtVZiFgEFuVU25L5kECOXowKCf1HXYUmAr3AUv7LfYM83PvE+3z7A/tpu+z9F345P0dBIAIlA67EzUY3xtlHa4etB1hHaYcABlBFfsNsAeqAa75evKW6SbhENqi0kPNPslOxIjCYMGYwNfBFsRXx03KY87z0uLWdNsG4NXjuOUO5vXnGuea5CDj8uAq3OXWl9TUzljIBcNzvAC28a4pqVmjEJ5xnE6crJ38nymjJqnjsZm8D8hr1H3gPe6q/IcKxRalIR0thDUcPsdG3k0zVb1ZpV5+ZVpp4mzicCVzYnX+dlB2E3bxc1xwPW21ZpVgGFj7T/RHmj59NtwsmyPmGCIR1AnoAkf8cvWq8pHvWu487znxLfRS92r7agBnBVkL7hDIFIMZshxJHn4fpx52HbkaBRbPEUwL2gTO/TH1uuzZ4w3ci9RFztHIDsSnwM69P7ydvb6/iMObx77KNM+L1BTaGd364Gjka+U15kvmTuX94oTgnd192e7TJ85oyJ3CIL3Kt5OyeKzNpoajfaEFohSjB6SPqXGvTLZGwfrLRtjl5LvwVf6SCrAWzSHlK9s0ljuwQvNIpE83VY9ZNV8nY/lmRWvcbdhwcnJwc5lzM3GIbpVp4mU3Yp9aG1OLShJCfDmsL1AlpRoREvMIHgF3/Gf30/Kl78jt1uwp7uLwivOl+NT8WQHyBh8M3hA9FBoYBBpKGvUaPRqIF3MUAQ/VCWsFuf1h9kbuR+b93vnW/NHiyyDHy8TzwS/BHsCAwd/EvsjdzK/QfdUA2rDd7+CD43/lj+f856Dnsub55MLh89zZ2L/Ts81Cx3zBabyotVqvt6icoo2eQZxLnQmfOqIIp8GsnLQhvhbKVNfA5NHxJP7ECg4WXCCjK3Q0/Ds0RMpLrVGaV0VeuWIOaGlrR23Tb2ByDHZddbZyRW+ObFVsCmfVXvlXJlB8SIJAvzZiLEMisBgaD6IGKQAi+zb2UPH07XPsPu4B8ZHzNfeW+iP/4QRoCsMPEhQ1FsUY2BviHAMdGRqmFAkQMgvSBK78FfVO7P/ib9ta1DvNgsVVwRi+7rq3uGS4yLqXvL+/ZsJOxp/KLs5o0/XWJNpv3BvdDt7/3d7bS9m91erRGs8wy9fG4cDEu6K2g7JirTamQKSCotWjcaUbp7Otc7PzuwDFLs/j2pLlNvOj/60LuhfXIWcrgjPLO3tDekm5TwlWwFvGYJtlLWubb3l0iXccerl8Wnzge3h40nXJcIxqRWWNXJZTkkfAPXA1fSzMISMWew2LB2sDXP0e+an1+PQJ9pD3M/kN+qn9jAG8BGwHSQsSEF0UwRSYFdkWmxZ6Ff8RUQ7BCUwGd/8H+RTy4+mx4gvaD9MpyzvGasGvvUG6PLjEuZO4J7r/vfTAIMM+xlnKN89V0UTTn9WP1g3Zw9ce183V79LT0VrPXc1dyAPEYMHcukC28rCqqtimKKWzpI+mEatErq+0N7vFxMzPt9lc53vySv/MC4wWGyHbKf4y/TlEQq1J4U+IVvJbZmGWZpJtgHL1dVV4hXxdfz5+/3/4fZJ7gXg2crNsjWSlW8BT/koRQsU41CvIIEYYzw9hCrIEnP8x+7f5/vm3+gv9jf6MAp0G+QovENUUSxnYG4sdkB8cIDcfnxxTGY0Vpw6JCMcBEvmW8CPoS+A82J3QDMqZxPC/+Lypuse5nrpRuua8W8CjwrXF2Mj3yx3PBtIS0zfSgtKG00nREtDPzfLJIMesw/jAzrwPtwWxRKs9pp6hMp7Jmzma0ZvvnWGjvqvosye9Dccl1CDgbO4J/CQHyxPOHUonwC+yNyo+5kRcSi1PDFbAWltf8GKEZntrdW+gclx1NXaedgl2X3O5cEls9GaQYJNYJlAXR1E9nDMiKtUeGRTQC9cEXf/g+eL14/TA8oDyjvRD9//7fv9jBKQJqg1ZEj8WwhhBGxccpRsRG38Y1hW2ECEKMgNS+6Xz3uqO4dfaWdN7ygzFJL/du4q5Qrdmt/a2jbm3vGK/18IcxTTJjc5r0frT+9Xq12vaTNq62WPX7tMx0YXMiMjpxKC/QLlKs52sJad1oiyfDp6Wne6f1qOHqhiwI7nJxIrPddwK6ZT2uAN8D34ajyTlLFU2CT23QjtINk1GUjhVlVqCXUthC2YYaHBrpG8tc3l06nMVcxVxzW4YakhhZVuTUy5KW0FJNaUqvR/iFQ8NcQO6/Qf55vUV8yrvXPB+8oj2NfvZ/asDXgkbD24UTRi7G5kfNSLSIQohNB6aG/IXyxHpCscDtfxR9WXtAuaN3fjTpc6uyf/EY8EVv5W97ry6vkC/ccCzwyPHNsrMzfXQXtM+1bbWP9cY1z3WBtV00+LPg8xMyAzECL+LuWm0C679qJqkM6LjocqhgaSZqGaujLZ5vQXH4NDM3ertoPmoBHMQbh00J24ufjZUPVFET0nYTRZSXVUWWm5cIGBqY+1lGWrNa4BubG/acJJwzm30bIJorWP3XV5XflCfRXs8hTR8Ke0f8hWODbsG1f9/+/r2gPbC9fn05ve7+rH+rwKCB0IMFRDyE0kXCRoWGzIbcxquGeUXLxMCDrUGy/7L90fxT+qY4ODZN9QozdjHjsN+wkzAXb3uvey99L8LwxXFtcfdyYrN4dCO0mXU1dV816XXHddb1ufTadKnz2vLPMd9wh6+arnmsrKs6Kf3opOf1Z1KnvWgd6QZqZiv/7Y/wCLMhtiO5WnxEP4IC7YWySCFKMoxHzpmQH9GHEx+UVpWJluQXzhjtGcbbAdvUnI8deN153WLdCRyt2+cbIpocmFkWu5RoUcBP3E0bSk7H4EUEAzXBJf+aPq89ir1GfWu9Vv4iftsAJoGjgsHEbUVaBkAHWYfliBrIScgMx3kGSkVIw/nBiUAZ/jN70jpvuAu2O/Rksv0xdbBFr7ivGe71rr7u9O8e7/IwG3CasZ/yBrLoM2kzmzQhNG80ZrRQNC/zk7NIcpvx53D179fvPa3pbMYr86r+Kgbp3mnyqjyqjGwhbUfvX7GKNCs3GXojfPV/1gLyhXKHjUndC9NNf07T0HfRkxO4VKDVlZaEV7CYpFm3GnxbcZvQHKJc1Jyq3DebVFrqWbUYLlaKVPOS1hDQTiOLoglEhwbEyoJpwKe/TD5G/Yd8yPzS/R299D7q/0YAokHlgq5DvcR7hRIFycYKRc+FeQSBxCADL4GIgDq+Ezypeoq43PdJdcd0cnLY8dGxbbCtsGgwQbC5MPMxOzHd8mjy5vPs9EX0wPU19Z619LWT9f01inWaNLEz8XMAclUxDi/7bu9tj6zw6u4p8ClTKIWpLSkPKnGrkG0jrzIxsPRuN0h6jT2TAMLDyIbfCOSK3o0czoyQXdFikqMUeBVUFeHWgxg12I4Z2JqsWvVbl9w7HAjcPRuO235aC5kGl8dWEpQKEcWPbgzaSnmHwYWTg02BTn9r/ly9fzy4fH/8aL09vZA/NQAgQUtC4oQnxTvFsQaPRwQHLQa1xcrFlYSuwy3BygBt/e78dDr1uFA2+zVX9Dpy2PG0cMAxIHCTsJ7woPDAcc4yVXLRs+e0SbUe9aQ17TZbtnl2T3Zwte/1lrVKtJJzcDJEMU3whm9ZLZlsDurIKkGpjakKqU0qEGuWbLAuGbCKctF12zhyezr+JADOBBIGnMi+Cn8MT44Pz3GQi1Is05dU/lVrFlMXhZiI2XBZ+5p8modbGdsPWpRaEVlIWJeXXVWck8RR45ABDhpLMwimxlpEfkIzgDw+1f5BfeC9KPzvvSn+GH7vP/xBMgIaA6hEHoUYhfXGGQaOhkzGIcVThPKDRcH0wAY+oP0I+u443fdYdZF0RbMHMh+xZDDYcKkwsDC/MPaxajHZslEzEfPhtGR1NvVV9j92J3Zq9kq2MbW2tRb05jOEssXxpHC/b4Jt3OxA6x8qC2mr6PKohukpqf2rFqzHbqgw63NHtn45P3vQPwNB+ER7xrqIZsqNjOAOu4/pESZSnxP11NOWDddm2HOYwdoTWqBa5dt7GyxbSNrfmbTYwhgdFseVGFMLkVyPOkxkCjuIOcXHg8cBt3+0foM9wf1F/IX8YX0Ovg//GD/YwOdCIkMqg8lE6YXORrjFtQZBBpbE+AS8AvhBosBbPmx9Xvtyuas4Gva5daT0abNAszjybnJl8i7yGzLccyVz6nRPdNh13fZYdt53fvdfN/o4LjgvN+g3mfdSdpm1rvSYs3UyKDDZ70KuNOxr61YqoOpTqrSqc2sgrGJuIi/ocf60crbPOhe8sH8AAgKEaAZfiAbKOkvHjapOpA/6kRVSjNQTFRxWP1bUWDcYy5l7GaFZ9NoE2hAZkRjZl9NXJVWmU81SC5ARTdeLwkm3hvdEgAL0wOk/CL3oPPt8gTy5fJ49Hj2lvvgALYFbQl/DgkTWBZ7GDwZuxlgGHAXEhR+D7MLugVm/c72ZO8C5/vi1Ntf1dHPUsv4yAfFisSVw03E18ZXx9bJAc0B0BLUTdc823Tez98e4i/kVeUK5VnkMeN94Svf79ud18/Rpc2tx2HBL7sSte+xyK4HrqKrLayyr3Czuro0wTHJt9Fk3Lrnc/Ga/OoGOg+hFgQeBiaxLdEzKzk3PWlCh0jbTERRJFQPWPVcD194YiVkBGTmZDBkkGK0X85cQ1ljVLZNLUYrPyc4cDDpJYwe+xYUDkgHxQBZ/Uz6vvfE9eH0N/Vq9977w/8EApoEwAlaDesPwBFkEvQSSxKfD4kMMAlqBJr/LfqC83rscuYU4RDcstXp0MnMvMkYyOrE9MSWxRDI28lVyljN9tD21PnWcdme3IffZuFh4xXltuTi41Xi0eAj3uDaydWw0E/MXsZqwHm67rXXsbau+asiqy+sm65EtIK5IsHEyffSqt0O6MLzT/3nB1YSTxp+IkMqVDJ5OFI9QUIHR+xL9E/TUvtUoljeXNleiWCKYX5iKmNVYvBglV40W6RWZlFPTDpGoz8KOC8u3CWmHdkX+hCZCAMDc/yC+MX19vOQ9NX0vvbz+J/7rABhBEUJqAz0DowSjRTWFe8USxR4EV4NoQrMBeP/dfkR84PstuUo4N3av9U80ejNhcvayWzIj8gfyszLPs+O0iDW5Nn93cLhveWw6f/rs+0B7wDx2fAs8IjuH+uo523j2d422bvTCM5TyGHCDLyGt82zT7FpsNSucLCrtB25/L7SxD3NztYx4N/qkvVLAJ8KSxPVHG4l9yuPMwY5tT+dRQRKGk+GUldWrFnqXHZfMmGcYUpiaGH8Xz9eOVoPVYZPmU3jSKdCzDpYMmMs7iQfHMASewtKBXsACPqf9OTxufB/8ZHxt/L19CL4EfytAO0EMQnoC60N3RA0Ei8SwxDfDcMLtQfzA93+5Per8k3sZubo3xLan9Vk0R3NGMrix2rF7MXGxq7ITMvwzVvR29Sm2PLbzd/D4wHnlenh65Dt3+0X7ZrsWOsX6b/mNuJJ3QvYjtIKzZvG7MGLvQq5mrahtJqzoLO4tcK6qL/ZxfrLbNP23YPn3PCR+l4DgQ24FlUe1CbjLao0+zr6QHhGPkvWT2lTqVahWchbBl0ZXp1dpF2FXZ1aClj6VN5Qck1ISbhDMT5WN8gwmCkoIVIadRKLC/oDh/3n+KP0QfK67tft/O337ojxC/QU+PH7zf9aAwAHRQrqDJYOuQ5IDjUMfAm3BaYBLv7M+d3zi+196Brimt052kPV99HrzlbNGcxvy3jMqs3ez97SQtZn2e3dG+Gs41LnSurq7ervlPCN8IXv8u1o643ntuOe39PaqtWxz6bKwcWKwK278bdytWC14bQntaG3vLquwPbF0MwZ1Bbc/OXn74z4LAFQC6EVVh5cJF4tnTPBOuhAfUVnS3xO0VNjVjBZMFwfXrZeHl5JXT1cilwyWc9WFFOKTmdL9EUoQag7KjZxL+Un9CCBGZQSJAxeBVL/L/sb94n0yfJt8unycPPH9qD6Wf7uARQFCgkUDJsN4Q4MD+IOzw2nCvcFjgH4/cD52PPS7bPnK+FP3QDZCNXq0KnOSM59zBbO6c7iz47TGNYI2tHeteH65XXpyOtj7nbwf/HE8azyMfFB7+Hslem75p3jqt8b237WndJhzhfKqMfhw4TACb9zvsS+J8CjwWLEmsmTzvPTw9kl4fDo8PBd+doAnAkqEUUYhiDXJlAtYDRsOkFA30SuSfRNx1FDVPZVhFi9WU9am1izVh1UKVLzT6NLkEbPQYs+OTm+MyMteydyIe8aGBU4DkMILQL0/fr45/X79Dfz7PK88kv0j/a6+Xb9sP5NApIFrAXBBz8InAcMCPYFQAKE/lL6E/aH8dvrg+YZ4mPed9r21nTUatJP0bnQxNDg0oXUTdUF2WHcieDe4qXlFOuw7L3up+/S8BfyOvFq8TnwMO7/69DoUuaN4/3fatw71/DTP9BpzJPKlMZ4xG3DocK0w6TEfcZuysjNXNLR17/cKORT6nvxzPn0/xgHew5KFQ0cqyIIKXwu2zSkOok+gEM5SPpLp04/UOtRiVIUU01SvU+OTdJLf0lMRtJCXT0yOB80qi+yKXEj2B0JGNsSywyTB+gCeP6++yj57fao9bP1h/Yc9xn5oPvq/UgAcwL9AxcFTQZfBhMGJwSMAf/+cvtx96zzVe8e6rjmteKO3/TcSdlA2EzXN9fK15nYstrk2+3eu+F+5DnoGupC7TrwMPKy9Nv16fbH9+v2dPbQ9fzzafJU8DDte+lr56fkpOFq31/bYdi11Q7Td9CszRvLK8qjykzK2cpjzG3PVNPJ1krc/+Ly6APwFfcT/zgGxw1lFpYc7CNIKqwwKzc8PJBBuUVaSdtMLk6WT7hQilAeUVNPSkwbScRGkkOnPzg8eTcpM8wuVyo9JkwhEhy1F1wTEw9jCk0GVAPeAGT99fox+lX6Sfpx+cn6wvvv/Ev+4/7d/qz/awBK/8T90vvL+VD3l/QZ8VHtHOp/5mnjmOFZ3/Pcv9tK26vZcNlE2rra9NwM3uzfRuK34xXmyegu6x7twO6T71jxQvOY8/Xy9fO09Dfzv/KZ8s/xUPAF7tXrz+n55nDj89+T3Vzbr9eI1PLRO9C5zwbPGc9kz97RPNbe2ATcr+CR5h7tiPMu+lYB2wiBEEUXJR6cJCgq6C/aM1g4sTyMP8FBXEIOQ5xE8UQfRCNDLkImQSM/oz3LOlg3aTT/MPctmSqsJmYish63GqcWlBNYEG0MVgnRBagDkQFH/k79Fvyk+/T7NPui+r37Uvxs/Nn8Tfxf/B38wvpj+cT3e/Vw813wde547DrqCOnV5qflHuQS5LbjCOPf4lDiv+O3447kxOVy5vTn7ehM6nPrY+1d75vwefG08gv0GfUF9hb28fWP9WP1KPQt8i/wq+0Z7FjpiuXj4rjf+Nxc2uzWL9WH1CzUF9Sb1IDW5dif243fKeX86YDukPPV+ssCFgjbDnIUABqaHykkvynrLFUwhDJmNMI3WDh0ONo5/DnaOcA5FDk4ObY3WTZwNc4yAzG1L+EteirYJ3Ml9CJTIZkdlhr4Fy8VexIYD+ALrgipBlQERwHf/z/+Lf1+/Lf7hfuK+mD7Ufp0+fz4//fh+Hb27/P78jfyzu9r7WTs5+qu6LDlEeXA4/nhaeFJ4Ljf0N9s4PTgDeHl4d/iDOTF5SfnpOix6c/rsO0l7zPwJvHQ8lbzf/Mp8o3xHPAp7uPsBurI55rlVuMW4VDf3d3j3ELbrtp02wvb9ttP3UrfaeHa47zn3usD8GL0iPm9/rIE8AkXDv4SIBhkHKceiyB5I/sltygDK7QqUixmLnYv7zB7MDUxSzEDMTwx/jAuMFguZy07LHcqeSiCJmAkmiLnHzkd/Bq4FwYVQxIkD/ILEgnnBmoEpQLqADL/8v43/tD9EP0A/Pv7jPtx+6b6ifmI+QH5gvfl9ar0WvOd8dLv4e2t6zDqsej75ljlZOQl43LiUOIC44vj+eDs4LHkoeg35tznlOwH7UXwCvDB8Zb0t/XQ9o32n/ae9cv1hPUE8xzxoO9O7ozts+rY6CDos+Z756nmdOQC5aDlvebH5/zn8ule7FjvcvKm9db4bfxOAM0DNgjPC0sPJBIsFbQYExzNHp0gVCP8JIUnsCm2KiEs9CzOLRMuYS63LV4tWC2cLPArHCp3KcQnkyXxI6cheCDSHS0bjxg3FmcTLRCDDuULCwq4BykFbwOQATgAnP5C/UH70/kC+Yf4n/en9o/1wvTD9G3z/fBJ7qvv++2v6xTqI+hU6PjkI+R34qPhTeIA4QLh8OB44enhyeKm45rk1OWy5h3n3ugU7GTsoey87Tbv2vCb8Z3xefF580rz5PLO8iHyZPLd8Zjxq/Cr8M7whfD08KbwQfFc8l/y7PMR9Zv10vdY+Ub6N/x6/gYAfAKABcEIxAoPDQUQzxFRFLgVYBckGvEbXB21Hj4goCFdIhkjbCOsJPIkNyTOJMgkeiSzIxcjOyJJIccgoh8nHj4c1hr9GZkYUBYsE9gRzhA8DkAMsAm5B4QGrwRyAmEA8f4N/Xf7zflw9471HPTZ8q/xUfDA7vntAO3Y63LqculW6dHnKedd5ljlY+Vm5XflR+V95Wnlc+W25UTmjuZm58Ho4OgZ6unrWey17Hjuc+8J8K/w1vBO8mbyXfIp88by3vJO89nzyPR29fD17PY0+M/4R/kE+q76gPs2/Lj83f22/oz/vACEAf0CKQXXBskHzAmdC9IMNg7xD9kRFBPaFN0VYReCGWsZJBqaGwkcfBxJHL8cKR2dHHEc+RvlGuoZhBlDGfQXYhYXFgwVGhRZE0oRoxAtEMsOUQ0/C+MJUgkNCLoGlgVIA90BWgF6/wj9Ivt5+uH4zfZ/9czzK/Lm8AzwZO7I7D3sueva6uPp0Oi26BvpKul56WTpp+k46knrp+xx7EbsIe4o7zHvmO//76TwCvFq8ebx/fGH8rHz4PO09Ff1lvV29mz3CPhT+Fb5//iE+Sv65vo6+9f6dvwd/DP8ePzY/Jv96PxZ/eL9w/6G/3v/BACdAf0CwwSeBYwGmQh+CWUL3wzYDcUOOBCxEb8SdBOuEwUVhxXKFZsVvRXoFYoVPhW+FFQUnhM1E40SOxKDEXUQVxCKDyMPjw9JDmYN5QzgDLkL7gkSC+wI6AZ/Bw8G6gQWA7QB5QA2/3v+lfyn+u74+fYc9871xfM784DyJ/KX8f7wxPC98JnwJvAv8GHwEvF98QHxNPEW8x/0DfRf9Mf0PfWZ9aj1ZvWi9e71Jvbs9bD2dfeE93f4UPmk+Zr6tvvS++n8tf3+/Vn+7P6N/97/ZAAXAE4ArwD8ANcAv//R/zYAoQD9AGkAgwCEAFgBgQJ7AhcD9AM4BdwFJAazBp0H8gjtCaYKFQuTC1cMIQ1rDV8NLw1WDU0N7ww1DCgMKwxOCz4LvgqCCgwKCQr/CQQJUgkqCS0J6AjvB64HWgcJB84GcwXnBG8EfAObAqcBJAH1/mn+rvwK+5z6m/jt91b2dfVq9Qr0B/Oh8nnybfO/8vLxx/KM89LzPvNb9IX1AvZZ9q/2kfdr+Ab5S/nY+c35Kvqu+l36svme+dP5R/rl+vP5avr9+qz7C/0s/WD9yP3c/nr/o/8vAPkAlAH4AeQBtQEXAlcCFwL5AcwBbgE9AUgBIwFNAL8AVQERAScB3gELAtwBoAJ4A9cDigMKBGcE5gTXBeYF8QXmBVwGsgYwBtEFdAX/BLoEEgRqA+UCtwJ9AnQC3ALnAncD5QMcBAIEwQMSBLEEywRLBBME5APAA4UDZQOmAsEBwgF6AQMBHQBM//T+AP5o/az82vtw+8L6w/ph+qj5uvk1+jP6+flV+kz6nPo5+0f7Hvu2+0T8ZfzK/PL8if07/Qz9LP0Q/Sf91Pyr/Kf8V/2x/dv9zf0V/kj/aP9a/yYAegDcAGUBngG7AVkBqQF+AsYCKQL0AY4C/AITA9ECpAJzAkMCMgLFAQEB2gDdAJ8ArACDAJUAwQCwAEIBOAFkARIC3AH7ATAClALAAowCyQLLAsgCnAIeAgQC1AFyAfQAmQCGACQATADh/83/dgBaAIAAVQB+AOMAFwFwAXUBMwGRAe8BpwGsATMBCgH7AMUAigDU/3z/7f44/rv96vxw/Jj8PfwB/ND7Efxy/Fj8m/ym/AT9Nv1f/Vb9Yf3U/fn9av5b/pf+Av+P/qr+/P75/u/+qv6c/qf+i/5t/oL+Af/0/tP+Zv+g//b/WwB9APsAdwG8AecBNQKpAoECZgLnAu8CGQM3A9YCewJxAokCUQKsAQsBdQFvAWsBHQFnAOsAvwCgAK4AXABBAFwAmwDcANMAKQBpALQAtACYACsAhQCHABsAzv9+/yz/xf6C/jD+HP7T/a/9Ev43/k3+K/4H/6j/V/95/4T/NQB+ADUA7P8OAM4AvwBIAK3/2f8ZAHT/Pv/m/mX+WP4J/qD9J/1p/aT9Ef0s/Xv9iP3P/YD+Xf5Y/ub+Hf81/4z/z/+T/w8ANQB9ANkA+AA0Ae4A9gDAANIA5QCFAGMAgABpAIoAEQHTAKYA4ABAAaYBeQGCAcYB1gHIAYYBXQE6AT4BVgGMAUMB9QCnAV4B2ADgABIBRgHHAIcATABqANcAFAGlAF4AOAFiAWgBJQHrADwBJgERAbYAxgC4AHkAfAAVABUAs/8h/03/S//O/mT+Nf7R/e791v3K/WH+Av75/aL++f5Q/1X/cf/o/ywAKwB2AH0ARABGADMAlgCeAGkAPADO/7L/dv8Q/8L+df5J/gL+Ev4E/sL9O/5S/gv+WP6t/nD+Wf6t/tr+Yv4T/mP+Tv51/t3+Hv9I/2n/y/8VAM//4/8aAMb/rP+R/4z/a/9V/6D/AgBLAE4ANQCjAPQA1wAtAUIB7wApAYIBMQE0AUEBcAGWAUcBLgEUAcQAYwAXAAgA1f+I/5j/Ev9Q/3L/Fv8u/yL/bf9y/4v/c/9c/4z/vP+7/5H/lf+t/8L/wf+c/0n/c/9k/xv/1/6a/rb+pP5//l3+tv4w/wj/Uv+j/3r/7f+Y/7f/NgCk/67/x//b/9z/GwDx/6n/RgA2AMr/j/+B/6P/sP9z/zf/SP9+/2j/Uf+3/w4A7P+y//z/2/+r/wAAwf+W/5n/k/8NAAkA8f81AJAAJwEHAc8A5QD5AOgAlwB/ADkAHgCZADYAAwCLALwA+ADYAP0AiwG2AY8BmwHXAbYBdgGfAbkBxwG8AZ4BzgGsAWUBfwF0AdgAmwDvAC0BywCPANcARgEpAcQAFwEZAekAtgBkACIALwAnAPX/DAAyAGoAKwD5/0gAVQD2/wQAHQCc/37/iv9A/xj/Kf8k/3T/uf+V/67/0/80AF8AbACTAFMAoQD3AA4BMgEyAWABegGOAaIBhgE0ARkBEgHtAJwAQAA8AEAAw/+F/+f//P9oAGAANwDBAPkAGAEJAa8AzADgALIAqABbAK4A8wDMAAoBOgEmAfgAEAE2AQkBAAEeASMBHAEXAUoBWQFqAUwBSgE2AewA9wDAAJ4AmwB0AEgAOABKADUAGQB0AFIA+v8jAAUA3/9A/xn/Sv/+/v/+6P76/hv/Tf9n/3P/yP/B/5X/iv+6/83/cv9l/3j/gf+B/33/+f+M/zf/AwD//3D/8P7l/vT+4/7f/oX+l/6G/oT+IP8Q/+H++f4Q/4L/ev8d/zz/R/9h/73/3f8bACkAWQDuALgApADQAJ8AVgAtAFIANABMAD0ABQB0AO0AyQCgAKMAuQDqAE8A0f/w/wwAtP91/7H/ff9v/6T/nv+j/43/e/+W/4r/Nv/+/oT/+//n/8H/HwDjABEB3wDMADEBqwF6AfgA8wCAAXEBUwGZAZ8BtwHXARkCDwK6AaQBpwGsAUMBiwDOAOMAZABoAC0AUACQAEMAQABnAHIAhABeAFkANwARACcAGABTAIsAwgDaAK8AyAAPAQABfQAOAOD/rP9n/73+Lv5u/m3+Mv79/bv93P0h/jP+2v3F/eL95v34/fL9Xv4j/mL++P7l/lD/B/8u/3T/Uv8z/8z+2v7q/mr+p/4g/83+J/+A/7P/0/8HAHsATQALAEgAngBuADQAQQAXACYAHgDo/8n/BAD5/5H/9f+g/3z/TP8Q/yb/s/7v/qH+xP4z/xD/Sv8l/zr/bP9p/zT/8/5w/0b/5P5M/0P/dv8d/8j+PP8D//n+kv7M/Yv9u/1P/Tj8K/xZ/Cf8U/wY/JP79/t9/GD8RfyD/I78zvz9/Lv82Pw0/W/9Fv0k/Y/9R/3c/ND8+/yO/CL88vvD+537bfuY+8L7zvve+xz8rvwK/Zr8j/wq/T79H/0n/Rb9MP3H/db9nv3m/Tz+jv4s/hD+Wv53/l3+2v35/UH+gf5d/nP+uP4f/7T/if9Z/0D/ff8p/+L+Ff/P/sj+GP8K//v+Yv9p/7X/5/+//wUA3/+d/87/zv+Z/53/vP/S/9f/GgB6AIsA4gAVAU0BaQEWAX0BmgFHAV4BlQGrAWMBIwF7AXgBvgCmAP8A7QB1AHsAlABPAKwA2QC7AE0BdQGPAcQBxgGiArcCWgIdA78DrQPjAzgEUwSMBHMEZQR/BGwENQQaBPED3wOuA3gDfQP+AvwCJgPoAhgD+gK8Av8C/wL8At8CywKCAosCVgMnA0QDxQOUA5IDwQPZA5YDVwMwA/wCewJWArUCBgKcAfEB7gHAAfgBJgIEAjYCggKWAncCrgLYAr0CwgIjA0sDPQMoAzEDfQPmA8MDfAMaBBkE7AMHBA0EKQRDBD8EcwS0BDkFYwXbBDMFiwXXBTwF6gR1BYYFqQVFBTwFAwX9BFMFiAQPBPgDpwOaAwADkwIjAuMBbgK9AdgBLwLHASMC5gHnAU0COAIqAmoCsAJiA14DwQKbA+AD3wPXAzkDiANxAy0D8wLVAugCcAKeAnsCDgJTAlMCNwJ1ApACvAKvAh4DPgMAAAAAAAAAAAAAAAAAAAAAAAAAAAAAAAAAAAAAAAAAAAAAAAAAAAAAAAAAAAAAAAAAAAAAAAAAAAAAAAAAAAAAAAAAAAAAAAAAAAAAAAAAAAAAAAAAAAAAAAAAAAAAAAAAAAAAAAAAAAAAAAAAAAAAAAAAAAAAAAAAAAAAAAAAAAAAAAAAAAAAAAAAAAAAAAAAAAAAAAAAAAAAAAAAAAAAAAAAAAAAAAAAAAAAAAAAAAAAAAAAAAAAAAAAAAAAAAAAAAAAAAAAAAAAAAAAAAAAAAAAAAAAAAAAAAAAAAAAAAAAAAAAAAAAAAAAAAAAAAAAAAAAAAAAAAAAAAAAAAAAAAAAAAAAAAAAAAAAAAAAAAAAAAAAAAAAAAAAAAAAAAAAAAAAAAAAAAAAAAAAAAAAAAAAAAAAAAAAAAAAAAAAAAAAAAAAAAAAAAAAAAAAAAAAAAAAAAAAAAAAAAAAAAAAAAAAAAAAAAAAAAAAAAAAAAAAAAAAAAAAAAAAAAAAAAAAAAAAAAAAAAAAAAAAAAAAAAAAAAAAAAAAAAAAAAAAAAAAAAAAAAAAAAAAAAAAAAAAAAAAAAAAAAAAAAAAAAAAAAAAAAAAAAAAAAAAAAAAAAAAAAAAAAAAAAAAAAAAAAAAAAAAAAAAAAAAAAAAAAAAAAAAAAAAAAAAAAAAAAAAAAAAAAAAAAAAAAAAAAAAAAAAAAAAAAAAAAAAAAAAAAAAAAAAAAAAAAAAAAAAAAAAAAAAAAAAAAAAAAAAAAAAAAAAAAAAAAAAAAAAAAAAAAAAAAAAAAAAAAAAAAAAAAAAAAAAAAAAAAAAAAAAAAAAAAAAAAAAAAAAAAAAAAAAAAAAAAAAAAAAAAAAAAAAAAAAAAAAAAAAAAAAAAAAAAAAAAAAAAAAAAAAAAAAAAAAAAAAAAAAAAAAAAAAAAAAAAAAAAAAAAAAAAAAAAAAAAAAAAAAAAAAAAAAAAAAAAAAAAAAAAAAAAAAAAAAAAAAAAAAAAAAAAAAAAAAAAAAAAAAAAAAAAAAAAAAAAAAAAAAAAAAAAAAAAAAAAAAAAAAAAAAAAAAAAAAAAAAAAAAAAAAAAAAAAAAAAAAAAAAAAAAAAAAAAAAAAAAAAAAAAAAAAAAAAAAAAAAAAAAAAAAAAAAAAAAAAAAAAAAAAAAAAAAAAAAAAAAAAAAAAAAAAAAAAAAAAAAAAAAAAAAAAAAAAAAAAAAAAAAAAAAAAAAAAAAAAAAAAAAAAAAAAAAAAAAAAAAAAAAAAAAAAAAAAAAAAAAAAAAAAAAAAAAAAAAAAAAAAAAAAAAAAAAAAAAAAAAAAAAAAAAAAAAAAAAAAAAAAAAAAAAAAAAAAAAAAAAAAAAAAAAAAAAAAAAAAAAAAAAAAAAAAAAAAAAAAAAAAAAAAAAAAAAAAAAAAAAAAAAAAAAAAAAAAAAAAAAAAAAAAAAAAAAAAAAAAAAAAAAAAAAAAAAAAAAAAAAAAAAAAAAAAAAAAAAAAAAAAAAAAAAAAAAAAAAAAAAAAAAAAAAAAAAAAAAAAAAAAAAAAAAAAAAAAAAAAAAAAAAAAAAAAAAAAAAAAAAAAAAAAAAAAAAAAAAAAAAAAAAAAAAAAAAAAAAAAAAAAAAAAAAAAAAAAAAAAAAAAAAAAAAAAAAAAAAAAAAAAAAAAAAAAAAAAAAAAAAAAAAAAAAAAAAAAAAAAAAAAAAAAAAAAAAAAAAAAAAAAAAAAAAAAAAAAAAAAAAAAAAAAAAAAAAAAAAAAAAAAAAAAAAAAAAAAAAAAAAAAAAAAAAAAAAAAAAAAAAAAAAAAAAAAAAAAAAAAAAAAAAAAAAAAAAAAAAAAAAAAAAAAAAAAAAAAAAAAAAAAAAAAAAAAAAAAAAAAAAAAAAAAAAAAAAAAAAAAAAAAAAAAAAAAAAAAAAAAAAAAAAAAAAAAAAAAAAAAAAAAAAAAAAAAAAAAAAAAAAAAAAAAAAAAAAAAAAAAAAAAAAAAAAAAAAAAAAAAAAAAAAAAAAAAAAAAAAAAAAAAAAAAAAAAAAAAAAAAAAAAAAAAAAAAAAAAAAAAAAAAAAAAAAAAAAAAAAAAAAAAAAAAAAAAAAAAAAAAAAAAAAAAAAAAAAAAAAAAAAAAAAAAAAAAAAAAAAAAAAAAAAAAAAAAAAAAAAAAAAAAAAAAAAAAAAAAAAAAAAAAAAAAAAAAAAAAAAAAAAAAAAAAAAAAAAAAAAAAAAAAAAAAAAAAAAAAAAAAAAAAAAAAAAAAAAAAAAAAAAAAAAAAAAAAAAAAAAAAAAAAAAAAAAAAAAAAAAAAAAAAAAAAAAAAAAAAAAAAAAAAAAAAAAAAAAAAAAAAAAAAAAAAAAAAAAAAAAAAAAAAAAAAAAAAAAAAAAAAAAAAAAAAAAAAAAAAAAAAAAAAAAAAAAAAAAAAAAAAAAAAAAAAAAAAAAAAAAAAAAAAAAAAAAAAAAAAAAAAAAAAAAAAAAAAAAAAAAAAAAAAAAAAAAAAAAAAAAAAAAAAAAAAAAAAAAAAAAAAAAAAAAAAAAAAAAAAAAAAAAAAAAAAAAAAAAAAAAAAAAAAAAAAAAAAAAAAAAAAAAAAAAAAAAAAAAAAAAAAAAAAAAAAAAAAAAAAAAAAAAAAAAAAAAAAAAAAAAAAAAAAAAAAAAAAAAAAAAAAAAAAAAAAAAAAAAAAAAAAAAAAAAAAAAAAAAAAAAAAAAAAAAAAAAAAAAAAAAAAAAAAAAAAAAAAAAAAAAAAAAAAAAAAAAAAAAAAAAAAAAAAAAAAAAAAAAAAAAAAAAAAAAAAAAAAAAAAAAAAAAAAAAAAAAAAAAAAAAAAAAAAAAAAAAAAAAAAAAAAAAAAAAAAAAAAAAAAAAAAAAAAAAAAAAAAAAAAAAAAAAAAAAAAAAAAAAAAAAAAAAAAAAAAAAAAAAAAAAAAAAAAAAAAAAAAAAAAAAAAAAAAAAAAAAAAAAAAAAAAAAAAAAAAAAAAAAAAAAAAAAAAAAAAAAAAAAAAAAAAAAAAAAAAAAAAAAAAAAAAAAAAAAAAAAAAAAAAAAAAAAAAAAAAAAAAAAAAAAAAAAAAAAAAAAAAAAAAAAAAAAAAAAAAAAAAAAAAAAAAAAAAAAAAAAAAAAAAAAAAAAAAAAAAAAAAAAAAAAAAAAAAAAAAAAAAAAAAAAAAAAAAAAAAAAAAAAAAAAAAAAAAAAAAAAAAAAAAAAAAAAAAAAAAAAAAAAAAAAAAAAAAAAAAAAAAAAAAAAAAAAAAAAAAAAAAAAAAAAAAAAAAAAAAAAAAAAAAAAAAAAAAAAAAAAAAAAAAAAAAAAAAAAAAAAAAAAAAAAAAAAAAAAAAAAAAAAAAAAAAAAAAAAAAAAAAAAAAAAAAAAAAAAAAAAAAAAAAAAAAAAAAAAAAAAAAAAAAAAAAAAAAAAAAAAAAAAAAAAAAAAAAAAAAAAAAAAAAAAAAAAAAAAAAAAAAAAAAAAAAAAAAAAAAAAAAAAAAAAAAAAAAAAAAAAAAAAAAAAAAAAAAAAAAAAAAAAAAAAAAAAAAAAAAAAAAAAAAAAAAAAAAAAAAAAAAAAAAAAAAAAAAAAAAAAAAAAAAAAAAAAAAAAAAAAAAAAAAAAAAAAAAAAAAAAAAAAAAAAAAAAAAAAAAAAAAAAAAAAAAAAAAAAAAAAAAAAAAAAAAAAAAAAAAAAAAAAAAAAAAAAAAAAAAAAAAAAAAAAAAAAAAAAAAAAAAAAAAAAAAAAAAAAAAAAAAAAAAAAAAAAAAAAAAAAAAAAAAAAAAAAAAAAAAAAAAAAAAAAAAAAAAAAAAAAAAAAAAAAAAAAAAAAAAAAAAAAAAAAAAAAAAAAAAAAAAAAAAAAAAAAAAAAAAAAAAAAAAAAAAAAAAAAAAAAAAAAAAAAAAAAAAAAAAAAAAAAAAAAAAAAAAAAAAAAAAAAAAAAAAAAAAAAAAAAAAAAAAAAAAAAAAAAAAAAAAAAAAAAAAAAAAAAAAAAAAAAAAAAAAAAAAAAAAAAAAAAAAAAAAAAAAAAAAAAAAAAAAAAAAAAAAAAAAAAAAAAAAAAAAAAAAAAAAAAAAAAAAAAAAAAAAAAAAAAAAAAAAAAAAAAAAAAAAAAAAAAAAAAAAAAAAAAAAAAAAAAAAAAAAAAAAAAAAAAAAAAAAAAAAAAAAAAAAAAAAAAAAAAAAAAAAAAAAAAAAAAAAAAAAAAAAAAAAAAAAAAAAAAAAAAAAAAAAAAAAAAAAAAAAAAAAAAAAAAAAAAAAAAAAAAAAAAAAAAAAAAAAAAAAAAAAAAAAAAAAAAAAAAAAAAAAAAAAAAAAAAAAAAAAAAAAAAAAAAAAAAAAAAAAAAAAAAAAAAAAAAAAAAAAAAAAAAAAAAAAAAAAAAAAAAAAAAAAAAAAAAAAAAAAAAAAAAAAAAAAAAAAAAAAAAAAAAAAAAAAAAAAAAAAAAAAAAAAAAAAAAAAAAAAAAAAAAAAAAAAAAAAAAAAAAAAAAAAAAAAAAAAAAAAAAAAAAAAAAAAAAAAAAAAAAAAAAAAAAAAAAAAAAAAAAAAAAAAAAAAAAAAAAAAAAAAAAAAAAAAAAAAAAAAAAAAAAAAAAAAAAAAAAAAAAAAAAAAAAAAAAAAAAAAAAAAAAAAAAAAAAAAAAAAAAAAAAAAAAAAAAAAAAAAAAAAAAAAAAAAAAAAAAAAAAAAAAAAAAAAAAAAAAAAAAAAAAAAAAAAAAAAAAAAAAAAAAAAAAAAAAAAAAAAAAAAAAAAAAAAAAAAAAAAAAAAAAAAAAAAAAAAAAAAAAAAAAAAAAAAAAAAAAAAAAAAAAAAAAAAAAAAAAAAAAAAAAAAAAAAAAAAAAAAAAAAAAAAAAAAAAAAAAAAAAAAAAAAAAAAAAAAAAAAAAAAAAAAAAAAAAAAAAAAAAAAAAAAAAAAAAAAAAAAAAAAAAAAAAAAAAAAAAAAAAAAAAAAAAAAAAAAAAAAAAAAAAAAAAAAAAAAAAAAAAAAAAAAAAAAAAAAAAAAAAAAAAAAAAAAAAAAAAAAAAAAAAAAAAAAAAAAAAAAAAAAAAAAAAAAAAAAAAAAAAAAAAAAAAAAAAAAAAAAAAAAAAAAAAAAAAAAAAAAAAAAAAAAAAAAAAAAAAAAAAAAAAAAAAAAAAAAAAAAAAAAAAAAAAAAAAAAAAAAAAAAAAAAAAAAAAAAAAAAAAAAAAAAAAAAAAAAAAAAAAAAAAAAAAAAAAAAAAAAAAAAAAAAAAAAAAAAAAAAAAAAAAAAAAAAAAAAAAAAAAAAAAAAAAAAAAAAAAAAAAAAAAAAAAAAAAAAAAAAAAAAAAAAAAAAAAAAAAAAAAAAAAAAAAAAAAAAAAAAAAAAAAAAAAAAAAAAAAAAAAAAAAAAAAAAAAAAAAAAAAAAAAAAAAAAAAAAAAAAAAAAAAAAAAAAAAAAAAAAAAAAAAAAAAAAAAAAAAAAAAAAAAAAAAAAAAAAAAAAAAAAAAAAAAAAAAAAAAAAAAAAAAAAAAAAAAAAAAAAAAAAAAAAAAAAAAAAAAAAAAAAAAAAAAAAAAAAAAAAAAAAAAAAAAAAAAAAAAAAAAAAAAAAAAAAAAAAAAAAAAAAAAAAAAAAAAAAAAAAAAAAAAAAAAAAAAAAAAAAAAAAAAAAAAAAAAAAAAAAAAAAAAAAAAAAAAAAAAAAAAAAAAAAAAAAAAAAAAAAAAAAAAAAAAAAAAAAAAAAAAAAAAAAAAAAAAAAAAAAAAAAAAAAAAAAAAAAAAAAAAAAAAAAAAAAAAAAAAAAAAAAAAAAAAAAAAAAAAAAAAAAAAAAAAAAAAAAAAAAAAAAAAAAAAAAAAAAAAAAAAAAAAAAAAAAAAAAAAAAAAAAAAAAAAAAAAAAAAAAAAAAAAAAAAAAAAAAAAAAAAAAAAAAAAAAAAAAAAAAAAAAAAAAAAAAAAAAAAAAAAAAAAAAAAAAAAAAAAAAAAAAAAAAAAAAAAAAAAAAAAAAAAAAAAAAAAAAAAAAAAAAAAAAAAAAAAAAAAAAAAAAAAAAAAAAAAAAAAAAAAAAAAAAAAAAAAAAAAAAAAAAAAAAAAAAAAAAAAAAAAAAAAAAAAAAAAAAAAAAAAAAAAAAAAAAAAAAAAAAAAAAAAAAAAAAAAAAAAAAAAAAAAAAAAAAAAAAAAAAAAAAAAAAAAAAAAAAAAAAAAAAAAAAAAAAAAAAAAAAAAAAAAAAAAAAAAAAAAAAAAAAAAAAAAAAAAAAAAAAAAAAAAAAAAAAAAAAAAAAAAAAAAAAAAAAAAAAAAAAAAAAAAAAAAAAAAAAAAAAAAAAAAAAAAAAAAAAAAAAAAAAAAAAAAAAAAAAAAAAAAAAAAAAAAAAAAAAAAAAAAAAAAAAAAAAAAAAAAAAAAAAAAAAAAAAAAAAAAAAAAAAAAAAAAAAAAAAAAAAAAAAAAAAAAAAAAAAAAAAAAAAAAAAAAAAAAAAAAAAAAAAAAAAAAAAAAAAAAAAAAAAAAAAAAAAAAAAAAAAAAAAAAAAAAAAAAAAAAAAAAAAAAAAAAAAAAAAAAAAAAAAAAAAAAAAAAAAAAAAAAAAAAAAAAAAAAAAAAAAAAAAAAAAAAAAAAAAAAAAAAAAAAAAAAAAAAAAAAAAAAAAAAAAAAAAAAAAAAAAAAAAAAAAAAAAAAAAAAAAAAAAAAAAAAAAAAAAAAAAAAAAAAAAAAAAAAAAAAAAAAAAAAAAAAAAAAAAAAAAAAAAAAAAAAAAAAAAAAAAAAAAAAAAAAAAAAAAAAAAAAAAAAAAAAAAAAAAAAAAAAAAAAAAAAAAAAAAAAAAAAAAAAAAAAAAAAAAAAAAAAAAAAAAAAAAAAAAAAAAAAAAAAAAAAAAAAAAAAAAAAAAAAAAAAAAAAAAAAAAAAAAAAAAAAAAAAAAAAAAAAAAAAAAAAAAAAAAAAAAAAAAAAAAAAAAAAAAAAAAAAAAAAAAAAAAAAAAAAAAAAAAAAAAAAAAAAAAAAAAAAAAAAAAAAAAAAAAAAAAAAAAAAAAAAAAAAAAAAAAAAAAAAAAAAAAAAAAAAAAAAAAAAAAAAAAAAAAAAAAAAAAAAAAAAAAAAAAAAAAAAAAAAAAAAAAAAAAAAAAAAAAAAAAAAAAAAAAAAAAAAAAAAAAAAAAAAAAAAAAAAAAAAAAAAAAAAAAAAAAAAAAAAAAAAAAAAAAAAAAAAAAAAAAAAAAAAAAAAAAAAAAAAAAAAAAAAAAAAAAAAAAAAAAAAAAAAAAAAAAAAAAAAAAAAAAAAAAAAAAAAAAAAAAAAAAAAAAAAAAAAAAAAAAAAAAAAAAAAAAAAAAAAAAAAAAAAAAAAAAAAAAAAAAAAAAAAAAAAAAAAAAAAAAAAAAAAAAAAAAAAAAAAAAAAAAAAAAAAAAAAAAAAAAAAAAAAAAAAAAAAAAAAAAAAAAAAAAAAAAAAAAAAAAAAAAAAAAAAAAAAAAAAAAAAAAAAAAAAAAAAAAAAAAAAAAAAAAAAAAAAAAAAAAAAAAAAAAAAAAAAAAAAAAAAAAAAAAAAAAAAAAAAAAAAAAAAAAAAAAAAAAAAAAAAAAAAAAAAAAAAAAAAAAAAAAAAAAAAAAAAAAAAAAAAAAAAAAAAAAAAAAAAAAAAAAAAAAAAAAAAAAAAAAAAAAAAAAAAAAAAAAAAAAAAAAAAAAAAAAAAAAAAAAAAAAAAAAAAAAAAAAAAAAAAAAAAAAAAAAAAAAAAAAAAAAAAAAAAAAAAAAAAAAAAAAAAAAAAAAAAAAAAAAAAAAAAAAAAAAAAAAAAAAAAAAAAAAAAAAAAAAAAAAAAAAAAAAAAAAAAAAAAAAAAAAAAAAAAAAAAAAAAAAAAAAAAAAAAAAAAAAAAAAAAAAAAAAAAAAAAAAAAAAAAAAAAAAAAAAAAAAAAAAAAAAAAAAAAAAAAAAAAAAAAAAAAAAAAAAAAAAAAAAAAAAAAAAAAAAAAAAAAAAAAAAAAAAAAAAAAAAAAAAAAAAAAAAAAAAAAAAAAAAAAAAAAAAAAAAAAAAAAAAAAAAAAAAAAAAAAAAAAAAAAAAAAAAAAAAAAAAAAAAAAAAAAAAAAAAAAAAAAAAAAAAAAAAAAAAAAAAAAAAAAAAAAAAAAAAAAAAAAAAAAAAAAAAAAAAAAAAAAAAAAAAAAAAAAAAAAAAAAAAAAAAAAAAAAAAAAAAAAAAAAAAAAAAAAAAAAAAAAAAAAAAAAAAAAAAAAAAAAAAAAAAAAAAAAAAAAAAAAAAAAAAAAAAAAAAAAAAAAAAAAAAAAAAAAAAAAAAAAAAAAAAAAAAAAAAAAAAAAAAAAAAAAAAAAAAAAAAAAAAAAAAAAAAAAAAAAAAAAAAAAAAAAAAAAAAAAAAAAAAAAAAAAAAAAAAAAAAAAAAAAAAAAAAAAAAAAAAAAAAAAAAAAAAAAAAAAAAAAAAAAAAAAAAAAAAAAAAAAAAAAAAAAAAAAAAAAAAAAAAAAAAAAAAAAAAAAAAAAAAAAAAAAAAAAAAAAAAAAAAAAAAAAAAAAAAAAAAAAAAAAAAAAAAAAAAAAAAAAAAAAAAAAAAAAAAAAAAAAAAAAAAAAAAAAAAAAAAAAAAAAAAAAAAAAAAAAAAAAAAAAAAAAAAAAAAAAAAAAAAAAAAAAAAAAAAAAAAAAAAAAAAAAAAAAAAAAAAAAAAAAAAAAAAAAAAAAAAAAAAAAAAAAAAAAAAAAAAAAAAAAAAAAAAAAAAAAAAAAAAAAAAAAAAAAAAAAAAAAAAAAAAAAAAAAAAAAAAAAAAAAAAAAAAAAAAAAAAAAAAAAAAAAAAAAAAAAAAAAAAAAAAAAAAAAAAAAAAAAAAAAAAAAAAAAAAAAAAAAAAAAAAAAAAAAAAAAAAAAAAAAAAAAAAAAAAAAAAAAAAAAAAAAAAAAAAAAAAAAAAAAAAAAAAAAAAAAAAAAAAAAAAAAAAAAAAAAAAAAAAAAAAAAAAAAAAAAAAAAAAAAAAAAAAAAAAAAAAAAAAAAAAAAAAAAAAAAAAAAAAAAAAAAAAAAAAAAAAAAAAAAAAAAAAAAAAAAAAAAAAAAAAAAAAAAAAAAAAAAAAAAAAAAAAAAAAAAAAAAAAAAAAAAAAAAAAAAAAAAAAAAAAAAAAAAAAAAAAAAAAAAAAAAAAAAAAAAAAAAAAAAAAAAAAAAAAAAAAAAAAAAAAAAAAAAAAAAAAAAAAAAAAAAAAAAAAAAAAAAAAAAAAAAAAAAAAAAAAAAAAAAAAAAAAAAAAAAAAAAAAAAAAAAAAAAAAAAAAAAAAAAAAAAAAAAAAAAAAAAAAAAAAAAAAAAAAAAAAAAAAAAAAAAAAAAAAAAAAAAAAAAAAAAAAAAAAAAAAAAAAAAAAAAAAAAAAAAAAAAAAAAAAAAAAAAAAAAAAAAAAAAAAAAAAAAAAAAAAAAAAAAAAAAAAAAAAAAAAAAAAAAAAAAAAAAAAAAAAAAAAAAAAAAAAAAAAAAAAAAAAAAAAAAAAAAAAAAAAAAAAAAAAAAAAAAAAAAAAAAAAAAAAAAAAAAAAAAAAAAAAAAAAAAAAAAAAAAAAAAAAAAAAAAAAAAAAAAAAAAAAAAAAAAAAAAAAAAAAAAAAAAAAAAAAAAAAAAAAAAAAAAAAAAAAAAAAAAAAAAAAAAAAAAAAAAAAAAAAAAAAAAAAAAAAAAAAAAAAAAAAAAAAAAAAAAAAAAAAAAAAAAAAAAAAAAAAAAAAAAAAAAAAAAAAAAAAAAAAAAAAAAAAAAAAAAAAAAAAAAAAAAAAAAAAAAAAAAAAAAAAAAAAAAAAAAAAAAAAAAAAAAAAAAAAAAAAAAAAAAAAAAAAAAAAAAAAAAAAAAAAAAAAAAAAAAAAAAAAAAAAAAAAAAAAAAAAAAAAAAAAAAAAAAAAAAAAAAAAAAAAAAAAAAAAAAAAAAAAAAAAAAAAAAAAAAAAAAAAAAAAAAAAAAAAAAAAAAAAAAAAAAAAAAAAAAAAAAAAAAAAAAAAAAAAAAAAAAAAAAAAAAAAAAAAAAAAAAAAAAAAAAAAAAAAAAAAAAAAAAAAAAAAAAAAAAAAAAAAAAAAAAAAAAAAAAAAAAAAAAAAAAAAAAAAAAAAAAAAAAAAAAAAAAAAAAAAAAAAAAAAAAAAAAAAAAAAAAAAAAAAAAAAAAAAAAAAAAAAAAAAAAAAAAAAAAAAAAAAAAAAAAAAAAAAAAAAAAAAAAAAAAAAAAAAAAAAAAAAAAAAAAAAAAAAAAAAAAAAAAAAAAAAAAAAAAAAAAAAAAAAAAAAAAAAAAAAAAAAAAAAAAAAAAAAAAAAAAAAAAAAAAAAAAAAAAAAAAAAAAAAAAAAAAAAAAAAAAAAAAAAAAAAAAAAAAAAAAAAAAAAAAAAAAAAAAAAAAAAAAAAAAAAAAAAAAAAAAAAAAAAAAAAAAAAAAAAAAAAAAAAAAAAAAAAAAAAAAAAAAAAAAAAAAAAAAAAAAAAAAAAAAAAAAAAAAAAAAAAAAAAAAAAAAAAAAAAAAAAAAAAAAAAAAAAAAAAAAAAAAAAAAAAAAAAAAAAAAAAAAAAAAAAAAAAAAAAAAAAAAAAAAAAAAAAAAAAAAAAAAAAAAAAAAAAAAAAAAAAAAAAAAAAAAAAAAAAAAAAAAAAAAAAAAAAAAAAAAAAAAAAAAAAAAAAAAAAAAAAAAAAAAAAAAAAAAAAAAAAAAAAAAAAAAAAAAAAAAAAAAAAAAAAAAAAAAAAAAAAAAAAAAAAAAAAAAAAAAAAAAAAAAAAAAAAAAAAAAAAAAAAAAAAAAAAAAAAAAAAAAAAAAAAAAAAAAAAAAAAAAAAAAAAAAAAAAAAAAAAAAAAAAAAAAAAAAAAAAAAAAAAAAAAAAAAAAAAAAAAAAAAAAAAAAAAAAAAAAAAAAAAAAAAAAAAAAAAAAAAAAAAAAAAAAAAAAAAAAAAAAAAAAAAAAAAAAAAAAAAAAAAAAAAAAAAAAAAAAAAAAAAAAAAAAAAAAAAAAAAAAAAAAAAAAAAAAAAAAAAAAAAAAAAAAAAAAAAAAAAAAAAAAAAAAAAAAAAAAAAAAAAAAAAAAAAAAAAAAAAAAAAAAAAAAAAAAAAAAAAAAAAAAAAAAAAAAAAAAAAAAAAAAAAAAAAAAAAAAAAAAAAAAAAAAAAAAAAAAAAAAAAAAAAAAAAAAAAAAAAAAAAAAAAAAAAAAAAAAAAAAAAAAAAAAAAAAAAAAAAAAAAAAAAAAAAAAAAAAAAAAAAAAAAAAAAAAAAAAAAAAAAAAAAAAAAAAAAAAAAAAAAAAAAAAAAAAAAAAAAAAAAAAAAAAAAAAAAAAAAAAAAAAAAAAAAAAAAAAAAAAAAAAAAAAAAAAAAAAAAAAAAAAAAAAAAAAAAAAAAAAAAAAAAAAAAAAAAAAAAAAAAAAAAAAAAAAAAAAAAAAAAAAAAAAAAAAAAAAAAAAAAAAAAAAAAAAAAAAAAAAAAAAAAAAAAAAAAAAAAAAAAAAAAAAAAAAAAAAAAAAAAAAAAAAAAAAAAAAAAAAAAAAAAAAAAAAAAAAAAAAAAAAAAAAAAAAAAAAAAAAAAAAAAAAAAAAAAAAAAAAAAAAAAAAAAAAAAAAAAAAAAAAAAAAAAAAAAAAAAAAAAAAAAAAAAAAAAAAAAAAAAAAAAAAAAAAAAAAAAAAAAAAAAAAAAAAAAAAAAAAAAAAAAAAAAAAAAAAAAAAAAAAAAAAAAAAAAAAAAAAAAAAAAAAAAAAAAAAAAAAAAAAAAAAAAAAAAAAAAAAAAAAAAAAAAAAAAAAAAAAAAAAAAAAAAAAAAAAAAAAAAAAAAAAAAAAAAAAAAAAAAAAAAAAAAAAAAAAAAAAAAAAAAAAAAAAAAAAAAAAAAAAAAAAAAAAAAAAAAAAAAAAAAAAAAAAAAAAAAAAAAAAAAAAAAAAAAAAAAAAAAAAAAAAAAAAAAAAAAAAAAAAAAAAAAAAAAAAAAAAAAAAAAAAAAAAAAAAAAAAAAAAAAAAAAAAAAAAAAAAAAAAAAAAAAAAAAAAAAAAAAAAAAAAAAAAAAAAAAAAAAAAAAAAAAAAAAAAAAAAAAAAAAAAAAAAAAAAAAAAAAAAAAAAAAAAAAAAAAAAAAAAAAAAAAAAAAAAAAAAAAAAAAAAAAAAAAAAAAAAAAAAAAAAAAAAAAAAAAAAAAAAAAAAAAAAAAAAAAAAAAAAAAAAAAAAAAAAAAAAAAAAAAAAAAAAAAAAAAAAAAAAAAAAAAAAAAAAAAAAAAAAAAAAAAAAAAAAAAAAAAAAAAAAAAAAAAAAAAAAAAAAAAAAAAAAAAAAAAAAAAAAAAAAAAAAAAAAAAAAAAAAAAAAAAAAAAAAAAAAAAAAAAAAAAAAAAAAAAAAAAAAAAAAAAAAAAAAAAAAAAAAAAAAAAAAAAAAAAAAAAAAAAAAAAAAAAAAAAAAAAAAAAAAAAAAAAAAAAAAAAAAAAAAAAAAAAAAAAAAAAAAAAAAAAAAAAAAAAAAAAAAAAAAAAAAAAAAAAAAAAAAAAAAAAAAAAAAAAAAAAAAAAAAAAAAAAAAAAAAAAAAAAAAAAAAAAAAAAAAAAAAAAAAAAAAAAAAAAAAAAAAAAAAAAAAAAAAAAAAAAAAAAAAAAAAAAAAAAAAAAAAAAAAAAAAAAAAAAAAAAAAAAAAAAAAAAAAAAAAAAAAAAAAAAAAAAAAAAAAAAAAAAAAAAAAAAAAAAAAAAAAAAAAAAAAAAAAAAAAAAAAAAAAAAAAAAAAAAAAAAAAAAAAAAAAAAAAAAAAAAAAAAAAAAAAAAAAAAAAAAAAAAAAAAAAAAAAAAAAAAAAAAAAAAAAAAAAAAAAAAAAAAAAAAAAAAAAAAAAAAAAAAAAAAAAAAAAAAAAAAAAAAAAAAAAAAAAAAAAAAAAAAAAAAAAAAAAAAAAAAAAAAAAAAAAAAAAAAAAAAAAAAAAAAAAAAAAAAAAAAAAAAAAAAAAAAAAAAAAAAAAAAAAAAAAAAAAAAAAAAAAAAAAAAAAAAAAAAAAAAAAAAAAAAAAAAAAAAAAAAAAAAAAAAAAAAAAAAAAAAAAAAAAAAAAAAAAAAAAAAAAAAAAAAAAAAAAAAAAAAAAAAAAAAAAAAAAAAAAAAAAAAAAAAAAAAAAAAAAAAAAAAAAAAAAAAAAAAAAAAAAAAAAAAAAAAAAAAAAAAAAAAAAAAAAAAAAAAAAAAAAAAAAAAAAAAAAAAAAAAAAAAAAAAAAAAAAAAAAAAAAAAAAAAAAAAAAAAAAAAAAAAAAAAAAAAAAAAAAAAAAAAAAAAAAAAAAAAAAAAAAAAAAAAAAAAAAAAAAAAAAAAAAAAAAAAAAAAAAAAAAAAAAAAAAAAAAAAAAAAAAAAAAAAAAAAAAAAAAAAAAAAAAAAAAAAAAAAAAAAAAAAAAAAAAAAAAAAAAAAAAAAAAAAAAAAAAAAAAAAAAAAAAAAAAAAAAAAAAAAAAAAAAAAAAAAAAAAAAAAAAAAAAAAAAAAAAAAAAAAAAAAAAAAAAAAAAAAAAAAAAAAAAAAAAAAAAAAAAAAAAAAAAAAAAAAAAAAAAAAAAAAAAAAAAAAAAAAAAAAAAAAAAAAAAAAAAAAAAAAAAAAAAAAAAAAAAAAAAAAAAAAAAAAAAAAAAAAAAAAAAAAAAAAAAAAAAAAAAAAAAAAAAAAAAAAAAAAAAAAAAAAAAAAAAAAAAAAAAAAAAAAAAAAAAAAAAAAAAAAAAAAAAAAAAAAAAAAAAAAAAAAAAAAAAAAAAAAAAAAAAAAAAAAAAAAAAAAAAAAAAAAAAAAAAAAAAAAAAAAAAAAAAAAAAAAAAAAAAAAAAAAAAAAAAAAAAAAAAAAAAAAAAAAAAAAAAAAAAAAAAAAAAAAAAAAAAAAAAAAAAAAAAAAAAAAAAAAAAAAAAAAAAAAAAAAAAAAAAAAAAAAAAAAAAAAAAAAAAAAAAAAAAAAAAAAAAAAAAAAAAAAAAAAAAAAAAAAAAAAAAAAAAAAAAAAAAAAAAAAAAAAAAAAAAAAAAAAAAAAAAAAAAAAAAAAAAAAAAAAAAAAAAAAAAAAAAAAAAAAAAAAAAAAAAAAAAAAAAAAAAAAAAAAAAAAAAAAAAAAAAAAAAAAAAAAAAAAAAAAAAAAAAAAAAAAAAAAAAAAAAAAAAAAAAAAAAAAAAAAAAAAAAAAAAAAAAAAAAAAAAAAAAAAAAAAAAAAAAAAAAAAAAAAAAAAAAAAAAAAAAAAAAAAAAAAAAAAAAAAAAAAAAAAAAAAAAAAAAAAAAAAAAAAAAAAAAAAAAAAAAAAAAAAAAAAAAAAAAAAAAAAAAAAAAAAAAAAAAAAAAAAAAAAAAAAAAAAAAAAAAAAAAAAAAAAAAAAAAAAAAAAAAAAAAAAAAAAAAAAAAAAAAAAAAAAAAAAAAAAAAAAAAAAAAAAAAAAAAAAAAAAAAAAAAAAAAAAAAAAAAAAAAAAAAAAAAAAAAAAAAAAAAAAAAAAAAAAAAAAAAAAAAAAAAAAAAAAAAAAAAAAAAAAAAAAAAAAAAAAAAAAAAAAAAAAAAAAAAAAAAAAAAAAAAAAAAAAAAAAAAAAAAAAAAAAAAAAAAAAAAAAAAAAAAAAAAAAAAAAAAAAAAAAAAAAAAAAAAAAAAAAAAAAAAAAAAAAAAAAAAAAAAAAAAAAAAAAAAAAAAAAAAAAAAAAAAAAAAAAAAAAAAAAAAAAAAAAAAAAAAAAAAAAAAAAAAAAAAAAAAAAAAAAAAAAAAAAAAAAAAAAAAAAAAAAAAAAAAAAAAAAAAAAAAAAAAAAAAAAAAAAAAAAAAAAAAAAAAAAAAAAAAAAAAAAAAAAAAAAAAAAAAAAAAAAAAAAAAAAAAAAAAAAAAAAAAAAAAAAAAAAAAAAAAAAAAAAAAAAAAAAAAAAAAAAAAAAAAAAAAAAAAAAAAAAAAAAAAAAAAAAAAAAAAAAAAAAAAAAAAAAAAAAAAAAAAAAAAAAAAAAAAAAAAAAAAAAAAAAAAAAAAAAAAAAAAAAAAAAAAAAAAAAAAAAAAAAAAAAAAAAAAAAAAAAAAAAAAAAAAAAAAAAAAAAAAAAAAAAAAAAAAAAAAAAAAAAAAAAAAAAAAAAAAAAAAAAAAAAAAAAAAAAAAAAAAAAAAAAAAAAAAAAAAAAAAAAAAAAAAAAAAAAAAAAAAAAAAAAAAAAAAAAAAAAAAAAAAAAAAAAAAAAAAAAAAAAAAAAAAAAAAAAAAAAAAAAAAAAAAAAAAAAAAAAAAAAAAAAAAAAAAAAAAAAAAAAAAAAAAAAAAAAAAAAAAAAAAAAAAAAAAAAAAAAAAAAAAAAAAAAAAAAAAAAAAAAAAAAAAAAAAAAAAAAAAAAAAAAAAAAAAAAAAAAAAAAAAAAAAAAAAAAAAAAAAAAAAAAAAAAAAAAAAAAAAAAAAAAAAAAAAAAAAAAAAAAAAAAAAAAAAAAAAAAAAAAAAAAAAAAAAAAAAAAAAAAAAAAAAAAAAAAAAAAAAAAAAAAAAAAAAAAAAAAAAAAAAAAAAAAAAAAAAAAAAAAAAAAAAAAAAAAAAAAAAAAAAAAAAAAAAAAAAAAAAAAAAAAAAAAAAAAAAAAAAAAAAAAAAAAAAAAAAAAAAAAAAAAAAAAAAAAAAAAAAAAAAAAAAAAAAAAAAAAAAAAAAAAAAAAAAAAAAAAAAAAAAAAAAAAAAAAAAAAAAAAAAAAAAAAAAAAAAAAAAAAAAAAAAAAAAAAAAAAAAAAAAAAAAAAAAAAAAAAAAAAAAAAAAAAAAAAAAAAAAAAAAAAAAAAAAAAAAAAAAAAAAAAAAAAAAAAAAAAAAAAAAAAAAAAAAAAAAAAAAAAAAAAAAAAAAAAAAAAAAAAAAAAAAAAAAAAAAAAAAAAAAAAAAAAAAAAAAAAAAAAAAAAAAAAAAAAAAAAAAAAAAAAAAAAAAAAAAAAAAAAAAAAAAAAAAAAAAAAAAAAAAAAAAAAAAAAAAAAAAAAAAAAAAAAAAAAAAAAAAAAAAAAAAAAAAAAAAAAAAAAAAAAAAAAAAAAAAAAAAAAAAAAAAAAAAAAAAAAAAAAAAAAAAAAAAAAAAAAAAAAAAAAAAAAAAAAAAAAAAAAAAAAAAAAAAAAAAAAAAAAAAAAAAAAAAAAAAAAAAAAAAAAAAAAAAAAAAAAAAAAAAAAAAAAAAAAAAAAAAAAAAAAAAAAAAAAAAAAAAAAAAAAAAAAAAAAAAAAAAAAAAAAAAAAAAAAAAAAAAAAAAAAAAAAAAAAAAAAAAAAAAAAAAAAAAAAAAAAAAAAAAAAAAAAAAAAAAAAAAAAAAAAAAAAAAAAAAAAAAAAAAAAAAAAAAAAAAAAAAAAAAAAAAAAAAAAAAAAAAAAAAAAAAAAAAAAAAAAAAAAAAAAAAAAAAAAAAAAAAAAAAAAAAAAAAAAAAAAAAAAAAAAAAAAAAAAAAAAAAAAAAAAAAAAAAAAAAAAAAAAAAAAAAAAAAAAAAAAAAAAAAAAAAAAAAAAAAAAAAAAAAAAAAAAAAAAAAAAAAAAAAAAAAAAAAAAAAAAAAAAAAAAAAAAAAAAAAAAAAAAAAAAAAAAAAAAAAAAAAAAAAAAAAAAAAAAAAAAAAAAAAAAAAAAAAAAAAAAAAAAAAAAAAAAAAAAAAAAAAAAAAAAAAAAAAAAAAAAAAAAAAAAAAAAAAAAAAAAAAAAAAAAAAAAAAAAAAAAAAAAAAAAAAAAAAAAAAAAAAAAAAAAAAAAAAAAAAAAAAAAAAAAAAAAAAAAAAAAAAAAAAAAAAAAAAAAAAAAAAAAAAAAAAAAAAAAAAAAAAAAAAAAAAAAAAAAAAAAAAAAAAAAAAAAAAAAAAAAAAAAAAAAAAAAAAAAAAAAAAAAAAAAAAAAAAAAAAAAAAAAAAAAAAAAAAAAAAAAAAAAAAAAAAAAAAAAAAAAAAAAAAAAAAAAAAAAAAAAAAAAAAAAAAAAAAAAAAAAAAAAAAAAAAAAAAAAAAAAAAAAAAAAAAAAAAAAAAAAAAAAAAAAAAAAAAAAAAAAAAAAAAAAAAAAAAAAAAAAAAAAAAAAAAAAAAAAAAAAAAAAAAAAAAAAAAAAAAAAAAAAAAAAAAAAAAAAAAAAAAAAAAAAAAAAAAAAAAAAAAAAAAAAAAAAAAAAAAAAAAAAAAAAAAAAAAAAAAAAAAAAAAAAAAAAAAAAAAAAAAAAAAAAAAAAAAAAAAAAAAAAAAAAAAAAAAAAAAAAAAAAAAAAAAAAAAAAAAAAAAAAAAAAAAAAAAAAAAAAAAAAAAAAAAAAAAAAAAAAAAAAAAAAAAAAAAAAAAAAAAAAAAAAAAAAAAAAAAAAAAAAAAAAAAAAAAAAAAAAAAAAAAAAAAAAAAAAAAAAAAAAAAAAAAAAAAAAAAAAAAAAAAAAAAAAAAAAAAAAAAAAAAAAAAAAAAAAAAAAAAAAAAAAAAAAAAAAAAAAAAAAAAAAAAAAAAAAAAAAAAAAAAAAAAAAAAAAAAAAAAAAAAAAAAAAAAAAAAAAAAAAAAAAAAAAAAAAAAAAAAAAAAAAAAAAAAAAAAAAAAAAAAAAAAAAAAAAAAAAAAAAAAAAAAAAAAAAAAAAAAAAAAAAAAAAAAAAAAAAAAAAAAAAAAAAAAAAAAAAAAAAAAAAAAAAAAAAAAAAAAAAAAAAAAAAAAAAAAAAAAAAAAAAAAAAAAAAAAAAAAAAAAAAAAAAAAAAAAAAAAAAAAAAAAAAAAAAAAAAAAAAAAAAAAAAAAAAAAAAAAAAAAAAAAAAAAAAAAAAAAAAAAAAAAAAAAAAAAAAAAAAAAAAAAAAAAAAAAAAAAAAAAAAAAAAAAAAAAAAAAAAAAAAAAAAAAAAAAAAAAAAAAAAAAAAAAAAAAAAAAAAAAAAAAAAAAAAAAAAAAAAAAAAAAAAAAAAAAAAAAAAAAAAAAAAAAAAAAAAAAAAAAAAAAAAAAAAAAAAAAAAAAAAAAAAAAAAAAAAAAAAAAAAAAAAAAAAAAAAAAAAAAAAAAAAAAAAAAAAAAAAAAAAAAAAAAAAAAAAAAAAAAAAAAAAAAAAAAAAAAAAAAAAAAAAAAAAAAAAAAAAAAAAAAAAAAAAAAAAAAAAAAAAAAAAAAAAAAAAAAAAAAAAAAAAAAAAAAAAAAAAAAAAAAAAAAAAAAAAAAAAAAAAAAAAAAAAAAAAAAAAAAAAAAAAAAAAAAAAAAAAAAAAAAAAAAAAAAAAAAAAAAAAAAAAAAAAAAAAAAAAAAAAAAAAAAAAAAAAAAAAAAAAAAAAAAAAAAAAAAAAAAAAAAAAAAAAAAAAAAAAAAAAAAAAAAAAAAAAAAAAAAAAAAAAAAAAAAAAAAAAAAAAAAAAAAAAAAAAAAAAAAAAAAAAAAAAAAAAAAAAAAAAAAAAAAAAAAAAAAAAAAAAAAAAAAAAAAAAAAAAAAAAAAAAAAAAAAAAAAAAAAAAAAAAAAAAAAAAAAAAAAAAAAAAAAAAAAAAAAAAAAAAAAAAAAAAAAAAAAAAAAAAAAAAAAAAAAAAAAAAAAAAAAAAAAAAAAAAAAAAAAAAAAAAAAAAAAAAAAAAAAAAAAAAAAAAAAAAAAAAAAAAAAAAAAAAAAAAAAAAAAAAAAAAAAAAAAAAAAAAAAAAAAAAAAAAAAAAAAAAAAAAAAAAAAAAAAAAAAAAAAAAAAAAAAAAAAAAAAAAAAAAAAAAAAAAAAAAAAAAAAAAAAAAAAAAAAAAAAAAAAAAAAAAAAAAAAAAAAAAAAAAAAAAAAAAAAAAAAAAAAAAAAAAAAAAAAAAAAAAAAAAAAAAAAAAAAAAAAAAAAAAAAAAAAAAAAAAAAAAAAAAAAAAAAAAAAAAAAAAAAAAAAAAAAAAAAAAAAAAAAAAAAAAAAAAAAAAAAAAAAAAAAAAAAAAAAAAAAAAAAAAAAAAAAAAAAAAAAAAAAAAAAAAAAAAAAAAAAAAAAAAAAAAAAAAAAAAAAAAAAAAAAAAAAAAAAAAAAAAAAAAAAAAAAAAAAAAAAAAAAAAAAAAAAAAAAAAAAAAAAAAAAAAAAAAAAAAAAAAAAAAAAAAAAAAAAAAAAAAAAAAAAAAAAAAAAAAAAAAAAAAAAAAAAAAAAAAAAAAAAAAAAAAAAAAAAAAAAAAAAAAAAAAAAAAAAAAAAAAAAAAAAAAAAAAAAAAAAAAAAAAAAAAAAAAAAAAAAAAAAAAAAAAAAAAAAAAAAAAAAAAAAAAAAAAAAAAAAAAAAAAAAAAAAAAAAAAAAAAAAAAAAAAAAAAAAAAAAAAAAAAAAAAAAAAAAAAAAAAAAAAAAAAAAAAAAAAAAAAAAAAAAAAAAAAAAAAAAAAAAAAAAAAAAAAAAAAAAAAAAAAAAAAAAAAAAAAAAAAAAAAAAAAAAAAAAAAAAAAAAAAAAAAAAAAAAAAAAAAAAAAAAAAAAAAAAAAAAAAAAAAAAAAAAAAAAAAAAAAAAAAAAAAAAAAAAAAAAAAAAAAAAAAAAAAAAAAAAAAAAAAAAAAAAAAAAAAAAAAAAAAAAAAAAAAAAAAAAAAAAAAAAAAAAAAAAAAAAAAAAAAAAAAAAAAAAAAAAAAAAAAAAAAAAAAAAAAAAAAAAAAAAAAAAAAAAAAAAAAAAAAAAAAAAAAAAAAAAAAAAAAAAAAAAAAAAAAAAAAAAAAAAAAAAAAAAAAAAAAAAAAAAAAAAAAAAAAAAAAAAAAAAAAAAAAAAAAAAAAAAAAAAAAAAAAAAAAAAAAAAAAAAAAAAAAAAAAAAAAAAAAAAAAAAAAAAAAAAAAAAAAAAAAAAAAAAAAAAAAAAAAAAAAAAAAAAAAAAAAAAAAAAAAAAAAAAAAAAAAAAAAAAAAAAAAAAAAAAAAAAAAAAAAAAAAAAAAAAAAAAAAAAAAAAAAAAAAAAAAAAAAAAAAAAAAAAAAAAAAAAAAAAAAAAAAAAAAAAAAAAAAAAAAAAAAAAAAAAAAAAAAAAAAAAAAAAAAAAAAAAAAAAAAAAAAAAAAAAAAAAAAAAAAAAAAAAAAAAAAAAAAAAAAAAAAAAAAAAAAAAAAAAAAAAAAAAAAAAAAAAAAAAAAAAAAAAAAAAAAAAAAAAAAAAAAAAAAAAAAAAAAAAAAAAAAAAAAAAAAAAAAAAAAAAAAAAAAAAAAAAAAAAAAAAAAAAAAAAAAAAAAAAAAAAAAAAAAAAAAAAAAAAAAAAAAAAAAAAAAAAAAAAAAAAAAAAAAAAAAAAAAAAAAAAAAAAAAAAAAAAAAAAAAAAAAAAAAAAAAAAAAAAAAAAAAAAAAAAAAAAAAAAAAAAAAAAAAAAAAAAAAAAAAAAAAAAAAAAAAAAAAAAAAAAAAAAAAAAAAAAAAAAAAAAAAAAAAAAAAAAAAAAAAAAAAAAAAAAAAAAAAAAAAAAAAAAAAAAAAAAAAAAAAAAAAAAAAAAAAAAAAAAAAAAAAAAAAAAAAAAAAAAAAAAAAAAAAAAAAAAAAAAAAAAAAAAAAAAAAAAAAAAAAAAAAAAAAAAAAAAAAAAAAAAAAAAAAAAAAAAAAAAAAAAAAAAAAAAAAAAAAAAAAAAAAAAAAAAAAAAAAAAAAAAAAAAAAAAAAAAAAAAAAAAAAAAAAAAAAAAAAAAAAAAAAAAAAAAAAAAAAAAAAAAAAAAAAAAAAAAAAAAAAAAAAAAAAAAAAAAAAAAAAAAAAAAAAAAAAAAAAAAAAAAAAAAAAAAAAAAAAAAAAAAAAAAAAAAAAAAAAAAAAAAAAAAAAAAAAAAAAAAAAAAAAAAAAAAAAAAAAAAAAAAAAAAAAAAAAAAAAAAAAAAAAAAAAAAAAAAAAAAAAAAAAAAAAAAAAAAAAAAAAAAAAAAAAAAAAAAAAAAAAAAAAAAAAAAAAAAAAAAAAAAAAAAAAAAAAAAAAAAAAAAAAAAAAAAAAAAAAAAAAAAAAAAAAAAAAAAAAAAAAAAAAAAAAAAAAAAAAAAAAAAAAAAAAAAAAAAAAAAAAAAAAAAAAAAAAAAAAAAAAAAAAAAAAAAAAAAAAAAAAAAAAAAAAAAAAAAAAAAAAAAAAAAAAAAAAAAAAAAAAAAAAAAAAAAAAAAAAAAAAAAAAAAAAAAAAAAAAAAAAAAAAAAAAAAAAAAAAAAAAAAAAAAAAAAAAAAAAAAAAAAAAAAAAAAAAAAAAAAAAAAAAAAAAAAAAAAAAAAAAAAAAAAAAAAAAAAAAAAAAAAAAAAAAAAAAAAAAAAAAAAAAAAAAAAAAAAAAAAAAAAAAAAAAAAAAAAAAAAAAAAAAAAAAAAAAAAAAAAAAAAAAAAAAAAAAAAAAAAAAAAAAAAAAAAAAAAAAAAAAAAAAAAAAAAAAAAAAAAAAAAAAAAAAAAAAAAAAAAAAAAAAAAAAAAAAAAAAAAAAAAAAAAAAAAAAAAAAAAAAAAAAAAAAAAAAAAAAAAAAAAAAAAAAAAAAAAAAAAAAAAAAAAAAAAAAAAAAAAAAAAAAAAAAAAAAAAAAAAAAAAAAAAAAAAAAAAAAAAAAAAAAAAAAAAAAAAAAAAAAAAAAAAAAAAAAAAAAAAAAAAAAAAAAAAAAA=\" type=\"audio/wav\" />\n",
              "                    Your browser does not support the audio element.\n",
              "                </audio>\n",
              "              "
            ]
          },
          "metadata": {},
          "execution_count": 21
        }
      ]
    },
    {
      "cell_type": "code",
      "source": [
        "print(train_y[1])\n",
        "IPython.display.Audio(train_x[1].squeeze(), rate=SAMPLING_RATE)"
      ],
      "metadata": {
        "colab": {
          "base_uri": "https://localhost:8080/",
          "height": 92
        },
        "outputId": "fd78279f-0219-4223-deb9-8d0ffd8bb370",
        "id": "RFKC_o3IinMS"
      },
      "execution_count": 22,
      "outputs": [
        {
          "output_type": "stream",
          "name": "stdout",
          "text": [
            "2\n"
          ]
        },
        {
          "output_type": "execute_result",
          "data": {
            "text/plain": [
              "<IPython.lib.display.Audio object>"
            ],
            "text/html": [
              "\n",
              "                <audio  controls=\"controls\" >\n",
              "                    <source src=\"data:audio/wav;base64,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\" type=\"audio/wav\" />\n",
              "                    Your browser does not support the audio element.\n",
              "                </audio>\n",
              "              "
            ]
          },
          "metadata": {},
          "execution_count": 22
        }
      ]
    },
    {
      "cell_type": "code",
      "source": [
        "print(train_x.shape)\n",
        "print(train_y.shape)\n"
      ],
      "metadata": {
        "colab": {
          "base_uri": "https://localhost:8080/"
        },
        "id": "9DF-X34ifJgr",
        "outputId": "7358449f-c12a-43ae-a63c-cc54cf5e99c6"
      },
      "execution_count": 23,
      "outputs": [
        {
          "output_type": "stream",
          "name": "stdout",
          "text": [
            "(972, 22050, 1)\n",
            "(972,)\n"
          ]
        }
      ]
    },
    {
      "cell_type": "code",
      "source": [
        "from tensorflow import keras\n",
        "from tensorflow.keras.layers import Dense, RepeatVector, Flatten, Input, Activation\n",
        "from tensorflow.keras.layers import Bidirectional, LSTM, GRU, Conv1D, MaxPooling1D, AveragePooling1D, Add, MaxPool1D\n",
        "from tensorflow.keras.layers import Dropout, GaussianNoise, BatchNormalization\n",
        "from tensorflow.keras.regularizers import l1, l2, L1L2\n",
        "\n",
        "input_shape = train_x.shape[1:]\n",
        "num_classes = 3 # C 단계 클래스 3개 (0:뿌리, 1:파도, 2:부모)\n",
        "\n",
        "model = keras.Sequential()\n",
        "model.add(Input(input_shape))\n",
        "\n",
        "model.add(Conv1D(32, 9, padding=\"same\", activation=\"relu\"))  \n",
        "model.add(Conv1D(32, 9, padding=\"same\", activation=\"relu\")) \n",
        "model.add(MaxPooling1D())\n",
        "\n",
        "model.add(Conv1D(64, 9, padding=\"same\", activation=\"relu\"))  \n",
        "model.add(Conv1D(64, 9, padding=\"same\", activation=\"relu\"))  \n",
        "model.add(MaxPooling1D())\n",
        "\n",
        "model.add(Conv1D(128, 9, padding=\"same\", activation=\"relu\"))  \n",
        "model.add(Conv1D(128, 9, padding=\"same\", activation=\"relu\"))  \n",
        "model.add(Conv1D(128, 9, padding=\"same\", activation=\"relu\"))  \n",
        "model.add(MaxPooling1D())\n",
        "\n",
        "model.add(Conv1D(256, 9, padding=\"same\", activation=\"relu\"))  \n",
        "model.add(Conv1D(256, 9, padding=\"same\", activation=\"relu\"))  \n",
        "model.add(Conv1D(256, 9, padding=\"same\", activation=\"relu\"))  \n",
        "model.add(BatchNormalization())\n",
        "model.add(MaxPooling1D())\n",
        "model.add(Dropout(0.3))\n",
        "\n",
        "model.add(Flatten())\n",
        "model.add(Dense(256, activation=\"relu\")) #, kernel_regularizer=l2()))\n",
        "model.add(BatchNormalization())\n",
        "\n",
        "model.add(Dense(num_classes, activation=\"softmax\"))  \n",
        "\n",
        "from tensorflow.keras.optimizers import Adam, Adadelta, SGD\n",
        "# optimizer = SGD(learning_rate=0.001) # *0.1, decay=0.01)  \n",
        "optimizer = Adam(learning_rate=0.001*0.1, decay=0.01) \n",
        "\n",
        "model.compile(loss=\"sparse_categorical_crossentropy\", optimizer=optimizer, metrics=[\"acc\"])\n",
        "model.summary()\n"
      ],
      "metadata": {
        "colab": {
          "base_uri": "https://localhost:8080/"
        },
        "id": "pT7VVvOygvXA",
        "outputId": "a31dd012-02d4-49b8-9465-fd8de89d89f3"
      },
      "execution_count": 24,
      "outputs": [
        {
          "output_type": "stream",
          "name": "stdout",
          "text": [
            "Model: \"sequential\"\n",
            "_________________________________________________________________\n",
            " Layer (type)                Output Shape              Param #   \n",
            "=================================================================\n",
            " conv1d (Conv1D)             (None, 22050, 32)         320       \n",
            "                                                                 \n",
            " conv1d_1 (Conv1D)           (None, 22050, 32)         9248      \n",
            "                                                                 \n",
            " max_pooling1d (MaxPooling1D  (None, 11025, 32)        0         \n",
            " )                                                               \n",
            "                                                                 \n",
            " conv1d_2 (Conv1D)           (None, 11025, 64)         18496     \n",
            "                                                                 \n",
            " conv1d_3 (Conv1D)           (None, 11025, 64)         36928     \n",
            "                                                                 \n",
            " max_pooling1d_1 (MaxPooling  (None, 5512, 64)         0         \n",
            " 1D)                                                             \n",
            "                                                                 \n",
            " conv1d_4 (Conv1D)           (None, 5512, 128)         73856     \n",
            "                                                                 \n",
            " conv1d_5 (Conv1D)           (None, 5512, 128)         147584    \n",
            "                                                                 \n",
            " conv1d_6 (Conv1D)           (None, 5512, 128)         147584    \n",
            "                                                                 \n",
            " max_pooling1d_2 (MaxPooling  (None, 2756, 128)        0         \n",
            " 1D)                                                             \n",
            "                                                                 \n",
            " conv1d_7 (Conv1D)           (None, 2756, 256)         295168    \n",
            "                                                                 \n",
            " conv1d_8 (Conv1D)           (None, 2756, 256)         590080    \n",
            "                                                                 \n",
            " conv1d_9 (Conv1D)           (None, 2756, 256)         590080    \n",
            "                                                                 \n",
            " batch_normalization (BatchN  (None, 2756, 256)        1024      \n",
            " ormalization)                                                   \n",
            "                                                                 \n",
            " max_pooling1d_3 (MaxPooling  (None, 1378, 256)        0         \n",
            " 1D)                                                             \n",
            "                                                                 \n",
            " dropout (Dropout)           (None, 1378, 256)         0         \n",
            "                                                                 \n",
            " flatten (Flatten)           (None, 352768)            0         \n",
            "                                                                 \n",
            " dense (Dense)               (None, 256)               90308864  \n",
            "                                                                 \n",
            " batch_normalization_1 (Batc  (None, 256)              1024      \n",
            " hNormalization)                                                 \n",
            "                                                                 \n",
            " dense_1 (Dense)             (None, 3)                 771       \n",
            "                                                                 \n",
            "=================================================================\n",
            "Total params: 92,221,027\n",
            "Trainable params: 92,220,003\n",
            "Non-trainable params: 1,024\n",
            "_________________________________________________________________\n"
          ]
        }
      ]
    },
    {
      "cell_type": "code",
      "source": [
        "# copy from https://gist.github.com/stared/dfb4dfaf6d9a8501cd1cc8b8cb806d2e\n",
        "\n",
        "# loss graph를 학습하면서 실시간으로 그리는 방법\n",
        "\n",
        "from IPython.display import clear_output\n",
        "from tensorflow.keras.callbacks import Callback\n",
        "\n",
        "class PlotLosses(Callback):\n",
        "\n",
        "  def on_train_begin(self, logs={}):\n",
        "    self.epochs = []\n",
        "    self.losses = []\n",
        "    self.val_losses = []\n",
        "    self.logs = []\n",
        "    self.fig = plt.figure()\n",
        "\n",
        "\n",
        "  def on_epoch_end(self, epoch, logs={}):\n",
        "\n",
        "    self.epochs.append(epoch)\n",
        "    self.losses.append(logs.get('loss'))\n",
        "    self.val_losses.append(logs.get('val_loss'))\n",
        "\n",
        "    clear_output(wait=True)\n",
        "    plt.plot(self.epochs, self.losses, label=\"loss\")\n",
        "    plt.plot(self.epochs, self.val_losses, label=\"val_loss\")\n",
        "    plt.legend()\n",
        "    plt.show();\n",
        "    print(\"epochs = \", self.epochs[-1], \"loss = \", self.losses[-1], \", val_loss = \", self.val_losses[-1])"
      ],
      "metadata": {
        "id": "xULPFYqYA4Pv"
      },
      "execution_count": 25,
      "outputs": []
    },
    {
      "cell_type": "code",
      "source": [
        "plot_losses = PlotLosses()\n",
        "history = model.fit(train_x, train_y, epochs=100, verbose=1, validation_split=0.1, batch_size=16,\n",
        "                    callbacks=[plot_losses])\n",
        "\n"
      ],
      "metadata": {
        "colab": {
          "base_uri": "https://localhost:8080/",
          "height": 302
        },
        "id": "ksVvwmtJjQ9S",
        "outputId": "4281b9ae-f48d-4d11-92fa-48afa9b1f576"
      },
      "execution_count": 26,
      "outputs": [
        {
          "output_type": "display_data",
          "data": {
            "text/plain": [
              "<Figure size 432x288 with 1 Axes>"
            ],
            "image/png": "[encoded data removed]"
          },
          "metadata": {
            "needs_background": "light"
          }
        },
        {
          "output_type": "stream",
          "name": "stdout",
          "text": [
            "epochs =  99 loss =  0.01940886303782463 , val_loss =  0.009097177535295486\n",
            "\b\b\b\b\b\b\b\b\b\b\b\b\b\b\b\b\b\b\b\b\b\b\b\b\b\b\b\b\b\b\b\b\b\b\b\b\b\b\b\b\b\b\b\b\b\b\b\b\b\b\b\b\b\b\b\b\b\b\b\b\b\b\b\b\b\b\b\b\b\b\b\b\b\b\b\b\b\r55/55 [==============================] - 13s 237ms/step - loss: 0.0194 - acc: 0.9908 - val_loss: 0.0091 - val_acc: 1.0000\n"
          ]
        }
      ]
    },
    {
      "cell_type": "code",
      "source": [
        "print(\"loss = \", history.history['loss'][-1], \", val_loss = \", history.history['val_loss'][-1], \n",
        "      \"acc = \", history.history['acc'][-1], \", val_acc = \", history.history['val_acc'][-1])\n",
        "\n",
        "# plt.plot(history.history['loss'])\n",
        "# plt.plot(history.history['acc'])\n",
        "# plt.plot(history.history['val_loss'])\n",
        "# plt.plot(history.history['val_acc'])\n",
        "# plt.show()"
      ],
      "metadata": {
        "colab": {
          "base_uri": "https://localhost:8080/"
        },
        "id": "mEvG8DJ1h9rD",
        "outputId": "a9a034e7-15ef-463b-d594-b76d08de0711"
      },
      "execution_count": 27,
      "outputs": [
        {
          "output_type": "stream",
          "name": "stdout",
          "text": [
            "loss =  0.01940886303782463 , val_loss =  0.009097177535295486 acc =  0.9908466935157776 , val_acc =  1.0\n"
          ]
        }
      ]
    },
    {
      "cell_type": "code",
      "source": [],
      "metadata": {
        "id": "28kmRGmx26P7"
      },
      "execution_count": 27,
      "outputs": []
    },
    {
      "cell_type": "code",
      "source": [
        "loss, acc = model.evaluate(test_x, test_y)\n",
        "print(\"loss=\", loss)\n",
        "print(\"acc=\", acc)\n",
        "\n",
        "\n",
        "y_ = model.predict(test_x)\n",
        "predicted = np.argmax(y_, axis=-1)\n",
        "plt.plot(test_y[:30], 'o')\n",
        "plt.plot(predicted[:30], '.')\n",
        "plt.show()\n"
      ],
      "metadata": {
        "id": "8lHjjByavmmo",
        "colab": {
          "base_uri": "https://localhost:8080/",
          "height": 320
        },
        "outputId": "7090dc90-8bca-4a5f-a912-9d2198689ab9"
      },
      "execution_count": 28,
      "outputs": [
        {
          "output_type": "stream",
          "name": "stdout",
          "text": [
            "8/8 [==============================] - 2s 167ms/step - loss: 0.2141 - acc: 0.9588\n",
            "loss= 0.2141350507736206\n",
            "acc= 0.9588477611541748\n"
          ]
        },
        {
          "output_type": "display_data",
          "data": {
            "text/plain": [
              "<Figure size 432x288 with 1 Axes>"
            ],
            "image/png": "[encoded data removed]"
          },
          "metadata": {
            "needs_background": "light"
          }
        }
      ]
    },
    {
      "cell_type": "code",
      "source": [
        "model.save('../gdrive/MyDrive/Audio/model/ganada_C.h5')"
      ],
      "metadata": {
        "id": "dFjSSA8-p1oV"
      },
      "execution_count": 29,
      "outputs": []
    }
  ]
}