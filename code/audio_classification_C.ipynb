{
  "nbformat": 4,
  "nbformat_minor": 0,
  "metadata": {
    "colab": {
      "provenance": [],
      "collapsed_sections": [],
      "machine_shape": "hm",
      "include_colab_link": true
    },
    "kernelspec": {
      "name": "python3",
      "display_name": "Python 3"
    },
    "language_info": {
      "name": "python"
    },
    "accelerator": "GPU",
    "gpuClass": "standard"
  },
  "cells": [
    {
      "cell_type": "markdown",
      "metadata": {
        "id": "view-in-github",
        "colab_type": "text"
      },
      "source": [
        "<a href=\"https://colab.research.google.com/github/bomij33/With-GANADA/blob/bomi/code/audio_classification_C.ipynb\" target=\"_parent\"><img src=\"https://colab.research.google.com/assets/colab-badge.svg\" alt=\"Open In Colab\"/></a>"
      ]
    },
    {
      "cell_type": "markdown",
      "source": [
        "# Tensorflow 버전 다운로드 2.8.0"
      ],
      "metadata": {
        "id": "PA6S3Wm8D4D4"
      }
    },
    {
      "cell_type": "code",
      "source": [
        "import tensorflow as tf\n",
        "print(tf.__version__)"
      ],
      "metadata": {
        "colab": {
          "base_uri": "https://localhost:8080/"
        },
        "id": "b6FxXRPnT828",
        "outputId": "f419cad7-dbd7-4804-9f44-858828cea07d"
      },
      "execution_count": null,
      "outputs": [
        {
          "output_type": "stream",
          "name": "stdout",
          "text": [
            "2.8.2\n"
          ]
        }
      ]
    },
    {
      "cell_type": "code",
      "source": [
        "!pip uninstall tensorflow"
      ],
      "metadata": {
        "colab": {
          "base_uri": "https://localhost:8080/"
        },
        "id": "KU2qUfwbxImC",
        "outputId": "c91c5048-981b-4f01-8d93-8a028eae3efa"
      },
      "execution_count": null,
      "outputs": [
        {
          "output_type": "stream",
          "name": "stdout",
          "text": [
            "Found existing installation: tensorflow 2.8.2+zzzcolab20220719082949\n",
            "Uninstalling tensorflow-2.8.2+zzzcolab20220719082949:\n",
            "  Would remove:\n",
            "    /usr/local/bin/estimator_ckpt_converter\n",
            "    /usr/local/bin/import_pb_to_tensorboard\n",
            "    /usr/local/bin/saved_model_cli\n",
            "    /usr/local/bin/tensorboard\n",
            "    /usr/local/bin/tf_upgrade_v2\n",
            "    /usr/local/bin/tflite_convert\n",
            "    /usr/local/bin/toco\n",
            "    /usr/local/bin/toco_from_protos\n",
            "    /usr/local/lib/python3.7/dist-packages/tensorflow-2.8.2+zzzcolab20220719082949.dist-info/*\n",
            "    /usr/local/lib/python3.7/dist-packages/tensorflow/*\n",
            "Proceed (y/n)? y\n",
            "  Successfully uninstalled tensorflow-2.8.2+zzzcolab20220719082949\n"
          ]
        }
      ]
    },
    {
      "cell_type": "code",
      "source": [
        "!pip install tensorflow==2.8.0"
      ],
      "metadata": {
        "colab": {
          "base_uri": "https://localhost:8080/",
          "height": 1000
        },
        "id": "2Tg_70W8xSMY",
        "outputId": "a41364c9-0bc7-463d-9f8a-6e4a1666cdf8"
      },
      "execution_count": null,
      "outputs": [
        {
          "output_type": "stream",
          "name": "stdout",
          "text": [
            "Looking in indexes: https://pypi.org/simple, https://us-python.pkg.dev/colab-wheels/public/simple/\n",
            "Collecting tensorflow==2.8.0\n",
            "  Downloading https://us-python.pkg.dev/colab-wheels/public/tensorflow/tensorflow-2.8.0%2Bzzzcolab20220506162203-cp37-cp37m-linux_x86_64.whl (668.3 MB)\n",
            "\u001b[K     |████████████████████████████████| 668.3 MB 17 kB/s \n",
            "\u001b[?25hRequirement already satisfied: typing-extensions>=3.6.6 in /usr/local/lib/python3.7/dist-packages (from tensorflow==2.8.0) (4.1.1)\n",
            "Requirement already satisfied: six>=1.12.0 in /usr/local/lib/python3.7/dist-packages (from tensorflow==2.8.0) (1.15.0)\n",
            "Requirement already satisfied: google-pasta>=0.1.1 in /usr/local/lib/python3.7/dist-packages (from tensorflow==2.8.0) (0.2.0)\n",
            "Requirement already satisfied: termcolor>=1.1.0 in /usr/local/lib/python3.7/dist-packages (from tensorflow==2.8.0) (1.1.0)\n",
            "Requirement already satisfied: keras<2.9,>=2.8.0rc0 in /usr/local/lib/python3.7/dist-packages (from tensorflow==2.8.0) (2.8.0)\n",
            "Requirement already satisfied: numpy>=1.20 in /usr/local/lib/python3.7/dist-packages (from tensorflow==2.8.0) (1.21.6)\n",
            "Requirement already satisfied: keras-preprocessing>=1.1.1 in /usr/local/lib/python3.7/dist-packages (from tensorflow==2.8.0) (1.1.2)\n",
            "Requirement already satisfied: setuptools in /usr/local/lib/python3.7/dist-packages (from tensorflow==2.8.0) (57.4.0)\n",
            "Requirement already satisfied: flatbuffers>=1.12 in /usr/local/lib/python3.7/dist-packages (from tensorflow==2.8.0) (2.0)\n",
            "Requirement already satisfied: wrapt>=1.11.0 in /usr/local/lib/python3.7/dist-packages (from tensorflow==2.8.0) (1.14.1)\n",
            "Requirement already satisfied: opt-einsum>=2.3.2 in /usr/local/lib/python3.7/dist-packages (from tensorflow==2.8.0) (3.3.0)\n",
            "Requirement already satisfied: gast>=0.2.1 in /usr/local/lib/python3.7/dist-packages (from tensorflow==2.8.0) (0.5.3)\n",
            "Requirement already satisfied: tensorflow-io-gcs-filesystem>=0.23.1 in /usr/local/lib/python3.7/dist-packages (from tensorflow==2.8.0) (0.26.0)\n",
            "Requirement already satisfied: tensorboard<2.9,>=2.8 in /usr/local/lib/python3.7/dist-packages (from tensorflow==2.8.0) (2.8.0)\n",
            "Requirement already satisfied: astunparse>=1.6.0 in /usr/local/lib/python3.7/dist-packages (from tensorflow==2.8.0) (1.6.3)\n",
            "Collecting tf-estimator-nightly==2.8.0.dev2021122109\n",
            "  Downloading tf_estimator_nightly-2.8.0.dev2021122109-py2.py3-none-any.whl (462 kB)\n",
            "\u001b[K     |████████████████████████████████| 462 kB 4.3 MB/s \n",
            "\u001b[?25hRequirement already satisfied: absl-py>=0.4.0 in /usr/local/lib/python3.7/dist-packages (from tensorflow==2.8.0) (1.2.0)\n",
            "Requirement already satisfied: grpcio<2.0,>=1.24.3 in /usr/local/lib/python3.7/dist-packages (from tensorflow==2.8.0) (1.47.0)\n",
            "Requirement already satisfied: h5py>=2.9.0 in /usr/local/lib/python3.7/dist-packages (from tensorflow==2.8.0) (3.1.0)\n",
            "Requirement already satisfied: protobuf>=3.9.2 in /usr/local/lib/python3.7/dist-packages (from tensorflow==2.8.0) (3.17.3)\n",
            "Requirement already satisfied: libclang>=9.0.1 in /usr/local/lib/python3.7/dist-packages (from tensorflow==2.8.0) (14.0.6)\n",
            "Requirement already satisfied: wheel<1.0,>=0.23.0 in /usr/local/lib/python3.7/dist-packages (from astunparse>=1.6.0->tensorflow==2.8.0) (0.37.1)\n",
            "Requirement already satisfied: cached-property in /usr/local/lib/python3.7/dist-packages (from h5py>=2.9.0->tensorflow==2.8.0) (1.5.2)\n",
            "Requirement already satisfied: google-auth-oauthlib<0.5,>=0.4.1 in /usr/local/lib/python3.7/dist-packages (from tensorboard<2.9,>=2.8->tensorflow==2.8.0) (0.4.6)\n",
            "Requirement already satisfied: tensorboard-plugin-wit>=1.6.0 in /usr/local/lib/python3.7/dist-packages (from tensorboard<2.9,>=2.8->tensorflow==2.8.0) (1.8.1)\n",
            "Requirement already satisfied: requests<3,>=2.21.0 in /usr/local/lib/python3.7/dist-packages (from tensorboard<2.9,>=2.8->tensorflow==2.8.0) (2.23.0)\n",
            "Requirement already satisfied: tensorboard-data-server<0.7.0,>=0.6.0 in /usr/local/lib/python3.7/dist-packages (from tensorboard<2.9,>=2.8->tensorflow==2.8.0) (0.6.1)\n",
            "Requirement already satisfied: markdown>=2.6.8 in /usr/local/lib/python3.7/dist-packages (from tensorboard<2.9,>=2.8->tensorflow==2.8.0) (3.4.1)\n",
            "Requirement already satisfied: google-auth<3,>=1.6.3 in /usr/local/lib/python3.7/dist-packages (from tensorboard<2.9,>=2.8->tensorflow==2.8.0) (1.35.0)\n",
            "Requirement already satisfied: werkzeug>=0.11.15 in /usr/local/lib/python3.7/dist-packages (from tensorboard<2.9,>=2.8->tensorflow==2.8.0) (1.0.1)\n",
            "Requirement already satisfied: rsa<5,>=3.1.4 in /usr/local/lib/python3.7/dist-packages (from google-auth<3,>=1.6.3->tensorboard<2.9,>=2.8->tensorflow==2.8.0) (4.9)\n",
            "Requirement already satisfied: pyasn1-modules>=0.2.1 in /usr/local/lib/python3.7/dist-packages (from google-auth<3,>=1.6.3->tensorboard<2.9,>=2.8->tensorflow==2.8.0) (0.2.8)\n",
            "Requirement already satisfied: cachetools<5.0,>=2.0.0 in /usr/local/lib/python3.7/dist-packages (from google-auth<3,>=1.6.3->tensorboard<2.9,>=2.8->tensorflow==2.8.0) (4.2.4)\n",
            "Requirement already satisfied: requests-oauthlib>=0.7.0 in /usr/local/lib/python3.7/dist-packages (from google-auth-oauthlib<0.5,>=0.4.1->tensorboard<2.9,>=2.8->tensorflow==2.8.0) (1.3.1)\n",
            "Requirement already satisfied: importlib-metadata>=4.4 in /usr/local/lib/python3.7/dist-packages (from markdown>=2.6.8->tensorboard<2.9,>=2.8->tensorflow==2.8.0) (4.12.0)\n",
            "Requirement already satisfied: zipp>=0.5 in /usr/local/lib/python3.7/dist-packages (from importlib-metadata>=4.4->markdown>=2.6.8->tensorboard<2.9,>=2.8->tensorflow==2.8.0) (3.8.1)\n",
            "Requirement already satisfied: pyasn1<0.5.0,>=0.4.6 in /usr/local/lib/python3.7/dist-packages (from pyasn1-modules>=0.2.1->google-auth<3,>=1.6.3->tensorboard<2.9,>=2.8->tensorflow==2.8.0) (0.4.8)\n",
            "Requirement already satisfied: urllib3!=1.25.0,!=1.25.1,<1.26,>=1.21.1 in /usr/local/lib/python3.7/dist-packages (from requests<3,>=2.21.0->tensorboard<2.9,>=2.8->tensorflow==2.8.0) (1.24.3)\n",
            "Requirement already satisfied: certifi>=2017.4.17 in /usr/local/lib/python3.7/dist-packages (from requests<3,>=2.21.0->tensorboard<2.9,>=2.8->tensorflow==2.8.0) (2022.6.15)\n",
            "Requirement already satisfied: chardet<4,>=3.0.2 in /usr/local/lib/python3.7/dist-packages (from requests<3,>=2.21.0->tensorboard<2.9,>=2.8->tensorflow==2.8.0) (3.0.4)\n",
            "Requirement already satisfied: idna<3,>=2.5 in /usr/local/lib/python3.7/dist-packages (from requests<3,>=2.21.0->tensorboard<2.9,>=2.8->tensorflow==2.8.0) (2.10)\n",
            "Requirement already satisfied: oauthlib>=3.0.0 in /usr/local/lib/python3.7/dist-packages (from requests-oauthlib>=0.7.0->google-auth-oauthlib<0.5,>=0.4.1->tensorboard<2.9,>=2.8->tensorflow==2.8.0) (3.2.0)\n",
            "Installing collected packages: tf-estimator-nightly, tensorflow\n",
            "Successfully installed tensorflow-2.8.0+zzzcolab20220506162203 tf-estimator-nightly-2.8.0.dev2021122109\n"
          ]
        },
        {
          "output_type": "display_data",
          "data": {
            "application/vnd.colab-display-data+json": {
              "pip_warning": {
                "packages": [
                  "tensorflow"
                ]
              }
            }
          },
          "metadata": {}
        }
      ]
    },
    {
      "cell_type": "code",
      "source": [
        "# restart 후 확인\n",
        "import tensorflow as tf\n",
        "print(tf.__version__)"
      ],
      "metadata": {
        "colab": {
          "base_uri": "https://localhost:8080/"
        },
        "id": "h7DPpjeyxifv",
        "outputId": "d71357e6-2df1-4f03-f99f-7928b7778a78"
      },
      "execution_count": null,
      "outputs": [
        {
          "output_type": "stream",
          "name": "stdout",
          "text": [
            "2.8.2\n"
          ]
        }
      ]
    },
    {
      "cell_type": "markdown",
      "source": [
        "# 데이터 로딩"
      ],
      "metadata": {
        "id": "633sPckREDYg"
      }
    },
    {
      "cell_type": "code",
      "source": [
        "from google.colab import drive\n",
        "drive.mount('/gdrive')"
      ],
      "metadata": {
        "id": "KxyFkVYcdqlJ",
        "colab": {
          "base_uri": "https://localhost:8080/"
        },
        "outputId": "4a432c76-f159-4c8d-dc50-e9f66f9e7616"
      },
      "execution_count": null,
      "outputs": [
        {
          "output_type": "stream",
          "name": "stdout",
          "text": [
            "Mounted at /gdrive\n"
          ]
        }
      ]
    },
    {
      "cell_type": "code",
      "source": [
        "import pandas as pd\n",
        "import numpy as np\n",
        "import matplotlib.pyplot as plt"
      ],
      "metadata": {
        "id": "mG4zvhT7ES63"
      },
      "execution_count": null,
      "outputs": []
    },
    {
      "cell_type": "code",
      "source": [
        "import IPython\n",
        "import librosa\n",
        "SAMPLING_RATE = 22050"
      ],
      "metadata": {
        "id": "nH0sWXDSyeSc"
      },
      "execution_count": null,
      "outputs": []
    },
    {
      "cell_type": "code",
      "source": [
        "import glob\n",
        "\n",
        "file_list = glob.glob(\"/gdrive/MyDrive/Audio/C/*.wav\")  # 0 : 부모, 1 : 까치, 2 : 의자 \n",
        "print(len(file_list))\n",
        "print(file_list[:3]) "
      ],
      "metadata": {
        "colab": {
          "base_uri": "https://localhost:8080/"
        },
        "id": "8HVbzOwCGAUQ",
        "outputId": "ba1d0e3e-9691-4f52-b0b6-ca51206ea895"
      },
      "execution_count": null,
      "outputs": [
        {
          "output_type": "stream",
          "name": "stdout",
          "text": [
            "1226\n",
            "['/gdrive/MyDrive/Audio/C/01_227.wav', '/gdrive/MyDrive/Audio/C/01_228.wav', '/gdrive/MyDrive/Audio/C/01_229.wav']\n"
          ]
        }
      ]
    },
    {
      "cell_type": "code",
      "source": [
        "def load_wav(file_name):\n",
        "    data, _ = librosa.load(file_name, sr=SAMPLING_RATE)\n",
        "    return data\n",
        "\n",
        "raw_x = [] # data\n",
        "raw_y = [] # label\n",
        "for file_name in file_list:\n",
        "    label = int(file_name.split(\"/\")[-1].split(\"_\")[0])  \n",
        "\n",
        "    print(file_name, label)\n",
        "    data = load_wav(file_name)\n",
        "    raw_x.append(data)\n",
        "    raw_y.append(label)\n"
      ],
      "metadata": {
        "colab": {
          "base_uri": "https://localhost:8080/"
        },
        "id": "Aumki802EVg5",
        "outputId": "96c1f4e4-953d-4e09-ce06-fa46c3753a31"
      },
      "execution_count": null,
      "outputs": [
        {
          "output_type": "stream",
          "name": "stdout",
          "text": [
            "/gdrive/MyDrive/Audio/C/01_227.wav 1\n",
            "/gdrive/MyDrive/Audio/C/01_228.wav 1\n",
            "/gdrive/MyDrive/Audio/C/01_229.wav 1\n",
            "/gdrive/MyDrive/Audio/C/01_230.wav 1\n",
            "/gdrive/MyDrive/Audio/C/01_231.wav 1\n",
            "/gdrive/MyDrive/Audio/C/01_232.wav 1\n",
            "/gdrive/MyDrive/Audio/C/01_233.wav 1\n",
            "/gdrive/MyDrive/Audio/C/01_234.wav 1\n",
            "/gdrive/MyDrive/Audio/C/01_235.wav 1\n",
            "/gdrive/MyDrive/Audio/C/01_236.wav 1\n",
            "/gdrive/MyDrive/Audio/C/01_237.wav 1\n",
            "/gdrive/MyDrive/Audio/C/01_238.wav 1\n",
            "/gdrive/MyDrive/Audio/C/01_239.wav 1\n",
            "/gdrive/MyDrive/Audio/C/01_240.wav 1\n",
            "/gdrive/MyDrive/Audio/C/01_241.wav 1\n",
            "/gdrive/MyDrive/Audio/C/01_242.wav 1\n",
            "/gdrive/MyDrive/Audio/C/01_243.wav 1\n",
            "/gdrive/MyDrive/Audio/C/01_244.wav 1\n",
            "/gdrive/MyDrive/Audio/C/01_245.wav 1\n",
            "/gdrive/MyDrive/Audio/C/01_246.wav 1\n",
            "/gdrive/MyDrive/Audio/C/01_247.wav 1\n",
            "/gdrive/MyDrive/Audio/C/01_248.wav 1\n",
            "/gdrive/MyDrive/Audio/C/01_249.wav 1\n",
            "/gdrive/MyDrive/Audio/C/01_250.wav 1\n",
            "/gdrive/MyDrive/Audio/C/01_251.wav 1\n",
            "/gdrive/MyDrive/Audio/C/01_253.wav 1\n",
            "/gdrive/MyDrive/Audio/C/01_252.wav 1\n",
            "/gdrive/MyDrive/Audio/C/01_254.wav 1\n",
            "/gdrive/MyDrive/Audio/C/01_255.wav 1\n",
            "/gdrive/MyDrive/Audio/C/01_256.wav 1\n",
            "/gdrive/MyDrive/Audio/C/01_257.wav 1\n",
            "/gdrive/MyDrive/Audio/C/01_258.wav 1\n",
            "/gdrive/MyDrive/Audio/C/01_259.wav 1\n",
            "/gdrive/MyDrive/Audio/C/01_260.wav 1\n",
            "/gdrive/MyDrive/Audio/C/01_261.wav 1\n",
            "/gdrive/MyDrive/Audio/C/01_262.wav 1\n",
            "/gdrive/MyDrive/Audio/C/01_263.wav 1\n",
            "/gdrive/MyDrive/Audio/C/01_264.wav 1\n",
            "/gdrive/MyDrive/Audio/C/01_265.wav 1\n",
            "/gdrive/MyDrive/Audio/C/01_266.wav 1\n",
            "/gdrive/MyDrive/Audio/C/01_267.wav 1\n",
            "/gdrive/MyDrive/Audio/C/01_268.wav 1\n",
            "/gdrive/MyDrive/Audio/C/01_269.wav 1\n",
            "/gdrive/MyDrive/Audio/C/01_270.wav 1\n",
            "/gdrive/MyDrive/Audio/C/01_271.wav 1\n",
            "/gdrive/MyDrive/Audio/C/01_272.wav 1\n",
            "/gdrive/MyDrive/Audio/C/01_273.wav 1\n",
            "/gdrive/MyDrive/Audio/C/01_274.wav 1\n",
            "/gdrive/MyDrive/Audio/C/01_275.wav 1\n",
            "/gdrive/MyDrive/Audio/C/01_276.wav 1\n",
            "/gdrive/MyDrive/Audio/C/01_277.wav 1\n",
            "/gdrive/MyDrive/Audio/C/01_278.wav 1\n",
            "/gdrive/MyDrive/Audio/C/01_279.wav 1\n",
            "/gdrive/MyDrive/Audio/C/01_280.wav 1\n",
            "/gdrive/MyDrive/Audio/C/01_281.wav 1\n",
            "/gdrive/MyDrive/Audio/C/01_282.wav 1\n",
            "/gdrive/MyDrive/Audio/C/01_283.wav 1\n",
            "/gdrive/MyDrive/Audio/C/01_284.wav 1\n",
            "/gdrive/MyDrive/Audio/C/01_285.wav 1\n",
            "/gdrive/MyDrive/Audio/C/01_286.wav 1\n",
            "/gdrive/MyDrive/Audio/C/01_287.wav 1\n",
            "/gdrive/MyDrive/Audio/C/01_289.wav 1\n",
            "/gdrive/MyDrive/Audio/C/01_288.wav 1\n",
            "/gdrive/MyDrive/Audio/C/01_290.wav 1\n",
            "/gdrive/MyDrive/Audio/C/01_291.wav 1\n",
            "/gdrive/MyDrive/Audio/C/01_292.wav 1\n",
            "/gdrive/MyDrive/Audio/C/01_293.wav 1\n",
            "/gdrive/MyDrive/Audio/C/01_294.wav 1\n",
            "/gdrive/MyDrive/Audio/C/01_295.wav 1\n",
            "/gdrive/MyDrive/Audio/C/01_296.wav 1\n",
            "/gdrive/MyDrive/Audio/C/01_297.wav 1\n",
            "/gdrive/MyDrive/Audio/C/01_298.wav 1\n",
            "/gdrive/MyDrive/Audio/C/01_299.wav 1\n",
            "/gdrive/MyDrive/Audio/C/01_300.wav 1\n",
            "/gdrive/MyDrive/Audio/C/01_301.wav 1\n",
            "/gdrive/MyDrive/Audio/C/01_302.wav 1\n",
            "/gdrive/MyDrive/Audio/C/01_303.wav 1\n",
            "/gdrive/MyDrive/Audio/C/01_304.wav 1\n",
            "/gdrive/MyDrive/Audio/C/01_305.wav 1\n",
            "/gdrive/MyDrive/Audio/C/01_306.wav 1\n",
            "/gdrive/MyDrive/Audio/C/01_307.wav 1\n",
            "/gdrive/MyDrive/Audio/C/01_308.wav 1\n",
            "/gdrive/MyDrive/Audio/C/01_309.wav 1\n",
            "/gdrive/MyDrive/Audio/C/01_310.wav 1\n",
            "/gdrive/MyDrive/Audio/C/01_311.wav 1\n",
            "/gdrive/MyDrive/Audio/C/01_312.wav 1\n",
            "/gdrive/MyDrive/Audio/C/01_313.wav 1\n",
            "/gdrive/MyDrive/Audio/C/01_314.wav 1\n",
            "/gdrive/MyDrive/Audio/C/01_315.wav 1\n",
            "/gdrive/MyDrive/Audio/C/01_316.wav 1\n",
            "/gdrive/MyDrive/Audio/C/01_317.wav 1\n",
            "/gdrive/MyDrive/Audio/C/01_318.wav 1\n",
            "/gdrive/MyDrive/Audio/C/01_319.wav 1\n",
            "/gdrive/MyDrive/Audio/C/01_320.wav 1\n",
            "/gdrive/MyDrive/Audio/C/01_321.wav 1\n",
            "/gdrive/MyDrive/Audio/C/01_322.wav 1\n",
            "/gdrive/MyDrive/Audio/C/01_323.wav 1\n",
            "/gdrive/MyDrive/Audio/C/01_324.wav 1\n",
            "/gdrive/MyDrive/Audio/C/01_325.wav 1\n",
            "/gdrive/MyDrive/Audio/C/01_326.wav 1\n",
            "/gdrive/MyDrive/Audio/C/01_327.wav 1\n",
            "/gdrive/MyDrive/Audio/C/01_328.wav 1\n",
            "/gdrive/MyDrive/Audio/C/01_329.wav 1\n",
            "/gdrive/MyDrive/Audio/C/01_330.wav 1\n",
            "/gdrive/MyDrive/Audio/C/01_331.wav 1\n",
            "/gdrive/MyDrive/Audio/C/01_332.wav 1\n",
            "/gdrive/MyDrive/Audio/C/01_333.wav 1\n",
            "/gdrive/MyDrive/Audio/C/01_334.wav 1\n",
            "/gdrive/MyDrive/Audio/C/01_335.wav 1\n",
            "/gdrive/MyDrive/Audio/C/01_336.wav 1\n",
            "/gdrive/MyDrive/Audio/C/01_337.wav 1\n",
            "/gdrive/MyDrive/Audio/C/01_338.wav 1\n",
            "/gdrive/MyDrive/Audio/C/01_339.wav 1\n",
            "/gdrive/MyDrive/Audio/C/01_340.wav 1\n",
            "/gdrive/MyDrive/Audio/C/01_341.wav 1\n",
            "/gdrive/MyDrive/Audio/C/01_342.wav 1\n",
            "/gdrive/MyDrive/Audio/C/01_343.wav 1\n",
            "/gdrive/MyDrive/Audio/C/01_344.wav 1\n",
            "/gdrive/MyDrive/Audio/C/01_345.wav 1\n",
            "/gdrive/MyDrive/Audio/C/01_346.wav 1\n",
            "/gdrive/MyDrive/Audio/C/01_347.wav 1\n",
            "/gdrive/MyDrive/Audio/C/01_348.wav 1\n",
            "/gdrive/MyDrive/Audio/C/01_349.wav 1\n",
            "/gdrive/MyDrive/Audio/C/01_350.wav 1\n",
            "/gdrive/MyDrive/Audio/C/01_351.wav 1\n",
            "/gdrive/MyDrive/Audio/C/01_352.wav 1\n",
            "/gdrive/MyDrive/Audio/C/01_353.wav 1\n",
            "/gdrive/MyDrive/Audio/C/01_354.wav 1\n",
            "/gdrive/MyDrive/Audio/C/01_355.wav 1\n",
            "/gdrive/MyDrive/Audio/C/01_356.wav 1\n",
            "/gdrive/MyDrive/Audio/C/01_357.wav 1\n",
            "/gdrive/MyDrive/Audio/C/01_358.wav 1\n",
            "/gdrive/MyDrive/Audio/C/01_359.wav 1\n",
            "/gdrive/MyDrive/Audio/C/01_360.wav 1\n",
            "/gdrive/MyDrive/Audio/C/01_361.wav 1\n",
            "/gdrive/MyDrive/Audio/C/01_362.wav 1\n",
            "/gdrive/MyDrive/Audio/C/01_363.wav 1\n",
            "/gdrive/MyDrive/Audio/C/01_364.wav 1\n",
            "/gdrive/MyDrive/Audio/C/01_365.wav 1\n",
            "/gdrive/MyDrive/Audio/C/01_366.wav 1\n",
            "/gdrive/MyDrive/Audio/C/01_367.wav 1\n",
            "/gdrive/MyDrive/Audio/C/01_368.wav 1\n",
            "/gdrive/MyDrive/Audio/C/01_369.wav 1\n",
            "/gdrive/MyDrive/Audio/C/01_370.wav 1\n",
            "/gdrive/MyDrive/Audio/C/01_371.wav 1\n",
            "/gdrive/MyDrive/Audio/C/01_372.wav 1\n",
            "/gdrive/MyDrive/Audio/C/01_373.wav 1\n",
            "/gdrive/MyDrive/Audio/C/01_374.wav 1\n",
            "/gdrive/MyDrive/Audio/C/01_375.wav 1\n",
            "/gdrive/MyDrive/Audio/C/01_376.wav 1\n",
            "/gdrive/MyDrive/Audio/C/01_377.wav 1\n",
            "/gdrive/MyDrive/Audio/C/01_378.wav 1\n",
            "/gdrive/MyDrive/Audio/C/01_379.wav 1\n",
            "/gdrive/MyDrive/Audio/C/01_380.wav 1\n",
            "/gdrive/MyDrive/Audio/C/01_381.wav 1\n",
            "/gdrive/MyDrive/Audio/C/01_382.wav 1\n",
            "/gdrive/MyDrive/Audio/C/01_383.wav 1\n",
            "/gdrive/MyDrive/Audio/C/01_384.wav 1\n",
            "/gdrive/MyDrive/Audio/C/01_385.wav 1\n",
            "/gdrive/MyDrive/Audio/C/01_386.wav 1\n",
            "/gdrive/MyDrive/Audio/C/01_387.wav 1\n",
            "/gdrive/MyDrive/Audio/C/01_388.wav 1\n",
            "/gdrive/MyDrive/Audio/C/01_389.wav 1\n",
            "/gdrive/MyDrive/Audio/C/01_390.wav 1\n",
            "/gdrive/MyDrive/Audio/C/01_391.wav 1\n",
            "/gdrive/MyDrive/Audio/C/01_392.wav 1\n",
            "/gdrive/MyDrive/Audio/C/01_393.wav 1\n",
            "/gdrive/MyDrive/Audio/C/01_394.wav 1\n",
            "/gdrive/MyDrive/Audio/C/01_395.wav 1\n",
            "/gdrive/MyDrive/Audio/C/01_397.wav 1\n",
            "/gdrive/MyDrive/Audio/C/01_396.wav 1\n",
            "/gdrive/MyDrive/Audio/C/01_398.wav 1\n",
            "/gdrive/MyDrive/Audio/C/01_399.wav 1\n",
            "/gdrive/MyDrive/Audio/C/01_400.wav 1\n",
            "/gdrive/MyDrive/Audio/C/01_401.wav 1\n",
            "/gdrive/MyDrive/Audio/C/01_402.wav 1\n",
            "/gdrive/MyDrive/Audio/C/01_403.wav 1\n",
            "/gdrive/MyDrive/Audio/C/01_404.wav 1\n",
            "/gdrive/MyDrive/Audio/C/01_405.wav 1\n",
            "/gdrive/MyDrive/Audio/C/01_406.wav 1\n",
            "/gdrive/MyDrive/Audio/C/01_407.wav 1\n",
            "/gdrive/MyDrive/Audio/C/01_408.wav 1\n",
            "/gdrive/MyDrive/Audio/C/01_409.wav 1\n",
            "/gdrive/MyDrive/Audio/C/02_001.wav 2\n",
            "/gdrive/MyDrive/Audio/C/02_002.wav 2\n",
            "/gdrive/MyDrive/Audio/C/02_003.wav 2\n",
            "/gdrive/MyDrive/Audio/C/02_004.wav 2\n",
            "/gdrive/MyDrive/Audio/C/02_005.wav 2\n",
            "/gdrive/MyDrive/Audio/C/02_006.wav 2\n",
            "/gdrive/MyDrive/Audio/C/02_007.wav 2\n",
            "/gdrive/MyDrive/Audio/C/02_008.wav 2\n",
            "/gdrive/MyDrive/Audio/C/02_009.wav 2\n",
            "/gdrive/MyDrive/Audio/C/02_010.wav 2\n",
            "/gdrive/MyDrive/Audio/C/02_011.wav 2\n",
            "/gdrive/MyDrive/Audio/C/02_012.wav 2\n",
            "/gdrive/MyDrive/Audio/C/02_013.wav 2\n",
            "/gdrive/MyDrive/Audio/C/02_014.wav 2\n",
            "/gdrive/MyDrive/Audio/C/02_015.wav 2\n",
            "/gdrive/MyDrive/Audio/C/02_016.wav 2\n",
            "/gdrive/MyDrive/Audio/C/02_017.wav 2\n",
            "/gdrive/MyDrive/Audio/C/02_018.wav 2\n",
            "/gdrive/MyDrive/Audio/C/02_019.wav 2\n",
            "/gdrive/MyDrive/Audio/C/02_020.wav 2\n",
            "/gdrive/MyDrive/Audio/C/02_021.wav 2\n",
            "/gdrive/MyDrive/Audio/C/02_022.wav 2\n",
            "/gdrive/MyDrive/Audio/C/02_023.wav 2\n",
            "/gdrive/MyDrive/Audio/C/02_024.wav 2\n",
            "/gdrive/MyDrive/Audio/C/02_025.wav 2\n",
            "/gdrive/MyDrive/Audio/C/02_026.wav 2\n",
            "/gdrive/MyDrive/Audio/C/02_027.wav 2\n",
            "/gdrive/MyDrive/Audio/C/02_028.wav 2\n",
            "/gdrive/MyDrive/Audio/C/02_029.wav 2\n",
            "/gdrive/MyDrive/Audio/C/02_030.wav 2\n",
            "/gdrive/MyDrive/Audio/C/02_031.wav 2\n",
            "/gdrive/MyDrive/Audio/C/02_032.wav 2\n",
            "/gdrive/MyDrive/Audio/C/02_033.wav 2\n",
            "/gdrive/MyDrive/Audio/C/02_034.wav 2\n",
            "/gdrive/MyDrive/Audio/C/02_035.wav 2\n",
            "/gdrive/MyDrive/Audio/C/02_036.wav 2\n",
            "/gdrive/MyDrive/Audio/C/02_037.wav 2\n",
            "/gdrive/MyDrive/Audio/C/02_038.wav 2\n",
            "/gdrive/MyDrive/Audio/C/02_039.wav 2\n",
            "/gdrive/MyDrive/Audio/C/02_040.wav 2\n",
            "/gdrive/MyDrive/Audio/C/02_041.wav 2\n",
            "/gdrive/MyDrive/Audio/C/02_042.wav 2\n",
            "/gdrive/MyDrive/Audio/C/02_043.wav 2\n",
            "/gdrive/MyDrive/Audio/C/02_044.wav 2\n",
            "/gdrive/MyDrive/Audio/C/02_045.wav 2\n",
            "/gdrive/MyDrive/Audio/C/02_046.wav 2\n",
            "/gdrive/MyDrive/Audio/C/02_047.wav 2\n",
            "/gdrive/MyDrive/Audio/C/02_048.wav 2\n",
            "/gdrive/MyDrive/Audio/C/02_049.wav 2\n",
            "/gdrive/MyDrive/Audio/C/02_050.wav 2\n",
            "/gdrive/MyDrive/Audio/C/02_051.wav 2\n",
            "/gdrive/MyDrive/Audio/C/02_052.wav 2\n",
            "/gdrive/MyDrive/Audio/C/02_053.wav 2\n",
            "/gdrive/MyDrive/Audio/C/02_054.wav 2\n",
            "/gdrive/MyDrive/Audio/C/02_055.wav 2\n",
            "/gdrive/MyDrive/Audio/C/02_056.wav 2\n",
            "/gdrive/MyDrive/Audio/C/02_057.wav 2\n",
            "/gdrive/MyDrive/Audio/C/02_058.wav 2\n",
            "/gdrive/MyDrive/Audio/C/02_059.wav 2\n",
            "/gdrive/MyDrive/Audio/C/02_060.wav 2\n",
            "/gdrive/MyDrive/Audio/C/02_061.wav 2\n",
            "/gdrive/MyDrive/Audio/C/02_062.wav 2\n",
            "/gdrive/MyDrive/Audio/C/02_063.wav 2\n",
            "/gdrive/MyDrive/Audio/C/02_064.wav 2\n",
            "/gdrive/MyDrive/Audio/C/02_065.wav 2\n",
            "/gdrive/MyDrive/Audio/C/02_066.wav 2\n",
            "/gdrive/MyDrive/Audio/C/02_067.wav 2\n",
            "/gdrive/MyDrive/Audio/C/02_068.wav 2\n",
            "/gdrive/MyDrive/Audio/C/02_069.wav 2\n",
            "/gdrive/MyDrive/Audio/C/02_070.wav 2\n",
            "/gdrive/MyDrive/Audio/C/02_071.wav 2\n",
            "/gdrive/MyDrive/Audio/C/02_072.wav 2\n",
            "/gdrive/MyDrive/Audio/C/02_073.wav 2\n",
            "/gdrive/MyDrive/Audio/C/02_074.wav 2\n",
            "/gdrive/MyDrive/Audio/C/02_075.wav 2\n",
            "/gdrive/MyDrive/Audio/C/02_076.wav 2\n",
            "/gdrive/MyDrive/Audio/C/02_077.wav 2\n",
            "/gdrive/MyDrive/Audio/C/02_078.wav 2\n",
            "/gdrive/MyDrive/Audio/C/02_079.wav 2\n",
            "/gdrive/MyDrive/Audio/C/02_080.wav 2\n",
            "/gdrive/MyDrive/Audio/C/02_081.wav 2\n",
            "/gdrive/MyDrive/Audio/C/02_082.wav 2\n",
            "/gdrive/MyDrive/Audio/C/02_083.wav 2\n",
            "/gdrive/MyDrive/Audio/C/02_084.wav 2\n",
            "/gdrive/MyDrive/Audio/C/02_085.wav 2\n",
            "/gdrive/MyDrive/Audio/C/02_086.wav 2\n",
            "/gdrive/MyDrive/Audio/C/02_087.wav 2\n",
            "/gdrive/MyDrive/Audio/C/02_088.wav 2\n",
            "/gdrive/MyDrive/Audio/C/02_089.wav 2\n",
            "/gdrive/MyDrive/Audio/C/02_090.wav 2\n",
            "/gdrive/MyDrive/Audio/C/02_091.wav 2\n",
            "/gdrive/MyDrive/Audio/C/02_092.wav 2\n",
            "/gdrive/MyDrive/Audio/C/02_093.wav 2\n",
            "/gdrive/MyDrive/Audio/C/02_094.wav 2\n",
            "/gdrive/MyDrive/Audio/C/02_095.wav 2\n",
            "/gdrive/MyDrive/Audio/C/02_096.wav 2\n",
            "/gdrive/MyDrive/Audio/C/02_097.wav 2\n",
            "/gdrive/MyDrive/Audio/C/02_098.wav 2\n",
            "/gdrive/MyDrive/Audio/C/02_099.wav 2\n",
            "/gdrive/MyDrive/Audio/C/02_100.wav 2\n",
            "/gdrive/MyDrive/Audio/C/02_101.wav 2\n",
            "/gdrive/MyDrive/Audio/C/02_102.wav 2\n",
            "/gdrive/MyDrive/Audio/C/02_103.wav 2\n",
            "/gdrive/MyDrive/Audio/C/02_104.wav 2\n",
            "/gdrive/MyDrive/Audio/C/02_105.wav 2\n",
            "/gdrive/MyDrive/Audio/C/02_106.wav 2\n",
            "/gdrive/MyDrive/Audio/C/02_107.wav 2\n",
            "/gdrive/MyDrive/Audio/C/02_108.wav 2\n",
            "/gdrive/MyDrive/Audio/C/02_109.wav 2\n",
            "/gdrive/MyDrive/Audio/C/02_110.wav 2\n",
            "/gdrive/MyDrive/Audio/C/02_111.wav 2\n",
            "/gdrive/MyDrive/Audio/C/02_112.wav 2\n",
            "/gdrive/MyDrive/Audio/C/02_113.wav 2\n",
            "/gdrive/MyDrive/Audio/C/02_114.wav 2\n",
            "/gdrive/MyDrive/Audio/C/02_115.wav 2\n",
            "/gdrive/MyDrive/Audio/C/02_116.wav 2\n",
            "/gdrive/MyDrive/Audio/C/02_117.wav 2\n",
            "/gdrive/MyDrive/Audio/C/02_118.wav 2\n",
            "/gdrive/MyDrive/Audio/C/02_119.wav 2\n",
            "/gdrive/MyDrive/Audio/C/02_120.wav 2\n",
            "/gdrive/MyDrive/Audio/C/02_121.wav 2\n",
            "/gdrive/MyDrive/Audio/C/02_122.wav 2\n",
            "/gdrive/MyDrive/Audio/C/02_123.wav 2\n",
            "/gdrive/MyDrive/Audio/C/02_124.wav 2\n",
            "/gdrive/MyDrive/Audio/C/02_125.wav 2\n",
            "/gdrive/MyDrive/Audio/C/02_126.wav 2\n",
            "/gdrive/MyDrive/Audio/C/02_127.wav 2\n",
            "/gdrive/MyDrive/Audio/C/02_128.wav 2\n",
            "/gdrive/MyDrive/Audio/C/02_129.wav 2\n",
            "/gdrive/MyDrive/Audio/C/02_130.wav 2\n",
            "/gdrive/MyDrive/Audio/C/02_131.wav 2\n",
            "/gdrive/MyDrive/Audio/C/02_132.wav 2\n",
            "/gdrive/MyDrive/Audio/C/02_133.wav 2\n",
            "/gdrive/MyDrive/Audio/C/02_134.wav 2\n",
            "/gdrive/MyDrive/Audio/C/02_135.wav 2\n",
            "/gdrive/MyDrive/Audio/C/02_136.wav 2\n",
            "/gdrive/MyDrive/Audio/C/02_137.wav 2\n",
            "/gdrive/MyDrive/Audio/C/02_138.wav 2\n",
            "/gdrive/MyDrive/Audio/C/02_139.wav 2\n",
            "/gdrive/MyDrive/Audio/C/02_140.wav 2\n",
            "/gdrive/MyDrive/Audio/C/02_141.wav 2\n",
            "/gdrive/MyDrive/Audio/C/02_142.wav 2\n",
            "/gdrive/MyDrive/Audio/C/02_143.wav 2\n",
            "/gdrive/MyDrive/Audio/C/02_144.wav 2\n",
            "/gdrive/MyDrive/Audio/C/02_145.wav 2\n",
            "/gdrive/MyDrive/Audio/C/02_146.wav 2\n",
            "/gdrive/MyDrive/Audio/C/02_147.wav 2\n",
            "/gdrive/MyDrive/Audio/C/02_148.wav 2\n",
            "/gdrive/MyDrive/Audio/C/02_149.wav 2\n",
            "/gdrive/MyDrive/Audio/C/02_150.wav 2\n",
            "/gdrive/MyDrive/Audio/C/02_151.wav 2\n",
            "/gdrive/MyDrive/Audio/C/02_152.wav 2\n",
            "/gdrive/MyDrive/Audio/C/02_153.wav 2\n",
            "/gdrive/MyDrive/Audio/C/02_154.wav 2\n",
            "/gdrive/MyDrive/Audio/C/02_155.wav 2\n",
            "/gdrive/MyDrive/Audio/C/02_156.wav 2\n",
            "/gdrive/MyDrive/Audio/C/02_157.wav 2\n",
            "/gdrive/MyDrive/Audio/C/02_158.wav 2\n",
            "/gdrive/MyDrive/Audio/C/02_159.wav 2\n",
            "/gdrive/MyDrive/Audio/C/02_160.wav 2\n",
            "/gdrive/MyDrive/Audio/C/02_161.wav 2\n",
            "/gdrive/MyDrive/Audio/C/02_162.wav 2\n",
            "/gdrive/MyDrive/Audio/C/02_163.wav 2\n",
            "/gdrive/MyDrive/Audio/C/02_164.wav 2\n",
            "/gdrive/MyDrive/Audio/C/02_165.wav 2\n",
            "/gdrive/MyDrive/Audio/C/02_166.wav 2\n",
            "/gdrive/MyDrive/Audio/C/02_167.wav 2\n",
            "/gdrive/MyDrive/Audio/C/02_168.wav 2\n",
            "/gdrive/MyDrive/Audio/C/02_169.wav 2\n",
            "/gdrive/MyDrive/Audio/C/02_170.wav 2\n",
            "/gdrive/MyDrive/Audio/C/02_171.wav 2\n",
            "/gdrive/MyDrive/Audio/C/02_172.wav 2\n",
            "/gdrive/MyDrive/Audio/C/02_173.wav 2\n",
            "/gdrive/MyDrive/Audio/C/02_174.wav 2\n",
            "/gdrive/MyDrive/Audio/C/02_175.wav 2\n",
            "/gdrive/MyDrive/Audio/C/02_176.wav 2\n",
            "/gdrive/MyDrive/Audio/C/02_177.wav 2\n",
            "/gdrive/MyDrive/Audio/C/02_178.wav 2\n",
            "/gdrive/MyDrive/Audio/C/02_179.wav 2\n",
            "/gdrive/MyDrive/Audio/C/02_180.wav 2\n",
            "/gdrive/MyDrive/Audio/C/02_181.wav 2\n",
            "/gdrive/MyDrive/Audio/C/02_182.wav 2\n",
            "/gdrive/MyDrive/Audio/C/02_183.wav 2\n",
            "/gdrive/MyDrive/Audio/C/02_184.wav 2\n",
            "/gdrive/MyDrive/Audio/C/02_185.wav 2\n",
            "/gdrive/MyDrive/Audio/C/02_186.wav 2\n",
            "/gdrive/MyDrive/Audio/C/02_187.wav 2\n",
            "/gdrive/MyDrive/Audio/C/02_188.wav 2\n",
            "/gdrive/MyDrive/Audio/C/02_189.wav 2\n",
            "/gdrive/MyDrive/Audio/C/02_190.wav 2\n",
            "/gdrive/MyDrive/Audio/C/02_191.wav 2\n",
            "/gdrive/MyDrive/Audio/C/02_192.wav 2\n",
            "/gdrive/MyDrive/Audio/C/02_193.wav 2\n",
            "/gdrive/MyDrive/Audio/C/02_194.wav 2\n",
            "/gdrive/MyDrive/Audio/C/02_195.wav 2\n",
            "/gdrive/MyDrive/Audio/C/02_196.wav 2\n",
            "/gdrive/MyDrive/Audio/C/02_197.wav 2\n",
            "/gdrive/MyDrive/Audio/C/02_198.wav 2\n",
            "/gdrive/MyDrive/Audio/C/02_199.wav 2\n",
            "/gdrive/MyDrive/Audio/C/02_200.wav 2\n",
            "/gdrive/MyDrive/Audio/C/02_201.wav 2\n",
            "/gdrive/MyDrive/Audio/C/02_202.wav 2\n",
            "/gdrive/MyDrive/Audio/C/02_203.wav 2\n",
            "/gdrive/MyDrive/Audio/C/02_204.wav 2\n",
            "/gdrive/MyDrive/Audio/C/02_205.wav 2\n",
            "/gdrive/MyDrive/Audio/C/02_206.wav 2\n",
            "/gdrive/MyDrive/Audio/C/02_207.wav 2\n",
            "/gdrive/MyDrive/Audio/C/02_208.wav 2\n",
            "/gdrive/MyDrive/Audio/C/02_209.wav 2\n",
            "/gdrive/MyDrive/Audio/C/02_210.wav 2\n",
            "/gdrive/MyDrive/Audio/C/02_211.wav 2\n",
            "/gdrive/MyDrive/Audio/C/02_212.wav 2\n",
            "/gdrive/MyDrive/Audio/C/02_213.wav 2\n",
            "/gdrive/MyDrive/Audio/C/02_214.wav 2\n",
            "/gdrive/MyDrive/Audio/C/02_215.wav 2\n",
            "/gdrive/MyDrive/Audio/C/02_216.wav 2\n",
            "/gdrive/MyDrive/Audio/C/02_217.wav 2\n",
            "/gdrive/MyDrive/Audio/C/02_218.wav 2\n",
            "/gdrive/MyDrive/Audio/C/02_219.wav 2\n",
            "/gdrive/MyDrive/Audio/C/02_220.wav 2\n",
            "/gdrive/MyDrive/Audio/C/02_221.wav 2\n",
            "/gdrive/MyDrive/Audio/C/02_222.wav 2\n",
            "/gdrive/MyDrive/Audio/C/02_223.wav 2\n",
            "/gdrive/MyDrive/Audio/C/02_224.wav 2\n",
            "/gdrive/MyDrive/Audio/C/02_225.wav 2\n",
            "/gdrive/MyDrive/Audio/C/02_226.wav 2\n",
            "/gdrive/MyDrive/Audio/C/02_227.wav 2\n",
            "/gdrive/MyDrive/Audio/C/02_228.wav 2\n",
            "/gdrive/MyDrive/Audio/C/02_229.wav 2\n",
            "/gdrive/MyDrive/Audio/C/02_230.wav 2\n",
            "/gdrive/MyDrive/Audio/C/02_231.wav 2\n",
            "/gdrive/MyDrive/Audio/C/02_232.wav 2\n",
            "/gdrive/MyDrive/Audio/C/02_233.wav 2\n",
            "/gdrive/MyDrive/Audio/C/02_234.wav 2\n",
            "/gdrive/MyDrive/Audio/C/02_235.wav 2\n",
            "/gdrive/MyDrive/Audio/C/02_236.wav 2\n",
            "/gdrive/MyDrive/Audio/C/02_237.wav 2\n",
            "/gdrive/MyDrive/Audio/C/02_238.wav 2\n",
            "/gdrive/MyDrive/Audio/C/02_239.wav 2\n",
            "/gdrive/MyDrive/Audio/C/02_240.wav 2\n",
            "/gdrive/MyDrive/Audio/C/02_241.wav 2\n",
            "/gdrive/MyDrive/Audio/C/02_242.wav 2\n",
            "/gdrive/MyDrive/Audio/C/02_243.wav 2\n",
            "/gdrive/MyDrive/Audio/C/02_244.wav 2\n",
            "/gdrive/MyDrive/Audio/C/02_245.wav 2\n",
            "/gdrive/MyDrive/Audio/C/02_246.wav 2\n",
            "/gdrive/MyDrive/Audio/C/02_247.wav 2\n",
            "/gdrive/MyDrive/Audio/C/02_248.wav 2\n",
            "/gdrive/MyDrive/Audio/C/02_249.wav 2\n",
            "/gdrive/MyDrive/Audio/C/02_250.wav 2\n",
            "/gdrive/MyDrive/Audio/C/02_251.wav 2\n",
            "/gdrive/MyDrive/Audio/C/02_252.wav 2\n",
            "/gdrive/MyDrive/Audio/C/02_253.wav 2\n",
            "/gdrive/MyDrive/Audio/C/02_254.wav 2\n",
            "/gdrive/MyDrive/Audio/C/02_255.wav 2\n",
            "/gdrive/MyDrive/Audio/C/02_256.wav 2\n",
            "/gdrive/MyDrive/Audio/C/02_257.wav 2\n",
            "/gdrive/MyDrive/Audio/C/02_258.wav 2\n",
            "/gdrive/MyDrive/Audio/C/02_259.wav 2\n",
            "/gdrive/MyDrive/Audio/C/02_260.wav 2\n",
            "/gdrive/MyDrive/Audio/C/02_261.wav 2\n",
            "/gdrive/MyDrive/Audio/C/02_262.wav 2\n",
            "/gdrive/MyDrive/Audio/C/02_263.wav 2\n",
            "/gdrive/MyDrive/Audio/C/02_264.wav 2\n",
            "/gdrive/MyDrive/Audio/C/02_265.wav 2\n",
            "/gdrive/MyDrive/Audio/C/02_266.wav 2\n",
            "/gdrive/MyDrive/Audio/C/02_267.wav 2\n",
            "/gdrive/MyDrive/Audio/C/02_268.wav 2\n",
            "/gdrive/MyDrive/Audio/C/02_269.wav 2\n",
            "/gdrive/MyDrive/Audio/C/02_270.wav 2\n",
            "/gdrive/MyDrive/Audio/C/02_271.wav 2\n",
            "/gdrive/MyDrive/Audio/C/02_272.wav 2\n",
            "/gdrive/MyDrive/Audio/C/02_273.wav 2\n",
            "/gdrive/MyDrive/Audio/C/02_274.wav 2\n",
            "/gdrive/MyDrive/Audio/C/02_275.wav 2\n",
            "/gdrive/MyDrive/Audio/C/02_276.wav 2\n",
            "/gdrive/MyDrive/Audio/C/02_277.wav 2\n",
            "/gdrive/MyDrive/Audio/C/02_278.wav 2\n",
            "/gdrive/MyDrive/Audio/C/02_279.wav 2\n",
            "/gdrive/MyDrive/Audio/C/02_280.wav 2\n",
            "/gdrive/MyDrive/Audio/C/02_281.wav 2\n",
            "/gdrive/MyDrive/Audio/C/02_282.wav 2\n",
            "/gdrive/MyDrive/Audio/C/02_283.wav 2\n",
            "/gdrive/MyDrive/Audio/C/02_284.wav 2\n",
            "/gdrive/MyDrive/Audio/C/02_285.wav 2\n",
            "/gdrive/MyDrive/Audio/C/02_286.wav 2\n",
            "/gdrive/MyDrive/Audio/C/02_287.wav 2\n",
            "/gdrive/MyDrive/Audio/C/02_288.wav 2\n",
            "/gdrive/MyDrive/Audio/C/02_289.wav 2\n",
            "/gdrive/MyDrive/Audio/C/02_290.wav 2\n",
            "/gdrive/MyDrive/Audio/C/02_291.wav 2\n",
            "/gdrive/MyDrive/Audio/C/02_292.wav 2\n",
            "/gdrive/MyDrive/Audio/C/02_293.wav 2\n",
            "/gdrive/MyDrive/Audio/C/02_294.wav 2\n",
            "/gdrive/MyDrive/Audio/C/02_295.wav 2\n",
            "/gdrive/MyDrive/Audio/C/02_296.wav 2\n",
            "/gdrive/MyDrive/Audio/C/02_297.wav 2\n",
            "/gdrive/MyDrive/Audio/C/02_298.wav 2\n",
            "/gdrive/MyDrive/Audio/C/02_299.wav 2\n",
            "/gdrive/MyDrive/Audio/C/02_300.wav 2\n",
            "/gdrive/MyDrive/Audio/C/02_301.wav 2\n",
            "/gdrive/MyDrive/Audio/C/02_302.wav 2\n",
            "/gdrive/MyDrive/Audio/C/02_303.wav 2\n",
            "/gdrive/MyDrive/Audio/C/02_304.wav 2\n",
            "/gdrive/MyDrive/Audio/C/02_305.wav 2\n",
            "/gdrive/MyDrive/Audio/C/02_306.wav 2\n",
            "/gdrive/MyDrive/Audio/C/02_307.wav 2\n",
            "/gdrive/MyDrive/Audio/C/02_308.wav 2\n",
            "/gdrive/MyDrive/Audio/C/02_309.wav 2\n",
            "/gdrive/MyDrive/Audio/C/02_310.wav 2\n",
            "/gdrive/MyDrive/Audio/C/02_311.wav 2\n",
            "/gdrive/MyDrive/Audio/C/02_312.wav 2\n",
            "/gdrive/MyDrive/Audio/C/02_313.wav 2\n",
            "/gdrive/MyDrive/Audio/C/02_314.wav 2\n",
            "/gdrive/MyDrive/Audio/C/02_315.wav 2\n",
            "/gdrive/MyDrive/Audio/C/02_316.wav 2\n",
            "/gdrive/MyDrive/Audio/C/02_317.wav 2\n",
            "/gdrive/MyDrive/Audio/C/02_318.wav 2\n",
            "/gdrive/MyDrive/Audio/C/02_319.wav 2\n",
            "/gdrive/MyDrive/Audio/C/02_320.wav 2\n",
            "/gdrive/MyDrive/Audio/C/02_321.wav 2\n",
            "/gdrive/MyDrive/Audio/C/02_322.wav 2\n",
            "/gdrive/MyDrive/Audio/C/02_323.wav 2\n",
            "/gdrive/MyDrive/Audio/C/02_324.wav 2\n",
            "/gdrive/MyDrive/Audio/C/02_325.wav 2\n",
            "/gdrive/MyDrive/Audio/C/02_326.wav 2\n",
            "/gdrive/MyDrive/Audio/C/02_327.wav 2\n",
            "/gdrive/MyDrive/Audio/C/02_328.wav 2\n",
            "/gdrive/MyDrive/Audio/C/02_329.wav 2\n",
            "/gdrive/MyDrive/Audio/C/02_330.wav 2\n",
            "/gdrive/MyDrive/Audio/C/02_331.wav 2\n",
            "/gdrive/MyDrive/Audio/C/02_332.wav 2\n",
            "/gdrive/MyDrive/Audio/C/02_333.wav 2\n",
            "/gdrive/MyDrive/Audio/C/02_334.wav 2\n",
            "/gdrive/MyDrive/Audio/C/02_335.wav 2\n",
            "/gdrive/MyDrive/Audio/C/02_336.wav 2\n",
            "/gdrive/MyDrive/Audio/C/02_337.wav 2\n",
            "/gdrive/MyDrive/Audio/C/02_338.wav 2\n",
            "/gdrive/MyDrive/Audio/C/02_339.wav 2\n",
            "/gdrive/MyDrive/Audio/C/02_340.wav 2\n",
            "/gdrive/MyDrive/Audio/C/02_341.wav 2\n",
            "/gdrive/MyDrive/Audio/C/02_342.wav 2\n",
            "/gdrive/MyDrive/Audio/C/02_343.wav 2\n",
            "/gdrive/MyDrive/Audio/C/02_344.wav 2\n",
            "/gdrive/MyDrive/Audio/C/02_345.wav 2\n",
            "/gdrive/MyDrive/Audio/C/02_346.wav 2\n",
            "/gdrive/MyDrive/Audio/C/02_347.wav 2\n",
            "/gdrive/MyDrive/Audio/C/02_348.wav 2\n",
            "/gdrive/MyDrive/Audio/C/02_349.wav 2\n",
            "/gdrive/MyDrive/Audio/C/02_350.wav 2\n",
            "/gdrive/MyDrive/Audio/C/02_351.wav 2\n",
            "/gdrive/MyDrive/Audio/C/02_352.wav 2\n",
            "/gdrive/MyDrive/Audio/C/02_353.wav 2\n",
            "/gdrive/MyDrive/Audio/C/02_354.wav 2\n",
            "/gdrive/MyDrive/Audio/C/02_355.wav 2\n",
            "/gdrive/MyDrive/Audio/C/02_356.wav 2\n",
            "/gdrive/MyDrive/Audio/C/02_357.wav 2\n",
            "/gdrive/MyDrive/Audio/C/02_358.wav 2\n",
            "/gdrive/MyDrive/Audio/C/02_359.wav 2\n",
            "/gdrive/MyDrive/Audio/C/02_360.wav 2\n",
            "/gdrive/MyDrive/Audio/C/02_361.wav 2\n",
            "/gdrive/MyDrive/Audio/C/02_362.wav 2\n",
            "/gdrive/MyDrive/Audio/C/02_363.wav 2\n",
            "/gdrive/MyDrive/Audio/C/02_364.wav 2\n",
            "/gdrive/MyDrive/Audio/C/02_365.wav 2\n",
            "/gdrive/MyDrive/Audio/C/02_366.wav 2\n",
            "/gdrive/MyDrive/Audio/C/02_367.wav 2\n",
            "/gdrive/MyDrive/Audio/C/02_368.wav 2\n",
            "/gdrive/MyDrive/Audio/C/02_369.wav 2\n",
            "/gdrive/MyDrive/Audio/C/02_370.wav 2\n",
            "/gdrive/MyDrive/Audio/C/02_371.wav 2\n",
            "/gdrive/MyDrive/Audio/C/02_372.wav 2\n",
            "/gdrive/MyDrive/Audio/C/02_373.wav 2\n",
            "/gdrive/MyDrive/Audio/C/02_374.wav 2\n",
            "/gdrive/MyDrive/Audio/C/02_375.wav 2\n",
            "/gdrive/MyDrive/Audio/C/02_376.wav 2\n",
            "/gdrive/MyDrive/Audio/C/02_377.wav 2\n",
            "/gdrive/MyDrive/Audio/C/02_378.wav 2\n",
            "/gdrive/MyDrive/Audio/C/02_379.wav 2\n",
            "/gdrive/MyDrive/Audio/C/02_380.wav 2\n",
            "/gdrive/MyDrive/Audio/C/02_381.wav 2\n",
            "/gdrive/MyDrive/Audio/C/02_382.wav 2\n",
            "/gdrive/MyDrive/Audio/C/02_383.wav 2\n",
            "/gdrive/MyDrive/Audio/C/02_384.wav 2\n",
            "/gdrive/MyDrive/Audio/C/02_385.wav 2\n",
            "/gdrive/MyDrive/Audio/C/02_386.wav 2\n",
            "/gdrive/MyDrive/Audio/C/02_387.wav 2\n",
            "/gdrive/MyDrive/Audio/C/02_388.wav 2\n",
            "/gdrive/MyDrive/Audio/C/02_389.wav 2\n",
            "/gdrive/MyDrive/Audio/C/02_390.wav 2\n",
            "/gdrive/MyDrive/Audio/C/02_391.wav 2\n",
            "/gdrive/MyDrive/Audio/C/02_392.wav 2\n",
            "/gdrive/MyDrive/Audio/C/02_393.wav 2\n",
            "/gdrive/MyDrive/Audio/C/02_394.wav 2\n",
            "/gdrive/MyDrive/Audio/C/02_395.wav 2\n",
            "/gdrive/MyDrive/Audio/C/02_396.wav 2\n",
            "/gdrive/MyDrive/Audio/C/02_397.wav 2\n",
            "/gdrive/MyDrive/Audio/C/02_398.wav 2\n",
            "/gdrive/MyDrive/Audio/C/02_399.wav 2\n",
            "/gdrive/MyDrive/Audio/C/02_400.wav 2\n",
            "/gdrive/MyDrive/Audio/C/02_401.wav 2\n",
            "/gdrive/MyDrive/Audio/C/02_402.wav 2\n",
            "/gdrive/MyDrive/Audio/C/02_403.wav 2\n",
            "/gdrive/MyDrive/Audio/C/02_404.wav 2\n",
            "/gdrive/MyDrive/Audio/C/02_405.wav 2\n",
            "/gdrive/MyDrive/Audio/C/02_406.wav 2\n",
            "/gdrive/MyDrive/Audio/C/02_407.wav 2\n",
            "/gdrive/MyDrive/Audio/C/02_408.wav 2\n",
            "/gdrive/MyDrive/Audio/C/02_409.wav 2\n",
            "/gdrive/MyDrive/Audio/C/02_410.wav 2\n",
            "/gdrive/MyDrive/Audio/C/02_411.wav 2\n",
            "/gdrive/MyDrive/Audio/C/02_412.wav 2\n",
            "/gdrive/MyDrive/Audio/C/02_413.wav 2\n",
            "/gdrive/MyDrive/Audio/C/02_414.wav 2\n",
            "/gdrive/MyDrive/Audio/C/02_415.wav 2\n",
            "/gdrive/MyDrive/Audio/C/02_416.wav 2\n",
            "/gdrive/MyDrive/Audio/C/02_417.wav 2\n",
            "/gdrive/MyDrive/Audio/C/02_418.wav 2\n",
            "/gdrive/MyDrive/Audio/C/02_419.wav 2\n",
            "/gdrive/MyDrive/Audio/C/02_420.wav 2\n",
            "/gdrive/MyDrive/Audio/C/00_001.wav 0\n",
            "/gdrive/MyDrive/Audio/C/00_002.wav 0\n",
            "/gdrive/MyDrive/Audio/C/00_003.wav 0\n",
            "/gdrive/MyDrive/Audio/C/00_004.wav 0\n",
            "/gdrive/MyDrive/Audio/C/00_005.wav 0\n",
            "/gdrive/MyDrive/Audio/C/00_006.wav 0\n",
            "/gdrive/MyDrive/Audio/C/00_007.wav 0\n",
            "/gdrive/MyDrive/Audio/C/00_008.wav 0\n",
            "/gdrive/MyDrive/Audio/C/00_009.wav 0\n",
            "/gdrive/MyDrive/Audio/C/00_010.wav 0\n",
            "/gdrive/MyDrive/Audio/C/00_011.wav 0\n",
            "/gdrive/MyDrive/Audio/C/00_012.wav 0\n",
            "/gdrive/MyDrive/Audio/C/00_013.wav 0\n",
            "/gdrive/MyDrive/Audio/C/00_014.wav 0\n",
            "/gdrive/MyDrive/Audio/C/00_015.wav 0\n",
            "/gdrive/MyDrive/Audio/C/00_016.wav 0\n",
            "/gdrive/MyDrive/Audio/C/00_017.wav 0\n",
            "/gdrive/MyDrive/Audio/C/00_018.wav 0\n",
            "/gdrive/MyDrive/Audio/C/00_019.wav 0\n",
            "/gdrive/MyDrive/Audio/C/00_020.wav 0\n",
            "/gdrive/MyDrive/Audio/C/00_021.wav 0\n",
            "/gdrive/MyDrive/Audio/C/00_022.wav 0\n",
            "/gdrive/MyDrive/Audio/C/00_023.wav 0\n",
            "/gdrive/MyDrive/Audio/C/00_024.wav 0\n",
            "/gdrive/MyDrive/Audio/C/00_025.wav 0\n",
            "/gdrive/MyDrive/Audio/C/00_026.wav 0\n",
            "/gdrive/MyDrive/Audio/C/00_027.wav 0\n",
            "/gdrive/MyDrive/Audio/C/00_028.wav 0\n",
            "/gdrive/MyDrive/Audio/C/00_029.wav 0\n",
            "/gdrive/MyDrive/Audio/C/00_030.wav 0\n",
            "/gdrive/MyDrive/Audio/C/00_031.wav 0\n",
            "/gdrive/MyDrive/Audio/C/00_032.wav 0\n",
            "/gdrive/MyDrive/Audio/C/00_033.wav 0\n",
            "/gdrive/MyDrive/Audio/C/00_034.wav 0\n",
            "/gdrive/MyDrive/Audio/C/00_035.wav 0\n",
            "/gdrive/MyDrive/Audio/C/00_036.wav 0\n",
            "/gdrive/MyDrive/Audio/C/00_037.wav 0\n",
            "/gdrive/MyDrive/Audio/C/00_038.wav 0\n",
            "/gdrive/MyDrive/Audio/C/00_039.wav 0\n",
            "/gdrive/MyDrive/Audio/C/00_040.wav 0\n",
            "/gdrive/MyDrive/Audio/C/00_041.wav 0\n",
            "/gdrive/MyDrive/Audio/C/00_042.wav 0\n",
            "/gdrive/MyDrive/Audio/C/00_043.wav 0\n",
            "/gdrive/MyDrive/Audio/C/00_044.wav 0\n",
            "/gdrive/MyDrive/Audio/C/00_045.wav 0\n",
            "/gdrive/MyDrive/Audio/C/00_046.wav 0\n",
            "/gdrive/MyDrive/Audio/C/00_047.wav 0\n",
            "/gdrive/MyDrive/Audio/C/00_048.wav 0\n",
            "/gdrive/MyDrive/Audio/C/00_049.wav 0\n",
            "/gdrive/MyDrive/Audio/C/00_050.wav 0\n",
            "/gdrive/MyDrive/Audio/C/00_051.wav 0\n",
            "/gdrive/MyDrive/Audio/C/00_052.wav 0\n",
            "/gdrive/MyDrive/Audio/C/00_053.wav 0\n",
            "/gdrive/MyDrive/Audio/C/00_054.wav 0\n",
            "/gdrive/MyDrive/Audio/C/00_055.wav 0\n",
            "/gdrive/MyDrive/Audio/C/00_056.wav 0\n",
            "/gdrive/MyDrive/Audio/C/00_057.wav 0\n",
            "/gdrive/MyDrive/Audio/C/00_058.wav 0\n",
            "/gdrive/MyDrive/Audio/C/00_059.wav 0\n",
            "/gdrive/MyDrive/Audio/C/00_060.wav 0\n",
            "/gdrive/MyDrive/Audio/C/00_061.wav 0\n",
            "/gdrive/MyDrive/Audio/C/00_062.wav 0\n",
            "/gdrive/MyDrive/Audio/C/00_063.wav 0\n",
            "/gdrive/MyDrive/Audio/C/00_064.wav 0\n",
            "/gdrive/MyDrive/Audio/C/00_065.wav 0\n",
            "/gdrive/MyDrive/Audio/C/00_066.wav 0\n",
            "/gdrive/MyDrive/Audio/C/00_067.wav 0\n",
            "/gdrive/MyDrive/Audio/C/00_068.wav 0\n",
            "/gdrive/MyDrive/Audio/C/00_069.wav 0\n",
            "/gdrive/MyDrive/Audio/C/00_070.wav 0\n",
            "/gdrive/MyDrive/Audio/C/00_071.wav 0\n",
            "/gdrive/MyDrive/Audio/C/00_072.wav 0\n",
            "/gdrive/MyDrive/Audio/C/00_073.wav 0\n",
            "/gdrive/MyDrive/Audio/C/00_074.wav 0\n",
            "/gdrive/MyDrive/Audio/C/00_075.wav 0\n",
            "/gdrive/MyDrive/Audio/C/00_076.wav 0\n",
            "/gdrive/MyDrive/Audio/C/00_077.wav 0\n",
            "/gdrive/MyDrive/Audio/C/00_078.wav 0\n",
            "/gdrive/MyDrive/Audio/C/00_079.wav 0\n",
            "/gdrive/MyDrive/Audio/C/00_080.wav 0\n",
            "/gdrive/MyDrive/Audio/C/00_081.wav 0\n",
            "/gdrive/MyDrive/Audio/C/00_082.wav 0\n",
            "/gdrive/MyDrive/Audio/C/00_083.wav 0\n",
            "/gdrive/MyDrive/Audio/C/00_084.wav 0\n",
            "/gdrive/MyDrive/Audio/C/00_085.wav 0\n",
            "/gdrive/MyDrive/Audio/C/00_086.wav 0\n",
            "/gdrive/MyDrive/Audio/C/00_087.wav 0\n",
            "/gdrive/MyDrive/Audio/C/00_088.wav 0\n",
            "/gdrive/MyDrive/Audio/C/00_089.wav 0\n",
            "/gdrive/MyDrive/Audio/C/00_090.wav 0\n",
            "/gdrive/MyDrive/Audio/C/00_091.wav 0\n",
            "/gdrive/MyDrive/Audio/C/00_092.wav 0\n",
            "/gdrive/MyDrive/Audio/C/00_093.wav 0\n",
            "/gdrive/MyDrive/Audio/C/00_094.wav 0\n",
            "/gdrive/MyDrive/Audio/C/00_095.wav 0\n",
            "/gdrive/MyDrive/Audio/C/00_096.wav 0\n",
            "/gdrive/MyDrive/Audio/C/00_097.wav 0\n",
            "/gdrive/MyDrive/Audio/C/00_098.wav 0\n",
            "/gdrive/MyDrive/Audio/C/00_099.wav 0\n",
            "/gdrive/MyDrive/Audio/C/00_100.wav 0\n",
            "/gdrive/MyDrive/Audio/C/00_101.wav 0\n",
            "/gdrive/MyDrive/Audio/C/00_102.wav 0\n",
            "/gdrive/MyDrive/Audio/C/00_103.wav 0\n",
            "/gdrive/MyDrive/Audio/C/00_104.wav 0\n",
            "/gdrive/MyDrive/Audio/C/00_105.wav 0\n",
            "/gdrive/MyDrive/Audio/C/00_106.wav 0\n",
            "/gdrive/MyDrive/Audio/C/00_107.wav 0\n",
            "/gdrive/MyDrive/Audio/C/00_108.wav 0\n",
            "/gdrive/MyDrive/Audio/C/00_109.wav 0\n",
            "/gdrive/MyDrive/Audio/C/00_110.wav 0\n",
            "/gdrive/MyDrive/Audio/C/00_111.wav 0\n",
            "/gdrive/MyDrive/Audio/C/00_112.wav 0\n",
            "/gdrive/MyDrive/Audio/C/00_113.wav 0\n",
            "/gdrive/MyDrive/Audio/C/00_114.wav 0\n",
            "/gdrive/MyDrive/Audio/C/00_115.wav 0\n",
            "/gdrive/MyDrive/Audio/C/00_116.wav 0\n",
            "/gdrive/MyDrive/Audio/C/00_117.wav 0\n",
            "/gdrive/MyDrive/Audio/C/00_118.wav 0\n",
            "/gdrive/MyDrive/Audio/C/00_119.wav 0\n",
            "/gdrive/MyDrive/Audio/C/00_120.wav 0\n",
            "/gdrive/MyDrive/Audio/C/00_121.wav 0\n",
            "/gdrive/MyDrive/Audio/C/00_122.wav 0\n",
            "/gdrive/MyDrive/Audio/C/00_123.wav 0\n",
            "/gdrive/MyDrive/Audio/C/00_124.wav 0\n",
            "/gdrive/MyDrive/Audio/C/00_125.wav 0\n",
            "/gdrive/MyDrive/Audio/C/00_126.wav 0\n",
            "/gdrive/MyDrive/Audio/C/00_127.wav 0\n",
            "/gdrive/MyDrive/Audio/C/00_128.wav 0\n",
            "/gdrive/MyDrive/Audio/C/00_129.wav 0\n",
            "/gdrive/MyDrive/Audio/C/00_130.wav 0\n",
            "/gdrive/MyDrive/Audio/C/00_131.wav 0\n",
            "/gdrive/MyDrive/Audio/C/00_132.wav 0\n",
            "/gdrive/MyDrive/Audio/C/00_133.wav 0\n",
            "/gdrive/MyDrive/Audio/C/00_134.wav 0\n",
            "/gdrive/MyDrive/Audio/C/00_135.wav 0\n",
            "/gdrive/MyDrive/Audio/C/00_136.wav 0\n",
            "/gdrive/MyDrive/Audio/C/00_137.wav 0\n",
            "/gdrive/MyDrive/Audio/C/00_138.wav 0\n",
            "/gdrive/MyDrive/Audio/C/00_139.wav 0\n",
            "/gdrive/MyDrive/Audio/C/00_140.wav 0\n",
            "/gdrive/MyDrive/Audio/C/00_141.wav 0\n",
            "/gdrive/MyDrive/Audio/C/00_142.wav 0\n",
            "/gdrive/MyDrive/Audio/C/00_143.wav 0\n",
            "/gdrive/MyDrive/Audio/C/00_144.wav 0\n",
            "/gdrive/MyDrive/Audio/C/00_145.wav 0\n",
            "/gdrive/MyDrive/Audio/C/00_146.wav 0\n",
            "/gdrive/MyDrive/Audio/C/00_147.wav 0\n",
            "/gdrive/MyDrive/Audio/C/00_148.wav 0\n",
            "/gdrive/MyDrive/Audio/C/00_149.wav 0\n",
            "/gdrive/MyDrive/Audio/C/00_150.wav 0\n",
            "/gdrive/MyDrive/Audio/C/00_151.wav 0\n",
            "/gdrive/MyDrive/Audio/C/00_152.wav 0\n",
            "/gdrive/MyDrive/Audio/C/00_153.wav 0\n",
            "/gdrive/MyDrive/Audio/C/00_154.wav 0\n",
            "/gdrive/MyDrive/Audio/C/00_155.wav 0\n",
            "/gdrive/MyDrive/Audio/C/00_156.wav 0\n",
            "/gdrive/MyDrive/Audio/C/00_157.wav 0\n",
            "/gdrive/MyDrive/Audio/C/00_158.wav 0\n",
            "/gdrive/MyDrive/Audio/C/00_159.wav 0\n",
            "/gdrive/MyDrive/Audio/C/00_160.wav 0\n",
            "/gdrive/MyDrive/Audio/C/00_161.wav 0\n",
            "/gdrive/MyDrive/Audio/C/00_162.wav 0\n",
            "/gdrive/MyDrive/Audio/C/00_163.wav 0\n",
            "/gdrive/MyDrive/Audio/C/00_164.wav 0\n",
            "/gdrive/MyDrive/Audio/C/00_165.wav 0\n",
            "/gdrive/MyDrive/Audio/C/00_166.wav 0\n",
            "/gdrive/MyDrive/Audio/C/00_167.wav 0\n",
            "/gdrive/MyDrive/Audio/C/00_168.wav 0\n",
            "/gdrive/MyDrive/Audio/C/00_169.wav 0\n",
            "/gdrive/MyDrive/Audio/C/00_170.wav 0\n",
            "/gdrive/MyDrive/Audio/C/00_171.wav 0\n",
            "/gdrive/MyDrive/Audio/C/00_172.wav 0\n",
            "/gdrive/MyDrive/Audio/C/00_173.wav 0\n",
            "/gdrive/MyDrive/Audio/C/00_174.wav 0\n",
            "/gdrive/MyDrive/Audio/C/00_175.wav 0\n",
            "/gdrive/MyDrive/Audio/C/00_176.wav 0\n",
            "/gdrive/MyDrive/Audio/C/00_177.wav 0\n",
            "/gdrive/MyDrive/Audio/C/00_178.wav 0\n",
            "/gdrive/MyDrive/Audio/C/00_179.wav 0\n",
            "/gdrive/MyDrive/Audio/C/00_180.wav 0\n",
            "/gdrive/MyDrive/Audio/C/00_181.wav 0\n",
            "/gdrive/MyDrive/Audio/C/00_182.wav 0\n",
            "/gdrive/MyDrive/Audio/C/00_183.wav 0\n",
            "/gdrive/MyDrive/Audio/C/00_184.wav 0\n",
            "/gdrive/MyDrive/Audio/C/00_185.wav 0\n",
            "/gdrive/MyDrive/Audio/C/00_186.wav 0\n",
            "/gdrive/MyDrive/Audio/C/00_187.wav 0\n",
            "/gdrive/MyDrive/Audio/C/00_188.wav 0\n",
            "/gdrive/MyDrive/Audio/C/00_189.wav 0\n",
            "/gdrive/MyDrive/Audio/C/00_190.wav 0\n",
            "/gdrive/MyDrive/Audio/C/00_191.wav 0\n",
            "/gdrive/MyDrive/Audio/C/00_192.wav 0\n",
            "/gdrive/MyDrive/Audio/C/00_193.wav 0\n",
            "/gdrive/MyDrive/Audio/C/00_194.wav 0\n",
            "/gdrive/MyDrive/Audio/C/00_195.wav 0\n",
            "/gdrive/MyDrive/Audio/C/00_196.wav 0\n",
            "/gdrive/MyDrive/Audio/C/00_197.wav 0\n",
            "/gdrive/MyDrive/Audio/C/00_198.wav 0\n",
            "/gdrive/MyDrive/Audio/C/00_199.wav 0\n",
            "/gdrive/MyDrive/Audio/C/00_200.wav 0\n",
            "/gdrive/MyDrive/Audio/C/00_201.wav 0\n",
            "/gdrive/MyDrive/Audio/C/00_202.wav 0\n",
            "/gdrive/MyDrive/Audio/C/00_203.wav 0\n",
            "/gdrive/MyDrive/Audio/C/00_204.wav 0\n",
            "/gdrive/MyDrive/Audio/C/00_205.wav 0\n",
            "/gdrive/MyDrive/Audio/C/00_206.wav 0\n",
            "/gdrive/MyDrive/Audio/C/00_207.wav 0\n",
            "/gdrive/MyDrive/Audio/C/00_208.wav 0\n",
            "/gdrive/MyDrive/Audio/C/00_209.wav 0\n",
            "/gdrive/MyDrive/Audio/C/00_210.wav 0\n",
            "/gdrive/MyDrive/Audio/C/00_211.wav 0\n",
            "/gdrive/MyDrive/Audio/C/00_212.wav 0\n",
            "/gdrive/MyDrive/Audio/C/00_213.wav 0\n",
            "/gdrive/MyDrive/Audio/C/00_214.wav 0\n",
            "/gdrive/MyDrive/Audio/C/00_215.wav 0\n",
            "/gdrive/MyDrive/Audio/C/00_216.wav 0\n",
            "/gdrive/MyDrive/Audio/C/00_217.wav 0\n",
            "/gdrive/MyDrive/Audio/C/00_218.wav 0\n",
            "/gdrive/MyDrive/Audio/C/00_219.wav 0\n",
            "/gdrive/MyDrive/Audio/C/00_220.wav 0\n",
            "/gdrive/MyDrive/Audio/C/00_221.wav 0\n",
            "/gdrive/MyDrive/Audio/C/00_222.wav 0\n",
            "/gdrive/MyDrive/Audio/C/00_223.wav 0\n",
            "/gdrive/MyDrive/Audio/C/00_224.wav 0\n",
            "/gdrive/MyDrive/Audio/C/00_225.wav 0\n",
            "/gdrive/MyDrive/Audio/C/00_226.wav 0\n",
            "/gdrive/MyDrive/Audio/C/00_227.wav 0\n",
            "/gdrive/MyDrive/Audio/C/00_228.wav 0\n",
            "/gdrive/MyDrive/Audio/C/00_229.wav 0\n",
            "/gdrive/MyDrive/Audio/C/00_230.wav 0\n",
            "/gdrive/MyDrive/Audio/C/00_231.wav 0\n",
            "/gdrive/MyDrive/Audio/C/00_232.wav 0\n",
            "/gdrive/MyDrive/Audio/C/00_233.wav 0\n",
            "/gdrive/MyDrive/Audio/C/00_234.wav 0\n",
            "/gdrive/MyDrive/Audio/C/00_235.wav 0\n",
            "/gdrive/MyDrive/Audio/C/00_236.wav 0\n",
            "/gdrive/MyDrive/Audio/C/00_237.wav 0\n",
            "/gdrive/MyDrive/Audio/C/00_238.wav 0\n",
            "/gdrive/MyDrive/Audio/C/00_239.wav 0\n",
            "/gdrive/MyDrive/Audio/C/00_240.wav 0\n",
            "/gdrive/MyDrive/Audio/C/00_241.wav 0\n",
            "/gdrive/MyDrive/Audio/C/00_242.wav 0\n",
            "/gdrive/MyDrive/Audio/C/00_243.wav 0\n",
            "/gdrive/MyDrive/Audio/C/00_244.wav 0\n",
            "/gdrive/MyDrive/Audio/C/00_245.wav 0\n",
            "/gdrive/MyDrive/Audio/C/00_246.wav 0\n",
            "/gdrive/MyDrive/Audio/C/00_247.wav 0\n",
            "/gdrive/MyDrive/Audio/C/00_248.wav 0\n",
            "/gdrive/MyDrive/Audio/C/00_249.wav 0\n",
            "/gdrive/MyDrive/Audio/C/00_250.wav 0\n",
            "/gdrive/MyDrive/Audio/C/00_251.wav 0\n",
            "/gdrive/MyDrive/Audio/C/00_252.wav 0\n",
            "/gdrive/MyDrive/Audio/C/00_253.wav 0\n",
            "/gdrive/MyDrive/Audio/C/00_254.wav 0\n",
            "/gdrive/MyDrive/Audio/C/00_255.wav 0\n",
            "/gdrive/MyDrive/Audio/C/00_256.wav 0\n",
            "/gdrive/MyDrive/Audio/C/00_257.wav 0\n",
            "/gdrive/MyDrive/Audio/C/00_258.wav 0\n",
            "/gdrive/MyDrive/Audio/C/00_259.wav 0\n",
            "/gdrive/MyDrive/Audio/C/00_260.wav 0\n",
            "/gdrive/MyDrive/Audio/C/00_261.wav 0\n",
            "/gdrive/MyDrive/Audio/C/00_262.wav 0\n",
            "/gdrive/MyDrive/Audio/C/00_263.wav 0\n",
            "/gdrive/MyDrive/Audio/C/00_264.wav 0\n",
            "/gdrive/MyDrive/Audio/C/00_265.wav 0\n",
            "/gdrive/MyDrive/Audio/C/00_266.wav 0\n",
            "/gdrive/MyDrive/Audio/C/00_267.wav 0\n",
            "/gdrive/MyDrive/Audio/C/00_268.wav 0\n",
            "/gdrive/MyDrive/Audio/C/00_269.wav 0\n",
            "/gdrive/MyDrive/Audio/C/00_270.wav 0\n",
            "/gdrive/MyDrive/Audio/C/00_271.wav 0\n",
            "/gdrive/MyDrive/Audio/C/00_272.wav 0\n",
            "/gdrive/MyDrive/Audio/C/00_273.wav 0\n",
            "/gdrive/MyDrive/Audio/C/00_274.wav 0\n",
            "/gdrive/MyDrive/Audio/C/00_275.wav 0\n",
            "/gdrive/MyDrive/Audio/C/00_276.wav 0\n",
            "/gdrive/MyDrive/Audio/C/00_277.wav 0\n",
            "/gdrive/MyDrive/Audio/C/00_278.wav 0\n",
            "/gdrive/MyDrive/Audio/C/00_279.wav 0\n",
            "/gdrive/MyDrive/Audio/C/00_280.wav 0\n",
            "/gdrive/MyDrive/Audio/C/00_281.wav 0\n",
            "/gdrive/MyDrive/Audio/C/00_282.wav 0\n",
            "/gdrive/MyDrive/Audio/C/00_283.wav 0\n",
            "/gdrive/MyDrive/Audio/C/00_284.wav 0\n",
            "/gdrive/MyDrive/Audio/C/00_285.wav 0\n",
            "/gdrive/MyDrive/Audio/C/00_286.wav 0\n",
            "/gdrive/MyDrive/Audio/C/00_287.wav 0\n",
            "/gdrive/MyDrive/Audio/C/00_288.wav 0\n",
            "/gdrive/MyDrive/Audio/C/00_289.wav 0\n",
            "/gdrive/MyDrive/Audio/C/00_290.wav 0\n",
            "/gdrive/MyDrive/Audio/C/00_291.wav 0\n",
            "/gdrive/MyDrive/Audio/C/00_292.wav 0\n",
            "/gdrive/MyDrive/Audio/C/00_293.wav 0\n",
            "/gdrive/MyDrive/Audio/C/00_294.wav 0\n",
            "/gdrive/MyDrive/Audio/C/00_295.wav 0\n",
            "/gdrive/MyDrive/Audio/C/00_296.wav 0\n",
            "/gdrive/MyDrive/Audio/C/00_297.wav 0\n",
            "/gdrive/MyDrive/Audio/C/00_298.wav 0\n",
            "/gdrive/MyDrive/Audio/C/00_299.wav 0\n",
            "/gdrive/MyDrive/Audio/C/00_300.wav 0\n",
            "/gdrive/MyDrive/Audio/C/00_301.wav 0\n",
            "/gdrive/MyDrive/Audio/C/00_302.wav 0\n",
            "/gdrive/MyDrive/Audio/C/00_303.wav 0\n",
            "/gdrive/MyDrive/Audio/C/00_304.wav 0\n",
            "/gdrive/MyDrive/Audio/C/00_305.wav 0\n",
            "/gdrive/MyDrive/Audio/C/00_306.wav 0\n",
            "/gdrive/MyDrive/Audio/C/00_307.wav 0\n",
            "/gdrive/MyDrive/Audio/C/00_308.wav 0\n",
            "/gdrive/MyDrive/Audio/C/00_309.wav 0\n",
            "/gdrive/MyDrive/Audio/C/00_310.wav 0\n",
            "/gdrive/MyDrive/Audio/C/00_311.wav 0\n",
            "/gdrive/MyDrive/Audio/C/00_312.wav 0\n",
            "/gdrive/MyDrive/Audio/C/00_313.wav 0\n",
            "/gdrive/MyDrive/Audio/C/00_314.wav 0\n",
            "/gdrive/MyDrive/Audio/C/00_315.wav 0\n",
            "/gdrive/MyDrive/Audio/C/00_316.wav 0\n",
            "/gdrive/MyDrive/Audio/C/00_317.wav 0\n",
            "/gdrive/MyDrive/Audio/C/00_318.wav 0\n",
            "/gdrive/MyDrive/Audio/C/00_319.wav 0\n",
            "/gdrive/MyDrive/Audio/C/00_320.wav 0\n",
            "/gdrive/MyDrive/Audio/C/00_321.wav 0\n",
            "/gdrive/MyDrive/Audio/C/00_322.wav 0\n",
            "/gdrive/MyDrive/Audio/C/00_323.wav 0\n",
            "/gdrive/MyDrive/Audio/C/00_324.wav 0\n",
            "/gdrive/MyDrive/Audio/C/00_325.wav 0\n",
            "/gdrive/MyDrive/Audio/C/00_326.wav 0\n",
            "/gdrive/MyDrive/Audio/C/00_327.wav 0\n",
            "/gdrive/MyDrive/Audio/C/00_328.wav 0\n",
            "/gdrive/MyDrive/Audio/C/00_329.wav 0\n",
            "/gdrive/MyDrive/Audio/C/00_330.wav 0\n",
            "/gdrive/MyDrive/Audio/C/00_331.wav 0\n",
            "/gdrive/MyDrive/Audio/C/00_332.wav 0\n",
            "/gdrive/MyDrive/Audio/C/00_333.wav 0\n",
            "/gdrive/MyDrive/Audio/C/00_334.wav 0\n",
            "/gdrive/MyDrive/Audio/C/00_335.wav 0\n",
            "/gdrive/MyDrive/Audio/C/00_336.wav 0\n",
            "/gdrive/MyDrive/Audio/C/00_337.wav 0\n",
            "/gdrive/MyDrive/Audio/C/00_338.wav 0\n",
            "/gdrive/MyDrive/Audio/C/00_339.wav 0\n",
            "/gdrive/MyDrive/Audio/C/00_340.wav 0\n",
            "/gdrive/MyDrive/Audio/C/00_341.wav 0\n",
            "/gdrive/MyDrive/Audio/C/00_342.wav 0\n",
            "/gdrive/MyDrive/Audio/C/00_343.wav 0\n",
            "/gdrive/MyDrive/Audio/C/00_344.wav 0\n",
            "/gdrive/MyDrive/Audio/C/00_345.wav 0\n",
            "/gdrive/MyDrive/Audio/C/00_346.wav 0\n",
            "/gdrive/MyDrive/Audio/C/00_347.wav 0\n",
            "/gdrive/MyDrive/Audio/C/00_348.wav 0\n",
            "/gdrive/MyDrive/Audio/C/00_349.wav 0\n",
            "/gdrive/MyDrive/Audio/C/00_350.wav 0\n",
            "/gdrive/MyDrive/Audio/C/00_351.wav 0\n",
            "/gdrive/MyDrive/Audio/C/00_352.wav 0\n",
            "/gdrive/MyDrive/Audio/C/00_353.wav 0\n",
            "/gdrive/MyDrive/Audio/C/00_354.wav 0\n",
            "/gdrive/MyDrive/Audio/C/00_355.wav 0\n",
            "/gdrive/MyDrive/Audio/C/00_356.wav 0\n",
            "/gdrive/MyDrive/Audio/C/00_357.wav 0\n",
            "/gdrive/MyDrive/Audio/C/00_358.wav 0\n",
            "/gdrive/MyDrive/Audio/C/00_359.wav 0\n",
            "/gdrive/MyDrive/Audio/C/00_360.wav 0\n",
            "/gdrive/MyDrive/Audio/C/00_361.wav 0\n",
            "/gdrive/MyDrive/Audio/C/00_362.wav 0\n",
            "/gdrive/MyDrive/Audio/C/00_363.wav 0\n",
            "/gdrive/MyDrive/Audio/C/00_364.wav 0\n",
            "/gdrive/MyDrive/Audio/C/00_365.wav 0\n",
            "/gdrive/MyDrive/Audio/C/00_366.wav 0\n",
            "/gdrive/MyDrive/Audio/C/00_367.wav 0\n",
            "/gdrive/MyDrive/Audio/C/00_368.wav 0\n",
            "/gdrive/MyDrive/Audio/C/00_369.wav 0\n",
            "/gdrive/MyDrive/Audio/C/00_370.wav 0\n",
            "/gdrive/MyDrive/Audio/C/00_371.wav 0\n",
            "/gdrive/MyDrive/Audio/C/00_372.wav 0\n",
            "/gdrive/MyDrive/Audio/C/00_373.wav 0\n",
            "/gdrive/MyDrive/Audio/C/00_374.wav 0\n",
            "/gdrive/MyDrive/Audio/C/00_375.wav 0\n",
            "/gdrive/MyDrive/Audio/C/00_376.wav 0\n",
            "/gdrive/MyDrive/Audio/C/00_377.wav 0\n",
            "/gdrive/MyDrive/Audio/C/00_378.wav 0\n",
            "/gdrive/MyDrive/Audio/C/00_379.wav 0\n",
            "/gdrive/MyDrive/Audio/C/00_380.wav 0\n",
            "/gdrive/MyDrive/Audio/C/00_381.wav 0\n",
            "/gdrive/MyDrive/Audio/C/00_382.wav 0\n",
            "/gdrive/MyDrive/Audio/C/00_383.wav 0\n",
            "/gdrive/MyDrive/Audio/C/00_384.wav 0\n",
            "/gdrive/MyDrive/Audio/C/00_385.wav 0\n",
            "/gdrive/MyDrive/Audio/C/00_386.wav 0\n",
            "/gdrive/MyDrive/Audio/C/00_387.wav 0\n",
            "/gdrive/MyDrive/Audio/C/00_388.wav 0\n",
            "/gdrive/MyDrive/Audio/C/00_389.wav 0\n",
            "/gdrive/MyDrive/Audio/C/00_390.wav 0\n",
            "/gdrive/MyDrive/Audio/C/00_391.wav 0\n",
            "/gdrive/MyDrive/Audio/C/00_392.wav 0\n",
            "/gdrive/MyDrive/Audio/C/00_393.wav 0\n",
            "/gdrive/MyDrive/Audio/C/00_394.wav 0\n",
            "/gdrive/MyDrive/Audio/C/00_395.wav 0\n",
            "/gdrive/MyDrive/Audio/C/00_396.wav 0\n",
            "/gdrive/MyDrive/Audio/C/00_397.wav 0\n",
            "/gdrive/MyDrive/Audio/C/01_001.wav 1\n",
            "/gdrive/MyDrive/Audio/C/01_002.wav 1\n",
            "/gdrive/MyDrive/Audio/C/01_003.wav 1\n",
            "/gdrive/MyDrive/Audio/C/01_004.wav 1\n",
            "/gdrive/MyDrive/Audio/C/01_005.wav 1\n",
            "/gdrive/MyDrive/Audio/C/01_006.wav 1\n",
            "/gdrive/MyDrive/Audio/C/01_007.wav 1\n",
            "/gdrive/MyDrive/Audio/C/01_008.wav 1\n",
            "/gdrive/MyDrive/Audio/C/01_009.wav 1\n",
            "/gdrive/MyDrive/Audio/C/01_010.wav 1\n",
            "/gdrive/MyDrive/Audio/C/01_011.wav 1\n",
            "/gdrive/MyDrive/Audio/C/01_012.wav 1\n",
            "/gdrive/MyDrive/Audio/C/01_013.wav 1\n",
            "/gdrive/MyDrive/Audio/C/01_014.wav 1\n",
            "/gdrive/MyDrive/Audio/C/01_015.wav 1\n",
            "/gdrive/MyDrive/Audio/C/01_016.wav 1\n",
            "/gdrive/MyDrive/Audio/C/01_017.wav 1\n",
            "/gdrive/MyDrive/Audio/C/01_019.wav 1\n",
            "/gdrive/MyDrive/Audio/C/01_018.wav 1\n",
            "/gdrive/MyDrive/Audio/C/01_020.wav 1\n",
            "/gdrive/MyDrive/Audio/C/01_021.wav 1\n",
            "/gdrive/MyDrive/Audio/C/01_022.wav 1\n",
            "/gdrive/MyDrive/Audio/C/01_023.wav 1\n",
            "/gdrive/MyDrive/Audio/C/01_024.wav 1\n",
            "/gdrive/MyDrive/Audio/C/01_025.wav 1\n",
            "/gdrive/MyDrive/Audio/C/01_026.wav 1\n",
            "/gdrive/MyDrive/Audio/C/01_027.wav 1\n",
            "/gdrive/MyDrive/Audio/C/01_028.wav 1\n",
            "/gdrive/MyDrive/Audio/C/01_029.wav 1\n",
            "/gdrive/MyDrive/Audio/C/01_031.wav 1\n",
            "/gdrive/MyDrive/Audio/C/01_030.wav 1\n",
            "/gdrive/MyDrive/Audio/C/01_032.wav 1\n",
            "/gdrive/MyDrive/Audio/C/01_033.wav 1\n",
            "/gdrive/MyDrive/Audio/C/01_034.wav 1\n",
            "/gdrive/MyDrive/Audio/C/01_035.wav 1\n",
            "/gdrive/MyDrive/Audio/C/01_036.wav 1\n",
            "/gdrive/MyDrive/Audio/C/01_038.wav 1\n",
            "/gdrive/MyDrive/Audio/C/01_037.wav 1\n",
            "/gdrive/MyDrive/Audio/C/01_039.wav 1\n",
            "/gdrive/MyDrive/Audio/C/01_040.wav 1\n",
            "/gdrive/MyDrive/Audio/C/01_041.wav 1\n",
            "/gdrive/MyDrive/Audio/C/01_042.wav 1\n",
            "/gdrive/MyDrive/Audio/C/01_043.wav 1\n",
            "/gdrive/MyDrive/Audio/C/01_044.wav 1\n",
            "/gdrive/MyDrive/Audio/C/01_045.wav 1\n",
            "/gdrive/MyDrive/Audio/C/01_046.wav 1\n",
            "/gdrive/MyDrive/Audio/C/01_047.wav 1\n",
            "/gdrive/MyDrive/Audio/C/01_048.wav 1\n",
            "/gdrive/MyDrive/Audio/C/01_049.wav 1\n",
            "/gdrive/MyDrive/Audio/C/01_050.wav 1\n",
            "/gdrive/MyDrive/Audio/C/01_051.wav 1\n",
            "/gdrive/MyDrive/Audio/C/01_052.wav 1\n",
            "/gdrive/MyDrive/Audio/C/01_053.wav 1\n",
            "/gdrive/MyDrive/Audio/C/01_055.wav 1\n",
            "/gdrive/MyDrive/Audio/C/01_054.wav 1\n",
            "/gdrive/MyDrive/Audio/C/01_056.wav 1\n",
            "/gdrive/MyDrive/Audio/C/01_057.wav 1\n",
            "/gdrive/MyDrive/Audio/C/01_058.wav 1\n",
            "/gdrive/MyDrive/Audio/C/01_059.wav 1\n",
            "/gdrive/MyDrive/Audio/C/01_060.wav 1\n",
            "/gdrive/MyDrive/Audio/C/01_062.wav 1\n",
            "/gdrive/MyDrive/Audio/C/01_061.wav 1\n",
            "/gdrive/MyDrive/Audio/C/01_063.wav 1\n",
            "/gdrive/MyDrive/Audio/C/01_064.wav 1\n",
            "/gdrive/MyDrive/Audio/C/01_065.wav 1\n",
            "/gdrive/MyDrive/Audio/C/01_066.wav 1\n",
            "/gdrive/MyDrive/Audio/C/01_067.wav 1\n",
            "/gdrive/MyDrive/Audio/C/01_068.wav 1\n",
            "/gdrive/MyDrive/Audio/C/01_069.wav 1\n",
            "/gdrive/MyDrive/Audio/C/01_070.wav 1\n",
            "/gdrive/MyDrive/Audio/C/01_071.wav 1\n",
            "/gdrive/MyDrive/Audio/C/01_072.wav 1\n",
            "/gdrive/MyDrive/Audio/C/01_073.wav 1\n",
            "/gdrive/MyDrive/Audio/C/01_074.wav 1\n",
            "/gdrive/MyDrive/Audio/C/01_076.wav 1\n",
            "/gdrive/MyDrive/Audio/C/01_075.wav 1\n",
            "/gdrive/MyDrive/Audio/C/01_077.wav 1\n",
            "/gdrive/MyDrive/Audio/C/01_078.wav 1\n",
            "/gdrive/MyDrive/Audio/C/01_079.wav 1\n",
            "/gdrive/MyDrive/Audio/C/01_080.wav 1\n",
            "/gdrive/MyDrive/Audio/C/01_081.wav 1\n",
            "/gdrive/MyDrive/Audio/C/01_082.wav 1\n",
            "/gdrive/MyDrive/Audio/C/01_083.wav 1\n",
            "/gdrive/MyDrive/Audio/C/01_084.wav 1\n",
            "/gdrive/MyDrive/Audio/C/01_085.wav 1\n",
            "/gdrive/MyDrive/Audio/C/01_086.wav 1\n",
            "/gdrive/MyDrive/Audio/C/01_087.wav 1\n",
            "/gdrive/MyDrive/Audio/C/01_088.wav 1\n",
            "/gdrive/MyDrive/Audio/C/01_089.wav 1\n",
            "/gdrive/MyDrive/Audio/C/01_090.wav 1\n",
            "/gdrive/MyDrive/Audio/C/01_091.wav 1\n",
            "/gdrive/MyDrive/Audio/C/01_093.wav 1\n",
            "/gdrive/MyDrive/Audio/C/01_092.wav 1\n",
            "/gdrive/MyDrive/Audio/C/01_094.wav 1\n",
            "/gdrive/MyDrive/Audio/C/01_095.wav 1\n",
            "/gdrive/MyDrive/Audio/C/01_096.wav 1\n",
            "/gdrive/MyDrive/Audio/C/01_097.wav 1\n",
            "/gdrive/MyDrive/Audio/C/01_098.wav 1\n",
            "/gdrive/MyDrive/Audio/C/01_099.wav 1\n",
            "/gdrive/MyDrive/Audio/C/01_100.wav 1\n",
            "/gdrive/MyDrive/Audio/C/01_101.wav 1\n",
            "/gdrive/MyDrive/Audio/C/01_102.wav 1\n",
            "/gdrive/MyDrive/Audio/C/01_103.wav 1\n",
            "/gdrive/MyDrive/Audio/C/01_104.wav 1\n",
            "/gdrive/MyDrive/Audio/C/01_105.wav 1\n",
            "/gdrive/MyDrive/Audio/C/01_106.wav 1\n",
            "/gdrive/MyDrive/Audio/C/01_107.wav 1\n",
            "/gdrive/MyDrive/Audio/C/01_108.wav 1\n",
            "/gdrive/MyDrive/Audio/C/01_109.wav 1\n",
            "/gdrive/MyDrive/Audio/C/01_110.wav 1\n",
            "/gdrive/MyDrive/Audio/C/01_111.wav 1\n",
            "/gdrive/MyDrive/Audio/C/01_112.wav 1\n",
            "/gdrive/MyDrive/Audio/C/01_113.wav 1\n",
            "/gdrive/MyDrive/Audio/C/01_114.wav 1\n",
            "/gdrive/MyDrive/Audio/C/01_115.wav 1\n",
            "/gdrive/MyDrive/Audio/C/01_116.wav 1\n",
            "/gdrive/MyDrive/Audio/C/01_117.wav 1\n",
            "/gdrive/MyDrive/Audio/C/01_118.wav 1\n",
            "/gdrive/MyDrive/Audio/C/01_119.wav 1\n",
            "/gdrive/MyDrive/Audio/C/01_120.wav 1\n",
            "/gdrive/MyDrive/Audio/C/01_121.wav 1\n",
            "/gdrive/MyDrive/Audio/C/01_122.wav 1\n",
            "/gdrive/MyDrive/Audio/C/01_123.wav 1\n",
            "/gdrive/MyDrive/Audio/C/01_124.wav 1\n",
            "/gdrive/MyDrive/Audio/C/01_125.wav 1\n",
            "/gdrive/MyDrive/Audio/C/01_126.wav 1\n",
            "/gdrive/MyDrive/Audio/C/01_127.wav 1\n",
            "/gdrive/MyDrive/Audio/C/01_128.wav 1\n",
            "/gdrive/MyDrive/Audio/C/01_129.wav 1\n",
            "/gdrive/MyDrive/Audio/C/01_130.wav 1\n",
            "/gdrive/MyDrive/Audio/C/01_131.wav 1\n",
            "/gdrive/MyDrive/Audio/C/01_132.wav 1\n",
            "/gdrive/MyDrive/Audio/C/01_133.wav 1\n",
            "/gdrive/MyDrive/Audio/C/01_134.wav 1\n",
            "/gdrive/MyDrive/Audio/C/01_135.wav 1\n",
            "/gdrive/MyDrive/Audio/C/01_136.wav 1\n",
            "/gdrive/MyDrive/Audio/C/01_137.wav 1\n",
            "/gdrive/MyDrive/Audio/C/01_138.wav 1\n",
            "/gdrive/MyDrive/Audio/C/01_139.wav 1\n",
            "/gdrive/MyDrive/Audio/C/01_140.wav 1\n",
            "/gdrive/MyDrive/Audio/C/01_141.wav 1\n",
            "/gdrive/MyDrive/Audio/C/01_142.wav 1\n",
            "/gdrive/MyDrive/Audio/C/01_143.wav 1\n",
            "/gdrive/MyDrive/Audio/C/01_144.wav 1\n",
            "/gdrive/MyDrive/Audio/C/01_145.wav 1\n",
            "/gdrive/MyDrive/Audio/C/01_147.wav 1\n",
            "/gdrive/MyDrive/Audio/C/01_146.wav 1\n",
            "/gdrive/MyDrive/Audio/C/01_148.wav 1\n",
            "/gdrive/MyDrive/Audio/C/01_149.wav 1\n",
            "/gdrive/MyDrive/Audio/C/01_150.wav 1\n",
            "/gdrive/MyDrive/Audio/C/01_151.wav 1\n",
            "/gdrive/MyDrive/Audio/C/01_152.wav 1\n",
            "/gdrive/MyDrive/Audio/C/01_153.wav 1\n",
            "/gdrive/MyDrive/Audio/C/01_154.wav 1\n",
            "/gdrive/MyDrive/Audio/C/01_155.wav 1\n",
            "/gdrive/MyDrive/Audio/C/01_156.wav 1\n",
            "/gdrive/MyDrive/Audio/C/01_157.wav 1\n",
            "/gdrive/MyDrive/Audio/C/01_158.wav 1\n",
            "/gdrive/MyDrive/Audio/C/01_159.wav 1\n",
            "/gdrive/MyDrive/Audio/C/01_160.wav 1\n",
            "/gdrive/MyDrive/Audio/C/01_161.wav 1\n",
            "/gdrive/MyDrive/Audio/C/01_162.wav 1\n",
            "/gdrive/MyDrive/Audio/C/01_163.wav 1\n",
            "/gdrive/MyDrive/Audio/C/01_164.wav 1\n",
            "/gdrive/MyDrive/Audio/C/01_165.wav 1\n",
            "/gdrive/MyDrive/Audio/C/01_166.wav 1\n",
            "/gdrive/MyDrive/Audio/C/01_167.wav 1\n",
            "/gdrive/MyDrive/Audio/C/01_169.wav 1\n",
            "/gdrive/MyDrive/Audio/C/01_168.wav 1\n",
            "/gdrive/MyDrive/Audio/C/01_170.wav 1\n",
            "/gdrive/MyDrive/Audio/C/01_171.wav 1\n",
            "/gdrive/MyDrive/Audio/C/01_172.wav 1\n",
            "/gdrive/MyDrive/Audio/C/01_173.wav 1\n",
            "/gdrive/MyDrive/Audio/C/01_174.wav 1\n",
            "/gdrive/MyDrive/Audio/C/01_175.wav 1\n",
            "/gdrive/MyDrive/Audio/C/01_176.wav 1\n",
            "/gdrive/MyDrive/Audio/C/01_177.wav 1\n",
            "/gdrive/MyDrive/Audio/C/01_178.wav 1\n",
            "/gdrive/MyDrive/Audio/C/01_179.wav 1\n",
            "/gdrive/MyDrive/Audio/C/01_180.wav 1\n",
            "/gdrive/MyDrive/Audio/C/01_181.wav 1\n",
            "/gdrive/MyDrive/Audio/C/01_182.wav 1\n",
            "/gdrive/MyDrive/Audio/C/01_183.wav 1\n",
            "/gdrive/MyDrive/Audio/C/01_185.wav 1\n",
            "/gdrive/MyDrive/Audio/C/01_184.wav 1\n",
            "/gdrive/MyDrive/Audio/C/01_186.wav 1\n",
            "/gdrive/MyDrive/Audio/C/01_187.wav 1\n",
            "/gdrive/MyDrive/Audio/C/01_188.wav 1\n",
            "/gdrive/MyDrive/Audio/C/01_189.wav 1\n",
            "/gdrive/MyDrive/Audio/C/01_190.wav 1\n",
            "/gdrive/MyDrive/Audio/C/01_191.wav 1\n",
            "/gdrive/MyDrive/Audio/C/01_192.wav 1\n",
            "/gdrive/MyDrive/Audio/C/01_193.wav 1\n",
            "/gdrive/MyDrive/Audio/C/01_194.wav 1\n",
            "/gdrive/MyDrive/Audio/C/01_195.wav 1\n",
            "/gdrive/MyDrive/Audio/C/01_196.wav 1\n",
            "/gdrive/MyDrive/Audio/C/01_197.wav 1\n",
            "/gdrive/MyDrive/Audio/C/01_198.wav 1\n",
            "/gdrive/MyDrive/Audio/C/01_199.wav 1\n",
            "/gdrive/MyDrive/Audio/C/01_200.wav 1\n",
            "/gdrive/MyDrive/Audio/C/01_201.wav 1\n",
            "/gdrive/MyDrive/Audio/C/01_202.wav 1\n",
            "/gdrive/MyDrive/Audio/C/01_203.wav 1\n",
            "/gdrive/MyDrive/Audio/C/01_204.wav 1\n",
            "/gdrive/MyDrive/Audio/C/01_205.wav 1\n",
            "/gdrive/MyDrive/Audio/C/01_206.wav 1\n",
            "/gdrive/MyDrive/Audio/C/01_207.wav 1\n",
            "/gdrive/MyDrive/Audio/C/01_208.wav 1\n",
            "/gdrive/MyDrive/Audio/C/01_209.wav 1\n",
            "/gdrive/MyDrive/Audio/C/01_210.wav 1\n",
            "/gdrive/MyDrive/Audio/C/01_211.wav 1\n",
            "/gdrive/MyDrive/Audio/C/01_212.wav 1\n",
            "/gdrive/MyDrive/Audio/C/01_213.wav 1\n",
            "/gdrive/MyDrive/Audio/C/01_214.wav 1\n",
            "/gdrive/MyDrive/Audio/C/01_215.wav 1\n",
            "/gdrive/MyDrive/Audio/C/01_216.wav 1\n",
            "/gdrive/MyDrive/Audio/C/01_217.wav 1\n",
            "/gdrive/MyDrive/Audio/C/01_218.wav 1\n",
            "/gdrive/MyDrive/Audio/C/01_219.wav 1\n",
            "/gdrive/MyDrive/Audio/C/01_220.wav 1\n",
            "/gdrive/MyDrive/Audio/C/01_221.wav 1\n",
            "/gdrive/MyDrive/Audio/C/01_222.wav 1\n",
            "/gdrive/MyDrive/Audio/C/01_223.wav 1\n",
            "/gdrive/MyDrive/Audio/C/01_224.wav 1\n",
            "/gdrive/MyDrive/Audio/C/01_225.wav 1\n",
            "/gdrive/MyDrive/Audio/C/01_226.wav 1\n"
          ]
        }
      ]
    },
    {
      "cell_type": "code",
      "source": [
        "print(raw_y[980])\n",
        "IPython.display.Audio(raw_x[980], rate=SAMPLING_RATE)"
      ],
      "metadata": {
        "colab": {
          "base_uri": "https://localhost:8080/",
          "height": 93
        },
        "id": "LMyoGSYqiA2D",
        "outputId": "9485d5ae-20bf-41ae-c37c-c8e65bfce696"
      },
      "execution_count": null,
      "outputs": [
        {
          "output_type": "stream",
          "name": "stdout",
          "text": [
            "0\n"
          ]
        },
        {
          "output_type": "execute_result",
          "data": {
            "text/plain": [
              "<IPython.lib.display.Audio object>"
            ],
            "text/html": [
              "\n",
              "                <audio  controls=\"controls\" >\n",
              "                    <source src=\"data:audio/wav;base64,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\" type=\"audio/wav\" />\n",
              "                    Your browser does not support the audio element.\n",
              "                </audio>\n",
              "              "
            ]
          },
          "metadata": {},
          "execution_count": 6
        }
      ]
    },
    {
      "cell_type": "code",
      "source": [
        "print(raw_y[1])\n",
        "IPython.display.Audio(raw_x[1], rate=SAMPLING_RATE)"
      ],
      "metadata": {
        "colab": {
          "base_uri": "https://localhost:8080/",
          "height": 93
        },
        "id": "bjXXExOuiHcr",
        "outputId": "af72a242-5ae2-474a-c288-942d0441f73d"
      },
      "execution_count": null,
      "outputs": [
        {
          "output_type": "stream",
          "name": "stdout",
          "text": [
            "1\n"
          ]
        },
        {
          "output_type": "execute_result",
          "data": {
            "text/plain": [
              "<IPython.lib.display.Audio object>"
            ],
            "text/html": [
              "\n",
              "                <audio  controls=\"controls\" >\n",
              "                    <source src=\"data:audio/wav;base64,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\" type=\"audio/wav\" />\n",
              "                    Your browser does not support the audio element.\n",
              "                </audio>\n",
              "              "
            ]
          },
          "metadata": {},
          "execution_count": 7
        }
      ]
    },
    {
      "cell_type": "code",
      "source": [
        "from collections import Counter\n",
        "Counter(raw_y)\n"
      ],
      "metadata": {
        "colab": {
          "base_uri": "https://localhost:8080/"
        },
        "id": "WY8Ro3dfdARJ",
        "outputId": "90d50014-ef08-4bd8-dab8-9bfa867c1274"
      },
      "execution_count": null,
      "outputs": [
        {
          "output_type": "execute_result",
          "data": {
            "text/plain": [
              "Counter({1: 409, 2: 420, 0: 397})"
            ]
          },
          "metadata": {},
          "execution_count": 8
        }
      ]
    },
    {
      "cell_type": "markdown",
      "source": [
        "# padding"
      ],
      "metadata": {
        "id": "M1e1eHmSNfY9"
      }
    },
    {
      "cell_type": "code",
      "source": [
        "lens = []\n",
        "for i in range(len(raw_x)):\n",
        "    lens.append(len(raw_x[i]))\n",
        "\n",
        "plt.hist(lens, bins=100)\n",
        "plt.show()"
      ],
      "metadata": {
        "colab": {
          "base_uri": "https://localhost:8080/",
          "height": 265
        },
        "id": "FsjDBDIOEVd4",
        "outputId": "65a1668b-99cb-4794-866e-87dea658900e"
      },
      "execution_count": null,
      "outputs": [
        {
          "output_type": "display_data",
          "data": {
            "text/plain": [
              "<Figure size 432x288 with 1 Axes>"
            ],
            "image/png": "[encoded data removed]"
          },
          "metadata": {
            "needs_background": "light"
          }
        }
      ]
    },
    {
      "cell_type": "code",
      "source": [
        "print(lens[:10])"
      ],
      "metadata": {
        "colab": {
          "base_uri": "https://localhost:8080/"
        },
        "id": "92aGHRkbkisj",
        "outputId": "16496df0-51d6-4810-a41e-73ad345ffd06"
      },
      "execution_count": null,
      "outputs": [
        {
          "output_type": "stream",
          "name": "stdout",
          "text": [
            "[9702, 10364, 9702, 13451, 13671, 12569, 12128, 11907, 12348, 12569]\n"
          ]
        }
      ]
    },
    {
      "cell_type": "code",
      "source": [
        "from tensorflow.keras.preprocessing import sequence\n",
        "\n",
        "padded_raw_x = sequence.pad_sequences(raw_x, maxlen=22050, padding='post', dtype=float)\n",
        "# 파일 길이를 똑같이 맞춤 22050 (1초로)"
      ],
      "metadata": {
        "id": "aghztZe9-1N5"
      },
      "execution_count": null,
      "outputs": []
    },
    {
      "cell_type": "code",
      "source": [
        "print(raw_y[980])\n",
        "IPython.display.Audio(raw_x[980], rate=SAMPLING_RATE)"
      ],
      "metadata": {
        "colab": {
          "base_uri": "https://localhost:8080/",
          "height": 93
        },
        "outputId": "38bbef0a-8d30-4e72-a6c1-5e9673a8e012",
        "id": "7mTCyMzWiVAZ"
      },
      "execution_count": null,
      "outputs": [
        {
          "output_type": "stream",
          "name": "stdout",
          "text": [
            "0\n"
          ]
        },
        {
          "output_type": "execute_result",
          "data": {
            "text/plain": [
              "<IPython.lib.display.Audio object>"
            ],
            "text/html": [
              "\n",
              "                <audio  controls=\"controls\" >\n",
              "                    <source src=\"data:audio/wav;base64,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\" type=\"audio/wav\" />\n",
              "                    Your browser does not support the audio element.\n",
              "                </audio>\n",
              "              "
            ]
          },
          "metadata": {},
          "execution_count": 12
        }
      ]
    },
    {
      "cell_type": "code",
      "source": [
        "print(raw_y[1])\n",
        "IPython.display.Audio(raw_x[1], rate=SAMPLING_RATE)"
      ],
      "metadata": {
        "colab": {
          "base_uri": "https://localhost:8080/",
          "height": 93
        },
        "outputId": "85843707-a506-46cd-d084-c8b6826c6d21",
        "id": "R6-jXew3iVAZ"
      },
      "execution_count": null,
      "outputs": [
        {
          "output_type": "stream",
          "name": "stdout",
          "text": [
            "1\n"
          ]
        },
        {
          "output_type": "execute_result",
          "data": {
            "text/plain": [
              "<IPython.lib.display.Audio object>"
            ],
            "text/html": [
              "\n",
              "                <audio  controls=\"controls\" >\n",
              "                    <source src=\"data:audio/wav;base64,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\" type=\"audio/wav\" />\n",
              "                    Your browser does not support the audio element.\n",
              "                </audio>\n",
              "              "
            ]
          },
          "metadata": {},
          "execution_count": 13
        }
      ]
    },
    {
      "cell_type": "code",
      "source": [
        "raw_x = np.array(padded_raw_x)\n",
        "raw_y = np.array(raw_y)\n",
        "print(raw_x.shape)  \n",
        "print(raw_y.shape)"
      ],
      "metadata": {
        "colab": {
          "base_uri": "https://localhost:8080/"
        },
        "id": "1b-zDbF--1LQ",
        "outputId": "e2442ddb-52f9-4ebf-fb08-a9f05cf70d27"
      },
      "execution_count": null,
      "outputs": [
        {
          "output_type": "stream",
          "name": "stdout",
          "text": [
            "(1226, 22050)\n",
            "(1226,)\n"
          ]
        }
      ]
    },
    {
      "cell_type": "code",
      "source": [
        "print(raw_y[980])\n",
        "IPython.display.Audio(raw_x[980], rate=SAMPLING_RATE)"
      ],
      "metadata": {
        "colab": {
          "base_uri": "https://localhost:8080/",
          "height": 93
        },
        "outputId": "069629a9-da7b-4e5a-a85b-27fc5b74d1ca",
        "id": "kvxddiJmibQf"
      },
      "execution_count": null,
      "outputs": [
        {
          "output_type": "stream",
          "name": "stdout",
          "text": [
            "0\n"
          ]
        },
        {
          "output_type": "execute_result",
          "data": {
            "text/plain": [
              "<IPython.lib.display.Audio object>"
            ],
            "text/html": [
              "\n",
              "                <audio  controls=\"controls\" >\n",
              "                    <source src=\"data:audio/wav;base64,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\" type=\"audio/wav\" />\n",
              "                    Your browser does not support the audio element.\n",
              "                </audio>\n",
              "              "
            ]
          },
          "metadata": {},
          "execution_count": 15
        }
      ]
    },
    {
      "cell_type": "code",
      "source": [
        "print(raw_y[1])\n",
        "IPython.display.Audio(raw_x[1], rate=SAMPLING_RATE)"
      ],
      "metadata": {
        "colab": {
          "base_uri": "https://localhost:8080/",
          "height": 93
        },
        "outputId": "68a73737-2d20-4ce5-a6f4-6fab6d6318d6",
        "id": "o02lV35TibQg"
      },
      "execution_count": null,
      "outputs": [
        {
          "output_type": "stream",
          "name": "stdout",
          "text": [
            "1\n"
          ]
        },
        {
          "output_type": "execute_result",
          "data": {
            "text/plain": [
              "<IPython.lib.display.Audio object>"
            ],
            "text/html": [
              "\n",
              "                <audio  controls=\"controls\" >\n",
              "                    <source src=\"data:audio/wav;base64,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\" type=\"audio/wav\" />\n",
              "                    Your browser does not support the audio element.\n",
              "                </audio>\n",
              "              "
            ]
          },
          "metadata": {},
          "execution_count": 16
        }
      ]
    },
    {
      "cell_type": "markdown",
      "source": [
        "# Normalization"
      ],
      "metadata": {
        "id": "fMc7mKiONdAs"
      }
    },
    {
      "cell_type": "code",
      "source": [],
      "metadata": {
        "id": "-KNY-Pztk8uI"
      },
      "execution_count": null,
      "outputs": []
    },
    {
      "cell_type": "code",
      "source": [
        "max = np.max(raw_x)\n",
        "min = np.min(raw_x)\n",
        "print(min, max)"
      ],
      "metadata": {
        "colab": {
          "base_uri": "https://localhost:8080/"
        },
        "id": "Yb7uzqDONoSF",
        "outputId": "8e18866e-68f7-4b95-abb1-4b3fec73c747"
      },
      "execution_count": null,
      "outputs": [
        {
          "output_type": "stream",
          "name": "stdout",
          "text": [
            "-1.0326271057128906 1.1331255435943604\n"
          ]
        }
      ]
    },
    {
      "cell_type": "code",
      "source": [
        "# raw_x = (raw_x - min) / (max - min)"
      ],
      "metadata": {
        "id": "xjE3MuKwNcGt"
      },
      "execution_count": null,
      "outputs": []
    },
    {
      "cell_type": "markdown",
      "source": [
        "# 2차원으로 reshape"
      ],
      "metadata": {
        "id": "T-iyrW8_N869"
      }
    },
    {
      "cell_type": "code",
      "source": [
        "print(raw_x.shape)\n",
        "raw_x = raw_x.reshape((len(raw_x),-1,1))\n",
        "print(raw_x.shape)"
      ],
      "metadata": {
        "id": "EXF8sZPYN_RL",
        "colab": {
          "base_uri": "https://localhost:8080/"
        },
        "outputId": "223ee2bd-0f17-465c-f8ca-439c87591748"
      },
      "execution_count": null,
      "outputs": [
        {
          "output_type": "stream",
          "name": "stdout",
          "text": [
            "(1226, 22050)\n",
            "(1226, 22050, 1)\n"
          ]
        }
      ]
    },
    {
      "cell_type": "markdown",
      "source": [
        "# 데이터 분리"
      ],
      "metadata": {
        "id": "EjXer_ucN67c"
      }
    },
    {
      "cell_type": "code",
      "source": [
        "from sklearn.model_selection import train_test_split\n",
        "\n",
        "train_x, test_x, train_y, test_y = train_test_split(raw_x, raw_y, test_size=0.2, shuffle=True)"
      ],
      "metadata": {
        "id": "Z54gJGmi-1Ig"
      },
      "execution_count": null,
      "outputs": []
    },
    {
      "cell_type": "code",
      "source": [
        "print(len(train_y))\n",
        "print(train_y[len(train_y)-1])\n",
        "IPython.display.Audio(train_x[len(train_y)-1].squeeze(), rate=SAMPLING_RATE)"
      ],
      "metadata": {
        "colab": {
          "base_uri": "https://localhost:8080/",
          "height": 112
        },
        "outputId": "6d745129-f0cb-4656-c874-f4fe83d73832",
        "id": "ar3Q1ezWinMR"
      },
      "execution_count": null,
      "outputs": [
        {
          "output_type": "stream",
          "name": "stdout",
          "text": [
            "980\n",
            "2\n"
          ]
        },
        {
          "output_type": "execute_result",
          "data": {
            "text/plain": [
              "<IPython.lib.display.Audio object>"
            ],
            "text/html": [
              "\n",
              "                <audio  controls=\"controls\" >\n",
              "                    <source src=\"data:audio/wav;base64,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\" type=\"audio/wav\" />\n",
              "                    Your browser does not support the audio element.\n",
              "                </audio>\n",
              "              "
            ]
          },
          "metadata": {},
          "execution_count": 21
        }
      ]
    },
    {
      "cell_type": "code",
      "source": [
        "print(train_y[1])\n",
        "IPython.display.Audio(train_x[1].squeeze(), rate=SAMPLING_RATE)"
      ],
      "metadata": {
        "colab": {
          "base_uri": "https://localhost:8080/",
          "height": 93
        },
        "outputId": "78b4eaee-64ff-4d18-f17f-c1fe8b6cf38b",
        "id": "RFKC_o3IinMS"
      },
      "execution_count": null,
      "outputs": [
        {
          "output_type": "stream",
          "name": "stdout",
          "text": [
            "1\n"
          ]
        },
        {
          "output_type": "execute_result",
          "data": {
            "text/plain": [
              "<IPython.lib.display.Audio object>"
            ],
            "text/html": [
              "\n",
              "                <audio  controls=\"controls\" >\n",
              "                    <source src=\"data:audio/wav;base64,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\" type=\"audio/wav\" />\n",
              "                    Your browser does not support the audio element.\n",
              "                </audio>\n",
              "              "
            ]
          },
          "metadata": {},
          "execution_count": 22
        }
      ]
    },
    {
      "cell_type": "code",
      "source": [
        "print(train_x.shape)\n",
        "print(train_y.shape)\n"
      ],
      "metadata": {
        "colab": {
          "base_uri": "https://localhost:8080/"
        },
        "id": "9DF-X34ifJgr",
        "outputId": "80d185b1-c943-4161-8799-0fe5a3a0c74e"
      },
      "execution_count": null,
      "outputs": [
        {
          "output_type": "stream",
          "name": "stdout",
          "text": [
            "(980, 22050, 1)\n",
            "(980,)\n"
          ]
        }
      ]
    },
    {
      "cell_type": "code",
      "source": [
        "# loss graph를 학습하면서 실시간으로 그리는 방법\n",
        "\n",
        "from IPython.display import clear_output\n",
        "from tensorflow.keras.callbacks import Callback\n",
        "\n",
        "class PlotLosses(Callback):\n",
        "\n",
        "  def on_train_begin(self, logs={}):\n",
        "    self.epochs = []\n",
        "    self.losses = []\n",
        "    self.val_losses = []\n",
        "    self.logs = []\n",
        "    self.fig = plt.figure()\n",
        "\n",
        "\n",
        "  def on_epoch_end(self, epoch, logs={}):\n",
        "\n",
        "    self.epochs.append(epoch)\n",
        "    self.losses.append(logs.get('loss'))\n",
        "    self.val_losses.append(logs.get('val_loss'))\n",
        "\n",
        "    clear_output(wait=True)\n",
        "    plt.plot(self.epochs, self.losses, label=\"loss\")\n",
        "    plt.plot(self.epochs, self.val_losses, label=\"val_loss\")\n",
        "    plt.legend()\n",
        "    plt.show();\n",
        "    print(\"epochs = \", self.epochs[-1], \"loss = \", self.losses[-1], \", val_loss = \", self.val_losses[-1])"
      ],
      "metadata": {
        "id": "xULPFYqYA4Pv"
      },
      "execution_count": null,
      "outputs": []
    },
    {
      "cell_type": "code",
      "source": [
        "from tensorflow import keras\n",
        "from tensorflow.keras.layers import Dense, RepeatVector, Flatten, Input, Activation\n",
        "from tensorflow.keras.layers import Bidirectional, LSTM, GRU, Conv1D, MaxPooling1D, AveragePooling1D, Add, MaxPool1D\n",
        "from tensorflow.keras.layers import Dropout, GaussianNoise, BatchNormalization\n",
        "from tensorflow.keras.regularizers import l1, l2, L1L2\n",
        "\n",
        "input_shape = train_x.shape[1:]\n",
        "num_classes = 3  # C 폴더 [0: 나무, 1:까치, 2:의자]\n",
        "\n",
        "model = keras.Sequential()\n",
        "model.add(Input(input_shape))\n",
        "\n",
        "model.add(Conv1D(32, 9, padding=\"same\", activation=\"relu\"))  \n",
        "model.add(Conv1D(32, 9, padding=\"same\", activation=\"relu\")) \n",
        "model.add(MaxPooling1D())\n",
        "\n",
        "model.add(Conv1D(64, 9, padding=\"same\", activation=\"relu\"))  \n",
        "model.add(Conv1D(64, 9, padding=\"same\", activation=\"relu\"))  \n",
        "model.add(MaxPooling1D())\n",
        "\n",
        "model.add(Conv1D(128, 9, padding=\"same\", activation=\"relu\"))  \n",
        "model.add(Conv1D(128, 9, padding=\"same\", activation=\"relu\"))  \n",
        "model.add(Conv1D(128, 9, padding=\"same\", activation=\"relu\"))  \n",
        "model.add(MaxPooling1D())\n",
        "\n",
        "model.add(Conv1D(256, 9, padding=\"same\", activation=\"relu\"))  \n",
        "model.add(Conv1D(256, 9, padding=\"same\", activation=\"relu\"))  \n",
        "model.add(Conv1D(256, 9, padding=\"same\", activation=\"relu\"))  \n",
        "model.add(MaxPooling1D())\n",
        "model.add(Dropout(0.3))\n",
        "\n",
        "model.add(Flatten())\n",
        "model.add(Dense(256, activation=\"relu\")) #, kernel_regularizer=l2()))\n",
        "model.add(BatchNormalization())\n",
        "\n",
        "model.add(Dense(num_classes, activation=\"softmax\"))  \n",
        "\n",
        "from tensorflow.keras.optimizers import Adam, Adadelta, SGD\n",
        "optimizer = Adam(learning_rate=0.001*0.1, decay=0.01) \n",
        "\n",
        "model.compile(loss=\"sparse_categorical_crossentropy\", optimizer=optimizer, metrics=[\"acc\"])\n",
        "model.summary()\n"
      ],
      "metadata": {
        "colab": {
          "base_uri": "https://localhost:8080/"
        },
        "id": "pT7VVvOygvXA",
        "outputId": "6639ba8e-8768-43cc-84c8-49c1aefce69f"
      },
      "execution_count": null,
      "outputs": [
        {
          "output_type": "stream",
          "name": "stdout",
          "text": [
            "Model: \"sequential\"\n",
            "_________________________________________________________________\n",
            " Layer (type)                Output Shape              Param #   \n",
            "=================================================================\n",
            " conv1d (Conv1D)             (None, 22050, 32)         320       \n",
            "                                                                 \n",
            " conv1d_1 (Conv1D)           (None, 22050, 32)         9248      \n",
            "                                                                 \n",
            " max_pooling1d (MaxPooling1D  (None, 11025, 32)        0         \n",
            " )                                                               \n",
            "                                                                 \n",
            " conv1d_2 (Conv1D)           (None, 11025, 64)         18496     \n",
            "                                                                 \n",
            " conv1d_3 (Conv1D)           (None, 11025, 64)         36928     \n",
            "                                                                 \n",
            " max_pooling1d_1 (MaxPooling  (None, 5512, 64)         0         \n",
            " 1D)                                                             \n",
            "                                                                 \n",
            " conv1d_4 (Conv1D)           (None, 5512, 128)         73856     \n",
            "                                                                 \n",
            " conv1d_5 (Conv1D)           (None, 5512, 128)         147584    \n",
            "                                                                 \n",
            " conv1d_6 (Conv1D)           (None, 5512, 128)         147584    \n",
            "                                                                 \n",
            " max_pooling1d_2 (MaxPooling  (None, 2756, 128)        0         \n",
            " 1D)                                                             \n",
            "                                                                 \n",
            " conv1d_7 (Conv1D)           (None, 2756, 256)         295168    \n",
            "                                                                 \n",
            " conv1d_8 (Conv1D)           (None, 2756, 256)         590080    \n",
            "                                                                 \n",
            " conv1d_9 (Conv1D)           (None, 2756, 256)         590080    \n",
            "                                                                 \n",
            " max_pooling1d_3 (MaxPooling  (None, 1378, 256)        0         \n",
            " 1D)                                                             \n",
            "                                                                 \n",
            " dropout (Dropout)           (None, 1378, 256)         0         \n",
            "                                                                 \n",
            " flatten (Flatten)           (None, 352768)            0         \n",
            "                                                                 \n",
            " dense (Dense)               (None, 256)               90308864  \n",
            "                                                                 \n",
            " batch_normalization (BatchN  (None, 256)              1024      \n",
            " ormalization)                                                   \n",
            "                                                                 \n",
            " dense_1 (Dense)             (None, 3)                 771       \n",
            "                                                                 \n",
            "=================================================================\n",
            "Total params: 92,220,003\n",
            "Trainable params: 92,219,491\n",
            "Non-trainable params: 512\n",
            "_________________________________________________________________\n"
          ]
        }
      ]
    },
    {
      "cell_type": "code",
      "source": [
        "plot_losses = PlotLosses()\n",
        "history = model.fit(train_x, train_y, epochs=100, verbose=1, validation_split=0.1, batch_size=16,\n",
        "                    callbacks=[plot_losses])"
      ],
      "metadata": {
        "colab": {
          "base_uri": "https://localhost:8080/",
          "height": 302
        },
        "id": "ksVvwmtJjQ9S",
        "outputId": "05e23743-2ee0-4e73-bba2-d8e056277a50"
      },
      "execution_count": null,
      "outputs": [
        {
          "output_type": "display_data",
          "data": {
            "text/plain": [
              "<Figure size 432x288 with 1 Axes>"
            ],
            "image/png": "[encoded data removed]"
          },
          "metadata": {
            "needs_background": "light"
          }
        },
        {
          "output_type": "stream",
          "name": "stdout",
          "text": [
            "epochs =  99 loss =  0.007293646223843098 , val_loss =  0.00369760999456048\n",
            "\b\b\b\b\b\b\b\b\b\b\b\b\b\b\b\b\b\b\b\b\b\b\b\b\b\b\b\b\b\b\b\b\b\b\b\b\b\b\b\b\b\b\b\b\b\b\b\b\b\b\b\b\b\b\b\b\b\b\b\b\b\b\b\b\b\b\b\b\b\b\b\b\b\b\b\b\b\r56/56 [==============================] - 7s 133ms/step - loss: 0.0073 - acc: 0.9989 - val_loss: 0.0037 - val_acc: 1.0000\n"
          ]
        }
      ]
    },
    {
      "cell_type": "code",
      "source": [
        "loss, acc = model.evaluate(test_x, test_y)\n",
        "print(\"loss=\", loss)\n",
        "print(\"acc=\", acc)\n",
        "\n",
        "\n",
        "y_ = model.predict(test_x)\n",
        "predicted = np.argmax(y_, axis=-1)\n",
        "plt.plot(test_y[:30], 'o')\n",
        "plt.plot(predicted[:30], '.')\n",
        "plt.show()\n"
      ],
      "metadata": {
        "id": "8lHjjByavmmo",
        "colab": {
          "base_uri": "https://localhost:8080/",
          "height": 321
        },
        "outputId": "ec0d351a-5c12-463d-bcc3-85f701916a03"
      },
      "execution_count": null,
      "outputs": [
        {
          "output_type": "stream",
          "name": "stdout",
          "text": [
            "8/8 [==============================] - 1s 71ms/step - loss: 0.0157 - acc: 0.9919\n",
            "loss= 0.015708377584815025\n",
            "acc= 0.9918699264526367\n"
          ]
        },
        {
          "output_type": "display_data",
          "data": {
            "text/plain": [
              "<Figure size 432x288 with 1 Axes>"
            ],
            "image/png": "[encoded data removed]"
          },
          "metadata": {
            "needs_background": "light"
          }
        }
      ]
    },
    {
      "cell_type": "code",
      "source": [
        "model.save('../gdrive/MyDrive/Audio/model/ganada_C.h5')"
      ],
      "metadata": {
        "id": "dFjSSA8-p1oV"
      },
      "execution_count": null,
      "outputs": []
    },
    {
      "cell_type": "code",
      "source": [],
      "metadata": {
        "id": "uZE3GSegUxVG"
      },
      "execution_count": null,
      "outputs": []
    }
  ]
}