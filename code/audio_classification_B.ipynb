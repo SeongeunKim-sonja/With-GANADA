{
  "nbformat": 4,
  "nbformat_minor": 0,
  "metadata": {
    "colab": {
      "name": "audio_classification_B.ipynb",
      "provenance": [],
      "collapsed_sections": [],
      "machine_shape": "hm",
      "include_colab_link": true
    },
    "kernelspec": {
      "name": "python3",
      "display_name": "Python 3"
    },
    "language_info": {
      "name": "python"
    },
    "accelerator": "GPU",
    "gpuClass": "standard"
  },
  "cells": [
    {
      "cell_type": "markdown",
      "metadata": {
        "id": "view-in-github",
        "colab_type": "text"
      },
      "source": [
        "<a href=\"https://colab.research.google.com/github/bomij33/With-GANADA/blob/bomi/code/audio_classification_B.ipynb\" target=\"_parent\"><img src=\"https://colab.research.google.com/assets/colab-badge.svg\" alt=\"Open In Colab\"/></a>"
      ]
    },
    {
      "cell_type": "markdown",
      "source": [
        "# Tensorflow 버전 다운로드 2.8.0"
      ],
      "metadata": {
        "id": "PA6S3Wm8D4D4"
      }
    },
    {
      "cell_type": "code",
      "source": [
        "import tensorflow as tf\n",
        "print(tf.__version__)"
      ],
      "metadata": {
        "colab": {
          "base_uri": "https://localhost:8080/"
        },
        "id": "b6FxXRPnT828",
        "outputId": "f419cad7-dbd7-4804-9f44-858828cea07d"
      },
      "execution_count": null,
      "outputs": [
        {
          "output_type": "stream",
          "name": "stdout",
          "text": [
            "2.8.2\n"
          ]
        }
      ]
    },
    {
      "cell_type": "code",
      "source": [
        "!pip uninstall tensorflow"
      ],
      "metadata": {
        "colab": {
          "base_uri": "https://localhost:8080/"
        },
        "id": "KU2qUfwbxImC",
        "outputId": "c91c5048-981b-4f01-8d93-8a028eae3efa"
      },
      "execution_count": null,
      "outputs": [
        {
          "output_type": "stream",
          "name": "stdout",
          "text": [
            "Found existing installation: tensorflow 2.8.2+zzzcolab20220719082949\n",
            "Uninstalling tensorflow-2.8.2+zzzcolab20220719082949:\n",
            "  Would remove:\n",
            "    /usr/local/bin/estimator_ckpt_converter\n",
            "    /usr/local/bin/import_pb_to_tensorboard\n",
            "    /usr/local/bin/saved_model_cli\n",
            "    /usr/local/bin/tensorboard\n",
            "    /usr/local/bin/tf_upgrade_v2\n",
            "    /usr/local/bin/tflite_convert\n",
            "    /usr/local/bin/toco\n",
            "    /usr/local/bin/toco_from_protos\n",
            "    /usr/local/lib/python3.7/dist-packages/tensorflow-2.8.2+zzzcolab20220719082949.dist-info/*\n",
            "    /usr/local/lib/python3.7/dist-packages/tensorflow/*\n",
            "Proceed (y/n)? y\n",
            "  Successfully uninstalled tensorflow-2.8.2+zzzcolab20220719082949\n"
          ]
        }
      ]
    },
    {
      "cell_type": "code",
      "source": [
        "!pip install tensorflow==2.8.0"
      ],
      "metadata": {
        "colab": {
          "base_uri": "https://localhost:8080/",
          "height": 1000
        },
        "id": "2Tg_70W8xSMY",
        "outputId": "a41364c9-0bc7-463d-9f8a-6e4a1666cdf8"
      },
      "execution_count": null,
      "outputs": [
        {
          "output_type": "stream",
          "name": "stdout",
          "text": [
            "Looking in indexes: https://pypi.org/simple, https://us-python.pkg.dev/colab-wheels/public/simple/\n",
            "Collecting tensorflow==2.8.0\n",
            "  Downloading https://us-python.pkg.dev/colab-wheels/public/tensorflow/tensorflow-2.8.0%2Bzzzcolab20220506162203-cp37-cp37m-linux_x86_64.whl (668.3 MB)\n",
            "\u001b[K     |████████████████████████████████| 668.3 MB 17 kB/s \n",
            "\u001b[?25hRequirement already satisfied: typing-extensions>=3.6.6 in /usr/local/lib/python3.7/dist-packages (from tensorflow==2.8.0) (4.1.1)\n",
            "Requirement already satisfied: six>=1.12.0 in /usr/local/lib/python3.7/dist-packages (from tensorflow==2.8.0) (1.15.0)\n",
            "Requirement already satisfied: google-pasta>=0.1.1 in /usr/local/lib/python3.7/dist-packages (from tensorflow==2.8.0) (0.2.0)\n",
            "Requirement already satisfied: termcolor>=1.1.0 in /usr/local/lib/python3.7/dist-packages (from tensorflow==2.8.0) (1.1.0)\n",
            "Requirement already satisfied: keras<2.9,>=2.8.0rc0 in /usr/local/lib/python3.7/dist-packages (from tensorflow==2.8.0) (2.8.0)\n",
            "Requirement already satisfied: numpy>=1.20 in /usr/local/lib/python3.7/dist-packages (from tensorflow==2.8.0) (1.21.6)\n",
            "Requirement already satisfied: keras-preprocessing>=1.1.1 in /usr/local/lib/python3.7/dist-packages (from tensorflow==2.8.0) (1.1.2)\n",
            "Requirement already satisfied: setuptools in /usr/local/lib/python3.7/dist-packages (from tensorflow==2.8.0) (57.4.0)\n",
            "Requirement already satisfied: flatbuffers>=1.12 in /usr/local/lib/python3.7/dist-packages (from tensorflow==2.8.0) (2.0)\n",
            "Requirement already satisfied: wrapt>=1.11.0 in /usr/local/lib/python3.7/dist-packages (from tensorflow==2.8.0) (1.14.1)\n",
            "Requirement already satisfied: opt-einsum>=2.3.2 in /usr/local/lib/python3.7/dist-packages (from tensorflow==2.8.0) (3.3.0)\n",
            "Requirement already satisfied: gast>=0.2.1 in /usr/local/lib/python3.7/dist-packages (from tensorflow==2.8.0) (0.5.3)\n",
            "Requirement already satisfied: tensorflow-io-gcs-filesystem>=0.23.1 in /usr/local/lib/python3.7/dist-packages (from tensorflow==2.8.0) (0.26.0)\n",
            "Requirement already satisfied: tensorboard<2.9,>=2.8 in /usr/local/lib/python3.7/dist-packages (from tensorflow==2.8.0) (2.8.0)\n",
            "Requirement already satisfied: astunparse>=1.6.0 in /usr/local/lib/python3.7/dist-packages (from tensorflow==2.8.0) (1.6.3)\n",
            "Collecting tf-estimator-nightly==2.8.0.dev2021122109\n",
            "  Downloading tf_estimator_nightly-2.8.0.dev2021122109-py2.py3-none-any.whl (462 kB)\n",
            "\u001b[K     |████████████████████████████████| 462 kB 4.3 MB/s \n",
            "\u001b[?25hRequirement already satisfied: absl-py>=0.4.0 in /usr/local/lib/python3.7/dist-packages (from tensorflow==2.8.0) (1.2.0)\n",
            "Requirement already satisfied: grpcio<2.0,>=1.24.3 in /usr/local/lib/python3.7/dist-packages (from tensorflow==2.8.0) (1.47.0)\n",
            "Requirement already satisfied: h5py>=2.9.0 in /usr/local/lib/python3.7/dist-packages (from tensorflow==2.8.0) (3.1.0)\n",
            "Requirement already satisfied: protobuf>=3.9.2 in /usr/local/lib/python3.7/dist-packages (from tensorflow==2.8.0) (3.17.3)\n",
            "Requirement already satisfied: libclang>=9.0.1 in /usr/local/lib/python3.7/dist-packages (from tensorflow==2.8.0) (14.0.6)\n",
            "Requirement already satisfied: wheel<1.0,>=0.23.0 in /usr/local/lib/python3.7/dist-packages (from astunparse>=1.6.0->tensorflow==2.8.0) (0.37.1)\n",
            "Requirement already satisfied: cached-property in /usr/local/lib/python3.7/dist-packages (from h5py>=2.9.0->tensorflow==2.8.0) (1.5.2)\n",
            "Requirement already satisfied: google-auth-oauthlib<0.5,>=0.4.1 in /usr/local/lib/python3.7/dist-packages (from tensorboard<2.9,>=2.8->tensorflow==2.8.0) (0.4.6)\n",
            "Requirement already satisfied: tensorboard-plugin-wit>=1.6.0 in /usr/local/lib/python3.7/dist-packages (from tensorboard<2.9,>=2.8->tensorflow==2.8.0) (1.8.1)\n",
            "Requirement already satisfied: requests<3,>=2.21.0 in /usr/local/lib/python3.7/dist-packages (from tensorboard<2.9,>=2.8->tensorflow==2.8.0) (2.23.0)\n",
            "Requirement already satisfied: tensorboard-data-server<0.7.0,>=0.6.0 in /usr/local/lib/python3.7/dist-packages (from tensorboard<2.9,>=2.8->tensorflow==2.8.0) (0.6.1)\n",
            "Requirement already satisfied: markdown>=2.6.8 in /usr/local/lib/python3.7/dist-packages (from tensorboard<2.9,>=2.8->tensorflow==2.8.0) (3.4.1)\n",
            "Requirement already satisfied: google-auth<3,>=1.6.3 in /usr/local/lib/python3.7/dist-packages (from tensorboard<2.9,>=2.8->tensorflow==2.8.0) (1.35.0)\n",
            "Requirement already satisfied: werkzeug>=0.11.15 in /usr/local/lib/python3.7/dist-packages (from tensorboard<2.9,>=2.8->tensorflow==2.8.0) (1.0.1)\n",
            "Requirement already satisfied: rsa<5,>=3.1.4 in /usr/local/lib/python3.7/dist-packages (from google-auth<3,>=1.6.3->tensorboard<2.9,>=2.8->tensorflow==2.8.0) (4.9)\n",
            "Requirement already satisfied: pyasn1-modules>=0.2.1 in /usr/local/lib/python3.7/dist-packages (from google-auth<3,>=1.6.3->tensorboard<2.9,>=2.8->tensorflow==2.8.0) (0.2.8)\n",
            "Requirement already satisfied: cachetools<5.0,>=2.0.0 in /usr/local/lib/python3.7/dist-packages (from google-auth<3,>=1.6.3->tensorboard<2.9,>=2.8->tensorflow==2.8.0) (4.2.4)\n",
            "Requirement already satisfied: requests-oauthlib>=0.7.0 in /usr/local/lib/python3.7/dist-packages (from google-auth-oauthlib<0.5,>=0.4.1->tensorboard<2.9,>=2.8->tensorflow==2.8.0) (1.3.1)\n",
            "Requirement already satisfied: importlib-metadata>=4.4 in /usr/local/lib/python3.7/dist-packages (from markdown>=2.6.8->tensorboard<2.9,>=2.8->tensorflow==2.8.0) (4.12.0)\n",
            "Requirement already satisfied: zipp>=0.5 in /usr/local/lib/python3.7/dist-packages (from importlib-metadata>=4.4->markdown>=2.6.8->tensorboard<2.9,>=2.8->tensorflow==2.8.0) (3.8.1)\n",
            "Requirement already satisfied: pyasn1<0.5.0,>=0.4.6 in /usr/local/lib/python3.7/dist-packages (from pyasn1-modules>=0.2.1->google-auth<3,>=1.6.3->tensorboard<2.9,>=2.8->tensorflow==2.8.0) (0.4.8)\n",
            "Requirement already satisfied: urllib3!=1.25.0,!=1.25.1,<1.26,>=1.21.1 in /usr/local/lib/python3.7/dist-packages (from requests<3,>=2.21.0->tensorboard<2.9,>=2.8->tensorflow==2.8.0) (1.24.3)\n",
            "Requirement already satisfied: certifi>=2017.4.17 in /usr/local/lib/python3.7/dist-packages (from requests<3,>=2.21.0->tensorboard<2.9,>=2.8->tensorflow==2.8.0) (2022.6.15)\n",
            "Requirement already satisfied: chardet<4,>=3.0.2 in /usr/local/lib/python3.7/dist-packages (from requests<3,>=2.21.0->tensorboard<2.9,>=2.8->tensorflow==2.8.0) (3.0.4)\n",
            "Requirement already satisfied: idna<3,>=2.5 in /usr/local/lib/python3.7/dist-packages (from requests<3,>=2.21.0->tensorboard<2.9,>=2.8->tensorflow==2.8.0) (2.10)\n",
            "Requirement already satisfied: oauthlib>=3.0.0 in /usr/local/lib/python3.7/dist-packages (from requests-oauthlib>=0.7.0->google-auth-oauthlib<0.5,>=0.4.1->tensorboard<2.9,>=2.8->tensorflow==2.8.0) (3.2.0)\n",
            "Installing collected packages: tf-estimator-nightly, tensorflow\n",
            "Successfully installed tensorflow-2.8.0+zzzcolab20220506162203 tf-estimator-nightly-2.8.0.dev2021122109\n"
          ]
        },
        {
          "output_type": "display_data",
          "data": {
            "application/vnd.colab-display-data+json": {
              "pip_warning": {
                "packages": [
                  "tensorflow"
                ]
              }
            }
          },
          "metadata": {}
        }
      ]
    },
    {
      "cell_type": "code",
      "source": [
        "# restart 후 확인\n",
        "import tensorflow as tf\n",
        "print(tf.__version__)"
      ],
      "metadata": {
        "colab": {
          "base_uri": "https://localhost:8080/"
        },
        "id": "h7DPpjeyxifv",
        "outputId": "d71357e6-2df1-4f03-f99f-7928b7778a78"
      },
      "execution_count": null,
      "outputs": [
        {
          "output_type": "stream",
          "name": "stdout",
          "text": [
            "2.8.2\n"
          ]
        }
      ]
    },
    {
      "cell_type": "markdown",
      "source": [
        "# 데이터 로딩"
      ],
      "metadata": {
        "id": "633sPckREDYg"
      }
    },
    {
      "cell_type": "code",
      "source": [
        "from google.colab import drive\n",
        "drive.mount('/gdrive')"
      ],
      "metadata": {
        "id": "KxyFkVYcdqlJ",
        "colab": {
          "base_uri": "https://localhost:8080/"
        },
        "outputId": "0d055b05-693d-4650-b02c-a51acecac173"
      },
      "execution_count": 1,
      "outputs": [
        {
          "output_type": "stream",
          "name": "stdout",
          "text": [
            "Mounted at /gdrive\n"
          ]
        }
      ]
    },
    {
      "cell_type": "code",
      "source": [
        "import pandas as pd\n",
        "import numpy as np\n",
        "import matplotlib.pyplot as plt"
      ],
      "metadata": {
        "id": "mG4zvhT7ES63"
      },
      "execution_count": 2,
      "outputs": []
    },
    {
      "cell_type": "code",
      "source": [
        "import IPython\n",
        "import librosa\n",
        "SAMPLING_RATE = 22050"
      ],
      "metadata": {
        "id": "nH0sWXDSyeSc"
      },
      "execution_count": 3,
      "outputs": []
    },
    {
      "cell_type": "code",
      "source": [
        "import glob\n",
        "\n",
        "file_list = glob.glob(\"/gdrive/MyDrive/Audio/B/*.wav\")\n",
        "print(len(file_list))\n",
        "print(file_list[:3]) "
      ],
      "metadata": {
        "colab": {
          "base_uri": "https://localhost:8080/"
        },
        "id": "8HVbzOwCGAUQ",
        "outputId": "8f7d4e85-0e1b-4b67-d688-bfef452daa4e"
      },
      "execution_count": 4,
      "outputs": [
        {
          "output_type": "stream",
          "name": "stdout",
          "text": [
            "1153\n",
            "['/gdrive/MyDrive/Audio/B/00_153.wav', '/gdrive/MyDrive/Audio/B/00_154.wav', '/gdrive/MyDrive/Audio/B/00_155.wav']\n"
          ]
        }
      ]
    },
    {
      "cell_type": "code",
      "source": [
        "def load_wav(file_name):\n",
        "    data, _ = librosa.load(file_name, sr=SAMPLING_RATE)\n",
        "    return data\n",
        "\n",
        "raw_x = [] # data\n",
        "raw_y = [] # label\n",
        "for file_name in file_list:\n",
        "    label = int(file_name.split(\"/\")[-1].split(\"_\")[0])  # 파일명을 /로 구분하여 스필릿, 다시 _로 스플릿\n",
        "    # label = file_name.split(\"/\")[-1].split(\"_\")[0]\n",
        "\n",
        "    # label 은 파일명의 첫 3글자만 ex) A00\n",
        "    print(file_name, label)\n",
        "    data = load_wav(file_name)\n",
        "    raw_x.append(data)\n",
        "    raw_y.append(label)\n"
      ],
      "metadata": {
        "colab": {
          "base_uri": "https://localhost:8080/"
        },
        "id": "Aumki802EVg5",
        "outputId": "1c0fcdfe-542e-4333-daa8-81ea87cf85c0"
      },
      "execution_count": 5,
      "outputs": [
        {
          "output_type": "stream",
          "name": "stdout",
          "text": [
            "/gdrive/MyDrive/Audio/B/00_153.wav 0\n",
            "/gdrive/MyDrive/Audio/B/00_154.wav 0\n",
            "/gdrive/MyDrive/Audio/B/00_155.wav 0\n",
            "/gdrive/MyDrive/Audio/B/00_156.wav 0\n",
            "/gdrive/MyDrive/Audio/B/00_157.wav 0\n",
            "/gdrive/MyDrive/Audio/B/00_158.wav 0\n",
            "/gdrive/MyDrive/Audio/B/00_159.wav 0\n",
            "/gdrive/MyDrive/Audio/B/00_160.wav 0\n",
            "/gdrive/MyDrive/Audio/B/00_161.wav 0\n",
            "/gdrive/MyDrive/Audio/B/00_162.wav 0\n",
            "/gdrive/MyDrive/Audio/B/00_163.wav 0\n",
            "/gdrive/MyDrive/Audio/B/00_164.wav 0\n",
            "/gdrive/MyDrive/Audio/B/00_165.wav 0\n",
            "/gdrive/MyDrive/Audio/B/00_166.wav 0\n",
            "/gdrive/MyDrive/Audio/B/00_167.wav 0\n",
            "/gdrive/MyDrive/Audio/B/00_168.wav 0\n",
            "/gdrive/MyDrive/Audio/B/00_169.wav 0\n",
            "/gdrive/MyDrive/Audio/B/00_170.wav 0\n",
            "/gdrive/MyDrive/Audio/B/00_171.wav 0\n",
            "/gdrive/MyDrive/Audio/B/00_172.wav 0\n",
            "/gdrive/MyDrive/Audio/B/00_173.wav 0\n",
            "/gdrive/MyDrive/Audio/B/00_174.wav 0\n",
            "/gdrive/MyDrive/Audio/B/00_175.wav 0\n",
            "/gdrive/MyDrive/Audio/B/00_176.wav 0\n",
            "/gdrive/MyDrive/Audio/B/00_177.wav 0\n",
            "/gdrive/MyDrive/Audio/B/00_178.wav 0\n",
            "/gdrive/MyDrive/Audio/B/00_179.wav 0\n",
            "/gdrive/MyDrive/Audio/B/00_180.wav 0\n",
            "/gdrive/MyDrive/Audio/B/00_181.wav 0\n",
            "/gdrive/MyDrive/Audio/B/00_182.wav 0\n",
            "/gdrive/MyDrive/Audio/B/00_183.wav 0\n",
            "/gdrive/MyDrive/Audio/B/00_184.wav 0\n",
            "/gdrive/MyDrive/Audio/B/00_185.wav 0\n",
            "/gdrive/MyDrive/Audio/B/00_186.wav 0\n",
            "/gdrive/MyDrive/Audio/B/00_187.wav 0\n",
            "/gdrive/MyDrive/Audio/B/00_188.wav 0\n",
            "/gdrive/MyDrive/Audio/B/00_189.wav 0\n",
            "/gdrive/MyDrive/Audio/B/00_190.wav 0\n",
            "/gdrive/MyDrive/Audio/B/00_191.wav 0\n",
            "/gdrive/MyDrive/Audio/B/00_192.wav 0\n",
            "/gdrive/MyDrive/Audio/B/00_193.wav 0\n",
            "/gdrive/MyDrive/Audio/B/00_194.wav 0\n",
            "/gdrive/MyDrive/Audio/B/00_195.wav 0\n",
            "/gdrive/MyDrive/Audio/B/00_196.wav 0\n",
            "/gdrive/MyDrive/Audio/B/00_197.wav 0\n",
            "/gdrive/MyDrive/Audio/B/00_198.wav 0\n",
            "/gdrive/MyDrive/Audio/B/00_199.wav 0\n",
            "/gdrive/MyDrive/Audio/B/00_200.wav 0\n",
            "/gdrive/MyDrive/Audio/B/00_201.wav 0\n",
            "/gdrive/MyDrive/Audio/B/00_202.wav 0\n",
            "/gdrive/MyDrive/Audio/B/00_203.wav 0\n",
            "/gdrive/MyDrive/Audio/B/00_204.wav 0\n",
            "/gdrive/MyDrive/Audio/B/00_205.wav 0\n",
            "/gdrive/MyDrive/Audio/B/00_206.wav 0\n",
            "/gdrive/MyDrive/Audio/B/00_207.wav 0\n",
            "/gdrive/MyDrive/Audio/B/00_208.wav 0\n",
            "/gdrive/MyDrive/Audio/B/00_209.wav 0\n",
            "/gdrive/MyDrive/Audio/B/00_210.wav 0\n",
            "/gdrive/MyDrive/Audio/B/00_211.wav 0\n",
            "/gdrive/MyDrive/Audio/B/00_212.wav 0\n",
            "/gdrive/MyDrive/Audio/B/00_213.wav 0\n",
            "/gdrive/MyDrive/Audio/B/00_214.wav 0\n",
            "/gdrive/MyDrive/Audio/B/00_215.wav 0\n",
            "/gdrive/MyDrive/Audio/B/00_216.wav 0\n",
            "/gdrive/MyDrive/Audio/B/00_217.wav 0\n",
            "/gdrive/MyDrive/Audio/B/00_218.wav 0\n",
            "/gdrive/MyDrive/Audio/B/00_219.wav 0\n",
            "/gdrive/MyDrive/Audio/B/00_220.wav 0\n",
            "/gdrive/MyDrive/Audio/B/00_221.wav 0\n",
            "/gdrive/MyDrive/Audio/B/00_222.wav 0\n",
            "/gdrive/MyDrive/Audio/B/00_223.wav 0\n",
            "/gdrive/MyDrive/Audio/B/00_224.wav 0\n",
            "/gdrive/MyDrive/Audio/B/00_225.wav 0\n",
            "/gdrive/MyDrive/Audio/B/00_226.wav 0\n",
            "/gdrive/MyDrive/Audio/B/00_227.wav 0\n",
            "/gdrive/MyDrive/Audio/B/00_228.wav 0\n",
            "/gdrive/MyDrive/Audio/B/00_229.wav 0\n",
            "/gdrive/MyDrive/Audio/B/00_230.wav 0\n",
            "/gdrive/MyDrive/Audio/B/00_231.wav 0\n",
            "/gdrive/MyDrive/Audio/B/00_232.wav 0\n",
            "/gdrive/MyDrive/Audio/B/00_233.wav 0\n",
            "/gdrive/MyDrive/Audio/B/00_234.wav 0\n",
            "/gdrive/MyDrive/Audio/B/00_235.wav 0\n",
            "/gdrive/MyDrive/Audio/B/00_236.wav 0\n",
            "/gdrive/MyDrive/Audio/B/00_237.wav 0\n",
            "/gdrive/MyDrive/Audio/B/00_238.wav 0\n",
            "/gdrive/MyDrive/Audio/B/00_239.wav 0\n",
            "/gdrive/MyDrive/Audio/B/00_240.wav 0\n",
            "/gdrive/MyDrive/Audio/B/00_241.wav 0\n",
            "/gdrive/MyDrive/Audio/B/00_242.wav 0\n",
            "/gdrive/MyDrive/Audio/B/00_243.wav 0\n",
            "/gdrive/MyDrive/Audio/B/00_244.wav 0\n",
            "/gdrive/MyDrive/Audio/B/00_245.wav 0\n",
            "/gdrive/MyDrive/Audio/B/00_246.wav 0\n",
            "/gdrive/MyDrive/Audio/B/00_247.wav 0\n",
            "/gdrive/MyDrive/Audio/B/00_248.wav 0\n",
            "/gdrive/MyDrive/Audio/B/00_249.wav 0\n",
            "/gdrive/MyDrive/Audio/B/00_250.wav 0\n",
            "/gdrive/MyDrive/Audio/B/00_251.wav 0\n",
            "/gdrive/MyDrive/Audio/B/00_252.wav 0\n",
            "/gdrive/MyDrive/Audio/B/00_253.wav 0\n",
            "/gdrive/MyDrive/Audio/B/00_254.wav 0\n",
            "/gdrive/MyDrive/Audio/B/00_255.wav 0\n",
            "/gdrive/MyDrive/Audio/B/00_256.wav 0\n",
            "/gdrive/MyDrive/Audio/B/00_257.wav 0\n",
            "/gdrive/MyDrive/Audio/B/00_258.wav 0\n",
            "/gdrive/MyDrive/Audio/B/00_259.wav 0\n",
            "/gdrive/MyDrive/Audio/B/00_260.wav 0\n",
            "/gdrive/MyDrive/Audio/B/00_261.wav 0\n",
            "/gdrive/MyDrive/Audio/B/00_262.wav 0\n",
            "/gdrive/MyDrive/Audio/B/00_263.wav 0\n",
            "/gdrive/MyDrive/Audio/B/00_264.wav 0\n",
            "/gdrive/MyDrive/Audio/B/00_265.wav 0\n",
            "/gdrive/MyDrive/Audio/B/00_266.wav 0\n",
            "/gdrive/MyDrive/Audio/B/00_267.wav 0\n",
            "/gdrive/MyDrive/Audio/B/00_268.wav 0\n",
            "/gdrive/MyDrive/Audio/B/00_269.wav 0\n",
            "/gdrive/MyDrive/Audio/B/00_270.wav 0\n",
            "/gdrive/MyDrive/Audio/B/00_271.wav 0\n",
            "/gdrive/MyDrive/Audio/B/00_272.wav 0\n",
            "/gdrive/MyDrive/Audio/B/00_273.wav 0\n",
            "/gdrive/MyDrive/Audio/B/00_274.wav 0\n",
            "/gdrive/MyDrive/Audio/B/00_275.wav 0\n",
            "/gdrive/MyDrive/Audio/B/00_276.wav 0\n",
            "/gdrive/MyDrive/Audio/B/00_277.wav 0\n",
            "/gdrive/MyDrive/Audio/B/00_278.wav 0\n",
            "/gdrive/MyDrive/Audio/B/00_279.wav 0\n",
            "/gdrive/MyDrive/Audio/B/00_280.wav 0\n",
            "/gdrive/MyDrive/Audio/B/00_281.wav 0\n",
            "/gdrive/MyDrive/Audio/B/00_282.wav 0\n",
            "/gdrive/MyDrive/Audio/B/00_283.wav 0\n",
            "/gdrive/MyDrive/Audio/B/00_284.wav 0\n",
            "/gdrive/MyDrive/Audio/B/00_285.wav 0\n",
            "/gdrive/MyDrive/Audio/B/00_286.wav 0\n",
            "/gdrive/MyDrive/Audio/B/00_287.wav 0\n",
            "/gdrive/MyDrive/Audio/B/00_288.wav 0\n",
            "/gdrive/MyDrive/Audio/B/00_289.wav 0\n",
            "/gdrive/MyDrive/Audio/B/00_290.wav 0\n",
            "/gdrive/MyDrive/Audio/B/00_291.wav 0\n",
            "/gdrive/MyDrive/Audio/B/00_292.wav 0\n",
            "/gdrive/MyDrive/Audio/B/00_293.wav 0\n",
            "/gdrive/MyDrive/Audio/B/00_294.wav 0\n",
            "/gdrive/MyDrive/Audio/B/00_295.wav 0\n",
            "/gdrive/MyDrive/Audio/B/00_296.wav 0\n",
            "/gdrive/MyDrive/Audio/B/00_297.wav 0\n",
            "/gdrive/MyDrive/Audio/B/00_298.wav 0\n",
            "/gdrive/MyDrive/Audio/B/00_299.wav 0\n",
            "/gdrive/MyDrive/Audio/B/00_300.wav 0\n",
            "/gdrive/MyDrive/Audio/B/00_301.wav 0\n",
            "/gdrive/MyDrive/Audio/B/00_302.wav 0\n",
            "/gdrive/MyDrive/Audio/B/00_303.wav 0\n",
            "/gdrive/MyDrive/Audio/B/00_304.wav 0\n",
            "/gdrive/MyDrive/Audio/B/00_305.wav 0\n",
            "/gdrive/MyDrive/Audio/B/00_306.wav 0\n",
            "/gdrive/MyDrive/Audio/B/00_307.wav 0\n",
            "/gdrive/MyDrive/Audio/B/00_308.wav 0\n",
            "/gdrive/MyDrive/Audio/B/00_309.wav 0\n",
            "/gdrive/MyDrive/Audio/B/00_310.wav 0\n",
            "/gdrive/MyDrive/Audio/B/00_311.wav 0\n",
            "/gdrive/MyDrive/Audio/B/00_312.wav 0\n",
            "/gdrive/MyDrive/Audio/B/00_313.wav 0\n",
            "/gdrive/MyDrive/Audio/B/00_314.wav 0\n",
            "/gdrive/MyDrive/Audio/B/00_315.wav 0\n",
            "/gdrive/MyDrive/Audio/B/00_316.wav 0\n",
            "/gdrive/MyDrive/Audio/B/00_317.wav 0\n",
            "/gdrive/MyDrive/Audio/B/00_318.wav 0\n",
            "/gdrive/MyDrive/Audio/B/00_319.wav 0\n",
            "/gdrive/MyDrive/Audio/B/00_320.wav 0\n",
            "/gdrive/MyDrive/Audio/B/00_321.wav 0\n",
            "/gdrive/MyDrive/Audio/B/00_322.wav 0\n",
            "/gdrive/MyDrive/Audio/B/00_323.wav 0\n",
            "/gdrive/MyDrive/Audio/B/00_324.wav 0\n",
            "/gdrive/MyDrive/Audio/B/00_325.wav 0\n",
            "/gdrive/MyDrive/Audio/B/00_326.wav 0\n",
            "/gdrive/MyDrive/Audio/B/00_327.wav 0\n",
            "/gdrive/MyDrive/Audio/B/00_328.wav 0\n",
            "/gdrive/MyDrive/Audio/B/00_329.wav 0\n",
            "/gdrive/MyDrive/Audio/B/00_330.wav 0\n",
            "/gdrive/MyDrive/Audio/B/00_331.wav 0\n",
            "/gdrive/MyDrive/Audio/B/00_332.wav 0\n",
            "/gdrive/MyDrive/Audio/B/00_333.wav 0\n",
            "/gdrive/MyDrive/Audio/B/00_334.wav 0\n",
            "/gdrive/MyDrive/Audio/B/00_335.wav 0\n",
            "/gdrive/MyDrive/Audio/B/00_336.wav 0\n",
            "/gdrive/MyDrive/Audio/B/00_337.wav 0\n",
            "/gdrive/MyDrive/Audio/B/00_338.wav 0\n",
            "/gdrive/MyDrive/Audio/B/00_339.wav 0\n",
            "/gdrive/MyDrive/Audio/B/00_340.wav 0\n",
            "/gdrive/MyDrive/Audio/B/00_341.wav 0\n",
            "/gdrive/MyDrive/Audio/B/00_342.wav 0\n",
            "/gdrive/MyDrive/Audio/B/00_343.wav 0\n",
            "/gdrive/MyDrive/Audio/B/00_344.wav 0\n",
            "/gdrive/MyDrive/Audio/B/00_345.wav 0\n",
            "/gdrive/MyDrive/Audio/B/00_346.wav 0\n",
            "/gdrive/MyDrive/Audio/B/00_347.wav 0\n",
            "/gdrive/MyDrive/Audio/B/02_001.wav 2\n",
            "/gdrive/MyDrive/Audio/B/02_002.wav 2\n",
            "/gdrive/MyDrive/Audio/B/02_003.wav 2\n",
            "/gdrive/MyDrive/Audio/B/02_004.wav 2\n",
            "/gdrive/MyDrive/Audio/B/02_005.wav 2\n",
            "/gdrive/MyDrive/Audio/B/02_006.wav 2\n",
            "/gdrive/MyDrive/Audio/B/02_007.wav 2\n",
            "/gdrive/MyDrive/Audio/B/02_008.wav 2\n",
            "/gdrive/MyDrive/Audio/B/02_009.wav 2\n",
            "/gdrive/MyDrive/Audio/B/02_010.wav 2\n",
            "/gdrive/MyDrive/Audio/B/02_011.wav 2\n",
            "/gdrive/MyDrive/Audio/B/02_012.wav 2\n",
            "/gdrive/MyDrive/Audio/B/02_013.wav 2\n",
            "/gdrive/MyDrive/Audio/B/02_014.wav 2\n",
            "/gdrive/MyDrive/Audio/B/02_015.wav 2\n",
            "/gdrive/MyDrive/Audio/B/02_016.wav 2\n",
            "/gdrive/MyDrive/Audio/B/02_017.wav 2\n",
            "/gdrive/MyDrive/Audio/B/02_018.wav 2\n",
            "/gdrive/MyDrive/Audio/B/02_019.wav 2\n",
            "/gdrive/MyDrive/Audio/B/02_020.wav 2\n",
            "/gdrive/MyDrive/Audio/B/02_021.wav 2\n",
            "/gdrive/MyDrive/Audio/B/02_022.wav 2\n",
            "/gdrive/MyDrive/Audio/B/02_023.wav 2\n",
            "/gdrive/MyDrive/Audio/B/02_024.wav 2\n",
            "/gdrive/MyDrive/Audio/B/02_025.wav 2\n",
            "/gdrive/MyDrive/Audio/B/02_026.wav 2\n",
            "/gdrive/MyDrive/Audio/B/02_027.wav 2\n",
            "/gdrive/MyDrive/Audio/B/02_028.wav 2\n",
            "/gdrive/MyDrive/Audio/B/02_029.wav 2\n",
            "/gdrive/MyDrive/Audio/B/02_030.wav 2\n",
            "/gdrive/MyDrive/Audio/B/02_031.wav 2\n",
            "/gdrive/MyDrive/Audio/B/02_032.wav 2\n",
            "/gdrive/MyDrive/Audio/B/02_033.wav 2\n",
            "/gdrive/MyDrive/Audio/B/02_034.wav 2\n",
            "/gdrive/MyDrive/Audio/B/02_035.wav 2\n",
            "/gdrive/MyDrive/Audio/B/02_036.wav 2\n",
            "/gdrive/MyDrive/Audio/B/02_037.wav 2\n",
            "/gdrive/MyDrive/Audio/B/02_038.wav 2\n",
            "/gdrive/MyDrive/Audio/B/02_039.wav 2\n",
            "/gdrive/MyDrive/Audio/B/02_040.wav 2\n",
            "/gdrive/MyDrive/Audio/B/02_041.wav 2\n",
            "/gdrive/MyDrive/Audio/B/02_042.wav 2\n",
            "/gdrive/MyDrive/Audio/B/02_043.wav 2\n",
            "/gdrive/MyDrive/Audio/B/02_044.wav 2\n",
            "/gdrive/MyDrive/Audio/B/02_045.wav 2\n",
            "/gdrive/MyDrive/Audio/B/02_046.wav 2\n",
            "/gdrive/MyDrive/Audio/B/02_047.wav 2\n",
            "/gdrive/MyDrive/Audio/B/02_048.wav 2\n",
            "/gdrive/MyDrive/Audio/B/02_049.wav 2\n",
            "/gdrive/MyDrive/Audio/B/02_050.wav 2\n",
            "/gdrive/MyDrive/Audio/B/02_051.wav 2\n",
            "/gdrive/MyDrive/Audio/B/02_052.wav 2\n",
            "/gdrive/MyDrive/Audio/B/02_053.wav 2\n",
            "/gdrive/MyDrive/Audio/B/02_054.wav 2\n",
            "/gdrive/MyDrive/Audio/B/02_055.wav 2\n",
            "/gdrive/MyDrive/Audio/B/02_056.wav 2\n",
            "/gdrive/MyDrive/Audio/B/02_057.wav 2\n",
            "/gdrive/MyDrive/Audio/B/02_058.wav 2\n",
            "/gdrive/MyDrive/Audio/B/02_059.wav 2\n",
            "/gdrive/MyDrive/Audio/B/02_060.wav 2\n",
            "/gdrive/MyDrive/Audio/B/02_061.wav 2\n",
            "/gdrive/MyDrive/Audio/B/02_062.wav 2\n",
            "/gdrive/MyDrive/Audio/B/02_063.wav 2\n",
            "/gdrive/MyDrive/Audio/B/02_064.wav 2\n",
            "/gdrive/MyDrive/Audio/B/02_065.wav 2\n",
            "/gdrive/MyDrive/Audio/B/02_066.wav 2\n",
            "/gdrive/MyDrive/Audio/B/02_067.wav 2\n",
            "/gdrive/MyDrive/Audio/B/02_068.wav 2\n",
            "/gdrive/MyDrive/Audio/B/02_069.wav 2\n",
            "/gdrive/MyDrive/Audio/B/02_070.wav 2\n",
            "/gdrive/MyDrive/Audio/B/02_071.wav 2\n",
            "/gdrive/MyDrive/Audio/B/02_072.wav 2\n",
            "/gdrive/MyDrive/Audio/B/02_073.wav 2\n",
            "/gdrive/MyDrive/Audio/B/02_074.wav 2\n",
            "/gdrive/MyDrive/Audio/B/02_075.wav 2\n",
            "/gdrive/MyDrive/Audio/B/02_076.wav 2\n",
            "/gdrive/MyDrive/Audio/B/02_077.wav 2\n",
            "/gdrive/MyDrive/Audio/B/02_078.wav 2\n",
            "/gdrive/MyDrive/Audio/B/02_079.wav 2\n",
            "/gdrive/MyDrive/Audio/B/02_080.wav 2\n",
            "/gdrive/MyDrive/Audio/B/02_081.wav 2\n",
            "/gdrive/MyDrive/Audio/B/02_082.wav 2\n",
            "/gdrive/MyDrive/Audio/B/02_083.wav 2\n",
            "/gdrive/MyDrive/Audio/B/02_084.wav 2\n",
            "/gdrive/MyDrive/Audio/B/02_085.wav 2\n",
            "/gdrive/MyDrive/Audio/B/02_086.wav 2\n",
            "/gdrive/MyDrive/Audio/B/02_087.wav 2\n",
            "/gdrive/MyDrive/Audio/B/02_088.wav 2\n",
            "/gdrive/MyDrive/Audio/B/02_089.wav 2\n",
            "/gdrive/MyDrive/Audio/B/02_090.wav 2\n",
            "/gdrive/MyDrive/Audio/B/02_091.wav 2\n",
            "/gdrive/MyDrive/Audio/B/02_092.wav 2\n",
            "/gdrive/MyDrive/Audio/B/02_093.wav 2\n",
            "/gdrive/MyDrive/Audio/B/02_094.wav 2\n",
            "/gdrive/MyDrive/Audio/B/02_095.wav 2\n",
            "/gdrive/MyDrive/Audio/B/02_096.wav 2\n",
            "/gdrive/MyDrive/Audio/B/02_097.wav 2\n",
            "/gdrive/MyDrive/Audio/B/02_098.wav 2\n",
            "/gdrive/MyDrive/Audio/B/02_099.wav 2\n",
            "/gdrive/MyDrive/Audio/B/02_100.wav 2\n",
            "/gdrive/MyDrive/Audio/B/02_101.wav 2\n",
            "/gdrive/MyDrive/Audio/B/02_102.wav 2\n",
            "/gdrive/MyDrive/Audio/B/02_103.wav 2\n",
            "/gdrive/MyDrive/Audio/B/02_104.wav 2\n",
            "/gdrive/MyDrive/Audio/B/02_105.wav 2\n",
            "/gdrive/MyDrive/Audio/B/02_106.wav 2\n",
            "/gdrive/MyDrive/Audio/B/02_107.wav 2\n",
            "/gdrive/MyDrive/Audio/B/02_108.wav 2\n",
            "/gdrive/MyDrive/Audio/B/02_109.wav 2\n",
            "/gdrive/MyDrive/Audio/B/02_110.wav 2\n",
            "/gdrive/MyDrive/Audio/B/02_111.wav 2\n",
            "/gdrive/MyDrive/Audio/B/02_112.wav 2\n",
            "/gdrive/MyDrive/Audio/B/02_113.wav 2\n",
            "/gdrive/MyDrive/Audio/B/02_114.wav 2\n",
            "/gdrive/MyDrive/Audio/B/02_115.wav 2\n",
            "/gdrive/MyDrive/Audio/B/02_116.wav 2\n",
            "/gdrive/MyDrive/Audio/B/02_117.wav 2\n",
            "/gdrive/MyDrive/Audio/B/02_118.wav 2\n",
            "/gdrive/MyDrive/Audio/B/02_119.wav 2\n",
            "/gdrive/MyDrive/Audio/B/02_120.wav 2\n",
            "/gdrive/MyDrive/Audio/B/02_121.wav 2\n",
            "/gdrive/MyDrive/Audio/B/02_122.wav 2\n",
            "/gdrive/MyDrive/Audio/B/02_123.wav 2\n",
            "/gdrive/MyDrive/Audio/B/02_124.wav 2\n",
            "/gdrive/MyDrive/Audio/B/02_125.wav 2\n",
            "/gdrive/MyDrive/Audio/B/02_126.wav 2\n",
            "/gdrive/MyDrive/Audio/B/02_127.wav 2\n",
            "/gdrive/MyDrive/Audio/B/02_128.wav 2\n",
            "/gdrive/MyDrive/Audio/B/02_129.wav 2\n",
            "/gdrive/MyDrive/Audio/B/02_130.wav 2\n",
            "/gdrive/MyDrive/Audio/B/02_131.wav 2\n",
            "/gdrive/MyDrive/Audio/B/02_132.wav 2\n",
            "/gdrive/MyDrive/Audio/B/02_133.wav 2\n",
            "/gdrive/MyDrive/Audio/B/02_134.wav 2\n",
            "/gdrive/MyDrive/Audio/B/02_135.wav 2\n",
            "/gdrive/MyDrive/Audio/B/02_136.wav 2\n",
            "/gdrive/MyDrive/Audio/B/02_137.wav 2\n",
            "/gdrive/MyDrive/Audio/B/02_138.wav 2\n",
            "/gdrive/MyDrive/Audio/B/02_139.wav 2\n",
            "/gdrive/MyDrive/Audio/B/02_140.wav 2\n",
            "/gdrive/MyDrive/Audio/B/02_141.wav 2\n",
            "/gdrive/MyDrive/Audio/B/02_142.wav 2\n",
            "/gdrive/MyDrive/Audio/B/02_143.wav 2\n",
            "/gdrive/MyDrive/Audio/B/02_144.wav 2\n",
            "/gdrive/MyDrive/Audio/B/02_145.wav 2\n",
            "/gdrive/MyDrive/Audio/B/02_146.wav 2\n",
            "/gdrive/MyDrive/Audio/B/02_147.wav 2\n",
            "/gdrive/MyDrive/Audio/B/02_148.wav 2\n",
            "/gdrive/MyDrive/Audio/B/02_149.wav 2\n",
            "/gdrive/MyDrive/Audio/B/02_150.wav 2\n",
            "/gdrive/MyDrive/Audio/B/02_151.wav 2\n",
            "/gdrive/MyDrive/Audio/B/02_152.wav 2\n",
            "/gdrive/MyDrive/Audio/B/02_153.wav 2\n",
            "/gdrive/MyDrive/Audio/B/02_154.wav 2\n",
            "/gdrive/MyDrive/Audio/B/02_155.wav 2\n",
            "/gdrive/MyDrive/Audio/B/02_156.wav 2\n",
            "/gdrive/MyDrive/Audio/B/02_157.wav 2\n",
            "/gdrive/MyDrive/Audio/B/02_158.wav 2\n",
            "/gdrive/MyDrive/Audio/B/02_159.wav 2\n",
            "/gdrive/MyDrive/Audio/B/02_160.wav 2\n",
            "/gdrive/MyDrive/Audio/B/02_161.wav 2\n",
            "/gdrive/MyDrive/Audio/B/02_162.wav 2\n",
            "/gdrive/MyDrive/Audio/B/02_163.wav 2\n",
            "/gdrive/MyDrive/Audio/B/02_164.wav 2\n",
            "/gdrive/MyDrive/Audio/B/02_165.wav 2\n",
            "/gdrive/MyDrive/Audio/B/02_166.wav 2\n",
            "/gdrive/MyDrive/Audio/B/02_167.wav 2\n",
            "/gdrive/MyDrive/Audio/B/02_168.wav 2\n",
            "/gdrive/MyDrive/Audio/B/02_169.wav 2\n",
            "/gdrive/MyDrive/Audio/B/02_170.wav 2\n",
            "/gdrive/MyDrive/Audio/B/02_171.wav 2\n",
            "/gdrive/MyDrive/Audio/B/02_172.wav 2\n",
            "/gdrive/MyDrive/Audio/B/02_173.wav 2\n",
            "/gdrive/MyDrive/Audio/B/02_174.wav 2\n",
            "/gdrive/MyDrive/Audio/B/02_175.wav 2\n",
            "/gdrive/MyDrive/Audio/B/02_176.wav 2\n",
            "/gdrive/MyDrive/Audio/B/02_177.wav 2\n",
            "/gdrive/MyDrive/Audio/B/02_178.wav 2\n",
            "/gdrive/MyDrive/Audio/B/02_179.wav 2\n",
            "/gdrive/MyDrive/Audio/B/02_180.wav 2\n",
            "/gdrive/MyDrive/Audio/B/02_181.wav 2\n",
            "/gdrive/MyDrive/Audio/B/02_182.wav 2\n",
            "/gdrive/MyDrive/Audio/B/02_183.wav 2\n",
            "/gdrive/MyDrive/Audio/B/02_184.wav 2\n",
            "/gdrive/MyDrive/Audio/B/02_185.wav 2\n",
            "/gdrive/MyDrive/Audio/B/02_186.wav 2\n",
            "/gdrive/MyDrive/Audio/B/02_187.wav 2\n",
            "/gdrive/MyDrive/Audio/B/02_188.wav 2\n",
            "/gdrive/MyDrive/Audio/B/02_189.wav 2\n",
            "/gdrive/MyDrive/Audio/B/02_190.wav 2\n",
            "/gdrive/MyDrive/Audio/B/02_191.wav 2\n",
            "/gdrive/MyDrive/Audio/B/02_192.wav 2\n",
            "/gdrive/MyDrive/Audio/B/02_193.wav 2\n",
            "/gdrive/MyDrive/Audio/B/02_194.wav 2\n",
            "/gdrive/MyDrive/Audio/B/02_195.wav 2\n",
            "/gdrive/MyDrive/Audio/B/02_196.wav 2\n",
            "/gdrive/MyDrive/Audio/B/02_197.wav 2\n",
            "/gdrive/MyDrive/Audio/B/02_198.wav 2\n",
            "/gdrive/MyDrive/Audio/B/02_199.wav 2\n",
            "/gdrive/MyDrive/Audio/B/02_200.wav 2\n",
            "/gdrive/MyDrive/Audio/B/02_201.wav 2\n",
            "/gdrive/MyDrive/Audio/B/02_202.wav 2\n",
            "/gdrive/MyDrive/Audio/B/02_203.wav 2\n",
            "/gdrive/MyDrive/Audio/B/02_204.wav 2\n",
            "/gdrive/MyDrive/Audio/B/02_205.wav 2\n",
            "/gdrive/MyDrive/Audio/B/02_206.wav 2\n",
            "/gdrive/MyDrive/Audio/B/02_207.wav 2\n",
            "/gdrive/MyDrive/Audio/B/02_208.wav 2\n",
            "/gdrive/MyDrive/Audio/B/02_209.wav 2\n",
            "/gdrive/MyDrive/Audio/B/02_210.wav 2\n",
            "/gdrive/MyDrive/Audio/B/02_211.wav 2\n",
            "/gdrive/MyDrive/Audio/B/02_212.wav 2\n",
            "/gdrive/MyDrive/Audio/B/02_213.wav 2\n",
            "/gdrive/MyDrive/Audio/B/02_214.wav 2\n",
            "/gdrive/MyDrive/Audio/B/02_215.wav 2\n",
            "/gdrive/MyDrive/Audio/B/02_216.wav 2\n",
            "/gdrive/MyDrive/Audio/B/02_217.wav 2\n",
            "/gdrive/MyDrive/Audio/B/02_218.wav 2\n",
            "/gdrive/MyDrive/Audio/B/02_219.wav 2\n",
            "/gdrive/MyDrive/Audio/B/02_220.wav 2\n",
            "/gdrive/MyDrive/Audio/B/02_221.wav 2\n",
            "/gdrive/MyDrive/Audio/B/02_222.wav 2\n",
            "/gdrive/MyDrive/Audio/B/02_223.wav 2\n",
            "/gdrive/MyDrive/Audio/B/02_224.wav 2\n",
            "/gdrive/MyDrive/Audio/B/02_225.wav 2\n",
            "/gdrive/MyDrive/Audio/B/02_226.wav 2\n",
            "/gdrive/MyDrive/Audio/B/02_227.wav 2\n",
            "/gdrive/MyDrive/Audio/B/02_228.wav 2\n",
            "/gdrive/MyDrive/Audio/B/02_229.wav 2\n",
            "/gdrive/MyDrive/Audio/B/02_230.wav 2\n",
            "/gdrive/MyDrive/Audio/B/02_231.wav 2\n",
            "/gdrive/MyDrive/Audio/B/02_232.wav 2\n",
            "/gdrive/MyDrive/Audio/B/02_233.wav 2\n",
            "/gdrive/MyDrive/Audio/B/02_234.wav 2\n",
            "/gdrive/MyDrive/Audio/B/02_235.wav 2\n",
            "/gdrive/MyDrive/Audio/B/02_236.wav 2\n",
            "/gdrive/MyDrive/Audio/B/02_237.wav 2\n",
            "/gdrive/MyDrive/Audio/B/02_238.wav 2\n",
            "/gdrive/MyDrive/Audio/B/02_239.wav 2\n",
            "/gdrive/MyDrive/Audio/B/02_240.wav 2\n",
            "/gdrive/MyDrive/Audio/B/02_241.wav 2\n",
            "/gdrive/MyDrive/Audio/B/02_242.wav 2\n",
            "/gdrive/MyDrive/Audio/B/02_243.wav 2\n",
            "/gdrive/MyDrive/Audio/B/02_244.wav 2\n",
            "/gdrive/MyDrive/Audio/B/02_245.wav 2\n",
            "/gdrive/MyDrive/Audio/B/02_246.wav 2\n",
            "/gdrive/MyDrive/Audio/B/02_247.wav 2\n",
            "/gdrive/MyDrive/Audio/B/02_248.wav 2\n",
            "/gdrive/MyDrive/Audio/B/02_249.wav 2\n",
            "/gdrive/MyDrive/Audio/B/02_250.wav 2\n",
            "/gdrive/MyDrive/Audio/B/02_251.wav 2\n",
            "/gdrive/MyDrive/Audio/B/02_252.wav 2\n",
            "/gdrive/MyDrive/Audio/B/02_253.wav 2\n",
            "/gdrive/MyDrive/Audio/B/02_254.wav 2\n",
            "/gdrive/MyDrive/Audio/B/02_255.wav 2\n",
            "/gdrive/MyDrive/Audio/B/02_256.wav 2\n",
            "/gdrive/MyDrive/Audio/B/02_257.wav 2\n",
            "/gdrive/MyDrive/Audio/B/02_258.wav 2\n",
            "/gdrive/MyDrive/Audio/B/02_259.wav 2\n",
            "/gdrive/MyDrive/Audio/B/02_260.wav 2\n",
            "/gdrive/MyDrive/Audio/B/02_261.wav 2\n",
            "/gdrive/MyDrive/Audio/B/02_262.wav 2\n",
            "/gdrive/MyDrive/Audio/B/02_263.wav 2\n",
            "/gdrive/MyDrive/Audio/B/02_264.wav 2\n",
            "/gdrive/MyDrive/Audio/B/02_265.wav 2\n",
            "/gdrive/MyDrive/Audio/B/02_266.wav 2\n",
            "/gdrive/MyDrive/Audio/B/02_267.wav 2\n",
            "/gdrive/MyDrive/Audio/B/02_268.wav 2\n",
            "/gdrive/MyDrive/Audio/B/02_269.wav 2\n",
            "/gdrive/MyDrive/Audio/B/02_270.wav 2\n",
            "/gdrive/MyDrive/Audio/B/02_271.wav 2\n",
            "/gdrive/MyDrive/Audio/B/02_272.wav 2\n",
            "/gdrive/MyDrive/Audio/B/02_273.wav 2\n",
            "/gdrive/MyDrive/Audio/B/02_274.wav 2\n",
            "/gdrive/MyDrive/Audio/B/02_275.wav 2\n",
            "/gdrive/MyDrive/Audio/B/02_276.wav 2\n",
            "/gdrive/MyDrive/Audio/B/02_277.wav 2\n",
            "/gdrive/MyDrive/Audio/B/02_278.wav 2\n",
            "/gdrive/MyDrive/Audio/B/02_279.wav 2\n",
            "/gdrive/MyDrive/Audio/B/02_280.wav 2\n",
            "/gdrive/MyDrive/Audio/B/02_281.wav 2\n",
            "/gdrive/MyDrive/Audio/B/02_282.wav 2\n",
            "/gdrive/MyDrive/Audio/B/02_283.wav 2\n",
            "/gdrive/MyDrive/Audio/B/02_284.wav 2\n",
            "/gdrive/MyDrive/Audio/B/02_285.wav 2\n",
            "/gdrive/MyDrive/Audio/B/02_286.wav 2\n",
            "/gdrive/MyDrive/Audio/B/02_287.wav 2\n",
            "/gdrive/MyDrive/Audio/B/02_288.wav 2\n",
            "/gdrive/MyDrive/Audio/B/02_289.wav 2\n",
            "/gdrive/MyDrive/Audio/B/02_290.wav 2\n",
            "/gdrive/MyDrive/Audio/B/02_291.wav 2\n",
            "/gdrive/MyDrive/Audio/B/02_292.wav 2\n",
            "/gdrive/MyDrive/Audio/B/02_293.wav 2\n",
            "/gdrive/MyDrive/Audio/B/02_294.wav 2\n",
            "/gdrive/MyDrive/Audio/B/02_295.wav 2\n",
            "/gdrive/MyDrive/Audio/B/02_296.wav 2\n",
            "/gdrive/MyDrive/Audio/B/02_297.wav 2\n",
            "/gdrive/MyDrive/Audio/B/02_298.wav 2\n",
            "/gdrive/MyDrive/Audio/B/02_299.wav 2\n",
            "/gdrive/MyDrive/Audio/B/02_300.wav 2\n",
            "/gdrive/MyDrive/Audio/B/02_301.wav 2\n",
            "/gdrive/MyDrive/Audio/B/02_302.wav 2\n",
            "/gdrive/MyDrive/Audio/B/02_303.wav 2\n",
            "/gdrive/MyDrive/Audio/B/02_304.wav 2\n",
            "/gdrive/MyDrive/Audio/B/02_305.wav 2\n",
            "/gdrive/MyDrive/Audio/B/02_306.wav 2\n",
            "/gdrive/MyDrive/Audio/B/02_307.wav 2\n",
            "/gdrive/MyDrive/Audio/B/02_308.wav 2\n",
            "/gdrive/MyDrive/Audio/B/02_309.wav 2\n",
            "/gdrive/MyDrive/Audio/B/02_310.wav 2\n",
            "/gdrive/MyDrive/Audio/B/02_311.wav 2\n",
            "/gdrive/MyDrive/Audio/B/02_312.wav 2\n",
            "/gdrive/MyDrive/Audio/B/02_313.wav 2\n",
            "/gdrive/MyDrive/Audio/B/02_314.wav 2\n",
            "/gdrive/MyDrive/Audio/B/02_315.wav 2\n",
            "/gdrive/MyDrive/Audio/B/02_316.wav 2\n",
            "/gdrive/MyDrive/Audio/B/02_317.wav 2\n",
            "/gdrive/MyDrive/Audio/B/02_318.wav 2\n",
            "/gdrive/MyDrive/Audio/B/02_319.wav 2\n",
            "/gdrive/MyDrive/Audio/B/02_320.wav 2\n",
            "/gdrive/MyDrive/Audio/B/02_321.wav 2\n",
            "/gdrive/MyDrive/Audio/B/02_322.wav 2\n",
            "/gdrive/MyDrive/Audio/B/02_323.wav 2\n",
            "/gdrive/MyDrive/Audio/B/02_324.wav 2\n",
            "/gdrive/MyDrive/Audio/B/02_325.wav 2\n",
            "/gdrive/MyDrive/Audio/B/02_326.wav 2\n",
            "/gdrive/MyDrive/Audio/B/02_327.wav 2\n",
            "/gdrive/MyDrive/Audio/B/02_328.wav 2\n",
            "/gdrive/MyDrive/Audio/B/02_329.wav 2\n",
            "/gdrive/MyDrive/Audio/B/02_330.wav 2\n",
            "/gdrive/MyDrive/Audio/B/02_331.wav 2\n",
            "/gdrive/MyDrive/Audio/B/02_332.wav 2\n",
            "/gdrive/MyDrive/Audio/B/02_333.wav 2\n",
            "/gdrive/MyDrive/Audio/B/02_334.wav 2\n",
            "/gdrive/MyDrive/Audio/B/02_335.wav 2\n",
            "/gdrive/MyDrive/Audio/B/02_336.wav 2\n",
            "/gdrive/MyDrive/Audio/B/02_337.wav 2\n",
            "/gdrive/MyDrive/Audio/B/02_338.wav 2\n",
            "/gdrive/MyDrive/Audio/B/02_339.wav 2\n",
            "/gdrive/MyDrive/Audio/B/02_340.wav 2\n",
            "/gdrive/MyDrive/Audio/B/02_341.wav 2\n",
            "/gdrive/MyDrive/Audio/B/02_342.wav 2\n",
            "/gdrive/MyDrive/Audio/B/02_343.wav 2\n",
            "/gdrive/MyDrive/Audio/B/02_344.wav 2\n",
            "/gdrive/MyDrive/Audio/B/02_345.wav 2\n",
            "/gdrive/MyDrive/Audio/B/02_346.wav 2\n",
            "/gdrive/MyDrive/Audio/B/02_347.wav 2\n",
            "/gdrive/MyDrive/Audio/B/02_348.wav 2\n",
            "/gdrive/MyDrive/Audio/B/02_349.wav 2\n",
            "/gdrive/MyDrive/Audio/B/02_350.wav 2\n",
            "/gdrive/MyDrive/Audio/B/02_351.wav 2\n",
            "/gdrive/MyDrive/Audio/B/02_352.wav 2\n",
            "/gdrive/MyDrive/Audio/B/02_353.wav 2\n",
            "/gdrive/MyDrive/Audio/B/02_354.wav 2\n",
            "/gdrive/MyDrive/Audio/B/02_355.wav 2\n",
            "/gdrive/MyDrive/Audio/B/02_356.wav 2\n",
            "/gdrive/MyDrive/Audio/B/02_357.wav 2\n",
            "/gdrive/MyDrive/Audio/B/02_358.wav 2\n",
            "/gdrive/MyDrive/Audio/B/02_359.wav 2\n",
            "/gdrive/MyDrive/Audio/B/02_360.wav 2\n",
            "/gdrive/MyDrive/Audio/B/02_361.wav 2\n",
            "/gdrive/MyDrive/Audio/B/02_362.wav 2\n",
            "/gdrive/MyDrive/Audio/B/02_363.wav 2\n",
            "/gdrive/MyDrive/Audio/B/02_364.wav 2\n",
            "/gdrive/MyDrive/Audio/B/02_365.wav 2\n",
            "/gdrive/MyDrive/Audio/B/02_366.wav 2\n",
            "/gdrive/MyDrive/Audio/B/02_367.wav 2\n",
            "/gdrive/MyDrive/Audio/B/02_368.wav 2\n",
            "/gdrive/MyDrive/Audio/B/02_369.wav 2\n",
            "/gdrive/MyDrive/Audio/B/02_370.wav 2\n",
            "/gdrive/MyDrive/Audio/B/02_371.wav 2\n",
            "/gdrive/MyDrive/Audio/B/02_372.wav 2\n",
            "/gdrive/MyDrive/Audio/B/02_373.wav 2\n",
            "/gdrive/MyDrive/Audio/B/02_374.wav 2\n",
            "/gdrive/MyDrive/Audio/B/02_375.wav 2\n",
            "/gdrive/MyDrive/Audio/B/02_376.wav 2\n",
            "/gdrive/MyDrive/Audio/B/02_377.wav 2\n",
            "/gdrive/MyDrive/Audio/B/02_378.wav 2\n",
            "/gdrive/MyDrive/Audio/B/02_379.wav 2\n",
            "/gdrive/MyDrive/Audio/B/02_380.wav 2\n",
            "/gdrive/MyDrive/Audio/B/02_381.wav 2\n",
            "/gdrive/MyDrive/Audio/B/02_382.wav 2\n",
            "/gdrive/MyDrive/Audio/B/02_383.wav 2\n",
            "/gdrive/MyDrive/Audio/B/02_384.wav 2\n",
            "/gdrive/MyDrive/Audio/B/02_385.wav 2\n",
            "/gdrive/MyDrive/Audio/B/02_386.wav 2\n",
            "/gdrive/MyDrive/Audio/B/02_387.wav 2\n",
            "/gdrive/MyDrive/Audio/B/02_388.wav 2\n",
            "/gdrive/MyDrive/Audio/B/02_389.wav 2\n",
            "/gdrive/MyDrive/Audio/B/02_390.wav 2\n",
            "/gdrive/MyDrive/Audio/B/02_391.wav 2\n",
            "/gdrive/MyDrive/Audio/B/02_392.wav 2\n",
            "/gdrive/MyDrive/Audio/B/02_393.wav 2\n",
            "/gdrive/MyDrive/Audio/B/02_394.wav 2\n",
            "/gdrive/MyDrive/Audio/B/02_395.wav 2\n",
            "/gdrive/MyDrive/Audio/B/02_396.wav 2\n",
            "/gdrive/MyDrive/Audio/B/02_397.wav 2\n",
            "/gdrive/MyDrive/Audio/B/02_398.wav 2\n",
            "/gdrive/MyDrive/Audio/B/02_399.wav 2\n",
            "/gdrive/MyDrive/Audio/B/02_400.wav 2\n",
            "/gdrive/MyDrive/Audio/B/02_401.wav 2\n",
            "/gdrive/MyDrive/Audio/B/02_402.wav 2\n",
            "/gdrive/MyDrive/Audio/B/02_403.wav 2\n",
            "/gdrive/MyDrive/Audio/B/02_404.wav 2\n",
            "/gdrive/MyDrive/Audio/B/02_405.wav 2\n",
            "/gdrive/MyDrive/Audio/B/02_406.wav 2\n",
            "/gdrive/MyDrive/Audio/B/02_407.wav 2\n",
            "/gdrive/MyDrive/Audio/B/02_408.wav 2\n",
            "/gdrive/MyDrive/Audio/B/01_001.wav 1\n",
            "/gdrive/MyDrive/Audio/B/01_002.wav 1\n",
            "/gdrive/MyDrive/Audio/B/01_003.wav 1\n",
            "/gdrive/MyDrive/Audio/B/01_004.wav 1\n",
            "/gdrive/MyDrive/Audio/B/01_005.wav 1\n",
            "/gdrive/MyDrive/Audio/B/01_006.wav 1\n",
            "/gdrive/MyDrive/Audio/B/01_007.wav 1\n",
            "/gdrive/MyDrive/Audio/B/01_008.wav 1\n",
            "/gdrive/MyDrive/Audio/B/01_009.wav 1\n",
            "/gdrive/MyDrive/Audio/B/01_010.wav 1\n",
            "/gdrive/MyDrive/Audio/B/01_011.wav 1\n",
            "/gdrive/MyDrive/Audio/B/01_012.wav 1\n",
            "/gdrive/MyDrive/Audio/B/01_013.wav 1\n",
            "/gdrive/MyDrive/Audio/B/01_014.wav 1\n",
            "/gdrive/MyDrive/Audio/B/01_015.wav 1\n",
            "/gdrive/MyDrive/Audio/B/01_016.wav 1\n",
            "/gdrive/MyDrive/Audio/B/01_017.wav 1\n",
            "/gdrive/MyDrive/Audio/B/01_018.wav 1\n",
            "/gdrive/MyDrive/Audio/B/01_019.wav 1\n",
            "/gdrive/MyDrive/Audio/B/01_020.wav 1\n",
            "/gdrive/MyDrive/Audio/B/01_021.wav 1\n",
            "/gdrive/MyDrive/Audio/B/01_022.wav 1\n",
            "/gdrive/MyDrive/Audio/B/01_023.wav 1\n",
            "/gdrive/MyDrive/Audio/B/01_024.wav 1\n",
            "/gdrive/MyDrive/Audio/B/01_025.wav 1\n",
            "/gdrive/MyDrive/Audio/B/01_026.wav 1\n",
            "/gdrive/MyDrive/Audio/B/01_027.wav 1\n",
            "/gdrive/MyDrive/Audio/B/01_028.wav 1\n",
            "/gdrive/MyDrive/Audio/B/01_029.wav 1\n",
            "/gdrive/MyDrive/Audio/B/01_030.wav 1\n",
            "/gdrive/MyDrive/Audio/B/01_031.wav 1\n",
            "/gdrive/MyDrive/Audio/B/01_032.wav 1\n",
            "/gdrive/MyDrive/Audio/B/01_033.wav 1\n",
            "/gdrive/MyDrive/Audio/B/01_034.wav 1\n",
            "/gdrive/MyDrive/Audio/B/01_035.wav 1\n",
            "/gdrive/MyDrive/Audio/B/01_036.wav 1\n",
            "/gdrive/MyDrive/Audio/B/01_037.wav 1\n",
            "/gdrive/MyDrive/Audio/B/01_038.wav 1\n",
            "/gdrive/MyDrive/Audio/B/01_039.wav 1\n",
            "/gdrive/MyDrive/Audio/B/01_040.wav 1\n",
            "/gdrive/MyDrive/Audio/B/01_041.wav 1\n",
            "/gdrive/MyDrive/Audio/B/01_042.wav 1\n",
            "/gdrive/MyDrive/Audio/B/01_043.wav 1\n",
            "/gdrive/MyDrive/Audio/B/01_044.wav 1\n",
            "/gdrive/MyDrive/Audio/B/01_045.wav 1\n",
            "/gdrive/MyDrive/Audio/B/01_046.wav 1\n",
            "/gdrive/MyDrive/Audio/B/01_047.wav 1\n",
            "/gdrive/MyDrive/Audio/B/01_048.wav 1\n",
            "/gdrive/MyDrive/Audio/B/01_049.wav 1\n",
            "/gdrive/MyDrive/Audio/B/01_050.wav 1\n",
            "/gdrive/MyDrive/Audio/B/01_051.wav 1\n",
            "/gdrive/MyDrive/Audio/B/01_052.wav 1\n",
            "/gdrive/MyDrive/Audio/B/01_053.wav 1\n",
            "/gdrive/MyDrive/Audio/B/01_054.wav 1\n",
            "/gdrive/MyDrive/Audio/B/01_055.wav 1\n",
            "/gdrive/MyDrive/Audio/B/01_056.wav 1\n",
            "/gdrive/MyDrive/Audio/B/01_057.wav 1\n",
            "/gdrive/MyDrive/Audio/B/01_058.wav 1\n",
            "/gdrive/MyDrive/Audio/B/01_059.wav 1\n",
            "/gdrive/MyDrive/Audio/B/01_060.wav 1\n",
            "/gdrive/MyDrive/Audio/B/01_061.wav 1\n",
            "/gdrive/MyDrive/Audio/B/01_062.wav 1\n",
            "/gdrive/MyDrive/Audio/B/01_063.wav 1\n",
            "/gdrive/MyDrive/Audio/B/01_064.wav 1\n",
            "/gdrive/MyDrive/Audio/B/01_065.wav 1\n",
            "/gdrive/MyDrive/Audio/B/01_066.wav 1\n",
            "/gdrive/MyDrive/Audio/B/01_067.wav 1\n",
            "/gdrive/MyDrive/Audio/B/01_068.wav 1\n",
            "/gdrive/MyDrive/Audio/B/01_069.wav 1\n",
            "/gdrive/MyDrive/Audio/B/01_070.wav 1\n",
            "/gdrive/MyDrive/Audio/B/01_071.wav 1\n",
            "/gdrive/MyDrive/Audio/B/01_072.wav 1\n",
            "/gdrive/MyDrive/Audio/B/01_073.wav 1\n",
            "/gdrive/MyDrive/Audio/B/01_074.wav 1\n",
            "/gdrive/MyDrive/Audio/B/01_075.wav 1\n",
            "/gdrive/MyDrive/Audio/B/01_076.wav 1\n",
            "/gdrive/MyDrive/Audio/B/01_077.wav 1\n",
            "/gdrive/MyDrive/Audio/B/01_078.wav 1\n",
            "/gdrive/MyDrive/Audio/B/01_079.wav 1\n",
            "/gdrive/MyDrive/Audio/B/01_080.wav 1\n",
            "/gdrive/MyDrive/Audio/B/01_081.wav 1\n",
            "/gdrive/MyDrive/Audio/B/01_082.wav 1\n",
            "/gdrive/MyDrive/Audio/B/01_083.wav 1\n",
            "/gdrive/MyDrive/Audio/B/01_084.wav 1\n",
            "/gdrive/MyDrive/Audio/B/01_085.wav 1\n",
            "/gdrive/MyDrive/Audio/B/01_086.wav 1\n",
            "/gdrive/MyDrive/Audio/B/01_087.wav 1\n",
            "/gdrive/MyDrive/Audio/B/01_088.wav 1\n",
            "/gdrive/MyDrive/Audio/B/01_089.wav 1\n",
            "/gdrive/MyDrive/Audio/B/01_090.wav 1\n",
            "/gdrive/MyDrive/Audio/B/01_091.wav 1\n",
            "/gdrive/MyDrive/Audio/B/01_092.wav 1\n",
            "/gdrive/MyDrive/Audio/B/01_093.wav 1\n",
            "/gdrive/MyDrive/Audio/B/01_094.wav 1\n",
            "/gdrive/MyDrive/Audio/B/01_095.wav 1\n",
            "/gdrive/MyDrive/Audio/B/01_096.wav 1\n",
            "/gdrive/MyDrive/Audio/B/01_097.wav 1\n",
            "/gdrive/MyDrive/Audio/B/01_098.wav 1\n",
            "/gdrive/MyDrive/Audio/B/01_099.wav 1\n",
            "/gdrive/MyDrive/Audio/B/01_100.wav 1\n",
            "/gdrive/MyDrive/Audio/B/01_101.wav 1\n",
            "/gdrive/MyDrive/Audio/B/01_102.wav 1\n",
            "/gdrive/MyDrive/Audio/B/01_103.wav 1\n",
            "/gdrive/MyDrive/Audio/B/01_104.wav 1\n",
            "/gdrive/MyDrive/Audio/B/01_105.wav 1\n",
            "/gdrive/MyDrive/Audio/B/01_106.wav 1\n",
            "/gdrive/MyDrive/Audio/B/01_107.wav 1\n",
            "/gdrive/MyDrive/Audio/B/01_108.wav 1\n",
            "/gdrive/MyDrive/Audio/B/01_109.wav 1\n",
            "/gdrive/MyDrive/Audio/B/01_110.wav 1\n",
            "/gdrive/MyDrive/Audio/B/01_111.wav 1\n",
            "/gdrive/MyDrive/Audio/B/01_112.wav 1\n",
            "/gdrive/MyDrive/Audio/B/01_113.wav 1\n",
            "/gdrive/MyDrive/Audio/B/01_114.wav 1\n",
            "/gdrive/MyDrive/Audio/B/01_115.wav 1\n",
            "/gdrive/MyDrive/Audio/B/01_116.wav 1\n",
            "/gdrive/MyDrive/Audio/B/01_117.wav 1\n",
            "/gdrive/MyDrive/Audio/B/01_118.wav 1\n",
            "/gdrive/MyDrive/Audio/B/01_119.wav 1\n",
            "/gdrive/MyDrive/Audio/B/01_120.wav 1\n",
            "/gdrive/MyDrive/Audio/B/01_121.wav 1\n",
            "/gdrive/MyDrive/Audio/B/01_122.wav 1\n",
            "/gdrive/MyDrive/Audio/B/01_123.wav 1\n",
            "/gdrive/MyDrive/Audio/B/01_124.wav 1\n",
            "/gdrive/MyDrive/Audio/B/01_125.wav 1\n",
            "/gdrive/MyDrive/Audio/B/01_126.wav 1\n",
            "/gdrive/MyDrive/Audio/B/01_127.wav 1\n",
            "/gdrive/MyDrive/Audio/B/01_128.wav 1\n",
            "/gdrive/MyDrive/Audio/B/01_129.wav 1\n",
            "/gdrive/MyDrive/Audio/B/01_130.wav 1\n",
            "/gdrive/MyDrive/Audio/B/01_131.wav 1\n",
            "/gdrive/MyDrive/Audio/B/01_132.wav 1\n",
            "/gdrive/MyDrive/Audio/B/01_133.wav 1\n",
            "/gdrive/MyDrive/Audio/B/01_134.wav 1\n",
            "/gdrive/MyDrive/Audio/B/01_135.wav 1\n",
            "/gdrive/MyDrive/Audio/B/01_136.wav 1\n",
            "/gdrive/MyDrive/Audio/B/01_137.wav 1\n",
            "/gdrive/MyDrive/Audio/B/01_138.wav 1\n",
            "/gdrive/MyDrive/Audio/B/01_139.wav 1\n",
            "/gdrive/MyDrive/Audio/B/01_140.wav 1\n",
            "/gdrive/MyDrive/Audio/B/01_141.wav 1\n",
            "/gdrive/MyDrive/Audio/B/01_142.wav 1\n",
            "/gdrive/MyDrive/Audio/B/01_143.wav 1\n",
            "/gdrive/MyDrive/Audio/B/01_144.wav 1\n",
            "/gdrive/MyDrive/Audio/B/01_145.wav 1\n",
            "/gdrive/MyDrive/Audio/B/01_146.wav 1\n",
            "/gdrive/MyDrive/Audio/B/01_147.wav 1\n",
            "/gdrive/MyDrive/Audio/B/01_148.wav 1\n",
            "/gdrive/MyDrive/Audio/B/01_149.wav 1\n",
            "/gdrive/MyDrive/Audio/B/01_150.wav 1\n",
            "/gdrive/MyDrive/Audio/B/01_151.wav 1\n",
            "/gdrive/MyDrive/Audio/B/01_152.wav 1\n",
            "/gdrive/MyDrive/Audio/B/01_153.wav 1\n",
            "/gdrive/MyDrive/Audio/B/01_154.wav 1\n",
            "/gdrive/MyDrive/Audio/B/01_155.wav 1\n",
            "/gdrive/MyDrive/Audio/B/01_156.wav 1\n",
            "/gdrive/MyDrive/Audio/B/01_157.wav 1\n",
            "/gdrive/MyDrive/Audio/B/01_158.wav 1\n",
            "/gdrive/MyDrive/Audio/B/01_159.wav 1\n",
            "/gdrive/MyDrive/Audio/B/01_160.wav 1\n",
            "/gdrive/MyDrive/Audio/B/01_161.wav 1\n",
            "/gdrive/MyDrive/Audio/B/01_162.wav 1\n",
            "/gdrive/MyDrive/Audio/B/01_163.wav 1\n",
            "/gdrive/MyDrive/Audio/B/01_164.wav 1\n",
            "/gdrive/MyDrive/Audio/B/01_165.wav 1\n",
            "/gdrive/MyDrive/Audio/B/01_166.wav 1\n",
            "/gdrive/MyDrive/Audio/B/01_167.wav 1\n",
            "/gdrive/MyDrive/Audio/B/01_168.wav 1\n",
            "/gdrive/MyDrive/Audio/B/01_169.wav 1\n",
            "/gdrive/MyDrive/Audio/B/01_170.wav 1\n",
            "/gdrive/MyDrive/Audio/B/01_171.wav 1\n",
            "/gdrive/MyDrive/Audio/B/01_172.wav 1\n",
            "/gdrive/MyDrive/Audio/B/01_173.wav 1\n",
            "/gdrive/MyDrive/Audio/B/01_174.wav 1\n",
            "/gdrive/MyDrive/Audio/B/01_175.wav 1\n",
            "/gdrive/MyDrive/Audio/B/01_176.wav 1\n",
            "/gdrive/MyDrive/Audio/B/01_177.wav 1\n",
            "/gdrive/MyDrive/Audio/B/01_178.wav 1\n",
            "/gdrive/MyDrive/Audio/B/01_179.wav 1\n",
            "/gdrive/MyDrive/Audio/B/01_180.wav 1\n",
            "/gdrive/MyDrive/Audio/B/01_181.wav 1\n",
            "/gdrive/MyDrive/Audio/B/01_182.wav 1\n",
            "/gdrive/MyDrive/Audio/B/01_183.wav 1\n",
            "/gdrive/MyDrive/Audio/B/01_184.wav 1\n",
            "/gdrive/MyDrive/Audio/B/01_185.wav 1\n",
            "/gdrive/MyDrive/Audio/B/01_186.wav 1\n",
            "/gdrive/MyDrive/Audio/B/01_187.wav 1\n",
            "/gdrive/MyDrive/Audio/B/01_188.wav 1\n",
            "/gdrive/MyDrive/Audio/B/01_189.wav 1\n",
            "/gdrive/MyDrive/Audio/B/01_190.wav 1\n",
            "/gdrive/MyDrive/Audio/B/01_191.wav 1\n",
            "/gdrive/MyDrive/Audio/B/01_192.wav 1\n",
            "/gdrive/MyDrive/Audio/B/01_193.wav 1\n",
            "/gdrive/MyDrive/Audio/B/01_194.wav 1\n",
            "/gdrive/MyDrive/Audio/B/01_195.wav 1\n",
            "/gdrive/MyDrive/Audio/B/01_196.wav 1\n",
            "/gdrive/MyDrive/Audio/B/01_197.wav 1\n",
            "/gdrive/MyDrive/Audio/B/01_198.wav 1\n",
            "/gdrive/MyDrive/Audio/B/01_199.wav 1\n",
            "/gdrive/MyDrive/Audio/B/01_200.wav 1\n",
            "/gdrive/MyDrive/Audio/B/01_201.wav 1\n",
            "/gdrive/MyDrive/Audio/B/01_202.wav 1\n",
            "/gdrive/MyDrive/Audio/B/01_203.wav 1\n",
            "/gdrive/MyDrive/Audio/B/01_204.wav 1\n",
            "/gdrive/MyDrive/Audio/B/01_205.wav 1\n",
            "/gdrive/MyDrive/Audio/B/01_206.wav 1\n",
            "/gdrive/MyDrive/Audio/B/01_207.wav 1\n",
            "/gdrive/MyDrive/Audio/B/01_208.wav 1\n",
            "/gdrive/MyDrive/Audio/B/01_209.wav 1\n",
            "/gdrive/MyDrive/Audio/B/01_210.wav 1\n",
            "/gdrive/MyDrive/Audio/B/01_211.wav 1\n",
            "/gdrive/MyDrive/Audio/B/01_212.wav 1\n",
            "/gdrive/MyDrive/Audio/B/01_213.wav 1\n",
            "/gdrive/MyDrive/Audio/B/01_214.wav 1\n",
            "/gdrive/MyDrive/Audio/B/01_215.wav 1\n",
            "/gdrive/MyDrive/Audio/B/01_216.wav 1\n",
            "/gdrive/MyDrive/Audio/B/01_217.wav 1\n",
            "/gdrive/MyDrive/Audio/B/01_218.wav 1\n",
            "/gdrive/MyDrive/Audio/B/01_219.wav 1\n",
            "/gdrive/MyDrive/Audio/B/01_220.wav 1\n",
            "/gdrive/MyDrive/Audio/B/01_221.wav 1\n",
            "/gdrive/MyDrive/Audio/B/01_222.wav 1\n",
            "/gdrive/MyDrive/Audio/B/01_223.wav 1\n",
            "/gdrive/MyDrive/Audio/B/01_224.wav 1\n",
            "/gdrive/MyDrive/Audio/B/01_225.wav 1\n",
            "/gdrive/MyDrive/Audio/B/01_226.wav 1\n",
            "/gdrive/MyDrive/Audio/B/01_227.wav 1\n",
            "/gdrive/MyDrive/Audio/B/01_228.wav 1\n",
            "/gdrive/MyDrive/Audio/B/01_229.wav 1\n",
            "/gdrive/MyDrive/Audio/B/01_230.wav 1\n",
            "/gdrive/MyDrive/Audio/B/01_231.wav 1\n",
            "/gdrive/MyDrive/Audio/B/01_232.wav 1\n",
            "/gdrive/MyDrive/Audio/B/01_233.wav 1\n",
            "/gdrive/MyDrive/Audio/B/01_234.wav 1\n",
            "/gdrive/MyDrive/Audio/B/01_235.wav 1\n",
            "/gdrive/MyDrive/Audio/B/01_236.wav 1\n",
            "/gdrive/MyDrive/Audio/B/01_237.wav 1\n",
            "/gdrive/MyDrive/Audio/B/01_238.wav 1\n",
            "/gdrive/MyDrive/Audio/B/01_239.wav 1\n",
            "/gdrive/MyDrive/Audio/B/01_240.wav 1\n",
            "/gdrive/MyDrive/Audio/B/01_241.wav 1\n",
            "/gdrive/MyDrive/Audio/B/01_242.wav 1\n",
            "/gdrive/MyDrive/Audio/B/01_243.wav 1\n",
            "/gdrive/MyDrive/Audio/B/01_244.wav 1\n",
            "/gdrive/MyDrive/Audio/B/01_245.wav 1\n",
            "/gdrive/MyDrive/Audio/B/01_246.wav 1\n",
            "/gdrive/MyDrive/Audio/B/01_247.wav 1\n",
            "/gdrive/MyDrive/Audio/B/01_248.wav 1\n",
            "/gdrive/MyDrive/Audio/B/01_249.wav 1\n",
            "/gdrive/MyDrive/Audio/B/01_250.wav 1\n",
            "/gdrive/MyDrive/Audio/B/01_251.wav 1\n",
            "/gdrive/MyDrive/Audio/B/01_252.wav 1\n",
            "/gdrive/MyDrive/Audio/B/01_253.wav 1\n",
            "/gdrive/MyDrive/Audio/B/01_254.wav 1\n",
            "/gdrive/MyDrive/Audio/B/01_255.wav 1\n",
            "/gdrive/MyDrive/Audio/B/01_256.wav 1\n",
            "/gdrive/MyDrive/Audio/B/01_257.wav 1\n",
            "/gdrive/MyDrive/Audio/B/01_258.wav 1\n",
            "/gdrive/MyDrive/Audio/B/01_259.wav 1\n",
            "/gdrive/MyDrive/Audio/B/01_260.wav 1\n",
            "/gdrive/MyDrive/Audio/B/01_261.wav 1\n",
            "/gdrive/MyDrive/Audio/B/01_262.wav 1\n",
            "/gdrive/MyDrive/Audio/B/01_263.wav 1\n",
            "/gdrive/MyDrive/Audio/B/01_264.wav 1\n",
            "/gdrive/MyDrive/Audio/B/01_265.wav 1\n",
            "/gdrive/MyDrive/Audio/B/01_266.wav 1\n",
            "/gdrive/MyDrive/Audio/B/01_267.wav 1\n",
            "/gdrive/MyDrive/Audio/B/01_268.wav 1\n",
            "/gdrive/MyDrive/Audio/B/01_269.wav 1\n",
            "/gdrive/MyDrive/Audio/B/01_270.wav 1\n",
            "/gdrive/MyDrive/Audio/B/01_271.wav 1\n",
            "/gdrive/MyDrive/Audio/B/01_272.wav 1\n",
            "/gdrive/MyDrive/Audio/B/01_273.wav 1\n",
            "/gdrive/MyDrive/Audio/B/01_274.wav 1\n",
            "/gdrive/MyDrive/Audio/B/01_275.wav 1\n",
            "/gdrive/MyDrive/Audio/B/01_276.wav 1\n",
            "/gdrive/MyDrive/Audio/B/01_277.wav 1\n",
            "/gdrive/MyDrive/Audio/B/01_278.wav 1\n",
            "/gdrive/MyDrive/Audio/B/01_279.wav 1\n",
            "/gdrive/MyDrive/Audio/B/01_280.wav 1\n",
            "/gdrive/MyDrive/Audio/B/01_281.wav 1\n",
            "/gdrive/MyDrive/Audio/B/01_282.wav 1\n",
            "/gdrive/MyDrive/Audio/B/01_283.wav 1\n",
            "/gdrive/MyDrive/Audio/B/01_284.wav 1\n",
            "/gdrive/MyDrive/Audio/B/01_285.wav 1\n",
            "/gdrive/MyDrive/Audio/B/01_286.wav 1\n",
            "/gdrive/MyDrive/Audio/B/01_287.wav 1\n",
            "/gdrive/MyDrive/Audio/B/01_288.wav 1\n",
            "/gdrive/MyDrive/Audio/B/01_289.wav 1\n",
            "/gdrive/MyDrive/Audio/B/01_290.wav 1\n",
            "/gdrive/MyDrive/Audio/B/01_291.wav 1\n",
            "/gdrive/MyDrive/Audio/B/01_292.wav 1\n",
            "/gdrive/MyDrive/Audio/B/01_293.wav 1\n",
            "/gdrive/MyDrive/Audio/B/01_294.wav 1\n",
            "/gdrive/MyDrive/Audio/B/01_295.wav 1\n",
            "/gdrive/MyDrive/Audio/B/01_296.wav 1\n",
            "/gdrive/MyDrive/Audio/B/01_297.wav 1\n",
            "/gdrive/MyDrive/Audio/B/01_298.wav 1\n",
            "/gdrive/MyDrive/Audio/B/01_299.wav 1\n",
            "/gdrive/MyDrive/Audio/B/01_300.wav 1\n",
            "/gdrive/MyDrive/Audio/B/01_301.wav 1\n",
            "/gdrive/MyDrive/Audio/B/01_302.wav 1\n",
            "/gdrive/MyDrive/Audio/B/01_303.wav 1\n",
            "/gdrive/MyDrive/Audio/B/01_304.wav 1\n",
            "/gdrive/MyDrive/Audio/B/01_305.wav 1\n",
            "/gdrive/MyDrive/Audio/B/01_306.wav 1\n",
            "/gdrive/MyDrive/Audio/B/01_307.wav 1\n",
            "/gdrive/MyDrive/Audio/B/01_308.wav 1\n",
            "/gdrive/MyDrive/Audio/B/01_309.wav 1\n",
            "/gdrive/MyDrive/Audio/B/01_310.wav 1\n",
            "/gdrive/MyDrive/Audio/B/01_311.wav 1\n",
            "/gdrive/MyDrive/Audio/B/01_312.wav 1\n",
            "/gdrive/MyDrive/Audio/B/01_313.wav 1\n",
            "/gdrive/MyDrive/Audio/B/01_314.wav 1\n",
            "/gdrive/MyDrive/Audio/B/01_315.wav 1\n",
            "/gdrive/MyDrive/Audio/B/01_316.wav 1\n",
            "/gdrive/MyDrive/Audio/B/01_317.wav 1\n",
            "/gdrive/MyDrive/Audio/B/01_318.wav 1\n",
            "/gdrive/MyDrive/Audio/B/01_319.wav 1\n",
            "/gdrive/MyDrive/Audio/B/01_320.wav 1\n",
            "/gdrive/MyDrive/Audio/B/01_321.wav 1\n",
            "/gdrive/MyDrive/Audio/B/01_322.wav 1\n",
            "/gdrive/MyDrive/Audio/B/01_323.wav 1\n",
            "/gdrive/MyDrive/Audio/B/01_324.wav 1\n",
            "/gdrive/MyDrive/Audio/B/01_325.wav 1\n",
            "/gdrive/MyDrive/Audio/B/01_326.wav 1\n",
            "/gdrive/MyDrive/Audio/B/01_327.wav 1\n",
            "/gdrive/MyDrive/Audio/B/01_328.wav 1\n",
            "/gdrive/MyDrive/Audio/B/01_329.wav 1\n",
            "/gdrive/MyDrive/Audio/B/01_330.wav 1\n",
            "/gdrive/MyDrive/Audio/B/01_331.wav 1\n",
            "/gdrive/MyDrive/Audio/B/01_332.wav 1\n",
            "/gdrive/MyDrive/Audio/B/01_333.wav 1\n",
            "/gdrive/MyDrive/Audio/B/01_334.wav 1\n",
            "/gdrive/MyDrive/Audio/B/01_335.wav 1\n",
            "/gdrive/MyDrive/Audio/B/01_336.wav 1\n",
            "/gdrive/MyDrive/Audio/B/01_337.wav 1\n",
            "/gdrive/MyDrive/Audio/B/01_338.wav 1\n",
            "/gdrive/MyDrive/Audio/B/01_339.wav 1\n",
            "/gdrive/MyDrive/Audio/B/01_340.wav 1\n",
            "/gdrive/MyDrive/Audio/B/01_341.wav 1\n",
            "/gdrive/MyDrive/Audio/B/01_342.wav 1\n",
            "/gdrive/MyDrive/Audio/B/01_343.wav 1\n",
            "/gdrive/MyDrive/Audio/B/01_344.wav 1\n",
            "/gdrive/MyDrive/Audio/B/01_345.wav 1\n",
            "/gdrive/MyDrive/Audio/B/01_346.wav 1\n",
            "/gdrive/MyDrive/Audio/B/01_347.wav 1\n",
            "/gdrive/MyDrive/Audio/B/01_348.wav 1\n",
            "/gdrive/MyDrive/Audio/B/01_349.wav 1\n",
            "/gdrive/MyDrive/Audio/B/01_350.wav 1\n",
            "/gdrive/MyDrive/Audio/B/01_351.wav 1\n",
            "/gdrive/MyDrive/Audio/B/01_352.wav 1\n",
            "/gdrive/MyDrive/Audio/B/01_353.wav 1\n",
            "/gdrive/MyDrive/Audio/B/01_354.wav 1\n",
            "/gdrive/MyDrive/Audio/B/01_355.wav 1\n",
            "/gdrive/MyDrive/Audio/B/01_356.wav 1\n",
            "/gdrive/MyDrive/Audio/B/01_357.wav 1\n",
            "/gdrive/MyDrive/Audio/B/01_358.wav 1\n",
            "/gdrive/MyDrive/Audio/B/01_359.wav 1\n",
            "/gdrive/MyDrive/Audio/B/01_360.wav 1\n",
            "/gdrive/MyDrive/Audio/B/01_361.wav 1\n",
            "/gdrive/MyDrive/Audio/B/01_362.wav 1\n",
            "/gdrive/MyDrive/Audio/B/01_363.wav 1\n",
            "/gdrive/MyDrive/Audio/B/01_364.wav 1\n",
            "/gdrive/MyDrive/Audio/B/01_365.wav 1\n",
            "/gdrive/MyDrive/Audio/B/01_366.wav 1\n",
            "/gdrive/MyDrive/Audio/B/01_367.wav 1\n",
            "/gdrive/MyDrive/Audio/B/01_368.wav 1\n",
            "/gdrive/MyDrive/Audio/B/01_369.wav 1\n",
            "/gdrive/MyDrive/Audio/B/01_370.wav 1\n",
            "/gdrive/MyDrive/Audio/B/01_371.wav 1\n",
            "/gdrive/MyDrive/Audio/B/01_372.wav 1\n",
            "/gdrive/MyDrive/Audio/B/01_373.wav 1\n",
            "/gdrive/MyDrive/Audio/B/01_374.wav 1\n",
            "/gdrive/MyDrive/Audio/B/01_375.wav 1\n",
            "/gdrive/MyDrive/Audio/B/01_376.wav 1\n",
            "/gdrive/MyDrive/Audio/B/01_377.wav 1\n",
            "/gdrive/MyDrive/Audio/B/01_378.wav 1\n",
            "/gdrive/MyDrive/Audio/B/01_379.wav 1\n",
            "/gdrive/MyDrive/Audio/B/01_380.wav 1\n",
            "/gdrive/MyDrive/Audio/B/01_381.wav 1\n",
            "/gdrive/MyDrive/Audio/B/01_382.wav 1\n",
            "/gdrive/MyDrive/Audio/B/01_383.wav 1\n",
            "/gdrive/MyDrive/Audio/B/01_384.wav 1\n",
            "/gdrive/MyDrive/Audio/B/01_385.wav 1\n",
            "/gdrive/MyDrive/Audio/B/01_386.wav 1\n",
            "/gdrive/MyDrive/Audio/B/01_387.wav 1\n",
            "/gdrive/MyDrive/Audio/B/01_388.wav 1\n",
            "/gdrive/MyDrive/Audio/B/01_389.wav 1\n",
            "/gdrive/MyDrive/Audio/B/01_390.wav 1\n",
            "/gdrive/MyDrive/Audio/B/01_391.wav 1\n",
            "/gdrive/MyDrive/Audio/B/01_392.wav 1\n",
            "/gdrive/MyDrive/Audio/B/01_393.wav 1\n",
            "/gdrive/MyDrive/Audio/B/01_394.wav 1\n",
            "/gdrive/MyDrive/Audio/B/01_395.wav 1\n",
            "/gdrive/MyDrive/Audio/B/01_396.wav 1\n",
            "/gdrive/MyDrive/Audio/B/01_397.wav 1\n",
            "/gdrive/MyDrive/Audio/B/00_000.wav 0\n",
            "/gdrive/MyDrive/Audio/B/00_001.wav 0\n",
            "/gdrive/MyDrive/Audio/B/00_002.wav 0\n",
            "/gdrive/MyDrive/Audio/B/00_003.wav 0\n",
            "/gdrive/MyDrive/Audio/B/00_004.wav 0\n",
            "/gdrive/MyDrive/Audio/B/00_005.wav 0\n",
            "/gdrive/MyDrive/Audio/B/00_006.wav 0\n",
            "/gdrive/MyDrive/Audio/B/00_007.wav 0\n",
            "/gdrive/MyDrive/Audio/B/00_008.wav 0\n",
            "/gdrive/MyDrive/Audio/B/00_009.wav 0\n",
            "/gdrive/MyDrive/Audio/B/00_010.wav 0\n",
            "/gdrive/MyDrive/Audio/B/00_011.wav 0\n",
            "/gdrive/MyDrive/Audio/B/00_012.wav 0\n",
            "/gdrive/MyDrive/Audio/B/00_013.wav 0\n",
            "/gdrive/MyDrive/Audio/B/00_014.wav 0\n",
            "/gdrive/MyDrive/Audio/B/00_015.wav 0\n",
            "/gdrive/MyDrive/Audio/B/00_016.wav 0\n",
            "/gdrive/MyDrive/Audio/B/00_017.wav 0\n",
            "/gdrive/MyDrive/Audio/B/00_018.wav 0\n",
            "/gdrive/MyDrive/Audio/B/00_019.wav 0\n",
            "/gdrive/MyDrive/Audio/B/00_020.wav 0\n",
            "/gdrive/MyDrive/Audio/B/00_021.wav 0\n",
            "/gdrive/MyDrive/Audio/B/00_022.wav 0\n",
            "/gdrive/MyDrive/Audio/B/00_023.wav 0\n",
            "/gdrive/MyDrive/Audio/B/00_024.wav 0\n",
            "/gdrive/MyDrive/Audio/B/00_025.wav 0\n",
            "/gdrive/MyDrive/Audio/B/00_026.wav 0\n",
            "/gdrive/MyDrive/Audio/B/00_027.wav 0\n",
            "/gdrive/MyDrive/Audio/B/00_028.wav 0\n",
            "/gdrive/MyDrive/Audio/B/00_029.wav 0\n",
            "/gdrive/MyDrive/Audio/B/00_030.wav 0\n",
            "/gdrive/MyDrive/Audio/B/00_031.wav 0\n",
            "/gdrive/MyDrive/Audio/B/00_032.wav 0\n",
            "/gdrive/MyDrive/Audio/B/00_033.wav 0\n",
            "/gdrive/MyDrive/Audio/B/00_034.wav 0\n",
            "/gdrive/MyDrive/Audio/B/00_035.wav 0\n",
            "/gdrive/MyDrive/Audio/B/00_036.wav 0\n",
            "/gdrive/MyDrive/Audio/B/00_037.wav 0\n",
            "/gdrive/MyDrive/Audio/B/00_038.wav 0\n",
            "/gdrive/MyDrive/Audio/B/00_039.wav 0\n",
            "/gdrive/MyDrive/Audio/B/00_040.wav 0\n",
            "/gdrive/MyDrive/Audio/B/00_041.wav 0\n",
            "/gdrive/MyDrive/Audio/B/00_042.wav 0\n",
            "/gdrive/MyDrive/Audio/B/00_043.wav 0\n",
            "/gdrive/MyDrive/Audio/B/00_044.wav 0\n",
            "/gdrive/MyDrive/Audio/B/00_045.wav 0\n",
            "/gdrive/MyDrive/Audio/B/00_046.wav 0\n",
            "/gdrive/MyDrive/Audio/B/00_047.wav 0\n",
            "/gdrive/MyDrive/Audio/B/00_048.wav 0\n",
            "/gdrive/MyDrive/Audio/B/00_049.wav 0\n",
            "/gdrive/MyDrive/Audio/B/00_050.wav 0\n",
            "/gdrive/MyDrive/Audio/B/00_051.wav 0\n",
            "/gdrive/MyDrive/Audio/B/00_052.wav 0\n",
            "/gdrive/MyDrive/Audio/B/00_053.wav 0\n",
            "/gdrive/MyDrive/Audio/B/00_054.wav 0\n",
            "/gdrive/MyDrive/Audio/B/00_055.wav 0\n",
            "/gdrive/MyDrive/Audio/B/00_056.wav 0\n",
            "/gdrive/MyDrive/Audio/B/00_057.wav 0\n",
            "/gdrive/MyDrive/Audio/B/00_058.wav 0\n",
            "/gdrive/MyDrive/Audio/B/00_059.wav 0\n",
            "/gdrive/MyDrive/Audio/B/00_060.wav 0\n",
            "/gdrive/MyDrive/Audio/B/00_061.wav 0\n",
            "/gdrive/MyDrive/Audio/B/00_062.wav 0\n",
            "/gdrive/MyDrive/Audio/B/00_063.wav 0\n",
            "/gdrive/MyDrive/Audio/B/00_064.wav 0\n",
            "/gdrive/MyDrive/Audio/B/00_065.wav 0\n",
            "/gdrive/MyDrive/Audio/B/00_066.wav 0\n",
            "/gdrive/MyDrive/Audio/B/00_067.wav 0\n",
            "/gdrive/MyDrive/Audio/B/00_068.wav 0\n",
            "/gdrive/MyDrive/Audio/B/00_069.wav 0\n",
            "/gdrive/MyDrive/Audio/B/00_070.wav 0\n",
            "/gdrive/MyDrive/Audio/B/00_071.wav 0\n",
            "/gdrive/MyDrive/Audio/B/00_072.wav 0\n",
            "/gdrive/MyDrive/Audio/B/00_073.wav 0\n",
            "/gdrive/MyDrive/Audio/B/00_074.wav 0\n",
            "/gdrive/MyDrive/Audio/B/00_075.wav 0\n",
            "/gdrive/MyDrive/Audio/B/00_076.wav 0\n",
            "/gdrive/MyDrive/Audio/B/00_077.wav 0\n",
            "/gdrive/MyDrive/Audio/B/00_078.wav 0\n",
            "/gdrive/MyDrive/Audio/B/00_079.wav 0\n",
            "/gdrive/MyDrive/Audio/B/00_080.wav 0\n",
            "/gdrive/MyDrive/Audio/B/00_081.wav 0\n",
            "/gdrive/MyDrive/Audio/B/00_082.wav 0\n",
            "/gdrive/MyDrive/Audio/B/00_083.wav 0\n",
            "/gdrive/MyDrive/Audio/B/00_084.wav 0\n",
            "/gdrive/MyDrive/Audio/B/00_085.wav 0\n",
            "/gdrive/MyDrive/Audio/B/00_086.wav 0\n",
            "/gdrive/MyDrive/Audio/B/00_087.wav 0\n",
            "/gdrive/MyDrive/Audio/B/00_088.wav 0\n",
            "/gdrive/MyDrive/Audio/B/00_089.wav 0\n",
            "/gdrive/MyDrive/Audio/B/00_090.wav 0\n",
            "/gdrive/MyDrive/Audio/B/00_091.wav 0\n",
            "/gdrive/MyDrive/Audio/B/00_092.wav 0\n",
            "/gdrive/MyDrive/Audio/B/00_093.wav 0\n",
            "/gdrive/MyDrive/Audio/B/00_094.wav 0\n",
            "/gdrive/MyDrive/Audio/B/00_095.wav 0\n",
            "/gdrive/MyDrive/Audio/B/00_096.wav 0\n",
            "/gdrive/MyDrive/Audio/B/00_097.wav 0\n",
            "/gdrive/MyDrive/Audio/B/00_098.wav 0\n",
            "/gdrive/MyDrive/Audio/B/00_099.wav 0\n",
            "/gdrive/MyDrive/Audio/B/00_100.wav 0\n",
            "/gdrive/MyDrive/Audio/B/00_101.wav 0\n",
            "/gdrive/MyDrive/Audio/B/00_102.wav 0\n",
            "/gdrive/MyDrive/Audio/B/00_103.wav 0\n",
            "/gdrive/MyDrive/Audio/B/00_104.wav 0\n",
            "/gdrive/MyDrive/Audio/B/00_105.wav 0\n",
            "/gdrive/MyDrive/Audio/B/00_106.wav 0\n",
            "/gdrive/MyDrive/Audio/B/00_107.wav 0\n",
            "/gdrive/MyDrive/Audio/B/00_108.wav 0\n",
            "/gdrive/MyDrive/Audio/B/00_109.wav 0\n",
            "/gdrive/MyDrive/Audio/B/00_110.wav 0\n",
            "/gdrive/MyDrive/Audio/B/00_111.wav 0\n",
            "/gdrive/MyDrive/Audio/B/00_112.wav 0\n",
            "/gdrive/MyDrive/Audio/B/00_113.wav 0\n",
            "/gdrive/MyDrive/Audio/B/00_114.wav 0\n",
            "/gdrive/MyDrive/Audio/B/00_115.wav 0\n",
            "/gdrive/MyDrive/Audio/B/00_116.wav 0\n",
            "/gdrive/MyDrive/Audio/B/00_117.wav 0\n",
            "/gdrive/MyDrive/Audio/B/00_118.wav 0\n",
            "/gdrive/MyDrive/Audio/B/00_119.wav 0\n",
            "/gdrive/MyDrive/Audio/B/00_120.wav 0\n",
            "/gdrive/MyDrive/Audio/B/00_121.wav 0\n",
            "/gdrive/MyDrive/Audio/B/00_122.wav 0\n",
            "/gdrive/MyDrive/Audio/B/00_123.wav 0\n",
            "/gdrive/MyDrive/Audio/B/00_124.wav 0\n",
            "/gdrive/MyDrive/Audio/B/00_125.wav 0\n",
            "/gdrive/MyDrive/Audio/B/00_126.wav 0\n",
            "/gdrive/MyDrive/Audio/B/00_127.wav 0\n",
            "/gdrive/MyDrive/Audio/B/00_128.wav 0\n",
            "/gdrive/MyDrive/Audio/B/00_129.wav 0\n",
            "/gdrive/MyDrive/Audio/B/00_130.wav 0\n",
            "/gdrive/MyDrive/Audio/B/00_131.wav 0\n",
            "/gdrive/MyDrive/Audio/B/00_132.wav 0\n",
            "/gdrive/MyDrive/Audio/B/00_133.wav 0\n",
            "/gdrive/MyDrive/Audio/B/00_134.wav 0\n",
            "/gdrive/MyDrive/Audio/B/00_135.wav 0\n",
            "/gdrive/MyDrive/Audio/B/00_136.wav 0\n",
            "/gdrive/MyDrive/Audio/B/00_137.wav 0\n",
            "/gdrive/MyDrive/Audio/B/00_138.wav 0\n",
            "/gdrive/MyDrive/Audio/B/00_139.wav 0\n",
            "/gdrive/MyDrive/Audio/B/00_140.wav 0\n",
            "/gdrive/MyDrive/Audio/B/00_141.wav 0\n",
            "/gdrive/MyDrive/Audio/B/00_142.wav 0\n",
            "/gdrive/MyDrive/Audio/B/00_143.wav 0\n",
            "/gdrive/MyDrive/Audio/B/00_144.wav 0\n",
            "/gdrive/MyDrive/Audio/B/00_145.wav 0\n",
            "/gdrive/MyDrive/Audio/B/00_146.wav 0\n",
            "/gdrive/MyDrive/Audio/B/00_147.wav 0\n",
            "/gdrive/MyDrive/Audio/B/00_148.wav 0\n",
            "/gdrive/MyDrive/Audio/B/00_149.wav 0\n",
            "/gdrive/MyDrive/Audio/B/00_150.wav 0\n",
            "/gdrive/MyDrive/Audio/B/00_151.wav 0\n",
            "/gdrive/MyDrive/Audio/B/00_152.wav 0\n"
          ]
        }
      ]
    },
    {
      "cell_type": "code",
      "source": [
        "print(raw_y[980])\n",
        "IPython.display.Audio(raw_x[980], rate=SAMPLING_RATE)"
      ],
      "metadata": {
        "colab": {
          "base_uri": "https://localhost:8080/",
          "height": 92
        },
        "id": "LMyoGSYqiA2D",
        "outputId": "cc28438c-d3cb-4338-e1c8-3c31025058a6"
      },
      "execution_count": 6,
      "outputs": [
        {
          "output_type": "stream",
          "name": "stdout",
          "text": [
            "1\n"
          ]
        },
        {
          "output_type": "execute_result",
          "data": {
            "text/plain": [
              "<IPython.lib.display.Audio object>"
            ],
            "text/html": [
              "\n",
              "                <audio  controls=\"controls\" >\n",
              "                    <source src=\"data:audio/wav;base64,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\" type=\"audio/wav\" />\n",
              "                    Your browser does not support the audio element.\n",
              "                </audio>\n",
              "              "
            ]
          },
          "metadata": {},
          "execution_count": 6
        }
      ]
    },
    {
      "cell_type": "code",
      "source": [
        "print(raw_y[1])\n",
        "IPython.display.Audio(raw_x[1], rate=SAMPLING_RATE)"
      ],
      "metadata": {
        "colab": {
          "base_uri": "https://localhost:8080/",
          "height": 92
        },
        "id": "bjXXExOuiHcr",
        "outputId": "d9970f8a-b7c5-4f5b-f28d-ed3e187ce2fe"
      },
      "execution_count": 7,
      "outputs": [
        {
          "output_type": "stream",
          "name": "stdout",
          "text": [
            "0\n"
          ]
        },
        {
          "output_type": "execute_result",
          "data": {
            "text/plain": [
              "<IPython.lib.display.Audio object>"
            ],
            "text/html": [
              "\n",
              "                <audio  controls=\"controls\" >\n",
              "                    <source src=\"data:audio/wav;base64,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\" type=\"audio/wav\" />\n",
              "                    Your browser does not support the audio element.\n",
              "                </audio>\n",
              "              "
            ]
          },
          "metadata": {},
          "execution_count": 7
        }
      ]
    },
    {
      "cell_type": "code",
      "source": [
        "from collections import Counter\n",
        "Counter(raw_y)\n"
      ],
      "metadata": {
        "colab": {
          "base_uri": "https://localhost:8080/"
        },
        "id": "WY8Ro3dfdARJ",
        "outputId": "0509ad14-6ce4-41f9-d188-068f2a39a1d5"
      },
      "execution_count": 8,
      "outputs": [
        {
          "output_type": "execute_result",
          "data": {
            "text/plain": [
              "Counter({0: 348, 2: 408, 1: 397})"
            ]
          },
          "metadata": {},
          "execution_count": 8
        }
      ]
    },
    {
      "cell_type": "markdown",
      "source": [
        "# padding"
      ],
      "metadata": {
        "id": "M1e1eHmSNfY9"
      }
    },
    {
      "cell_type": "code",
      "source": [
        "lens = []\n",
        "for i in range(len(raw_x)):\n",
        "    lens.append(len(raw_x[i]))\n",
        "\n",
        "plt.hist(lens, bins=100)\n",
        "plt.show()"
      ],
      "metadata": {
        "colab": {
          "base_uri": "https://localhost:8080/",
          "height": 268
        },
        "id": "FsjDBDIOEVd4",
        "outputId": "02b8637a-4601-44ba-a094-e775995f6126"
      },
      "execution_count": 9,
      "outputs": [
        {
          "output_type": "display_data",
          "data": {
            "text/plain": [
              "<Figure size 432x288 with 1 Axes>"
            ],
            "image/png": "[encoded data removed]"
          },
          "metadata": {
            "needs_background": "light"
          }
        }
      ]
    },
    {
      "cell_type": "code",
      "source": [
        "print(lens[:10])"
      ],
      "metadata": {
        "colab": {
          "base_uri": "https://localhost:8080/"
        },
        "id": "92aGHRkbkisj",
        "outputId": "11e25e1f-cd8e-4e44-d5cd-97d5c0b30810"
      },
      "execution_count": 10,
      "outputs": [
        {
          "output_type": "stream",
          "name": "stdout",
          "text": [
            "[10153, 9750, 10392, 9923, 9841, 10515, 10356, 10222, 10087, 9649]\n"
          ]
        }
      ]
    },
    {
      "cell_type": "code",
      "source": [
        "from tensorflow.keras.preprocessing import sequence\n",
        "\n",
        "padded_raw_x = sequence.pad_sequences(raw_x, maxlen=22050, padding='post', dtype=float)\n",
        "# 파일 길이를 똑같이 맞춤 22050 (1초로)"
      ],
      "metadata": {
        "id": "aghztZe9-1N5"
      },
      "execution_count": 11,
      "outputs": []
    },
    {
      "cell_type": "code",
      "source": [
        "print(raw_y[980])\n",
        "IPython.display.Audio(raw_x[980], rate=SAMPLING_RATE)"
      ],
      "metadata": {
        "colab": {
          "base_uri": "https://localhost:8080/",
          "height": 92
        },
        "outputId": "929df5ce-fe7f-4efa-b9df-d59bf457be92",
        "id": "7mTCyMzWiVAZ"
      },
      "execution_count": 12,
      "outputs": [
        {
          "output_type": "stream",
          "name": "stdout",
          "text": [
            "1\n"
          ]
        },
        {
          "output_type": "execute_result",
          "data": {
            "text/plain": [
              "<IPython.lib.display.Audio object>"
            ],
            "text/html": [
              "\n",
              "                <audio  controls=\"controls\" >\n",
              "                    <source src=\"data:audio/wav;base64,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\" type=\"audio/wav\" />\n",
              "                    Your browser does not support the audio element.\n",
              "                </audio>\n",
              "              "
            ]
          },
          "metadata": {},
          "execution_count": 12
        }
      ]
    },
    {
      "cell_type": "code",
      "source": [
        "print(raw_y[1])\n",
        "IPython.display.Audio(raw_x[1], rate=SAMPLING_RATE)"
      ],
      "metadata": {
        "colab": {
          "base_uri": "https://localhost:8080/",
          "height": 92
        },
        "outputId": "89df9e1b-c6dc-43d9-f26e-295470d6dab8",
        "id": "R6-jXew3iVAZ"
      },
      "execution_count": 13,
      "outputs": [
        {
          "output_type": "stream",
          "name": "stdout",
          "text": [
            "0\n"
          ]
        },
        {
          "output_type": "execute_result",
          "data": {
            "text/plain": [
              "<IPython.lib.display.Audio object>"
            ],
            "text/html": [
              "\n",
              "                <audio  controls=\"controls\" >\n",
              "                    <source src=\"data:audio/wav;base64,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\" type=\"audio/wav\" />\n",
              "                    Your browser does not support the audio element.\n",
              "                </audio>\n",
              "              "
            ]
          },
          "metadata": {},
          "execution_count": 13
        }
      ]
    },
    {
      "cell_type": "code",
      "source": [
        "raw_x = np.array(padded_raw_x)\n",
        "raw_y = np.array(raw_y)\n",
        "print(raw_x.shape)  \n",
        "print(raw_y.shape)"
      ],
      "metadata": {
        "colab": {
          "base_uri": "https://localhost:8080/"
        },
        "id": "1b-zDbF--1LQ",
        "outputId": "4876caac-99d9-41a7-831e-0caa29d1252a"
      },
      "execution_count": 14,
      "outputs": [
        {
          "output_type": "stream",
          "name": "stdout",
          "text": [
            "(1153, 22050)\n",
            "(1153,)\n"
          ]
        }
      ]
    },
    {
      "cell_type": "code",
      "source": [
        "print(raw_y[980])\n",
        "IPython.display.Audio(raw_x[980], rate=SAMPLING_RATE)"
      ],
      "metadata": {
        "colab": {
          "base_uri": "https://localhost:8080/",
          "height": 92
        },
        "outputId": "26f3de1d-ffb7-4c5b-a6ed-271904c12ed9",
        "id": "kvxddiJmibQf"
      },
      "execution_count": 15,
      "outputs": [
        {
          "output_type": "stream",
          "name": "stdout",
          "text": [
            "1\n"
          ]
        },
        {
          "output_type": "execute_result",
          "data": {
            "text/plain": [
              "<IPython.lib.display.Audio object>"
            ],
            "text/html": [
              "\n",
              "                <audio  controls=\"controls\" >\n",
              "                    <source src=\"data:audio/wav;base64,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\" type=\"audio/wav\" />\n",
              "                    Your browser does not support the audio element.\n",
              "                </audio>\n",
              "              "
            ]
          },
          "metadata": {},
          "execution_count": 15
        }
      ]
    },
    {
      "cell_type": "code",
      "source": [
        "print(raw_y[1])\n",
        "IPython.display.Audio(raw_x[1], rate=SAMPLING_RATE)"
      ],
      "metadata": {
        "colab": {
          "base_uri": "https://localhost:8080/",
          "height": 92
        },
        "outputId": "471bf9d4-fcb1-498e-b491-d7d7d76055eb",
        "id": "o02lV35TibQg"
      },
      "execution_count": 16,
      "outputs": [
        {
          "output_type": "stream",
          "name": "stdout",
          "text": [
            "0\n"
          ]
        },
        {
          "output_type": "execute_result",
          "data": {
            "text/plain": [
              "<IPython.lib.display.Audio object>"
            ],
            "text/html": [
              "\n",
              "                <audio  controls=\"controls\" >\n",
              "                    <source src=\"data:audio/wav;base64,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\" type=\"audio/wav\" />\n",
              "                    Your browser does not support the audio element.\n",
              "                </audio>\n",
              "              "
            ]
          },
          "metadata": {},
          "execution_count": 16
        }
      ]
    },
    {
      "cell_type": "markdown",
      "source": [
        "# Normalization"
      ],
      "metadata": {
        "id": "fMc7mKiONdAs"
      }
    },
    {
      "cell_type": "code",
      "source": [],
      "metadata": {
        "id": "-KNY-Pztk8uI"
      },
      "execution_count": 16,
      "outputs": []
    },
    {
      "cell_type": "code",
      "source": [
        "max = np.max(raw_x)\n",
        "min = np.min(raw_x)\n",
        "print(min, max)"
      ],
      "metadata": {
        "colab": {
          "base_uri": "https://localhost:8080/"
        },
        "id": "Yb7uzqDONoSF",
        "outputId": "18e17f96-3b4b-4a5b-8322-476e7843649f"
      },
      "execution_count": 17,
      "outputs": [
        {
          "output_type": "stream",
          "name": "stdout",
          "text": [
            "-1.001734972000122 1.0368831157684326\n"
          ]
        }
      ]
    },
    {
      "cell_type": "code",
      "source": [
        "# raw_x = (raw_x - min) / (max - min)"
      ],
      "metadata": {
        "id": "xjE3MuKwNcGt"
      },
      "execution_count": 18,
      "outputs": []
    },
    {
      "cell_type": "markdown",
      "source": [
        "# 2차원으로 reshape"
      ],
      "metadata": {
        "id": "T-iyrW8_N869"
      }
    },
    {
      "cell_type": "code",
      "source": [
        "print(raw_x.shape)\n",
        "raw_x = raw_x.reshape((len(raw_x),-1,1))\n",
        "print(raw_x.shape)"
      ],
      "metadata": {
        "id": "EXF8sZPYN_RL",
        "colab": {
          "base_uri": "https://localhost:8080/"
        },
        "outputId": "68c011e3-db76-4dee-f1eb-507f6278a6f6"
      },
      "execution_count": 19,
      "outputs": [
        {
          "output_type": "stream",
          "name": "stdout",
          "text": [
            "(1153, 22050)\n",
            "(1153, 22050, 1)\n"
          ]
        }
      ]
    },
    {
      "cell_type": "markdown",
      "source": [
        "# 데이터 분리"
      ],
      "metadata": {
        "id": "EjXer_ucN67c"
      }
    },
    {
      "cell_type": "code",
      "source": [
        "from sklearn.model_selection import train_test_split\n",
        "\n",
        "train_x, test_x, train_y, test_y = train_test_split(raw_x, raw_y, test_size=0.2, shuffle=True)"
      ],
      "metadata": {
        "id": "Z54gJGmi-1Ig"
      },
      "execution_count": 20,
      "outputs": []
    },
    {
      "cell_type": "code",
      "source": [
        "print(len(train_y))\n",
        "print(train_y[len(train_y)-1])\n",
        "IPython.display.Audio(train_x[len(train_y)-1].squeeze(), rate=SAMPLING_RATE)"
      ],
      "metadata": {
        "colab": {
          "base_uri": "https://localhost:8080/",
          "height": 111
        },
        "outputId": "b6f73f03-777f-41ce-f37b-03dec742b72c",
        "id": "ar3Q1ezWinMR"
      },
      "execution_count": 21,
      "outputs": [
        {
          "output_type": "stream",
          "name": "stdout",
          "text": [
            "922\n",
            "0\n"
          ]
        },
        {
          "output_type": "execute_result",
          "data": {
            "text/plain": [
              "<IPython.lib.display.Audio object>"
            ],
            "text/html": [
              "\n",
              "                <audio  controls=\"controls\" >\n",
              "                    <source src=\"data:audio/wav;base64,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\" type=\"audio/wav\" />\n",
              "                    Your browser does not support the audio element.\n",
              "                </audio>\n",
              "              "
            ]
          },
          "metadata": {},
          "execution_count": 21
        }
      ]
    },
    {
      "cell_type": "code",
      "source": [
        "print(train_y[1])\n",
        "IPython.display.Audio(train_x[1].squeeze(), rate=SAMPLING_RATE)"
      ],
      "metadata": {
        "colab": {
          "base_uri": "https://localhost:8080/",
          "height": 92
        },
        "outputId": "53fd92ee-f6bd-45ed-f372-f1fb1a01acc7",
        "id": "RFKC_o3IinMS"
      },
      "execution_count": 22,
      "outputs": [
        {
          "output_type": "stream",
          "name": "stdout",
          "text": [
            "2\n"
          ]
        },
        {
          "output_type": "execute_result",
          "data": {
            "text/plain": [
              "<IPython.lib.display.Audio object>"
            ],
            "text/html": [
              "\n",
              "                <audio  controls=\"controls\" >\n",
              "                    <source src=\"data:audio/wav;base64,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\" type=\"audio/wav\" />\n",
              "                    Your browser does not support the audio element.\n",
              "                </audio>\n",
              "              "
            ]
          },
          "metadata": {},
          "execution_count": 22
        }
      ]
    },
    {
      "cell_type": "code",
      "source": [
        "print(train_x.shape)\n",
        "print(train_y.shape)\n"
      ],
      "metadata": {
        "colab": {
          "base_uri": "https://localhost:8080/"
        },
        "id": "9DF-X34ifJgr",
        "outputId": "c61b7d48-9dd7-4bf9-9737-c450ba2a764f"
      },
      "execution_count": 23,
      "outputs": [
        {
          "output_type": "stream",
          "name": "stdout",
          "text": [
            "(922, 22050, 1)\n",
            "(922,)\n"
          ]
        }
      ]
    },
    {
      "cell_type": "code",
      "source": [
        "# copy from https://gist.github.com/stared/dfb4dfaf6d9a8501cd1cc8b8cb806d2e\n",
        "\n",
        "# loss graph를 학습하면서 실시간으로 그리는 방법\n",
        "\n",
        "from IPython.display import clear_output\n",
        "from tensorflow.keras.callbacks import Callback\n",
        "\n",
        "class PlotLosses(Callback):\n",
        "\n",
        "  def on_train_begin(self, logs={}):\n",
        "    self.epochs = []\n",
        "    self.losses = []\n",
        "    self.val_losses = []\n",
        "    self.logs = []\n",
        "    self.fig = plt.figure()\n",
        "\n",
        "\n",
        "  def on_epoch_end(self, epoch, logs={}):\n",
        "\n",
        "    self.epochs.append(epoch)\n",
        "    self.losses.append(logs.get('loss'))\n",
        "    self.val_losses.append(logs.get('val_loss'))\n",
        "\n",
        "    clear_output(wait=True)\n",
        "    plt.plot(self.epochs, self.losses, label=\"loss\")\n",
        "    plt.plot(self.epochs, self.val_losses, label=\"val_loss\")\n",
        "    plt.legend()\n",
        "    plt.show();\n",
        "    print(\"epochs = \", self.epochs[-1], \"loss = \", self.losses[-1], \", val_loss = \", self.val_losses[-1])"
      ],
      "metadata": {
        "id": "xULPFYqYA4Pv"
      },
      "execution_count": 24,
      "outputs": []
    },
    {
      "cell_type": "code",
      "source": [
        "from tensorflow import keras\n",
        "from tensorflow.keras.layers import Dense, RepeatVector, Flatten, Input, Activation\n",
        "from tensorflow.keras.layers import Bidirectional, LSTM, GRU, Conv1D, MaxPooling1D, AveragePooling1D, Add, MaxPool1D\n",
        "from tensorflow.keras.layers import Dropout, GaussianNoise, BatchNormalization\n",
        "from tensorflow.keras.regularizers import l1, l2, L1L2\n",
        "\n",
        "input_shape = train_x.shape[1:]\n",
        "num_classes = 3  # B 폴더 [0: 가수, 1:오리, 2:파도]\n",
        "\n",
        "model = keras.Sequential()\n",
        "model.add(Input(input_shape))\n",
        "\n",
        "model.add(Conv1D(32, 9, padding=\"same\", activation=\"relu\"))  \n",
        "model.add(Conv1D(32, 9, padding=\"same\", activation=\"relu\")) \n",
        "model.add(MaxPooling1D())\n",
        "\n",
        "model.add(Conv1D(64, 9, padding=\"same\", activation=\"relu\"))  \n",
        "model.add(Conv1D(64, 9, padding=\"same\", activation=\"relu\"))  \n",
        "model.add(MaxPooling1D())\n",
        "\n",
        "model.add(Conv1D(128, 9, padding=\"same\", activation=\"relu\"))  \n",
        "model.add(Conv1D(128, 9, padding=\"same\", activation=\"relu\"))  \n",
        "model.add(Conv1D(128, 9, padding=\"same\", activation=\"relu\"))  \n",
        "model.add(MaxPooling1D())\n",
        "\n",
        "model.add(Conv1D(256, 9, padding=\"same\", activation=\"relu\"))  \n",
        "model.add(Conv1D(256, 9, padding=\"same\", activation=\"relu\"))  \n",
        "model.add(Conv1D(256, 9, padding=\"same\", activation=\"relu\"))  \n",
        "model.add(MaxPooling1D())\n",
        "model.add(Dropout(0.3))\n",
        "\n",
        "model.add(Flatten())\n",
        "model.add(Dense(256, activation=\"relu\")) #, kernel_regularizer=l2()))\n",
        "model.add(BatchNormalization())\n",
        "\n",
        "model.add(Dense(num_classes, activation=\"softmax\"))  \n",
        "\n",
        "from tensorflow.keras.optimizers import Adam, Adadelta, SGD\n",
        "# optimizer = SGD(learning_rate=0.001) # *0.1, decay=0.01)  \n",
        "optimizer = Adam(learning_rate=0.001*0.1, decay=0.01) \n",
        "\n",
        "model.compile(loss=\"sparse_categorical_crossentropy\", optimizer=optimizer, metrics=[\"acc\"])\n",
        "model.summary()\n"
      ],
      "metadata": {
        "colab": {
          "base_uri": "https://localhost:8080/"
        },
        "id": "pT7VVvOygvXA",
        "outputId": "8a77d994-7808-4e1f-c1a2-771b7ccda7e0"
      },
      "execution_count": 25,
      "outputs": [
        {
          "output_type": "stream",
          "name": "stdout",
          "text": [
            "Model: \"sequential\"\n",
            "_________________________________________________________________\n",
            " Layer (type)                Output Shape              Param #   \n",
            "=================================================================\n",
            " conv1d (Conv1D)             (None, 22050, 32)         320       \n",
            "                                                                 \n",
            " conv1d_1 (Conv1D)           (None, 22050, 32)         9248      \n",
            "                                                                 \n",
            " max_pooling1d (MaxPooling1D  (None, 11025, 32)        0         \n",
            " )                                                               \n",
            "                                                                 \n",
            " conv1d_2 (Conv1D)           (None, 11025, 64)         18496     \n",
            "                                                                 \n",
            " conv1d_3 (Conv1D)           (None, 11025, 64)         36928     \n",
            "                                                                 \n",
            " max_pooling1d_1 (MaxPooling  (None, 5512, 64)         0         \n",
            " 1D)                                                             \n",
            "                                                                 \n",
            " conv1d_4 (Conv1D)           (None, 5512, 128)         73856     \n",
            "                                                                 \n",
            " conv1d_5 (Conv1D)           (None, 5512, 128)         147584    \n",
            "                                                                 \n",
            " conv1d_6 (Conv1D)           (None, 5512, 128)         147584    \n",
            "                                                                 \n",
            " max_pooling1d_2 (MaxPooling  (None, 2756, 128)        0         \n",
            " 1D)                                                             \n",
            "                                                                 \n",
            " conv1d_7 (Conv1D)           (None, 2756, 256)         295168    \n",
            "                                                                 \n",
            " conv1d_8 (Conv1D)           (None, 2756, 256)         590080    \n",
            "                                                                 \n",
            " conv1d_9 (Conv1D)           (None, 2756, 256)         590080    \n",
            "                                                                 \n",
            " max_pooling1d_3 (MaxPooling  (None, 1378, 256)        0         \n",
            " 1D)                                                             \n",
            "                                                                 \n",
            " dropout (Dropout)           (None, 1378, 256)         0         \n",
            "                                                                 \n",
            " flatten (Flatten)           (None, 352768)            0         \n",
            "                                                                 \n",
            " dense (Dense)               (None, 256)               90308864  \n",
            "                                                                 \n",
            " batch_normalization (BatchN  (None, 256)              1024      \n",
            " ormalization)                                                   \n",
            "                                                                 \n",
            " dense_1 (Dense)             (None, 3)                 771       \n",
            "                                                                 \n",
            "=================================================================\n",
            "Total params: 92,220,003\n",
            "Trainable params: 92,219,491\n",
            "Non-trainable params: 512\n",
            "_________________________________________________________________\n"
          ]
        }
      ]
    },
    {
      "cell_type": "code",
      "source": [
        "plot_losses = PlotLosses()\n",
        "history = model.fit(train_x, train_y, epochs=100, verbose=1, validation_split=0.1, batch_size=16,\n",
        "                    callbacks=[plot_losses])"
      ],
      "metadata": {
        "colab": {
          "base_uri": "https://localhost:8080/",
          "height": 302
        },
        "id": "ksVvwmtJjQ9S",
        "outputId": "ca8dd7ac-8bee-40e8-a95e-af2fa5afd227"
      },
      "execution_count": 26,
      "outputs": [
        {
          "output_type": "display_data",
          "data": {
            "text/plain": [
              "<Figure size 432x288 with 1 Axes>"
            ],
            "image/png": "[encoded data removed]"
          },
          "metadata": {
            "needs_background": "light"
          }
        },
        {
          "output_type": "stream",
          "name": "stdout",
          "text": [
            "epochs =  99 loss =  0.009832445532083511 , val_loss =  0.04679493606090546\n",
            "\b\b\b\b\b\b\b\b\b\b\b\b\b\b\b\b\b\b\b\b\b\b\b\b\b\b\b\b\b\b\b\b\b\b\b\b\b\b\b\b\b\b\b\b\b\b\b\b\b\b\b\b\b\b\b\b\b\b\b\b\b\b\b\b\b\b\b\b\b\b\b\b\b\b\b\b\b\r52/52 [==============================] - 7s 132ms/step - loss: 0.0098 - acc: 0.9988 - val_loss: 0.0468 - val_acc: 0.9785\n"
          ]
        }
      ]
    },
    {
      "cell_type": "code",
      "source": [
        "loss, acc = model.evaluate(test_x, test_y)\n",
        "print(\"loss=\", loss)\n",
        "print(\"acc=\", acc)\n",
        "\n",
        "\n",
        "y_ = model.predict(test_x)\n",
        "predicted = np.argmax(y_, axis=-1)\n",
        "plt.plot(test_y[:30], 'o')\n",
        "plt.plot(predicted[:30], '.')\n",
        "plt.show()\n"
      ],
      "metadata": {
        "id": "8lHjjByavmmo",
        "colab": {
          "base_uri": "https://localhost:8080/",
          "height": 320
        },
        "outputId": "223f6ce0-ccde-47c3-fe1e-9c96ba94c10d"
      },
      "execution_count": 29,
      "outputs": [
        {
          "output_type": "stream",
          "name": "stdout",
          "text": [
            "8/8 [==============================] - 0s 48ms/step - loss: 0.0370 - acc: 0.9827\n",
            "loss= 0.03700540214776993\n",
            "acc= 0.9826839566230774\n"
          ]
        },
        {
          "output_type": "display_data",
          "data": {
            "text/plain": [
              "<Figure size 432x288 with 1 Axes>"
            ],
            "image/png": "[encoded data removed]"
          },
          "metadata": {
            "needs_background": "light"
          }
        }
      ]
    },
    {
      "cell_type": "code",
      "source": [
        "model.save('../gdrive/MyDrive/Audio/model/ganada_B.h5')"
      ],
      "metadata": {
        "id": "dFjSSA8-p1oV"
      },
      "execution_count": 30,
      "outputs": []
    }
  ]
}