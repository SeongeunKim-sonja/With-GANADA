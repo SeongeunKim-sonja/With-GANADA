{
  "nbformat": 4,
  "nbformat_minor": 0,
  "metadata": {
    "colab": {
      "name": "audio_classification_B.ipynb",
      "provenance": [],
      "collapsed_sections": [],
      "machine_shape": "hm",
      "include_colab_link": true
    },
    "kernelspec": {
      "name": "python3",
      "display_name": "Python 3"
    },
    "language_info": {
      "name": "python"
    },
    "accelerator": "GPU",
    "gpuClass": "standard"
  },
  "cells": [
    {
      "cell_type": "markdown",
      "metadata": {
        "id": "view-in-github",
        "colab_type": "text"
      },
      "source": [
        "<a href=\"https://colab.research.google.com/github/bomij33/With-GANADA/blob/bomi/code/audio_classification_B.ipynb\" target=\"_parent\"><img src=\"https://colab.research.google.com/assets/colab-badge.svg\" alt=\"Open In Colab\"/></a>"
      ]
    },
    {
      "cell_type": "markdown",
      "source": [
        "# Tensorflow 버전 다운로드 2.8.0"
      ],
      "metadata": {
        "id": "PA6S3Wm8D4D4"
      }
    },
    {
      "cell_type": "code",
      "source": [
        "import tensorflow as tf\n",
        "print(tf.__version__)"
      ],
      "metadata": {
        "colab": {
          "base_uri": "https://localhost:8080/"
        },
        "id": "b6FxXRPnT828",
        "outputId": "c20e293a-7be7-47b3-ee16-b607009eb8a2"
      },
      "execution_count": 1,
      "outputs": [
        {
          "output_type": "stream",
          "name": "stdout",
          "text": [
            "2.8.2\n"
          ]
        }
      ]
    },
    {
      "cell_type": "code",
      "source": [
        "!pip uninstall tensorflow"
      ],
      "metadata": {
        "colab": {
          "base_uri": "https://localhost:8080/"
        },
        "id": "KU2qUfwbxImC",
        "outputId": "c91c5048-981b-4f01-8d93-8a028eae3efa"
      },
      "execution_count": null,
      "outputs": [
        {
          "output_type": "stream",
          "name": "stdout",
          "text": [
            "Found existing installation: tensorflow 2.8.2+zzzcolab20220719082949\n",
            "Uninstalling tensorflow-2.8.2+zzzcolab20220719082949:\n",
            "  Would remove:\n",
            "    /usr/local/bin/estimator_ckpt_converter\n",
            "    /usr/local/bin/import_pb_to_tensorboard\n",
            "    /usr/local/bin/saved_model_cli\n",
            "    /usr/local/bin/tensorboard\n",
            "    /usr/local/bin/tf_upgrade_v2\n",
            "    /usr/local/bin/tflite_convert\n",
            "    /usr/local/bin/toco\n",
            "    /usr/local/bin/toco_from_protos\n",
            "    /usr/local/lib/python3.7/dist-packages/tensorflow-2.8.2+zzzcolab20220719082949.dist-info/*\n",
            "    /usr/local/lib/python3.7/dist-packages/tensorflow/*\n",
            "Proceed (y/n)? y\n",
            "  Successfully uninstalled tensorflow-2.8.2+zzzcolab20220719082949\n"
          ]
        }
      ]
    },
    {
      "cell_type": "code",
      "source": [
        "!pip install tensorflow==2.8.0"
      ],
      "metadata": {
        "colab": {
          "base_uri": "https://localhost:8080/",
          "height": 1000
        },
        "id": "2Tg_70W8xSMY",
        "outputId": "a41364c9-0bc7-463d-9f8a-6e4a1666cdf8"
      },
      "execution_count": null,
      "outputs": [
        {
          "output_type": "stream",
          "name": "stdout",
          "text": [
            "Looking in indexes: https://pypi.org/simple, https://us-python.pkg.dev/colab-wheels/public/simple/\n",
            "Collecting tensorflow==2.8.0\n",
            "  Downloading https://us-python.pkg.dev/colab-wheels/public/tensorflow/tensorflow-2.8.0%2Bzzzcolab20220506162203-cp37-cp37m-linux_x86_64.whl (668.3 MB)\n",
            "\u001b[K     |████████████████████████████████| 668.3 MB 17 kB/s \n",
            "\u001b[?25hRequirement already satisfied: typing-extensions>=3.6.6 in /usr/local/lib/python3.7/dist-packages (from tensorflow==2.8.0) (4.1.1)\n",
            "Requirement already satisfied: six>=1.12.0 in /usr/local/lib/python3.7/dist-packages (from tensorflow==2.8.0) (1.15.0)\n",
            "Requirement already satisfied: google-pasta>=0.1.1 in /usr/local/lib/python3.7/dist-packages (from tensorflow==2.8.0) (0.2.0)\n",
            "Requirement already satisfied: termcolor>=1.1.0 in /usr/local/lib/python3.7/dist-packages (from tensorflow==2.8.0) (1.1.0)\n",
            "Requirement already satisfied: keras<2.9,>=2.8.0rc0 in /usr/local/lib/python3.7/dist-packages (from tensorflow==2.8.0) (2.8.0)\n",
            "Requirement already satisfied: numpy>=1.20 in /usr/local/lib/python3.7/dist-packages (from tensorflow==2.8.0) (1.21.6)\n",
            "Requirement already satisfied: keras-preprocessing>=1.1.1 in /usr/local/lib/python3.7/dist-packages (from tensorflow==2.8.0) (1.1.2)\n",
            "Requirement already satisfied: setuptools in /usr/local/lib/python3.7/dist-packages (from tensorflow==2.8.0) (57.4.0)\n",
            "Requirement already satisfied: flatbuffers>=1.12 in /usr/local/lib/python3.7/dist-packages (from tensorflow==2.8.0) (2.0)\n",
            "Requirement already satisfied: wrapt>=1.11.0 in /usr/local/lib/python3.7/dist-packages (from tensorflow==2.8.0) (1.14.1)\n",
            "Requirement already satisfied: opt-einsum>=2.3.2 in /usr/local/lib/python3.7/dist-packages (from tensorflow==2.8.0) (3.3.0)\n",
            "Requirement already satisfied: gast>=0.2.1 in /usr/local/lib/python3.7/dist-packages (from tensorflow==2.8.0) (0.5.3)\n",
            "Requirement already satisfied: tensorflow-io-gcs-filesystem>=0.23.1 in /usr/local/lib/python3.7/dist-packages (from tensorflow==2.8.0) (0.26.0)\n",
            "Requirement already satisfied: tensorboard<2.9,>=2.8 in /usr/local/lib/python3.7/dist-packages (from tensorflow==2.8.0) (2.8.0)\n",
            "Requirement already satisfied: astunparse>=1.6.0 in /usr/local/lib/python3.7/dist-packages (from tensorflow==2.8.0) (1.6.3)\n",
            "Collecting tf-estimator-nightly==2.8.0.dev2021122109\n",
            "  Downloading tf_estimator_nightly-2.8.0.dev2021122109-py2.py3-none-any.whl (462 kB)\n",
            "\u001b[K     |████████████████████████████████| 462 kB 4.3 MB/s \n",
            "\u001b[?25hRequirement already satisfied: absl-py>=0.4.0 in /usr/local/lib/python3.7/dist-packages (from tensorflow==2.8.0) (1.2.0)\n",
            "Requirement already satisfied: grpcio<2.0,>=1.24.3 in /usr/local/lib/python3.7/dist-packages (from tensorflow==2.8.0) (1.47.0)\n",
            "Requirement already satisfied: h5py>=2.9.0 in /usr/local/lib/python3.7/dist-packages (from tensorflow==2.8.0) (3.1.0)\n",
            "Requirement already satisfied: protobuf>=3.9.2 in /usr/local/lib/python3.7/dist-packages (from tensorflow==2.8.0) (3.17.3)\n",
            "Requirement already satisfied: libclang>=9.0.1 in /usr/local/lib/python3.7/dist-packages (from tensorflow==2.8.0) (14.0.6)\n",
            "Requirement already satisfied: wheel<1.0,>=0.23.0 in /usr/local/lib/python3.7/dist-packages (from astunparse>=1.6.0->tensorflow==2.8.0) (0.37.1)\n",
            "Requirement already satisfied: cached-property in /usr/local/lib/python3.7/dist-packages (from h5py>=2.9.0->tensorflow==2.8.0) (1.5.2)\n",
            "Requirement already satisfied: google-auth-oauthlib<0.5,>=0.4.1 in /usr/local/lib/python3.7/dist-packages (from tensorboard<2.9,>=2.8->tensorflow==2.8.0) (0.4.6)\n",
            "Requirement already satisfied: tensorboard-plugin-wit>=1.6.0 in /usr/local/lib/python3.7/dist-packages (from tensorboard<2.9,>=2.8->tensorflow==2.8.0) (1.8.1)\n",
            "Requirement already satisfied: requests<3,>=2.21.0 in /usr/local/lib/python3.7/dist-packages (from tensorboard<2.9,>=2.8->tensorflow==2.8.0) (2.23.0)\n",
            "Requirement already satisfied: tensorboard-data-server<0.7.0,>=0.6.0 in /usr/local/lib/python3.7/dist-packages (from tensorboard<2.9,>=2.8->tensorflow==2.8.0) (0.6.1)\n",
            "Requirement already satisfied: markdown>=2.6.8 in /usr/local/lib/python3.7/dist-packages (from tensorboard<2.9,>=2.8->tensorflow==2.8.0) (3.4.1)\n",
            "Requirement already satisfied: google-auth<3,>=1.6.3 in /usr/local/lib/python3.7/dist-packages (from tensorboard<2.9,>=2.8->tensorflow==2.8.0) (1.35.0)\n",
            "Requirement already satisfied: werkzeug>=0.11.15 in /usr/local/lib/python3.7/dist-packages (from tensorboard<2.9,>=2.8->tensorflow==2.8.0) (1.0.1)\n",
            "Requirement already satisfied: rsa<5,>=3.1.4 in /usr/local/lib/python3.7/dist-packages (from google-auth<3,>=1.6.3->tensorboard<2.9,>=2.8->tensorflow==2.8.0) (4.9)\n",
            "Requirement already satisfied: pyasn1-modules>=0.2.1 in /usr/local/lib/python3.7/dist-packages (from google-auth<3,>=1.6.3->tensorboard<2.9,>=2.8->tensorflow==2.8.0) (0.2.8)\n",
            "Requirement already satisfied: cachetools<5.0,>=2.0.0 in /usr/local/lib/python3.7/dist-packages (from google-auth<3,>=1.6.3->tensorboard<2.9,>=2.8->tensorflow==2.8.0) (4.2.4)\n",
            "Requirement already satisfied: requests-oauthlib>=0.7.0 in /usr/local/lib/python3.7/dist-packages (from google-auth-oauthlib<0.5,>=0.4.1->tensorboard<2.9,>=2.8->tensorflow==2.8.0) (1.3.1)\n",
            "Requirement already satisfied: importlib-metadata>=4.4 in /usr/local/lib/python3.7/dist-packages (from markdown>=2.6.8->tensorboard<2.9,>=2.8->tensorflow==2.8.0) (4.12.0)\n",
            "Requirement already satisfied: zipp>=0.5 in /usr/local/lib/python3.7/dist-packages (from importlib-metadata>=4.4->markdown>=2.6.8->tensorboard<2.9,>=2.8->tensorflow==2.8.0) (3.8.1)\n",
            "Requirement already satisfied: pyasn1<0.5.0,>=0.4.6 in /usr/local/lib/python3.7/dist-packages (from pyasn1-modules>=0.2.1->google-auth<3,>=1.6.3->tensorboard<2.9,>=2.8->tensorflow==2.8.0) (0.4.8)\n",
            "Requirement already satisfied: urllib3!=1.25.0,!=1.25.1,<1.26,>=1.21.1 in /usr/local/lib/python3.7/dist-packages (from requests<3,>=2.21.0->tensorboard<2.9,>=2.8->tensorflow==2.8.0) (1.24.3)\n",
            "Requirement already satisfied: certifi>=2017.4.17 in /usr/local/lib/python3.7/dist-packages (from requests<3,>=2.21.0->tensorboard<2.9,>=2.8->tensorflow==2.8.0) (2022.6.15)\n",
            "Requirement already satisfied: chardet<4,>=3.0.2 in /usr/local/lib/python3.7/dist-packages (from requests<3,>=2.21.0->tensorboard<2.9,>=2.8->tensorflow==2.8.0) (3.0.4)\n",
            "Requirement already satisfied: idna<3,>=2.5 in /usr/local/lib/python3.7/dist-packages (from requests<3,>=2.21.0->tensorboard<2.9,>=2.8->tensorflow==2.8.0) (2.10)\n",
            "Requirement already satisfied: oauthlib>=3.0.0 in /usr/local/lib/python3.7/dist-packages (from requests-oauthlib>=0.7.0->google-auth-oauthlib<0.5,>=0.4.1->tensorboard<2.9,>=2.8->tensorflow==2.8.0) (3.2.0)\n",
            "Installing collected packages: tf-estimator-nightly, tensorflow\n",
            "Successfully installed tensorflow-2.8.0+zzzcolab20220506162203 tf-estimator-nightly-2.8.0.dev2021122109\n"
          ]
        },
        {
          "output_type": "display_data",
          "data": {
            "application/vnd.colab-display-data+json": {
              "pip_warning": {
                "packages": [
                  "tensorflow"
                ]
              }
            }
          },
          "metadata": {}
        }
      ]
    },
    {
      "cell_type": "code",
      "source": [
        "# restart 후 확인\n",
        "import tensorflow as tf\n",
        "print(tf.__version__)"
      ],
      "metadata": {
        "colab": {
          "base_uri": "https://localhost:8080/"
        },
        "id": "h7DPpjeyxifv",
        "outputId": "6159d22b-3332-466a-cd8b-b2bb8f60f82a"
      },
      "execution_count": null,
      "outputs": [
        {
          "output_type": "stream",
          "name": "stdout",
          "text": [
            "2.8.0\n"
          ]
        }
      ]
    },
    {
      "cell_type": "markdown",
      "source": [
        "# 데이터 로딩"
      ],
      "metadata": {
        "id": "633sPckREDYg"
      }
    },
    {
      "cell_type": "code",
      "source": [
        "from google.colab import drive\n",
        "drive.mount('/gdrive')"
      ],
      "metadata": {
        "colab": {
          "base_uri": "https://localhost:8080/"
        },
        "id": "KxyFkVYcdqlJ",
        "outputId": "db1b7a46-9238-49fa-ab95-eb9ad110ad2e"
      },
      "execution_count": 1,
      "outputs": [
        {
          "output_type": "stream",
          "name": "stdout",
          "text": [
            "Mounted at /gdrive\n"
          ]
        }
      ]
    },
    {
      "cell_type": "code",
      "source": [
        "import pandas as pd\n",
        "import numpy as np\n",
        "import matplotlib.pyplot as plt"
      ],
      "metadata": {
        "id": "mG4zvhT7ES63"
      },
      "execution_count": 2,
      "outputs": []
    },
    {
      "cell_type": "code",
      "source": [
        "import IPython\n",
        "import librosa\n",
        "SAMPLING_RATE = 22050"
      ],
      "metadata": {
        "id": "nH0sWXDSyeSc"
      },
      "execution_count": 3,
      "outputs": []
    },
    {
      "cell_type": "code",
      "source": [
        "import glob\n",
        "\n",
        "file_list = glob.glob(\"/gdrive/MyDrive/Audio/B/*.wav\")  # 공유 드라이브의 B단계 음성 파일\n",
        "print(len(file_list))\n",
        "print(file_list[:3]) "
      ],
      "metadata": {
        "colab": {
          "base_uri": "https://localhost:8080/"
        },
        "id": "8HVbzOwCGAUQ",
        "outputId": "dd6ad448-c9c2-469c-f6ee-ab4ae4848adf"
      },
      "execution_count": 12,
      "outputs": [
        {
          "output_type": "stream",
          "name": "stdout",
          "text": [
            "1204\n",
            "['/gdrive/MyDrive/Audio/B/01_217.wav', '/gdrive/MyDrive/Audio/B/01_218.wav', '/gdrive/MyDrive/Audio/B/01_219.wav']\n"
          ]
        }
      ]
    },
    {
      "cell_type": "code",
      "source": [
        "def load_wav(file_name):\n",
        "    data, _ = librosa.load(file_name, sr=SAMPLING_RATE)\n",
        "    return data\n",
        "\n",
        "raw_x = [] # data\n",
        "raw_y = [] # label\n",
        "for file_name in file_list:\n",
        "    label = int(file_name.split(\"/\")[-1].split(\"_\")[0])  # 파일명을 /로 구분하여 스필릿, 다시 _로 스플릿\n",
        "    # label = file_name.split(\"/\")[-1].split(\"_\")[0]\n",
        "\n",
        "    print(file_name, label)\n",
        "    data = load_wav(file_name)\n",
        "    raw_x.append(data)\n",
        "    raw_y.append(label)\n"
      ],
      "metadata": {
        "colab": {
          "base_uri": "https://localhost:8080/"
        },
        "id": "Aumki802EVg5",
        "outputId": "73ad8b28-2156-4506-da9a-8cfe8acf1ef9"
      },
      "execution_count": 13,
      "outputs": [
        {
          "output_type": "stream",
          "name": "stdout",
          "text": [
            "/gdrive/MyDrive/Audio/B/01_217.wav 1\n",
            "/gdrive/MyDrive/Audio/B/01_218.wav 1\n",
            "/gdrive/MyDrive/Audio/B/01_219.wav 1\n",
            "/gdrive/MyDrive/Audio/B/01_220.wav 1\n",
            "/gdrive/MyDrive/Audio/B/01_221.wav 1\n",
            "/gdrive/MyDrive/Audio/B/01_222.wav 1\n",
            "/gdrive/MyDrive/Audio/B/01_223.wav 1\n",
            "/gdrive/MyDrive/Audio/B/01_224.wav 1\n",
            "/gdrive/MyDrive/Audio/B/01_225.wav 1\n",
            "/gdrive/MyDrive/Audio/B/01_226.wav 1\n",
            "/gdrive/MyDrive/Audio/B/01_227.wav 1\n",
            "/gdrive/MyDrive/Audio/B/01_228.wav 1\n",
            "/gdrive/MyDrive/Audio/B/01_229.wav 1\n",
            "/gdrive/MyDrive/Audio/B/01_230.wav 1\n",
            "/gdrive/MyDrive/Audio/B/01_231.wav 1\n",
            "/gdrive/MyDrive/Audio/B/01_232.wav 1\n",
            "/gdrive/MyDrive/Audio/B/01_233.wav 1\n",
            "/gdrive/MyDrive/Audio/B/01_234.wav 1\n",
            "/gdrive/MyDrive/Audio/B/01_235.wav 1\n",
            "/gdrive/MyDrive/Audio/B/01_236.wav 1\n",
            "/gdrive/MyDrive/Audio/B/01_237.wav 1\n",
            "/gdrive/MyDrive/Audio/B/01_238.wav 1\n",
            "/gdrive/MyDrive/Audio/B/01_239.wav 1\n",
            "/gdrive/MyDrive/Audio/B/01_240.wav 1\n",
            "/gdrive/MyDrive/Audio/B/01_241.wav 1\n",
            "/gdrive/MyDrive/Audio/B/01_242.wav 1\n",
            "/gdrive/MyDrive/Audio/B/01_243.wav 1\n",
            "/gdrive/MyDrive/Audio/B/01_244.wav 1\n",
            "/gdrive/MyDrive/Audio/B/01_245.wav 1\n",
            "/gdrive/MyDrive/Audio/B/01_246.wav 1\n",
            "/gdrive/MyDrive/Audio/B/01_247.wav 1\n",
            "/gdrive/MyDrive/Audio/B/01_248.wav 1\n",
            "/gdrive/MyDrive/Audio/B/01_249.wav 1\n",
            "/gdrive/MyDrive/Audio/B/01_250.wav 1\n",
            "/gdrive/MyDrive/Audio/B/01_251.wav 1\n",
            "/gdrive/MyDrive/Audio/B/01_252.wav 1\n",
            "/gdrive/MyDrive/Audio/B/01_253.wav 1\n",
            "/gdrive/MyDrive/Audio/B/01_254.wav 1\n",
            "/gdrive/MyDrive/Audio/B/01_255.wav 1\n",
            "/gdrive/MyDrive/Audio/B/01_256.wav 1\n",
            "/gdrive/MyDrive/Audio/B/01_257.wav 1\n",
            "/gdrive/MyDrive/Audio/B/01_258.wav 1\n",
            "/gdrive/MyDrive/Audio/B/01_259.wav 1\n",
            "/gdrive/MyDrive/Audio/B/01_260.wav 1\n",
            "/gdrive/MyDrive/Audio/B/01_261.wav 1\n",
            "/gdrive/MyDrive/Audio/B/01_262.wav 1\n",
            "/gdrive/MyDrive/Audio/B/01_263.wav 1\n",
            "/gdrive/MyDrive/Audio/B/01_264.wav 1\n",
            "/gdrive/MyDrive/Audio/B/01_265.wav 1\n",
            "/gdrive/MyDrive/Audio/B/01_266.wav 1\n",
            "/gdrive/MyDrive/Audio/B/01_267.wav 1\n",
            "/gdrive/MyDrive/Audio/B/01_268.wav 1\n",
            "/gdrive/MyDrive/Audio/B/01_269.wav 1\n",
            "/gdrive/MyDrive/Audio/B/01_270.wav 1\n",
            "/gdrive/MyDrive/Audio/B/01_271.wav 1\n",
            "/gdrive/MyDrive/Audio/B/01_272.wav 1\n",
            "/gdrive/MyDrive/Audio/B/01_273.wav 1\n",
            "/gdrive/MyDrive/Audio/B/01_274.wav 1\n",
            "/gdrive/MyDrive/Audio/B/01_275.wav 1\n",
            "/gdrive/MyDrive/Audio/B/01_276.wav 1\n",
            "/gdrive/MyDrive/Audio/B/01_277.wav 1\n",
            "/gdrive/MyDrive/Audio/B/01_278.wav 1\n",
            "/gdrive/MyDrive/Audio/B/01_279.wav 1\n",
            "/gdrive/MyDrive/Audio/B/01_280.wav 1\n",
            "/gdrive/MyDrive/Audio/B/01_281.wav 1\n",
            "/gdrive/MyDrive/Audio/B/01_282.wav 1\n",
            "/gdrive/MyDrive/Audio/B/01_283.wav 1\n",
            "/gdrive/MyDrive/Audio/B/01_284.wav 1\n",
            "/gdrive/MyDrive/Audio/B/01_285.wav 1\n",
            "/gdrive/MyDrive/Audio/B/01_286.wav 1\n",
            "/gdrive/MyDrive/Audio/B/01_287.wav 1\n",
            "/gdrive/MyDrive/Audio/B/01_288.wav 1\n",
            "/gdrive/MyDrive/Audio/B/01_289.wav 1\n",
            "/gdrive/MyDrive/Audio/B/01_290.wav 1\n",
            "/gdrive/MyDrive/Audio/B/01_291.wav 1\n",
            "/gdrive/MyDrive/Audio/B/01_292.wav 1\n",
            "/gdrive/MyDrive/Audio/B/01_293.wav 1\n",
            "/gdrive/MyDrive/Audio/B/01_294.wav 1\n",
            "/gdrive/MyDrive/Audio/B/01_295.wav 1\n",
            "/gdrive/MyDrive/Audio/B/01_296.wav 1\n",
            "/gdrive/MyDrive/Audio/B/01_297.wav 1\n",
            "/gdrive/MyDrive/Audio/B/01_298.wav 1\n",
            "/gdrive/MyDrive/Audio/B/01_299.wav 1\n",
            "/gdrive/MyDrive/Audio/B/01_300.wav 1\n",
            "/gdrive/MyDrive/Audio/B/01_301.wav 1\n",
            "/gdrive/MyDrive/Audio/B/01_302.wav 1\n",
            "/gdrive/MyDrive/Audio/B/01_303.wav 1\n",
            "/gdrive/MyDrive/Audio/B/01_304.wav 1\n",
            "/gdrive/MyDrive/Audio/B/01_305.wav 1\n",
            "/gdrive/MyDrive/Audio/B/01_306.wav 1\n",
            "/gdrive/MyDrive/Audio/B/01_307.wav 1\n",
            "/gdrive/MyDrive/Audio/B/01_308.wav 1\n",
            "/gdrive/MyDrive/Audio/B/01_309.wav 1\n",
            "/gdrive/MyDrive/Audio/B/01_310.wav 1\n",
            "/gdrive/MyDrive/Audio/B/01_311.wav 1\n",
            "/gdrive/MyDrive/Audio/B/01_312.wav 1\n",
            "/gdrive/MyDrive/Audio/B/01_313.wav 1\n",
            "/gdrive/MyDrive/Audio/B/01_314.wav 1\n",
            "/gdrive/MyDrive/Audio/B/01_315.wav 1\n",
            "/gdrive/MyDrive/Audio/B/01_316.wav 1\n",
            "/gdrive/MyDrive/Audio/B/01_317.wav 1\n",
            "/gdrive/MyDrive/Audio/B/01_318.wav 1\n",
            "/gdrive/MyDrive/Audio/B/01_319.wav 1\n",
            "/gdrive/MyDrive/Audio/B/01_320.wav 1\n",
            "/gdrive/MyDrive/Audio/B/01_321.wav 1\n",
            "/gdrive/MyDrive/Audio/B/01_322.wav 1\n",
            "/gdrive/MyDrive/Audio/B/01_323.wav 1\n",
            "/gdrive/MyDrive/Audio/B/01_324.wav 1\n",
            "/gdrive/MyDrive/Audio/B/01_325.wav 1\n",
            "/gdrive/MyDrive/Audio/B/01_326.wav 1\n",
            "/gdrive/MyDrive/Audio/B/01_327.wav 1\n",
            "/gdrive/MyDrive/Audio/B/01_328.wav 1\n",
            "/gdrive/MyDrive/Audio/B/01_329.wav 1\n",
            "/gdrive/MyDrive/Audio/B/01_330.wav 1\n",
            "/gdrive/MyDrive/Audio/B/01_331.wav 1\n",
            "/gdrive/MyDrive/Audio/B/01_332.wav 1\n",
            "/gdrive/MyDrive/Audio/B/01_333.wav 1\n",
            "/gdrive/MyDrive/Audio/B/01_334.wav 1\n",
            "/gdrive/MyDrive/Audio/B/01_335.wav 1\n",
            "/gdrive/MyDrive/Audio/B/01_336.wav 1\n",
            "/gdrive/MyDrive/Audio/B/01_337.wav 1\n",
            "/gdrive/MyDrive/Audio/B/01_338.wav 1\n",
            "/gdrive/MyDrive/Audio/B/01_339.wav 1\n",
            "/gdrive/MyDrive/Audio/B/01_340.wav 1\n",
            "/gdrive/MyDrive/Audio/B/01_341.wav 1\n",
            "/gdrive/MyDrive/Audio/B/01_342.wav 1\n",
            "/gdrive/MyDrive/Audio/B/01_343.wav 1\n",
            "/gdrive/MyDrive/Audio/B/01_344.wav 1\n",
            "/gdrive/MyDrive/Audio/B/01_345.wav 1\n",
            "/gdrive/MyDrive/Audio/B/01_346.wav 1\n",
            "/gdrive/MyDrive/Audio/B/01_347.wav 1\n",
            "/gdrive/MyDrive/Audio/B/01_348.wav 1\n",
            "/gdrive/MyDrive/Audio/B/01_349.wav 1\n",
            "/gdrive/MyDrive/Audio/B/01_350.wav 1\n",
            "/gdrive/MyDrive/Audio/B/01_351.wav 1\n",
            "/gdrive/MyDrive/Audio/B/01_352.wav 1\n",
            "/gdrive/MyDrive/Audio/B/01_353.wav 1\n",
            "/gdrive/MyDrive/Audio/B/01_354.wav 1\n",
            "/gdrive/MyDrive/Audio/B/01_355.wav 1\n",
            "/gdrive/MyDrive/Audio/B/01_356.wav 1\n",
            "/gdrive/MyDrive/Audio/B/01_357.wav 1\n",
            "/gdrive/MyDrive/Audio/B/01_358.wav 1\n",
            "/gdrive/MyDrive/Audio/B/01_359.wav 1\n",
            "/gdrive/MyDrive/Audio/B/01_360.wav 1\n",
            "/gdrive/MyDrive/Audio/B/01_361.wav 1\n",
            "/gdrive/MyDrive/Audio/B/01_362.wav 1\n",
            "/gdrive/MyDrive/Audio/B/01_363.wav 1\n",
            "/gdrive/MyDrive/Audio/B/01_364.wav 1\n",
            "/gdrive/MyDrive/Audio/B/01_365.wav 1\n",
            "/gdrive/MyDrive/Audio/B/01_366.wav 1\n",
            "/gdrive/MyDrive/Audio/B/01_367.wav 1\n",
            "/gdrive/MyDrive/Audio/B/01_368.wav 1\n",
            "/gdrive/MyDrive/Audio/B/01_369.wav 1\n",
            "/gdrive/MyDrive/Audio/B/01_370.wav 1\n",
            "/gdrive/MyDrive/Audio/B/01_371.wav 1\n",
            "/gdrive/MyDrive/Audio/B/01_372.wav 1\n",
            "/gdrive/MyDrive/Audio/B/01_373.wav 1\n",
            "/gdrive/MyDrive/Audio/B/01_374.wav 1\n",
            "/gdrive/MyDrive/Audio/B/01_375.wav 1\n",
            "/gdrive/MyDrive/Audio/B/01_376.wav 1\n",
            "/gdrive/MyDrive/Audio/B/01_377.wav 1\n",
            "/gdrive/MyDrive/Audio/B/01_378.wav 1\n",
            "/gdrive/MyDrive/Audio/B/01_379.wav 1\n",
            "/gdrive/MyDrive/Audio/B/01_380.wav 1\n",
            "/gdrive/MyDrive/Audio/B/01_381.wav 1\n",
            "/gdrive/MyDrive/Audio/B/01_382.wav 1\n",
            "/gdrive/MyDrive/Audio/B/01_383.wav 1\n",
            "/gdrive/MyDrive/Audio/B/01_384.wav 1\n",
            "/gdrive/MyDrive/Audio/B/01_385.wav 1\n",
            "/gdrive/MyDrive/Audio/B/01_386.wav 1\n",
            "/gdrive/MyDrive/Audio/B/01_387.wav 1\n",
            "/gdrive/MyDrive/Audio/B/01_388.wav 1\n",
            "/gdrive/MyDrive/Audio/B/01_389.wav 1\n",
            "/gdrive/MyDrive/Audio/B/01_390.wav 1\n",
            "/gdrive/MyDrive/Audio/B/01_391.wav 1\n",
            "/gdrive/MyDrive/Audio/B/01_392.wav 1\n",
            "/gdrive/MyDrive/Audio/B/01_393.wav 1\n",
            "/gdrive/MyDrive/Audio/B/01_394.wav 1\n",
            "/gdrive/MyDrive/Audio/B/01_395.wav 1\n",
            "/gdrive/MyDrive/Audio/B/01_396.wav 1\n",
            "/gdrive/MyDrive/Audio/B/01_397.wav 1\n",
            "/gdrive/MyDrive/Audio/B/02_001.wav 2\n",
            "/gdrive/MyDrive/Audio/B/02_002.wav 2\n",
            "/gdrive/MyDrive/Audio/B/02_003.wav 2\n",
            "/gdrive/MyDrive/Audio/B/02_004.wav 2\n",
            "/gdrive/MyDrive/Audio/B/02_005.wav 2\n",
            "/gdrive/MyDrive/Audio/B/02_006.wav 2\n",
            "/gdrive/MyDrive/Audio/B/02_007.wav 2\n",
            "/gdrive/MyDrive/Audio/B/02_008.wav 2\n",
            "/gdrive/MyDrive/Audio/B/02_009.wav 2\n",
            "/gdrive/MyDrive/Audio/B/02_010.wav 2\n",
            "/gdrive/MyDrive/Audio/B/02_011.wav 2\n",
            "/gdrive/MyDrive/Audio/B/02_012.wav 2\n",
            "/gdrive/MyDrive/Audio/B/02_013.wav 2\n",
            "/gdrive/MyDrive/Audio/B/02_014.wav 2\n",
            "/gdrive/MyDrive/Audio/B/02_015.wav 2\n",
            "/gdrive/MyDrive/Audio/B/02_016.wav 2\n",
            "/gdrive/MyDrive/Audio/B/02_017.wav 2\n",
            "/gdrive/MyDrive/Audio/B/02_018.wav 2\n",
            "/gdrive/MyDrive/Audio/B/02_019.wav 2\n",
            "/gdrive/MyDrive/Audio/B/02_020.wav 2\n",
            "/gdrive/MyDrive/Audio/B/02_021.wav 2\n",
            "/gdrive/MyDrive/Audio/B/02_022.wav 2\n",
            "/gdrive/MyDrive/Audio/B/02_023.wav 2\n",
            "/gdrive/MyDrive/Audio/B/02_024.wav 2\n",
            "/gdrive/MyDrive/Audio/B/02_025.wav 2\n",
            "/gdrive/MyDrive/Audio/B/02_026.wav 2\n",
            "/gdrive/MyDrive/Audio/B/02_027.wav 2\n",
            "/gdrive/MyDrive/Audio/B/02_028.wav 2\n",
            "/gdrive/MyDrive/Audio/B/02_029.wav 2\n",
            "/gdrive/MyDrive/Audio/B/02_030.wav 2\n",
            "/gdrive/MyDrive/Audio/B/02_031.wav 2\n",
            "/gdrive/MyDrive/Audio/B/02_032.wav 2\n",
            "/gdrive/MyDrive/Audio/B/02_033.wav 2\n",
            "/gdrive/MyDrive/Audio/B/02_034.wav 2\n",
            "/gdrive/MyDrive/Audio/B/02_035.wav 2\n",
            "/gdrive/MyDrive/Audio/B/02_036.wav 2\n",
            "/gdrive/MyDrive/Audio/B/02_037.wav 2\n",
            "/gdrive/MyDrive/Audio/B/02_039.wav 2\n",
            "/gdrive/MyDrive/Audio/B/02_038.wav 2\n",
            "/gdrive/MyDrive/Audio/B/02_040.wav 2\n",
            "/gdrive/MyDrive/Audio/B/02_041.wav 2\n",
            "/gdrive/MyDrive/Audio/B/02_042.wav 2\n",
            "/gdrive/MyDrive/Audio/B/02_043.wav 2\n",
            "/gdrive/MyDrive/Audio/B/02_044.wav 2\n",
            "/gdrive/MyDrive/Audio/B/02_045.wav 2\n",
            "/gdrive/MyDrive/Audio/B/02_046.wav 2\n",
            "/gdrive/MyDrive/Audio/B/02_047.wav 2\n",
            "/gdrive/MyDrive/Audio/B/02_049.wav 2\n",
            "/gdrive/MyDrive/Audio/B/02_048.wav 2\n",
            "/gdrive/MyDrive/Audio/B/02_050.wav 2\n",
            "/gdrive/MyDrive/Audio/B/02_051.wav 2\n",
            "/gdrive/MyDrive/Audio/B/02_052.wav 2\n",
            "/gdrive/MyDrive/Audio/B/02_053.wav 2\n",
            "/gdrive/MyDrive/Audio/B/02_054.wav 2\n",
            "/gdrive/MyDrive/Audio/B/02_055.wav 2\n",
            "/gdrive/MyDrive/Audio/B/02_056.wav 2\n",
            "/gdrive/MyDrive/Audio/B/02_057.wav 2\n",
            "/gdrive/MyDrive/Audio/B/02_058.wav 2\n",
            "/gdrive/MyDrive/Audio/B/02_059.wav 2\n",
            "/gdrive/MyDrive/Audio/B/02_060.wav 2\n",
            "/gdrive/MyDrive/Audio/B/02_061.wav 2\n",
            "/gdrive/MyDrive/Audio/B/02_062.wav 2\n",
            "/gdrive/MyDrive/Audio/B/02_063.wav 2\n",
            "/gdrive/MyDrive/Audio/B/02_064.wav 2\n",
            "/gdrive/MyDrive/Audio/B/02_065.wav 2\n",
            "/gdrive/MyDrive/Audio/B/02_066.wav 2\n",
            "/gdrive/MyDrive/Audio/B/02_067.wav 2\n",
            "/gdrive/MyDrive/Audio/B/02_068.wav 2\n",
            "/gdrive/MyDrive/Audio/B/02_069.wav 2\n",
            "/gdrive/MyDrive/Audio/B/02_070.wav 2\n",
            "/gdrive/MyDrive/Audio/B/02_071.wav 2\n",
            "/gdrive/MyDrive/Audio/B/02_072.wav 2\n",
            "/gdrive/MyDrive/Audio/B/02_073.wav 2\n",
            "/gdrive/MyDrive/Audio/B/02_074.wav 2\n",
            "/gdrive/MyDrive/Audio/B/02_075.wav 2\n",
            "/gdrive/MyDrive/Audio/B/02_076.wav 2\n",
            "/gdrive/MyDrive/Audio/B/02_077.wav 2\n",
            "/gdrive/MyDrive/Audio/B/02_078.wav 2\n",
            "/gdrive/MyDrive/Audio/B/02_079.wav 2\n",
            "/gdrive/MyDrive/Audio/B/02_081.wav 2\n",
            "/gdrive/MyDrive/Audio/B/02_080.wav 2\n",
            "/gdrive/MyDrive/Audio/B/02_082.wav 2\n",
            "/gdrive/MyDrive/Audio/B/02_083.wav 2\n",
            "/gdrive/MyDrive/Audio/B/02_084.wav 2\n",
            "/gdrive/MyDrive/Audio/B/02_085.wav 2\n",
            "/gdrive/MyDrive/Audio/B/02_086.wav 2\n",
            "/gdrive/MyDrive/Audio/B/02_087.wav 2\n",
            "/gdrive/MyDrive/Audio/B/02_088.wav 2\n",
            "/gdrive/MyDrive/Audio/B/02_089.wav 2\n",
            "/gdrive/MyDrive/Audio/B/02_090.wav 2\n",
            "/gdrive/MyDrive/Audio/B/02_091.wav 2\n",
            "/gdrive/MyDrive/Audio/B/02_092.wav 2\n",
            "/gdrive/MyDrive/Audio/B/02_093.wav 2\n",
            "/gdrive/MyDrive/Audio/B/02_094.wav 2\n",
            "/gdrive/MyDrive/Audio/B/02_095.wav 2\n",
            "/gdrive/MyDrive/Audio/B/02_096.wav 2\n",
            "/gdrive/MyDrive/Audio/B/02_097.wav 2\n",
            "/gdrive/MyDrive/Audio/B/02_099.wav 2\n",
            "/gdrive/MyDrive/Audio/B/02_098.wav 2\n",
            "/gdrive/MyDrive/Audio/B/02_100.wav 2\n",
            "/gdrive/MyDrive/Audio/B/02_101.wav 2\n",
            "/gdrive/MyDrive/Audio/B/02_102.wav 2\n",
            "/gdrive/MyDrive/Audio/B/02_103.wav 2\n",
            "/gdrive/MyDrive/Audio/B/02_104.wav 2\n",
            "/gdrive/MyDrive/Audio/B/02_105.wav 2\n",
            "/gdrive/MyDrive/Audio/B/02_106.wav 2\n",
            "/gdrive/MyDrive/Audio/B/02_107.wav 2\n",
            "/gdrive/MyDrive/Audio/B/02_108.wav 2\n",
            "/gdrive/MyDrive/Audio/B/02_109.wav 2\n",
            "/gdrive/MyDrive/Audio/B/02_110.wav 2\n",
            "/gdrive/MyDrive/Audio/B/02_111.wav 2\n",
            "/gdrive/MyDrive/Audio/B/02_113.wav 2\n",
            "/gdrive/MyDrive/Audio/B/02_112.wav 2\n",
            "/gdrive/MyDrive/Audio/B/02_114.wav 2\n",
            "/gdrive/MyDrive/Audio/B/02_115.wav 2\n",
            "/gdrive/MyDrive/Audio/B/02_116.wav 2\n",
            "/gdrive/MyDrive/Audio/B/02_117.wav 2\n",
            "/gdrive/MyDrive/Audio/B/02_118.wav 2\n",
            "/gdrive/MyDrive/Audio/B/02_119.wav 2\n",
            "/gdrive/MyDrive/Audio/B/02_120.wav 2\n",
            "/gdrive/MyDrive/Audio/B/02_122.wav 2\n",
            "/gdrive/MyDrive/Audio/B/02_121.wav 2\n",
            "/gdrive/MyDrive/Audio/B/02_123.wav 2\n",
            "/gdrive/MyDrive/Audio/B/02_124.wav 2\n",
            "/gdrive/MyDrive/Audio/B/02_125.wav 2\n",
            "/gdrive/MyDrive/Audio/B/02_126.wav 2\n",
            "/gdrive/MyDrive/Audio/B/02_127.wav 2\n",
            "/gdrive/MyDrive/Audio/B/02_128.wav 2\n",
            "/gdrive/MyDrive/Audio/B/02_129.wav 2\n",
            "/gdrive/MyDrive/Audio/B/02_130.wav 2\n",
            "/gdrive/MyDrive/Audio/B/02_131.wav 2\n",
            "/gdrive/MyDrive/Audio/B/02_132.wav 2\n",
            "/gdrive/MyDrive/Audio/B/02_133.wav 2\n",
            "/gdrive/MyDrive/Audio/B/02_134.wav 2\n",
            "/gdrive/MyDrive/Audio/B/02_135.wav 2\n",
            "/gdrive/MyDrive/Audio/B/02_136.wav 2\n",
            "/gdrive/MyDrive/Audio/B/02_137.wav 2\n",
            "/gdrive/MyDrive/Audio/B/02_138.wav 2\n",
            "/gdrive/MyDrive/Audio/B/02_139.wav 2\n",
            "/gdrive/MyDrive/Audio/B/02_140.wav 2\n",
            "/gdrive/MyDrive/Audio/B/02_141.wav 2\n",
            "/gdrive/MyDrive/Audio/B/02_142.wav 2\n",
            "/gdrive/MyDrive/Audio/B/02_143.wav 2\n",
            "/gdrive/MyDrive/Audio/B/02_144.wav 2\n",
            "/gdrive/MyDrive/Audio/B/02_145.wav 2\n",
            "/gdrive/MyDrive/Audio/B/02_146.wav 2\n",
            "/gdrive/MyDrive/Audio/B/02_147.wav 2\n",
            "/gdrive/MyDrive/Audio/B/02_148.wav 2\n",
            "/gdrive/MyDrive/Audio/B/02_149.wav 2\n",
            "/gdrive/MyDrive/Audio/B/02_150.wav 2\n",
            "/gdrive/MyDrive/Audio/B/02_151.wav 2\n",
            "/gdrive/MyDrive/Audio/B/02_152.wav 2\n",
            "/gdrive/MyDrive/Audio/B/02_153.wav 2\n",
            "/gdrive/MyDrive/Audio/B/02_154.wav 2\n",
            "/gdrive/MyDrive/Audio/B/02_155.wav 2\n",
            "/gdrive/MyDrive/Audio/B/02_156.wav 2\n",
            "/gdrive/MyDrive/Audio/B/02_157.wav 2\n",
            "/gdrive/MyDrive/Audio/B/02_158.wav 2\n",
            "/gdrive/MyDrive/Audio/B/02_159.wav 2\n",
            "/gdrive/MyDrive/Audio/B/02_160.wav 2\n",
            "/gdrive/MyDrive/Audio/B/02_161.wav 2\n",
            "/gdrive/MyDrive/Audio/B/02_162.wav 2\n",
            "/gdrive/MyDrive/Audio/B/02_163.wav 2\n",
            "/gdrive/MyDrive/Audio/B/02_164.wav 2\n",
            "/gdrive/MyDrive/Audio/B/02_165.wav 2\n",
            "/gdrive/MyDrive/Audio/B/02_166.wav 2\n",
            "/gdrive/MyDrive/Audio/B/02_167.wav 2\n",
            "/gdrive/MyDrive/Audio/B/02_168.wav 2\n",
            "/gdrive/MyDrive/Audio/B/02_169.wav 2\n",
            "/gdrive/MyDrive/Audio/B/02_171.wav 2\n",
            "/gdrive/MyDrive/Audio/B/02_170.wav 2\n",
            "/gdrive/MyDrive/Audio/B/02_172.wav 2\n",
            "/gdrive/MyDrive/Audio/B/02_173.wav 2\n",
            "/gdrive/MyDrive/Audio/B/02_174.wav 2\n",
            "/gdrive/MyDrive/Audio/B/02_175.wav 2\n",
            "/gdrive/MyDrive/Audio/B/02_176.wav 2\n",
            "/gdrive/MyDrive/Audio/B/02_177.wav 2\n",
            "/gdrive/MyDrive/Audio/B/02_178.wav 2\n",
            "/gdrive/MyDrive/Audio/B/02_179.wav 2\n",
            "/gdrive/MyDrive/Audio/B/02_181.wav 2\n",
            "/gdrive/MyDrive/Audio/B/02_180.wav 2\n",
            "/gdrive/MyDrive/Audio/B/02_182.wav 2\n",
            "/gdrive/MyDrive/Audio/B/02_183.wav 2\n",
            "/gdrive/MyDrive/Audio/B/02_184.wav 2\n",
            "/gdrive/MyDrive/Audio/B/02_185.wav 2\n",
            "/gdrive/MyDrive/Audio/B/02_186.wav 2\n",
            "/gdrive/MyDrive/Audio/B/02_188.wav 2\n",
            "/gdrive/MyDrive/Audio/B/02_187.wav 2\n",
            "/gdrive/MyDrive/Audio/B/02_189.wav 2\n",
            "/gdrive/MyDrive/Audio/B/02_190.wav 2\n",
            "/gdrive/MyDrive/Audio/B/02_191.wav 2\n",
            "/gdrive/MyDrive/Audio/B/02_192.wav 2\n",
            "/gdrive/MyDrive/Audio/B/02_193.wav 2\n",
            "/gdrive/MyDrive/Audio/B/02_194.wav 2\n",
            "/gdrive/MyDrive/Audio/B/02_195.wav 2\n",
            "/gdrive/MyDrive/Audio/B/02_196.wav 2\n",
            "/gdrive/MyDrive/Audio/B/02_197.wav 2\n",
            "/gdrive/MyDrive/Audio/B/02_199.wav 2\n",
            "/gdrive/MyDrive/Audio/B/02_198.wav 2\n",
            "/gdrive/MyDrive/Audio/B/02_200.wav 2\n",
            "/gdrive/MyDrive/Audio/B/02_201.wav 2\n",
            "/gdrive/MyDrive/Audio/B/02_203.wav 2\n",
            "/gdrive/MyDrive/Audio/B/02_202.wav 2\n",
            "/gdrive/MyDrive/Audio/B/02_204.wav 2\n",
            "/gdrive/MyDrive/Audio/B/02_205.wav 2\n",
            "/gdrive/MyDrive/Audio/B/02_206.wav 2\n",
            "/gdrive/MyDrive/Audio/B/02_207.wav 2\n",
            "/gdrive/MyDrive/Audio/B/02_208.wav 2\n",
            "/gdrive/MyDrive/Audio/B/02_209.wav 2\n",
            "/gdrive/MyDrive/Audio/B/02_210.wav 2\n",
            "/gdrive/MyDrive/Audio/B/02_211.wav 2\n",
            "/gdrive/MyDrive/Audio/B/02_212.wav 2\n",
            "/gdrive/MyDrive/Audio/B/02_213.wav 2\n",
            "/gdrive/MyDrive/Audio/B/02_214.wav 2\n",
            "/gdrive/MyDrive/Audio/B/02_215.wav 2\n",
            "/gdrive/MyDrive/Audio/B/02_216.wav 2\n",
            "/gdrive/MyDrive/Audio/B/02_217.wav 2\n",
            "/gdrive/MyDrive/Audio/B/02_218.wav 2\n",
            "/gdrive/MyDrive/Audio/B/02_219.wav 2\n",
            "/gdrive/MyDrive/Audio/B/02_220.wav 2\n",
            "/gdrive/MyDrive/Audio/B/02_221.wav 2\n",
            "/gdrive/MyDrive/Audio/B/02_222.wav 2\n",
            "/gdrive/MyDrive/Audio/B/02_223.wav 2\n",
            "/gdrive/MyDrive/Audio/B/02_224.wav 2\n",
            "/gdrive/MyDrive/Audio/B/02_225.wav 2\n",
            "/gdrive/MyDrive/Audio/B/02_226.wav 2\n",
            "/gdrive/MyDrive/Audio/B/02_227.wav 2\n",
            "/gdrive/MyDrive/Audio/B/02_228.wav 2\n",
            "/gdrive/MyDrive/Audio/B/02_230.wav 2\n",
            "/gdrive/MyDrive/Audio/B/02_229.wav 2\n",
            "/gdrive/MyDrive/Audio/B/02_231.wav 2\n",
            "/gdrive/MyDrive/Audio/B/02_232.wav 2\n",
            "/gdrive/MyDrive/Audio/B/02_233.wav 2\n",
            "/gdrive/MyDrive/Audio/B/02_234.wav 2\n",
            "/gdrive/MyDrive/Audio/B/02_235.wav 2\n",
            "/gdrive/MyDrive/Audio/B/02_236.wav 2\n",
            "/gdrive/MyDrive/Audio/B/02_237.wav 2\n",
            "/gdrive/MyDrive/Audio/B/02_239.wav 2\n",
            "/gdrive/MyDrive/Audio/B/02_238.wav 2\n",
            "/gdrive/MyDrive/Audio/B/02_240.wav 2\n",
            "/gdrive/MyDrive/Audio/B/02_241.wav 2\n",
            "/gdrive/MyDrive/Audio/B/02_242.wav 2\n",
            "/gdrive/MyDrive/Audio/B/02_243.wav 2\n",
            "/gdrive/MyDrive/Audio/B/02_244.wav 2\n",
            "/gdrive/MyDrive/Audio/B/02_245.wav 2\n",
            "/gdrive/MyDrive/Audio/B/02_246.wav 2\n",
            "/gdrive/MyDrive/Audio/B/02_247.wav 2\n",
            "/gdrive/MyDrive/Audio/B/02_248.wav 2\n",
            "/gdrive/MyDrive/Audio/B/02_249.wav 2\n",
            "/gdrive/MyDrive/Audio/B/02_250.wav 2\n",
            "/gdrive/MyDrive/Audio/B/02_251.wav 2\n",
            "/gdrive/MyDrive/Audio/B/02_252.wav 2\n",
            "/gdrive/MyDrive/Audio/B/02_253.wav 2\n",
            "/gdrive/MyDrive/Audio/B/02_254.wav 2\n",
            "/gdrive/MyDrive/Audio/B/02_255.wav 2\n",
            "/gdrive/MyDrive/Audio/B/02_256.wav 2\n",
            "/gdrive/MyDrive/Audio/B/02_258.wav 2\n",
            "/gdrive/MyDrive/Audio/B/02_257.wav 2\n",
            "/gdrive/MyDrive/Audio/B/02_259.wav 2\n",
            "/gdrive/MyDrive/Audio/B/02_260.wav 2\n",
            "/gdrive/MyDrive/Audio/B/02_261.wav 2\n",
            "/gdrive/MyDrive/Audio/B/02_262.wav 2\n",
            "/gdrive/MyDrive/Audio/B/02_264.wav 2\n",
            "/gdrive/MyDrive/Audio/B/02_263.wav 2\n",
            "/gdrive/MyDrive/Audio/B/02_265.wav 2\n",
            "/gdrive/MyDrive/Audio/B/02_266.wav 2\n",
            "/gdrive/MyDrive/Audio/B/02_267.wav 2\n",
            "/gdrive/MyDrive/Audio/B/02_268.wav 2\n",
            "/gdrive/MyDrive/Audio/B/02_269.wav 2\n",
            "/gdrive/MyDrive/Audio/B/02_270.wav 2\n",
            "/gdrive/MyDrive/Audio/B/02_271.wav 2\n",
            "/gdrive/MyDrive/Audio/B/02_272.wav 2\n",
            "/gdrive/MyDrive/Audio/B/02_273.wav 2\n",
            "/gdrive/MyDrive/Audio/B/02_274.wav 2\n",
            "/gdrive/MyDrive/Audio/B/02_275.wav 2\n",
            "/gdrive/MyDrive/Audio/B/02_276.wav 2\n",
            "/gdrive/MyDrive/Audio/B/02_277.wav 2\n",
            "/gdrive/MyDrive/Audio/B/02_278.wav 2\n",
            "/gdrive/MyDrive/Audio/B/02_279.wav 2\n",
            "/gdrive/MyDrive/Audio/B/02_280.wav 2\n",
            "/gdrive/MyDrive/Audio/B/02_281.wav 2\n",
            "/gdrive/MyDrive/Audio/B/02_283.wav 2\n",
            "/gdrive/MyDrive/Audio/B/02_282.wav 2\n",
            "/gdrive/MyDrive/Audio/B/02_284.wav 2\n",
            "/gdrive/MyDrive/Audio/B/02_285.wav 2\n",
            "/gdrive/MyDrive/Audio/B/02_286.wav 2\n",
            "/gdrive/MyDrive/Audio/B/02_287.wav 2\n",
            "/gdrive/MyDrive/Audio/B/02_288.wav 2\n",
            "/gdrive/MyDrive/Audio/B/02_290.wav 2\n",
            "/gdrive/MyDrive/Audio/B/02_289.wav 2\n",
            "/gdrive/MyDrive/Audio/B/02_291.wav 2\n",
            "/gdrive/MyDrive/Audio/B/02_292.wav 2\n",
            "/gdrive/MyDrive/Audio/B/02_293.wav 2\n",
            "/gdrive/MyDrive/Audio/B/02_294.wav 2\n",
            "/gdrive/MyDrive/Audio/B/02_295.wav 2\n",
            "/gdrive/MyDrive/Audio/B/02_296.wav 2\n",
            "/gdrive/MyDrive/Audio/B/02_297.wav 2\n",
            "/gdrive/MyDrive/Audio/B/02_298.wav 2\n",
            "/gdrive/MyDrive/Audio/B/02_299.wav 2\n",
            "/gdrive/MyDrive/Audio/B/02_300.wav 2\n",
            "/gdrive/MyDrive/Audio/B/02_301.wav 2\n",
            "/gdrive/MyDrive/Audio/B/02_302.wav 2\n",
            "/gdrive/MyDrive/Audio/B/02_304.wav 2\n",
            "/gdrive/MyDrive/Audio/B/02_303.wav 2\n",
            "/gdrive/MyDrive/Audio/B/02_305.wav 2\n",
            "/gdrive/MyDrive/Audio/B/02_306.wav 2\n",
            "/gdrive/MyDrive/Audio/B/02_308.wav 2\n",
            "/gdrive/MyDrive/Audio/B/02_307.wav 2\n",
            "/gdrive/MyDrive/Audio/B/02_309.wav 2\n",
            "/gdrive/MyDrive/Audio/B/02_310.wav 2\n",
            "/gdrive/MyDrive/Audio/B/02_311.wav 2\n",
            "/gdrive/MyDrive/Audio/B/02_312.wav 2\n",
            "/gdrive/MyDrive/Audio/B/02_313.wav 2\n",
            "/gdrive/MyDrive/Audio/B/02_315.wav 2\n",
            "/gdrive/MyDrive/Audio/B/02_314.wav 2\n",
            "/gdrive/MyDrive/Audio/B/02_316.wav 2\n",
            "/gdrive/MyDrive/Audio/B/02_317.wav 2\n",
            "/gdrive/MyDrive/Audio/B/02_319.wav 2\n",
            "/gdrive/MyDrive/Audio/B/02_318.wav 2\n",
            "/gdrive/MyDrive/Audio/B/02_320.wav 2\n",
            "/gdrive/MyDrive/Audio/B/02_321.wav 2\n",
            "/gdrive/MyDrive/Audio/B/02_322.wav 2\n",
            "/gdrive/MyDrive/Audio/B/02_323.wav 2\n",
            "/gdrive/MyDrive/Audio/B/02_324.wav 2\n",
            "/gdrive/MyDrive/Audio/B/02_325.wav 2\n",
            "/gdrive/MyDrive/Audio/B/02_326.wav 2\n",
            "/gdrive/MyDrive/Audio/B/02_327.wav 2\n",
            "/gdrive/MyDrive/Audio/B/02_329.wav 2\n",
            "/gdrive/MyDrive/Audio/B/02_328.wav 2\n",
            "/gdrive/MyDrive/Audio/B/02_330.wav 2\n",
            "/gdrive/MyDrive/Audio/B/02_331.wav 2\n",
            "/gdrive/MyDrive/Audio/B/02_333.wav 2\n",
            "/gdrive/MyDrive/Audio/B/02_332.wav 2\n",
            "/gdrive/MyDrive/Audio/B/02_334.wav 2\n",
            "/gdrive/MyDrive/Audio/B/02_335.wav 2\n",
            "/gdrive/MyDrive/Audio/B/02_336.wav 2\n",
            "/gdrive/MyDrive/Audio/B/02_338.wav 2\n",
            "/gdrive/MyDrive/Audio/B/02_337.wav 2\n",
            "/gdrive/MyDrive/Audio/B/02_339.wav 2\n",
            "/gdrive/MyDrive/Audio/B/02_340.wav 2\n",
            "/gdrive/MyDrive/Audio/B/02_341.wav 2\n",
            "/gdrive/MyDrive/Audio/B/02_342.wav 2\n",
            "/gdrive/MyDrive/Audio/B/02_343.wav 2\n",
            "/gdrive/MyDrive/Audio/B/02_344.wav 2\n",
            "/gdrive/MyDrive/Audio/B/02_346.wav 2\n",
            "/gdrive/MyDrive/Audio/B/02_345.wav 2\n",
            "/gdrive/MyDrive/Audio/B/02_347.wav 2\n",
            "/gdrive/MyDrive/Audio/B/02_348.wav 2\n",
            "/gdrive/MyDrive/Audio/B/02_350.wav 2\n",
            "/gdrive/MyDrive/Audio/B/02_349.wav 2\n",
            "/gdrive/MyDrive/Audio/B/02_351.wav 2\n",
            "/gdrive/MyDrive/Audio/B/02_352.wav 2\n",
            "/gdrive/MyDrive/Audio/B/02_353.wav 2\n",
            "/gdrive/MyDrive/Audio/B/02_354.wav 2\n",
            "/gdrive/MyDrive/Audio/B/02_355.wav 2\n",
            "/gdrive/MyDrive/Audio/B/02_356.wav 2\n",
            "/gdrive/MyDrive/Audio/B/02_357.wav 2\n",
            "/gdrive/MyDrive/Audio/B/02_358.wav 2\n",
            "/gdrive/MyDrive/Audio/B/02_359.wav 2\n",
            "/gdrive/MyDrive/Audio/B/02_360.wav 2\n",
            "/gdrive/MyDrive/Audio/B/02_361.wav 2\n",
            "/gdrive/MyDrive/Audio/B/02_363.wav 2\n",
            "/gdrive/MyDrive/Audio/B/02_362.wav 2\n",
            "/gdrive/MyDrive/Audio/B/02_364.wav 2\n",
            "/gdrive/MyDrive/Audio/B/02_365.wav 2\n",
            "/gdrive/MyDrive/Audio/B/02_366.wav 2\n",
            "/gdrive/MyDrive/Audio/B/02_367.wav 2\n",
            "/gdrive/MyDrive/Audio/B/02_368.wav 2\n",
            "/gdrive/MyDrive/Audio/B/02_369.wav 2\n",
            "/gdrive/MyDrive/Audio/B/02_370.wav 2\n",
            "/gdrive/MyDrive/Audio/B/02_371.wav 2\n",
            "/gdrive/MyDrive/Audio/B/02_372.wav 2\n",
            "/gdrive/MyDrive/Audio/B/02_373.wav 2\n",
            "/gdrive/MyDrive/Audio/B/02_374.wav 2\n",
            "/gdrive/MyDrive/Audio/B/02_375.wav 2\n",
            "/gdrive/MyDrive/Audio/B/02_376.wav 2\n",
            "/gdrive/MyDrive/Audio/B/02_377.wav 2\n",
            "/gdrive/MyDrive/Audio/B/02_378.wav 2\n",
            "/gdrive/MyDrive/Audio/B/02_379.wav 2\n",
            "/gdrive/MyDrive/Audio/B/02_380.wav 2\n",
            "/gdrive/MyDrive/Audio/B/02_381.wav 2\n",
            "/gdrive/MyDrive/Audio/B/02_382.wav 2\n",
            "/gdrive/MyDrive/Audio/B/02_384.wav 2\n",
            "/gdrive/MyDrive/Audio/B/02_383.wav 2\n",
            "/gdrive/MyDrive/Audio/B/02_385.wav 2\n",
            "/gdrive/MyDrive/Audio/B/02_386.wav 2\n",
            "/gdrive/MyDrive/Audio/B/02_387.wav 2\n",
            "/gdrive/MyDrive/Audio/B/02_388.wav 2\n",
            "/gdrive/MyDrive/Audio/B/02_389.wav 2\n",
            "/gdrive/MyDrive/Audio/B/02_390.wav 2\n",
            "/gdrive/MyDrive/Audio/B/02_392.wav 2\n",
            "/gdrive/MyDrive/Audio/B/02_391.wav 2\n",
            "/gdrive/MyDrive/Audio/B/02_393.wav 2\n",
            "/gdrive/MyDrive/Audio/B/02_394.wav 2\n",
            "/gdrive/MyDrive/Audio/B/02_395.wav 2\n",
            "/gdrive/MyDrive/Audio/B/02_396.wav 2\n",
            "/gdrive/MyDrive/Audio/B/02_397.wav 2\n",
            "/gdrive/MyDrive/Audio/B/02_398.wav 2\n",
            "/gdrive/MyDrive/Audio/B/02_399.wav 2\n",
            "/gdrive/MyDrive/Audio/B/02_401.wav 2\n",
            "/gdrive/MyDrive/Audio/B/02_400.wav 2\n",
            "/gdrive/MyDrive/Audio/B/02_402.wav 2\n",
            "/gdrive/MyDrive/Audio/B/02_403.wav 2\n",
            "/gdrive/MyDrive/Audio/B/02_404.wav 2\n",
            "/gdrive/MyDrive/Audio/B/02_406.wav 2\n",
            "/gdrive/MyDrive/Audio/B/02_405.wav 2\n",
            "/gdrive/MyDrive/Audio/B/02_407.wav 2\n",
            "/gdrive/MyDrive/Audio/B/02_408.wav 2\n",
            "/gdrive/MyDrive/Audio/B/02_409.wav 2\n",
            "/gdrive/MyDrive/Audio/B/00_001.wav 0\n",
            "/gdrive/MyDrive/Audio/B/00_002.wav 0\n",
            "/gdrive/MyDrive/Audio/B/00_003.wav 0\n",
            "/gdrive/MyDrive/Audio/B/00_004.wav 0\n",
            "/gdrive/MyDrive/Audio/B/00_005.wav 0\n",
            "/gdrive/MyDrive/Audio/B/00_006.wav 0\n",
            "/gdrive/MyDrive/Audio/B/00_007.wav 0\n",
            "/gdrive/MyDrive/Audio/B/00_008.wav 0\n",
            "/gdrive/MyDrive/Audio/B/00_009.wav 0\n",
            "/gdrive/MyDrive/Audio/B/00_010.wav 0\n",
            "/gdrive/MyDrive/Audio/B/00_011.wav 0\n",
            "/gdrive/MyDrive/Audio/B/00_012.wav 0\n",
            "/gdrive/MyDrive/Audio/B/00_013.wav 0\n",
            "/gdrive/MyDrive/Audio/B/00_014.wav 0\n",
            "/gdrive/MyDrive/Audio/B/00_015.wav 0\n",
            "/gdrive/MyDrive/Audio/B/00_016.wav 0\n",
            "/gdrive/MyDrive/Audio/B/00_017.wav 0\n",
            "/gdrive/MyDrive/Audio/B/00_018.wav 0\n",
            "/gdrive/MyDrive/Audio/B/00_019.wav 0\n",
            "/gdrive/MyDrive/Audio/B/00_020.wav 0\n",
            "/gdrive/MyDrive/Audio/B/00_021.wav 0\n",
            "/gdrive/MyDrive/Audio/B/00_022.wav 0\n",
            "/gdrive/MyDrive/Audio/B/00_023.wav 0\n",
            "/gdrive/MyDrive/Audio/B/00_024.wav 0\n",
            "/gdrive/MyDrive/Audio/B/00_025.wav 0\n",
            "/gdrive/MyDrive/Audio/B/00_026.wav 0\n",
            "/gdrive/MyDrive/Audio/B/00_027.wav 0\n",
            "/gdrive/MyDrive/Audio/B/00_028.wav 0\n",
            "/gdrive/MyDrive/Audio/B/00_029.wav 0\n",
            "/gdrive/MyDrive/Audio/B/00_030.wav 0\n",
            "/gdrive/MyDrive/Audio/B/00_031.wav 0\n",
            "/gdrive/MyDrive/Audio/B/00_032.wav 0\n",
            "/gdrive/MyDrive/Audio/B/00_033.wav 0\n",
            "/gdrive/MyDrive/Audio/B/00_034.wav 0\n",
            "/gdrive/MyDrive/Audio/B/00_035.wav 0\n",
            "/gdrive/MyDrive/Audio/B/00_036.wav 0\n",
            "/gdrive/MyDrive/Audio/B/00_037.wav 0\n",
            "/gdrive/MyDrive/Audio/B/00_038.wav 0\n",
            "/gdrive/MyDrive/Audio/B/00_039.wav 0\n",
            "/gdrive/MyDrive/Audio/B/00_040.wav 0\n",
            "/gdrive/MyDrive/Audio/B/00_041.wav 0\n",
            "/gdrive/MyDrive/Audio/B/00_042.wav 0\n",
            "/gdrive/MyDrive/Audio/B/00_043.wav 0\n",
            "/gdrive/MyDrive/Audio/B/00_044.wav 0\n",
            "/gdrive/MyDrive/Audio/B/00_045.wav 0\n",
            "/gdrive/MyDrive/Audio/B/00_046.wav 0\n",
            "/gdrive/MyDrive/Audio/B/00_047.wav 0\n",
            "/gdrive/MyDrive/Audio/B/00_048.wav 0\n",
            "/gdrive/MyDrive/Audio/B/00_049.wav 0\n",
            "/gdrive/MyDrive/Audio/B/00_050.wav 0\n",
            "/gdrive/MyDrive/Audio/B/00_051.wav 0\n",
            "/gdrive/MyDrive/Audio/B/00_052.wav 0\n",
            "/gdrive/MyDrive/Audio/B/00_053.wav 0\n",
            "/gdrive/MyDrive/Audio/B/00_054.wav 0\n",
            "/gdrive/MyDrive/Audio/B/00_055.wav 0\n",
            "/gdrive/MyDrive/Audio/B/00_056.wav 0\n",
            "/gdrive/MyDrive/Audio/B/00_057.wav 0\n",
            "/gdrive/MyDrive/Audio/B/00_058.wav 0\n",
            "/gdrive/MyDrive/Audio/B/00_059.wav 0\n",
            "/gdrive/MyDrive/Audio/B/00_060.wav 0\n",
            "/gdrive/MyDrive/Audio/B/00_061.wav 0\n",
            "/gdrive/MyDrive/Audio/B/00_062.wav 0\n",
            "/gdrive/MyDrive/Audio/B/00_063.wav 0\n",
            "/gdrive/MyDrive/Audio/B/00_064.wav 0\n",
            "/gdrive/MyDrive/Audio/B/00_065.wav 0\n",
            "/gdrive/MyDrive/Audio/B/00_066.wav 0\n",
            "/gdrive/MyDrive/Audio/B/00_067.wav 0\n",
            "/gdrive/MyDrive/Audio/B/00_068.wav 0\n",
            "/gdrive/MyDrive/Audio/B/00_069.wav 0\n",
            "/gdrive/MyDrive/Audio/B/00_070.wav 0\n",
            "/gdrive/MyDrive/Audio/B/00_071.wav 0\n",
            "/gdrive/MyDrive/Audio/B/00_072.wav 0\n",
            "/gdrive/MyDrive/Audio/B/00_073.wav 0\n",
            "/gdrive/MyDrive/Audio/B/00_074.wav 0\n",
            "/gdrive/MyDrive/Audio/B/00_075.wav 0\n",
            "/gdrive/MyDrive/Audio/B/00_076.wav 0\n",
            "/gdrive/MyDrive/Audio/B/00_077.wav 0\n",
            "/gdrive/MyDrive/Audio/B/00_078.wav 0\n",
            "/gdrive/MyDrive/Audio/B/00_079.wav 0\n",
            "/gdrive/MyDrive/Audio/B/00_080.wav 0\n",
            "/gdrive/MyDrive/Audio/B/00_081.wav 0\n",
            "/gdrive/MyDrive/Audio/B/00_082.wav 0\n",
            "/gdrive/MyDrive/Audio/B/00_083.wav 0\n",
            "/gdrive/MyDrive/Audio/B/00_084.wav 0\n",
            "/gdrive/MyDrive/Audio/B/00_085.wav 0\n",
            "/gdrive/MyDrive/Audio/B/00_086.wav 0\n",
            "/gdrive/MyDrive/Audio/B/00_087.wav 0\n",
            "/gdrive/MyDrive/Audio/B/00_088.wav 0\n",
            "/gdrive/MyDrive/Audio/B/00_089.wav 0\n",
            "/gdrive/MyDrive/Audio/B/00_090.wav 0\n",
            "/gdrive/MyDrive/Audio/B/00_091.wav 0\n",
            "/gdrive/MyDrive/Audio/B/00_092.wav 0\n",
            "/gdrive/MyDrive/Audio/B/00_094.wav 0\n",
            "/gdrive/MyDrive/Audio/B/00_093.wav 0\n",
            "/gdrive/MyDrive/Audio/B/00_095.wav 0\n",
            "/gdrive/MyDrive/Audio/B/00_096.wav 0\n",
            "/gdrive/MyDrive/Audio/B/00_097.wav 0\n",
            "/gdrive/MyDrive/Audio/B/00_098.wav 0\n",
            "/gdrive/MyDrive/Audio/B/00_099.wav 0\n",
            "/gdrive/MyDrive/Audio/B/00_100.wav 0\n",
            "/gdrive/MyDrive/Audio/B/00_101.wav 0\n",
            "/gdrive/MyDrive/Audio/B/00_102.wav 0\n",
            "/gdrive/MyDrive/Audio/B/00_103.wav 0\n",
            "/gdrive/MyDrive/Audio/B/00_104.wav 0\n",
            "/gdrive/MyDrive/Audio/B/00_105.wav 0\n",
            "/gdrive/MyDrive/Audio/B/00_106.wav 0\n",
            "/gdrive/MyDrive/Audio/B/00_107.wav 0\n",
            "/gdrive/MyDrive/Audio/B/00_108.wav 0\n",
            "/gdrive/MyDrive/Audio/B/00_110.wav 0\n",
            "/gdrive/MyDrive/Audio/B/00_109.wav 0\n",
            "/gdrive/MyDrive/Audio/B/00_111.wav 0\n",
            "/gdrive/MyDrive/Audio/B/00_112.wav 0\n",
            "/gdrive/MyDrive/Audio/B/00_113.wav 0\n",
            "/gdrive/MyDrive/Audio/B/00_114.wav 0\n",
            "/gdrive/MyDrive/Audio/B/00_115.wav 0\n",
            "/gdrive/MyDrive/Audio/B/00_116.wav 0\n",
            "/gdrive/MyDrive/Audio/B/00_117.wav 0\n",
            "/gdrive/MyDrive/Audio/B/00_118.wav 0\n",
            "/gdrive/MyDrive/Audio/B/00_119.wav 0\n",
            "/gdrive/MyDrive/Audio/B/00_120.wav 0\n",
            "/gdrive/MyDrive/Audio/B/00_121.wav 0\n",
            "/gdrive/MyDrive/Audio/B/00_122.wav 0\n",
            "/gdrive/MyDrive/Audio/B/00_123.wav 0\n",
            "/gdrive/MyDrive/Audio/B/00_124.wav 0\n",
            "/gdrive/MyDrive/Audio/B/00_125.wav 0\n",
            "/gdrive/MyDrive/Audio/B/00_126.wav 0\n",
            "/gdrive/MyDrive/Audio/B/00_127.wav 0\n",
            "/gdrive/MyDrive/Audio/B/00_128.wav 0\n",
            "/gdrive/MyDrive/Audio/B/00_129.wav 0\n",
            "/gdrive/MyDrive/Audio/B/00_130.wav 0\n",
            "/gdrive/MyDrive/Audio/B/00_131.wav 0\n",
            "/gdrive/MyDrive/Audio/B/00_132.wav 0\n",
            "/gdrive/MyDrive/Audio/B/00_133.wav 0\n",
            "/gdrive/MyDrive/Audio/B/00_134.wav 0\n",
            "/gdrive/MyDrive/Audio/B/00_135.wav 0\n",
            "/gdrive/MyDrive/Audio/B/00_136.wav 0\n",
            "/gdrive/MyDrive/Audio/B/00_137.wav 0\n",
            "/gdrive/MyDrive/Audio/B/00_138.wav 0\n",
            "/gdrive/MyDrive/Audio/B/00_139.wav 0\n",
            "/gdrive/MyDrive/Audio/B/00_140.wav 0\n",
            "/gdrive/MyDrive/Audio/B/00_141.wav 0\n",
            "/gdrive/MyDrive/Audio/B/00_142.wav 0\n",
            "/gdrive/MyDrive/Audio/B/00_143.wav 0\n",
            "/gdrive/MyDrive/Audio/B/00_144.wav 0\n",
            "/gdrive/MyDrive/Audio/B/00_145.wav 0\n",
            "/gdrive/MyDrive/Audio/B/00_146.wav 0\n",
            "/gdrive/MyDrive/Audio/B/00_147.wav 0\n",
            "/gdrive/MyDrive/Audio/B/00_148.wav 0\n",
            "/gdrive/MyDrive/Audio/B/00_149.wav 0\n",
            "/gdrive/MyDrive/Audio/B/00_150.wav 0\n",
            "/gdrive/MyDrive/Audio/B/00_151.wav 0\n",
            "/gdrive/MyDrive/Audio/B/00_152.wav 0\n",
            "/gdrive/MyDrive/Audio/B/00_153.wav 0\n",
            "/gdrive/MyDrive/Audio/B/00_154.wav 0\n",
            "/gdrive/MyDrive/Audio/B/00_155.wav 0\n",
            "/gdrive/MyDrive/Audio/B/00_156.wav 0\n",
            "/gdrive/MyDrive/Audio/B/00_157.wav 0\n",
            "/gdrive/MyDrive/Audio/B/00_158.wav 0\n",
            "/gdrive/MyDrive/Audio/B/00_159.wav 0\n",
            "/gdrive/MyDrive/Audio/B/00_160.wav 0\n",
            "/gdrive/MyDrive/Audio/B/00_161.wav 0\n",
            "/gdrive/MyDrive/Audio/B/00_162.wav 0\n",
            "/gdrive/MyDrive/Audio/B/00_163.wav 0\n",
            "/gdrive/MyDrive/Audio/B/00_164.wav 0\n",
            "/gdrive/MyDrive/Audio/B/00_165.wav 0\n",
            "/gdrive/MyDrive/Audio/B/00_166.wav 0\n",
            "/gdrive/MyDrive/Audio/B/00_167.wav 0\n",
            "/gdrive/MyDrive/Audio/B/00_168.wav 0\n",
            "/gdrive/MyDrive/Audio/B/00_169.wav 0\n",
            "/gdrive/MyDrive/Audio/B/00_170.wav 0\n",
            "/gdrive/MyDrive/Audio/B/00_171.wav 0\n",
            "/gdrive/MyDrive/Audio/B/00_172.wav 0\n",
            "/gdrive/MyDrive/Audio/B/00_173.wav 0\n",
            "/gdrive/MyDrive/Audio/B/00_174.wav 0\n",
            "/gdrive/MyDrive/Audio/B/00_175.wav 0\n",
            "/gdrive/MyDrive/Audio/B/00_176.wav 0\n",
            "/gdrive/MyDrive/Audio/B/00_177.wav 0\n",
            "/gdrive/MyDrive/Audio/B/00_178.wav 0\n",
            "/gdrive/MyDrive/Audio/B/00_179.wav 0\n",
            "/gdrive/MyDrive/Audio/B/00_180.wav 0\n",
            "/gdrive/MyDrive/Audio/B/00_181.wav 0\n",
            "/gdrive/MyDrive/Audio/B/00_182.wav 0\n",
            "/gdrive/MyDrive/Audio/B/00_183.wav 0\n",
            "/gdrive/MyDrive/Audio/B/00_184.wav 0\n",
            "/gdrive/MyDrive/Audio/B/00_185.wav 0\n",
            "/gdrive/MyDrive/Audio/B/00_186.wav 0\n",
            "/gdrive/MyDrive/Audio/B/00_187.wav 0\n",
            "/gdrive/MyDrive/Audio/B/00_188.wav 0\n",
            "/gdrive/MyDrive/Audio/B/00_189.wav 0\n",
            "/gdrive/MyDrive/Audio/B/00_190.wav 0\n",
            "/gdrive/MyDrive/Audio/B/00_191.wav 0\n",
            "/gdrive/MyDrive/Audio/B/00_192.wav 0\n",
            "/gdrive/MyDrive/Audio/B/00_193.wav 0\n",
            "/gdrive/MyDrive/Audio/B/00_194.wav 0\n",
            "/gdrive/MyDrive/Audio/B/00_195.wav 0\n",
            "/gdrive/MyDrive/Audio/B/00_196.wav 0\n",
            "/gdrive/MyDrive/Audio/B/00_197.wav 0\n",
            "/gdrive/MyDrive/Audio/B/00_198.wav 0\n",
            "/gdrive/MyDrive/Audio/B/00_199.wav 0\n",
            "/gdrive/MyDrive/Audio/B/00_200.wav 0\n",
            "/gdrive/MyDrive/Audio/B/00_201.wav 0\n",
            "/gdrive/MyDrive/Audio/B/00_202.wav 0\n",
            "/gdrive/MyDrive/Audio/B/00_203.wav 0\n",
            "/gdrive/MyDrive/Audio/B/00_204.wav 0\n",
            "/gdrive/MyDrive/Audio/B/00_205.wav 0\n",
            "/gdrive/MyDrive/Audio/B/00_206.wav 0\n",
            "/gdrive/MyDrive/Audio/B/00_207.wav 0\n",
            "/gdrive/MyDrive/Audio/B/00_208.wav 0\n",
            "/gdrive/MyDrive/Audio/B/00_209.wav 0\n",
            "/gdrive/MyDrive/Audio/B/00_210.wav 0\n",
            "/gdrive/MyDrive/Audio/B/00_211.wav 0\n",
            "/gdrive/MyDrive/Audio/B/00_212.wav 0\n",
            "/gdrive/MyDrive/Audio/B/00_213.wav 0\n",
            "/gdrive/MyDrive/Audio/B/00_214.wav 0\n",
            "/gdrive/MyDrive/Audio/B/00_215.wav 0\n",
            "/gdrive/MyDrive/Audio/B/00_216.wav 0\n",
            "/gdrive/MyDrive/Audio/B/00_217.wav 0\n",
            "/gdrive/MyDrive/Audio/B/00_218.wav 0\n",
            "/gdrive/MyDrive/Audio/B/00_219.wav 0\n",
            "/gdrive/MyDrive/Audio/B/00_220.wav 0\n",
            "/gdrive/MyDrive/Audio/B/00_221.wav 0\n",
            "/gdrive/MyDrive/Audio/B/00_222.wav 0\n",
            "/gdrive/MyDrive/Audio/B/00_223.wav 0\n",
            "/gdrive/MyDrive/Audio/B/00_224.wav 0\n",
            "/gdrive/MyDrive/Audio/B/00_225.wav 0\n",
            "/gdrive/MyDrive/Audio/B/00_226.wav 0\n",
            "/gdrive/MyDrive/Audio/B/00_227.wav 0\n",
            "/gdrive/MyDrive/Audio/B/00_228.wav 0\n",
            "/gdrive/MyDrive/Audio/B/00_229.wav 0\n",
            "/gdrive/MyDrive/Audio/B/00_230.wav 0\n",
            "/gdrive/MyDrive/Audio/B/00_231.wav 0\n",
            "/gdrive/MyDrive/Audio/B/00_232.wav 0\n",
            "/gdrive/MyDrive/Audio/B/00_233.wav 0\n",
            "/gdrive/MyDrive/Audio/B/00_234.wav 0\n",
            "/gdrive/MyDrive/Audio/B/00_235.wav 0\n",
            "/gdrive/MyDrive/Audio/B/00_236.wav 0\n",
            "/gdrive/MyDrive/Audio/B/00_237.wav 0\n",
            "/gdrive/MyDrive/Audio/B/00_238.wav 0\n",
            "/gdrive/MyDrive/Audio/B/00_239.wav 0\n",
            "/gdrive/MyDrive/Audio/B/00_240.wav 0\n",
            "/gdrive/MyDrive/Audio/B/00_241.wav 0\n",
            "/gdrive/MyDrive/Audio/B/00_242.wav 0\n",
            "/gdrive/MyDrive/Audio/B/00_243.wav 0\n",
            "/gdrive/MyDrive/Audio/B/00_244.wav 0\n",
            "/gdrive/MyDrive/Audio/B/00_245.wav 0\n",
            "/gdrive/MyDrive/Audio/B/00_246.wav 0\n",
            "/gdrive/MyDrive/Audio/B/00_247.wav 0\n",
            "/gdrive/MyDrive/Audio/B/00_248.wav 0\n",
            "/gdrive/MyDrive/Audio/B/00_249.wav 0\n",
            "/gdrive/MyDrive/Audio/B/00_250.wav 0\n",
            "/gdrive/MyDrive/Audio/B/00_251.wav 0\n",
            "/gdrive/MyDrive/Audio/B/00_252.wav 0\n",
            "/gdrive/MyDrive/Audio/B/00_253.wav 0\n",
            "/gdrive/MyDrive/Audio/B/00_254.wav 0\n",
            "/gdrive/MyDrive/Audio/B/00_255.wav 0\n",
            "/gdrive/MyDrive/Audio/B/00_256.wav 0\n",
            "/gdrive/MyDrive/Audio/B/00_257.wav 0\n",
            "/gdrive/MyDrive/Audio/B/00_258.wav 0\n",
            "/gdrive/MyDrive/Audio/B/00_259.wav 0\n",
            "/gdrive/MyDrive/Audio/B/00_260.wav 0\n",
            "/gdrive/MyDrive/Audio/B/00_261.wav 0\n",
            "/gdrive/MyDrive/Audio/B/00_262.wav 0\n",
            "/gdrive/MyDrive/Audio/B/00_263.wav 0\n",
            "/gdrive/MyDrive/Audio/B/00_264.wav 0\n",
            "/gdrive/MyDrive/Audio/B/00_265.wav 0\n",
            "/gdrive/MyDrive/Audio/B/00_266.wav 0\n",
            "/gdrive/MyDrive/Audio/B/00_267.wav 0\n",
            "/gdrive/MyDrive/Audio/B/00_268.wav 0\n",
            "/gdrive/MyDrive/Audio/B/00_269.wav 0\n",
            "/gdrive/MyDrive/Audio/B/00_270.wav 0\n",
            "/gdrive/MyDrive/Audio/B/00_271.wav 0\n",
            "/gdrive/MyDrive/Audio/B/00_272.wav 0\n",
            "/gdrive/MyDrive/Audio/B/00_273.wav 0\n",
            "/gdrive/MyDrive/Audio/B/00_274.wav 0\n",
            "/gdrive/MyDrive/Audio/B/00_275.wav 0\n",
            "/gdrive/MyDrive/Audio/B/00_276.wav 0\n",
            "/gdrive/MyDrive/Audio/B/00_277.wav 0\n",
            "/gdrive/MyDrive/Audio/B/00_278.wav 0\n",
            "/gdrive/MyDrive/Audio/B/00_279.wav 0\n",
            "/gdrive/MyDrive/Audio/B/00_280.wav 0\n",
            "/gdrive/MyDrive/Audio/B/00_281.wav 0\n",
            "/gdrive/MyDrive/Audio/B/00_282.wav 0\n",
            "/gdrive/MyDrive/Audio/B/00_283.wav 0\n",
            "/gdrive/MyDrive/Audio/B/00_284.wav 0\n",
            "/gdrive/MyDrive/Audio/B/00_285.wav 0\n",
            "/gdrive/MyDrive/Audio/B/00_286.wav 0\n",
            "/gdrive/MyDrive/Audio/B/00_287.wav 0\n",
            "/gdrive/MyDrive/Audio/B/00_288.wav 0\n",
            "/gdrive/MyDrive/Audio/B/00_289.wav 0\n",
            "/gdrive/MyDrive/Audio/B/00_290.wav 0\n",
            "/gdrive/MyDrive/Audio/B/00_291.wav 0\n",
            "/gdrive/MyDrive/Audio/B/00_292.wav 0\n",
            "/gdrive/MyDrive/Audio/B/00_293.wav 0\n",
            "/gdrive/MyDrive/Audio/B/00_294.wav 0\n",
            "/gdrive/MyDrive/Audio/B/00_295.wav 0\n",
            "/gdrive/MyDrive/Audio/B/00_296.wav 0\n",
            "/gdrive/MyDrive/Audio/B/00_297.wav 0\n",
            "/gdrive/MyDrive/Audio/B/00_298.wav 0\n",
            "/gdrive/MyDrive/Audio/B/00_299.wav 0\n",
            "/gdrive/MyDrive/Audio/B/00_300.wav 0\n",
            "/gdrive/MyDrive/Audio/B/00_301.wav 0\n",
            "/gdrive/MyDrive/Audio/B/00_302.wav 0\n",
            "/gdrive/MyDrive/Audio/B/00_303.wav 0\n",
            "/gdrive/MyDrive/Audio/B/00_304.wav 0\n",
            "/gdrive/MyDrive/Audio/B/00_305.wav 0\n",
            "/gdrive/MyDrive/Audio/B/00_306.wav 0\n",
            "/gdrive/MyDrive/Audio/B/00_307.wav 0\n",
            "/gdrive/MyDrive/Audio/B/00_308.wav 0\n",
            "/gdrive/MyDrive/Audio/B/00_309.wav 0\n",
            "/gdrive/MyDrive/Audio/B/00_310.wav 0\n",
            "/gdrive/MyDrive/Audio/B/00_311.wav 0\n",
            "/gdrive/MyDrive/Audio/B/00_312.wav 0\n",
            "/gdrive/MyDrive/Audio/B/00_313.wav 0\n",
            "/gdrive/MyDrive/Audio/B/00_314.wav 0\n",
            "/gdrive/MyDrive/Audio/B/00_315.wav 0\n",
            "/gdrive/MyDrive/Audio/B/00_316.wav 0\n",
            "/gdrive/MyDrive/Audio/B/00_317.wav 0\n",
            "/gdrive/MyDrive/Audio/B/00_318.wav 0\n",
            "/gdrive/MyDrive/Audio/B/00_319.wav 0\n",
            "/gdrive/MyDrive/Audio/B/00_320.wav 0\n",
            "/gdrive/MyDrive/Audio/B/00_321.wav 0\n",
            "/gdrive/MyDrive/Audio/B/00_322.wav 0\n",
            "/gdrive/MyDrive/Audio/B/00_323.wav 0\n",
            "/gdrive/MyDrive/Audio/B/00_324.wav 0\n",
            "/gdrive/MyDrive/Audio/B/00_325.wav 0\n",
            "/gdrive/MyDrive/Audio/B/00_326.wav 0\n",
            "/gdrive/MyDrive/Audio/B/00_327.wav 0\n",
            "/gdrive/MyDrive/Audio/B/00_328.wav 0\n",
            "/gdrive/MyDrive/Audio/B/00_329.wav 0\n",
            "/gdrive/MyDrive/Audio/B/00_330.wav 0\n",
            "/gdrive/MyDrive/Audio/B/00_331.wav 0\n",
            "/gdrive/MyDrive/Audio/B/00_332.wav 0\n",
            "/gdrive/MyDrive/Audio/B/00_333.wav 0\n",
            "/gdrive/MyDrive/Audio/B/00_334.wav 0\n",
            "/gdrive/MyDrive/Audio/B/00_335.wav 0\n",
            "/gdrive/MyDrive/Audio/B/00_336.wav 0\n",
            "/gdrive/MyDrive/Audio/B/00_337.wav 0\n",
            "/gdrive/MyDrive/Audio/B/00_338.wav 0\n",
            "/gdrive/MyDrive/Audio/B/00_339.wav 0\n",
            "/gdrive/MyDrive/Audio/B/00_340.wav 0\n",
            "/gdrive/MyDrive/Audio/B/00_341.wav 0\n",
            "/gdrive/MyDrive/Audio/B/00_342.wav 0\n",
            "/gdrive/MyDrive/Audio/B/00_343.wav 0\n",
            "/gdrive/MyDrive/Audio/B/00_344.wav 0\n",
            "/gdrive/MyDrive/Audio/B/00_345.wav 0\n",
            "/gdrive/MyDrive/Audio/B/00_347.wav 0\n",
            "/gdrive/MyDrive/Audio/B/00_346.wav 0\n",
            "/gdrive/MyDrive/Audio/B/00_348.wav 0\n",
            "/gdrive/MyDrive/Audio/B/00_349.wav 0\n",
            "/gdrive/MyDrive/Audio/B/00_350.wav 0\n",
            "/gdrive/MyDrive/Audio/B/00_351.wav 0\n",
            "/gdrive/MyDrive/Audio/B/00_352.wav 0\n",
            "/gdrive/MyDrive/Audio/B/00_353.wav 0\n",
            "/gdrive/MyDrive/Audio/B/00_354.wav 0\n",
            "/gdrive/MyDrive/Audio/B/00_355.wav 0\n",
            "/gdrive/MyDrive/Audio/B/00_356.wav 0\n",
            "/gdrive/MyDrive/Audio/B/00_357.wav 0\n",
            "/gdrive/MyDrive/Audio/B/00_358.wav 0\n",
            "/gdrive/MyDrive/Audio/B/00_359.wav 0\n",
            "/gdrive/MyDrive/Audio/B/00_361.wav 0\n",
            "/gdrive/MyDrive/Audio/B/00_360.wav 0\n",
            "/gdrive/MyDrive/Audio/B/00_362.wav 0\n",
            "/gdrive/MyDrive/Audio/B/00_363.wav 0\n",
            "/gdrive/MyDrive/Audio/B/00_364.wav 0\n",
            "/gdrive/MyDrive/Audio/B/00_365.wav 0\n",
            "/gdrive/MyDrive/Audio/B/00_366.wav 0\n",
            "/gdrive/MyDrive/Audio/B/00_367.wav 0\n",
            "/gdrive/MyDrive/Audio/B/00_368.wav 0\n",
            "/gdrive/MyDrive/Audio/B/00_369.wav 0\n",
            "/gdrive/MyDrive/Audio/B/00_370.wav 0\n",
            "/gdrive/MyDrive/Audio/B/00_371.wav 0\n",
            "/gdrive/MyDrive/Audio/B/00_372.wav 0\n",
            "/gdrive/MyDrive/Audio/B/00_373.wav 0\n",
            "/gdrive/MyDrive/Audio/B/00_374.wav 0\n",
            "/gdrive/MyDrive/Audio/B/00_375.wav 0\n",
            "/gdrive/MyDrive/Audio/B/00_376.wav 0\n",
            "/gdrive/MyDrive/Audio/B/00_377.wav 0\n",
            "/gdrive/MyDrive/Audio/B/00_378.wav 0\n",
            "/gdrive/MyDrive/Audio/B/00_379.wav 0\n",
            "/gdrive/MyDrive/Audio/B/00_380.wav 0\n",
            "/gdrive/MyDrive/Audio/B/00_381.wav 0\n",
            "/gdrive/MyDrive/Audio/B/00_382.wav 0\n",
            "/gdrive/MyDrive/Audio/B/00_383.wav 0\n",
            "/gdrive/MyDrive/Audio/B/00_384.wav 0\n",
            "/gdrive/MyDrive/Audio/B/00_385.wav 0\n",
            "/gdrive/MyDrive/Audio/B/00_386.wav 0\n",
            "/gdrive/MyDrive/Audio/B/00_387.wav 0\n",
            "/gdrive/MyDrive/Audio/B/00_388.wav 0\n",
            "/gdrive/MyDrive/Audio/B/00_389.wav 0\n",
            "/gdrive/MyDrive/Audio/B/00_390.wav 0\n",
            "/gdrive/MyDrive/Audio/B/00_391.wav 0\n",
            "/gdrive/MyDrive/Audio/B/00_392.wav 0\n",
            "/gdrive/MyDrive/Audio/B/00_393.wav 0\n",
            "/gdrive/MyDrive/Audio/B/00_394.wav 0\n",
            "/gdrive/MyDrive/Audio/B/00_395.wav 0\n",
            "/gdrive/MyDrive/Audio/B/00_396.wav 0\n",
            "/gdrive/MyDrive/Audio/B/00_397.wav 0\n",
            "/gdrive/MyDrive/Audio/B/00_398.wav 0\n",
            "/gdrive/MyDrive/Audio/B/01_001.wav 1\n",
            "/gdrive/MyDrive/Audio/B/01_002.wav 1\n",
            "/gdrive/MyDrive/Audio/B/01_003.wav 1\n",
            "/gdrive/MyDrive/Audio/B/01_004.wav 1\n",
            "/gdrive/MyDrive/Audio/B/01_005.wav 1\n",
            "/gdrive/MyDrive/Audio/B/01_006.wav 1\n",
            "/gdrive/MyDrive/Audio/B/01_007.wav 1\n",
            "/gdrive/MyDrive/Audio/B/01_008.wav 1\n",
            "/gdrive/MyDrive/Audio/B/01_009.wav 1\n",
            "/gdrive/MyDrive/Audio/B/01_010.wav 1\n",
            "/gdrive/MyDrive/Audio/B/01_011.wav 1\n",
            "/gdrive/MyDrive/Audio/B/01_012.wav 1\n",
            "/gdrive/MyDrive/Audio/B/01_013.wav 1\n",
            "/gdrive/MyDrive/Audio/B/01_014.wav 1\n",
            "/gdrive/MyDrive/Audio/B/01_015.wav 1\n",
            "/gdrive/MyDrive/Audio/B/01_016.wav 1\n",
            "/gdrive/MyDrive/Audio/B/01_017.wav 1\n",
            "/gdrive/MyDrive/Audio/B/01_018.wav 1\n",
            "/gdrive/MyDrive/Audio/B/01_019.wav 1\n",
            "/gdrive/MyDrive/Audio/B/01_020.wav 1\n",
            "/gdrive/MyDrive/Audio/B/01_021.wav 1\n",
            "/gdrive/MyDrive/Audio/B/01_022.wav 1\n",
            "/gdrive/MyDrive/Audio/B/01_023.wav 1\n",
            "/gdrive/MyDrive/Audio/B/01_024.wav 1\n",
            "/gdrive/MyDrive/Audio/B/01_025.wav 1\n",
            "/gdrive/MyDrive/Audio/B/01_026.wav 1\n",
            "/gdrive/MyDrive/Audio/B/01_027.wav 1\n",
            "/gdrive/MyDrive/Audio/B/01_028.wav 1\n",
            "/gdrive/MyDrive/Audio/B/01_029.wav 1\n",
            "/gdrive/MyDrive/Audio/B/01_030.wav 1\n",
            "/gdrive/MyDrive/Audio/B/01_031.wav 1\n",
            "/gdrive/MyDrive/Audio/B/01_032.wav 1\n",
            "/gdrive/MyDrive/Audio/B/01_033.wav 1\n",
            "/gdrive/MyDrive/Audio/B/01_034.wav 1\n",
            "/gdrive/MyDrive/Audio/B/01_035.wav 1\n",
            "/gdrive/MyDrive/Audio/B/01_036.wav 1\n",
            "/gdrive/MyDrive/Audio/B/01_037.wav 1\n",
            "/gdrive/MyDrive/Audio/B/01_038.wav 1\n",
            "/gdrive/MyDrive/Audio/B/01_039.wav 1\n",
            "/gdrive/MyDrive/Audio/B/01_040.wav 1\n",
            "/gdrive/MyDrive/Audio/B/01_041.wav 1\n",
            "/gdrive/MyDrive/Audio/B/01_042.wav 1\n",
            "/gdrive/MyDrive/Audio/B/01_043.wav 1\n",
            "/gdrive/MyDrive/Audio/B/01_044.wav 1\n",
            "/gdrive/MyDrive/Audio/B/01_045.wav 1\n",
            "/gdrive/MyDrive/Audio/B/01_046.wav 1\n",
            "/gdrive/MyDrive/Audio/B/01_047.wav 1\n",
            "/gdrive/MyDrive/Audio/B/01_048.wav 1\n",
            "/gdrive/MyDrive/Audio/B/01_049.wav 1\n",
            "/gdrive/MyDrive/Audio/B/01_050.wav 1\n",
            "/gdrive/MyDrive/Audio/B/01_051.wav 1\n",
            "/gdrive/MyDrive/Audio/B/01_052.wav 1\n",
            "/gdrive/MyDrive/Audio/B/01_053.wav 1\n",
            "/gdrive/MyDrive/Audio/B/01_054.wav 1\n",
            "/gdrive/MyDrive/Audio/B/01_055.wav 1\n",
            "/gdrive/MyDrive/Audio/B/01_056.wav 1\n",
            "/gdrive/MyDrive/Audio/B/01_057.wav 1\n",
            "/gdrive/MyDrive/Audio/B/01_058.wav 1\n",
            "/gdrive/MyDrive/Audio/B/01_059.wav 1\n",
            "/gdrive/MyDrive/Audio/B/01_060.wav 1\n",
            "/gdrive/MyDrive/Audio/B/01_061.wav 1\n",
            "/gdrive/MyDrive/Audio/B/01_062.wav 1\n",
            "/gdrive/MyDrive/Audio/B/01_063.wav 1\n",
            "/gdrive/MyDrive/Audio/B/01_064.wav 1\n",
            "/gdrive/MyDrive/Audio/B/01_065.wav 1\n",
            "/gdrive/MyDrive/Audio/B/01_066.wav 1\n",
            "/gdrive/MyDrive/Audio/B/01_067.wav 1\n",
            "/gdrive/MyDrive/Audio/B/01_068.wav 1\n",
            "/gdrive/MyDrive/Audio/B/01_069.wav 1\n",
            "/gdrive/MyDrive/Audio/B/01_070.wav 1\n",
            "/gdrive/MyDrive/Audio/B/01_071.wav 1\n",
            "/gdrive/MyDrive/Audio/B/01_072.wav 1\n",
            "/gdrive/MyDrive/Audio/B/01_073.wav 1\n",
            "/gdrive/MyDrive/Audio/B/01_074.wav 1\n",
            "/gdrive/MyDrive/Audio/B/01_075.wav 1\n",
            "/gdrive/MyDrive/Audio/B/01_076.wav 1\n",
            "/gdrive/MyDrive/Audio/B/01_077.wav 1\n",
            "/gdrive/MyDrive/Audio/B/01_078.wav 1\n",
            "/gdrive/MyDrive/Audio/B/01_079.wav 1\n",
            "/gdrive/MyDrive/Audio/B/01_080.wav 1\n",
            "/gdrive/MyDrive/Audio/B/01_081.wav 1\n",
            "/gdrive/MyDrive/Audio/B/01_082.wav 1\n",
            "/gdrive/MyDrive/Audio/B/01_083.wav 1\n",
            "/gdrive/MyDrive/Audio/B/01_084.wav 1\n",
            "/gdrive/MyDrive/Audio/B/01_085.wav 1\n",
            "/gdrive/MyDrive/Audio/B/01_086.wav 1\n",
            "/gdrive/MyDrive/Audio/B/01_087.wav 1\n",
            "/gdrive/MyDrive/Audio/B/01_088.wav 1\n",
            "/gdrive/MyDrive/Audio/B/01_089.wav 1\n",
            "/gdrive/MyDrive/Audio/B/01_090.wav 1\n",
            "/gdrive/MyDrive/Audio/B/01_091.wav 1\n",
            "/gdrive/MyDrive/Audio/B/01_092.wav 1\n",
            "/gdrive/MyDrive/Audio/B/01_093.wav 1\n",
            "/gdrive/MyDrive/Audio/B/01_094.wav 1\n",
            "/gdrive/MyDrive/Audio/B/01_095.wav 1\n",
            "/gdrive/MyDrive/Audio/B/01_096.wav 1\n",
            "/gdrive/MyDrive/Audio/B/01_097.wav 1\n",
            "/gdrive/MyDrive/Audio/B/01_098.wav 1\n",
            "/gdrive/MyDrive/Audio/B/01_099.wav 1\n",
            "/gdrive/MyDrive/Audio/B/01_100.wav 1\n",
            "/gdrive/MyDrive/Audio/B/01_101.wav 1\n",
            "/gdrive/MyDrive/Audio/B/01_102.wav 1\n",
            "/gdrive/MyDrive/Audio/B/01_103.wav 1\n",
            "/gdrive/MyDrive/Audio/B/01_104.wav 1\n",
            "/gdrive/MyDrive/Audio/B/01_105.wav 1\n",
            "/gdrive/MyDrive/Audio/B/01_106.wav 1\n",
            "/gdrive/MyDrive/Audio/B/01_107.wav 1\n",
            "/gdrive/MyDrive/Audio/B/01_108.wav 1\n",
            "/gdrive/MyDrive/Audio/B/01_109.wav 1\n",
            "/gdrive/MyDrive/Audio/B/01_110.wav 1\n",
            "/gdrive/MyDrive/Audio/B/01_111.wav 1\n",
            "/gdrive/MyDrive/Audio/B/01_112.wav 1\n",
            "/gdrive/MyDrive/Audio/B/01_113.wav 1\n",
            "/gdrive/MyDrive/Audio/B/01_114.wav 1\n",
            "/gdrive/MyDrive/Audio/B/01_115.wav 1\n",
            "/gdrive/MyDrive/Audio/B/01_116.wav 1\n",
            "/gdrive/MyDrive/Audio/B/01_117.wav 1\n",
            "/gdrive/MyDrive/Audio/B/01_118.wav 1\n",
            "/gdrive/MyDrive/Audio/B/01_119.wav 1\n",
            "/gdrive/MyDrive/Audio/B/01_120.wav 1\n",
            "/gdrive/MyDrive/Audio/B/01_121.wav 1\n",
            "/gdrive/MyDrive/Audio/B/01_122.wav 1\n",
            "/gdrive/MyDrive/Audio/B/01_123.wav 1\n",
            "/gdrive/MyDrive/Audio/B/01_124.wav 1\n",
            "/gdrive/MyDrive/Audio/B/01_125.wav 1\n",
            "/gdrive/MyDrive/Audio/B/01_126.wav 1\n",
            "/gdrive/MyDrive/Audio/B/01_127.wav 1\n",
            "/gdrive/MyDrive/Audio/B/01_128.wav 1\n",
            "/gdrive/MyDrive/Audio/B/01_129.wav 1\n",
            "/gdrive/MyDrive/Audio/B/01_130.wav 1\n",
            "/gdrive/MyDrive/Audio/B/01_131.wav 1\n",
            "/gdrive/MyDrive/Audio/B/01_132.wav 1\n",
            "/gdrive/MyDrive/Audio/B/01_133.wav 1\n",
            "/gdrive/MyDrive/Audio/B/01_134.wav 1\n",
            "/gdrive/MyDrive/Audio/B/01_135.wav 1\n",
            "/gdrive/MyDrive/Audio/B/01_136.wav 1\n",
            "/gdrive/MyDrive/Audio/B/01_137.wav 1\n",
            "/gdrive/MyDrive/Audio/B/01_138.wav 1\n",
            "/gdrive/MyDrive/Audio/B/01_139.wav 1\n",
            "/gdrive/MyDrive/Audio/B/01_140.wav 1\n",
            "/gdrive/MyDrive/Audio/B/01_141.wav 1\n",
            "/gdrive/MyDrive/Audio/B/01_142.wav 1\n",
            "/gdrive/MyDrive/Audio/B/01_143.wav 1\n",
            "/gdrive/MyDrive/Audio/B/01_144.wav 1\n",
            "/gdrive/MyDrive/Audio/B/01_145.wav 1\n",
            "/gdrive/MyDrive/Audio/B/01_146.wav 1\n",
            "/gdrive/MyDrive/Audio/B/01_147.wav 1\n",
            "/gdrive/MyDrive/Audio/B/01_148.wav 1\n",
            "/gdrive/MyDrive/Audio/B/01_149.wav 1\n",
            "/gdrive/MyDrive/Audio/B/01_150.wav 1\n",
            "/gdrive/MyDrive/Audio/B/01_151.wav 1\n",
            "/gdrive/MyDrive/Audio/B/01_152.wav 1\n",
            "/gdrive/MyDrive/Audio/B/01_153.wav 1\n",
            "/gdrive/MyDrive/Audio/B/01_154.wav 1\n",
            "/gdrive/MyDrive/Audio/B/01_155.wav 1\n",
            "/gdrive/MyDrive/Audio/B/01_156.wav 1\n",
            "/gdrive/MyDrive/Audio/B/01_157.wav 1\n",
            "/gdrive/MyDrive/Audio/B/01_158.wav 1\n",
            "/gdrive/MyDrive/Audio/B/01_159.wav 1\n",
            "/gdrive/MyDrive/Audio/B/01_160.wav 1\n",
            "/gdrive/MyDrive/Audio/B/01_161.wav 1\n",
            "/gdrive/MyDrive/Audio/B/01_162.wav 1\n",
            "/gdrive/MyDrive/Audio/B/01_163.wav 1\n",
            "/gdrive/MyDrive/Audio/B/01_164.wav 1\n",
            "/gdrive/MyDrive/Audio/B/01_165.wav 1\n",
            "/gdrive/MyDrive/Audio/B/01_166.wav 1\n",
            "/gdrive/MyDrive/Audio/B/01_167.wav 1\n",
            "/gdrive/MyDrive/Audio/B/01_168.wav 1\n",
            "/gdrive/MyDrive/Audio/B/01_169.wav 1\n",
            "/gdrive/MyDrive/Audio/B/01_170.wav 1\n",
            "/gdrive/MyDrive/Audio/B/01_171.wav 1\n",
            "/gdrive/MyDrive/Audio/B/01_172.wav 1\n",
            "/gdrive/MyDrive/Audio/B/01_173.wav 1\n",
            "/gdrive/MyDrive/Audio/B/01_174.wav 1\n",
            "/gdrive/MyDrive/Audio/B/01_175.wav 1\n",
            "/gdrive/MyDrive/Audio/B/01_176.wav 1\n",
            "/gdrive/MyDrive/Audio/B/01_177.wav 1\n",
            "/gdrive/MyDrive/Audio/B/01_178.wav 1\n",
            "/gdrive/MyDrive/Audio/B/01_179.wav 1\n",
            "/gdrive/MyDrive/Audio/B/01_180.wav 1\n",
            "/gdrive/MyDrive/Audio/B/01_181.wav 1\n",
            "/gdrive/MyDrive/Audio/B/01_182.wav 1\n",
            "/gdrive/MyDrive/Audio/B/01_183.wav 1\n",
            "/gdrive/MyDrive/Audio/B/01_184.wav 1\n",
            "/gdrive/MyDrive/Audio/B/01_185.wav 1\n",
            "/gdrive/MyDrive/Audio/B/01_186.wav 1\n",
            "/gdrive/MyDrive/Audio/B/01_187.wav 1\n",
            "/gdrive/MyDrive/Audio/B/01_188.wav 1\n",
            "/gdrive/MyDrive/Audio/B/01_189.wav 1\n",
            "/gdrive/MyDrive/Audio/B/01_190.wav 1\n",
            "/gdrive/MyDrive/Audio/B/01_191.wav 1\n",
            "/gdrive/MyDrive/Audio/B/01_192.wav 1\n",
            "/gdrive/MyDrive/Audio/B/01_193.wav 1\n",
            "/gdrive/MyDrive/Audio/B/01_194.wav 1\n",
            "/gdrive/MyDrive/Audio/B/01_195.wav 1\n",
            "/gdrive/MyDrive/Audio/B/01_196.wav 1\n",
            "/gdrive/MyDrive/Audio/B/01_197.wav 1\n",
            "/gdrive/MyDrive/Audio/B/01_198.wav 1\n",
            "/gdrive/MyDrive/Audio/B/01_199.wav 1\n",
            "/gdrive/MyDrive/Audio/B/01_200.wav 1\n",
            "/gdrive/MyDrive/Audio/B/01_201.wav 1\n",
            "/gdrive/MyDrive/Audio/B/01_202.wav 1\n",
            "/gdrive/MyDrive/Audio/B/01_203.wav 1\n",
            "/gdrive/MyDrive/Audio/B/01_204.wav 1\n",
            "/gdrive/MyDrive/Audio/B/01_205.wav 1\n",
            "/gdrive/MyDrive/Audio/B/01_206.wav 1\n",
            "/gdrive/MyDrive/Audio/B/01_207.wav 1\n",
            "/gdrive/MyDrive/Audio/B/01_208.wav 1\n",
            "/gdrive/MyDrive/Audio/B/01_209.wav 1\n",
            "/gdrive/MyDrive/Audio/B/01_210.wav 1\n",
            "/gdrive/MyDrive/Audio/B/01_211.wav 1\n",
            "/gdrive/MyDrive/Audio/B/01_212.wav 1\n",
            "/gdrive/MyDrive/Audio/B/01_213.wav 1\n",
            "/gdrive/MyDrive/Audio/B/01_214.wav 1\n",
            "/gdrive/MyDrive/Audio/B/01_215.wav 1\n",
            "/gdrive/MyDrive/Audio/B/01_216.wav 1\n"
          ]
        }
      ]
    },
    {
      "cell_type": "code",
      "source": [
        "from collections import Counter\n",
        "Counter(raw_y)\n"
      ],
      "metadata": {
        "colab": {
          "base_uri": "https://localhost:8080/"
        },
        "id": "WY8Ro3dfdARJ",
        "outputId": "27ef057b-c937-4e8f-8d38-695cbb7a6f52"
      },
      "execution_count": 14,
      "outputs": [
        {
          "output_type": "execute_result",
          "data": {
            "text/plain": [
              "Counter({1: 397, 2: 409, 0: 398})"
            ]
          },
          "metadata": {},
          "execution_count": 14
        }
      ]
    },
    {
      "cell_type": "code",
      "source": [
        "print(raw_y[980])\n",
        "IPython.display.Audio(raw_x[980], rate=SAMPLING_RATE)"
      ],
      "metadata": {
        "colab": {
          "base_uri": "https://localhost:8080/",
          "height": 93
        },
        "id": "LMyoGSYqiA2D",
        "outputId": "80211462-e6c7-4158-fe39-2ba72a1f677d"
      },
      "execution_count": 14,
      "outputs": [
        {
          "output_type": "stream",
          "name": "stdout",
          "text": [
            "3\n"
          ]
        },
        {
          "output_type": "execute_result",
          "data": {
            "text/plain": [
              "<IPython.lib.display.Audio object>"
            ],
            "text/html": [
              "\n",
              "                <audio  controls=\"controls\" >\n",
              "                    <source src=\"data:audio/wav;base64,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\" type=\"audio/wav\" />\n",
              "                    Your browser does not support the audio element.\n",
              "                </audio>\n",
              "              "
            ]
          },
          "metadata": {},
          "execution_count": 14
        }
      ]
    },
    {
      "cell_type": "code",
      "source": [
        "print(raw_y[1])\n",
        "IPython.display.Audio(raw_x[1], rate=SAMPLING_RATE)"
      ],
      "metadata": {
        "colab": {
          "base_uri": "https://localhost:8080/",
          "height": 93
        },
        "id": "bjXXExOuiHcr",
        "outputId": "5a59dd60-c6b3-4284-e0a2-47fd9e54c905"
      },
      "execution_count": 15,
      "outputs": [
        {
          "output_type": "stream",
          "name": "stdout",
          "text": [
            "0\n"
          ]
        },
        {
          "output_type": "execute_result",
          "data": {
            "text/plain": [
              "<IPython.lib.display.Audio object>"
            ],
            "text/html": [
              "\n",
              "                <audio  controls=\"controls\" >\n",
              "                    <source src=\"data:audio/wav;base64,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\" type=\"audio/wav\" />\n",
              "                    Your browser does not support the audio element.\n",
              "                </audio>\n",
              "              "
            ]
          },
          "metadata": {},
          "execution_count": 15
        }
      ]
    },
    {
      "cell_type": "markdown",
      "source": [
        "# padding"
      ],
      "metadata": {
        "id": "M1e1eHmSNfY9"
      }
    },
    {
      "cell_type": "code",
      "source": [
        "lens = []\n",
        "for i in range(len(raw_x)):\n",
        "    lens.append(len(raw_x[i]))\n",
        "\n",
        "plt.hist(lens, bins=100)\n",
        "plt.show()"
      ],
      "metadata": {
        "colab": {
          "base_uri": "https://localhost:8080/",
          "height": 265
        },
        "id": "FsjDBDIOEVd4",
        "outputId": "841740ed-f6ec-447d-8a8f-7feb7cbe5211"
      },
      "execution_count": 15,
      "outputs": [
        {
          "output_type": "display_data",
          "data": {
            "text/plain": [
              "<Figure size 432x288 with 1 Axes>"
            ],
            "image/png": "[encoded data removed]"
          },
          "metadata": {
            "needs_background": "light"
          }
        }
      ]
    },
    {
      "cell_type": "code",
      "source": [
        "print(lens[:10])"
      ],
      "metadata": {
        "colab": {
          "base_uri": "https://localhost:8080/"
        },
        "id": "92aGHRkbkisj",
        "outputId": "8b8ab183-67a7-48b4-ec0c-887b03f801f8"
      },
      "execution_count": 17,
      "outputs": [
        {
          "output_type": "stream",
          "name": "stdout",
          "text": [
            "[11025, 11466, 11466, 16758, 7497, 10584, 11025, 10584, 10805, 9702]\n"
          ]
        }
      ]
    },
    {
      "cell_type": "code",
      "source": [
        "from tensorflow.keras.preprocessing import sequence\n",
        "\n",
        "padded_raw_x = sequence.pad_sequences(raw_x, maxlen=22050, padding='post', dtype=float)\n",
        "# 파일 길이를 똑같이 맞춤 22050 (1초로)"
      ],
      "metadata": {
        "id": "aghztZe9-1N5"
      },
      "execution_count": 16,
      "outputs": []
    },
    {
      "cell_type": "code",
      "source": [
        "print(raw_y[670])\n",
        "IPython.display.Audio(raw_x[670], rate=SAMPLING_RATE)"
      ],
      "metadata": {
        "colab": {
          "base_uri": "https://localhost:8080/",
          "height": 93
        },
        "outputId": "bda40fc7-030a-4530-8845-46961ddcdaba",
        "id": "7mTCyMzWiVAZ"
      },
      "execution_count": 22,
      "outputs": [
        {
          "output_type": "stream",
          "name": "stdout",
          "text": [
            "2\n"
          ]
        },
        {
          "output_type": "execute_result",
          "data": {
            "text/plain": [
              "<IPython.lib.display.Audio object>"
            ],
            "text/html": [
              "\n",
              "                <audio  controls=\"controls\" >\n",
              "                    <source src=\"data:audio/wav;base64,UklGRvBvAABXQVZFZm10IBAAAAABAAEAIlYAAESsAAACABAAZGF0YcxvAAD+ADYBQQE8AekAHQEDAYoBrgGsAZ8BVAEFAaMAZwAxAEgAMABDAI0AyADqAAUBEQE2AY0BfQFTAVoBdAGiAY4BnQGpAScBWQGsAcABxQGOAdkBBwLMAZUBgAEKARwBhAFnAZ0BcAERARAB3QDWAPwAigD1/y0AgQBlAHYAeQB9AGoAZgCnAGcAfgCSACgAdwCxANIA/ABbABYAZACUAJEAhABeAA0ABgAiACwALwDz/5r/1v+EANcAkAAvAAUADgACAN//aP/3/jf/fv+S/1P/LP9z/53/QP/M/sH++v5I/1//W/84/wn/D/80/3T/xP+d/63/2//t/yMABgDJ/1v/Pv/0/tH+Df8L/2z/cf/u/s3+Hv9N/1D/Dv+N/kf+Yf6w/t7+sf5T/jj+UP7S/l7/d/9Z/2v/kf9k/4L/1/+U/xD/1P6i/p/+o/6P/mn+gP7G/iL/Pv+n/oT+eP5l/lT+Yf5W/kn+pv6I/qf+hf5K/kb+Nf6h/ub+n/6M/gf/HP9R/2L/5f6i/pf+fv6D/q7+pv7N/if/Wf8S/yr/Rv9i/8b/df9M/1P/af9y/1j/4f6i/rz+tP5V/5v/h/+t/9f/PAB4AEkAFgBh/6z+uv4g/yj/3f4D/xj/Jf8i/z3/Gf/l/hP///73/tj+tP4O/2P/YP9H/0X/R////iH/hf+c/7T/4//h/8f/AABfAGQADACJ/2L/4P9IAFkAHwBGAFoAOABjAGoAawB8AKIA4QBAAYABMAHcAAIBwwB1AHsAXwBcAIQAiQBFAEQAawBbAIMA3QDXANUAFgHhAKAA3wCuAEYADACy/5j/kf+6/6T/u/9eADgAKQAzAN//BQBCAG0AYgBAADAABgBEAJwAkgBlABwAtf+1/xUASgChAMUAwQDeAOUAJQENAcsAkgBuAJ8AzwAOAfwA6gBIAacBxgHXARcCRAI8AhUC5gHPAdUBDAIIAgcCNgLwAccBsQGlAZoBiAGnAb4BxQF8AYkBZgHnAOMA3ADVANIAoQCIACsA6v8xAJEArgB5AFMAFwBGAFoAFQAMAOT/+P89AE8AewCzANoACgHzAOUAuABhAAcArv94/3D/jv+X/6j/o//M/yEAWQBZAIUA8ADFAHkAwQABASMBDAEdAWkBvACiAPgAewBdAEwANAA5AAgADgAaAHAAqgBbAGsAZgBzAJEAMgDW/3r/mv/7/8j/Z/9F/1f/Wf+i/8v/VP/z/s3+4/4i/yL/3/5S/g7+E/5E/kf+sv3i/TH+/P0z/mv+bv6A/tP+gP+X/0X/X/90/6b/q/9W/xX/9v7f/gX/eP8WAEwAFQA7AB4ArP+b/4j/PP9f/3r/m//K/+H/VgCGANAAOAFUAZIBjQE6AToB/QDBAJUAfwCoAHQAgQCFAE4AOgAtAPr/lf9y/3j/J//d/vT+NP8G/23+VP5r/oP+tf4T/1H/8/5r/kv+P/41/pX+qv6h/ov+gf6v/qX+7v58/8X/CgBLACQALQANAKL/pP9K/2P/rf+m/64ACgG0AD4B2ACaAD4BrgCXAMIAoADmAM4ARgGwAaIBgwE+ATQB2ACWAG8AFAACAOb/EAAWAM3/DQBFAGgAdwCdAIIAYgCRAJwAVAAnAFgAAACPACIAAwFu/3MCZvwa5l8A9R4DE8gQLQrKAPb6GedL2xngK+su/RIKgBLFHR8gPBVuApPys+fl5SLqx/V0Cm8ZAiErIRcYYAoc+yrrneWk6o/ypP7oCbARWRReDj4DxPja7gfpt+ov8e766gOjCacK/gnkBWP+dfuF+dn38vhW/GkCQgipBRoAegTUDd0Rzw1DBTn93Pls9PbtVe+l9Tj/JwdzC8ARxRTkDCkDpftE9CrwIe+D9qkCvgxkFDEXIRQTCmf9cvOR7hHxVvX560XsbgOKDzcT/hYVEdAIUP3j6W7fTtx73i/nze17/V8NURIEFNkQrgfA/Zv1c/F88Yr54AaADsMZTyIwGn4NQQMi+2L0N/AE8ib5nQAmBHoHEglJA9z8uvbQ7VrsZO0j73D47P33AO0EGgRFAKT6Nvb79Ev1uvnQAIIFcQbuBVgJlQubCJkFDQFg/Tb7lvqH/Av6qvcb+6j/XwOVCVoSjRqHGr8T3Q3NBdP5nO3O5cXhEOb78F760gIZC2kPgQweBgj9tvSK83H1xfffAbAMjBHEFrkV8w1bBV38TPa483f1mPtSAvoH2Aq9CsAJlgXm/jT3a/G786z3dfrQ/7UCvwH9AJ//LPzY+Rj5e/lt+2/9IwCrBBIH/QeYCTwHZgPoAFT/w/5x/Bj84f8DAUsB7AOjA6UC0QFK/pP7WvtG/MP9S//+AT4DJAJRA0cC//+9AP39hvuY/Q39wP1OAAgBmQSZBd0C9wGmAd4CGwRZA5gExAU5BcMEIwKSAOgA7v/h/5cBLgFI/74AgQP1AzsD/gGL/53+jP1S+sX7A//L/eH+yQJjA6kEHgSUAckCHAGd/PX7pvw+/Ub/nAEJBRYHywa+BvMGYAQ0AZEBaAJ3AnICeQO/BdMETwKVBGAEKgKHA4IDLwGI/9z/ef9Q/6YAEf9v/O77O/iG+Dr8hv3xBtkNMgrnCdQHMv4++tb4LPTb9DH3FPcL+k77C/m5+or43PIk8w7zg/O69Qb3xPu6A2sJCgvCDEoOnwrfCNsMEw2FDf0QwRSsFmwQ0geVBCgCgfyW9+b0t/Me92b85v7TAdgCCwEV/+72uese5lzrgAGfH2Y2jD0aNQsnchal/ynnBtlo2lXjfOhM5vvileQx5TrgXdePyizB5r2ovovIHdyK9NgM2R0KJqAo8ibrI+YirCVYKust8DBMMmUwYC0SKfIhcxctCxH99+o+3EnX5dhO4R7sjfEV8xnwxuul6Kfl8ehX7jDxsfYa/iEIDxS3GbUY2xIhC7YDcvrH8yXxhvOS+c394QL+BMz8RvCX5NviIPN4CDAczip8LQ8q7x9FDbv7Q+1q5Z3n7+em4ynends835LeKNZ9y0DBXL1owXbNAOLN9oMKjhwIKTwwyzGaMXoz0jdEO0Y66zdSNKAuSiojIxoaDBEcAwL0+OGvzuTGfsx92VLmq+sm7DXrTuqZ7s71mPv+/5wDtwggD6cUbhxyI1Ai+BtOE0kLFASi+jjz5PFm9tz6wf4kBWX/Yesh2ZbTxum9Dr0s8EMhSIZBeTqEIXACmug71OLPRMzvwjfAlMP7zPbTRM+AwVmxKqt5scfCxt3p+YcXFDJGQhVNyFNPV6pZZlgoVLNMuECaMq0ljBwhFJQJVv3M7sPgAdYpzNjCVb9dxt3Wxucq8ZT4EwQ9EKka8SBAH2MW6AuGCGQP7BatGCoX1xTdEA8KvwSVAN/4qfDC62vrFe0A7xz6ggKF97jmv9pk5UYLLzE5VWlqDGJRVJU5VxGb8LnOmrsgtrSn4qKGp4mx48J7xzjFBsFAuGS6lMSj1jzzIRI+NvtUKGYtcY91tXYmc7VmZVZWQBonMxIQApv3vO6H5RTeQ9YG0D3NV82nz9jSxt288HD/vAjfEu4hjDD3MBMl1xVQBTX6vflsAXAHLAXYAosE8QXeBKoCIQIB/773d/HD7k7x0/cTAaMC5/KZ4GTYfeUEDcg6nWRCephu4FbdMkQDltmys/Gd5pVYi4+MzJU9ovq3I8iw0YjTsMrsyOzQhOOoBN0oMktsZP9vGXagdbFw/2nwW5RI4i5pEF338OTW2fvUjtFc0eXSKtZy3ubnFO5f8IT3bAY3D4YPzBAuGf4hQRuEDDwC0PZ76/Pmze8d/4UC6QCOBSQKSQm1A+oAUgBS+mHwWOjb55/rlvH29t/uEuKM3avk/AEvKmJQSWz5aCVSPjRlCdrgbL64pE2aK5DqiyGT05s7rpfDKtHq2fXXGNaV3jjslgRsIpI9fVbFZOppfWqjZm1iqVa+Qeopyg1n87/ep8/tyTTKfs9g2XniMuwy9kL7A/1zA3kPyxUoEWELzA7kEwANswGV+/z0Letr5p3yzQXpC6QMaxL0FcYQKwbm/xT8+PLB52HhNOQh6wnzdvrs9MropORr51n4pxh4PpFermVvV6ZA2hwR80XMMa7InSSPpoTOiJGUT6divdnQTuTe7jrxEPetAFERKCc7PMZQ81ySX9ZfxF04WvFRUEKLLigUafdG4WvSa8ynzaHRt9m+5T/0WgKhCYUNaBZ9H9Ae3RQaC6AGXwEX+Mbx6e9m6i3iEub++fANBhivHUQjGSSqGoIMTwAC9MPnG94K2tbd4OW48XT7N/i18nn1f/uXCLwh7kOQYUtmplaLQOAgkfj7z6qy56JUkbmCEIbkksmhTLJrxlvgQ/Kr+MEBtA8iIIIwfD8YUctdnF/jXTRbP1dXT3U/GisEFOr6b+RS1C/Ofc811DLfku+XAPINZBbkHmQl9yOWHSUVTwqD/YTxv+kj5GTfDt+j5mr2vAfVFv0kIS1tLKQl6xl6C1/6s+eN2brR+NAO2aDoWfqj/2727fNY/Y4IuhdXL6dM5V5uWF5HzzOOFWzvfMtHs72gVooBgJaItJe/qOy5UM9Y55z2/wHQD68ewC6iO8pHqVNBVoJTwVEFUH1MikGHMFcedAll83TghNVH017U79rc6Kf2sADRCz8cEiifI7gXyg59BJ/zOOIt223Z8tP90/PgpPReBsEUDiWTMYoxiSiwG7QNffx9537XjM5oy4/Px9mD68f4IPVL8p77iQcgEywiRzq0T2lOuz8bL/MX7PkI1+25dKUEjyuBhYR1kAai4LNyx4LfvfGyAP0Q0h/GLwg7i0FASWlKAEajQjo/NjyMNIgmehhsCdn4M+pK4D3dwNzs3V7mafFk9gT7ygrUHiEk/xpjErgKm/kD4g/U/NLE0bXOvtYR7aQFOhjpJ+w0xDgiL+Ia3AR08Jbcec2QxdjFy83b2O/oKPfq93z5BQZuE2seXSmOO8NODE1qPS4tvxXv94/WK7lvpvSTIofaijiXOqi5uSnLReEm80oANhDDIKkxiz3SQpBJTkxbRwxBJDrgMlYnExbxB0/9l/IO6ibl1+ZI7PfuefMs+6X/5gN/DUIZlR76GekTcA0x/aHow9o0023NDcmlzwrluf2XEzUneTZBPqE6JC0UGyEGdPBQ3R7P5ciRyjfScOEt8Vb1xPcqBVYVvyETLkVBalXiVQxGxzXeIFECB90zvO+n5pWsh+iICJaoqbW9f9CQ5kj5IAdJFnQleDTcP/lFckw1T7JLqEbcPyI3LSq3GB4JNvw58tDsxOrr7ZnzU/dt/dkFoArUDYkVqB+dIQAZcxHrC/T8x+fJ2WDVk9HqzBPV8OuPA2gXBiqjOhBCJju1LdQekAzc98HjYNVZzaTJWMw32APpIfAk8Qv/WRP8INsr6T0eVnldDk/xPRMq+gyf5wnD66t3md2HCYVLkPajmbpsz63nZP77DNIZ5yaxNNw/JUMaRmtJi0awQKc5mDHtJoMX6QnY/rjzD+2W6qjsz/K09qT74ANDCAEL6BIXHi0jRBsaD2cFwvUr4XzRWcouygPLrtGO5q8A+xe5KtA21zydOOUpORhkBkL14uUo2Q/QqMqnynfT3+Kf6kzqP/XeCXUZHSTiM+JMAlv6UeRBsC9BFhb0sc0Ps7Khjo6BhI+KDpyaseXEHdy89WkG/BF9HiwrADULOIg7PkKcQdY5ATKwK6wj/BVECBD/q/Z672Tr+uq07mz0ePuGA0UHdwYODVIcmiP0HKkS2Qmf+Xbfc8w4yA7J/MkSz7zg8PsEFPYlrDGtNm40ASflEm0Bk/QK6e7bCdE1zWTNBNE13Evm7ubl67H+VRNhH6Uq6EFmWJJYA0ltN7giGwRh3CO7g6cEl2CIVoVikYumdLzn0Y3pUgBXEQMdMicbMX03TzpQPqRBiz1INBUtdyaLG6cOkgQo/TH1Du/G7qjw9vI69yv9SwMRBRYKABp6JecihhgYDbAAJuzo147P18yEzKnPVtvx8y4OyyHALpQ0bTOnKKMYYwuX/0byoeO51qHOLcprygvU9+AZ5cPnrPYYDfAePCvVPlZXRl6+UXM+1yj1DvbqFMaYrUycyo9AjIWT3KWnu7/QfebH+VkLqxo7JHAshDSUOdk8aT2HOwI4cjGOKhMjnhjCDSsDHfq19MfwGu/Y8NvyWvbq/EcD4AtEGk4oayw4IygW5wop+YHk/9fn05PTbNLy1+DrTwVrG4IpUzDkMgMtdiCrEooEqfYl6LnaB9GKy3zLf9MJ4Mnl5epc/NYReCCqKU88l1fXXf5OsT4EK9EP6ekjxIut/ZsYjhKMKJSGp+G+utMr6kn+Vw7cG6gkfi2lNhI71z1TP8A8HTf9L7MqbiS1GEINrwRd/Rj3L/EW8Gj0IvhK+Tz6xwBzDMsXTCNGK54pMB4ADQv9su2s3cTTGtB90MXWP+QC+j0QdB9VKgMv1St8I60XQAsI/CHsDeF81rTN+csY1Jbhr+O84qTy1QpUHzIsgTymVytjVFj1R0YzQxof9l7LPq65mjOMIYj9jVSgkbeyy9LgJ/TBA1cRdhvRJIQtfTOOOLg7tzs0Oac0FzDTKfEfiRVJCwsCvvrU80rvie0v7l7x0/Pq9+3/oQoTGBohUSLEHuAVHwrm+jfqY+Av2sLVJdfW3u3u5ABxDisa/iC3IqgflBb4DE0ADvEK5vTbmNPxzp/RyNzv3ZnZReac/TYTpyF8M7JSUmMQWn9JtTX9HbX5mcyErS6Z/YhIg9mIjJxMtd3I7NxS8HwALg2FFGIdbCepLIMx7TZuOvs6ATheNhQzQyitG+UPNASX+FDtnOi16E3o1+k17TDzlPs4BesQBRnZHeIgyBuYEVEGe/om747iR9rK2GrbD+W88Tf+Cgy3Fpgb+hkHFSAQ+ASR9ZfqgOOj3VfX/NeO4rbkQ97442v4QBDuILUy9k9HYpRcqEtvNvse8PsDzgWrVJXNh9SDGYr3n8i6HM9z4iTzfgA4Cy8RWRidH6wkZCtaMRs3rTwVPtw8RThlL98j6xWjCA/8BPD76LjmHuie7IjyqviW/LoDlA90Fj8ath13HPUVAQrb/gv29Ooa4w7ebdxP5K3v1PsWCKARLRl4GegUVxC7BqD61u9+54Liut0X32zos+qj40blu/e7DRwdXi9mTM5iamDXT689CCcuBl3a4rMMngOQlYlDjxyhPLpyzvTeS++t+hAEOgwGE4sajCChJ5AwEji6PWFACUHdPvQ2XitdH8ITfQYj+bDwXe1C7WbuI/Gq9V/5qv7EBacK8A5XFAIYoBUHD+gJiQQv/KXyVetJ6Ejoj+tj8Sr5QgNWCioMMQwlDC4JiP8s9rzyuu+M6m7ozu+39ezuaes+9QgEChAXGxAwj0TARu084C7WH3ILIOsKzdK6ya+0qjGsybgQzGPawuRD7bjz0vnL/YEBegfGDQEVvB0RJ6sw2TdpO547IzYhLIQgShPUBUn5QO/i6fTnYenm7QLzovdb/KQCBghyCkANJhBPEGYNygm9B5oD/Psl9WrxYPH+8gL1P/onAhAInAnaCOkIWQfo/lP0Fe+C6//mkuX46/T1+fQf8Iz3BATqDkcYUSYzOxJChzkfL2shkxHH9/nX5sQZuFGvt65jtWzHI9dO38DogO508yT4U/me/e0CNApOFTUf3SpJNtU8ZT9aO4cyEimSHYMPBgGS9HLsAuj95KHljelm7YPyJvdv+7oAqAMpBz0K4Qn5CaUIPgfxBLr9rfmg+I735Pgs+tD+oALnACwBFQF+/2/7+vJV71HtuekA6mHuovfG+E3xOPRi/bIGqg+BGy8x9Tw9OH8wiCTeF0QC8eEEzOy9SrRAsgO29MWm1XDdW+Vl6FDry++z8H70OPrIAxsR2Bs6KVU29D5LRClBBDqaMtwnhxu/DVcBrvh78Qfsdujp5+nqce1l7WDumPKO9p/5Gv0XAbAFMgjWCTAK9gaHBZ0EUwIIApoCzwW0B6cF1gUdBdsBUft38eXsPuo25i3leulZ9KX3+fFo9Ej9ngcJEFUa8y4hPWw90TdKLeUi0w5r737XFcdOvBe3T7dFwxfP7NQ/27Lea+Lc5TLnruzr84f+OA29GgwqYTiLQiVJL0h2Q/88lzLLJxwbhw1tA0T7mPWW8NnrT+sB6tXmTubn5uvpHu6V8dD3/f3PAyoKMwx3DPoLdwqdC4ULegsFD/oQ/xBDD10M9QhV/13zsOrj4xzhBeDw4uvsSvGj7zDy+PkBBtMOBhfsJ4U1BDkpNgAv2CgiGsYAqesp26fPoMgfxD/JstDE1O7XqNfk2Qrcp9oF3lTkP+40/OYJBhppKYM20EBNRHhFuESNQCw6hTBzJ4gflBeuDwEGc/5o+BTwKuhj4vffbd+63g7greOP6GjtffES9TH4f/vl/sADDgpZEFAXzRw3IDUi7iDMGwASjAaq/AP0weyZ5m/l2Obv4zTig+WC7av2uvyaBtUSixvVINoflR7dG6gPaAE59U/s9eZ+4aHgl+JH43PkseJL4C3f69sr2c/YC9xK4xPs9va9ApINvBdhH8UkPSmPK/UsrS4SLzEu3Cz2Ko4nkyG3GlQT0AoMA9b7S/ap8+LwrO3I6vrnV+We4RneSdxm3EjfouMk6fbwQfrXAhoJIg66EiUVoROhD38MDwpYBkkBS/6+/vT8i/iw9jf5e/5HATwDOwiQDCQOfAv5BsYDb/1S9SLukugt55/mOufL6bTrCe8q8fHwFfFQ8FPw5O+v7qDwDvS2+P/9IwI0B8wLEw/GEWwT9xUyGGEYbhjJGPMY7BcwFRoSKw8KDMoIbQbfBVcGpQagBiMGqgRkAiv/w/oy9j3yau867tXuLPEO9Cb3ovoo/br+l/9n/7b+Lv1m+wf6dvjT92L4OPnN+l38k/3N/0ECJAQFBtwH2wj/B/oFsQPJAND9xvrU91f2BfUN9Lf0MPbk+Gz7z/wh/nj+YP5L/rL9nP02/UD99P6HAKUCkAUwCFIKRAsiDG0Nqg3WDK0LVgoQCG4E2QAD/nf7q/n7+K35ivtl/SH/BgFJAmQCbAHe/4X+KP3w+7D7+vzd/w8DHQZjCTwM7w2JDlYObA3PC3QJYAZTA/sA0/5h/S79OP3v/SAAnQLGBEQH9Ag0CWAIAwYOA9YAwP4s/Pv5zPg4+Jr3Yffd9/r48/mC+Tr4QPe69sv1m/RA9GT0O/XV9sX4mvvY/mkCkgVSB5EJ9gurDJQMVQwfDMQKigcMBIsAp/2V+wT6NPqw+8v81v0M/8j/DgCQ/1D+gfxA+lv4K/fh9gz41/nD+yj+iAADA80E2wWuBoIG5AUgBSQERwNEAoQBRgEDAbEBYQOPBQYIzAmDC+IMyAyxC+EJ/QeQBicEYwGq/3P+0v1c/Y79hP76/sn+t/0t/P36Wvkb9/j0FfPY8Wzxs/GU8rr0D/g2+2L+3wEoBRII3AlJCigKBwkBBh8Cqv7v+wP6N/kP+uv7Cf4dAIgBBgLeAQoBiv9n/c/6kfgF92H2rPa79435gPse/Z/+1v+HALsACwA6/6D+yf0R/Y78kPzB/Nv8WP20/i4BqQN1BU0H8QjHCe0JdQlFCTEJLgihBn4FFgXxBCcFmgUrBvYGNAd/BksFxwPXAZP/fPxE+e/2JfUH9KXzf/Tf9sz5kPx9/6kCdAX7BicH8wbeBT0DtP+c/HT6LPnL+IX5eft5/QL/EwDEAIMAZv8V/h78wvlR91H1afSM9Gf1qvZt+J/6TPy9/UD/0v+p/wH/X/4Q/p39Q/1N/dT9KP6B/tD/0AHAA+4ExwWBBtcGdQaGBeMEQwQQA8MB3QCaAKkA2wDZAVED/gQxBsIGGwfGBhkGaQT6Ac7/Uv0F+zz5Nvi/+D/6fvxT/0ECewVRCAoKngo9CusITgYvA50Ax/7g/cj9wf7aAA8D2QR8BmIHAwf1BQ0EqwEs/078rPnL9732lPbp9nj3y/hd+pv7gfw0/Wr9Av29/J/8XfwL/DH84PzF/a3+DgD/AQEEhAWSBsYHSQjAB/QGbgbbBe4EvQOLApwByABYALoAngG/AgAEEgWfBaIFcgWKBNoCpQAm/hb8Pvrs+NH4wvmd+/P9XgD/AqAFlgdQCPYHfwaHBI8BBP56/ff8IfyF/hsAuwGrBKoFjwbwBgUG8wSMAlYAIv6y+1H6APmF+Hb4jfh6+Vr6l/tX/FH8k/xH/ND7T/sN+0L7Y/sr/P/8vP0M/6AArAI5BBoFKwaeBmMGygVrBVsFdwQ4Az8CYAGqAP7/0/95AC4BCwItAzIEuASSBAQE2gItASH/4/w++xH6b/mU+Vj64PtT/ev+vgDRAXUCNgIaAdz/9P0k/C/7v/om+0P8AP4cAP4BrgMdBbEFgAXiBMsDTwJKACf+QfyX+pv5SflU+QX6C/vl+7v8S/14/VL9y/wT/H37Gfu6+vH6p/tE/C/9ov5rAOIB4gKOAwMEIQSaA+ECBwL1AJ//LP5B/bj8Qfx2/Bv9H/6c/8kApAFbAr0CnQIWAlMBowDO/xH/u/5Z/mX+4P6V/24ACAF/AcQBhAHJAJT/R/74/LD79vqv+jL7Z/zE/X7/RgHPAl8EmwUOBjcGHQY6BeUDTgJ3ANH+jv21/DL8I/ym/Dv9k/24/b39ff0C/an8V/z3+/D7QPyD/OL8qv0B/6IAIAJhA48EhAXSBb8FgAXgBOgDrQJZASsAJv9//nH+tf5F/xwArwAOATsBQwEyAXsA7P+l/23/rv/v/0IAsAAWAYsB4AEsAkECDQKuAfMA/P/x/u39Fv2h/N38mv2L/s//SAGbAvcDRwUYBq4G9gbbBpYG4gW3BE0D2QHKAP3/Q/8P/+j+Rf+o/03/Jf+d/uH9Sf2o/FD8BfzQ+x78oPwo/SH+nf8gASgCIQMuBBMFXAVLBTEFtQT1Ax0DYwKmAU4BLgEnAWABfAHWAfgB0AF6AewAdADf/1v/Ev8e/1T/j//p/1IAxwAJARQBAwGhADMAr//b/hP+Rf2Q/C78LvyT/Gz9Tv4t/4YAFgJ2A3sEZQUuBrUGwQaMBhgGNQU2BDMDiQLJAQQBmQAqAMD/TP/l/pj+Ev6a/U39rfw5/Af80fvP++P7Qvz8/OD9s/6S/5IAUAEJAnMCPQIGAtMBWQHWAHYALAD1/+H/xv/b/woA5v+T/wf/jP4S/mL99/zP/P38af2P/cv9OP60/i//bf+o/9H/oP8x/4z+s/37/Gr8L/w3/ED8w/x//T7+Lv9RAHYBZwIkA6UD8QPzA8gDcgP8AkMCZgHiAGwA6f9t//f+rf4r/oL9EP2p/GT8Hfz/++v7tvuO+2n7jvv1+4P8F/27/XD+Nf8UAPgArgEBAhoCTQJaAg8CLAJpAmMCWwJYAl8CRgL6AVUBfwCt/+L+G/6a/TX9Fv0s/R39ef3k/TT+jP6w/rH+vf7c/tv+gv7a/TP9wPyD/Hb8vPxl/e79cf6D/40AawEZAokC3wL2Au0CygKlAkMCkwH0AJsAQQDs/7T/a/8s/6f+4f1s/S395fyg/Ir8rPyo/In8nfyx/Mf8SP3X/Sb+gv4W/9r/eQDwADMBUwFtAVsBWQGdAekBTALJAgADKQM1Aw8DuQILAlcBgACC/8D+Sf4C/gL+DP5C/rP+8v46/1f/Uf9c/0L/MP8S/6b+cf5K/jD+fv7V/nT/KgALAdgBfAJKA8YDMwSYBKkEgwRCBOkDggMQA64CNwKxAUQB3gC7AM0AmABDAP7/p/+F/47/qv+8/57/XP8L/9D+w/7O/tP+z/4F/4P//v90AMcA3ADNAK8AUgAdAC8ASAC9ADkBrgEWApICEQP6AqECHgKDAd8AFgBq/xb/Hf8D/yb/tv8aAIwA0gDjABQBDQHLAFIAyv9J/7/+cf56/tn+b/9EADYB9wG6AnMD+wNrBJMEiwR6BHEEVwQABJUDUgP7Am8C4gE7AcsAbQDx/3v/J/8B/9H+0v4V/27/i/+W/5P/av9k/2T/Yv9l/2z/cP+p//3/AgDi/9j/qv9Q/yv/+/7d/hv/Vf+z/zIArwAfATABEQHMAEoA1f9J/63+W/4i/gf+Pf7l/rT/ZwAcAYQBnAGHAUIB3gBpANn/Of/P/qv+wv4E/2P/3f8kAG8A3gAmAVgBfwGYAW4BJAERAUABYQFGAS0BAgG9AHsAMwC6/zT/2P5v/hf+If5z/tr+UP/G/+D/0P/G/4//Xf8w/xD//f4g/2T/g/94/zX/yv4R/mb9+/yw/Hf8Sfxf/KD8Av17/er9U/5y/kP+6f1S/an8JvyU+x37//oq+5n7Qfxv/Wz+Cf+v/y4AVwAeAM//b/8Z/9r+oP51/t/+Xv+o/yIAegDIAO0A9ADzAN8A2wC2AJUAkAB+AGMALQDl/4f/Jv/D/mj+C/6Y/Vv9Xv2f/fn9Yf7o/lT/lv/8/2EAdABzAI0AtwDJAO0AHwFFAWwBaQEtAaoALwCi/w3/t/5e/mj+uP4O/3//9P9SAI4AgwADAHL/uf73/XH98/yI/HL8xfxU/dz9U/7Q/jj/lf+m/7b/jf8p/+r+qf7A/vL+Xv/2/2AAuQD9ADoBgwGoAaoBqgGpAbcBngGmAcIBwgGbAWwBLwHKAH0ATQAnALf/Y/9G/xP/B/8+/6v/+v8WAEkAgQCpAOQAEwFGAXQBlAHHAQICFwIGAusBuAGHAUMBGwH5AMkA5AAMAVABwAEaAjsCRAIoAtMBbgHxAGcAyf88/9H+o/64/vf+hv8wALYAIwFaAWEBVwEdAe8ArQBdAFQAUACVAAABWAGKAacBGwI9AvYBIwJCAioCTAItAiECMQIKAs8BmQFnAR8B3QCqAIsAYQBaAFMASAB9AJQAowDFAOMA6ADUAMIAqwC1AOgAJgFZAYUBmgGNAWkBHQHbAMQAnwCDAKcAvADVAAYBWQHYATgCcgJUAhECuwE/Aa4AFQCg/0T/Jv9J/5v/6/9MAKwA4gA2AWEBawF1AUAB/QC6AHYAKQAJAC4AKwA7AGMAjwDeAPMA1ADhAPUAEwEwASoBNQExAQ8BvABjAP7/jP8+/xP/6v6l/pH+lf6V/nT+Tv5d/m3+Pf7z/eb9w/28/eL96v0e/mH+v/4M/xf/Ov9F/yf//P74/gn/D/9J/6z/IQCTAN4AFQEhAQcByABAALX/MP/M/nv+DP7G/ab9v/3r/TD+eP6V/t/+PP9w/5z/v/+1/7f/nP9h/1f/WP9J/23/of+l/7//o/+l/87/u//I/9T/t/+e/7r/uv+N/2j/Xv8F/5T+df5e/jP+9/0g/jD+H/4u/iP+I/4D/sT9kP2X/YL9hP2d/bX93f3Q/dD9oP1H/eb8vPy6/M78Gv1I/cf9Zv7l/o//MgDIACsBLgEfAcIA5f8i/73+Rf62/Vr9B/3u/C39ff3b/Vj+oP6v/sv+B/9m/1v/N/9d/3v/sP/h/y4AfgCVAMoAEAEyAU8BaQGHAaQBrwHBAdgBBALtAZQBTwHZAGYA/f+L/1L/NP9A/1//gf+o/7n/5f8AAO3/vf+v/8j/yf/w/xwAEADu/9X/rP+U/3L/Qf8v/+b+w/7y/l//6v99ABwBfAEAAoMCyALzAsMCUQK3ASAByQB3AAsAlf8c//7+J/9l/3n/c/+///D/+/8WAC0ALAAjAA4A5v/a/+v/GABQAIIAwwAVAYMBugHkAWgC3gLzAvcCGQMEA/UCugJsAjMCvgGFAUcB0AB3ADYA+v/0/w8AMABxAJwAugDXAMoA5gDaAJEAnADOAPwA1ACRAG8ASwASANf/0//M//f/PwCPABYBlgH8AW0C5gJFA3IDYQMXA9ECgQLnAWMBAQGGAC4ADgABAFoAuQDtAE4BZgFWATcBEQHjAIgANwAVACEAGAAbAGkAvADUAAABUgGjAcgB7wE1AmECnALGAvMC5QKXAkYC0AFzAfAAUAAAALH/Nv8M/wX/+P4D/w3/Kv8P//f+Av8l/1X/l//g/9z/4f/y/8X/h/9P/+/+oP5l/lP+ZP56/r7+A/+J/z4A6wBtAfwBggKBAi0CpwEaAZQAFQCv/1H//v7K/qX+o/7V/vT+5v7n/t/+wP6T/lf+Lv4O/iX+Jf4i/h/+FP45/iD+Hf4r/if+Rv5r/sz+Y//q/0wAvwAfAQ8BzAB0ANT/T//v/oT+Y/5Y/h7+KP43/jD+a/5i/mv+gv6X/rz+zf7n/sP+1f4B/wf///7Q/qT+lP5Y/hL+/P31/dr9uP3m/Tj+mv7y/on/RgCzAPoA/QC4AGIAJQDm/6D/dP9K/wb/1P7I/pP+Vv4u/iD+Hf75/Sr+g/7B/vf+JP85/w7/4v7r/uL+0f4F/yL/MP9j/67/BABnALoA1AAhAVoBOgEyARQBwABCAK7/Yv/l/lz+Ff7s/RD+MP5c/kr+ZP6m/pr+yf4A/yP/RP+U/8v/4/8NABsAHwDL/4j/cv8Z//z+5f6y/s7+J/9///D/cgDfAEIBewGtAYYBMgEcAfgAzACYAE4ALgAfANn/pv9//1b/T/9n/5L/wf+c/17/VP9H/2r/hf+R/6f/2//z/9n/7v/X/5//xf9FAKsA+gB8ATkC0wJWA6QDiQNFA7sCQALeAXkBCgGoALAAqgCDAJsAhgCfAO8ADwFMAUMBMAFMAUIBagGmAWMBJwEgAdIAawAHAMz/ef9X/6T/tv/p/30A5AA2AWYBWQF6AbAB1gHPAcwB0QHnAc4BiAF1ATsBNwE+ARMB9wAOAQMB0AC0AHkAfACzAPwAKAH8AOAAAgHYAH0APAAHAOv/tf+g/8n/BQCLAEABugEVAkMCCAIGAiUCqAFBAQ8BvgBzAE8AfgCLAG4AdAB+AJUApQCgALoA2QAPARgBCQEtAVgBbwFoAXEBNQELAcgARwDk/2b/LP83/z7/Mf92/9D/GgB7AKkAxwDYAOkACgEDAd0ABgEPAboAlwB1ADUABgDH/6b/nv9y/1P/Gf8n/3L/gf+e/7r/xv/J/87/ev9C/zD/6/7k/sX+//4//0v/vf8rAJAAzgCcAFUAGAC2/1X/If/t/qz+vP7a/sv+tf60/rz+3/76/u7+Nv+H/6b/yP8NADkAMgAbAOb/1//B/23/Ev/C/nj+P/4l/vv9/f1H/jb+Nf5v/pr+3v79/i7/Sv9N/03/Jf8y/0j/Gv/k/sv+q/5//g/+tP2o/Xv9e/2i/Z/9xf0l/oD+qP67/gT/DP+k/lP+Mv4B/rP9pf3a/SH+WP6O/vX+Zv++/wEAJwAdABkA2v9l/1j/L//1/uD+nv6s/qv+dv5h/mL+Zv5J/qn+G/9f/9b/8v/8/yEAGgA9ACQA7P+1/3T/h/98/zr/tP7H/if/Kv9m/3j/Wf96/9H/3f/Q/9L/9v8wAGwAewBSADwA/P/E/5r/X/8V/8b+mv6p/qH+w/4b/1H/qf8IAFUASgAiAMj/cv9S/wb///7u/vz+Yv/F/3AAEQGWAR4CMgLiAYYBSgH9AIEAHwARAPz/zv8LAHYAqQDMAO8A6AC0AG4AJQAJADsAcwDKAEcBpwHPAagBcAFGAfMATwDX/1j/vP6s/rf+xP7S/rr+6f5f//b/UgBOAF0AggCCAGYAWwBfAIwAtwCIAHgAhwA1ABIAWgBoAGwAdQB/AH4ATgB3AMQA3wARASwB3QCtAEoAr/+P/2b/Wv92/6H/QwAZAbkBVQLPAvkC1AJZAhsC3wGAAUQBXQG3AdEB6wH1AeIB7gHuAb4BjQFQAUEBfwGuASECgAL1AlsDFwMYAyIDtAJMAssBNwGYAMv/Z/8b/83+xP6f/tv+B/8s/9X/HADr/9r/3v/S//L/DAABAA0ATQBpAEkAgACxAGYAVABLADwAPgBpAK0A1gAPAeIAswBuADkA0v9G/+7+ff5Z/kv+av5u/rH+Xf/Z/zEAoAABAUQBaAESAbcAjABiAGQAnwDZAO0A1gDSAP0AAQGtAE8ASgBYAKMA7AABAVABYgFyAZkBgQF4ARYBiAAdAKX/ZP9G/0D/Ff8I/y7/O/9u/5//rP+I/3//of/C//P/EAADABMAVwAyAAQAuP9H/1f/Wf9+/1H/DP9M/27/xP/6/wwAMQAfALr/aP85/83+hv4a/t790f13/Tr9af0B/lb+pf4T/0T/fP+s/4n/X/9i/03/Wf+T/6T/oP+c/9P/+P/n/9X/m/+Q/5L/rf/r/+b/1f/s/8n/a/8s//T+jP5C/gb+v/3v/e79oP06/dX86vzy/PT8Gv37/Mn8pvy8/Bf9Q/2F/Qz+V/7A/ij/T//T/wgAIAAnAEsAmQCbAOcA4QDfABwBSgESAfMAIgHJAGgAJgD0/+P/0P+i/5v/q//y/0IAVwBhAHAAqwCsAIoAYABfAJQAcQBLAF4AcwBUADAAPQAiAPP/FwAqABYARQBjAJoA/wAqAXoB3QHMAZcBdgFrAVABBQGhADcA2P+A/zT/Bf/Q/qr+nP6T/p7+Y/5s/rb+Bf85/yz/W/+V/+X/FQA3AGgAjgDSABQBDQHgALMAWAAiAFwAkABwAJsA1wDWALEAvACuAJkApgBDAGcAiQB1AK4AuADBALEAtgDSAHYAQgBTAO3/2f8uADIADAAiADkAZAC4AOcALwFQATUBCQHZAJMAXABqAI8AsgDrAGwBiQFBAUMBDAF6ADYAVABnACgAEwD0/73/wv91/0H/E//z/t7+sv7j/hD/Y/8CAE0AgwDjAMoA8wAfAeYA1QDBAMIAzQDuABcBdQGtAdIB9wH+AQ4C1AG8ATsB3AABAQIBrQDNADkANgBVAcL9GAJ+Bw3/AgKYAOD5MQUIAlP9KQK//Y7+j/89/Xn9uP3Q/zcAjQGaAe4ANgHc90P+WwhJ/l0D0gYG/7YDLgSp/2r/Ev8L/8f9nP/k//j9hgDp/Sb+IP/9+0n+JfwG+vn9Uv4Y/dD/iv5h/i4AQfwJ/0//Tf9gAZL+/QG6/xcB4wIQ/YUB5v+j/vQBFgDLANX/WwAg/vr+ugIm/sn+CgGq/2L//QAv/zf9dgJ4/8P9/ALa/zb+T/+M/q3/FgBF/pD+JwDV/+n+qf/EARr/Df5FAZ7/d/yXASMExfgpAZAIcfk7BE0EQ/dWBDECxvy+ATgAJwH5/C7/4ANw+1j94wIh/rv/3gF5/YYBBAIL/TQBqwJfAgT/WwEXA637QQcXA8D5OgaTAUj/3gEqAvUBuPrIBj0HOfbYBSsHjvMpBRoD+/LgCIv/svYzDFQAVfdFBZUGkffz+ewG7vlS+MgGC/5/9d0HTwKN848Hdf0v/z4F4PFWCmr+FPhuD2f1VP+NBBj7CQd++W0DIwFr+r8H6PnuAQAFvveXAg4Jg/cx+agTv+/t98Qa1eRbBIYVaOh1ChYAXvsVCuX3BAcl+6kAmggD99cJ6/6B/pgLN/wUAqkEPwM1/rH9Xwv+A4n3VP4eD8P2E/i7F8btnvuHFMTtPAboAiD2PhAs+c33jwgY/AX5AQIIB071v/y0Ey/udfrVF2DlyQZ4Erngqg2MBkD1eggM+9wFoPYXBmsLYujLDYMEqfSJCG/4rgj1AD/vaww/BZT25f7i/CkIcfzQ8w8UY+l/7+MoFuHG9J4mCeMi/cgTGOxL/xoJBP/M+5f44Qy/B4rwsAKBAnv/7/7J9EwLffcR+MEP9u27Ay4IPuntCk/71/VODGHs5wXmDHn0iv/K+/YJEfHL+FMW5ubj/b4W5e0E+G4OxvPO/gsIJu96Ciz8p/a6CQL6UgfT9dL9WA9Z9ZX/qwfY+X/8DggzAO/4sP4wCmD3VfzIEKLoOQWuFQjktQRjFCPpx/wDHiLrNvBJJmPs6/OUHnjrSPtrF2n1BfK6G1D2s++dKeDiH/WsLaXhj/clIyjo8v2bFDfuE/rw/6ISx/Az9M0e5vIG+RcMxwen8n761RLJ9bXzPxvGAM3doReGDrrsOQvvCebxfgEZCKv3nwHbAgUFZPlPCM4EPfKuDUn4APhlFEf9m/BqEm4B6fKxDDP9IwKnAYj57gnH+UT2dBKs8cPy9xuJ89vwBQ9f/+fxKgYjCDruOwdPDiDs/wAVFZPztvYeE1YAn/C6CwIF5+roEu4N5eMOCrgN/vKLA/v8T/64Ar32/guR/w7yOxK3BRr1yP/gAm8EYfg3+4MPD/0K+IALPwE6/sr8cgaqBw3xXgQBEeX0i/gYD1j/jPt1BgT/rACOAZv8mQbBBQb6IgMHBDP+gwLHAp/5SgRaCOD2PAr3B/b20ASTBLj+TP58+23+gAhh/dv3fg1H/AD1/hGc+1H0vgtl/9z+sQLQ/OkE6gNV+f/+DwlZAGX8QAHa+zEAmwaH/Pn2ZwVJBR/0jgJVD8T0VvFbFhoFE+k2B6wMevVi+P0PCAAm7WEItQHK8FQG4QYz+r74cwn8C/TpYQdBEd7r3wLjDNf74fNMA2ALnPTeADMRL/G99xsRJPeI9WYGfgXd97TyAQ9PCuTjdgUzGAzh5vyzHC7puO8WGtj60e8DC4r8Jvx3+5MBAQ/z8cH4shGb9dD2chRF+KLvABPu+qftthYr/NHuORfk+7PvNBNsA+LxkA5NAxDsKAgWA8L0TgIG+scBJgVZ8UUA/gwg9uP1SQs9BCv7GfymA7MHyPYL/zkNI/sv+uoGDANR/N33EgoCBVTpigkRGZ/n/eyeGqAB2OxvB/EMeO7t97MYEO4A7ooWNPsz7scGzQr++XnxrP90CDv7jPZ2A+QEgOuxBecTY+Ru/VMYH/hx8b4GTwaU8mP6LxRI9t3p2x7m+jnmjRfn9yL2Kw316tUIMBB/4i8FGhBd8vf+VQ5x+7zxyQ7aAurvSBAjA+HnGg6JEI/1i/1g/uIGjQSx994B8wF0BGAAUP43Brb7Zwe4ACnwzQWaCOMBg/VP/cEQqfaVBi0Kr+k8EMEEevGZCPr0twvJC+zuRQ5c/IfzWCE38Q7j3iFyA87gSAuIIVrxmeq/GPQEnvCUEDQF1O7ICQkKVPLy/KwRrf2q8ksLgBEy/rj1uQ3HA5L4kAut/Bz2VglKDML+GfVJAzsLcPoR+hgBjwFo+3UCIgdb88j+CQ88AsXt0v+EFf7vfvSoHJ35KOEeEt4VfegF97cc4vpS4MIP3hZX6wb6Aw9M9Z/6JAuE/+D0ZwS2C2H2vv46/jf6/woy/CD8EAMKANgFp/AZ+Qges/yr4owRhAhA7k8M+/ux70MKNQzA+cvupA1FB1vkQgs8DNTw4hFABsTqjwAmEd38HPW0/7YGJRO96BzpVSDmBKvlVQWqET3uZO5DFt8Pu+Jh9S8f3Pvo5/oYLwWl3wkbagyD36ERsxfo5pX8UxLu6VQK0xRt4aX8ExeDBpH3gPTfA4MK4/+C/dL+HfJsBIIcZe3S7bEdUfjK7FwUmwb45/MAyRZo8M3vqAvoCLv0yPbPG9T3OeOnH0wL6dmjBHMj0Oxf8MYZP/5V9f0IgwB38wAHfgnB9GL8xQVxAuLznARgGD7oD/vqIyrmBu4zHvT+AOfLBdMUofW382YBzRGu++njFB41Cv7ebAShByUDdfwo8poMuQtE8Jj6pgzW8fv3Qxae9FbswAz2EaX5sOhJD60OOeWDC/wOueFPB1wYm+1r++ASiPe9BboE8+UgFZgUNeJV//IaOfqH8AsNZgzz7+z4phdo/53wWwliCEf/Dfic/uYLIvQGAJ0Z2OgH9cwZePVP9bAHMAMF/dEA3QB09y4EMAeC9fT9JQtf+bX9JQOS/MAHbPQQ/6IQnPRg+zALOAEU+XAJYAPx6aUEYQ148+/7FQiIA/X4Yv+kBvbxSQdPDQHv9QHUADH3Igi8/QP1uAvVBSPzYvpICG0Qc+yk9NQc0/s06XYNdhVA7GD6HBV29k34UAtm/ZvvbwnNDvftb/6ID0b7+PdPAO8LT/228boM0P4B9rgJnf5Q+oz91gOKA5X0dvhyCo8DhPBkBrgNSPFM+YMNMf20/w4Onu0z+FMbkfm66GgOYwrj8PwDOwCo8xYCngyDBArmBPpRH1b6pd48CBEVr/Kh8mcCg/5gBccEwezm/6UPdPdC+AkA+gXP/Cj2qQ7xBwbsSv+gGpT3uurEEQUD2fBACmMJK/g47ioHdB7w7n/slxTwBqbylQAWCDDwdgnuDH7mVQHOEFcCvvc09S0DcAmO+TH48wuk92D+ghBl8R4ACRGw+Lj5AAcsAiH0tgMXEPP11/oiCv/+ef5LBz/+u+8mBHgNlAQI9NbwrhdfBLzyNgndAuz8rPWUAfwDef7ICWr1v/d6C6ICXghJ/Hv3NgoE/RgHiQNy8xoP7gQp74r9Sgvg/B37DAkx93MDPQZ0/dQNfvW0+ToGNgB9FG33fufYCj8KaQQX94nyMxFzCBTx+f2LBXP8Nw8+ArLpogxsEd4A/PUk/UwHo/pTBkMAPvofDscHO+8p/ngW/fxK9Lz8SgaYF1L3jfGuEesA+QiKB1vvAwg3BDn8YQRD9SoDxBcZ+oDkKQw+Eszo8P4VF6vtX+rTHycNTd89AFcdgwgO4hr4pS2W+Bzcdhnx/8jxoR83/tfmwgifB9b4MQ0GAY7w/BG5Al7r7QAgEK//AOljABEKowJn/Qr5qP/B9goU+g1K0Jf8kDLY97LWcwkGHHrwGfG+CPoAwwbN+JH/5QuR6pcAOBJ95BoE5jGN3q3XbzAYEOLd5vxWDST5bf7kDtr1iuo0FaQIfeb6CWADYfrvA6HmZhMSGOHSfgteI1PbevtbIq70g+4oBQf52wRDDR3rtvzXGDLypfa5Fp73aO72DNMKzvj79LX+aQ/nBPTzgfMsAswOkfBS8JARdwUd+lL4afgTFn0A++xbEuH3NPCKFOoBP+zb8tQTeA2E4jP4dBYk+13vhAhk/pD3ngnxBI/6mvc4A+kIyfWB9mj/VgHYBaDzE/9FAuUCEA3Q4W/+LRoy6jX6Vg3G9+n7DgYvCBP1s/QLCO37ogSHBgr1DflHASUEZvsI/SQERPmk+XAKAgPz617+3hQB9vnnYgfvFUP4ou/4Bgb4hvbtAJIC0ATR9EkAfACO928Kd/049rECzvq9AkH7/fsMBQb48wT5+yP7OxFD+m3tNwfJCiD7yvlEAbP9Qf91CTv+ugGcA/TzWwgWEDjyp/nZDG35OP6YDoT2Tvj8DaP93/NRCAwOUvi+9D8CMAUq+VbzohI3CZjjpAkeGFnyWvPs+/UMBg5p85v5sQtdC6r2YPSCC7IGEves/G0Ez/49+p4Lvv/o6jAG5wvG+Nb6YgUrBp//jwaK//n2/w2N/Qnv1xEmCvn2xwesCDMA8/et/KkSVQDw8UIQhPt66VIjnA6q1dwIfhje64AKPQ+n8IIISv2i9RkVugPr+bQF8fjKAsANFAK+99v5YQk7AhwBfwhO/m0H5AA8+JMFUviUBVwZru8I87YSYASm/kUECATc/HwFuQvB+rX3dgXsA+oAmACMAd0J3Py39rUIGApD8ioCsg9h9N71ggrlCwL8FveY/0ALhwAF9vYGdxAi+Y3y+QnLAT39jAzF/TzobQ5nF0z1QAI3BMz4pQkMDXfyVvl2F1sKM+yFAzkM8fWXCskDEukKAqoatv0r5nb7aBG+/BHy8Q7FAyT0dQCLA1QB3PmS/1QIrfmS+OcLawoK9k/uRg60EC/0SP0TBx4CnPwwDD8KF/Bb/MgVTQEI7VP/VQWtBo8Eau6i/S4eHvlQ5n8DaQhZA0P79P3OB/0Dk/V1/yEK8fqo+wYHSwaM8pH2cxbKBg7qev17EPwK9e7f8OcYNv0p6RYIoAPZ+YsFfPe+8rcRYf3z6CQEFwP99JgBewDZ9fn7LgWlAxv5vPSp/0oRWfiZ8XYMMgGq+9D95/aU/wYFqQSh/w/3SPjj+6IN1AHn6C8KPhBo5OH0bBWbAWf2YffH+HEC+/0s/vQDJfWH9RMDFQj2/4b1FgHSA1j/dPW+/FgP0Pc19A0MUP8s9FwHdQUY64b26RZs+v/xyQ8c+nH8XAwH9aj3ZQ12/FT5xADv9sMFkQK37mj90gwC+hn2MQGO/8T89vr8/0z/OfjqA2UBNO5uBpIK+/kVBAz4lu+kBlwTJfl179UI8QQc+4MEJwGw+gsB6wnX+Vrx3glDCT/70Pvf/4kBAwHzBeL3ifCJC70Jq/D7+cQP2AJG9EkBIfzi+14LXgH19C7+awRo/xQBvf339OsCoAo/+VD5qwdyCi38MP1uCIQA9AL4Cfj/7PvM+13+cA8EBgjw2QBEClD27v4/Bcb7jQJVAsL8fv0vBAcAF/t1BDEBPfxhBbEBewEi/4T4EATSCLUBP/2eAvr60//wD/j75vdBC1wC+gBaB675cQCaD9P/cvTPC+YM2gAAALL51gZODJ4CMwBV+9sB9g6FARf6CASXBgsFOvpp+okNUAx4+O35jgFDBFAF6AI6/+L7mwKgA/X/TwDcAtb/Ff7WAo7+FAJTAkT7DgIlAXoE6AZp83n+JQzM+EoAZwk6/KYBKQXg9AYE5xTe9f70hwxyAtr8AQYTAsb4VP4fCUYFEPfn/M8NIwBM8rwEtwyh/tv5IwBWBA4CjgOoAYb8cgGm/d3+Igcm/Vz70QjhBKz6BACZB70Fvvh0+aMGEwO5/Wn/0AG0BdoA9vk6Cd8I4+5B+NsOIwQi9VD9awUsAAv5Wv2RASz+IQN+/hv0Vv8zCmf7OPUbACr/Tf8/BnT8mfMtA5AG7/3h/Kb+igMZArD6KPW3/xoMcvyA8wYBgwGO/jP+P/pl+vT7FAFM//r3gAAfA6v5Rf4+/h/63v86AWP+U/4VA1EEAgPiCKMFv/x4A7UJBwdQBVANkQx9A2gLhAoXAygIIApwAZkDaQkT/w8EVwxV/pv5QQK3BaEA4PVx9+X6G/en9L71VfuQ9VLw0/GD8KPxMPFP76nsress7v/xjfBe6UfrtfQ39f/rKO7T97n0YvHs94T+CwJc/j78AgWFBBID9Q2yD90Kqg2PE3cXHhUhE40WHBnJG5EZRhj1G78WvhUxFyQWAhjIDHsFSAo+EfkP8AJu/u7/MgKP+jzo4erU/P39FfM35VXmufNK8EvoXt+L3RfyI/ua5ADe1+6m81LsQuMq6Sv1XvHy5X/oFvOB8xbyLPJs8NnyEPfH+NH1I/Tj+9j/kP3rAKcFeAaqBfMGZQuVDSQSpBrQGXkYxR2sHt8bgRh/HN4mdChdIScdNR7aHvQcZhzHGSoZwxkwEhUP/ArbB7YFPf+WAFsBA/un9AX1HPHi7GbqFuLs5CjzjvYw60Xg8+Rf8uPww+hR5QLrRfY69ZztuO7y9pn5FfRj8Pf3Z/5w9ifxvfO99eT5X/gu8yX3y/rN9Ezzc/Y49W32S/sN/8P8Bvvp/u8BcgCcApsNaxKEDE4JlRI/HQAccxshIeod0hlCISEj4x0wH0EjdCPyH6wb6hnBGNQVjROZD/EMwQw3BuH+5/1K/E37jvwm9Fruye4E517hq+IZ7En2EO+45F3o7uxE76br8eML6kD2s/oe9/Pw//Fy+rT6YvGw8XL/xAAm9rryuPJf+aH6RvT38hHzVfdT+FjyJe9S8r/3Kvkb+LH5ZvzE/q3/oABrBlEMgBDpEQEV2hw2IZMcgRh6I5Mtsit2KLkmwSaLKOMnlyV/I/0iUCPAH8UYwRAlEG8QNQiVA/EBxfsJ+Cz07u8k7cbrS+tX3zLX992Y53PqIOUN4PzjCur544/blt+k7uz1lPCG6NHvzvzm9gDvY/Hr+igA4fqy8w3yK/aK+vT1Q/EK9oD5uvdZ7l/pl/DL95H2rPF58sT4Qf4B/QX9qwO0B+QJIw92EgIXiB25HLAaKCHlKSYvtS7LKVQonCskL4crQSeRJl8klyS4IekZUxLmDe8N/gpWARP7bvjB89nu8Oip5wrqyuC50ajV3OG75kLm1d5Q29DhaeUm3RrZvePb84b4ju5T6uzyc/h58RvttfYfAUL/e/Um7uXxMvmX96jzivMV9Wf2ZvGN573oKfOH9lz0TPM59VD6DPzP+Z/6PwJjDlsZxRtrFkQRyxQRIbopQC1TMBkyDTCoLVgunzGRMmguOCxxLGkqXyJEGfURWw4gEpMQVAUF+KPuHe3Y7njrCORP4fjZNc5xz6HXut4I4aLZndc433/d7dW71/LiiOxG8XLxs+6y8RbymO6T8Eb49v5U/sT30/DD8mz5ifp6+Mv4mfnh9Yrvzew88Wb1pfXv9bv2wfqC/Hv6lvpNAS4MKxH8EkgZ6B22HDUcPCJFMPc2RjNSMbwz/zYlN141ejMQNAsyQi7KLNUoMyK+F5YRjRI5DqcGmvyl8qDucO656qDktN4r09bLl8/A2nrhHt771QDUftl22CTTDdiz41Prx+/C75vxC/ON7srrAPJl/D8CUf9g9HLu4vNm+9X7Q/r6+X76l/Vq7T7t3PIq9yP4F/md+3n9avxf+uf8rQj6Dk8QChn5IFUe3haRG2gqYzc7Olg12jDXMmc5Hz06Oi81GDRFM2Qx9CtCJf8eABd+EG0P1g3ZA/T03OkY6Frrtudo33fYBso1xMbM2NiJ4Yjb69AL0PnVn9Wa1JPaReMT6wzyH/OQ727vLPDj8e32xABqBPj/kvbL7YnzRfwt/vL+lvxE+Mjzpe8D8WLzcvUb+XX8a/94/dv6rfwoAEMJnxMZGDAa5RvOHeMf7yKIKUg1jj1kN7MvLDJpN3E6Qzn+NFoyszFuLtMn6SHnHDsUzQ7CCxsFbf3C8hvoKONh5Evixt7B0EHAIsJMzKXar95e1HHL8MwM0DPQJtNp2pTknuqY7KDsEPCP7xDq3OwZ+NgCRgS2+rHvXu+H9sz9UACl/Lr52fjl87vucfAT9U74z/rd/B/+mvyZ+X36egIXDawU5RYNF6oa4RxpHwgmbjGYO+A6YjXlMXU0YDuiPM04aTYPNWwxuSsPJ0ci8RpxE2APtwrfA5b48OtH5Z7l9uYo49vZ5sUUvbHDl9B23rfcONLDyYjIx8so0wHYldwH5Z/rAO7k7vbtmOjK6Ybx2v1cBHwAcvYf7cruP/Z5/wAEQv5X973yKO/98U/0ofWN+Rj8XP6g/a36u/ucAgcLdg86FP0ZmR2sHbgbvSEGLro4tDt+ODc2KTX6NwI82zyFPNc47DF1LPQqzygHIuQXRxAtDNEGVf9O9E3qe+M44qPe4Nqn0tDAJbvSwPDQrd592ozKQMBuw2LNItaN2D7cO+Tp7GDu1e336mjpge739w0DLgbXAUT3B/EO9gf+hAZKCmIBt/ge9ffzY/YK+Sb+HQPtAwkC8/4r/94CRQeHEFMavCH6IAQZRhYZIH4uXTc3PT08RzidNV81ZjlMPuE/ejxiN48wLykfJpMiuRwsF+gRkQuiA0f38ekk48rhSuR54dHaHMhatsC33cbp3VPjdtPXwuDBjcjY0bHXFNxY5f3t/fII8Hztres67eDyLf/UCd8Im/1E707uFfllBvMLlAVY+9/0EPJJ9Nv3xfql/aL+zf+6/+z9Pvxq/0EK8BYzHaIb7xZ4F1YduSRSLlE5s0CgO5kxkC/MN0JAMUCKPFk3qDMJLgQpUiQUH3YcqhZ6D0IGR/za8LXp8eQW5E7jBN5/0nq91rYlvprSu+TT4NjNbb9rwOTJCtWC2bHfCOkk8RfwxurV5mbol+9W+JwCEQatAF/z4+g17aj8Swh3CU3/3/Ww7/HtyfKs+GD9oP69/3f/Mf7R/EcAnwiBEekV9hsbIjEg1xk5GVEmNjmeRxFF1DebL2gzEj7lQYg/Zzx4OG0y0SpeJR0j0iBhGR0PrwiXA0X3seiS4CTdCd8x3dXWd8ictPKtwbYX0J/iY9m3wp63m71myQLTa9eG37/pBvCZ7RXo8+a763jzR/pzA3kIdANa9EvqefCI/78MyA0XApj0X+2G7pb2Uf3A/18BtwFv/iH7Pf3+AYwLmhU7GBob/R3HHYMbxh03KEY6M0j/QnE1XS3xMNc7S0KvQTI+4zfKLGcjbSKkJVgjpxdkCh0Cb/5D9ofpyN432g7fZt681r3FkbCYq7660db85t/cUcWBun2/sctU1sHcr+Zp75/zze436lXsZvEX9zf/Fgh+C2YFR/SK6wf1NAUiDgsMGQK59VfuUO5B9B78twECA8YBqPyM9lr6OARiEDsWKBPBFiQesSAiHbkefitjPR1GokCBN8syHTejPVdBXEGPPtw2qSyMJQ4krCWgIkQW5gZR/4T99/UM6OHdANqT3CXZS9HJwtGwX6+mvdbTy97D1cjCdrrEvbjIwNTh3azmRuvp7a7sKu3l7afwyPVk/nMINgzeA8rz9u0g9/4G8g+sDOABG/iO8a7w+vU6/kQGhAckApv80/vj/14EARC/HOIfYx3SF6QZgSKHKUYv7znXQ2lFJT24MeswITw+RXZEzz2lMzsqxCL9IKwiXiFuGFgJZvzu9JzvJ+mx4CLYC9gY1yvSLMULsQmtP7o00jfh8tgOxWe7i74TyBnW6ODW6QjuLu9Y7bPtevB09Ef6vAFoCqwMegWU9kjyvPzCCQYQrg3TBN/6OPPu8Dr3hf/aBK8EygCm+ob4Df8mCBsQOhKZEGoVpB1vIY0eAR2vJjE4MkTLQaA3izE/M0Y6skDOQgw+SjP2KMciFSR6JuIi9RWBBeX7dvor9vzpwt2p1uPYo9gR01/EIrA2rUa8P9LQ3cbVFsbkvia/DsUe0rPgU+0J8GPsCOso7sbyk/XA+T0DiQuRCv4Dqfkc9oX8TASSC2gOkAfT+qHv6+1P94MAOQR1AwEBDf1S+8j/AAP9BgYTaR81I6UdqBaKGbQlwy8LNpo+tkKePVIzLC3mNJpCDUY9O04uxid9I/kgKh8TGy4VYQvi/Yvzb+xw5QfgBNru1XrS3M84x2ezv6s8t53Mntv41DzDir1Qwj3Gfs732UPoifCb7nzpFer88Kz0Pfa//fYIlwwKBxT5J/Tm/eoGjAvLC7gG5v8t+GTx8fRI/owF0QVMAUz+E/2L/nMDLwxUFJIYHhmPGhkeYSEoJq0qbC9PNxc+Sj6pOD8xSjIBOl0/7Dz7MOwmpyJ4ItgiSB2yEHMFa/3i90X0Yuwk4x7a6tMY0ezQ1sunummuerTIyE7a/tePx3S+GMJFxwPOWdl36IHyoPDi6ofrEPRn+mT8wQCNCCQNUQo3AgP8Tf/rB2IOVhCIDesGfP3Z9pb4oAA4CMgJewWd/3/8lf7lBiwP2BFcEh4VrhvBIi8k0CAyIlIs5jjtP0Y+HzhhMv0y1DcnPEY9xjQcKmwjqSF5IrIe/xIDBh//gfpS9jnu++Po2LfSHdHCz7bN9L0vsdC0j8U81+jXCsmhvRTADMZ/0MPbueh774DtFeyf72r4Ivr9+UX/TAqBD78L9QMx/2gC8AVpDHwSzhBlB4z7RfWe+XwC+QjjC6QG9P7n+tD+JgotEdsRbRBoFGodjCK4Hx0dxCL7Lrw6wzwfN1ExYS/sMRE4yTtxOU8woyahIBkgyyKMHUwSGwbg/O/48fWR7Zvjodln01/SUtHlyta3MK9iufnLGdpa073EOr8iwCfDhs2z2jnoBe276KzmL+vA9Ef3kvfC/GEF8QmDB8v/rfylAnAHRg1cEcUMIATz+Z71NvsRAjYIiQnIBXUAJvwlAJALzhE1Ex4SyhPAHP4ejR2CIM8pqTOyNtA0HDUYN5wz2TFHNcQ7xTpuLr4kvyCnIbwh2BrNEOAF9/rd9ZfyQOzt5KDZG9S00DrNZcdutpevsroOzJXXNNGtwi7A4sNuxlPO99t86gHwyuuC6G3u6PiZ+8P6mADtCdIMNgfj/hX+mwedC5sMEw8SDvYI2/xv9fj6OwXpCm8IMALkASUBPP+sBEgPwhrYGsER7A9kGvAlpCiuJlsqITTJOpU5jTMRLw4xjDdYO1o3jivQI6UgECDrHwIbghNPB5b5pPIx8lXv5OYN2l7TDdEN0I3JVrhasyq9NM5x2D7Re8VGw5fG/cf1zSjcx+sL8e3s8+a36z73QvyA/XMBHAg/ClQHKQAW/9EFcwpADZcO6wtTBu799/id+zYBYQlfC+MHagK9/UT+PAW/EDEcvB7iE2wNQBTsJLYunCqqJ1QvuTYhNm0xbS79NCE5ADgmM8krMiabH70c4h1xHFEV+QY69/3w0e/R7V3nw9uB06nOFs0myWm6CrDht5zL8dlv02bBErymxILL29D72nTnTe8O7m7pEu179kr7x/zAAQAKbA3eCJ0AUv+qCC4QDhDUDCoKegeSAZL7IPtvAHgGZgkGCCEEHwD5/3IHZRA3FCQUShR4F1QcGh77Ibgosy53M70yXDLsMhkyKzM5Ntw4UTZrLCIjRSC/IG4hyhrDDzcFh/sG9pLykO2B5YLbndGvzP7KlckHwCCyKLJfv23Ra9Y/yZa9yr/uxpTOTddN4hHvg/Lb7lzt2fTt/dgA2QFEB8sNHA93Ci8DsARoCzMQhROvEcAK1gLV/Ij8LgHMBkwJogcAAvj8kf5tBi4NxQ2rDJsOShb4G0scrR0GJN0qay/ZMJMyNjanMwUwgDEuN7I5UjIhJyQhhCBvIbYeaxWqCCb9I/cv9VDx8uga3sjTfM17yqzJjMOttJCw9rz1zfPVLsutwITDX8hJyzrRMt4/7gvzlO4e7Zfyu/wcADkBmQZgDBMOmgt2Bx4HqQw1D8wRQhJmDeoH+gBT/Z3/RAVhCxEMxgUM/0n9UQR9DbUQ0hGQEPkSwBg/HBEgPyS4KGwt4zGZM6I0zDNdMWkyuzXJN2g0pCoFIvge8B9JIP0Xqgo3/1748vXk8IvpuOCu1ZHO08m4yCnFDbferUa1bsaf0wTQFMNAv/nDSsqK0G7bWerQ9Gn0y+5z8CD7dgUHB3EHpgvOD/APVwpBB4QM/hALEgkSHA+iCjUCMfuM/FgDPwkhCowF8P66+Zf6MQTnDjQUThF9DaIRyhm1HkQiUCalLBU0OzQlMngxHzE7Mx82TzfVNXguYiSYHUAc2x6kG8oQZgKM94PzNO9w6BzimdkY0tLLbMWAw1e67q+Ns8/B+c870DnEKb6ww/HIgM221iHoHPce9xjuteqp9RoEeAkCCFMKdA1hDlEL/QYxCxYQFRAvECoPSgwoBQf77vgD/xoIiAvDBsX+wPmj+usCuAx3ELMSHBDMDyQUVBpgI3wriy0SLXsvCjFDNHwzQjOSNUk2GTRJLdsnzCPgINMdYBmkERkIgv5j9bHuyOn/5rXg89PsyQ/FJcfswV6yR7BDvSXPXtSwycnAZMS3yJDN8NbL5bn1W/f68oLw2/f0AdAGrgnODlcTtxGGDdEJAw42ElgRHxDDD6oO5QiY/qP4YftQAh0JWgh3Awr9YPYu9wkA8g13GP0V4wprB20NXxsoKCAuFTHFLAspNirzMFE3IjjeNDYzYC8WJ0EhcR66IFcfMxdMC0cA9/fL8PHr8ufg49vaRM8nx7fDksQMujmvtbPQw6HWnNYvyMC+M8J8ys3VO+AL7TL30/fi8+XxNPwzB0kO7w/gEW4UFBNdDXIJhhAEF7IXchSRDhEKMgQl/Qv89f5fAz4GdQXMAKn4efQl+N4AKQ0/FSsVhw4rBfEIOxtnLf8zWi+SKWMqYi1iL7M1ZTyePYo2tiqvJNcjryNMIu0dkRb0Cg39+PNv783rKelb4VjVX8r+w6TEhMQkuGyto7Rwx9HYw9Q6xWK/d8SWz4zaw+Wo84b7sfky9nj3OAPGDWARyhJTFL8WuhWYD7ELExHDFxIb3xZgDKIEHgAC/Wn9zf5yAs8FtAGr+iLyvvEo+isDDQskDcQLZAtWCqsLIRXiIoIx/DWOLrAmkiXgLF825TrxOek0HitEI+weOh9NIuAgqBi7Ch37cvJC70nsq+go4PbWDM7FxXXC38PLvN2zGbUEw9LZu939zBy+28CG0QDjPOy58zT7S/1m+1T6fASUD3gVWBYdFo4X6RZnEtsN9RGVFt0XPRTcCxEFa/6s9473mvuVAE0BcfpZ9ebvxO2u8vr7mwWMBqUBvQQdDvoTbRJpEnAhIzLgNUstbShlLTw1KDckNk84RzRXKjgfaR0mIusiPhl3CQf9zPaL9YPvM+aC3NzWktEqyUbAub/Cw5i6uLACsRHFktwI3H7LZcIUy4PaC+d/7277owLYAu79cACrDkwYpBtRGrkZThqCGjYVqhKWFJwUkBVyE/ALQAIP+OjyIvdi/Bz+Rfgp8PHrkupi7VPymvjjAPICMwB6AgQLihe2G6QYxhvuKE011zX6LZgpqy9KNx06fDeiMF4peSOCIM0fAB3FFQEMQQCa9n7wuOu25kbfatd1zgrGn793v1DEM76TsrexMsJv25LiztLvxdPJ29gN6cXyH/wvBHoFPAPMBHMPlxrkHjAexhzuG1wbaBctFNgV5hVGFXUTfw02BLn3yfBn9Rf84fyg9GfqrOYF5rnpw/GH+Ff82/xy/QUDUAqTES4ZmB0cIJ0kUi6tOCg6NTIZLIUu6zYwPTg5CzD7JfoeTR4EHUsXJg0kANj1mfDd7V7pvOD21Y/NkMbrwaO/TcPlxK+35qyzsyjP8OeF423P+8ld1tDnW/JP+EkG4RBXEhYNNg1TF08h9CTFIwYjfyIdIBgZ1RSbFI4UwBKKDpAIPwDq9IjsAe1u8c30ye8u6KzjhuJr6Nnv+/Va+tH85f+PB4cOhRQsGAAaWiPJMAE7ezlzMAIrwy64NF85YDsrOCEvvR9dGPkZnBrvE3MFm/hp8tHszuaS4DPZ3tNVzuHGlsFxvxTD38HotQSzmsGV3Z3st9/zz1nTwOIl8UL4YgGeErIZ0xSkDT8S0x/aJ/EnLSUXJMMh5BsyFPIShhMcEqQPdgqJA2X3fuqY5ZnpNO9174TpUOTL4FHffuV/7of4n/0P/koCPAqOEeIVYhmxHvEoPjJrN882fDIYMIcxUTUzNzE23TB1KTAhdxovFnQRSwqiAIf2Ve7J6CTjhNyq1d7Ocsi2wri+q8AlxUXARbVEtUHHu+FC63DeJNar3dPqxfFx9tMFqBraID8Wqw6IF74mxSpUJqkjOyUMJIIaoxC9DzkS3g9ICq0CFPrQ727l2+F25i3rU+kE5MLfT9z926vhs+vh9vP8GP3T/1UGqQy5E4IakCJwLBc0cDbOMrstei3VM7E6xDvjNQctwCMxHH8ZDxhvFN4LjABw9hzuDOeE4End7dm704HKLMO0wJXEzcXgvHq54sIe2i/r0eWW16PWt+L07pD3xgB1EZ8Z7BRnDcQR3yAOKeQmPyLMH6cdBRnCEUcRRBMXDx0Hxv6M+UD0X+qH4vnh2OZR6bblE+Ja4AHfpOA755TxuvyJACICGgcwDBoSXhYyHjEsbDe3ONQweylvLM01LTpoORw2ATJuKYkc7BSJFq4ZrhOFBRP4ifB066Pmz9/M2eDUns0Ax+3CIMScxyrDpLplvivRG+a96Cvc79fB4ozv8vSM+2sKOBo4G7kSlRDGGjknfCiBJKkhJSEZH8QYGRLyD6cN/QjFA/f9ZPdJ7f7j19/D4TjlVOb95HLhmt2N3Nfik+xu9cD9EQVBC/0LQAo/DtsbTi1COBU4cjEiLHEs0jF1Now6zTyFOZAt+x4pF7QYAxzxFgUMMADp9drt6OYD4f7c8trm1xHQBsbVwI7GjMnAwV29LMrK4dbqPt7i09Xe8u/49lP3NQFJEh8ZNRPCDuMXhiOPJR4h4x9LIKMdehaqEEAREQ/tBy4BZv2F+oTyZudg4TThUeOE5ePmy+YP4/zdrN8N6g74JQIiBJkDhAWfCzsU2BrgI34w/TeQNFUqSyYML+M3OjjBNC0ypy/hJtscpRhdGeAXcRCeBXD7YPO77DHn6uDg3LHavda+zs7GIccUy4nGnsDnxuXZ/ujU4lfW5tmc6S30//S092QFXxIWEmELzwyqGGkhniAdHBgaRhr/Fo4RrA81D04KRQPy/Zz6rvX865XkUuOW5Rvn7Ob/5X7kreL44QjmIvCp/aIGPgYZAvUCNQ0OGW4gLykYM/I25S9AJgondDK/O2E93jk6Mi8nHhyNGUscjhwdFv0LcwNN+Z3u3+YP5IXk3eEZ2QfPtse0x0jMe8hQwmPFQ9Xy5I3iZtXA1OnkOvPM9DH0egBBD+URnghRBosTmB9sH98Z2RdVGDMV1Q2kDH4OHAzzBGn+rPs893nuTOjs5y7qW+v36PbmOOVu5L7mM+6u9r/8C/+EAFwE3wkXEOkTbhwtKIkwzC8QJ1kkGi1yNvQ2tjM3MkAyFCz0ICIb1ByBHrkXbg0FBDP87fWI7v/nXeXf437d8NLux1bGF8/Zz9XFSr+vyezd1uNz2KrR9t1/8JP0cO+t9LYEuhD9DPAFmAwhGqwf3xo4FSkWVBj1FBAQ6A1oDVsJgAIx/P/3hPQT8Hfs5+kW6RTpRek46DznKura7pbzmvVF96L8KgT0CmAQrRTcF1YeVSZsLYAu4Sk8KLUs5TItNeIzSzAmK0Ejmx5PH8wfYBq2DqYFaQCU+8X0Mu0W6NXjT9ww1CzO38tQziLLisT5wQTJ3Nck33PZitNC2Vrlse4U8MLz/f0mB4UJOAiuC7wT6hlRGr4XkhWwFgkWYhOeEDAN6wq4B/YBofyc99/z8/CH7Xvrcen16v3tUe/V7lfsu+wB80v7/wGfBk8Jtgz1ESEYcR4EJIonVirnLXAwmDA/MBAyLTVnNMUtZiYOJHckgSDaGKwQYQu3BgEA5Pns8bvp5eG52yrXDtLnzuLPWs+NxqC+kMJ20kDe4ds41DDWfOA+6OzsI/Mo/tcFvAbOBPMHBRFyGOcaWhrjF2wVIBSHEnQTDxPoDUkH9wISAMH8m/cS8qLvo+7+7e/u6u+j7THqx+rC7wr26fos/sQCFwbcB5kNzRbcHsQhCiL7JJcp8CvlK2QthDGiNL4yxCxOJuAjcyQXI74dqhRwDR4HAwE1+obzge4A6Kvg6tj307fRDtGjzTvG/sGwxujRT9nJ1mrR3NSO3RPl7+nb7uH3dP9MAVoBewQTDHMUkhg0FhoSJxGYEloTsxBRDegLqArMBrYBF/2h927xC+6y8Pn2W/gL8VPog+bh7Cv2yfuO/UH/egHOAx4HGww7E2cbtSD5I3klbCYNKVosMi/zL5EvWS7iK/QmpSK0IGUg0Ry9FEcNCAddAur6PvJD6rbkWeCL3HrYcdLKzajI9sXFxAPJgNSW3zjfQ9MjyUTNR90S6czwcPz2C6IOIv126oDxxQ7hIUQc6A2DCzkQMA3XA1MFSBLzF9kMaPx99Nb1QvnQ+Z37T/28+7P4K/SB8XjzkPpWBOEI8AZMBpAJlw1ZD44PDhdMIh4nLSTNHQ8deCILJ+ImSyQJI/4hZB4WGeAUkxQpFKcNPATW/HX4oPW+8G3qQubR4grdSNeW1GTUx9U40l3MGM2K0/Pbot/f3Zve7OPR6ZvvbfUx/AUCIwQ8BSUIyQw3EfoUDhc6FlMTHBK5E5YUnRGgC2UItwccBbgAw/uZ+H33/fXf86DxQO+27vTvqPAc8cPzBPsrAV4BR/7//rsH8xHRF+oZDBxRHtYfmiHyJdAsRzHyL+gp8STbI0wmkSdUJLgdnRV4DxcL4gbhAO74p/FN7ZvqK+f04Qbck9Vdz73N3NDp1dLXDNXz0kjUv9ZI22Pihum37kHwePHf8xb3U/w3BA4LLAtsBg4FnAn+DdoO3w0ZDikNVwmcBdgEegUtA7P/lf2W/MD7nvsW/N78Yv6LAI0C6wKNAUUD1AmKD5oSQBPKFHoYoxsUH7IimSVnJ4UnmiYRJRojaCLyIoAiVR/pGhQWJRHxC/sF8AFt/qX4OPEz6sbmUeaP4xneK9iK0/fQ2NAy01PXxtot2lnZJtry3IDiIuoz8YX0BfQt9PD4CQARBXcHJwpBCzIMEg1NDaYNMAysCqELoAwJCp8GmQJc/3D/T//K/vD9Fvp196v43vki/ToAdv9h/h//JwSXCn8LVghfCh0TdhtsHGUXzhXpGbkgdySRIt0doRplGt4beRx/GVIUOQ74COIFZwTq/z74P/KZ8A/xbu6o55PgEN3F2TTWLNco2yvdb9xv2c/Y7dw14aDkmOhV6wXtXO5u73L0YvvJAFsDFQJ1/7r/KQTbCvkN5wlIBIACuwX1CEQI9wPz/73+0f/2AYUBN/4U+vv5df/SBHYFkgIpAOIBsgZ0ClENmg8PEW0ShBSoFusXuhmpHK4f8h8zHQ4bpRulHYgdVBvpGKAVARFRDM0IBAe4BDv//PjY9Ojy0PAJ7SfpluXC4XzdzNrd2z/fReEY4J/dLN254FzlSejE6SnrUu1T8OvzKfjK/EP+yP2k/msBggUZCBYIQwebBqEFLQYkB1gHcwZoBMUCQwHQANsADwEpASsApv9pAXYCnwJSA1QDkgS6BvMJDA1nDuoO2A8HElEU4BVLFxAZfxnmGPIY/BhbGH4X8hWvFFMTkA+ACx4JqQclBRYBwPyP+Yr4tvY/82Pvx+vD6QToF+cB5+/kmOL94TLk2Of66HPpVer/663tl+0z8Gr1Hfm3+VX42vop//v/ZAHdA/cE9gTUBLYFEAYnBUsE+ARBBi4FFgMcAtkA1f97ANQCvgQ7AwYBOAEEAzgFmgboByAKSgxGDoAPEw+gDgQQqRMzF7AYHRhTFq4UyhNWFLkVtBbzFT0S8w2FC6IJmQifB7IF4AL7/Q75Hfcj+DD4jvQL8EfuG+6L7X/rFurn6oPp/OZm5wLqFe207vntEe0K7CjtyPHm9iD6A/kT+Fb5bPmg+uT9/wHyBKMCDf9F/qn/5wERAoQCpAP9AbL/hf6P/hAAaQGwArsC6AG+ATkCnwMFBagGWAmmCzAMAAzzCyINgw/sEv8UVhR8E/wR8hDMEX4T2RRtFOwR1w5DDNcKdQqKCfEHtgVLBPIBp/3r+nL6R/sm+qn2g/Rc9D/zNvGb7yzuPe0t7eztwu0r7f/t3u/l8EPxofHg8djypvQZ9wL4Lvg4+uD74vso+yv8ev/qAWsCaAGQ/9f/nADO/tj+XAE5ApcAJf98/k3+kv/8ACYCCQNUA1YD6ANRBDUFhwfmCQ4L+AoaCyoLswujDH0MkgzJDRoOVg3TDKoLMwqoCU8JvQcrBuIEQgMYA6ICywFsAaX/jP1C/Mr7K/ub+Y34G/h79q30H/Pw8j70Z/RP81PyyfJP8vLwE/DR8G7zQfUj9rr2vPYr9g72mfe7+rP88P1o/lL9Q/zm+yD92f6qAFUBPQBG/3z+rv1U/hgBzgPjBCgE9AJbAn4ChwP3BNUGXghuCEQHqQaTBpwH9AnEC4YMjgvUCVgIeQhxCf4JGQrECI4HaQfvBugEqgKhApgEZQW4BPcCyP+0/bj9Av6B/WP+wf5h/Jv5oPfZ9ir38/ez97X2h/UB9cH1HvYB9bH0iPav+Lf5Pvgy99f3Yvlh+8f81/3M/Q/+9f70/o7+D//s/7gArgF9Ar8Bvf/A/yACtgRdBN8CrQKlAksDhwRrBR0FKQT9A0wFWQfICA0IcwbxBbEG6AdHCG8IdgeGBWMEnQRoBfsFZQZlBpUFIQSWAq0AqAD5ARYDhgPiAWUAAAC8/1L/c/7j/eH+Zf9P/lv8BftK+5/7Ovw6/XX9mfvu+J/3jPcQ+N756fsh/CH7h/o8+uT5Wvvx/L/+eABv/8z9cfy1/Bn/sQDYAQYDCgNkApUB4wGnA40FKAZsBScGcQZ1BaEEMgOPA/AEzAVMBmEFHAQLAyMD4wR5Ba8ECwS2A2MDnwIMAo0BUAEtAWsA8wCwAXsAdf8x//f+e/6E/cj9wf+QAecBkACo/YT7svwI/4wA//8e/cP7Mvzj/GH9L/0Z/ef8TPw2+9/6BPu4+in73/tj+4X6y/rE+0z8qPuk+j773f2W/uP9GP/a/5P/o//QAKcCIAOMAqwCDwN1AkQC9wMcBcIEBgQtA4kDbAMdArgBpgHXAXYB/P+G/4L/Xf/8/uD9rP1g/sv/PAAm/8r+e/7Y/Q79pf1y//r/IACVAC0BdgEUAbQACgHSAgwE5gMNBNkDVAOyAiICIQJxAvcCJgKlALX/Q//Q/2P/Bv6H/Yz8Gfzu+7b6u/q/+kD7WvzC+3H6Ofmy+Xb7ofyd/Gj8Gf3Q/m4AKwDp/iYApAPpBFcEeARyBYMF6ASeBG8EkQQiBNEDZAPOAqwCKAL7AKT/vf6B/qL+lv7f/S/9RP2L/aX92fy//CP9V/3W/e792v5M/4b/lgC0ACEAu//r/3sAWwGjAj4DuwLaAfgA9/+V/8f/5P8GAI0AcAAq//39C/03/GL7i/tx/Kz8h/w//Hv7efow+qL6G/yj/TT+kv7s/ub+ff6j/vj/yQETA2UDTAPNA3wEtgRcBUYGewZtBqIGRAbSBH4DNwM9A+IC5QI/A24CIgCr/T/8A/1Y/n/+Y/6X/f/7Wvrn+UH7Mf26/eH9Ov4P/c38l/3A/kcANAE7AnUCHAIeAuoCLAR7BPsEPQXiA9kCEgJ1AXoBNAFVAfwAoQD0ALn/NP7Z/fn9ev4M/nn8iPsf+576+vrK/Fr+iv7F/RP9Sv1B/iwAFQJcA6oD5AIZApICpwMVBRQHkQfyBVgE5ARyBXUFIAYfBgcFfAMDAgwB+//8/rr+2P5p/pX8T/th+9v7jftK+5r7FfyF/Fn8Pfzo+8P8yP6m/03/FQAGAQoBmQFVAS4BogEfAQ0BjwH6AfkCSgOIAsgBHQE+AKL/Zv+q/rn9df0F/X/8WfxQ+0r6b/ot+3r8FP2s+zH71vvU+y78XP0H/34AsgEkAgwCagHdADQClAQUBo4GVQYzBkMGeAZ/Bv8F1wVUBUsFLQVOBHIDUQJ9Ad3/nf7O/rv+8v1l/Fb7KvsK+6P7qfw8/dT8ZPvn+j78Z/1k/g8AAAHnAKIAjAAEAVgCtgOPBN0E5QQhBK0CsAKaA88D4QIvATEAI/9z/iH/lP7U/UT9+Psh+1/6C/pn+pv7mPtq+cn4Hfrh+nD7Pfzt/Kn8K/zF/JH8p/zp/en/AgJVA40E3gR3BOUDVgRlBSAFAQT8AnwCQgJvAhEDBwMFAkABVQB4/n/97P0s/vf96vyD++b6C/v8+8f8l/xf/MD83f0E/8v/OQHrAYMBvAEtAooCCgN3A2oDcQPPA5QDSAO0Ay8EeAQ7BGcDOQJvAKH++P06/woAjv/Y/q795fwR/Gj7S/tR+9f7X/w6/Az8i/yC/UP+9f2Y/R7+fv/nALsBYgIIA8AD0gP7AyIEbANaAzAEEgVHBVsECwO3AuMCSQJcAfAA+ACOAL3/yv4U/rv9ov2K/Qz9Qv0k/pn+Tf79/cD9p/3f/ZP9p/1M/vX+EQD+AHwBZQEDAasBvgKaAwEEawOZAmMCfAIJA+4DKgNgAYQA9v+a/4D/af8V/6b+Sv5a/eP86/y1/MD8Zfz2+5D8Gf1J/Vn9P/13/Rr+of8TAfEBqAIhA1MDMANDAygEtwQOBJsDAATHBMgEHwS5Aw0DBQIFAXIAdgD8//b+N/5o/b/8EPx6+4/7+vvJ/Br9g/zn+/P7DP2O/Zf9vf28/Vj+Hf+E/+H/NAFtAgoDvgMlBEwEOAScA3UD1AMZBAcEcANlA/sCbwKQAcwAbAE7Ab0A9QCpABkAff9t/nT9Y/00/av8b/xV/DL9a/6h/83/oP4q/kj/5ACHAZUBwwE2AtMCWgNIA9sCqALKA40EBwQTBLwDGAMaApQAqf/m/08AhwA3ALT+t/1k/fX8B/1Z/X796/1w/nj+/f3Y/Zr+Kf8n/zL/T/8DAIQA0QApAcUA0ACZAVsCiwLfAvQCKwJ9AS8BFwE8AV4BSgEUAZEA1f+x/vz9xP1V/a38Q/wW/Lf7yvuk++L6bPqN+g/7cvur+8j7J/z9/Hn9n/0C/jD+3P27/QT+Kv/3AJEB/wBdABwApgBgAYcBewFsAQcBggBqAJgAbQDS/wj/r/7F/r7+z/72/uv+ef4C/s39+v18/qv+e/5w/sL+Xf/O/7X/AgDAAJEBIQITAvABmwG0AXECFgOjAxgEFwSAA7ICZQJcAoMClQJ9ARcAdv97/3D/Iv/Q/iD+BP2R/K788PyX/XT9X/2z/b39If5C/lf+xP75/iP/Cf8D/7z/dQDtACMBBwEaAWYBUwHDALEAUgHgAeIBfQFAAREBMAFzAWcBAAHEAPMAPwBa/47/GQDi/2j/K/8s/wkA9/9T/1P/tP7O/qv/RQCtAMIALQGgAb0B9QH6ARACXAJkAr8CJQMDAxUDUAMsAzoDCgOzAqQCuAHgAOcAzwBdAL3/V//W/lT+zf07/Yf9IP5y/oj+V/4P/jL+R/4H/k7++f5i/3//gf9B/6b/SABeAHoAAAA=\" type=\"audio/wav\" />\n",
              "                    Your browser does not support the audio element.\n",
              "                </audio>\n",
              "              "
            ]
          },
          "metadata": {},
          "execution_count": 22
        }
      ]
    },
    {
      "cell_type": "code",
      "source": [
        "print(raw_y[340])\n",
        "IPython.display.Audio(raw_x[340], rate=SAMPLING_RATE)"
      ],
      "metadata": {
        "colab": {
          "base_uri": "https://localhost:8080/",
          "height": 93
        },
        "outputId": "f3301a72-4539-4fd1-9c26-72b615bc2a0b",
        "id": "R6-jXew3iVAZ"
      },
      "execution_count": 23,
      "outputs": [
        {
          "output_type": "stream",
          "name": "stdout",
          "text": [
            "1\n"
          ]
        },
        {
          "output_type": "execute_result",
          "data": {
            "text/plain": [
              "<IPython.lib.display.Audio object>"
            ],
            "text/html": [
              "\n",
              "                <audio  controls=\"controls\" >\n",
              "                    <source src=\"data:audio/wav;base64,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\" type=\"audio/wav\" />\n",
              "                    Your browser does not support the audio element.\n",
              "                </audio>\n",
              "              "
            ]
          },
          "metadata": {},
          "execution_count": 23
        }
      ]
    },
    {
      "cell_type": "code",
      "source": [
        "raw_x = np.array(padded_raw_x)\n",
        "raw_y = np.array(raw_y)\n",
        "print(raw_x.shape)  \n",
        "print(raw_y.shape)"
      ],
      "metadata": {
        "colab": {
          "base_uri": "https://localhost:8080/"
        },
        "id": "1b-zDbF--1LQ",
        "outputId": "02820fba-b8e5-46cf-986b-541d613d6f14"
      },
      "execution_count": 17,
      "outputs": [
        {
          "output_type": "stream",
          "name": "stdout",
          "text": [
            "(1204, 22050)\n",
            "(1204,)\n"
          ]
        }
      ]
    },
    {
      "cell_type": "code",
      "source": [
        "print(raw_y[980])\n",
        "IPython.display.Audio(raw_x[980], rate=SAMPLING_RATE)"
      ],
      "metadata": {
        "colab": {
          "base_uri": "https://localhost:8080/",
          "height": 93
        },
        "outputId": "ba43b549-e191-43f8-f871-7d26f0f356ad",
        "id": "kvxddiJmibQf"
      },
      "execution_count": 10,
      "outputs": [
        {
          "output_type": "stream",
          "name": "stdout",
          "text": [
            "3\n"
          ]
        },
        {
          "output_type": "execute_result",
          "data": {
            "text/plain": [
              "<IPython.lib.display.Audio object>"
            ],
            "text/html": [
              "\n",
              "                <audio  controls=\"controls\" >\n",
              "                    <source src=\"data:audio/wav;base64,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\" type=\"audio/wav\" />\n",
              "                    Your browser does not support the audio element.\n",
              "                </audio>\n",
              "              "
            ]
          },
          "metadata": {},
          "execution_count": 10
        }
      ]
    },
    {
      "cell_type": "code",
      "source": [
        "print(raw_y[1])\n",
        "IPython.display.Audio(raw_x[1], rate=SAMPLING_RATE)"
      ],
      "metadata": {
        "colab": {
          "base_uri": "https://localhost:8080/",
          "height": 93
        },
        "outputId": "ab48ad1b-9192-41e4-f10f-a99590ed9b9a",
        "id": "o02lV35TibQg"
      },
      "execution_count": 11,
      "outputs": [
        {
          "output_type": "stream",
          "name": "stdout",
          "text": [
            "1\n"
          ]
        },
        {
          "output_type": "execute_result",
          "data": {
            "text/plain": [
              "<IPython.lib.display.Audio object>"
            ],
            "text/html": [
              "\n",
              "                <audio  controls=\"controls\" >\n",
              "                    <source src=\"data:audio/wav;base64,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\" type=\"audio/wav\" />\n",
              "                    Your browser does not support the audio element.\n",
              "                </audio>\n",
              "              "
            ]
          },
          "metadata": {},
          "execution_count": 11
        }
      ]
    },
    {
      "cell_type": "markdown",
      "source": [
        "# Normalization"
      ],
      "metadata": {
        "id": "fMc7mKiONdAs"
      }
    },
    {
      "cell_type": "code",
      "source": [],
      "metadata": {
        "id": "-KNY-Pztk8uI"
      },
      "execution_count": null,
      "outputs": []
    },
    {
      "cell_type": "code",
      "source": [
        "max = np.max(raw_x)\n",
        "min = np.min(raw_x)\n",
        "print(min, max)"
      ],
      "metadata": {
        "colab": {
          "base_uri": "https://localhost:8080/"
        },
        "id": "Yb7uzqDONoSF",
        "outputId": "dfe20483-fafa-4511-c762-71a1a5ee2cf1"
      },
      "execution_count": 18,
      "outputs": [
        {
          "output_type": "stream",
          "name": "stdout",
          "text": [
            "-0.9981107711791992 1.1331255435943604\n"
          ]
        }
      ]
    },
    {
      "cell_type": "code",
      "source": [
        "# raw_x = (raw_x - min) / (max - min)"
      ],
      "metadata": {
        "id": "xjE3MuKwNcGt"
      },
      "execution_count": null,
      "outputs": []
    },
    {
      "cell_type": "markdown",
      "source": [
        "# 2차원으로 reshape"
      ],
      "metadata": {
        "id": "T-iyrW8_N869"
      }
    },
    {
      "cell_type": "code",
      "source": [
        "print(raw_x.shape)\n",
        "raw_x = raw_x.reshape((len(raw_x),-1,1))\n",
        "print(raw_x.shape)"
      ],
      "metadata": {
        "id": "EXF8sZPYN_RL",
        "colab": {
          "base_uri": "https://localhost:8080/"
        },
        "outputId": "41caeca5-b13d-40b7-aba8-859db9d8858d"
      },
      "execution_count": 19,
      "outputs": [
        {
          "output_type": "stream",
          "name": "stdout",
          "text": [
            "(1204, 22050)\n",
            "(1204, 22050, 1)\n"
          ]
        }
      ]
    },
    {
      "cell_type": "markdown",
      "source": [
        "# 데이터 분리"
      ],
      "metadata": {
        "id": "EjXer_ucN67c"
      }
    },
    {
      "cell_type": "code",
      "source": [
        "from sklearn.model_selection import train_test_split\n",
        "\n",
        "train_x, test_x, train_y, test_y = train_test_split(raw_x, raw_y, test_size=0.2, shuffle=True)"
      ],
      "metadata": {
        "id": "Z54gJGmi-1Ig"
      },
      "execution_count": 20,
      "outputs": []
    },
    {
      "cell_type": "code",
      "source": [
        "print(len(train_y))\n",
        "print(train_y[len(train_y)-1])\n",
        "IPython.display.Audio(train_x[len(train_y)-1].squeeze(), rate=SAMPLING_RATE)"
      ],
      "metadata": {
        "colab": {
          "base_uri": "https://localhost:8080/",
          "height": 111
        },
        "outputId": "1c211796-cf9d-40be-f2b0-1750cc33fe34",
        "id": "ar3Q1ezWinMR"
      },
      "execution_count": 21,
      "outputs": [
        {
          "output_type": "stream",
          "name": "stdout",
          "text": [
            "963\n",
            "0\n"
          ]
        },
        {
          "output_type": "execute_result",
          "data": {
            "text/plain": [
              "<IPython.lib.display.Audio object>"
            ],
            "text/html": [
              "\n",
              "                <audio  controls=\"controls\" >\n",
              "                    <source src=\"data:audio/wav;base64,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\" type=\"audio/wav\" />\n",
              "                    Your browser does not support the audio element.\n",
              "                </audio>\n",
              "              "
            ]
          },
          "metadata": {},
          "execution_count": 21
        }
      ]
    },
    {
      "cell_type": "code",
      "source": [
        "print(train_y[1])\n",
        "IPython.display.Audio(train_x[1].squeeze(), rate=SAMPLING_RATE)"
      ],
      "metadata": {
        "colab": {
          "base_uri": "https://localhost:8080/",
          "height": 93
        },
        "outputId": "613e9ca0-7698-4feb-85e8-f07eb96a58a6",
        "id": "RFKC_o3IinMS"
      },
      "execution_count": 22,
      "outputs": [
        {
          "output_type": "stream",
          "name": "stdout",
          "text": [
            "2\n"
          ]
        },
        {
          "output_type": "execute_result",
          "data": {
            "text/plain": [
              "<IPython.lib.display.Audio object>"
            ],
            "text/html": [
              "\n",
              "                <audio  controls=\"controls\" >\n",
              "                    <source src=\"data:audio/wav;base64,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\" type=\"audio/wav\" />\n",
              "                    Your browser does not support the audio element.\n",
              "                </audio>\n",
              "              "
            ]
          },
          "metadata": {},
          "execution_count": 22
        }
      ]
    },
    {
      "cell_type": "code",
      "source": [
        "print(train_x.shape)\n",
        "print(train_y.shape)\n"
      ],
      "metadata": {
        "colab": {
          "base_uri": "https://localhost:8080/"
        },
        "id": "9DF-X34ifJgr",
        "outputId": "e2992b3a-f2e6-43b0-fe4f-9191501c0c15"
      },
      "execution_count": 23,
      "outputs": [
        {
          "output_type": "stream",
          "name": "stdout",
          "text": [
            "(963, 22050, 1)\n",
            "(963,)\n"
          ]
        }
      ]
    },
    {
      "cell_type": "code",
      "source": [
        "from tensorflow import keras\n",
        "from tensorflow.keras.layers import Dense, RepeatVector, Flatten, Input, Activation\n",
        "from tensorflow.keras.layers import Bidirectional, LSTM, GRU, Conv1D, MaxPooling1D, AveragePooling1D, Add, MaxPool1D\n",
        "from tensorflow.keras.layers import Dropout, GaussianNoise, BatchNormalization\n",
        "from tensorflow.keras.regularizers import l1, l2, L1L2\n",
        "\n",
        "input_shape = train_x.shape[1:]\n",
        "num_classes = 3 # B 단계 클래스 4개 (0:나비, 1:오리, 2:까치) # 3 제외함 , 3:뿌리)\n",
        "\n",
        "model = keras.Sequential()\n",
        "model.add(Input(input_shape))\n",
        "\n",
        "model.add(Conv1D(32, 9, padding=\"same\", activation=\"relu\"))  \n",
        "model.add(Conv1D(32, 9, padding=\"same\", activation=\"relu\")) \n",
        "model.add(BatchNormalization())\n",
        "model.add(MaxPooling1D())\n",
        "model.add(Dropout(0.3))\n",
        "\n",
        "model.add(Conv1D(64, 9, padding=\"same\", activation=\"relu\"))  \n",
        "model.add(Conv1D(64, 9, padding=\"same\", activation=\"relu\"))  \n",
        "model.add(BatchNormalization())\n",
        "model.add(MaxPooling1D())\n",
        "model.add(Dropout(0.3))\n",
        "\n",
        "model.add(Conv1D(128, 9, padding=\"same\", activation=\"relu\"))  \n",
        "model.add(Conv1D(128, 9, padding=\"same\", activation=\"relu\"))  \n",
        "model.add(Conv1D(128, 9, padding=\"same\", activation=\"relu\"))  \n",
        "model.add(BatchNormalization())\n",
        "model.add(MaxPooling1D())\n",
        "model.add(Dropout(0.3))\n",
        "\n",
        "model.add(Conv1D(256, 9, padding=\"same\", activation=\"relu\"))  \n",
        "model.add(Conv1D(256, 9, padding=\"same\", activation=\"relu\"))  \n",
        "model.add(Conv1D(256, 9, padding=\"same\", activation=\"relu\"))  \n",
        "model.add(BatchNormalization())\n",
        "model.add(MaxPooling1D())\n",
        "model.add(Dropout(0.3))\n",
        "\n",
        "model.add(Flatten())\n",
        "model.add(Dense(256, activation=\"relu\")) #, kernel_regularizer=l2()))\n",
        "model.add(BatchNormalization())\n",
        "\n",
        "model.add(Dense(num_classes, activation=\"softmax\"))  \n",
        "\n",
        "from tensorflow.keras.optimizers import Adam, Adadelta, SGD\n",
        "# optimizer = SGD(learning_rate=0.001) # *0.1, decay=0.01)  \n",
        "optimizer = Adam(learning_rate=0.001*0.1, decay=0.01) \n",
        "\n",
        "model.compile(loss=\"sparse_categorical_crossentropy\", optimizer=optimizer, metrics=[\"acc\"])\n",
        "model.summary()\n"
      ],
      "metadata": {
        "colab": {
          "base_uri": "https://localhost:8080/"
        },
        "id": "pT7VVvOygvXA",
        "outputId": "a6264ab3-fc3c-4ad8-bce2-2da989af5d42"
      },
      "execution_count": 25,
      "outputs": [
        {
          "output_type": "stream",
          "name": "stdout",
          "text": [
            "Model: \"sequential_1\"\n",
            "_________________________________________________________________\n",
            " Layer (type)                Output Shape              Param #   \n",
            "=================================================================\n",
            " conv1d_10 (Conv1D)          (None, 22050, 32)         320       \n",
            "                                                                 \n",
            " conv1d_11 (Conv1D)          (None, 22050, 32)         9248      \n",
            "                                                                 \n",
            " batch_normalization_5 (Batc  (None, 22050, 32)        128       \n",
            " hNormalization)                                                 \n",
            "                                                                 \n",
            " max_pooling1d_4 (MaxPooling  (None, 11025, 32)        0         \n",
            " 1D)                                                             \n",
            "                                                                 \n",
            " dropout_4 (Dropout)         (None, 11025, 32)         0         \n",
            "                                                                 \n",
            " conv1d_12 (Conv1D)          (None, 11025, 64)         18496     \n",
            "                                                                 \n",
            " conv1d_13 (Conv1D)          (None, 11025, 64)         36928     \n",
            "                                                                 \n",
            " batch_normalization_6 (Batc  (None, 11025, 64)        256       \n",
            " hNormalization)                                                 \n",
            "                                                                 \n",
            " max_pooling1d_5 (MaxPooling  (None, 5512, 64)         0         \n",
            " 1D)                                                             \n",
            "                                                                 \n",
            " dropout_5 (Dropout)         (None, 5512, 64)          0         \n",
            "                                                                 \n",
            " conv1d_14 (Conv1D)          (None, 5512, 128)         73856     \n",
            "                                                                 \n",
            " conv1d_15 (Conv1D)          (None, 5512, 128)         147584    \n",
            "                                                                 \n",
            " conv1d_16 (Conv1D)          (None, 5512, 128)         147584    \n",
            "                                                                 \n",
            " batch_normalization_7 (Batc  (None, 5512, 128)        512       \n",
            " hNormalization)                                                 \n",
            "                                                                 \n",
            " max_pooling1d_6 (MaxPooling  (None, 2756, 128)        0         \n",
            " 1D)                                                             \n",
            "                                                                 \n",
            " dropout_6 (Dropout)         (None, 2756, 128)         0         \n",
            "                                                                 \n",
            " conv1d_17 (Conv1D)          (None, 2756, 256)         295168    \n",
            "                                                                 \n",
            " conv1d_18 (Conv1D)          (None, 2756, 256)         590080    \n",
            "                                                                 \n",
            " conv1d_19 (Conv1D)          (None, 2756, 256)         590080    \n",
            "                                                                 \n",
            " batch_normalization_8 (Batc  (None, 2756, 256)        1024      \n",
            " hNormalization)                                                 \n",
            "                                                                 \n",
            " max_pooling1d_7 (MaxPooling  (None, 1378, 256)        0         \n",
            " 1D)                                                             \n",
            "                                                                 \n",
            " dropout_7 (Dropout)         (None, 1378, 256)         0         \n",
            "                                                                 \n",
            " flatten_1 (Flatten)         (None, 352768)            0         \n",
            "                                                                 \n",
            " dense_2 (Dense)             (None, 256)               90308864  \n",
            "                                                                 \n",
            " batch_normalization_9 (Batc  (None, 256)              1024      \n",
            " hNormalization)                                                 \n",
            "                                                                 \n",
            " dense_3 (Dense)             (None, 3)                 771       \n",
            "                                                                 \n",
            "=================================================================\n",
            "Total params: 92,221,923\n",
            "Trainable params: 92,220,451\n",
            "Non-trainable params: 1,472\n",
            "_________________________________________________________________\n"
          ]
        }
      ]
    },
    {
      "cell_type": "code",
      "source": [
        "# copy from https://gist.github.com/stared/dfb4dfaf6d9a8501cd1cc8b8cb806d2e\n",
        "\n",
        "# loss graph를 학습하면서 실시간으로 그리는 방법\n",
        "\n",
        "from IPython.display import clear_output\n",
        "from tensorflow.keras.callbacks import Callback\n",
        "\n",
        "class PlotLosses(Callback):\n",
        "\n",
        "  def on_train_begin(self, logs={}):\n",
        "    self.epochs = []\n",
        "    self.losses = []\n",
        "    self.val_losses = []\n",
        "    self.logs = []\n",
        "    self.fig = plt.figure()\n",
        "\n",
        "\n",
        "  def on_epoch_end(self, epoch, logs={}):\n",
        "\n",
        "    self.epochs.append(epoch)\n",
        "    self.losses.append(logs.get('loss'))\n",
        "    self.val_losses.append(logs.get('val_loss'))\n",
        "\n",
        "    clear_output(wait=True)\n",
        "    plt.plot(self.epochs, self.losses, label=\"loss\")\n",
        "    plt.plot(self.epochs, self.val_losses, label=\"val_loss\")\n",
        "    plt.legend()\n",
        "    plt.show();\n",
        "    print(\"epochs = \", self.epochs[-1], \"loss = \", self.losses[-1], \", val_loss = \", self.val_losses[-1])"
      ],
      "metadata": {
        "id": "xULPFYqYA4Pv"
      },
      "execution_count": 26,
      "outputs": []
    },
    {
      "cell_type": "code",
      "source": [
        "plot_losses = PlotLosses()\n",
        "history = model.fit(train_x, train_y, epochs=100, verbose=1, validation_split=0.1, batch_size=16,\n",
        "                    callbacks=[plot_losses])\n",
        "\n"
      ],
      "metadata": {
        "colab": {
          "base_uri": "https://localhost:8080/",
          "height": 302
        },
        "id": "ksVvwmtJjQ9S",
        "outputId": "23463a6a-22ec-414b-cf68-c14f574fe13c"
      },
      "execution_count": 27,
      "outputs": [
        {
          "output_type": "display_data",
          "data": {
            "text/plain": [
              "<Figure size 432x288 with 1 Axes>"
            ],
            "image/png": "[encoded data removed]"
          },
          "metadata": {
            "needs_background": "light"
          }
        },
        {
          "output_type": "stream",
          "name": "stdout",
          "text": [
            "epochs =  99 loss =  0.028004396706819534 , val_loss =  0.32678595185279846\n",
            "\b\b\b\b\b\b\b\b\b\b\b\b\b\b\b\b\b\b\b\b\b\b\b\b\b\b\b\b\b\b\b\b\b\b\b\b\b\b\b\b\b\b\b\b\b\b\b\b\b\b\b\b\b\b\b\b\b\b\b\b\b\b\b\b\b\b\b\b\b\b\b\b\b\b\b\b\b\r55/55 [==============================] - 8s 150ms/step - loss: 0.0280 - acc: 0.9885 - val_loss: 0.3268 - val_acc: 0.9588\n"
          ]
        }
      ]
    },
    {
      "cell_type": "code",
      "source": [
        "print(\"loss = \", history.history['loss'][-1], \", val_loss = \", history.history['val_loss'][-1], \n",
        "      \"acc = \", history.history['acc'][-1], \", val_acc = \", history.history['val_acc'][-1])\n",
        "\n",
        "# plt.plot(history.history['loss'])\n",
        "# plt.plot(history.history['acc'])\n",
        "# plt.plot(history.history['val_loss'])\n",
        "# plt.plot(history.history['val_acc'])\n",
        "# plt.show()"
      ],
      "metadata": {
        "colab": {
          "base_uri": "https://localhost:8080/"
        },
        "id": "mEvG8DJ1h9rD",
        "outputId": "a01408c3-e699-4a73-f3fd-3253d50cd5ab"
      },
      "execution_count": 28,
      "outputs": [
        {
          "output_type": "stream",
          "name": "stdout",
          "text": [
            "loss =  0.028004396706819534 , val_loss =  0.32678595185279846 acc =  0.988452672958374 , val_acc =  0.9587628841400146\n"
          ]
        }
      ]
    },
    {
      "cell_type": "code",
      "source": [],
      "metadata": {
        "id": "28kmRGmx26P7"
      },
      "execution_count": null,
      "outputs": []
    },
    {
      "cell_type": "code",
      "source": [
        "loss, acc = model.evaluate(test_x, test_y)\n",
        "print(\"loss=\", loss)\n",
        "print(\"acc=\", acc)\n",
        "\n",
        "\n",
        "y_ = model.predict(test_x)\n",
        "predicted = np.argmax(y_, axis=-1)\n",
        "plt.plot(test_y[:30], 'o')\n",
        "plt.plot(predicted[:30], '.')\n",
        "plt.show()\n"
      ],
      "metadata": {
        "id": "8lHjjByavmmo",
        "colab": {
          "base_uri": "https://localhost:8080/",
          "height": 320
        },
        "outputId": "9cd4d5f3-13c9-4e16-e36e-1f64fda2a8ab"
      },
      "execution_count": 29,
      "outputs": [
        {
          "output_type": "stream",
          "name": "stdout",
          "text": [
            "8/8 [==============================] - 1s 73ms/step - loss: 0.4364 - acc: 0.9419\n",
            "loss= 0.4364001154899597\n",
            "acc= 0.9419087171554565\n"
          ]
        },
        {
          "output_type": "display_data",
          "data": {
            "text/plain": [
              "<Figure size 432x288 with 1 Axes>"
            ],
            "image/png": "[encoded data removed]"
          },
          "metadata": {
            "needs_background": "light"
          }
        }
      ]
    },
    {
      "cell_type": "code",
      "source": [
        "model.save('../gdrive/MyDrive/Audio/ganada_B.h5')"
      ],
      "metadata": {
        "id": "dFjSSA8-p1oV"
      },
      "execution_count": null,
      "outputs": []
    }
  ]
}