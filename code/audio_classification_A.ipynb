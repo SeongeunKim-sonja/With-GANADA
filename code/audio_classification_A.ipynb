{
  "nbformat": 4,
  "nbformat_minor": 0,
  "metadata": {
    "colab": {
      "provenance": [],
      "collapsed_sections": [],
      "machine_shape": "hm",
      "include_colab_link": true
    },
    "kernelspec": {
      "name": "python3",
      "display_name": "Python 3"
    },
    "language_info": {
      "name": "python"
    },
    "accelerator": "GPU",
    "gpuClass": "standard"
  },
  "cells": [
    {
      "cell_type": "markdown",
      "metadata": {
        "id": "view-in-github",
        "colab_type": "text"
      },
      "source": [
        "<a href=\"https://colab.research.google.com/github/bomij33/With-GANADA/blob/bomi/code/audio_classification_A.ipynb\" target=\"_parent\"><img src=\"https://colab.research.google.com/assets/colab-badge.svg\" alt=\"Open In Colab\"/></a>"
      ]
    },
    {
      "cell_type": "markdown",
      "source": [
        "# Tensorflow 버전 다운로드 2.8.0"
      ],
      "metadata": {
        "id": "PA6S3Wm8D4D4"
      }
    },
    {
      "cell_type": "code",
      "source": [
        "import tensorflow as tf\n",
        "print(tf.__version__)"
      ],
      "metadata": {
        "colab": {
          "base_uri": "https://localhost:8080/"
        },
        "id": "b6FxXRPnT828",
        "outputId": "f419cad7-dbd7-4804-9f44-858828cea07d"
      },
      "execution_count": null,
      "outputs": [
        {
          "output_type": "stream",
          "name": "stdout",
          "text": [
            "2.8.2\n"
          ]
        }
      ]
    },
    {
      "cell_type": "code",
      "source": [
        "!pip uninstall tensorflow"
      ],
      "metadata": {
        "colab": {
          "base_uri": "https://localhost:8080/"
        },
        "id": "KU2qUfwbxImC",
        "outputId": "c91c5048-981b-4f01-8d93-8a028eae3efa"
      },
      "execution_count": null,
      "outputs": [
        {
          "output_type": "stream",
          "name": "stdout",
          "text": [
            "Found existing installation: tensorflow 2.8.2+zzzcolab20220719082949\n",
            "Uninstalling tensorflow-2.8.2+zzzcolab20220719082949:\n",
            "  Would remove:\n",
            "    /usr/local/bin/estimator_ckpt_converter\n",
            "    /usr/local/bin/import_pb_to_tensorboard\n",
            "    /usr/local/bin/saved_model_cli\n",
            "    /usr/local/bin/tensorboard\n",
            "    /usr/local/bin/tf_upgrade_v2\n",
            "    /usr/local/bin/tflite_convert\n",
            "    /usr/local/bin/toco\n",
            "    /usr/local/bin/toco_from_protos\n",
            "    /usr/local/lib/python3.7/dist-packages/tensorflow-2.8.2+zzzcolab20220719082949.dist-info/*\n",
            "    /usr/local/lib/python3.7/dist-packages/tensorflow/*\n",
            "Proceed (y/n)? y\n",
            "  Successfully uninstalled tensorflow-2.8.2+zzzcolab20220719082949\n"
          ]
        }
      ]
    },
    {
      "cell_type": "code",
      "source": [
        "!pip install tensorflow==2.8.0"
      ],
      "metadata": {
        "colab": {
          "base_uri": "https://localhost:8080/",
          "height": 1000
        },
        "id": "2Tg_70W8xSMY",
        "outputId": "a41364c9-0bc7-463d-9f8a-6e4a1666cdf8"
      },
      "execution_count": null,
      "outputs": [
        {
          "output_type": "stream",
          "name": "stdout",
          "text": [
            "Looking in indexes: https://pypi.org/simple, https://us-python.pkg.dev/colab-wheels/public/simple/\n",
            "Collecting tensorflow==2.8.0\n",
            "  Downloading https://us-python.pkg.dev/colab-wheels/public/tensorflow/tensorflow-2.8.0%2Bzzzcolab20220506162203-cp37-cp37m-linux_x86_64.whl (668.3 MB)\n",
            "\u001b[K     |████████████████████████████████| 668.3 MB 17 kB/s \n",
            "\u001b[?25hRequirement already satisfied: typing-extensions>=3.6.6 in /usr/local/lib/python3.7/dist-packages (from tensorflow==2.8.0) (4.1.1)\n",
            "Requirement already satisfied: six>=1.12.0 in /usr/local/lib/python3.7/dist-packages (from tensorflow==2.8.0) (1.15.0)\n",
            "Requirement already satisfied: google-pasta>=0.1.1 in /usr/local/lib/python3.7/dist-packages (from tensorflow==2.8.0) (0.2.0)\n",
            "Requirement already satisfied: termcolor>=1.1.0 in /usr/local/lib/python3.7/dist-packages (from tensorflow==2.8.0) (1.1.0)\n",
            "Requirement already satisfied: keras<2.9,>=2.8.0rc0 in /usr/local/lib/python3.7/dist-packages (from tensorflow==2.8.0) (2.8.0)\n",
            "Requirement already satisfied: numpy>=1.20 in /usr/local/lib/python3.7/dist-packages (from tensorflow==2.8.0) (1.21.6)\n",
            "Requirement already satisfied: keras-preprocessing>=1.1.1 in /usr/local/lib/python3.7/dist-packages (from tensorflow==2.8.0) (1.1.2)\n",
            "Requirement already satisfied: setuptools in /usr/local/lib/python3.7/dist-packages (from tensorflow==2.8.0) (57.4.0)\n",
            "Requirement already satisfied: flatbuffers>=1.12 in /usr/local/lib/python3.7/dist-packages (from tensorflow==2.8.0) (2.0)\n",
            "Requirement already satisfied: wrapt>=1.11.0 in /usr/local/lib/python3.7/dist-packages (from tensorflow==2.8.0) (1.14.1)\n",
            "Requirement already satisfied: opt-einsum>=2.3.2 in /usr/local/lib/python3.7/dist-packages (from tensorflow==2.8.0) (3.3.0)\n",
            "Requirement already satisfied: gast>=0.2.1 in /usr/local/lib/python3.7/dist-packages (from tensorflow==2.8.0) (0.5.3)\n",
            "Requirement already satisfied: tensorflow-io-gcs-filesystem>=0.23.1 in /usr/local/lib/python3.7/dist-packages (from tensorflow==2.8.0) (0.26.0)\n",
            "Requirement already satisfied: tensorboard<2.9,>=2.8 in /usr/local/lib/python3.7/dist-packages (from tensorflow==2.8.0) (2.8.0)\n",
            "Requirement already satisfied: astunparse>=1.6.0 in /usr/local/lib/python3.7/dist-packages (from tensorflow==2.8.0) (1.6.3)\n",
            "Collecting tf-estimator-nightly==2.8.0.dev2021122109\n",
            "  Downloading tf_estimator_nightly-2.8.0.dev2021122109-py2.py3-none-any.whl (462 kB)\n",
            "\u001b[K     |████████████████████████████████| 462 kB 4.3 MB/s \n",
            "\u001b[?25hRequirement already satisfied: absl-py>=0.4.0 in /usr/local/lib/python3.7/dist-packages (from tensorflow==2.8.0) (1.2.0)\n",
            "Requirement already satisfied: grpcio<2.0,>=1.24.3 in /usr/local/lib/python3.7/dist-packages (from tensorflow==2.8.0) (1.47.0)\n",
            "Requirement already satisfied: h5py>=2.9.0 in /usr/local/lib/python3.7/dist-packages (from tensorflow==2.8.0) (3.1.0)\n",
            "Requirement already satisfied: protobuf>=3.9.2 in /usr/local/lib/python3.7/dist-packages (from tensorflow==2.8.0) (3.17.3)\n",
            "Requirement already satisfied: libclang>=9.0.1 in /usr/local/lib/python3.7/dist-packages (from tensorflow==2.8.0) (14.0.6)\n",
            "Requirement already satisfied: wheel<1.0,>=0.23.0 in /usr/local/lib/python3.7/dist-packages (from astunparse>=1.6.0->tensorflow==2.8.0) (0.37.1)\n",
            "Requirement already satisfied: cached-property in /usr/local/lib/python3.7/dist-packages (from h5py>=2.9.0->tensorflow==2.8.0) (1.5.2)\n",
            "Requirement already satisfied: google-auth-oauthlib<0.5,>=0.4.1 in /usr/local/lib/python3.7/dist-packages (from tensorboard<2.9,>=2.8->tensorflow==2.8.0) (0.4.6)\n",
            "Requirement already satisfied: tensorboard-plugin-wit>=1.6.0 in /usr/local/lib/python3.7/dist-packages (from tensorboard<2.9,>=2.8->tensorflow==2.8.0) (1.8.1)\n",
            "Requirement already satisfied: requests<3,>=2.21.0 in /usr/local/lib/python3.7/dist-packages (from tensorboard<2.9,>=2.8->tensorflow==2.8.0) (2.23.0)\n",
            "Requirement already satisfied: tensorboard-data-server<0.7.0,>=0.6.0 in /usr/local/lib/python3.7/dist-packages (from tensorboard<2.9,>=2.8->tensorflow==2.8.0) (0.6.1)\n",
            "Requirement already satisfied: markdown>=2.6.8 in /usr/local/lib/python3.7/dist-packages (from tensorboard<2.9,>=2.8->tensorflow==2.8.0) (3.4.1)\n",
            "Requirement already satisfied: google-auth<3,>=1.6.3 in /usr/local/lib/python3.7/dist-packages (from tensorboard<2.9,>=2.8->tensorflow==2.8.0) (1.35.0)\n",
            "Requirement already satisfied: werkzeug>=0.11.15 in /usr/local/lib/python3.7/dist-packages (from tensorboard<2.9,>=2.8->tensorflow==2.8.0) (1.0.1)\n",
            "Requirement already satisfied: rsa<5,>=3.1.4 in /usr/local/lib/python3.7/dist-packages (from google-auth<3,>=1.6.3->tensorboard<2.9,>=2.8->tensorflow==2.8.0) (4.9)\n",
            "Requirement already satisfied: pyasn1-modules>=0.2.1 in /usr/local/lib/python3.7/dist-packages (from google-auth<3,>=1.6.3->tensorboard<2.9,>=2.8->tensorflow==2.8.0) (0.2.8)\n",
            "Requirement already satisfied: cachetools<5.0,>=2.0.0 in /usr/local/lib/python3.7/dist-packages (from google-auth<3,>=1.6.3->tensorboard<2.9,>=2.8->tensorflow==2.8.0) (4.2.4)\n",
            "Requirement already satisfied: requests-oauthlib>=0.7.0 in /usr/local/lib/python3.7/dist-packages (from google-auth-oauthlib<0.5,>=0.4.1->tensorboard<2.9,>=2.8->tensorflow==2.8.0) (1.3.1)\n",
            "Requirement already satisfied: importlib-metadata>=4.4 in /usr/local/lib/python3.7/dist-packages (from markdown>=2.6.8->tensorboard<2.9,>=2.8->tensorflow==2.8.0) (4.12.0)\n",
            "Requirement already satisfied: zipp>=0.5 in /usr/local/lib/python3.7/dist-packages (from importlib-metadata>=4.4->markdown>=2.6.8->tensorboard<2.9,>=2.8->tensorflow==2.8.0) (3.8.1)\n",
            "Requirement already satisfied: pyasn1<0.5.0,>=0.4.6 in /usr/local/lib/python3.7/dist-packages (from pyasn1-modules>=0.2.1->google-auth<3,>=1.6.3->tensorboard<2.9,>=2.8->tensorflow==2.8.0) (0.4.8)\n",
            "Requirement already satisfied: urllib3!=1.25.0,!=1.25.1,<1.26,>=1.21.1 in /usr/local/lib/python3.7/dist-packages (from requests<3,>=2.21.0->tensorboard<2.9,>=2.8->tensorflow==2.8.0) (1.24.3)\n",
            "Requirement already satisfied: certifi>=2017.4.17 in /usr/local/lib/python3.7/dist-packages (from requests<3,>=2.21.0->tensorboard<2.9,>=2.8->tensorflow==2.8.0) (2022.6.15)\n",
            "Requirement already satisfied: chardet<4,>=3.0.2 in /usr/local/lib/python3.7/dist-packages (from requests<3,>=2.21.0->tensorboard<2.9,>=2.8->tensorflow==2.8.0) (3.0.4)\n",
            "Requirement already satisfied: idna<3,>=2.5 in /usr/local/lib/python3.7/dist-packages (from requests<3,>=2.21.0->tensorboard<2.9,>=2.8->tensorflow==2.8.0) (2.10)\n",
            "Requirement already satisfied: oauthlib>=3.0.0 in /usr/local/lib/python3.7/dist-packages (from requests-oauthlib>=0.7.0->google-auth-oauthlib<0.5,>=0.4.1->tensorboard<2.9,>=2.8->tensorflow==2.8.0) (3.2.0)\n",
            "Installing collected packages: tf-estimator-nightly, tensorflow\n",
            "Successfully installed tensorflow-2.8.0+zzzcolab20220506162203 tf-estimator-nightly-2.8.0.dev2021122109\n"
          ]
        },
        {
          "output_type": "display_data",
          "data": {
            "application/vnd.colab-display-data+json": {
              "pip_warning": {
                "packages": [
                  "tensorflow"
                ]
              }
            }
          },
          "metadata": {}
        }
      ]
    },
    {
      "cell_type": "code",
      "source": [
        "# restart 후 확인\n",
        "import tensorflow as tf\n",
        "print(tf.__version__)"
      ],
      "metadata": {
        "colab": {
          "base_uri": "https://localhost:8080/"
        },
        "id": "h7DPpjeyxifv",
        "outputId": "d71357e6-2df1-4f03-f99f-7928b7778a78"
      },
      "execution_count": null,
      "outputs": [
        {
          "output_type": "stream",
          "name": "stdout",
          "text": [
            "2.8.2\n"
          ]
        }
      ]
    },
    {
      "cell_type": "markdown",
      "source": [
        "# 데이터 로딩"
      ],
      "metadata": {
        "id": "633sPckREDYg"
      }
    },
    {
      "cell_type": "code",
      "source": [
        "from google.colab import drive\n",
        "drive.mount('/gdrive')"
      ],
      "metadata": {
        "id": "KxyFkVYcdqlJ",
        "colab": {
          "base_uri": "https://localhost:8080/"
        },
        "outputId": "3644ea88-7b08-4f07-e561-a90de9af8431"
      },
      "execution_count": null,
      "outputs": [
        {
          "output_type": "stream",
          "name": "stdout",
          "text": [
            "Mounted at /gdrive\n"
          ]
        }
      ]
    },
    {
      "cell_type": "code",
      "source": [
        "import pandas as pd\n",
        "import numpy as np\n",
        "import matplotlib.pyplot as plt"
      ],
      "metadata": {
        "id": "mG4zvhT7ES63"
      },
      "execution_count": null,
      "outputs": []
    },
    {
      "cell_type": "code",
      "source": [
        "import IPython\n",
        "import librosa\n",
        "SAMPLING_RATE = 22050"
      ],
      "metadata": {
        "id": "nH0sWXDSyeSc"
      },
      "execution_count": null,
      "outputs": []
    },
    {
      "cell_type": "code",
      "source": [
        "import glob\n",
        "\n",
        "file_list = glob.glob(\"/gdrive/MyDrive/Audio/A/*.wav\") # 0 : 아이, 1 : 화가, 2 : 뿌리 \n",
        "print(len(file_list))\n",
        "print(file_list[:3]) "
      ],
      "metadata": {
        "colab": {
          "base_uri": "https://localhost:8080/"
        },
        "id": "8HVbzOwCGAUQ",
        "outputId": "8f825086-2349-424a-9407-fc01e2d507ea"
      },
      "execution_count": null,
      "outputs": [
        {
          "output_type": "stream",
          "name": "stdout",
          "text": [
            "1172\n",
            "['/gdrive/MyDrive/Audio/A/01_001.wav', '/gdrive/MyDrive/Audio/A/01_002.wav', '/gdrive/MyDrive/Audio/A/01_003.wav']\n"
          ]
        }
      ]
    },
    {
      "cell_type": "code",
      "source": [
        "def load_wav(file_name):\n",
        "    data, _ = librosa.load(file_name, sr=SAMPLING_RATE)\n",
        "    return data\n",
        "\n",
        "raw_x = [] # data\n",
        "raw_y = [] # label\n",
        "for file_name in file_list:\n",
        "    label = int(file_name.split(\"/\")[-1].split(\"_\")[0])  # 파일명을 /로 구분하여 스필릿, 다시 _로 스플릿\n",
        "    \n",
        "    print(file_name, label)\n",
        "    data = load_wav(file_name)\n",
        "    raw_x.append(data)\n",
        "    raw_y.append(label)\n"
      ],
      "metadata": {
        "colab": {
          "base_uri": "https://localhost:8080/"
        },
        "id": "Aumki802EVg5",
        "outputId": "1e78541f-9577-4214-9ba7-f6560ac50a90"
      },
      "execution_count": null,
      "outputs": [
        {
          "output_type": "stream",
          "name": "stdout",
          "text": [
            "/gdrive/MyDrive/Audio/A/01_001.wav 1\n",
            "/gdrive/MyDrive/Audio/A/01_002.wav 1\n",
            "/gdrive/MyDrive/Audio/A/01_003.wav 1\n",
            "/gdrive/MyDrive/Audio/A/01_004.wav 1\n",
            "/gdrive/MyDrive/Audio/A/01_005.wav 1\n",
            "/gdrive/MyDrive/Audio/A/01_006.wav 1\n",
            "/gdrive/MyDrive/Audio/A/01_007.wav 1\n",
            "/gdrive/MyDrive/Audio/A/01_008.wav 1\n",
            "/gdrive/MyDrive/Audio/A/01_009.wav 1\n",
            "/gdrive/MyDrive/Audio/A/01_010.wav 1\n",
            "/gdrive/MyDrive/Audio/A/01_011.wav 1\n",
            "/gdrive/MyDrive/Audio/A/01_012.wav 1\n",
            "/gdrive/MyDrive/Audio/A/01_013.wav 1\n",
            "/gdrive/MyDrive/Audio/A/01_014.wav 1\n",
            "/gdrive/MyDrive/Audio/A/01_015.wav 1\n",
            "/gdrive/MyDrive/Audio/A/01_016.wav 1\n",
            "/gdrive/MyDrive/Audio/A/01_017.wav 1\n",
            "/gdrive/MyDrive/Audio/A/01_018.wav 1\n",
            "/gdrive/MyDrive/Audio/A/01_019.wav 1\n",
            "/gdrive/MyDrive/Audio/A/01_020.wav 1\n",
            "/gdrive/MyDrive/Audio/A/01_021.wav 1\n",
            "/gdrive/MyDrive/Audio/A/01_022.wav 1\n",
            "/gdrive/MyDrive/Audio/A/01_023.wav 1\n",
            "/gdrive/MyDrive/Audio/A/01_024.wav 1\n",
            "/gdrive/MyDrive/Audio/A/01_025.wav 1\n",
            "/gdrive/MyDrive/Audio/A/01_026.wav 1\n",
            "/gdrive/MyDrive/Audio/A/01_027.wav 1\n",
            "/gdrive/MyDrive/Audio/A/01_028.wav 1\n",
            "/gdrive/MyDrive/Audio/A/01_029.wav 1\n",
            "/gdrive/MyDrive/Audio/A/01_030.wav 1\n",
            "/gdrive/MyDrive/Audio/A/01_031.wav 1\n",
            "/gdrive/MyDrive/Audio/A/01_032.wav 1\n",
            "/gdrive/MyDrive/Audio/A/01_033.wav 1\n",
            "/gdrive/MyDrive/Audio/A/01_034.wav 1\n",
            "/gdrive/MyDrive/Audio/A/01_035.wav 1\n",
            "/gdrive/MyDrive/Audio/A/01_036.wav 1\n",
            "/gdrive/MyDrive/Audio/A/01_037.wav 1\n",
            "/gdrive/MyDrive/Audio/A/01_038.wav 1\n",
            "/gdrive/MyDrive/Audio/A/01_039.wav 1\n",
            "/gdrive/MyDrive/Audio/A/01_040.wav 1\n",
            "/gdrive/MyDrive/Audio/A/01_041.wav 1\n",
            "/gdrive/MyDrive/Audio/A/01_042.wav 1\n",
            "/gdrive/MyDrive/Audio/A/01_043.wav 1\n",
            "/gdrive/MyDrive/Audio/A/01_044.wav 1\n",
            "/gdrive/MyDrive/Audio/A/01_045.wav 1\n",
            "/gdrive/MyDrive/Audio/A/01_046.wav 1\n",
            "/gdrive/MyDrive/Audio/A/01_047.wav 1\n",
            "/gdrive/MyDrive/Audio/A/01_048.wav 1\n",
            "/gdrive/MyDrive/Audio/A/01_049.wav 1\n",
            "/gdrive/MyDrive/Audio/A/01_050.wav 1\n",
            "/gdrive/MyDrive/Audio/A/01_052.wav 1\n",
            "/gdrive/MyDrive/Audio/A/01_051.wav 1\n",
            "/gdrive/MyDrive/Audio/A/01_053.wav 1\n",
            "/gdrive/MyDrive/Audio/A/01_054.wav 1\n",
            "/gdrive/MyDrive/Audio/A/01_055.wav 1\n",
            "/gdrive/MyDrive/Audio/A/01_056.wav 1\n",
            "/gdrive/MyDrive/Audio/A/01_058.wav 1\n",
            "/gdrive/MyDrive/Audio/A/01_057.wav 1\n",
            "/gdrive/MyDrive/Audio/A/01_059.wav 1\n",
            "/gdrive/MyDrive/Audio/A/01_060.wav 1\n",
            "/gdrive/MyDrive/Audio/A/01_061.wav 1\n",
            "/gdrive/MyDrive/Audio/A/01_062.wav 1\n",
            "/gdrive/MyDrive/Audio/A/01_064.wav 1\n",
            "/gdrive/MyDrive/Audio/A/01_063.wav 1\n",
            "/gdrive/MyDrive/Audio/A/01_065.wav 1\n",
            "/gdrive/MyDrive/Audio/A/01_066.wav 1\n",
            "/gdrive/MyDrive/Audio/A/01_067.wav 1\n",
            "/gdrive/MyDrive/Audio/A/01_069.wav 1\n",
            "/gdrive/MyDrive/Audio/A/01_068.wav 1\n",
            "/gdrive/MyDrive/Audio/A/01_070.wav 1\n",
            "/gdrive/MyDrive/Audio/A/01_071.wav 1\n",
            "/gdrive/MyDrive/Audio/A/01_072.wav 1\n",
            "/gdrive/MyDrive/Audio/A/01_073.wav 1\n",
            "/gdrive/MyDrive/Audio/A/01_074.wav 1\n",
            "/gdrive/MyDrive/Audio/A/01_075.wav 1\n",
            "/gdrive/MyDrive/Audio/A/01_076.wav 1\n",
            "/gdrive/MyDrive/Audio/A/01_077.wav 1\n",
            "/gdrive/MyDrive/Audio/A/01_078.wav 1\n",
            "/gdrive/MyDrive/Audio/A/01_080.wav 1\n",
            "/gdrive/MyDrive/Audio/A/01_079.wav 1\n",
            "/gdrive/MyDrive/Audio/A/01_081.wav 1\n",
            "/gdrive/MyDrive/Audio/A/01_082.wav 1\n",
            "/gdrive/MyDrive/Audio/A/01_083.wav 1\n",
            "/gdrive/MyDrive/Audio/A/01_084.wav 1\n",
            "/gdrive/MyDrive/Audio/A/01_085.wav 1\n",
            "/gdrive/MyDrive/Audio/A/01_086.wav 1\n",
            "/gdrive/MyDrive/Audio/A/01_087.wav 1\n",
            "/gdrive/MyDrive/Audio/A/01_088.wav 1\n",
            "/gdrive/MyDrive/Audio/A/01_089.wav 1\n",
            "/gdrive/MyDrive/Audio/A/01_090.wav 1\n",
            "/gdrive/MyDrive/Audio/A/01_091.wav 1\n",
            "/gdrive/MyDrive/Audio/A/01_092.wav 1\n",
            "/gdrive/MyDrive/Audio/A/01_093.wav 1\n",
            "/gdrive/MyDrive/Audio/A/01_094.wav 1\n",
            "/gdrive/MyDrive/Audio/A/01_095.wav 1\n",
            "/gdrive/MyDrive/Audio/A/01_096.wav 1\n",
            "/gdrive/MyDrive/Audio/A/01_097.wav 1\n",
            "/gdrive/MyDrive/Audio/A/01_098.wav 1\n",
            "/gdrive/MyDrive/Audio/A/01_099.wav 1\n",
            "/gdrive/MyDrive/Audio/A/01_100.wav 1\n",
            "/gdrive/MyDrive/Audio/A/01_101.wav 1\n",
            "/gdrive/MyDrive/Audio/A/01_102.wav 1\n",
            "/gdrive/MyDrive/Audio/A/01_103.wav 1\n",
            "/gdrive/MyDrive/Audio/A/01_104.wav 1\n",
            "/gdrive/MyDrive/Audio/A/01_105.wav 1\n",
            "/gdrive/MyDrive/Audio/A/01_106.wav 1\n",
            "/gdrive/MyDrive/Audio/A/01_107.wav 1\n",
            "/gdrive/MyDrive/Audio/A/01_108.wav 1\n",
            "/gdrive/MyDrive/Audio/A/01_109.wav 1\n",
            "/gdrive/MyDrive/Audio/A/01_110.wav 1\n",
            "/gdrive/MyDrive/Audio/A/01_111.wav 1\n",
            "/gdrive/MyDrive/Audio/A/01_112.wav 1\n",
            "/gdrive/MyDrive/Audio/A/01_113.wav 1\n",
            "/gdrive/MyDrive/Audio/A/01_114.wav 1\n",
            "/gdrive/MyDrive/Audio/A/01_115.wav 1\n",
            "/gdrive/MyDrive/Audio/A/01_116.wav 1\n",
            "/gdrive/MyDrive/Audio/A/01_117.wav 1\n",
            "/gdrive/MyDrive/Audio/A/01_118.wav 1\n",
            "/gdrive/MyDrive/Audio/A/01_119.wav 1\n",
            "/gdrive/MyDrive/Audio/A/01_120.wav 1\n",
            "/gdrive/MyDrive/Audio/A/01_121.wav 1\n",
            "/gdrive/MyDrive/Audio/A/01_122.wav 1\n",
            "/gdrive/MyDrive/Audio/A/01_123.wav 1\n",
            "/gdrive/MyDrive/Audio/A/01_124.wav 1\n",
            "/gdrive/MyDrive/Audio/A/01_125.wav 1\n",
            "/gdrive/MyDrive/Audio/A/01_126.wav 1\n",
            "/gdrive/MyDrive/Audio/A/01_127.wav 1\n",
            "/gdrive/MyDrive/Audio/A/01_128.wav 1\n",
            "/gdrive/MyDrive/Audio/A/01_129.wav 1\n",
            "/gdrive/MyDrive/Audio/A/01_130.wav 1\n",
            "/gdrive/MyDrive/Audio/A/01_131.wav 1\n",
            "/gdrive/MyDrive/Audio/A/01_132.wav 1\n",
            "/gdrive/MyDrive/Audio/A/01_133.wav 1\n",
            "/gdrive/MyDrive/Audio/A/01_134.wav 1\n",
            "/gdrive/MyDrive/Audio/A/01_135.wav 1\n",
            "/gdrive/MyDrive/Audio/A/01_136.wav 1\n",
            "/gdrive/MyDrive/Audio/A/01_137.wav 1\n",
            "/gdrive/MyDrive/Audio/A/01_138.wav 1\n",
            "/gdrive/MyDrive/Audio/A/01_139.wav 1\n",
            "/gdrive/MyDrive/Audio/A/01_140.wav 1\n",
            "/gdrive/MyDrive/Audio/A/01_141.wav 1\n",
            "/gdrive/MyDrive/Audio/A/01_142.wav 1\n",
            "/gdrive/MyDrive/Audio/A/01_143.wav 1\n",
            "/gdrive/MyDrive/Audio/A/01_144.wav 1\n",
            "/gdrive/MyDrive/Audio/A/01_145.wav 1\n",
            "/gdrive/MyDrive/Audio/A/01_146.wav 1\n",
            "/gdrive/MyDrive/Audio/A/01_147.wav 1\n",
            "/gdrive/MyDrive/Audio/A/01_148.wav 1\n",
            "/gdrive/MyDrive/Audio/A/01_149.wav 1\n",
            "/gdrive/MyDrive/Audio/A/01_150.wav 1\n",
            "/gdrive/MyDrive/Audio/A/01_151.wav 1\n",
            "/gdrive/MyDrive/Audio/A/01_152.wav 1\n",
            "/gdrive/MyDrive/Audio/A/01_153.wav 1\n",
            "/gdrive/MyDrive/Audio/A/01_154.wav 1\n",
            "/gdrive/MyDrive/Audio/A/01_155.wav 1\n",
            "/gdrive/MyDrive/Audio/A/01_156.wav 1\n",
            "/gdrive/MyDrive/Audio/A/01_157.wav 1\n",
            "/gdrive/MyDrive/Audio/A/01_158.wav 1\n",
            "/gdrive/MyDrive/Audio/A/01_159.wav 1\n",
            "/gdrive/MyDrive/Audio/A/01_160.wav 1\n",
            "/gdrive/MyDrive/Audio/A/01_161.wav 1\n",
            "/gdrive/MyDrive/Audio/A/01_162.wav 1\n",
            "/gdrive/MyDrive/Audio/A/01_163.wav 1\n",
            "/gdrive/MyDrive/Audio/A/01_164.wav 1\n",
            "/gdrive/MyDrive/Audio/A/01_165.wav 1\n",
            "/gdrive/MyDrive/Audio/A/01_166.wav 1\n",
            "/gdrive/MyDrive/Audio/A/01_167.wav 1\n",
            "/gdrive/MyDrive/Audio/A/01_168.wav 1\n",
            "/gdrive/MyDrive/Audio/A/01_169.wav 1\n",
            "/gdrive/MyDrive/Audio/A/01_170.wav 1\n",
            "/gdrive/MyDrive/Audio/A/01_171.wav 1\n",
            "/gdrive/MyDrive/Audio/A/01_172.wav 1\n",
            "/gdrive/MyDrive/Audio/A/01_173.wav 1\n",
            "/gdrive/MyDrive/Audio/A/01_174.wav 1\n",
            "/gdrive/MyDrive/Audio/A/01_175.wav 1\n",
            "/gdrive/MyDrive/Audio/A/01_176.wav 1\n",
            "/gdrive/MyDrive/Audio/A/01_177.wav 1\n",
            "/gdrive/MyDrive/Audio/A/01_178.wav 1\n",
            "/gdrive/MyDrive/Audio/A/01_179.wav 1\n",
            "/gdrive/MyDrive/Audio/A/01_180.wav 1\n",
            "/gdrive/MyDrive/Audio/A/01_181.wav 1\n",
            "/gdrive/MyDrive/Audio/A/01_182.wav 1\n",
            "/gdrive/MyDrive/Audio/A/01_183.wav 1\n",
            "/gdrive/MyDrive/Audio/A/01_184.wav 1\n",
            "/gdrive/MyDrive/Audio/A/01_185.wav 1\n",
            "/gdrive/MyDrive/Audio/A/01_186.wav 1\n",
            "/gdrive/MyDrive/Audio/A/01_187.wav 1\n",
            "/gdrive/MyDrive/Audio/A/01_188.wav 1\n",
            "/gdrive/MyDrive/Audio/A/01_189.wav 1\n",
            "/gdrive/MyDrive/Audio/A/01_190.wav 1\n",
            "/gdrive/MyDrive/Audio/A/01_191.wav 1\n",
            "/gdrive/MyDrive/Audio/A/01_192.wav 1\n",
            "/gdrive/MyDrive/Audio/A/01_193.wav 1\n",
            "/gdrive/MyDrive/Audio/A/01_194.wav 1\n",
            "/gdrive/MyDrive/Audio/A/01_195.wav 1\n",
            "/gdrive/MyDrive/Audio/A/01_196.wav 1\n",
            "/gdrive/MyDrive/Audio/A/01_197.wav 1\n",
            "/gdrive/MyDrive/Audio/A/01_198.wav 1\n",
            "/gdrive/MyDrive/Audio/A/01_199.wav 1\n",
            "/gdrive/MyDrive/Audio/A/01_200.wav 1\n",
            "/gdrive/MyDrive/Audio/A/01_201.wav 1\n",
            "/gdrive/MyDrive/Audio/A/01_202.wav 1\n",
            "/gdrive/MyDrive/Audio/A/01_203.wav 1\n",
            "/gdrive/MyDrive/Audio/A/01_204.wav 1\n",
            "/gdrive/MyDrive/Audio/A/01_205.wav 1\n",
            "/gdrive/MyDrive/Audio/A/01_206.wav 1\n",
            "/gdrive/MyDrive/Audio/A/01_207.wav 1\n",
            "/gdrive/MyDrive/Audio/A/01_208.wav 1\n",
            "/gdrive/MyDrive/Audio/A/01_209.wav 1\n",
            "/gdrive/MyDrive/Audio/A/01_210.wav 1\n",
            "/gdrive/MyDrive/Audio/A/01_211.wav 1\n",
            "/gdrive/MyDrive/Audio/A/01_212.wav 1\n",
            "/gdrive/MyDrive/Audio/A/01_213.wav 1\n",
            "/gdrive/MyDrive/Audio/A/01_214.wav 1\n",
            "/gdrive/MyDrive/Audio/A/01_215.wav 1\n",
            "/gdrive/MyDrive/Audio/A/01_216.wav 1\n",
            "/gdrive/MyDrive/Audio/A/01_217.wav 1\n",
            "/gdrive/MyDrive/Audio/A/01_218.wav 1\n",
            "/gdrive/MyDrive/Audio/A/01_219.wav 1\n",
            "/gdrive/MyDrive/Audio/A/01_220.wav 1\n",
            "/gdrive/MyDrive/Audio/A/01_221.wav 1\n",
            "/gdrive/MyDrive/Audio/A/01_222.wav 1\n",
            "/gdrive/MyDrive/Audio/A/01_223.wav 1\n",
            "/gdrive/MyDrive/Audio/A/01_224.wav 1\n",
            "/gdrive/MyDrive/Audio/A/01_225.wav 1\n",
            "/gdrive/MyDrive/Audio/A/01_226.wav 1\n",
            "/gdrive/MyDrive/Audio/A/01_227.wav 1\n",
            "/gdrive/MyDrive/Audio/A/01_228.wav 1\n",
            "/gdrive/MyDrive/Audio/A/01_229.wav 1\n",
            "/gdrive/MyDrive/Audio/A/01_230.wav 1\n",
            "/gdrive/MyDrive/Audio/A/01_231.wav 1\n",
            "/gdrive/MyDrive/Audio/A/01_232.wav 1\n",
            "/gdrive/MyDrive/Audio/A/01_233.wav 1\n",
            "/gdrive/MyDrive/Audio/A/01_234.wav 1\n",
            "/gdrive/MyDrive/Audio/A/01_235.wav 1\n",
            "/gdrive/MyDrive/Audio/A/01_236.wav 1\n",
            "/gdrive/MyDrive/Audio/A/01_237.wav 1\n",
            "/gdrive/MyDrive/Audio/A/01_238.wav 1\n",
            "/gdrive/MyDrive/Audio/A/01_239.wav 1\n",
            "/gdrive/MyDrive/Audio/A/01_240.wav 1\n",
            "/gdrive/MyDrive/Audio/A/01_241.wav 1\n",
            "/gdrive/MyDrive/Audio/A/01_242.wav 1\n",
            "/gdrive/MyDrive/Audio/A/01_243.wav 1\n",
            "/gdrive/MyDrive/Audio/A/01_244.wav 1\n",
            "/gdrive/MyDrive/Audio/A/01_245.wav 1\n",
            "/gdrive/MyDrive/Audio/A/01_246.wav 1\n",
            "/gdrive/MyDrive/Audio/A/01_247.wav 1\n",
            "/gdrive/MyDrive/Audio/A/01_248.wav 1\n",
            "/gdrive/MyDrive/Audio/A/01_249.wav 1\n",
            "/gdrive/MyDrive/Audio/A/01_250.wav 1\n",
            "/gdrive/MyDrive/Audio/A/01_251.wav 1\n",
            "/gdrive/MyDrive/Audio/A/01_252.wav 1\n",
            "/gdrive/MyDrive/Audio/A/01_253.wav 1\n",
            "/gdrive/MyDrive/Audio/A/01_254.wav 1\n",
            "/gdrive/MyDrive/Audio/A/01_255.wav 1\n",
            "/gdrive/MyDrive/Audio/A/01_256.wav 1\n",
            "/gdrive/MyDrive/Audio/A/01_257.wav 1\n",
            "/gdrive/MyDrive/Audio/A/01_258.wav 1\n",
            "/gdrive/MyDrive/Audio/A/01_259.wav 1\n",
            "/gdrive/MyDrive/Audio/A/01_260.wav 1\n",
            "/gdrive/MyDrive/Audio/A/01_261.wav 1\n",
            "/gdrive/MyDrive/Audio/A/01_262.wav 1\n",
            "/gdrive/MyDrive/Audio/A/01_263.wav 1\n",
            "/gdrive/MyDrive/Audio/A/01_264.wav 1\n",
            "/gdrive/MyDrive/Audio/A/01_265.wav 1\n",
            "/gdrive/MyDrive/Audio/A/01_266.wav 1\n",
            "/gdrive/MyDrive/Audio/A/01_267.wav 1\n",
            "/gdrive/MyDrive/Audio/A/01_268.wav 1\n",
            "/gdrive/MyDrive/Audio/A/01_269.wav 1\n",
            "/gdrive/MyDrive/Audio/A/01_270.wav 1\n",
            "/gdrive/MyDrive/Audio/A/01_271.wav 1\n",
            "/gdrive/MyDrive/Audio/A/01_272.wav 1\n",
            "/gdrive/MyDrive/Audio/A/01_273.wav 1\n",
            "/gdrive/MyDrive/Audio/A/01_274.wav 1\n",
            "/gdrive/MyDrive/Audio/A/01_275.wav 1\n",
            "/gdrive/MyDrive/Audio/A/01_276.wav 1\n",
            "/gdrive/MyDrive/Audio/A/01_277.wav 1\n",
            "/gdrive/MyDrive/Audio/A/01_278.wav 1\n",
            "/gdrive/MyDrive/Audio/A/01_279.wav 1\n",
            "/gdrive/MyDrive/Audio/A/01_280.wav 1\n",
            "/gdrive/MyDrive/Audio/A/01_281.wav 1\n",
            "/gdrive/MyDrive/Audio/A/01_282.wav 1\n",
            "/gdrive/MyDrive/Audio/A/01_283.wav 1\n",
            "/gdrive/MyDrive/Audio/A/01_284.wav 1\n",
            "/gdrive/MyDrive/Audio/A/01_285.wav 1\n",
            "/gdrive/MyDrive/Audio/A/01_286.wav 1\n",
            "/gdrive/MyDrive/Audio/A/01_287.wav 1\n",
            "/gdrive/MyDrive/Audio/A/01_288.wav 1\n",
            "/gdrive/MyDrive/Audio/A/01_289.wav 1\n",
            "/gdrive/MyDrive/Audio/A/01_290.wav 1\n",
            "/gdrive/MyDrive/Audio/A/01_291.wav 1\n",
            "/gdrive/MyDrive/Audio/A/01_292.wav 1\n",
            "/gdrive/MyDrive/Audio/A/01_293.wav 1\n",
            "/gdrive/MyDrive/Audio/A/01_294.wav 1\n",
            "/gdrive/MyDrive/Audio/A/01_295.wav 1\n",
            "/gdrive/MyDrive/Audio/A/01_296.wav 1\n",
            "/gdrive/MyDrive/Audio/A/01_297.wav 1\n",
            "/gdrive/MyDrive/Audio/A/01_298.wav 1\n",
            "/gdrive/MyDrive/Audio/A/01_299.wav 1\n",
            "/gdrive/MyDrive/Audio/A/01_300.wav 1\n",
            "/gdrive/MyDrive/Audio/A/01_301.wav 1\n",
            "/gdrive/MyDrive/Audio/A/01_302.wav 1\n",
            "/gdrive/MyDrive/Audio/A/01_303.wav 1\n",
            "/gdrive/MyDrive/Audio/A/01_304.wav 1\n",
            "/gdrive/MyDrive/Audio/A/01_305.wav 1\n",
            "/gdrive/MyDrive/Audio/A/01_306.wav 1\n",
            "/gdrive/MyDrive/Audio/A/01_307.wav 1\n",
            "/gdrive/MyDrive/Audio/A/01_308.wav 1\n",
            "/gdrive/MyDrive/Audio/A/01_309.wav 1\n",
            "/gdrive/MyDrive/Audio/A/01_310.wav 1\n",
            "/gdrive/MyDrive/Audio/A/01_311.wav 1\n",
            "/gdrive/MyDrive/Audio/A/01_312.wav 1\n",
            "/gdrive/MyDrive/Audio/A/01_313.wav 1\n",
            "/gdrive/MyDrive/Audio/A/01_314.wav 1\n",
            "/gdrive/MyDrive/Audio/A/01_315.wav 1\n",
            "/gdrive/MyDrive/Audio/A/01_316.wav 1\n",
            "/gdrive/MyDrive/Audio/A/01_317.wav 1\n",
            "/gdrive/MyDrive/Audio/A/01_318.wav 1\n",
            "/gdrive/MyDrive/Audio/A/01_319.wav 1\n",
            "/gdrive/MyDrive/Audio/A/01_320.wav 1\n",
            "/gdrive/MyDrive/Audio/A/01_321.wav 1\n",
            "/gdrive/MyDrive/Audio/A/01_322.wav 1\n",
            "/gdrive/MyDrive/Audio/A/01_323.wav 1\n",
            "/gdrive/MyDrive/Audio/A/01_324.wav 1\n",
            "/gdrive/MyDrive/Audio/A/01_325.wav 1\n",
            "/gdrive/MyDrive/Audio/A/01_326.wav 1\n",
            "/gdrive/MyDrive/Audio/A/01_327.wav 1\n",
            "/gdrive/MyDrive/Audio/A/01_328.wav 1\n",
            "/gdrive/MyDrive/Audio/A/01_329.wav 1\n",
            "/gdrive/MyDrive/Audio/A/01_330.wav 1\n",
            "/gdrive/MyDrive/Audio/A/01_331.wav 1\n",
            "/gdrive/MyDrive/Audio/A/01_332.wav 1\n",
            "/gdrive/MyDrive/Audio/A/01_333.wav 1\n",
            "/gdrive/MyDrive/Audio/A/01_334.wav 1\n",
            "/gdrive/MyDrive/Audio/A/01_335.wav 1\n",
            "/gdrive/MyDrive/Audio/A/01_336.wav 1\n",
            "/gdrive/MyDrive/Audio/A/01_337.wav 1\n",
            "/gdrive/MyDrive/Audio/A/01_338.wav 1\n",
            "/gdrive/MyDrive/Audio/A/01_339.wav 1\n",
            "/gdrive/MyDrive/Audio/A/01_340.wav 1\n",
            "/gdrive/MyDrive/Audio/A/01_341.wav 1\n",
            "/gdrive/MyDrive/Audio/A/01_342.wav 1\n",
            "/gdrive/MyDrive/Audio/A/01_343.wav 1\n",
            "/gdrive/MyDrive/Audio/A/01_344.wav 1\n",
            "/gdrive/MyDrive/Audio/A/01_345.wav 1\n",
            "/gdrive/MyDrive/Audio/A/01_346.wav 1\n",
            "/gdrive/MyDrive/Audio/A/01_347.wav 1\n",
            "/gdrive/MyDrive/Audio/A/01_348.wav 1\n",
            "/gdrive/MyDrive/Audio/A/01_349.wav 1\n",
            "/gdrive/MyDrive/Audio/A/01_350.wav 1\n",
            "/gdrive/MyDrive/Audio/A/01_351.wav 1\n",
            "/gdrive/MyDrive/Audio/A/01_352.wav 1\n",
            "/gdrive/MyDrive/Audio/A/01_353.wav 1\n",
            "/gdrive/MyDrive/Audio/A/01_354.wav 1\n",
            "/gdrive/MyDrive/Audio/A/01_355.wav 1\n",
            "/gdrive/MyDrive/Audio/A/01_356.wav 1\n",
            "/gdrive/MyDrive/Audio/A/01_357.wav 1\n",
            "/gdrive/MyDrive/Audio/A/01_358.wav 1\n",
            "/gdrive/MyDrive/Audio/A/01_359.wav 1\n",
            "/gdrive/MyDrive/Audio/A/01_360.wav 1\n",
            "/gdrive/MyDrive/Audio/A/01_361.wav 1\n",
            "/gdrive/MyDrive/Audio/A/01_362.wav 1\n",
            "/gdrive/MyDrive/Audio/A/01_363.wav 1\n",
            "/gdrive/MyDrive/Audio/A/01_365.wav 1\n",
            "/gdrive/MyDrive/Audio/A/01_364.wav 1\n",
            "/gdrive/MyDrive/Audio/A/01_366.wav 1\n",
            "/gdrive/MyDrive/Audio/A/01_367.wav 1\n",
            "/gdrive/MyDrive/Audio/A/01_368.wav 1\n",
            "/gdrive/MyDrive/Audio/A/01_369.wav 1\n",
            "/gdrive/MyDrive/Audio/A/01_370.wav 1\n",
            "/gdrive/MyDrive/Audio/A/01_372.wav 1\n",
            "/gdrive/MyDrive/Audio/A/01_371.wav 1\n",
            "/gdrive/MyDrive/Audio/A/01_373.wav 1\n",
            "/gdrive/MyDrive/Audio/A/01_374.wav 1\n",
            "/gdrive/MyDrive/Audio/A/01_375.wav 1\n",
            "/gdrive/MyDrive/Audio/A/01_377.wav 1\n",
            "/gdrive/MyDrive/Audio/A/01_376.wav 1\n",
            "/gdrive/MyDrive/Audio/A/01_378.wav 1\n",
            "/gdrive/MyDrive/Audio/A/01_379.wav 1\n",
            "/gdrive/MyDrive/Audio/A/01_380.wav 1\n",
            "/gdrive/MyDrive/Audio/A/01_381.wav 1\n",
            "/gdrive/MyDrive/Audio/A/01_382.wav 1\n",
            "/gdrive/MyDrive/Audio/A/01_383.wav 1\n",
            "/gdrive/MyDrive/Audio/A/01_384.wav 1\n",
            "/gdrive/MyDrive/Audio/A/01_385.wav 1\n",
            "/gdrive/MyDrive/Audio/A/01_386.wav 1\n",
            "/gdrive/MyDrive/Audio/A/01_387.wav 1\n",
            "/gdrive/MyDrive/Audio/A/01_388.wav 1\n",
            "/gdrive/MyDrive/Audio/A/01_389.wav 1\n",
            "/gdrive/MyDrive/Audio/A/01_390.wav 1\n",
            "/gdrive/MyDrive/Audio/A/01_391.wav 1\n",
            "/gdrive/MyDrive/Audio/A/01_392.wav 1\n",
            "/gdrive/MyDrive/Audio/A/01_393.wav 1\n",
            "/gdrive/MyDrive/Audio/A/01_394.wav 1\n",
            "/gdrive/MyDrive/Audio/A/01_395.wav 1\n",
            "/gdrive/MyDrive/Audio/A/01_396.wav 1\n",
            "/gdrive/MyDrive/Audio/A/01_398.wav 1\n",
            "/gdrive/MyDrive/Audio/A/01_397.wav 1\n",
            "/gdrive/MyDrive/Audio/A/01_399.wav 1\n",
            "/gdrive/MyDrive/Audio/A/01_400.wav 1\n",
            "/gdrive/MyDrive/Audio/A/01_401.wav 1\n",
            "/gdrive/MyDrive/Audio/A/01_402.wav 1\n",
            "/gdrive/MyDrive/Audio/A/01_403.wav 1\n",
            "/gdrive/MyDrive/Audio/A/01_404.wav 1\n",
            "/gdrive/MyDrive/Audio/A/02_001.wav 2\n",
            "/gdrive/MyDrive/Audio/A/02_002.wav 2\n",
            "/gdrive/MyDrive/Audio/A/02_003.wav 2\n",
            "/gdrive/MyDrive/Audio/A/02_004.wav 2\n",
            "/gdrive/MyDrive/Audio/A/02_005.wav 2\n",
            "/gdrive/MyDrive/Audio/A/02_006.wav 2\n",
            "/gdrive/MyDrive/Audio/A/02_007.wav 2\n",
            "/gdrive/MyDrive/Audio/A/02_008.wav 2\n",
            "/gdrive/MyDrive/Audio/A/02_009.wav 2\n",
            "/gdrive/MyDrive/Audio/A/02_010.wav 2\n",
            "/gdrive/MyDrive/Audio/A/02_011.wav 2\n",
            "/gdrive/MyDrive/Audio/A/02_012.wav 2\n",
            "/gdrive/MyDrive/Audio/A/02_013.wav 2\n",
            "/gdrive/MyDrive/Audio/A/02_014.wav 2\n",
            "/gdrive/MyDrive/Audio/A/02_015.wav 2\n",
            "/gdrive/MyDrive/Audio/A/02_016.wav 2\n",
            "/gdrive/MyDrive/Audio/A/02_017.wav 2\n",
            "/gdrive/MyDrive/Audio/A/02_018.wav 2\n",
            "/gdrive/MyDrive/Audio/A/02_019.wav 2\n",
            "/gdrive/MyDrive/Audio/A/02_020.wav 2\n",
            "/gdrive/MyDrive/Audio/A/02_021.wav 2\n",
            "/gdrive/MyDrive/Audio/A/02_022.wav 2\n",
            "/gdrive/MyDrive/Audio/A/02_023.wav 2\n",
            "/gdrive/MyDrive/Audio/A/02_024.wav 2\n",
            "/gdrive/MyDrive/Audio/A/02_025.wav 2\n",
            "/gdrive/MyDrive/Audio/A/02_026.wav 2\n",
            "/gdrive/MyDrive/Audio/A/02_027.wav 2\n",
            "/gdrive/MyDrive/Audio/A/02_028.wav 2\n",
            "/gdrive/MyDrive/Audio/A/02_029.wav 2\n",
            "/gdrive/MyDrive/Audio/A/02_030.wav 2\n",
            "/gdrive/MyDrive/Audio/A/02_031.wav 2\n",
            "/gdrive/MyDrive/Audio/A/02_032.wav 2\n",
            "/gdrive/MyDrive/Audio/A/02_033.wav 2\n",
            "/gdrive/MyDrive/Audio/A/02_034.wav 2\n",
            "/gdrive/MyDrive/Audio/A/02_035.wav 2\n",
            "/gdrive/MyDrive/Audio/A/02_036.wav 2\n",
            "/gdrive/MyDrive/Audio/A/02_037.wav 2\n",
            "/gdrive/MyDrive/Audio/A/02_038.wav 2\n",
            "/gdrive/MyDrive/Audio/A/02_039.wav 2\n",
            "/gdrive/MyDrive/Audio/A/02_040.wav 2\n",
            "/gdrive/MyDrive/Audio/A/02_041.wav 2\n",
            "/gdrive/MyDrive/Audio/A/02_042.wav 2\n",
            "/gdrive/MyDrive/Audio/A/02_043.wav 2\n",
            "/gdrive/MyDrive/Audio/A/02_044.wav 2\n",
            "/gdrive/MyDrive/Audio/A/02_045.wav 2\n",
            "/gdrive/MyDrive/Audio/A/02_046.wav 2\n",
            "/gdrive/MyDrive/Audio/A/02_047.wav 2\n",
            "/gdrive/MyDrive/Audio/A/02_048.wav 2\n",
            "/gdrive/MyDrive/Audio/A/02_049.wav 2\n",
            "/gdrive/MyDrive/Audio/A/02_050.wav 2\n",
            "/gdrive/MyDrive/Audio/A/02_051.wav 2\n",
            "/gdrive/MyDrive/Audio/A/02_053.wav 2\n",
            "/gdrive/MyDrive/Audio/A/02_052.wav 2\n",
            "/gdrive/MyDrive/Audio/A/02_054.wav 2\n",
            "/gdrive/MyDrive/Audio/A/02_055.wav 2\n",
            "/gdrive/MyDrive/Audio/A/02_056.wav 2\n",
            "/gdrive/MyDrive/Audio/A/02_057.wav 2\n",
            "/gdrive/MyDrive/Audio/A/02_059.wav 2\n",
            "/gdrive/MyDrive/Audio/A/02_058.wav 2\n",
            "/gdrive/MyDrive/Audio/A/02_060.wav 2\n",
            "/gdrive/MyDrive/Audio/A/02_061.wav 2\n",
            "/gdrive/MyDrive/Audio/A/02_062.wav 2\n",
            "/gdrive/MyDrive/Audio/A/02_063.wav 2\n",
            "/gdrive/MyDrive/Audio/A/02_064.wav 2\n",
            "/gdrive/MyDrive/Audio/A/02_065.wav 2\n",
            "/gdrive/MyDrive/Audio/A/02_066.wav 2\n",
            "/gdrive/MyDrive/Audio/A/02_067.wav 2\n",
            "/gdrive/MyDrive/Audio/A/02_068.wav 2\n",
            "/gdrive/MyDrive/Audio/A/02_069.wav 2\n",
            "/gdrive/MyDrive/Audio/A/02_070.wav 2\n",
            "/gdrive/MyDrive/Audio/A/02_071.wav 2\n",
            "/gdrive/MyDrive/Audio/A/02_072.wav 2\n",
            "/gdrive/MyDrive/Audio/A/02_073.wav 2\n",
            "/gdrive/MyDrive/Audio/A/02_074.wav 2\n",
            "/gdrive/MyDrive/Audio/A/02_075.wav 2\n",
            "/gdrive/MyDrive/Audio/A/02_076.wav 2\n",
            "/gdrive/MyDrive/Audio/A/02_077.wav 2\n",
            "/gdrive/MyDrive/Audio/A/02_078.wav 2\n",
            "/gdrive/MyDrive/Audio/A/02_079.wav 2\n",
            "/gdrive/MyDrive/Audio/A/02_080.wav 2\n",
            "/gdrive/MyDrive/Audio/A/02_081.wav 2\n",
            "/gdrive/MyDrive/Audio/A/02_082.wav 2\n",
            "/gdrive/MyDrive/Audio/A/02_083.wav 2\n",
            "/gdrive/MyDrive/Audio/A/02_084.wav 2\n",
            "/gdrive/MyDrive/Audio/A/02_085.wav 2\n",
            "/gdrive/MyDrive/Audio/A/02_086.wav 2\n",
            "/gdrive/MyDrive/Audio/A/02_087.wav 2\n",
            "/gdrive/MyDrive/Audio/A/02_088.wav 2\n",
            "/gdrive/MyDrive/Audio/A/02_089.wav 2\n",
            "/gdrive/MyDrive/Audio/A/02_091.wav 2\n",
            "/gdrive/MyDrive/Audio/A/02_090.wav 2\n",
            "/gdrive/MyDrive/Audio/A/02_092.wav 2\n",
            "/gdrive/MyDrive/Audio/A/02_093.wav 2\n",
            "/gdrive/MyDrive/Audio/A/02_094.wav 2\n",
            "/gdrive/MyDrive/Audio/A/02_095.wav 2\n",
            "/gdrive/MyDrive/Audio/A/02_096.wav 2\n",
            "/gdrive/MyDrive/Audio/A/02_097.wav 2\n",
            "/gdrive/MyDrive/Audio/A/02_098.wav 2\n",
            "/gdrive/MyDrive/Audio/A/02_099.wav 2\n",
            "/gdrive/MyDrive/Audio/A/02_101.wav 2\n",
            "/gdrive/MyDrive/Audio/A/02_100.wav 2\n",
            "/gdrive/MyDrive/Audio/A/02_102.wav 2\n",
            "/gdrive/MyDrive/Audio/A/02_103.wav 2\n",
            "/gdrive/MyDrive/Audio/A/02_104.wav 2\n",
            "/gdrive/MyDrive/Audio/A/02_105.wav 2\n",
            "/gdrive/MyDrive/Audio/A/02_106.wav 2\n",
            "/gdrive/MyDrive/Audio/A/02_107.wav 2\n",
            "/gdrive/MyDrive/Audio/A/02_108.wav 2\n",
            "/gdrive/MyDrive/Audio/A/02_109.wav 2\n",
            "/gdrive/MyDrive/Audio/A/02_110.wav 2\n",
            "/gdrive/MyDrive/Audio/A/02_111.wav 2\n",
            "/gdrive/MyDrive/Audio/A/02_112.wav 2\n",
            "/gdrive/MyDrive/Audio/A/02_113.wav 2\n",
            "/gdrive/MyDrive/Audio/A/02_114.wav 2\n",
            "/gdrive/MyDrive/Audio/A/02_115.wav 2\n",
            "/gdrive/MyDrive/Audio/A/02_116.wav 2\n",
            "/gdrive/MyDrive/Audio/A/02_118.wav 2\n",
            "/gdrive/MyDrive/Audio/A/02_117.wav 2\n",
            "/gdrive/MyDrive/Audio/A/02_119.wav 2\n",
            "/gdrive/MyDrive/Audio/A/02_120.wav 2\n",
            "/gdrive/MyDrive/Audio/A/02_121.wav 2\n",
            "/gdrive/MyDrive/Audio/A/02_122.wav 2\n",
            "/gdrive/MyDrive/Audio/A/02_123.wav 2\n",
            "/gdrive/MyDrive/Audio/A/02_124.wav 2\n",
            "/gdrive/MyDrive/Audio/A/02_125.wav 2\n",
            "/gdrive/MyDrive/Audio/A/02_126.wav 2\n",
            "/gdrive/MyDrive/Audio/A/02_127.wav 2\n",
            "/gdrive/MyDrive/Audio/A/02_128.wav 2\n",
            "/gdrive/MyDrive/Audio/A/02_129.wav 2\n",
            "/gdrive/MyDrive/Audio/A/02_130.wav 2\n",
            "/gdrive/MyDrive/Audio/A/02_131.wav 2\n",
            "/gdrive/MyDrive/Audio/A/02_133.wav 2\n",
            "/gdrive/MyDrive/Audio/A/02_132.wav 2\n",
            "/gdrive/MyDrive/Audio/A/02_134.wav 2\n",
            "/gdrive/MyDrive/Audio/A/02_135.wav 2\n",
            "/gdrive/MyDrive/Audio/A/02_136.wav 2\n",
            "/gdrive/MyDrive/Audio/A/02_137.wav 2\n",
            "/gdrive/MyDrive/Audio/A/02_138.wav 2\n",
            "/gdrive/MyDrive/Audio/A/02_139.wav 2\n",
            "/gdrive/MyDrive/Audio/A/02_140.wav 2\n",
            "/gdrive/MyDrive/Audio/A/02_141.wav 2\n",
            "/gdrive/MyDrive/Audio/A/02_142.wav 2\n",
            "/gdrive/MyDrive/Audio/A/02_143.wav 2\n",
            "/gdrive/MyDrive/Audio/A/02_144.wav 2\n",
            "/gdrive/MyDrive/Audio/A/02_145.wav 2\n",
            "/gdrive/MyDrive/Audio/A/02_146.wav 2\n",
            "/gdrive/MyDrive/Audio/A/02_147.wav 2\n",
            "/gdrive/MyDrive/Audio/A/02_148.wav 2\n",
            "/gdrive/MyDrive/Audio/A/02_149.wav 2\n",
            "/gdrive/MyDrive/Audio/A/02_150.wav 2\n",
            "/gdrive/MyDrive/Audio/A/02_151.wav 2\n",
            "/gdrive/MyDrive/Audio/A/02_152.wav 2\n",
            "/gdrive/MyDrive/Audio/A/02_153.wav 2\n",
            "/gdrive/MyDrive/Audio/A/02_154.wav 2\n",
            "/gdrive/MyDrive/Audio/A/02_155.wav 2\n",
            "/gdrive/MyDrive/Audio/A/02_156.wav 2\n",
            "/gdrive/MyDrive/Audio/A/02_157.wav 2\n",
            "/gdrive/MyDrive/Audio/A/02_158.wav 2\n",
            "/gdrive/MyDrive/Audio/A/02_159.wav 2\n",
            "/gdrive/MyDrive/Audio/A/02_160.wav 2\n",
            "/gdrive/MyDrive/Audio/A/02_161.wav 2\n",
            "/gdrive/MyDrive/Audio/A/02_162.wav 2\n",
            "/gdrive/MyDrive/Audio/A/02_163.wav 2\n",
            "/gdrive/MyDrive/Audio/A/02_164.wav 2\n",
            "/gdrive/MyDrive/Audio/A/02_165.wav 2\n",
            "/gdrive/MyDrive/Audio/A/02_166.wav 2\n",
            "/gdrive/MyDrive/Audio/A/02_167.wav 2\n",
            "/gdrive/MyDrive/Audio/A/02_168.wav 2\n",
            "/gdrive/MyDrive/Audio/A/02_169.wav 2\n",
            "/gdrive/MyDrive/Audio/A/02_170.wav 2\n",
            "/gdrive/MyDrive/Audio/A/02_171.wav 2\n",
            "/gdrive/MyDrive/Audio/A/02_172.wav 2\n",
            "/gdrive/MyDrive/Audio/A/02_173.wav 2\n",
            "/gdrive/MyDrive/Audio/A/02_174.wav 2\n",
            "/gdrive/MyDrive/Audio/A/02_175.wav 2\n",
            "/gdrive/MyDrive/Audio/A/02_176.wav 2\n",
            "/gdrive/MyDrive/Audio/A/02_177.wav 2\n",
            "/gdrive/MyDrive/Audio/A/02_178.wav 2\n",
            "/gdrive/MyDrive/Audio/A/02_179.wav 2\n",
            "/gdrive/MyDrive/Audio/A/02_180.wav 2\n",
            "/gdrive/MyDrive/Audio/A/02_181.wav 2\n",
            "/gdrive/MyDrive/Audio/A/02_182.wav 2\n",
            "/gdrive/MyDrive/Audio/A/02_183.wav 2\n",
            "/gdrive/MyDrive/Audio/A/02_184.wav 2\n",
            "/gdrive/MyDrive/Audio/A/02_185.wav 2\n",
            "/gdrive/MyDrive/Audio/A/02_186.wav 2\n",
            "/gdrive/MyDrive/Audio/A/02_187.wav 2\n",
            "/gdrive/MyDrive/Audio/A/02_188.wav 2\n",
            "/gdrive/MyDrive/Audio/A/02_189.wav 2\n",
            "/gdrive/MyDrive/Audio/A/02_190.wav 2\n",
            "/gdrive/MyDrive/Audio/A/02_191.wav 2\n",
            "/gdrive/MyDrive/Audio/A/02_192.wav 2\n",
            "/gdrive/MyDrive/Audio/A/02_193.wav 2\n",
            "/gdrive/MyDrive/Audio/A/02_194.wav 2\n",
            "/gdrive/MyDrive/Audio/A/02_195.wav 2\n",
            "/gdrive/MyDrive/Audio/A/02_196.wav 2\n",
            "/gdrive/MyDrive/Audio/A/02_197.wav 2\n",
            "/gdrive/MyDrive/Audio/A/02_198.wav 2\n",
            "/gdrive/MyDrive/Audio/A/02_199.wav 2\n",
            "/gdrive/MyDrive/Audio/A/02_200.wav 2\n",
            "/gdrive/MyDrive/Audio/A/02_201.wav 2\n",
            "/gdrive/MyDrive/Audio/A/02_202.wav 2\n",
            "/gdrive/MyDrive/Audio/A/02_203.wav 2\n",
            "/gdrive/MyDrive/Audio/A/02_204.wav 2\n",
            "/gdrive/MyDrive/Audio/A/02_205.wav 2\n",
            "/gdrive/MyDrive/Audio/A/02_206.wav 2\n",
            "/gdrive/MyDrive/Audio/A/02_207.wav 2\n",
            "/gdrive/MyDrive/Audio/A/02_208.wav 2\n",
            "/gdrive/MyDrive/Audio/A/02_209.wav 2\n",
            "/gdrive/MyDrive/Audio/A/02_210.wav 2\n",
            "/gdrive/MyDrive/Audio/A/02_211.wav 2\n",
            "/gdrive/MyDrive/Audio/A/02_212.wav 2\n",
            "/gdrive/MyDrive/Audio/A/02_213.wav 2\n",
            "/gdrive/MyDrive/Audio/A/02_214.wav 2\n",
            "/gdrive/MyDrive/Audio/A/02_215.wav 2\n",
            "/gdrive/MyDrive/Audio/A/02_216.wav 2\n",
            "/gdrive/MyDrive/Audio/A/02_217.wav 2\n",
            "/gdrive/MyDrive/Audio/A/02_218.wav 2\n",
            "/gdrive/MyDrive/Audio/A/02_219.wav 2\n",
            "/gdrive/MyDrive/Audio/A/02_220.wav 2\n",
            "/gdrive/MyDrive/Audio/A/02_221.wav 2\n",
            "/gdrive/MyDrive/Audio/A/02_222.wav 2\n",
            "/gdrive/MyDrive/Audio/A/02_223.wav 2\n",
            "/gdrive/MyDrive/Audio/A/02_224.wav 2\n",
            "/gdrive/MyDrive/Audio/A/02_225.wav 2\n",
            "/gdrive/MyDrive/Audio/A/02_226.wav 2\n",
            "/gdrive/MyDrive/Audio/A/02_227.wav 2\n",
            "/gdrive/MyDrive/Audio/A/02_228.wav 2\n",
            "/gdrive/MyDrive/Audio/A/02_229.wav 2\n",
            "/gdrive/MyDrive/Audio/A/02_230.wav 2\n",
            "/gdrive/MyDrive/Audio/A/02_231.wav 2\n",
            "/gdrive/MyDrive/Audio/A/02_232.wav 2\n",
            "/gdrive/MyDrive/Audio/A/02_233.wav 2\n",
            "/gdrive/MyDrive/Audio/A/02_234.wav 2\n",
            "/gdrive/MyDrive/Audio/A/02_235.wav 2\n",
            "/gdrive/MyDrive/Audio/A/02_236.wav 2\n",
            "/gdrive/MyDrive/Audio/A/02_237.wav 2\n",
            "/gdrive/MyDrive/Audio/A/02_238.wav 2\n",
            "/gdrive/MyDrive/Audio/A/02_239.wav 2\n",
            "/gdrive/MyDrive/Audio/A/02_240.wav 2\n",
            "/gdrive/MyDrive/Audio/A/02_241.wav 2\n",
            "/gdrive/MyDrive/Audio/A/02_242.wav 2\n",
            "/gdrive/MyDrive/Audio/A/02_243.wav 2\n",
            "/gdrive/MyDrive/Audio/A/02_244.wav 2\n",
            "/gdrive/MyDrive/Audio/A/02_245.wav 2\n",
            "/gdrive/MyDrive/Audio/A/02_246.wav 2\n",
            "/gdrive/MyDrive/Audio/A/02_247.wav 2\n",
            "/gdrive/MyDrive/Audio/A/02_248.wav 2\n",
            "/gdrive/MyDrive/Audio/A/02_249.wav 2\n",
            "/gdrive/MyDrive/Audio/A/02_250.wav 2\n",
            "/gdrive/MyDrive/Audio/A/02_251.wav 2\n",
            "/gdrive/MyDrive/Audio/A/02_252.wav 2\n",
            "/gdrive/MyDrive/Audio/A/02_253.wav 2\n",
            "/gdrive/MyDrive/Audio/A/02_254.wav 2\n",
            "/gdrive/MyDrive/Audio/A/02_255.wav 2\n",
            "/gdrive/MyDrive/Audio/A/02_256.wav 2\n",
            "/gdrive/MyDrive/Audio/A/02_257.wav 2\n",
            "/gdrive/MyDrive/Audio/A/02_258.wav 2\n",
            "/gdrive/MyDrive/Audio/A/02_259.wav 2\n",
            "/gdrive/MyDrive/Audio/A/02_260.wav 2\n",
            "/gdrive/MyDrive/Audio/A/02_261.wav 2\n",
            "/gdrive/MyDrive/Audio/A/02_262.wav 2\n",
            "/gdrive/MyDrive/Audio/A/02_263.wav 2\n",
            "/gdrive/MyDrive/Audio/A/02_264.wav 2\n",
            "/gdrive/MyDrive/Audio/A/02_265.wav 2\n",
            "/gdrive/MyDrive/Audio/A/02_266.wav 2\n",
            "/gdrive/MyDrive/Audio/A/02_267.wav 2\n",
            "/gdrive/MyDrive/Audio/A/02_268.wav 2\n",
            "/gdrive/MyDrive/Audio/A/02_270.wav 2\n",
            "/gdrive/MyDrive/Audio/A/02_269.wav 2\n",
            "/gdrive/MyDrive/Audio/A/02_271.wav 2\n",
            "/gdrive/MyDrive/Audio/A/02_272.wav 2\n",
            "/gdrive/MyDrive/Audio/A/02_273.wav 2\n",
            "/gdrive/MyDrive/Audio/A/02_275.wav 2\n",
            "/gdrive/MyDrive/Audio/A/02_274.wav 2\n",
            "/gdrive/MyDrive/Audio/A/02_276.wav 2\n",
            "/gdrive/MyDrive/Audio/A/02_277.wav 2\n",
            "/gdrive/MyDrive/Audio/A/02_278.wav 2\n",
            "/gdrive/MyDrive/Audio/A/02_279.wav 2\n",
            "/gdrive/MyDrive/Audio/A/02_280.wav 2\n",
            "/gdrive/MyDrive/Audio/A/02_281.wav 2\n",
            "/gdrive/MyDrive/Audio/A/02_282.wav 2\n",
            "/gdrive/MyDrive/Audio/A/02_283.wav 2\n",
            "/gdrive/MyDrive/Audio/A/02_284.wav 2\n",
            "/gdrive/MyDrive/Audio/A/02_285.wav 2\n",
            "/gdrive/MyDrive/Audio/A/02_286.wav 2\n",
            "/gdrive/MyDrive/Audio/A/02_287.wav 2\n",
            "/gdrive/MyDrive/Audio/A/02_288.wav 2\n",
            "/gdrive/MyDrive/Audio/A/02_289.wav 2\n",
            "/gdrive/MyDrive/Audio/A/02_290.wav 2\n",
            "/gdrive/MyDrive/Audio/A/02_291.wav 2\n",
            "/gdrive/MyDrive/Audio/A/02_292.wav 2\n",
            "/gdrive/MyDrive/Audio/A/02_293.wav 2\n",
            "/gdrive/MyDrive/Audio/A/02_294.wav 2\n",
            "/gdrive/MyDrive/Audio/A/02_295.wav 2\n",
            "/gdrive/MyDrive/Audio/A/02_296.wav 2\n",
            "/gdrive/MyDrive/Audio/A/02_297.wav 2\n",
            "/gdrive/MyDrive/Audio/A/02_298.wav 2\n",
            "/gdrive/MyDrive/Audio/A/02_299.wav 2\n",
            "/gdrive/MyDrive/Audio/A/02_300.wav 2\n",
            "/gdrive/MyDrive/Audio/A/02_301.wav 2\n",
            "/gdrive/MyDrive/Audio/A/02_302.wav 2\n",
            "/gdrive/MyDrive/Audio/A/02_303.wav 2\n",
            "/gdrive/MyDrive/Audio/A/02_304.wav 2\n",
            "/gdrive/MyDrive/Audio/A/02_305.wav 2\n",
            "/gdrive/MyDrive/Audio/A/02_306.wav 2\n",
            "/gdrive/MyDrive/Audio/A/02_307.wav 2\n",
            "/gdrive/MyDrive/Audio/A/02_308.wav 2\n",
            "/gdrive/MyDrive/Audio/A/02_309.wav 2\n",
            "/gdrive/MyDrive/Audio/A/02_310.wav 2\n",
            "/gdrive/MyDrive/Audio/A/02_311.wav 2\n",
            "/gdrive/MyDrive/Audio/A/02_312.wav 2\n",
            "/gdrive/MyDrive/Audio/A/02_313.wav 2\n",
            "/gdrive/MyDrive/Audio/A/02_314.wav 2\n",
            "/gdrive/MyDrive/Audio/A/02_315.wav 2\n",
            "/gdrive/MyDrive/Audio/A/02_316.wav 2\n",
            "/gdrive/MyDrive/Audio/A/02_317.wav 2\n",
            "/gdrive/MyDrive/Audio/A/02_318.wav 2\n",
            "/gdrive/MyDrive/Audio/A/02_320.wav 2\n",
            "/gdrive/MyDrive/Audio/A/02_319.wav 2\n",
            "/gdrive/MyDrive/Audio/A/02_321.wav 2\n",
            "/gdrive/MyDrive/Audio/A/02_322.wav 2\n",
            "/gdrive/MyDrive/Audio/A/02_323.wav 2\n",
            "/gdrive/MyDrive/Audio/A/02_324.wav 2\n",
            "/gdrive/MyDrive/Audio/A/02_325.wav 2\n",
            "/gdrive/MyDrive/Audio/A/02_326.wav 2\n",
            "/gdrive/MyDrive/Audio/A/02_327.wav 2\n",
            "/gdrive/MyDrive/Audio/A/02_328.wav 2\n",
            "/gdrive/MyDrive/Audio/A/02_329.wav 2\n",
            "/gdrive/MyDrive/Audio/A/02_330.wav 2\n",
            "/gdrive/MyDrive/Audio/A/02_331.wav 2\n",
            "/gdrive/MyDrive/Audio/A/02_332.wav 2\n",
            "/gdrive/MyDrive/Audio/A/02_333.wav 2\n",
            "/gdrive/MyDrive/Audio/A/02_334.wav 2\n",
            "/gdrive/MyDrive/Audio/A/02_335.wav 2\n",
            "/gdrive/MyDrive/Audio/A/02_336.wav 2\n",
            "/gdrive/MyDrive/Audio/A/02_337.wav 2\n",
            "/gdrive/MyDrive/Audio/A/02_338.wav 2\n",
            "/gdrive/MyDrive/Audio/A/02_339.wav 2\n",
            "/gdrive/MyDrive/Audio/A/02_340.wav 2\n",
            "/gdrive/MyDrive/Audio/A/02_341.wav 2\n",
            "/gdrive/MyDrive/Audio/A/02_342.wav 2\n",
            "/gdrive/MyDrive/Audio/A/02_343.wav 2\n",
            "/gdrive/MyDrive/Audio/A/02_344.wav 2\n",
            "/gdrive/MyDrive/Audio/A/02_345.wav 2\n",
            "/gdrive/MyDrive/Audio/A/02_346.wav 2\n",
            "/gdrive/MyDrive/Audio/A/02_347.wav 2\n",
            "/gdrive/MyDrive/Audio/A/02_348.wav 2\n",
            "/gdrive/MyDrive/Audio/A/02_350.wav 2\n",
            "/gdrive/MyDrive/Audio/A/02_349.wav 2\n",
            "/gdrive/MyDrive/Audio/A/02_351.wav 2\n",
            "/gdrive/MyDrive/Audio/A/02_352.wav 2\n",
            "/gdrive/MyDrive/Audio/A/02_353.wav 2\n",
            "/gdrive/MyDrive/Audio/A/02_354.wav 2\n",
            "/gdrive/MyDrive/Audio/A/02_355.wav 2\n",
            "/gdrive/MyDrive/Audio/A/02_356.wav 2\n",
            "/gdrive/MyDrive/Audio/A/02_357.wav 2\n",
            "/gdrive/MyDrive/Audio/A/02_358.wav 2\n",
            "/gdrive/MyDrive/Audio/A/02_359.wav 2\n",
            "/gdrive/MyDrive/Audio/A/02_360.wav 2\n",
            "/gdrive/MyDrive/Audio/A/02_361.wav 2\n",
            "/gdrive/MyDrive/Audio/A/02_362.wav 2\n",
            "/gdrive/MyDrive/Audio/A/02_363.wav 2\n",
            "/gdrive/MyDrive/Audio/A/02_364.wav 2\n",
            "/gdrive/MyDrive/Audio/A/02_365.wav 2\n",
            "/gdrive/MyDrive/Audio/A/02_366.wav 2\n",
            "/gdrive/MyDrive/Audio/A/02_367.wav 2\n",
            "/gdrive/MyDrive/Audio/A/02_368.wav 2\n",
            "/gdrive/MyDrive/Audio/A/02_369.wav 2\n",
            "/gdrive/MyDrive/Audio/A/02_370.wav 2\n",
            "/gdrive/MyDrive/Audio/A/02_371.wav 2\n",
            "/gdrive/MyDrive/Audio/A/02_372.wav 2\n",
            "/gdrive/MyDrive/Audio/A/02_373.wav 2\n",
            "/gdrive/MyDrive/Audio/A/02_374.wav 2\n",
            "/gdrive/MyDrive/Audio/A/02_375.wav 2\n",
            "/gdrive/MyDrive/Audio/A/02_376.wav 2\n",
            "/gdrive/MyDrive/Audio/A/02_377.wav 2\n",
            "/gdrive/MyDrive/Audio/A/02_378.wav 2\n",
            "/gdrive/MyDrive/Audio/A/02_379.wav 2\n",
            "/gdrive/MyDrive/Audio/A/02_380.wav 2\n",
            "/gdrive/MyDrive/Audio/A/02_381.wav 2\n",
            "/gdrive/MyDrive/Audio/A/02_382.wav 2\n",
            "/gdrive/MyDrive/Audio/A/02_383.wav 2\n",
            "/gdrive/MyDrive/Audio/A/02_384.wav 2\n",
            "/gdrive/MyDrive/Audio/A/02_385.wav 2\n",
            "/gdrive/MyDrive/Audio/A/02_386.wav 2\n",
            "/gdrive/MyDrive/Audio/A/02_387.wav 2\n",
            "/gdrive/MyDrive/Audio/A/02_388.wav 2\n",
            "/gdrive/MyDrive/Audio/A/02_389.wav 2\n",
            "/gdrive/MyDrive/Audio/A/02_390.wav 2\n",
            "/gdrive/MyDrive/Audio/A/02_391.wav 2\n",
            "/gdrive/MyDrive/Audio/A/02_392.wav 2\n",
            "/gdrive/MyDrive/Audio/A/02_393.wav 2\n",
            "/gdrive/MyDrive/Audio/A/02_394.wav 2\n",
            "/gdrive/MyDrive/Audio/A/02_395.wav 2\n",
            "/gdrive/MyDrive/Audio/A/02_396.wav 2\n",
            "/gdrive/MyDrive/Audio/A/02_397.wav 2\n",
            "/gdrive/MyDrive/Audio/A/02_398.wav 2\n",
            "/gdrive/MyDrive/Audio/A/02_399.wav 2\n",
            "/gdrive/MyDrive/Audio/A/02_400.wav 2\n",
            "/gdrive/MyDrive/Audio/A/02_401.wav 2\n",
            "/gdrive/MyDrive/Audio/A/02_402.wav 2\n",
            "/gdrive/MyDrive/Audio/A/02_403.wav 2\n",
            "/gdrive/MyDrive/Audio/A/02_404.wav 2\n",
            "/gdrive/MyDrive/Audio/A/02_405.wav 2\n",
            "/gdrive/MyDrive/Audio/A/02_406.wav 2\n",
            "/gdrive/MyDrive/Audio/A/02_407.wav 2\n",
            "/gdrive/MyDrive/Audio/A/02_408.wav 2\n",
            "/gdrive/MyDrive/Audio/A/02_409.wav 2\n",
            "/gdrive/MyDrive/Audio/A/02_410.wav 2\n",
            "/gdrive/MyDrive/Audio/A/00_000.wav 0\n",
            "/gdrive/MyDrive/Audio/A/00_001.wav 0\n",
            "/gdrive/MyDrive/Audio/A/00_002.wav 0\n",
            "/gdrive/MyDrive/Audio/A/00_003.wav 0\n",
            "/gdrive/MyDrive/Audio/A/00_004.wav 0\n",
            "/gdrive/MyDrive/Audio/A/00_005.wav 0\n",
            "/gdrive/MyDrive/Audio/A/00_006.wav 0\n",
            "/gdrive/MyDrive/Audio/A/00_007.wav 0\n",
            "/gdrive/MyDrive/Audio/A/00_008.wav 0\n",
            "/gdrive/MyDrive/Audio/A/00_009.wav 0\n",
            "/gdrive/MyDrive/Audio/A/00_010.wav 0\n",
            "/gdrive/MyDrive/Audio/A/00_011.wav 0\n",
            "/gdrive/MyDrive/Audio/A/00_012.wav 0\n",
            "/gdrive/MyDrive/Audio/A/00_013.wav 0\n",
            "/gdrive/MyDrive/Audio/A/00_014.wav 0\n",
            "/gdrive/MyDrive/Audio/A/00_015.wav 0\n",
            "/gdrive/MyDrive/Audio/A/00_016.wav 0\n",
            "/gdrive/MyDrive/Audio/A/00_017.wav 0\n",
            "/gdrive/MyDrive/Audio/A/00_018.wav 0\n",
            "/gdrive/MyDrive/Audio/A/00_019.wav 0\n",
            "/gdrive/MyDrive/Audio/A/00_020.wav 0\n",
            "/gdrive/MyDrive/Audio/A/00_021.wav 0\n",
            "/gdrive/MyDrive/Audio/A/00_022.wav 0\n",
            "/gdrive/MyDrive/Audio/A/00_023.wav 0\n",
            "/gdrive/MyDrive/Audio/A/00_024.wav 0\n",
            "/gdrive/MyDrive/Audio/A/00_025.wav 0\n",
            "/gdrive/MyDrive/Audio/A/00_026.wav 0\n",
            "/gdrive/MyDrive/Audio/A/00_027.wav 0\n",
            "/gdrive/MyDrive/Audio/A/00_028.wav 0\n",
            "/gdrive/MyDrive/Audio/A/00_029.wav 0\n",
            "/gdrive/MyDrive/Audio/A/00_030.wav 0\n",
            "/gdrive/MyDrive/Audio/A/00_031.wav 0\n",
            "/gdrive/MyDrive/Audio/A/00_032.wav 0\n",
            "/gdrive/MyDrive/Audio/A/00_033.wav 0\n",
            "/gdrive/MyDrive/Audio/A/00_034.wav 0\n",
            "/gdrive/MyDrive/Audio/A/00_035.wav 0\n",
            "/gdrive/MyDrive/Audio/A/00_036.wav 0\n",
            "/gdrive/MyDrive/Audio/A/00_037.wav 0\n",
            "/gdrive/MyDrive/Audio/A/00_038.wav 0\n",
            "/gdrive/MyDrive/Audio/A/00_039.wav 0\n",
            "/gdrive/MyDrive/Audio/A/00_040.wav 0\n",
            "/gdrive/MyDrive/Audio/A/00_041.wav 0\n",
            "/gdrive/MyDrive/Audio/A/00_042.wav 0\n",
            "/gdrive/MyDrive/Audio/A/00_043.wav 0\n",
            "/gdrive/MyDrive/Audio/A/00_044.wav 0\n",
            "/gdrive/MyDrive/Audio/A/00_045.wav 0\n",
            "/gdrive/MyDrive/Audio/A/00_046.wav 0\n",
            "/gdrive/MyDrive/Audio/A/00_047.wav 0\n",
            "/gdrive/MyDrive/Audio/A/00_048.wav 0\n",
            "/gdrive/MyDrive/Audio/A/00_049.wav 0\n",
            "/gdrive/MyDrive/Audio/A/00_050.wav 0\n",
            "/gdrive/MyDrive/Audio/A/00_051.wav 0\n",
            "/gdrive/MyDrive/Audio/A/00_052.wav 0\n",
            "/gdrive/MyDrive/Audio/A/00_053.wav 0\n",
            "/gdrive/MyDrive/Audio/A/00_054.wav 0\n",
            "/gdrive/MyDrive/Audio/A/00_055.wav 0\n",
            "/gdrive/MyDrive/Audio/A/00_056.wav 0\n",
            "/gdrive/MyDrive/Audio/A/00_057.wav 0\n",
            "/gdrive/MyDrive/Audio/A/00_058.wav 0\n",
            "/gdrive/MyDrive/Audio/A/00_059.wav 0\n",
            "/gdrive/MyDrive/Audio/A/00_060.wav 0\n",
            "/gdrive/MyDrive/Audio/A/00_061.wav 0\n",
            "/gdrive/MyDrive/Audio/A/00_062.wav 0\n",
            "/gdrive/MyDrive/Audio/A/00_063.wav 0\n",
            "/gdrive/MyDrive/Audio/A/00_064.wav 0\n",
            "/gdrive/MyDrive/Audio/A/00_065.wav 0\n",
            "/gdrive/MyDrive/Audio/A/00_066.wav 0\n",
            "/gdrive/MyDrive/Audio/A/00_067.wav 0\n",
            "/gdrive/MyDrive/Audio/A/00_068.wav 0\n",
            "/gdrive/MyDrive/Audio/A/00_069.wav 0\n",
            "/gdrive/MyDrive/Audio/A/00_070.wav 0\n",
            "/gdrive/MyDrive/Audio/A/00_071.wav 0\n",
            "/gdrive/MyDrive/Audio/A/00_072.wav 0\n",
            "/gdrive/MyDrive/Audio/A/00_073.wav 0\n",
            "/gdrive/MyDrive/Audio/A/00_074.wav 0\n",
            "/gdrive/MyDrive/Audio/A/00_075.wav 0\n",
            "/gdrive/MyDrive/Audio/A/00_076.wav 0\n",
            "/gdrive/MyDrive/Audio/A/00_077.wav 0\n",
            "/gdrive/MyDrive/Audio/A/00_078.wav 0\n",
            "/gdrive/MyDrive/Audio/A/00_079.wav 0\n",
            "/gdrive/MyDrive/Audio/A/00_080.wav 0\n",
            "/gdrive/MyDrive/Audio/A/00_081.wav 0\n",
            "/gdrive/MyDrive/Audio/A/00_082.wav 0\n",
            "/gdrive/MyDrive/Audio/A/00_083.wav 0\n",
            "/gdrive/MyDrive/Audio/A/00_084.wav 0\n",
            "/gdrive/MyDrive/Audio/A/00_085.wav 0\n",
            "/gdrive/MyDrive/Audio/A/00_086.wav 0\n",
            "/gdrive/MyDrive/Audio/A/00_087.wav 0\n",
            "/gdrive/MyDrive/Audio/A/00_088.wav 0\n",
            "/gdrive/MyDrive/Audio/A/00_089.wav 0\n",
            "/gdrive/MyDrive/Audio/A/00_090.wav 0\n",
            "/gdrive/MyDrive/Audio/A/00_091.wav 0\n",
            "/gdrive/MyDrive/Audio/A/00_092.wav 0\n",
            "/gdrive/MyDrive/Audio/A/00_093.wav 0\n",
            "/gdrive/MyDrive/Audio/A/00_094.wav 0\n",
            "/gdrive/MyDrive/Audio/A/00_095.wav 0\n",
            "/gdrive/MyDrive/Audio/A/00_096.wav 0\n",
            "/gdrive/MyDrive/Audio/A/00_097.wav 0\n",
            "/gdrive/MyDrive/Audio/A/00_098.wav 0\n",
            "/gdrive/MyDrive/Audio/A/00_099.wav 0\n",
            "/gdrive/MyDrive/Audio/A/00_100.wav 0\n",
            "/gdrive/MyDrive/Audio/A/00_101.wav 0\n",
            "/gdrive/MyDrive/Audio/A/00_102.wav 0\n",
            "/gdrive/MyDrive/Audio/A/00_103.wav 0\n",
            "/gdrive/MyDrive/Audio/A/00_104.wav 0\n",
            "/gdrive/MyDrive/Audio/A/00_105.wav 0\n",
            "/gdrive/MyDrive/Audio/A/00_106.wav 0\n",
            "/gdrive/MyDrive/Audio/A/00_107.wav 0\n",
            "/gdrive/MyDrive/Audio/A/00_108.wav 0\n",
            "/gdrive/MyDrive/Audio/A/00_109.wav 0\n",
            "/gdrive/MyDrive/Audio/A/00_110.wav 0\n",
            "/gdrive/MyDrive/Audio/A/00_111.wav 0\n",
            "/gdrive/MyDrive/Audio/A/00_112.wav 0\n",
            "/gdrive/MyDrive/Audio/A/00_113.wav 0\n",
            "/gdrive/MyDrive/Audio/A/00_114.wav 0\n",
            "/gdrive/MyDrive/Audio/A/00_115.wav 0\n",
            "/gdrive/MyDrive/Audio/A/00_116.wav 0\n",
            "/gdrive/MyDrive/Audio/A/00_117.wav 0\n",
            "/gdrive/MyDrive/Audio/A/00_118.wav 0\n",
            "/gdrive/MyDrive/Audio/A/00_119.wav 0\n",
            "/gdrive/MyDrive/Audio/A/00_120.wav 0\n",
            "/gdrive/MyDrive/Audio/A/00_121.wav 0\n",
            "/gdrive/MyDrive/Audio/A/00_122.wav 0\n",
            "/gdrive/MyDrive/Audio/A/00_123.wav 0\n",
            "/gdrive/MyDrive/Audio/A/00_124.wav 0\n",
            "/gdrive/MyDrive/Audio/A/00_125.wav 0\n",
            "/gdrive/MyDrive/Audio/A/00_126.wav 0\n",
            "/gdrive/MyDrive/Audio/A/00_127.wav 0\n",
            "/gdrive/MyDrive/Audio/A/00_128.wav 0\n",
            "/gdrive/MyDrive/Audio/A/00_129.wav 0\n",
            "/gdrive/MyDrive/Audio/A/00_130.wav 0\n",
            "/gdrive/MyDrive/Audio/A/00_131.wav 0\n",
            "/gdrive/MyDrive/Audio/A/00_132.wav 0\n",
            "/gdrive/MyDrive/Audio/A/00_133.wav 0\n",
            "/gdrive/MyDrive/Audio/A/00_134.wav 0\n",
            "/gdrive/MyDrive/Audio/A/00_135.wav 0\n",
            "/gdrive/MyDrive/Audio/A/00_136.wav 0\n",
            "/gdrive/MyDrive/Audio/A/00_137.wav 0\n",
            "/gdrive/MyDrive/Audio/A/00_138.wav 0\n",
            "/gdrive/MyDrive/Audio/A/00_139.wav 0\n",
            "/gdrive/MyDrive/Audio/A/00_140.wav 0\n",
            "/gdrive/MyDrive/Audio/A/00_141.wav 0\n",
            "/gdrive/MyDrive/Audio/A/00_142.wav 0\n",
            "/gdrive/MyDrive/Audio/A/00_143.wav 0\n",
            "/gdrive/MyDrive/Audio/A/00_144.wav 0\n",
            "/gdrive/MyDrive/Audio/A/00_145.wav 0\n",
            "/gdrive/MyDrive/Audio/A/00_146.wav 0\n",
            "/gdrive/MyDrive/Audio/A/00_147.wav 0\n",
            "/gdrive/MyDrive/Audio/A/00_148.wav 0\n",
            "/gdrive/MyDrive/Audio/A/00_149.wav 0\n",
            "/gdrive/MyDrive/Audio/A/00_150.wav 0\n",
            "/gdrive/MyDrive/Audio/A/00_151.wav 0\n",
            "/gdrive/MyDrive/Audio/A/00_152.wav 0\n",
            "/gdrive/MyDrive/Audio/A/00_153.wav 0\n",
            "/gdrive/MyDrive/Audio/A/00_154.wav 0\n",
            "/gdrive/MyDrive/Audio/A/00_155.wav 0\n",
            "/gdrive/MyDrive/Audio/A/00_156.wav 0\n",
            "/gdrive/MyDrive/Audio/A/00_157.wav 0\n",
            "/gdrive/MyDrive/Audio/A/00_158.wav 0\n",
            "/gdrive/MyDrive/Audio/A/00_159.wav 0\n",
            "/gdrive/MyDrive/Audio/A/00_160.wav 0\n",
            "/gdrive/MyDrive/Audio/A/00_161.wav 0\n",
            "/gdrive/MyDrive/Audio/A/00_162.wav 0\n",
            "/gdrive/MyDrive/Audio/A/00_163.wav 0\n",
            "/gdrive/MyDrive/Audio/A/00_164.wav 0\n",
            "/gdrive/MyDrive/Audio/A/00_165.wav 0\n",
            "/gdrive/MyDrive/Audio/A/00_166.wav 0\n",
            "/gdrive/MyDrive/Audio/A/00_167.wav 0\n",
            "/gdrive/MyDrive/Audio/A/00_168.wav 0\n",
            "/gdrive/MyDrive/Audio/A/00_169.wav 0\n",
            "/gdrive/MyDrive/Audio/A/00_170.wav 0\n",
            "/gdrive/MyDrive/Audio/A/00_171.wav 0\n",
            "/gdrive/MyDrive/Audio/A/00_172.wav 0\n",
            "/gdrive/MyDrive/Audio/A/00_173.wav 0\n",
            "/gdrive/MyDrive/Audio/A/00_174.wav 0\n",
            "/gdrive/MyDrive/Audio/A/00_175.wav 0\n",
            "/gdrive/MyDrive/Audio/A/00_176.wav 0\n",
            "/gdrive/MyDrive/Audio/A/00_177.wav 0\n",
            "/gdrive/MyDrive/Audio/A/00_178.wav 0\n",
            "/gdrive/MyDrive/Audio/A/00_179.wav 0\n",
            "/gdrive/MyDrive/Audio/A/00_180.wav 0\n",
            "/gdrive/MyDrive/Audio/A/00_181.wav 0\n",
            "/gdrive/MyDrive/Audio/A/00_182.wav 0\n",
            "/gdrive/MyDrive/Audio/A/00_183.wav 0\n",
            "/gdrive/MyDrive/Audio/A/00_184.wav 0\n",
            "/gdrive/MyDrive/Audio/A/00_185.wav 0\n",
            "/gdrive/MyDrive/Audio/A/00_186.wav 0\n",
            "/gdrive/MyDrive/Audio/A/00_187.wav 0\n",
            "/gdrive/MyDrive/Audio/A/00_188.wav 0\n",
            "/gdrive/MyDrive/Audio/A/00_189.wav 0\n",
            "/gdrive/MyDrive/Audio/A/00_190.wav 0\n",
            "/gdrive/MyDrive/Audio/A/00_191.wav 0\n",
            "/gdrive/MyDrive/Audio/A/00_192.wav 0\n",
            "/gdrive/MyDrive/Audio/A/00_193.wav 0\n",
            "/gdrive/MyDrive/Audio/A/00_194.wav 0\n",
            "/gdrive/MyDrive/Audio/A/00_195.wav 0\n",
            "/gdrive/MyDrive/Audio/A/00_196.wav 0\n",
            "/gdrive/MyDrive/Audio/A/00_197.wav 0\n",
            "/gdrive/MyDrive/Audio/A/00_198.wav 0\n",
            "/gdrive/MyDrive/Audio/A/00_199.wav 0\n",
            "/gdrive/MyDrive/Audio/A/00_200.wav 0\n",
            "/gdrive/MyDrive/Audio/A/00_201.wav 0\n",
            "/gdrive/MyDrive/Audio/A/00_202.wav 0\n",
            "/gdrive/MyDrive/Audio/A/00_203.wav 0\n",
            "/gdrive/MyDrive/Audio/A/00_204.wav 0\n",
            "/gdrive/MyDrive/Audio/A/00_205.wav 0\n",
            "/gdrive/MyDrive/Audio/A/00_206.wav 0\n",
            "/gdrive/MyDrive/Audio/A/00_207.wav 0\n",
            "/gdrive/MyDrive/Audio/A/00_208.wav 0\n",
            "/gdrive/MyDrive/Audio/A/00_209.wav 0\n",
            "/gdrive/MyDrive/Audio/A/00_210.wav 0\n",
            "/gdrive/MyDrive/Audio/A/00_211.wav 0\n",
            "/gdrive/MyDrive/Audio/A/00_212.wav 0\n",
            "/gdrive/MyDrive/Audio/A/00_213.wav 0\n",
            "/gdrive/MyDrive/Audio/A/00_214.wav 0\n",
            "/gdrive/MyDrive/Audio/A/00_215.wav 0\n",
            "/gdrive/MyDrive/Audio/A/00_216.wav 0\n",
            "/gdrive/MyDrive/Audio/A/00_217.wav 0\n",
            "/gdrive/MyDrive/Audio/A/00_218.wav 0\n",
            "/gdrive/MyDrive/Audio/A/00_219.wav 0\n",
            "/gdrive/MyDrive/Audio/A/00_220.wav 0\n",
            "/gdrive/MyDrive/Audio/A/00_221.wav 0\n",
            "/gdrive/MyDrive/Audio/A/00_222.wav 0\n",
            "/gdrive/MyDrive/Audio/A/00_223.wav 0\n",
            "/gdrive/MyDrive/Audio/A/00_224.wav 0\n",
            "/gdrive/MyDrive/Audio/A/00_225.wav 0\n",
            "/gdrive/MyDrive/Audio/A/00_226.wav 0\n",
            "/gdrive/MyDrive/Audio/A/00_227.wav 0\n",
            "/gdrive/MyDrive/Audio/A/00_228.wav 0\n",
            "/gdrive/MyDrive/Audio/A/00_229.wav 0\n",
            "/gdrive/MyDrive/Audio/A/00_230.wav 0\n",
            "/gdrive/MyDrive/Audio/A/00_231.wav 0\n",
            "/gdrive/MyDrive/Audio/A/00_232.wav 0\n",
            "/gdrive/MyDrive/Audio/A/00_233.wav 0\n",
            "/gdrive/MyDrive/Audio/A/00_234.wav 0\n",
            "/gdrive/MyDrive/Audio/A/00_235.wav 0\n",
            "/gdrive/MyDrive/Audio/A/00_236.wav 0\n",
            "/gdrive/MyDrive/Audio/A/00_237.wav 0\n",
            "/gdrive/MyDrive/Audio/A/00_238.wav 0\n",
            "/gdrive/MyDrive/Audio/A/00_239.wav 0\n",
            "/gdrive/MyDrive/Audio/A/00_240.wav 0\n",
            "/gdrive/MyDrive/Audio/A/00_241.wav 0\n",
            "/gdrive/MyDrive/Audio/A/00_242.wav 0\n",
            "/gdrive/MyDrive/Audio/A/00_243.wav 0\n",
            "/gdrive/MyDrive/Audio/A/00_244.wav 0\n",
            "/gdrive/MyDrive/Audio/A/00_245.wav 0\n",
            "/gdrive/MyDrive/Audio/A/00_246.wav 0\n",
            "/gdrive/MyDrive/Audio/A/00_247.wav 0\n",
            "/gdrive/MyDrive/Audio/A/00_248.wav 0\n",
            "/gdrive/MyDrive/Audio/A/00_249.wav 0\n",
            "/gdrive/MyDrive/Audio/A/00_250.wav 0\n",
            "/gdrive/MyDrive/Audio/A/00_251.wav 0\n",
            "/gdrive/MyDrive/Audio/A/00_252.wav 0\n",
            "/gdrive/MyDrive/Audio/A/00_253.wav 0\n",
            "/gdrive/MyDrive/Audio/A/00_254.wav 0\n",
            "/gdrive/MyDrive/Audio/A/00_255.wav 0\n",
            "/gdrive/MyDrive/Audio/A/00_256.wav 0\n",
            "/gdrive/MyDrive/Audio/A/00_257.wav 0\n",
            "/gdrive/MyDrive/Audio/A/00_258.wav 0\n",
            "/gdrive/MyDrive/Audio/A/00_259.wav 0\n",
            "/gdrive/MyDrive/Audio/A/00_260.wav 0\n",
            "/gdrive/MyDrive/Audio/A/00_261.wav 0\n",
            "/gdrive/MyDrive/Audio/A/00_262.wav 0\n",
            "/gdrive/MyDrive/Audio/A/00_263.wav 0\n",
            "/gdrive/MyDrive/Audio/A/00_264.wav 0\n",
            "/gdrive/MyDrive/Audio/A/00_265.wav 0\n",
            "/gdrive/MyDrive/Audio/A/00_266.wav 0\n",
            "/gdrive/MyDrive/Audio/A/00_267.wav 0\n",
            "/gdrive/MyDrive/Audio/A/00_268.wav 0\n",
            "/gdrive/MyDrive/Audio/A/00_269.wav 0\n",
            "/gdrive/MyDrive/Audio/A/00_270.wav 0\n",
            "/gdrive/MyDrive/Audio/A/00_271.wav 0\n",
            "/gdrive/MyDrive/Audio/A/00_272.wav 0\n",
            "/gdrive/MyDrive/Audio/A/00_273.wav 0\n",
            "/gdrive/MyDrive/Audio/A/00_274.wav 0\n",
            "/gdrive/MyDrive/Audio/A/00_275.wav 0\n",
            "/gdrive/MyDrive/Audio/A/00_276.wav 0\n",
            "/gdrive/MyDrive/Audio/A/00_277.wav 0\n",
            "/gdrive/MyDrive/Audio/A/00_278.wav 0\n",
            "/gdrive/MyDrive/Audio/A/00_279.wav 0\n",
            "/gdrive/MyDrive/Audio/A/00_280.wav 0\n",
            "/gdrive/MyDrive/Audio/A/00_281.wav 0\n",
            "/gdrive/MyDrive/Audio/A/00_282.wav 0\n",
            "/gdrive/MyDrive/Audio/A/00_283.wav 0\n",
            "/gdrive/MyDrive/Audio/A/00_284.wav 0\n",
            "/gdrive/MyDrive/Audio/A/00_285.wav 0\n",
            "/gdrive/MyDrive/Audio/A/00_286.wav 0\n",
            "/gdrive/MyDrive/Audio/A/00_287.wav 0\n",
            "/gdrive/MyDrive/Audio/A/00_288.wav 0\n",
            "/gdrive/MyDrive/Audio/A/00_289.wav 0\n",
            "/gdrive/MyDrive/Audio/A/00_290.wav 0\n",
            "/gdrive/MyDrive/Audio/A/00_291.wav 0\n",
            "/gdrive/MyDrive/Audio/A/00_292.wav 0\n",
            "/gdrive/MyDrive/Audio/A/00_293.wav 0\n",
            "/gdrive/MyDrive/Audio/A/00_294.wav 0\n",
            "/gdrive/MyDrive/Audio/A/00_295.wav 0\n",
            "/gdrive/MyDrive/Audio/A/00_296.wav 0\n",
            "/gdrive/MyDrive/Audio/A/00_297.wav 0\n",
            "/gdrive/MyDrive/Audio/A/00_298.wav 0\n",
            "/gdrive/MyDrive/Audio/A/00_299.wav 0\n",
            "/gdrive/MyDrive/Audio/A/00_300.wav 0\n",
            "/gdrive/MyDrive/Audio/A/00_301.wav 0\n",
            "/gdrive/MyDrive/Audio/A/00_302.wav 0\n",
            "/gdrive/MyDrive/Audio/A/00_303.wav 0\n",
            "/gdrive/MyDrive/Audio/A/00_304.wav 0\n",
            "/gdrive/MyDrive/Audio/A/00_305.wav 0\n",
            "/gdrive/MyDrive/Audio/A/00_306.wav 0\n",
            "/gdrive/MyDrive/Audio/A/00_307.wav 0\n",
            "/gdrive/MyDrive/Audio/A/00_308.wav 0\n",
            "/gdrive/MyDrive/Audio/A/00_309.wav 0\n",
            "/gdrive/MyDrive/Audio/A/00_310.wav 0\n",
            "/gdrive/MyDrive/Audio/A/00_311.wav 0\n",
            "/gdrive/MyDrive/Audio/A/00_312.wav 0\n",
            "/gdrive/MyDrive/Audio/A/00_313.wav 0\n",
            "/gdrive/MyDrive/Audio/A/00_314.wav 0\n",
            "/gdrive/MyDrive/Audio/A/00_315.wav 0\n",
            "/gdrive/MyDrive/Audio/A/00_316.wav 0\n",
            "/gdrive/MyDrive/Audio/A/00_317.wav 0\n",
            "/gdrive/MyDrive/Audio/A/00_318.wav 0\n",
            "/gdrive/MyDrive/Audio/A/00_319.wav 0\n",
            "/gdrive/MyDrive/Audio/A/00_320.wav 0\n",
            "/gdrive/MyDrive/Audio/A/00_321.wav 0\n",
            "/gdrive/MyDrive/Audio/A/00_322.wav 0\n",
            "/gdrive/MyDrive/Audio/A/00_323.wav 0\n",
            "/gdrive/MyDrive/Audio/A/00_324.wav 0\n",
            "/gdrive/MyDrive/Audio/A/00_325.wav 0\n",
            "/gdrive/MyDrive/Audio/A/00_326.wav 0\n",
            "/gdrive/MyDrive/Audio/A/00_327.wav 0\n",
            "/gdrive/MyDrive/Audio/A/00_328.wav 0\n",
            "/gdrive/MyDrive/Audio/A/00_329.wav 0\n",
            "/gdrive/MyDrive/Audio/A/00_330.wav 0\n",
            "/gdrive/MyDrive/Audio/A/00_331.wav 0\n",
            "/gdrive/MyDrive/Audio/A/00_332.wav 0\n",
            "/gdrive/MyDrive/Audio/A/00_333.wav 0\n",
            "/gdrive/MyDrive/Audio/A/00_334.wav 0\n",
            "/gdrive/MyDrive/Audio/A/00_335.wav 0\n",
            "/gdrive/MyDrive/Audio/A/00_336.wav 0\n",
            "/gdrive/MyDrive/Audio/A/00_337.wav 0\n",
            "/gdrive/MyDrive/Audio/A/00_338.wav 0\n",
            "/gdrive/MyDrive/Audio/A/00_339.wav 0\n",
            "/gdrive/MyDrive/Audio/A/00_340.wav 0\n",
            "/gdrive/MyDrive/Audio/A/00_341.wav 0\n",
            "/gdrive/MyDrive/Audio/A/00_342.wav 0\n",
            "/gdrive/MyDrive/Audio/A/00_343.wav 0\n",
            "/gdrive/MyDrive/Audio/A/00_344.wav 0\n",
            "/gdrive/MyDrive/Audio/A/00_345.wav 0\n",
            "/gdrive/MyDrive/Audio/A/00_346.wav 0\n",
            "/gdrive/MyDrive/Audio/A/00_347.wav 0\n",
            "/gdrive/MyDrive/Audio/A/00_348.wav 0\n",
            "/gdrive/MyDrive/Audio/A/00_349.wav 0\n",
            "/gdrive/MyDrive/Audio/A/00_350.wav 0\n",
            "/gdrive/MyDrive/Audio/A/00_351.wav 0\n",
            "/gdrive/MyDrive/Audio/A/00_352.wav 0\n",
            "/gdrive/MyDrive/Audio/A/00_353.wav 0\n",
            "/gdrive/MyDrive/Audio/A/00_354.wav 0\n",
            "/gdrive/MyDrive/Audio/A/00_355.wav 0\n",
            "/gdrive/MyDrive/Audio/A/00_356.wav 0\n",
            "/gdrive/MyDrive/Audio/A/00_357.wav 0\n"
          ]
        }
      ]
    },
    {
      "cell_type": "code",
      "source": [
        "print(raw_y[980])\n",
        "IPython.display.Audio(raw_x[980], rate=SAMPLING_RATE)"
      ],
      "metadata": {
        "colab": {
          "base_uri": "https://localhost:8080/",
          "height": 93
        },
        "id": "LMyoGSYqiA2D",
        "outputId": "f48c2ea5-01c0-45b5-feb0-eeccbc79b8af"
      },
      "execution_count": null,
      "outputs": [
        {
          "output_type": "stream",
          "name": "stdout",
          "text": [
            "0\n"
          ]
        },
        {
          "output_type": "execute_result",
          "data": {
            "text/plain": [
              "<IPython.lib.display.Audio object>"
            ],
            "text/html": [
              "\n",
              "                <audio  controls=\"controls\" >\n",
              "                    <source src=\"data:audio/wav;base64,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\" type=\"audio/wav\" />\n",
              "                    Your browser does not support the audio element.\n",
              "                </audio>\n",
              "              "
            ]
          },
          "metadata": {},
          "execution_count": 29
        }
      ]
    },
    {
      "cell_type": "code",
      "source": [
        "print(raw_y[1])\n",
        "IPython.display.Audio(raw_x[1], rate=SAMPLING_RATE)"
      ],
      "metadata": {
        "colab": {
          "base_uri": "https://localhost:8080/",
          "height": 93
        },
        "id": "bjXXExOuiHcr",
        "outputId": "32f435c8-8b80-42ff-c300-bbfa27eb7afb"
      },
      "execution_count": null,
      "outputs": [
        {
          "output_type": "stream",
          "name": "stdout",
          "text": [
            "1\n"
          ]
        },
        {
          "output_type": "execute_result",
          "data": {
            "text/plain": [
              "<IPython.lib.display.Audio object>"
            ],
            "text/html": [
              "\n",
              "                <audio  controls=\"controls\" >\n",
              "                    <source src=\"data:audio/wav;base64,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\" type=\"audio/wav\" />\n",
              "                    Your browser does not support the audio element.\n",
              "                </audio>\n",
              "              "
            ]
          },
          "metadata": {},
          "execution_count": 30
        }
      ]
    },
    {
      "cell_type": "code",
      "source": [
        "from collections import Counter\n",
        "Counter(raw_y)\n"
      ],
      "metadata": {
        "colab": {
          "base_uri": "https://localhost:8080/"
        },
        "id": "WY8Ro3dfdARJ",
        "outputId": "6844549c-50b3-471b-9bc7-21e6f66e0bbe"
      },
      "execution_count": null,
      "outputs": [
        {
          "output_type": "execute_result",
          "data": {
            "text/plain": [
              "Counter({1: 404, 2: 410, 0: 358})"
            ]
          },
          "metadata": {},
          "execution_count": 31
        }
      ]
    },
    {
      "cell_type": "markdown",
      "source": [
        "# padding"
      ],
      "metadata": {
        "id": "M1e1eHmSNfY9"
      }
    },
    {
      "cell_type": "code",
      "source": [
        "lens = []\n",
        "for i in range(len(raw_x)):\n",
        "    lens.append(len(raw_x[i]))\n",
        "\n",
        "plt.hist(lens, bins=100)\n",
        "plt.show()"
      ],
      "metadata": {
        "colab": {
          "base_uri": "https://localhost:8080/",
          "height": 265
        },
        "id": "FsjDBDIOEVd4",
        "outputId": "ea09b4c9-2f7c-4283-8788-664171c0bb1c"
      },
      "execution_count": null,
      "outputs": [
        {
          "output_type": "display_data",
          "data": {
            "text/plain": [
              "<Figure size 432x288 with 1 Axes>"
            ],
            "image/png": "[encoded data removed]"
          },
          "metadata": {
            "needs_background": "light"
          }
        }
      ]
    },
    {
      "cell_type": "code",
      "source": [
        "print(lens[:10])"
      ],
      "metadata": {
        "colab": {
          "base_uri": "https://localhost:8080/"
        },
        "id": "92aGHRkbkisj",
        "outputId": "e7c9e843-6609-4972-dab2-a95aa8d0cbf1"
      },
      "execution_count": null,
      "outputs": [
        {
          "output_type": "stream",
          "name": "stdout",
          "text": [
            "[12035, 11159, 12349, 11293, 10278, 11327, 10392, 12224, 11530, 12139]\n"
          ]
        }
      ]
    },
    {
      "cell_type": "code",
      "source": [
        "from tensorflow.keras.preprocessing import sequence\n",
        "\n",
        "padded_raw_x = sequence.pad_sequences(raw_x, maxlen=22050, padding='post', dtype=float)\n",
        "# 파일 길이를 똑같이 맞춤 22050 (1초로)"
      ],
      "metadata": {
        "id": "aghztZe9-1N5"
      },
      "execution_count": null,
      "outputs": []
    },
    {
      "cell_type": "code",
      "source": [
        "print(raw_y[980])\n",
        "IPython.display.Audio(raw_x[980], rate=SAMPLING_RATE)"
      ],
      "metadata": {
        "colab": {
          "base_uri": "https://localhost:8080/",
          "height": 93
        },
        "outputId": "e24b6461-13a2-49de-fc2e-4331622c885b",
        "id": "7mTCyMzWiVAZ"
      },
      "execution_count": null,
      "outputs": [
        {
          "output_type": "stream",
          "name": "stdout",
          "text": [
            "0\n"
          ]
        },
        {
          "output_type": "execute_result",
          "data": {
            "text/plain": [
              "<IPython.lib.display.Audio object>"
            ],
            "text/html": [
              "\n",
              "                <audio  controls=\"controls\" >\n",
              "                    <source src=\"data:audio/wav;base64,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\" type=\"audio/wav\" />\n",
              "                    Your browser does not support the audio element.\n",
              "                </audio>\n",
              "              "
            ]
          },
          "metadata": {},
          "execution_count": 35
        }
      ]
    },
    {
      "cell_type": "code",
      "source": [
        "print(raw_y[1])\n",
        "IPython.display.Audio(raw_x[1], rate=SAMPLING_RATE)"
      ],
      "metadata": {
        "colab": {
          "base_uri": "https://localhost:8080/",
          "height": 93
        },
        "outputId": "a8bf265b-b8b9-47b1-8c81-ab7c66210e53",
        "id": "R6-jXew3iVAZ"
      },
      "execution_count": null,
      "outputs": [
        {
          "output_type": "stream",
          "name": "stdout",
          "text": [
            "1\n"
          ]
        },
        {
          "output_type": "execute_result",
          "data": {
            "text/plain": [
              "<IPython.lib.display.Audio object>"
            ],
            "text/html": [
              "\n",
              "                <audio  controls=\"controls\" >\n",
              "                    <source src=\"data:audio/wav;base64,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\" type=\"audio/wav\" />\n",
              "                    Your browser does not support the audio element.\n",
              "                </audio>\n",
              "              "
            ]
          },
          "metadata": {},
          "execution_count": 36
        }
      ]
    },
    {
      "cell_type": "code",
      "source": [
        "raw_x = np.array(padded_raw_x)\n",
        "raw_y = np.array(raw_y)\n",
        "print(raw_x.shape)  \n",
        "print(raw_y.shape)"
      ],
      "metadata": {
        "colab": {
          "base_uri": "https://localhost:8080/"
        },
        "id": "1b-zDbF--1LQ",
        "outputId": "2c280e5b-3cd0-4964-fda9-a088c22e0e42"
      },
      "execution_count": null,
      "outputs": [
        {
          "output_type": "stream",
          "name": "stdout",
          "text": [
            "(1172, 22050)\n",
            "(1172,)\n"
          ]
        }
      ]
    },
    {
      "cell_type": "code",
      "source": [
        "print(raw_y[980])\n",
        "IPython.display.Audio(raw_x[980], rate=SAMPLING_RATE)"
      ],
      "metadata": {
        "colab": {
          "base_uri": "https://localhost:8080/",
          "height": 93
        },
        "outputId": "3a494fcf-10c0-4cef-baa2-280630e1afe5",
        "id": "kvxddiJmibQf"
      },
      "execution_count": null,
      "outputs": [
        {
          "output_type": "stream",
          "name": "stdout",
          "text": [
            "0\n"
          ]
        },
        {
          "output_type": "execute_result",
          "data": {
            "text/plain": [
              "<IPython.lib.display.Audio object>"
            ],
            "text/html": [
              "\n",
              "                <audio  controls=\"controls\" >\n",
              "                    <source src=\"data:audio/wav;base64,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\" type=\"audio/wav\" />\n",
              "                    Your browser does not support the audio element.\n",
              "                </audio>\n",
              "              "
            ]
          },
          "metadata": {},
          "execution_count": 38
        }
      ]
    },
    {
      "cell_type": "code",
      "source": [
        "print(raw_y[1])\n",
        "IPython.display.Audio(raw_x[1], rate=SAMPLING_RATE)"
      ],
      "metadata": {
        "colab": {
          "base_uri": "https://localhost:8080/",
          "height": 93
        },
        "outputId": "57c5d23e-001a-4690-d6b9-5c9f3abf7943",
        "id": "o02lV35TibQg"
      },
      "execution_count": null,
      "outputs": [
        {
          "output_type": "stream",
          "name": "stdout",
          "text": [
            "1\n"
          ]
        },
        {
          "output_type": "execute_result",
          "data": {
            "text/plain": [
              "<IPython.lib.display.Audio object>"
            ],
            "text/html": [
              "\n",
              "                <audio  controls=\"controls\" >\n",
              "                    <source src=\"data:audio/wav;base64,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\" type=\"audio/wav\" />\n",
              "                    Your browser does not support the audio element.\n",
              "                </audio>\n",
              "              "
            ]
          },
          "metadata": {},
          "execution_count": 39
        }
      ]
    },
    {
      "cell_type": "markdown",
      "source": [
        "# Normalization"
      ],
      "metadata": {
        "id": "fMc7mKiONdAs"
      }
    },
    {
      "cell_type": "code",
      "source": [],
      "metadata": {
        "id": "-KNY-Pztk8uI"
      },
      "execution_count": null,
      "outputs": []
    },
    {
      "cell_type": "code",
      "source": [
        "max = np.max(raw_x)\n",
        "min = np.min(raw_x)\n",
        "print(min, max)"
      ],
      "metadata": {
        "colab": {
          "base_uri": "https://localhost:8080/"
        },
        "id": "Yb7uzqDONoSF",
        "outputId": "5e0852de-8431-4cf9-e44e-c40bf55907b7"
      },
      "execution_count": null,
      "outputs": [
        {
          "output_type": "stream",
          "name": "stdout",
          "text": [
            "-0.9969082474708557 1.0517815351486206\n"
          ]
        }
      ]
    },
    {
      "cell_type": "code",
      "source": [
        "# raw_x = (raw_x - min) / (max - min)"
      ],
      "metadata": {
        "id": "xjE3MuKwNcGt"
      },
      "execution_count": null,
      "outputs": []
    },
    {
      "cell_type": "markdown",
      "source": [
        "# 2차원으로 reshape"
      ],
      "metadata": {
        "id": "T-iyrW8_N869"
      }
    },
    {
      "cell_type": "code",
      "source": [
        "print(raw_x.shape)\n",
        "raw_x = raw_x.reshape((len(raw_x),-1,1))\n",
        "print(raw_x.shape)"
      ],
      "metadata": {
        "id": "EXF8sZPYN_RL",
        "colab": {
          "base_uri": "https://localhost:8080/"
        },
        "outputId": "ece0f304-e286-49e2-9e64-be444e961928"
      },
      "execution_count": null,
      "outputs": [
        {
          "output_type": "stream",
          "name": "stdout",
          "text": [
            "(1172, 22050)\n",
            "(1172, 22050, 1)\n"
          ]
        }
      ]
    },
    {
      "cell_type": "markdown",
      "source": [
        "# 데이터 분리"
      ],
      "metadata": {
        "id": "EjXer_ucN67c"
      }
    },
    {
      "cell_type": "code",
      "source": [
        "from sklearn.model_selection import train_test_split\n",
        "\n",
        "train_x, test_x, train_y, test_y = train_test_split(raw_x, raw_y, test_size=0.2, shuffle=True)"
      ],
      "metadata": {
        "id": "Z54gJGmi-1Ig"
      },
      "execution_count": null,
      "outputs": []
    },
    {
      "cell_type": "code",
      "source": [
        "print(len(train_y))\n",
        "print(train_y[len(train_y)-1])\n",
        "IPython.display.Audio(train_x[len(train_y)-1].squeeze(), rate=SAMPLING_RATE)"
      ],
      "metadata": {
        "colab": {
          "base_uri": "https://localhost:8080/",
          "height": 112
        },
        "outputId": "1f9e8a33-e508-4ffe-9981-27e7cdbf6c0e",
        "id": "ar3Q1ezWinMR"
      },
      "execution_count": null,
      "outputs": [
        {
          "output_type": "stream",
          "name": "stdout",
          "text": [
            "937\n",
            "0\n"
          ]
        },
        {
          "output_type": "execute_result",
          "data": {
            "text/plain": [
              "<IPython.lib.display.Audio object>"
            ],
            "text/html": [
              "\n",
              "                <audio  controls=\"controls\" >\n",
              "                    <source src=\"data:audio/wav;base64,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\" type=\"audio/wav\" />\n",
              "                    Your browser does not support the audio element.\n",
              "                </audio>\n",
              "              "
            ]
          },
          "metadata": {},
          "execution_count": 44
        }
      ]
    },
    {
      "cell_type": "code",
      "source": [
        "print(train_y[1])\n",
        "IPython.display.Audio(train_x[1].squeeze(), rate=SAMPLING_RATE)"
      ],
      "metadata": {
        "colab": {
          "base_uri": "https://localhost:8080/",
          "height": 93
        },
        "outputId": "ea8a1315-a4b9-4cb5-95aa-3012f2317fd0",
        "id": "RFKC_o3IinMS"
      },
      "execution_count": null,
      "outputs": [
        {
          "output_type": "stream",
          "name": "stdout",
          "text": [
            "2\n"
          ]
        },
        {
          "output_type": "execute_result",
          "data": {
            "text/plain": [
              "<IPython.lib.display.Audio object>"
            ],
            "text/html": [
              "\n",
              "                <audio  controls=\"controls\" >\n",
              "                    <source src=\"data:audio/wav;base64,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\" type=\"audio/wav\" />\n",
              "                    Your browser does not support the audio element.\n",
              "                </audio>\n",
              "              "
            ]
          },
          "metadata": {},
          "execution_count": 45
        }
      ]
    },
    {
      "cell_type": "code",
      "source": [
        "print(train_x.shape)\n",
        "print(train_y.shape)\n"
      ],
      "metadata": {
        "colab": {
          "base_uri": "https://localhost:8080/"
        },
        "id": "9DF-X34ifJgr",
        "outputId": "f14e005f-bbfd-4bec-a026-a57904c66476"
      },
      "execution_count": null,
      "outputs": [
        {
          "output_type": "stream",
          "name": "stdout",
          "text": [
            "(937, 22050, 1)\n",
            "(937,)\n"
          ]
        }
      ]
    },
    {
      "cell_type": "code",
      "source": [
        "# loss graph를 학습하면서 실시간으로 그리는 방법\n",
        "\n",
        "from IPython.display import clear_output\n",
        "from tensorflow.keras.callbacks import Callback\n",
        "\n",
        "class PlotLosses(Callback):\n",
        "\n",
        "  def on_train_begin(self, logs={}):\n",
        "    self.epochs = []\n",
        "    self.losses = []\n",
        "    self.val_losses = []\n",
        "    self.logs = []\n",
        "    self.fig = plt.figure()\n",
        "\n",
        "\n",
        "  def on_epoch_end(self, epoch, logs={}):\n",
        "\n",
        "    self.epochs.append(epoch)\n",
        "    self.losses.append(logs.get('loss'))\n",
        "    self.val_losses.append(logs.get('val_loss'))\n",
        "\n",
        "    clear_output(wait=True)\n",
        "    plt.plot(self.epochs, self.losses, label=\"loss\")\n",
        "    plt.plot(self.epochs, self.val_losses, label=\"val_loss\")\n",
        "    plt.legend()\n",
        "    plt.show();\n",
        "    print(\"epochs = \", self.epochs[-1], \"loss = \", self.losses[-1], \", val_loss = \", self.val_losses[-1])"
      ],
      "metadata": {
        "id": "xULPFYqYA4Pv"
      },
      "execution_count": null,
      "outputs": []
    },
    {
      "cell_type": "code",
      "source": [
        "from tensorflow import keras\n",
        "from tensorflow.keras.layers import Dense, RepeatVector, Flatten, Input, Activation\n",
        "from tensorflow.keras.layers import Bidirectional, LSTM, GRU, Conv1D, MaxPooling1D, AveragePooling1D, Add, MaxPool1D\n",
        "from tensorflow.keras.layers import Dropout, GaussianNoise, BatchNormalization\n",
        "from tensorflow.keras.regularizers import l1, l2, L1L2\n",
        "\n",
        "input_shape = train_x.shape[1:]\n",
        "num_classes = 3  #  [0: 아이, 1:부모, 2:뿌리]\n",
        "\n",
        "model = keras.Sequential()\n",
        "model.add(Input(input_shape))\n",
        "\n",
        "model.add(Conv1D(32, 9, padding=\"same\", activation=\"relu\"))  \n",
        "model.add(Conv1D(32, 9, padding=\"same\", activation=\"relu\")) \n",
        "model.add(MaxPooling1D())\n",
        "\n",
        "model.add(Conv1D(64, 9, padding=\"same\", activation=\"relu\"))  \n",
        "model.add(Conv1D(64, 9, padding=\"same\", activation=\"relu\"))  \n",
        "model.add(MaxPooling1D())\n",
        "\n",
        "model.add(Conv1D(128, 9, padding=\"same\", activation=\"relu\"))  \n",
        "model.add(Conv1D(128, 9, padding=\"same\", activation=\"relu\"))  \n",
        "model.add(Conv1D(128, 9, padding=\"same\", activation=\"relu\"))  \n",
        "model.add(MaxPooling1D())\n",
        "\n",
        "model.add(Conv1D(256, 9, padding=\"same\", activation=\"relu\"))  \n",
        "model.add(Conv1D(256, 9, padding=\"same\", activation=\"relu\"))  \n",
        "model.add(Conv1D(256, 9, padding=\"same\", activation=\"relu\"))  \n",
        "model.add(MaxPooling1D())\n",
        "model.add(Dropout(0.3))\n",
        "\n",
        "model.add(Conv1D(256, 9, padding=\"same\", activation=\"relu\"))  \n",
        "model.add(Conv1D(256, 9, padding=\"same\", activation=\"relu\"))  \n",
        "model.add(Conv1D(256, 9, padding=\"same\", activation=\"relu\"))  \n",
        "model.add(MaxPooling1D())\n",
        "model.add(Dropout(0.3))\n",
        "\n",
        "model.add(Conv1D(256, 9, padding=\"same\", activation=\"relu\"))  \n",
        "model.add(Conv1D(256, 9, padding=\"same\", activation=\"relu\"))  \n",
        "model.add(Conv1D(256, 9, padding=\"same\", activation=\"relu\"))  \n",
        "model.add(MaxPooling1D())\n",
        "model.add(Dropout(0.3))\n",
        "\n",
        "model.add(Flatten())\n",
        "model.add(Dense(256, activation=\"relu\")) #, kernel_regularizer=l2()))\n",
        "# model.add(BatchNormalization())\n",
        "\n",
        "model.add(Dense(num_classes, activation=\"softmax\"))  \n",
        "\n",
        "from tensorflow.keras.optimizers import Adam, Adadelta, SGD\n",
        "optimizer = Adam(learning_rate=0.001*0.1, decay=0.01) \n",
        "\n",
        "model.compile(loss=\"sparse_categorical_crossentropy\", optimizer=optimizer, metrics=[\"acc\"])\n",
        "model.summary()\n"
      ],
      "metadata": {
        "colab": {
          "base_uri": "https://localhost:8080/"
        },
        "id": "hx8Zeb-Bgleh",
        "outputId": "b206a79c-2433-4b04-c37f-a265e93af4eb"
      },
      "execution_count": null,
      "outputs": [
        {
          "output_type": "stream",
          "name": "stdout",
          "text": [
            "Model: \"sequential_2\"\n",
            "_________________________________________________________________\n",
            " Layer (type)                Output Shape              Param #   \n",
            "=================================================================\n",
            " conv1d_32 (Conv1D)          (None, 22050, 32)         320       \n",
            "                                                                 \n",
            " conv1d_33 (Conv1D)          (None, 22050, 32)         9248      \n",
            "                                                                 \n",
            " max_pooling1d_12 (MaxPoolin  (None, 11025, 32)        0         \n",
            " g1D)                                                            \n",
            "                                                                 \n",
            " conv1d_34 (Conv1D)          (None, 11025, 64)         18496     \n",
            "                                                                 \n",
            " conv1d_35 (Conv1D)          (None, 11025, 64)         36928     \n",
            "                                                                 \n",
            " max_pooling1d_13 (MaxPoolin  (None, 5512, 64)         0         \n",
            " g1D)                                                            \n",
            "                                                                 \n",
            " conv1d_36 (Conv1D)          (None, 5512, 128)         73856     \n",
            "                                                                 \n",
            " conv1d_37 (Conv1D)          (None, 5512, 128)         147584    \n",
            "                                                                 \n",
            " conv1d_38 (Conv1D)          (None, 5512, 128)         147584    \n",
            "                                                                 \n",
            " max_pooling1d_14 (MaxPoolin  (None, 2756, 128)        0         \n",
            " g1D)                                                            \n",
            "                                                                 \n",
            " conv1d_39 (Conv1D)          (None, 2756, 256)         295168    \n",
            "                                                                 \n",
            " conv1d_40 (Conv1D)          (None, 2756, 256)         590080    \n",
            "                                                                 \n",
            " conv1d_41 (Conv1D)          (None, 2756, 256)         590080    \n",
            "                                                                 \n",
            " max_pooling1d_15 (MaxPoolin  (None, 1378, 256)        0         \n",
            " g1D)                                                            \n",
            "                                                                 \n",
            " dropout_6 (Dropout)         (None, 1378, 256)         0         \n",
            "                                                                 \n",
            " conv1d_42 (Conv1D)          (None, 1378, 256)         590080    \n",
            "                                                                 \n",
            " conv1d_43 (Conv1D)          (None, 1378, 256)         590080    \n",
            "                                                                 \n",
            " conv1d_44 (Conv1D)          (None, 1378, 256)         590080    \n",
            "                                                                 \n",
            " max_pooling1d_16 (MaxPoolin  (None, 689, 256)         0         \n",
            " g1D)                                                            \n",
            "                                                                 \n",
            " dropout_7 (Dropout)         (None, 689, 256)          0         \n",
            "                                                                 \n",
            " conv1d_45 (Conv1D)          (None, 689, 256)          590080    \n",
            "                                                                 \n",
            " conv1d_46 (Conv1D)          (None, 689, 256)          590080    \n",
            "                                                                 \n",
            " conv1d_47 (Conv1D)          (None, 689, 256)          590080    \n",
            "                                                                 \n",
            " max_pooling1d_17 (MaxPoolin  (None, 344, 256)         0         \n",
            " g1D)                                                            \n",
            "                                                                 \n",
            " dropout_8 (Dropout)         (None, 344, 256)          0         \n",
            "                                                                 \n",
            " flatten_2 (Flatten)         (None, 88064)             0         \n",
            "                                                                 \n",
            " dense_4 (Dense)             (None, 256)               22544640  \n",
            "                                                                 \n",
            " dense_5 (Dense)             (None, 3)                 771       \n",
            "                                                                 \n",
            "=================================================================\n",
            "Total params: 27,995,235\n",
            "Trainable params: 27,995,235\n",
            "Non-trainable params: 0\n",
            "_________________________________________________________________\n"
          ]
        }
      ]
    },
    {
      "cell_type": "code",
      "source": [
        "plot_losses = PlotLosses()\n",
        "history = model.fit(train_x, train_y, epochs=100, verbose=1, validation_split=0.1, batch_size=16,\n",
        "                    callbacks=[plot_losses])"
      ],
      "metadata": {
        "colab": {
          "base_uri": "https://localhost:8080/",
          "height": 302
        },
        "id": "ksVvwmtJjQ9S",
        "outputId": "4a5cbaff-a204-4765-fddd-19443c47e050"
      },
      "execution_count": null,
      "outputs": [
        {
          "output_type": "display_data",
          "data": {
            "text/plain": [
              "<Figure size 432x288 with 1 Axes>"
            ],
            "image/png": "[encoded data removed]"
          },
          "metadata": {
            "needs_background": "light"
          }
        },
        {
          "output_type": "stream",
          "name": "stdout",
          "text": [
            "epochs =  99 loss =  5.6674609368201345e-05 , val_loss =  0.021413050591945648\n",
            "\b\b\b\b\b\b\b\b\b\b\b\b\b\b\b\b\b\b\b\b\b\b\b\b\b\b\b\b\b\b\b\b\b\b\b\b\b\b\b\b\b\b\b\b\b\b\b\b\b\b\b\b\b\b\b\b\b\b\b\b\b\b\b\b\b\b\b\b\b\b\b\b\b\b\b\b\b\b\b\b\b\r53/53 [==============================] - 17s 321ms/step - loss: 5.6675e-05 - acc: 1.0000 - val_loss: 0.0214 - val_acc: 0.9894\n"
          ]
        }
      ]
    },
    {
      "cell_type": "code",
      "source": [
        "loss, acc = model.evaluate(test_x, test_y)\n",
        "print(\"loss=\", loss)\n",
        "print(\"acc=\", acc)\n",
        "\n",
        "\n",
        "y_ = model.predict(test_x)\n",
        "predicted = np.argmax(y_, axis=-1)\n",
        "plt.plot(test_y[:30], 'o')\n",
        "plt.plot(predicted[:30], '.')\n",
        "plt.show()\n"
      ],
      "metadata": {
        "id": "8lHjjByavmmo",
        "colab": {
          "base_uri": "https://localhost:8080/",
          "height": 321
        },
        "outputId": "c9e8a752-bbf3-4046-a08a-a2c86876acab"
      },
      "execution_count": null,
      "outputs": [
        {
          "output_type": "stream",
          "name": "stdout",
          "text": [
            "8/8 [==============================] - 2s 127ms/step - loss: 0.1553 - acc: 0.9872\n",
            "loss= 0.15532433986663818\n",
            "acc= 0.9872340559959412\n"
          ]
        },
        {
          "output_type": "display_data",
          "data": {
            "text/plain": [
              "<Figure size 432x288 with 1 Axes>"
            ],
            "image/png": "[encoded data removed]"
          },
          "metadata": {
            "needs_background": "light"
          }
        }
      ]
    },
    {
      "cell_type": "code",
      "source": [
        "model.save('../gdrive/MyDrive/Audio/model/ganada_A.h5')"
      ],
      "metadata": {
        "id": "dFjSSA8-p1oV"
      },
      "execution_count": null,
      "outputs": []
    },
    {
      "cell_type": "code",
      "source": [],
      "metadata": {
        "id": "xKnl2dsLRCx8"
      },
      "execution_count": null,
      "outputs": []
    }
  ]
}