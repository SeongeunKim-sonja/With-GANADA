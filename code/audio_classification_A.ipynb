{
  "nbformat": 4,
  "nbformat_minor": 0,
  "metadata": {
    "colab": {
      "provenance": [],
      "collapsed_sections": [],
      "machine_shape": "hm",
      "include_colab_link": true
    },
    "kernelspec": {
      "name": "python3",
      "display_name": "Python 3"
    },
    "language_info": {
      "name": "python"
    },
    "accelerator": "GPU",
    "gpuClass": "standard"
  },
  "cells": [
    {
      "cell_type": "markdown",
      "metadata": {
        "id": "view-in-github",
        "colab_type": "text"
      },
      "source": [
        "<a href=\"https://colab.research.google.com/github/bomij33/With-GANADA/blob/bomi/code/audio_classification_A.ipynb\" target=\"_parent\"><img src=\"https://colab.research.google.com/assets/colab-badge.svg\" alt=\"Open In Colab\"/></a>"
      ]
    },
    {
      "cell_type": "markdown",
      "source": [
        "# Tensorflow 버전 다운로드 2.8.0"
      ],
      "metadata": {
        "id": "PA6S3Wm8D4D4"
      }
    },
    {
      "cell_type": "code",
      "source": [
        "import tensorflow as tf\n",
        "print(tf.__version__)"
      ],
      "metadata": {
        "colab": {
          "base_uri": "https://localhost:8080/"
        },
        "id": "b6FxXRPnT828",
        "outputId": "f419cad7-dbd7-4804-9f44-858828cea07d"
      },
      "execution_count": null,
      "outputs": [
        {
          "output_type": "stream",
          "name": "stdout",
          "text": [
            "2.8.2\n"
          ]
        }
      ]
    },
    {
      "cell_type": "code",
      "source": [
        "!pip uninstall tensorflow"
      ],
      "metadata": {
        "colab": {
          "base_uri": "https://localhost:8080/"
        },
        "id": "KU2qUfwbxImC",
        "outputId": "c91c5048-981b-4f01-8d93-8a028eae3efa"
      },
      "execution_count": null,
      "outputs": [
        {
          "output_type": "stream",
          "name": "stdout",
          "text": [
            "Found existing installation: tensorflow 2.8.2+zzzcolab20220719082949\n",
            "Uninstalling tensorflow-2.8.2+zzzcolab20220719082949:\n",
            "  Would remove:\n",
            "    /usr/local/bin/estimator_ckpt_converter\n",
            "    /usr/local/bin/import_pb_to_tensorboard\n",
            "    /usr/local/bin/saved_model_cli\n",
            "    /usr/local/bin/tensorboard\n",
            "    /usr/local/bin/tf_upgrade_v2\n",
            "    /usr/local/bin/tflite_convert\n",
            "    /usr/local/bin/toco\n",
            "    /usr/local/bin/toco_from_protos\n",
            "    /usr/local/lib/python3.7/dist-packages/tensorflow-2.8.2+zzzcolab20220719082949.dist-info/*\n",
            "    /usr/local/lib/python3.7/dist-packages/tensorflow/*\n",
            "Proceed (y/n)? y\n",
            "  Successfully uninstalled tensorflow-2.8.2+zzzcolab20220719082949\n"
          ]
        }
      ]
    },
    {
      "cell_type": "code",
      "source": [
        "!pip install tensorflow==2.8.0"
      ],
      "metadata": {
        "colab": {
          "base_uri": "https://localhost:8080/",
          "height": 1000
        },
        "id": "2Tg_70W8xSMY",
        "outputId": "a41364c9-0bc7-463d-9f8a-6e4a1666cdf8"
      },
      "execution_count": null,
      "outputs": [
        {
          "output_type": "stream",
          "name": "stdout",
          "text": [
            "Looking in indexes: https://pypi.org/simple, https://us-python.pkg.dev/colab-wheels/public/simple/\n",
            "Collecting tensorflow==2.8.0\n",
            "  Downloading https://us-python.pkg.dev/colab-wheels/public/tensorflow/tensorflow-2.8.0%2Bzzzcolab20220506162203-cp37-cp37m-linux_x86_64.whl (668.3 MB)\n",
            "\u001b[K     |████████████████████████████████| 668.3 MB 17 kB/s \n",
            "\u001b[?25hRequirement already satisfied: typing-extensions>=3.6.6 in /usr/local/lib/python3.7/dist-packages (from tensorflow==2.8.0) (4.1.1)\n",
            "Requirement already satisfied: six>=1.12.0 in /usr/local/lib/python3.7/dist-packages (from tensorflow==2.8.0) (1.15.0)\n",
            "Requirement already satisfied: google-pasta>=0.1.1 in /usr/local/lib/python3.7/dist-packages (from tensorflow==2.8.0) (0.2.0)\n",
            "Requirement already satisfied: termcolor>=1.1.0 in /usr/local/lib/python3.7/dist-packages (from tensorflow==2.8.0) (1.1.0)\n",
            "Requirement already satisfied: keras<2.9,>=2.8.0rc0 in /usr/local/lib/python3.7/dist-packages (from tensorflow==2.8.0) (2.8.0)\n",
            "Requirement already satisfied: numpy>=1.20 in /usr/local/lib/python3.7/dist-packages (from tensorflow==2.8.0) (1.21.6)\n",
            "Requirement already satisfied: keras-preprocessing>=1.1.1 in /usr/local/lib/python3.7/dist-packages (from tensorflow==2.8.0) (1.1.2)\n",
            "Requirement already satisfied: setuptools in /usr/local/lib/python3.7/dist-packages (from tensorflow==2.8.0) (57.4.0)\n",
            "Requirement already satisfied: flatbuffers>=1.12 in /usr/local/lib/python3.7/dist-packages (from tensorflow==2.8.0) (2.0)\n",
            "Requirement already satisfied: wrapt>=1.11.0 in /usr/local/lib/python3.7/dist-packages (from tensorflow==2.8.0) (1.14.1)\n",
            "Requirement already satisfied: opt-einsum>=2.3.2 in /usr/local/lib/python3.7/dist-packages (from tensorflow==2.8.0) (3.3.0)\n",
            "Requirement already satisfied: gast>=0.2.1 in /usr/local/lib/python3.7/dist-packages (from tensorflow==2.8.0) (0.5.3)\n",
            "Requirement already satisfied: tensorflow-io-gcs-filesystem>=0.23.1 in /usr/local/lib/python3.7/dist-packages (from tensorflow==2.8.0) (0.26.0)\n",
            "Requirement already satisfied: tensorboard<2.9,>=2.8 in /usr/local/lib/python3.7/dist-packages (from tensorflow==2.8.0) (2.8.0)\n",
            "Requirement already satisfied: astunparse>=1.6.0 in /usr/local/lib/python3.7/dist-packages (from tensorflow==2.8.0) (1.6.3)\n",
            "Collecting tf-estimator-nightly==2.8.0.dev2021122109\n",
            "  Downloading tf_estimator_nightly-2.8.0.dev2021122109-py2.py3-none-any.whl (462 kB)\n",
            "\u001b[K     |████████████████████████████████| 462 kB 4.3 MB/s \n",
            "\u001b[?25hRequirement already satisfied: absl-py>=0.4.0 in /usr/local/lib/python3.7/dist-packages (from tensorflow==2.8.0) (1.2.0)\n",
            "Requirement already satisfied: grpcio<2.0,>=1.24.3 in /usr/local/lib/python3.7/dist-packages (from tensorflow==2.8.0) (1.47.0)\n",
            "Requirement already satisfied: h5py>=2.9.0 in /usr/local/lib/python3.7/dist-packages (from tensorflow==2.8.0) (3.1.0)\n",
            "Requirement already satisfied: protobuf>=3.9.2 in /usr/local/lib/python3.7/dist-packages (from tensorflow==2.8.0) (3.17.3)\n",
            "Requirement already satisfied: libclang>=9.0.1 in /usr/local/lib/python3.7/dist-packages (from tensorflow==2.8.0) (14.0.6)\n",
            "Requirement already satisfied: wheel<1.0,>=0.23.0 in /usr/local/lib/python3.7/dist-packages (from astunparse>=1.6.0->tensorflow==2.8.0) (0.37.1)\n",
            "Requirement already satisfied: cached-property in /usr/local/lib/python3.7/dist-packages (from h5py>=2.9.0->tensorflow==2.8.0) (1.5.2)\n",
            "Requirement already satisfied: google-auth-oauthlib<0.5,>=0.4.1 in /usr/local/lib/python3.7/dist-packages (from tensorboard<2.9,>=2.8->tensorflow==2.8.0) (0.4.6)\n",
            "Requirement already satisfied: tensorboard-plugin-wit>=1.6.0 in /usr/local/lib/python3.7/dist-packages (from tensorboard<2.9,>=2.8->tensorflow==2.8.0) (1.8.1)\n",
            "Requirement already satisfied: requests<3,>=2.21.0 in /usr/local/lib/python3.7/dist-packages (from tensorboard<2.9,>=2.8->tensorflow==2.8.0) (2.23.0)\n",
            "Requirement already satisfied: tensorboard-data-server<0.7.0,>=0.6.0 in /usr/local/lib/python3.7/dist-packages (from tensorboard<2.9,>=2.8->tensorflow==2.8.0) (0.6.1)\n",
            "Requirement already satisfied: markdown>=2.6.8 in /usr/local/lib/python3.7/dist-packages (from tensorboard<2.9,>=2.8->tensorflow==2.8.0) (3.4.1)\n",
            "Requirement already satisfied: google-auth<3,>=1.6.3 in /usr/local/lib/python3.7/dist-packages (from tensorboard<2.9,>=2.8->tensorflow==2.8.0) (1.35.0)\n",
            "Requirement already satisfied: werkzeug>=0.11.15 in /usr/local/lib/python3.7/dist-packages (from tensorboard<2.9,>=2.8->tensorflow==2.8.0) (1.0.1)\n",
            "Requirement already satisfied: rsa<5,>=3.1.4 in /usr/local/lib/python3.7/dist-packages (from google-auth<3,>=1.6.3->tensorboard<2.9,>=2.8->tensorflow==2.8.0) (4.9)\n",
            "Requirement already satisfied: pyasn1-modules>=0.2.1 in /usr/local/lib/python3.7/dist-packages (from google-auth<3,>=1.6.3->tensorboard<2.9,>=2.8->tensorflow==2.8.0) (0.2.8)\n",
            "Requirement already satisfied: cachetools<5.0,>=2.0.0 in /usr/local/lib/python3.7/dist-packages (from google-auth<3,>=1.6.3->tensorboard<2.9,>=2.8->tensorflow==2.8.0) (4.2.4)\n",
            "Requirement already satisfied: requests-oauthlib>=0.7.0 in /usr/local/lib/python3.7/dist-packages (from google-auth-oauthlib<0.5,>=0.4.1->tensorboard<2.9,>=2.8->tensorflow==2.8.0) (1.3.1)\n",
            "Requirement already satisfied: importlib-metadata>=4.4 in /usr/local/lib/python3.7/dist-packages (from markdown>=2.6.8->tensorboard<2.9,>=2.8->tensorflow==2.8.0) (4.12.0)\n",
            "Requirement already satisfied: zipp>=0.5 in /usr/local/lib/python3.7/dist-packages (from importlib-metadata>=4.4->markdown>=2.6.8->tensorboard<2.9,>=2.8->tensorflow==2.8.0) (3.8.1)\n",
            "Requirement already satisfied: pyasn1<0.5.0,>=0.4.6 in /usr/local/lib/python3.7/dist-packages (from pyasn1-modules>=0.2.1->google-auth<3,>=1.6.3->tensorboard<2.9,>=2.8->tensorflow==2.8.0) (0.4.8)\n",
            "Requirement already satisfied: urllib3!=1.25.0,!=1.25.1,<1.26,>=1.21.1 in /usr/local/lib/python3.7/dist-packages (from requests<3,>=2.21.0->tensorboard<2.9,>=2.8->tensorflow==2.8.0) (1.24.3)\n",
            "Requirement already satisfied: certifi>=2017.4.17 in /usr/local/lib/python3.7/dist-packages (from requests<3,>=2.21.0->tensorboard<2.9,>=2.8->tensorflow==2.8.0) (2022.6.15)\n",
            "Requirement already satisfied: chardet<4,>=3.0.2 in /usr/local/lib/python3.7/dist-packages (from requests<3,>=2.21.0->tensorboard<2.9,>=2.8->tensorflow==2.8.0) (3.0.4)\n",
            "Requirement already satisfied: idna<3,>=2.5 in /usr/local/lib/python3.7/dist-packages (from requests<3,>=2.21.0->tensorboard<2.9,>=2.8->tensorflow==2.8.0) (2.10)\n",
            "Requirement already satisfied: oauthlib>=3.0.0 in /usr/local/lib/python3.7/dist-packages (from requests-oauthlib>=0.7.0->google-auth-oauthlib<0.5,>=0.4.1->tensorboard<2.9,>=2.8->tensorflow==2.8.0) (3.2.0)\n",
            "Installing collected packages: tf-estimator-nightly, tensorflow\n",
            "Successfully installed tensorflow-2.8.0+zzzcolab20220506162203 tf-estimator-nightly-2.8.0.dev2021122109\n"
          ]
        },
        {
          "output_type": "display_data",
          "data": {
            "application/vnd.colab-display-data+json": {
              "pip_warning": {
                "packages": [
                  "tensorflow"
                ]
              }
            }
          },
          "metadata": {}
        }
      ]
    },
    {
      "cell_type": "code",
      "source": [
        "# restart 후 확인\n",
        "import tensorflow as tf\n",
        "print(tf.__version__)"
      ],
      "metadata": {
        "colab": {
          "base_uri": "https://localhost:8080/"
        },
        "id": "h7DPpjeyxifv",
        "outputId": "d71357e6-2df1-4f03-f99f-7928b7778a78"
      },
      "execution_count": null,
      "outputs": [
        {
          "output_type": "stream",
          "name": "stdout",
          "text": [
            "2.8.2\n"
          ]
        }
      ]
    },
    {
      "cell_type": "markdown",
      "source": [
        "# 데이터 로딩"
      ],
      "metadata": {
        "id": "633sPckREDYg"
      }
    },
    {
      "cell_type": "code",
      "source": [
        "from google.colab import drive\n",
        "drive.mount('/gdrive')"
      ],
      "metadata": {
        "id": "KxyFkVYcdqlJ",
        "colab": {
          "base_uri": "https://localhost:8080/"
        },
        "outputId": "10a91d62-5be5-496a-fd42-054c725cea00"
      },
      "execution_count": 1,
      "outputs": [
        {
          "output_type": "stream",
          "name": "stdout",
          "text": [
            "Mounted at /gdrive\n"
          ]
        }
      ]
    },
    {
      "cell_type": "code",
      "source": [
        "import pandas as pd\n",
        "import numpy as np\n",
        "import matplotlib.pyplot as plt"
      ],
      "metadata": {
        "id": "mG4zvhT7ES63"
      },
      "execution_count": 2,
      "outputs": []
    },
    {
      "cell_type": "code",
      "source": [
        "import IPython\n",
        "import librosa\n",
        "SAMPLING_RATE = 22050"
      ],
      "metadata": {
        "id": "nH0sWXDSyeSc"
      },
      "execution_count": 3,
      "outputs": []
    },
    {
      "cell_type": "code",
      "source": [
        "import glob\n",
        "\n",
        "file_list = glob.glob(\"/gdrive/MyDrive/Audio/A/*.wav\") # 0 : 아이, 1 : 화가, 2 : 뿌리 \n",
        "print(len(file_list))\n",
        "print(file_list[:3]) "
      ],
      "metadata": {
        "colab": {
          "base_uri": "https://localhost:8080/"
        },
        "id": "8HVbzOwCGAUQ",
        "outputId": "4c056283-b203-49d9-e752-37ea37a188b7"
      },
      "execution_count": 4,
      "outputs": [
        {
          "output_type": "stream",
          "name": "stdout",
          "text": [
            "1172\n",
            "['/gdrive/MyDrive/Audio/A/02_173.wav', '/gdrive/MyDrive/Audio/A/02_174.wav', '/gdrive/MyDrive/Audio/A/02_175.wav']\n"
          ]
        }
      ]
    },
    {
      "cell_type": "code",
      "source": [
        "def load_wav(file_name):\n",
        "    data, _ = librosa.load(file_name, sr=SAMPLING_RATE)\n",
        "    return data\n",
        "\n",
        "raw_x = [] # data\n",
        "raw_y = [] # label\n",
        "for file_name in file_list:\n",
        "    label = int(file_name.split(\"/\")[-1].split(\"_\")[0])  # 파일명을 /로 구분하여 스필릿, 다시 _로 스플릿\n",
        "    \n",
        "    print(file_name, label)\n",
        "    data = load_wav(file_name)\n",
        "    raw_x.append(data)\n",
        "    raw_y.append(label)\n"
      ],
      "metadata": {
        "colab": {
          "base_uri": "https://localhost:8080/"
        },
        "id": "Aumki802EVg5",
        "outputId": "0bf8d4eb-3f64-49b3-bf15-77d2538e1e4d"
      },
      "execution_count": 5,
      "outputs": [
        {
          "output_type": "stream",
          "name": "stdout",
          "text": [
            "/gdrive/MyDrive/Audio/A/02_173.wav 2\n",
            "/gdrive/MyDrive/Audio/A/02_174.wav 2\n",
            "/gdrive/MyDrive/Audio/A/02_175.wav 2\n",
            "/gdrive/MyDrive/Audio/A/02_176.wav 2\n",
            "/gdrive/MyDrive/Audio/A/02_177.wav 2\n",
            "/gdrive/MyDrive/Audio/A/02_178.wav 2\n",
            "/gdrive/MyDrive/Audio/A/02_179.wav 2\n",
            "/gdrive/MyDrive/Audio/A/02_180.wav 2\n",
            "/gdrive/MyDrive/Audio/A/02_181.wav 2\n",
            "/gdrive/MyDrive/Audio/A/02_182.wav 2\n",
            "/gdrive/MyDrive/Audio/A/02_183.wav 2\n",
            "/gdrive/MyDrive/Audio/A/02_184.wav 2\n",
            "/gdrive/MyDrive/Audio/A/02_185.wav 2\n",
            "/gdrive/MyDrive/Audio/A/02_186.wav 2\n",
            "/gdrive/MyDrive/Audio/A/02_187.wav 2\n",
            "/gdrive/MyDrive/Audio/A/02_188.wav 2\n",
            "/gdrive/MyDrive/Audio/A/02_189.wav 2\n",
            "/gdrive/MyDrive/Audio/A/02_190.wav 2\n",
            "/gdrive/MyDrive/Audio/A/02_191.wav 2\n",
            "/gdrive/MyDrive/Audio/A/02_192.wav 2\n",
            "/gdrive/MyDrive/Audio/A/02_193.wav 2\n",
            "/gdrive/MyDrive/Audio/A/02_194.wav 2\n",
            "/gdrive/MyDrive/Audio/A/02_195.wav 2\n",
            "/gdrive/MyDrive/Audio/A/02_196.wav 2\n",
            "/gdrive/MyDrive/Audio/A/02_197.wav 2\n",
            "/gdrive/MyDrive/Audio/A/02_198.wav 2\n",
            "/gdrive/MyDrive/Audio/A/02_199.wav 2\n",
            "/gdrive/MyDrive/Audio/A/02_200.wav 2\n",
            "/gdrive/MyDrive/Audio/A/02_201.wav 2\n",
            "/gdrive/MyDrive/Audio/A/02_202.wav 2\n",
            "/gdrive/MyDrive/Audio/A/02_203.wav 2\n",
            "/gdrive/MyDrive/Audio/A/02_204.wav 2\n",
            "/gdrive/MyDrive/Audio/A/02_205.wav 2\n",
            "/gdrive/MyDrive/Audio/A/02_206.wav 2\n",
            "/gdrive/MyDrive/Audio/A/02_207.wav 2\n",
            "/gdrive/MyDrive/Audio/A/02_208.wav 2\n",
            "/gdrive/MyDrive/Audio/A/02_209.wav 2\n",
            "/gdrive/MyDrive/Audio/A/02_210.wav 2\n",
            "/gdrive/MyDrive/Audio/A/02_211.wav 2\n",
            "/gdrive/MyDrive/Audio/A/02_212.wav 2\n",
            "/gdrive/MyDrive/Audio/A/02_213.wav 2\n",
            "/gdrive/MyDrive/Audio/A/02_214.wav 2\n",
            "/gdrive/MyDrive/Audio/A/02_215.wav 2\n",
            "/gdrive/MyDrive/Audio/A/02_216.wav 2\n",
            "/gdrive/MyDrive/Audio/A/02_217.wav 2\n",
            "/gdrive/MyDrive/Audio/A/02_218.wav 2\n",
            "/gdrive/MyDrive/Audio/A/02_219.wav 2\n",
            "/gdrive/MyDrive/Audio/A/02_220.wav 2\n",
            "/gdrive/MyDrive/Audio/A/02_221.wav 2\n",
            "/gdrive/MyDrive/Audio/A/02_222.wav 2\n",
            "/gdrive/MyDrive/Audio/A/02_223.wav 2\n",
            "/gdrive/MyDrive/Audio/A/02_224.wav 2\n",
            "/gdrive/MyDrive/Audio/A/02_225.wav 2\n",
            "/gdrive/MyDrive/Audio/A/02_226.wav 2\n",
            "/gdrive/MyDrive/Audio/A/02_227.wav 2\n",
            "/gdrive/MyDrive/Audio/A/02_228.wav 2\n",
            "/gdrive/MyDrive/Audio/A/02_229.wav 2\n",
            "/gdrive/MyDrive/Audio/A/02_230.wav 2\n",
            "/gdrive/MyDrive/Audio/A/02_231.wav 2\n",
            "/gdrive/MyDrive/Audio/A/02_232.wav 2\n",
            "/gdrive/MyDrive/Audio/A/02_233.wav 2\n",
            "/gdrive/MyDrive/Audio/A/02_234.wav 2\n",
            "/gdrive/MyDrive/Audio/A/02_235.wav 2\n",
            "/gdrive/MyDrive/Audio/A/02_236.wav 2\n",
            "/gdrive/MyDrive/Audio/A/02_237.wav 2\n",
            "/gdrive/MyDrive/Audio/A/02_238.wav 2\n",
            "/gdrive/MyDrive/Audio/A/02_239.wav 2\n",
            "/gdrive/MyDrive/Audio/A/02_240.wav 2\n",
            "/gdrive/MyDrive/Audio/A/02_241.wav 2\n",
            "/gdrive/MyDrive/Audio/A/02_242.wav 2\n",
            "/gdrive/MyDrive/Audio/A/02_243.wav 2\n",
            "/gdrive/MyDrive/Audio/A/02_244.wav 2\n",
            "/gdrive/MyDrive/Audio/A/02_245.wav 2\n",
            "/gdrive/MyDrive/Audio/A/02_246.wav 2\n",
            "/gdrive/MyDrive/Audio/A/02_247.wav 2\n",
            "/gdrive/MyDrive/Audio/A/02_248.wav 2\n",
            "/gdrive/MyDrive/Audio/A/02_249.wav 2\n",
            "/gdrive/MyDrive/Audio/A/02_250.wav 2\n",
            "/gdrive/MyDrive/Audio/A/02_251.wav 2\n",
            "/gdrive/MyDrive/Audio/A/02_252.wav 2\n",
            "/gdrive/MyDrive/Audio/A/02_253.wav 2\n",
            "/gdrive/MyDrive/Audio/A/02_254.wav 2\n",
            "/gdrive/MyDrive/Audio/A/02_255.wav 2\n",
            "/gdrive/MyDrive/Audio/A/02_256.wav 2\n",
            "/gdrive/MyDrive/Audio/A/02_257.wav 2\n",
            "/gdrive/MyDrive/Audio/A/02_258.wav 2\n",
            "/gdrive/MyDrive/Audio/A/02_259.wav 2\n",
            "/gdrive/MyDrive/Audio/A/02_260.wav 2\n",
            "/gdrive/MyDrive/Audio/A/02_261.wav 2\n",
            "/gdrive/MyDrive/Audio/A/02_262.wav 2\n",
            "/gdrive/MyDrive/Audio/A/02_263.wav 2\n",
            "/gdrive/MyDrive/Audio/A/02_264.wav 2\n",
            "/gdrive/MyDrive/Audio/A/02_265.wav 2\n",
            "/gdrive/MyDrive/Audio/A/02_266.wav 2\n",
            "/gdrive/MyDrive/Audio/A/02_267.wav 2\n",
            "/gdrive/MyDrive/Audio/A/02_268.wav 2\n",
            "/gdrive/MyDrive/Audio/A/02_270.wav 2\n",
            "/gdrive/MyDrive/Audio/A/02_269.wav 2\n",
            "/gdrive/MyDrive/Audio/A/02_271.wav 2\n",
            "/gdrive/MyDrive/Audio/A/02_272.wav 2\n",
            "/gdrive/MyDrive/Audio/A/02_273.wav 2\n",
            "/gdrive/MyDrive/Audio/A/02_275.wav 2\n",
            "/gdrive/MyDrive/Audio/A/02_274.wav 2\n",
            "/gdrive/MyDrive/Audio/A/02_276.wav 2\n",
            "/gdrive/MyDrive/Audio/A/02_277.wav 2\n",
            "/gdrive/MyDrive/Audio/A/02_278.wav 2\n",
            "/gdrive/MyDrive/Audio/A/02_279.wav 2\n",
            "/gdrive/MyDrive/Audio/A/02_280.wav 2\n",
            "/gdrive/MyDrive/Audio/A/02_281.wav 2\n",
            "/gdrive/MyDrive/Audio/A/02_282.wav 2\n",
            "/gdrive/MyDrive/Audio/A/02_283.wav 2\n",
            "/gdrive/MyDrive/Audio/A/02_284.wav 2\n",
            "/gdrive/MyDrive/Audio/A/02_285.wav 2\n",
            "/gdrive/MyDrive/Audio/A/02_286.wav 2\n",
            "/gdrive/MyDrive/Audio/A/02_287.wav 2\n",
            "/gdrive/MyDrive/Audio/A/02_288.wav 2\n",
            "/gdrive/MyDrive/Audio/A/02_289.wav 2\n",
            "/gdrive/MyDrive/Audio/A/02_290.wav 2\n",
            "/gdrive/MyDrive/Audio/A/02_291.wav 2\n",
            "/gdrive/MyDrive/Audio/A/02_292.wav 2\n",
            "/gdrive/MyDrive/Audio/A/02_293.wav 2\n",
            "/gdrive/MyDrive/Audio/A/02_294.wav 2\n",
            "/gdrive/MyDrive/Audio/A/02_295.wav 2\n",
            "/gdrive/MyDrive/Audio/A/02_296.wav 2\n",
            "/gdrive/MyDrive/Audio/A/02_297.wav 2\n",
            "/gdrive/MyDrive/Audio/A/02_298.wav 2\n",
            "/gdrive/MyDrive/Audio/A/02_299.wav 2\n",
            "/gdrive/MyDrive/Audio/A/02_300.wav 2\n",
            "/gdrive/MyDrive/Audio/A/02_301.wav 2\n",
            "/gdrive/MyDrive/Audio/A/02_302.wav 2\n",
            "/gdrive/MyDrive/Audio/A/02_303.wav 2\n",
            "/gdrive/MyDrive/Audio/A/02_304.wav 2\n",
            "/gdrive/MyDrive/Audio/A/02_305.wav 2\n",
            "/gdrive/MyDrive/Audio/A/02_306.wav 2\n",
            "/gdrive/MyDrive/Audio/A/02_307.wav 2\n",
            "/gdrive/MyDrive/Audio/A/02_308.wav 2\n",
            "/gdrive/MyDrive/Audio/A/02_309.wav 2\n",
            "/gdrive/MyDrive/Audio/A/02_310.wav 2\n",
            "/gdrive/MyDrive/Audio/A/02_311.wav 2\n",
            "/gdrive/MyDrive/Audio/A/02_312.wav 2\n",
            "/gdrive/MyDrive/Audio/A/02_313.wav 2\n",
            "/gdrive/MyDrive/Audio/A/02_314.wav 2\n",
            "/gdrive/MyDrive/Audio/A/02_315.wav 2\n",
            "/gdrive/MyDrive/Audio/A/02_316.wav 2\n",
            "/gdrive/MyDrive/Audio/A/02_317.wav 2\n",
            "/gdrive/MyDrive/Audio/A/02_318.wav 2\n",
            "/gdrive/MyDrive/Audio/A/02_320.wav 2\n",
            "/gdrive/MyDrive/Audio/A/02_319.wav 2\n",
            "/gdrive/MyDrive/Audio/A/02_321.wav 2\n",
            "/gdrive/MyDrive/Audio/A/02_322.wav 2\n",
            "/gdrive/MyDrive/Audio/A/02_323.wav 2\n",
            "/gdrive/MyDrive/Audio/A/02_324.wav 2\n",
            "/gdrive/MyDrive/Audio/A/02_325.wav 2\n",
            "/gdrive/MyDrive/Audio/A/02_326.wav 2\n",
            "/gdrive/MyDrive/Audio/A/02_327.wav 2\n",
            "/gdrive/MyDrive/Audio/A/02_328.wav 2\n",
            "/gdrive/MyDrive/Audio/A/02_329.wav 2\n",
            "/gdrive/MyDrive/Audio/A/02_330.wav 2\n",
            "/gdrive/MyDrive/Audio/A/02_331.wav 2\n",
            "/gdrive/MyDrive/Audio/A/02_332.wav 2\n",
            "/gdrive/MyDrive/Audio/A/02_333.wav 2\n",
            "/gdrive/MyDrive/Audio/A/02_334.wav 2\n",
            "/gdrive/MyDrive/Audio/A/02_335.wav 2\n",
            "/gdrive/MyDrive/Audio/A/02_336.wav 2\n",
            "/gdrive/MyDrive/Audio/A/02_337.wav 2\n",
            "/gdrive/MyDrive/Audio/A/02_338.wav 2\n",
            "/gdrive/MyDrive/Audio/A/02_339.wav 2\n",
            "/gdrive/MyDrive/Audio/A/02_340.wav 2\n",
            "/gdrive/MyDrive/Audio/A/02_341.wav 2\n",
            "/gdrive/MyDrive/Audio/A/02_342.wav 2\n",
            "/gdrive/MyDrive/Audio/A/02_343.wav 2\n",
            "/gdrive/MyDrive/Audio/A/02_344.wav 2\n",
            "/gdrive/MyDrive/Audio/A/02_345.wav 2\n",
            "/gdrive/MyDrive/Audio/A/02_346.wav 2\n",
            "/gdrive/MyDrive/Audio/A/02_347.wav 2\n",
            "/gdrive/MyDrive/Audio/A/02_348.wav 2\n",
            "/gdrive/MyDrive/Audio/A/02_350.wav 2\n",
            "/gdrive/MyDrive/Audio/A/02_349.wav 2\n",
            "/gdrive/MyDrive/Audio/A/02_351.wav 2\n",
            "/gdrive/MyDrive/Audio/A/02_352.wav 2\n",
            "/gdrive/MyDrive/Audio/A/02_353.wav 2\n",
            "/gdrive/MyDrive/Audio/A/02_354.wav 2\n",
            "/gdrive/MyDrive/Audio/A/02_355.wav 2\n",
            "/gdrive/MyDrive/Audio/A/02_356.wav 2\n",
            "/gdrive/MyDrive/Audio/A/02_357.wav 2\n",
            "/gdrive/MyDrive/Audio/A/02_358.wav 2\n",
            "/gdrive/MyDrive/Audio/A/02_359.wav 2\n",
            "/gdrive/MyDrive/Audio/A/02_360.wav 2\n",
            "/gdrive/MyDrive/Audio/A/02_361.wav 2\n",
            "/gdrive/MyDrive/Audio/A/02_362.wav 2\n",
            "/gdrive/MyDrive/Audio/A/02_363.wav 2\n",
            "/gdrive/MyDrive/Audio/A/02_364.wav 2\n",
            "/gdrive/MyDrive/Audio/A/02_365.wav 2\n",
            "/gdrive/MyDrive/Audio/A/02_366.wav 2\n",
            "/gdrive/MyDrive/Audio/A/02_367.wav 2\n",
            "/gdrive/MyDrive/Audio/A/02_368.wav 2\n",
            "/gdrive/MyDrive/Audio/A/02_369.wav 2\n",
            "/gdrive/MyDrive/Audio/A/02_370.wav 2\n",
            "/gdrive/MyDrive/Audio/A/02_371.wav 2\n",
            "/gdrive/MyDrive/Audio/A/02_372.wav 2\n",
            "/gdrive/MyDrive/Audio/A/02_373.wav 2\n",
            "/gdrive/MyDrive/Audio/A/02_374.wav 2\n",
            "/gdrive/MyDrive/Audio/A/02_375.wav 2\n",
            "/gdrive/MyDrive/Audio/A/02_376.wav 2\n",
            "/gdrive/MyDrive/Audio/A/02_377.wav 2\n",
            "/gdrive/MyDrive/Audio/A/02_378.wav 2\n",
            "/gdrive/MyDrive/Audio/A/02_379.wav 2\n",
            "/gdrive/MyDrive/Audio/A/02_380.wav 2\n",
            "/gdrive/MyDrive/Audio/A/02_381.wav 2\n",
            "/gdrive/MyDrive/Audio/A/02_382.wav 2\n",
            "/gdrive/MyDrive/Audio/A/02_383.wav 2\n",
            "/gdrive/MyDrive/Audio/A/02_384.wav 2\n",
            "/gdrive/MyDrive/Audio/A/02_385.wav 2\n",
            "/gdrive/MyDrive/Audio/A/02_386.wav 2\n",
            "/gdrive/MyDrive/Audio/A/02_387.wav 2\n",
            "/gdrive/MyDrive/Audio/A/02_388.wav 2\n",
            "/gdrive/MyDrive/Audio/A/02_389.wav 2\n",
            "/gdrive/MyDrive/Audio/A/02_390.wav 2\n",
            "/gdrive/MyDrive/Audio/A/02_391.wav 2\n",
            "/gdrive/MyDrive/Audio/A/02_392.wav 2\n",
            "/gdrive/MyDrive/Audio/A/02_393.wav 2\n",
            "/gdrive/MyDrive/Audio/A/02_394.wav 2\n",
            "/gdrive/MyDrive/Audio/A/02_395.wav 2\n",
            "/gdrive/MyDrive/Audio/A/02_396.wav 2\n",
            "/gdrive/MyDrive/Audio/A/02_397.wav 2\n",
            "/gdrive/MyDrive/Audio/A/02_398.wav 2\n",
            "/gdrive/MyDrive/Audio/A/02_399.wav 2\n",
            "/gdrive/MyDrive/Audio/A/02_400.wav 2\n",
            "/gdrive/MyDrive/Audio/A/02_401.wav 2\n",
            "/gdrive/MyDrive/Audio/A/02_402.wav 2\n",
            "/gdrive/MyDrive/Audio/A/02_403.wav 2\n",
            "/gdrive/MyDrive/Audio/A/02_404.wav 2\n",
            "/gdrive/MyDrive/Audio/A/02_405.wav 2\n",
            "/gdrive/MyDrive/Audio/A/02_406.wav 2\n",
            "/gdrive/MyDrive/Audio/A/02_407.wav 2\n",
            "/gdrive/MyDrive/Audio/A/02_408.wav 2\n",
            "/gdrive/MyDrive/Audio/A/02_409.wav 2\n",
            "/gdrive/MyDrive/Audio/A/02_410.wav 2\n",
            "/gdrive/MyDrive/Audio/A/00_000.wav 0\n",
            "/gdrive/MyDrive/Audio/A/00_001.wav 0\n",
            "/gdrive/MyDrive/Audio/A/00_002.wav 0\n",
            "/gdrive/MyDrive/Audio/A/00_003.wav 0\n",
            "/gdrive/MyDrive/Audio/A/00_004.wav 0\n",
            "/gdrive/MyDrive/Audio/A/00_005.wav 0\n",
            "/gdrive/MyDrive/Audio/A/00_006.wav 0\n",
            "/gdrive/MyDrive/Audio/A/00_007.wav 0\n",
            "/gdrive/MyDrive/Audio/A/00_008.wav 0\n",
            "/gdrive/MyDrive/Audio/A/00_009.wav 0\n",
            "/gdrive/MyDrive/Audio/A/00_010.wav 0\n",
            "/gdrive/MyDrive/Audio/A/00_011.wav 0\n",
            "/gdrive/MyDrive/Audio/A/00_012.wav 0\n",
            "/gdrive/MyDrive/Audio/A/00_013.wav 0\n",
            "/gdrive/MyDrive/Audio/A/00_014.wav 0\n",
            "/gdrive/MyDrive/Audio/A/00_015.wav 0\n",
            "/gdrive/MyDrive/Audio/A/00_016.wav 0\n",
            "/gdrive/MyDrive/Audio/A/00_017.wav 0\n",
            "/gdrive/MyDrive/Audio/A/00_018.wav 0\n",
            "/gdrive/MyDrive/Audio/A/00_019.wav 0\n",
            "/gdrive/MyDrive/Audio/A/00_020.wav 0\n",
            "/gdrive/MyDrive/Audio/A/00_021.wav 0\n",
            "/gdrive/MyDrive/Audio/A/00_022.wav 0\n",
            "/gdrive/MyDrive/Audio/A/00_023.wav 0\n",
            "/gdrive/MyDrive/Audio/A/00_024.wav 0\n",
            "/gdrive/MyDrive/Audio/A/00_025.wav 0\n",
            "/gdrive/MyDrive/Audio/A/00_026.wav 0\n",
            "/gdrive/MyDrive/Audio/A/00_027.wav 0\n",
            "/gdrive/MyDrive/Audio/A/00_028.wav 0\n",
            "/gdrive/MyDrive/Audio/A/00_029.wav 0\n",
            "/gdrive/MyDrive/Audio/A/00_030.wav 0\n",
            "/gdrive/MyDrive/Audio/A/00_031.wav 0\n",
            "/gdrive/MyDrive/Audio/A/00_032.wav 0\n",
            "/gdrive/MyDrive/Audio/A/00_033.wav 0\n",
            "/gdrive/MyDrive/Audio/A/00_034.wav 0\n",
            "/gdrive/MyDrive/Audio/A/00_035.wav 0\n",
            "/gdrive/MyDrive/Audio/A/00_036.wav 0\n",
            "/gdrive/MyDrive/Audio/A/00_037.wav 0\n",
            "/gdrive/MyDrive/Audio/A/00_038.wav 0\n",
            "/gdrive/MyDrive/Audio/A/00_039.wav 0\n",
            "/gdrive/MyDrive/Audio/A/00_040.wav 0\n",
            "/gdrive/MyDrive/Audio/A/00_041.wav 0\n",
            "/gdrive/MyDrive/Audio/A/00_042.wav 0\n",
            "/gdrive/MyDrive/Audio/A/00_043.wav 0\n",
            "/gdrive/MyDrive/Audio/A/00_044.wav 0\n",
            "/gdrive/MyDrive/Audio/A/00_045.wav 0\n",
            "/gdrive/MyDrive/Audio/A/00_046.wav 0\n",
            "/gdrive/MyDrive/Audio/A/00_047.wav 0\n",
            "/gdrive/MyDrive/Audio/A/00_048.wav 0\n",
            "/gdrive/MyDrive/Audio/A/00_049.wav 0\n",
            "/gdrive/MyDrive/Audio/A/00_050.wav 0\n",
            "/gdrive/MyDrive/Audio/A/00_051.wav 0\n",
            "/gdrive/MyDrive/Audio/A/00_052.wav 0\n",
            "/gdrive/MyDrive/Audio/A/00_053.wav 0\n",
            "/gdrive/MyDrive/Audio/A/00_054.wav 0\n",
            "/gdrive/MyDrive/Audio/A/00_055.wav 0\n",
            "/gdrive/MyDrive/Audio/A/00_056.wav 0\n",
            "/gdrive/MyDrive/Audio/A/00_057.wav 0\n",
            "/gdrive/MyDrive/Audio/A/00_058.wav 0\n",
            "/gdrive/MyDrive/Audio/A/00_059.wav 0\n",
            "/gdrive/MyDrive/Audio/A/00_060.wav 0\n",
            "/gdrive/MyDrive/Audio/A/00_061.wav 0\n",
            "/gdrive/MyDrive/Audio/A/00_062.wav 0\n",
            "/gdrive/MyDrive/Audio/A/00_063.wav 0\n",
            "/gdrive/MyDrive/Audio/A/00_064.wav 0\n",
            "/gdrive/MyDrive/Audio/A/00_065.wav 0\n",
            "/gdrive/MyDrive/Audio/A/00_066.wav 0\n",
            "/gdrive/MyDrive/Audio/A/00_067.wav 0\n",
            "/gdrive/MyDrive/Audio/A/00_068.wav 0\n",
            "/gdrive/MyDrive/Audio/A/00_069.wav 0\n",
            "/gdrive/MyDrive/Audio/A/00_070.wav 0\n",
            "/gdrive/MyDrive/Audio/A/00_071.wav 0\n",
            "/gdrive/MyDrive/Audio/A/00_072.wav 0\n",
            "/gdrive/MyDrive/Audio/A/00_073.wav 0\n",
            "/gdrive/MyDrive/Audio/A/00_074.wav 0\n",
            "/gdrive/MyDrive/Audio/A/00_075.wav 0\n",
            "/gdrive/MyDrive/Audio/A/00_076.wav 0\n",
            "/gdrive/MyDrive/Audio/A/00_077.wav 0\n",
            "/gdrive/MyDrive/Audio/A/00_078.wav 0\n",
            "/gdrive/MyDrive/Audio/A/00_079.wav 0\n",
            "/gdrive/MyDrive/Audio/A/00_080.wav 0\n",
            "/gdrive/MyDrive/Audio/A/00_081.wav 0\n",
            "/gdrive/MyDrive/Audio/A/00_082.wav 0\n",
            "/gdrive/MyDrive/Audio/A/00_083.wav 0\n",
            "/gdrive/MyDrive/Audio/A/00_084.wav 0\n",
            "/gdrive/MyDrive/Audio/A/00_085.wav 0\n",
            "/gdrive/MyDrive/Audio/A/00_086.wav 0\n",
            "/gdrive/MyDrive/Audio/A/00_087.wav 0\n",
            "/gdrive/MyDrive/Audio/A/00_088.wav 0\n",
            "/gdrive/MyDrive/Audio/A/00_089.wav 0\n",
            "/gdrive/MyDrive/Audio/A/00_090.wav 0\n",
            "/gdrive/MyDrive/Audio/A/00_091.wav 0\n",
            "/gdrive/MyDrive/Audio/A/00_092.wav 0\n",
            "/gdrive/MyDrive/Audio/A/00_093.wav 0\n",
            "/gdrive/MyDrive/Audio/A/00_094.wav 0\n",
            "/gdrive/MyDrive/Audio/A/00_095.wav 0\n",
            "/gdrive/MyDrive/Audio/A/00_096.wav 0\n",
            "/gdrive/MyDrive/Audio/A/00_097.wav 0\n",
            "/gdrive/MyDrive/Audio/A/00_098.wav 0\n",
            "/gdrive/MyDrive/Audio/A/00_099.wav 0\n",
            "/gdrive/MyDrive/Audio/A/00_100.wav 0\n",
            "/gdrive/MyDrive/Audio/A/00_101.wav 0\n",
            "/gdrive/MyDrive/Audio/A/00_102.wav 0\n",
            "/gdrive/MyDrive/Audio/A/00_103.wav 0\n",
            "/gdrive/MyDrive/Audio/A/00_104.wav 0\n",
            "/gdrive/MyDrive/Audio/A/00_105.wav 0\n",
            "/gdrive/MyDrive/Audio/A/00_106.wav 0\n",
            "/gdrive/MyDrive/Audio/A/00_107.wav 0\n",
            "/gdrive/MyDrive/Audio/A/00_108.wav 0\n",
            "/gdrive/MyDrive/Audio/A/00_109.wav 0\n",
            "/gdrive/MyDrive/Audio/A/00_110.wav 0\n",
            "/gdrive/MyDrive/Audio/A/00_111.wav 0\n",
            "/gdrive/MyDrive/Audio/A/00_112.wav 0\n",
            "/gdrive/MyDrive/Audio/A/00_113.wav 0\n",
            "/gdrive/MyDrive/Audio/A/00_114.wav 0\n",
            "/gdrive/MyDrive/Audio/A/00_115.wav 0\n",
            "/gdrive/MyDrive/Audio/A/00_116.wav 0\n",
            "/gdrive/MyDrive/Audio/A/00_117.wav 0\n",
            "/gdrive/MyDrive/Audio/A/00_118.wav 0\n",
            "/gdrive/MyDrive/Audio/A/00_119.wav 0\n",
            "/gdrive/MyDrive/Audio/A/00_120.wav 0\n",
            "/gdrive/MyDrive/Audio/A/00_121.wav 0\n",
            "/gdrive/MyDrive/Audio/A/00_122.wav 0\n",
            "/gdrive/MyDrive/Audio/A/00_123.wav 0\n",
            "/gdrive/MyDrive/Audio/A/00_124.wav 0\n",
            "/gdrive/MyDrive/Audio/A/00_125.wav 0\n",
            "/gdrive/MyDrive/Audio/A/00_126.wav 0\n",
            "/gdrive/MyDrive/Audio/A/00_127.wav 0\n",
            "/gdrive/MyDrive/Audio/A/00_128.wav 0\n",
            "/gdrive/MyDrive/Audio/A/00_129.wav 0\n",
            "/gdrive/MyDrive/Audio/A/00_130.wav 0\n",
            "/gdrive/MyDrive/Audio/A/00_131.wav 0\n",
            "/gdrive/MyDrive/Audio/A/00_132.wav 0\n",
            "/gdrive/MyDrive/Audio/A/00_133.wav 0\n",
            "/gdrive/MyDrive/Audio/A/00_134.wav 0\n",
            "/gdrive/MyDrive/Audio/A/00_135.wav 0\n",
            "/gdrive/MyDrive/Audio/A/00_136.wav 0\n",
            "/gdrive/MyDrive/Audio/A/00_137.wav 0\n",
            "/gdrive/MyDrive/Audio/A/00_138.wav 0\n",
            "/gdrive/MyDrive/Audio/A/00_139.wav 0\n",
            "/gdrive/MyDrive/Audio/A/00_140.wav 0\n",
            "/gdrive/MyDrive/Audio/A/00_141.wav 0\n",
            "/gdrive/MyDrive/Audio/A/00_142.wav 0\n",
            "/gdrive/MyDrive/Audio/A/00_143.wav 0\n",
            "/gdrive/MyDrive/Audio/A/00_144.wav 0\n",
            "/gdrive/MyDrive/Audio/A/00_145.wav 0\n",
            "/gdrive/MyDrive/Audio/A/00_146.wav 0\n",
            "/gdrive/MyDrive/Audio/A/00_147.wav 0\n",
            "/gdrive/MyDrive/Audio/A/00_148.wav 0\n",
            "/gdrive/MyDrive/Audio/A/00_149.wav 0\n",
            "/gdrive/MyDrive/Audio/A/00_150.wav 0\n",
            "/gdrive/MyDrive/Audio/A/00_151.wav 0\n",
            "/gdrive/MyDrive/Audio/A/00_152.wav 0\n",
            "/gdrive/MyDrive/Audio/A/00_153.wav 0\n",
            "/gdrive/MyDrive/Audio/A/00_154.wav 0\n",
            "/gdrive/MyDrive/Audio/A/00_155.wav 0\n",
            "/gdrive/MyDrive/Audio/A/00_156.wav 0\n",
            "/gdrive/MyDrive/Audio/A/00_157.wav 0\n",
            "/gdrive/MyDrive/Audio/A/00_158.wav 0\n",
            "/gdrive/MyDrive/Audio/A/00_159.wav 0\n",
            "/gdrive/MyDrive/Audio/A/00_160.wav 0\n",
            "/gdrive/MyDrive/Audio/A/00_161.wav 0\n",
            "/gdrive/MyDrive/Audio/A/00_162.wav 0\n",
            "/gdrive/MyDrive/Audio/A/00_163.wav 0\n",
            "/gdrive/MyDrive/Audio/A/00_164.wav 0\n",
            "/gdrive/MyDrive/Audio/A/00_165.wav 0\n",
            "/gdrive/MyDrive/Audio/A/00_166.wav 0\n",
            "/gdrive/MyDrive/Audio/A/00_167.wav 0\n",
            "/gdrive/MyDrive/Audio/A/00_168.wav 0\n",
            "/gdrive/MyDrive/Audio/A/00_169.wav 0\n",
            "/gdrive/MyDrive/Audio/A/00_170.wav 0\n",
            "/gdrive/MyDrive/Audio/A/00_171.wav 0\n",
            "/gdrive/MyDrive/Audio/A/00_172.wav 0\n",
            "/gdrive/MyDrive/Audio/A/00_173.wav 0\n",
            "/gdrive/MyDrive/Audio/A/00_174.wav 0\n",
            "/gdrive/MyDrive/Audio/A/00_175.wav 0\n",
            "/gdrive/MyDrive/Audio/A/00_176.wav 0\n",
            "/gdrive/MyDrive/Audio/A/00_177.wav 0\n",
            "/gdrive/MyDrive/Audio/A/00_178.wav 0\n",
            "/gdrive/MyDrive/Audio/A/00_179.wav 0\n",
            "/gdrive/MyDrive/Audio/A/00_180.wav 0\n",
            "/gdrive/MyDrive/Audio/A/00_181.wav 0\n",
            "/gdrive/MyDrive/Audio/A/00_182.wav 0\n",
            "/gdrive/MyDrive/Audio/A/00_183.wav 0\n",
            "/gdrive/MyDrive/Audio/A/00_184.wav 0\n",
            "/gdrive/MyDrive/Audio/A/00_185.wav 0\n",
            "/gdrive/MyDrive/Audio/A/00_186.wav 0\n",
            "/gdrive/MyDrive/Audio/A/00_187.wav 0\n",
            "/gdrive/MyDrive/Audio/A/00_188.wav 0\n",
            "/gdrive/MyDrive/Audio/A/00_189.wav 0\n",
            "/gdrive/MyDrive/Audio/A/00_190.wav 0\n",
            "/gdrive/MyDrive/Audio/A/00_191.wav 0\n",
            "/gdrive/MyDrive/Audio/A/00_192.wav 0\n",
            "/gdrive/MyDrive/Audio/A/00_193.wav 0\n",
            "/gdrive/MyDrive/Audio/A/00_194.wav 0\n",
            "/gdrive/MyDrive/Audio/A/00_195.wav 0\n",
            "/gdrive/MyDrive/Audio/A/00_196.wav 0\n",
            "/gdrive/MyDrive/Audio/A/00_197.wav 0\n",
            "/gdrive/MyDrive/Audio/A/00_198.wav 0\n",
            "/gdrive/MyDrive/Audio/A/00_199.wav 0\n",
            "/gdrive/MyDrive/Audio/A/00_200.wav 0\n",
            "/gdrive/MyDrive/Audio/A/00_201.wav 0\n",
            "/gdrive/MyDrive/Audio/A/00_202.wav 0\n",
            "/gdrive/MyDrive/Audio/A/00_203.wav 0\n",
            "/gdrive/MyDrive/Audio/A/00_204.wav 0\n",
            "/gdrive/MyDrive/Audio/A/00_205.wav 0\n",
            "/gdrive/MyDrive/Audio/A/00_206.wav 0\n",
            "/gdrive/MyDrive/Audio/A/00_207.wav 0\n",
            "/gdrive/MyDrive/Audio/A/00_208.wav 0\n",
            "/gdrive/MyDrive/Audio/A/00_209.wav 0\n",
            "/gdrive/MyDrive/Audio/A/00_210.wav 0\n",
            "/gdrive/MyDrive/Audio/A/00_211.wav 0\n",
            "/gdrive/MyDrive/Audio/A/00_212.wav 0\n",
            "/gdrive/MyDrive/Audio/A/00_213.wav 0\n",
            "/gdrive/MyDrive/Audio/A/00_214.wav 0\n",
            "/gdrive/MyDrive/Audio/A/00_215.wav 0\n",
            "/gdrive/MyDrive/Audio/A/00_216.wav 0\n",
            "/gdrive/MyDrive/Audio/A/00_217.wav 0\n",
            "/gdrive/MyDrive/Audio/A/00_218.wav 0\n",
            "/gdrive/MyDrive/Audio/A/00_219.wav 0\n",
            "/gdrive/MyDrive/Audio/A/00_220.wav 0\n",
            "/gdrive/MyDrive/Audio/A/00_221.wav 0\n",
            "/gdrive/MyDrive/Audio/A/00_222.wav 0\n",
            "/gdrive/MyDrive/Audio/A/00_223.wav 0\n",
            "/gdrive/MyDrive/Audio/A/00_224.wav 0\n",
            "/gdrive/MyDrive/Audio/A/00_225.wav 0\n",
            "/gdrive/MyDrive/Audio/A/00_226.wav 0\n",
            "/gdrive/MyDrive/Audio/A/00_227.wav 0\n",
            "/gdrive/MyDrive/Audio/A/00_228.wav 0\n",
            "/gdrive/MyDrive/Audio/A/00_229.wav 0\n",
            "/gdrive/MyDrive/Audio/A/00_230.wav 0\n",
            "/gdrive/MyDrive/Audio/A/00_231.wav 0\n",
            "/gdrive/MyDrive/Audio/A/00_232.wav 0\n",
            "/gdrive/MyDrive/Audio/A/00_233.wav 0\n",
            "/gdrive/MyDrive/Audio/A/00_234.wav 0\n",
            "/gdrive/MyDrive/Audio/A/00_235.wav 0\n",
            "/gdrive/MyDrive/Audio/A/00_236.wav 0\n",
            "/gdrive/MyDrive/Audio/A/00_237.wav 0\n",
            "/gdrive/MyDrive/Audio/A/00_238.wav 0\n",
            "/gdrive/MyDrive/Audio/A/00_239.wav 0\n",
            "/gdrive/MyDrive/Audio/A/00_240.wav 0\n",
            "/gdrive/MyDrive/Audio/A/00_241.wav 0\n",
            "/gdrive/MyDrive/Audio/A/00_242.wav 0\n",
            "/gdrive/MyDrive/Audio/A/00_243.wav 0\n",
            "/gdrive/MyDrive/Audio/A/00_244.wav 0\n",
            "/gdrive/MyDrive/Audio/A/00_245.wav 0\n",
            "/gdrive/MyDrive/Audio/A/00_246.wav 0\n",
            "/gdrive/MyDrive/Audio/A/00_247.wav 0\n",
            "/gdrive/MyDrive/Audio/A/00_248.wav 0\n",
            "/gdrive/MyDrive/Audio/A/00_249.wav 0\n",
            "/gdrive/MyDrive/Audio/A/00_250.wav 0\n",
            "/gdrive/MyDrive/Audio/A/00_251.wav 0\n",
            "/gdrive/MyDrive/Audio/A/00_252.wav 0\n",
            "/gdrive/MyDrive/Audio/A/00_253.wav 0\n",
            "/gdrive/MyDrive/Audio/A/00_254.wav 0\n",
            "/gdrive/MyDrive/Audio/A/00_255.wav 0\n",
            "/gdrive/MyDrive/Audio/A/00_256.wav 0\n",
            "/gdrive/MyDrive/Audio/A/00_257.wav 0\n",
            "/gdrive/MyDrive/Audio/A/00_258.wav 0\n",
            "/gdrive/MyDrive/Audio/A/00_259.wav 0\n",
            "/gdrive/MyDrive/Audio/A/00_260.wav 0\n",
            "/gdrive/MyDrive/Audio/A/00_261.wav 0\n",
            "/gdrive/MyDrive/Audio/A/00_262.wav 0\n",
            "/gdrive/MyDrive/Audio/A/00_263.wav 0\n",
            "/gdrive/MyDrive/Audio/A/00_264.wav 0\n",
            "/gdrive/MyDrive/Audio/A/00_265.wav 0\n",
            "/gdrive/MyDrive/Audio/A/00_266.wav 0\n",
            "/gdrive/MyDrive/Audio/A/00_267.wav 0\n",
            "/gdrive/MyDrive/Audio/A/00_268.wav 0\n",
            "/gdrive/MyDrive/Audio/A/00_269.wav 0\n",
            "/gdrive/MyDrive/Audio/A/00_270.wav 0\n",
            "/gdrive/MyDrive/Audio/A/00_271.wav 0\n",
            "/gdrive/MyDrive/Audio/A/00_272.wav 0\n",
            "/gdrive/MyDrive/Audio/A/00_273.wav 0\n",
            "/gdrive/MyDrive/Audio/A/00_274.wav 0\n",
            "/gdrive/MyDrive/Audio/A/00_275.wav 0\n",
            "/gdrive/MyDrive/Audio/A/00_276.wav 0\n",
            "/gdrive/MyDrive/Audio/A/00_277.wav 0\n",
            "/gdrive/MyDrive/Audio/A/00_278.wav 0\n",
            "/gdrive/MyDrive/Audio/A/00_279.wav 0\n",
            "/gdrive/MyDrive/Audio/A/00_280.wav 0\n",
            "/gdrive/MyDrive/Audio/A/00_281.wav 0\n",
            "/gdrive/MyDrive/Audio/A/00_282.wav 0\n",
            "/gdrive/MyDrive/Audio/A/00_283.wav 0\n",
            "/gdrive/MyDrive/Audio/A/00_284.wav 0\n",
            "/gdrive/MyDrive/Audio/A/00_285.wav 0\n",
            "/gdrive/MyDrive/Audio/A/00_286.wav 0\n",
            "/gdrive/MyDrive/Audio/A/00_287.wav 0\n",
            "/gdrive/MyDrive/Audio/A/00_288.wav 0\n",
            "/gdrive/MyDrive/Audio/A/00_289.wav 0\n",
            "/gdrive/MyDrive/Audio/A/00_290.wav 0\n",
            "/gdrive/MyDrive/Audio/A/00_291.wav 0\n",
            "/gdrive/MyDrive/Audio/A/00_292.wav 0\n",
            "/gdrive/MyDrive/Audio/A/00_293.wav 0\n",
            "/gdrive/MyDrive/Audio/A/00_294.wav 0\n",
            "/gdrive/MyDrive/Audio/A/00_295.wav 0\n",
            "/gdrive/MyDrive/Audio/A/00_296.wav 0\n",
            "/gdrive/MyDrive/Audio/A/00_297.wav 0\n",
            "/gdrive/MyDrive/Audio/A/00_298.wav 0\n",
            "/gdrive/MyDrive/Audio/A/00_299.wav 0\n",
            "/gdrive/MyDrive/Audio/A/00_300.wav 0\n",
            "/gdrive/MyDrive/Audio/A/00_301.wav 0\n",
            "/gdrive/MyDrive/Audio/A/00_302.wav 0\n",
            "/gdrive/MyDrive/Audio/A/00_303.wav 0\n",
            "/gdrive/MyDrive/Audio/A/00_304.wav 0\n",
            "/gdrive/MyDrive/Audio/A/00_305.wav 0\n",
            "/gdrive/MyDrive/Audio/A/00_306.wav 0\n",
            "/gdrive/MyDrive/Audio/A/00_307.wav 0\n",
            "/gdrive/MyDrive/Audio/A/00_308.wav 0\n",
            "/gdrive/MyDrive/Audio/A/00_309.wav 0\n",
            "/gdrive/MyDrive/Audio/A/00_310.wav 0\n",
            "/gdrive/MyDrive/Audio/A/00_311.wav 0\n",
            "/gdrive/MyDrive/Audio/A/00_312.wav 0\n",
            "/gdrive/MyDrive/Audio/A/00_313.wav 0\n",
            "/gdrive/MyDrive/Audio/A/00_314.wav 0\n",
            "/gdrive/MyDrive/Audio/A/00_315.wav 0\n",
            "/gdrive/MyDrive/Audio/A/00_316.wav 0\n",
            "/gdrive/MyDrive/Audio/A/00_317.wav 0\n",
            "/gdrive/MyDrive/Audio/A/00_318.wav 0\n",
            "/gdrive/MyDrive/Audio/A/00_319.wav 0\n",
            "/gdrive/MyDrive/Audio/A/00_320.wav 0\n",
            "/gdrive/MyDrive/Audio/A/00_321.wav 0\n",
            "/gdrive/MyDrive/Audio/A/00_322.wav 0\n",
            "/gdrive/MyDrive/Audio/A/00_323.wav 0\n",
            "/gdrive/MyDrive/Audio/A/00_324.wav 0\n",
            "/gdrive/MyDrive/Audio/A/00_325.wav 0\n",
            "/gdrive/MyDrive/Audio/A/00_326.wav 0\n",
            "/gdrive/MyDrive/Audio/A/00_327.wav 0\n",
            "/gdrive/MyDrive/Audio/A/00_328.wav 0\n",
            "/gdrive/MyDrive/Audio/A/00_329.wav 0\n",
            "/gdrive/MyDrive/Audio/A/00_330.wav 0\n",
            "/gdrive/MyDrive/Audio/A/00_331.wav 0\n",
            "/gdrive/MyDrive/Audio/A/00_332.wav 0\n",
            "/gdrive/MyDrive/Audio/A/00_333.wav 0\n",
            "/gdrive/MyDrive/Audio/A/00_334.wav 0\n",
            "/gdrive/MyDrive/Audio/A/00_335.wav 0\n",
            "/gdrive/MyDrive/Audio/A/00_336.wav 0\n",
            "/gdrive/MyDrive/Audio/A/00_337.wav 0\n",
            "/gdrive/MyDrive/Audio/A/00_338.wav 0\n",
            "/gdrive/MyDrive/Audio/A/00_339.wav 0\n",
            "/gdrive/MyDrive/Audio/A/00_340.wav 0\n",
            "/gdrive/MyDrive/Audio/A/00_341.wav 0\n",
            "/gdrive/MyDrive/Audio/A/00_342.wav 0\n",
            "/gdrive/MyDrive/Audio/A/00_343.wav 0\n",
            "/gdrive/MyDrive/Audio/A/00_344.wav 0\n",
            "/gdrive/MyDrive/Audio/A/00_345.wav 0\n",
            "/gdrive/MyDrive/Audio/A/00_346.wav 0\n",
            "/gdrive/MyDrive/Audio/A/00_347.wav 0\n",
            "/gdrive/MyDrive/Audio/A/00_348.wav 0\n",
            "/gdrive/MyDrive/Audio/A/00_349.wav 0\n",
            "/gdrive/MyDrive/Audio/A/00_350.wav 0\n",
            "/gdrive/MyDrive/Audio/A/00_351.wav 0\n",
            "/gdrive/MyDrive/Audio/A/00_352.wav 0\n",
            "/gdrive/MyDrive/Audio/A/00_353.wav 0\n",
            "/gdrive/MyDrive/Audio/A/00_354.wav 0\n",
            "/gdrive/MyDrive/Audio/A/00_355.wav 0\n",
            "/gdrive/MyDrive/Audio/A/00_356.wav 0\n",
            "/gdrive/MyDrive/Audio/A/00_357.wav 0\n",
            "/gdrive/MyDrive/Audio/A/01_001.wav 1\n",
            "/gdrive/MyDrive/Audio/A/01_002.wav 1\n",
            "/gdrive/MyDrive/Audio/A/01_003.wav 1\n",
            "/gdrive/MyDrive/Audio/A/01_004.wav 1\n",
            "/gdrive/MyDrive/Audio/A/01_005.wav 1\n",
            "/gdrive/MyDrive/Audio/A/01_006.wav 1\n",
            "/gdrive/MyDrive/Audio/A/01_007.wav 1\n",
            "/gdrive/MyDrive/Audio/A/01_008.wav 1\n",
            "/gdrive/MyDrive/Audio/A/01_009.wav 1\n",
            "/gdrive/MyDrive/Audio/A/01_010.wav 1\n",
            "/gdrive/MyDrive/Audio/A/01_011.wav 1\n",
            "/gdrive/MyDrive/Audio/A/01_012.wav 1\n",
            "/gdrive/MyDrive/Audio/A/01_013.wav 1\n",
            "/gdrive/MyDrive/Audio/A/01_014.wav 1\n",
            "/gdrive/MyDrive/Audio/A/01_015.wav 1\n",
            "/gdrive/MyDrive/Audio/A/01_016.wav 1\n",
            "/gdrive/MyDrive/Audio/A/01_017.wav 1\n",
            "/gdrive/MyDrive/Audio/A/01_018.wav 1\n",
            "/gdrive/MyDrive/Audio/A/01_019.wav 1\n",
            "/gdrive/MyDrive/Audio/A/01_020.wav 1\n",
            "/gdrive/MyDrive/Audio/A/01_021.wav 1\n",
            "/gdrive/MyDrive/Audio/A/01_022.wav 1\n",
            "/gdrive/MyDrive/Audio/A/01_023.wav 1\n",
            "/gdrive/MyDrive/Audio/A/01_024.wav 1\n",
            "/gdrive/MyDrive/Audio/A/01_025.wav 1\n",
            "/gdrive/MyDrive/Audio/A/01_026.wav 1\n",
            "/gdrive/MyDrive/Audio/A/01_027.wav 1\n",
            "/gdrive/MyDrive/Audio/A/01_028.wav 1\n",
            "/gdrive/MyDrive/Audio/A/01_029.wav 1\n",
            "/gdrive/MyDrive/Audio/A/01_030.wav 1\n",
            "/gdrive/MyDrive/Audio/A/01_031.wav 1\n",
            "/gdrive/MyDrive/Audio/A/01_032.wav 1\n",
            "/gdrive/MyDrive/Audio/A/01_033.wav 1\n",
            "/gdrive/MyDrive/Audio/A/01_034.wav 1\n",
            "/gdrive/MyDrive/Audio/A/01_035.wav 1\n",
            "/gdrive/MyDrive/Audio/A/01_036.wav 1\n",
            "/gdrive/MyDrive/Audio/A/01_037.wav 1\n",
            "/gdrive/MyDrive/Audio/A/01_038.wav 1\n",
            "/gdrive/MyDrive/Audio/A/01_039.wav 1\n",
            "/gdrive/MyDrive/Audio/A/01_040.wav 1\n",
            "/gdrive/MyDrive/Audio/A/01_041.wav 1\n",
            "/gdrive/MyDrive/Audio/A/01_042.wav 1\n",
            "/gdrive/MyDrive/Audio/A/01_043.wav 1\n",
            "/gdrive/MyDrive/Audio/A/01_044.wav 1\n",
            "/gdrive/MyDrive/Audio/A/01_045.wav 1\n",
            "/gdrive/MyDrive/Audio/A/01_046.wav 1\n",
            "/gdrive/MyDrive/Audio/A/01_047.wav 1\n",
            "/gdrive/MyDrive/Audio/A/01_048.wav 1\n",
            "/gdrive/MyDrive/Audio/A/01_049.wav 1\n",
            "/gdrive/MyDrive/Audio/A/01_050.wav 1\n",
            "/gdrive/MyDrive/Audio/A/01_051.wav 1\n",
            "/gdrive/MyDrive/Audio/A/01_052.wav 1\n",
            "/gdrive/MyDrive/Audio/A/01_053.wav 1\n",
            "/gdrive/MyDrive/Audio/A/01_054.wav 1\n",
            "/gdrive/MyDrive/Audio/A/01_055.wav 1\n",
            "/gdrive/MyDrive/Audio/A/01_056.wav 1\n",
            "/gdrive/MyDrive/Audio/A/01_057.wav 1\n",
            "/gdrive/MyDrive/Audio/A/01_058.wav 1\n",
            "/gdrive/MyDrive/Audio/A/01_059.wav 1\n",
            "/gdrive/MyDrive/Audio/A/01_060.wav 1\n",
            "/gdrive/MyDrive/Audio/A/01_061.wav 1\n",
            "/gdrive/MyDrive/Audio/A/01_062.wav 1\n",
            "/gdrive/MyDrive/Audio/A/01_063.wav 1\n",
            "/gdrive/MyDrive/Audio/A/01_064.wav 1\n",
            "/gdrive/MyDrive/Audio/A/01_065.wav 1\n",
            "/gdrive/MyDrive/Audio/A/01_066.wav 1\n",
            "/gdrive/MyDrive/Audio/A/01_067.wav 1\n",
            "/gdrive/MyDrive/Audio/A/01_068.wav 1\n",
            "/gdrive/MyDrive/Audio/A/01_069.wav 1\n",
            "/gdrive/MyDrive/Audio/A/01_070.wav 1\n",
            "/gdrive/MyDrive/Audio/A/01_071.wav 1\n",
            "/gdrive/MyDrive/Audio/A/01_072.wav 1\n",
            "/gdrive/MyDrive/Audio/A/01_073.wav 1\n",
            "/gdrive/MyDrive/Audio/A/01_074.wav 1\n",
            "/gdrive/MyDrive/Audio/A/01_075.wav 1\n",
            "/gdrive/MyDrive/Audio/A/01_076.wav 1\n",
            "/gdrive/MyDrive/Audio/A/01_077.wav 1\n",
            "/gdrive/MyDrive/Audio/A/01_078.wav 1\n",
            "/gdrive/MyDrive/Audio/A/01_079.wav 1\n",
            "/gdrive/MyDrive/Audio/A/01_080.wav 1\n",
            "/gdrive/MyDrive/Audio/A/01_081.wav 1\n",
            "/gdrive/MyDrive/Audio/A/01_082.wav 1\n",
            "/gdrive/MyDrive/Audio/A/01_083.wav 1\n",
            "/gdrive/MyDrive/Audio/A/01_084.wav 1\n",
            "/gdrive/MyDrive/Audio/A/01_085.wav 1\n",
            "/gdrive/MyDrive/Audio/A/01_086.wav 1\n",
            "/gdrive/MyDrive/Audio/A/01_087.wav 1\n",
            "/gdrive/MyDrive/Audio/A/01_088.wav 1\n",
            "/gdrive/MyDrive/Audio/A/01_089.wav 1\n",
            "/gdrive/MyDrive/Audio/A/01_090.wav 1\n",
            "/gdrive/MyDrive/Audio/A/01_091.wav 1\n",
            "/gdrive/MyDrive/Audio/A/01_092.wav 1\n",
            "/gdrive/MyDrive/Audio/A/01_093.wav 1\n",
            "/gdrive/MyDrive/Audio/A/01_094.wav 1\n",
            "/gdrive/MyDrive/Audio/A/01_095.wav 1\n",
            "/gdrive/MyDrive/Audio/A/01_096.wav 1\n",
            "/gdrive/MyDrive/Audio/A/01_097.wav 1\n",
            "/gdrive/MyDrive/Audio/A/01_098.wav 1\n",
            "/gdrive/MyDrive/Audio/A/01_099.wav 1\n",
            "/gdrive/MyDrive/Audio/A/01_100.wav 1\n",
            "/gdrive/MyDrive/Audio/A/01_101.wav 1\n",
            "/gdrive/MyDrive/Audio/A/01_102.wav 1\n",
            "/gdrive/MyDrive/Audio/A/01_103.wav 1\n",
            "/gdrive/MyDrive/Audio/A/01_104.wav 1\n",
            "/gdrive/MyDrive/Audio/A/01_105.wav 1\n",
            "/gdrive/MyDrive/Audio/A/01_106.wav 1\n",
            "/gdrive/MyDrive/Audio/A/01_107.wav 1\n",
            "/gdrive/MyDrive/Audio/A/01_108.wav 1\n",
            "/gdrive/MyDrive/Audio/A/01_109.wav 1\n",
            "/gdrive/MyDrive/Audio/A/01_110.wav 1\n",
            "/gdrive/MyDrive/Audio/A/01_111.wav 1\n",
            "/gdrive/MyDrive/Audio/A/01_112.wav 1\n",
            "/gdrive/MyDrive/Audio/A/01_113.wav 1\n",
            "/gdrive/MyDrive/Audio/A/01_114.wav 1\n",
            "/gdrive/MyDrive/Audio/A/01_115.wav 1\n",
            "/gdrive/MyDrive/Audio/A/01_116.wav 1\n",
            "/gdrive/MyDrive/Audio/A/01_117.wav 1\n",
            "/gdrive/MyDrive/Audio/A/01_118.wav 1\n",
            "/gdrive/MyDrive/Audio/A/01_119.wav 1\n",
            "/gdrive/MyDrive/Audio/A/01_120.wav 1\n",
            "/gdrive/MyDrive/Audio/A/01_121.wav 1\n",
            "/gdrive/MyDrive/Audio/A/01_122.wav 1\n",
            "/gdrive/MyDrive/Audio/A/01_123.wav 1\n",
            "/gdrive/MyDrive/Audio/A/01_124.wav 1\n",
            "/gdrive/MyDrive/Audio/A/01_125.wav 1\n",
            "/gdrive/MyDrive/Audio/A/01_126.wav 1\n",
            "/gdrive/MyDrive/Audio/A/01_127.wav 1\n",
            "/gdrive/MyDrive/Audio/A/01_128.wav 1\n",
            "/gdrive/MyDrive/Audio/A/01_129.wav 1\n",
            "/gdrive/MyDrive/Audio/A/01_130.wav 1\n",
            "/gdrive/MyDrive/Audio/A/01_131.wav 1\n",
            "/gdrive/MyDrive/Audio/A/01_132.wav 1\n",
            "/gdrive/MyDrive/Audio/A/01_133.wav 1\n",
            "/gdrive/MyDrive/Audio/A/01_134.wav 1\n",
            "/gdrive/MyDrive/Audio/A/01_135.wav 1\n",
            "/gdrive/MyDrive/Audio/A/01_136.wav 1\n",
            "/gdrive/MyDrive/Audio/A/01_137.wav 1\n",
            "/gdrive/MyDrive/Audio/A/01_138.wav 1\n",
            "/gdrive/MyDrive/Audio/A/01_139.wav 1\n",
            "/gdrive/MyDrive/Audio/A/01_140.wav 1\n",
            "/gdrive/MyDrive/Audio/A/01_141.wav 1\n",
            "/gdrive/MyDrive/Audio/A/01_142.wav 1\n",
            "/gdrive/MyDrive/Audio/A/01_143.wav 1\n",
            "/gdrive/MyDrive/Audio/A/01_144.wav 1\n",
            "/gdrive/MyDrive/Audio/A/01_145.wav 1\n",
            "/gdrive/MyDrive/Audio/A/01_146.wav 1\n",
            "/gdrive/MyDrive/Audio/A/01_147.wav 1\n",
            "/gdrive/MyDrive/Audio/A/01_148.wav 1\n",
            "/gdrive/MyDrive/Audio/A/01_149.wav 1\n",
            "/gdrive/MyDrive/Audio/A/01_150.wav 1\n",
            "/gdrive/MyDrive/Audio/A/01_151.wav 1\n",
            "/gdrive/MyDrive/Audio/A/01_152.wav 1\n",
            "/gdrive/MyDrive/Audio/A/01_153.wav 1\n",
            "/gdrive/MyDrive/Audio/A/01_154.wav 1\n",
            "/gdrive/MyDrive/Audio/A/01_155.wav 1\n",
            "/gdrive/MyDrive/Audio/A/01_156.wav 1\n",
            "/gdrive/MyDrive/Audio/A/01_157.wav 1\n",
            "/gdrive/MyDrive/Audio/A/01_158.wav 1\n",
            "/gdrive/MyDrive/Audio/A/01_159.wav 1\n",
            "/gdrive/MyDrive/Audio/A/01_160.wav 1\n",
            "/gdrive/MyDrive/Audio/A/01_161.wav 1\n",
            "/gdrive/MyDrive/Audio/A/01_162.wav 1\n",
            "/gdrive/MyDrive/Audio/A/01_163.wav 1\n",
            "/gdrive/MyDrive/Audio/A/01_164.wav 1\n",
            "/gdrive/MyDrive/Audio/A/01_165.wav 1\n",
            "/gdrive/MyDrive/Audio/A/01_166.wav 1\n",
            "/gdrive/MyDrive/Audio/A/01_167.wav 1\n",
            "/gdrive/MyDrive/Audio/A/01_168.wav 1\n",
            "/gdrive/MyDrive/Audio/A/01_169.wav 1\n",
            "/gdrive/MyDrive/Audio/A/01_170.wav 1\n",
            "/gdrive/MyDrive/Audio/A/01_171.wav 1\n",
            "/gdrive/MyDrive/Audio/A/01_172.wav 1\n",
            "/gdrive/MyDrive/Audio/A/01_173.wav 1\n",
            "/gdrive/MyDrive/Audio/A/01_174.wav 1\n",
            "/gdrive/MyDrive/Audio/A/01_175.wav 1\n",
            "/gdrive/MyDrive/Audio/A/01_176.wav 1\n",
            "/gdrive/MyDrive/Audio/A/01_177.wav 1\n",
            "/gdrive/MyDrive/Audio/A/01_178.wav 1\n",
            "/gdrive/MyDrive/Audio/A/01_179.wav 1\n",
            "/gdrive/MyDrive/Audio/A/01_180.wav 1\n",
            "/gdrive/MyDrive/Audio/A/01_181.wav 1\n",
            "/gdrive/MyDrive/Audio/A/01_182.wav 1\n",
            "/gdrive/MyDrive/Audio/A/01_183.wav 1\n",
            "/gdrive/MyDrive/Audio/A/01_184.wav 1\n",
            "/gdrive/MyDrive/Audio/A/01_185.wav 1\n",
            "/gdrive/MyDrive/Audio/A/01_186.wav 1\n",
            "/gdrive/MyDrive/Audio/A/01_187.wav 1\n",
            "/gdrive/MyDrive/Audio/A/01_188.wav 1\n",
            "/gdrive/MyDrive/Audio/A/01_189.wav 1\n",
            "/gdrive/MyDrive/Audio/A/01_190.wav 1\n",
            "/gdrive/MyDrive/Audio/A/01_191.wav 1\n",
            "/gdrive/MyDrive/Audio/A/01_192.wav 1\n",
            "/gdrive/MyDrive/Audio/A/01_193.wav 1\n",
            "/gdrive/MyDrive/Audio/A/01_194.wav 1\n",
            "/gdrive/MyDrive/Audio/A/01_195.wav 1\n",
            "/gdrive/MyDrive/Audio/A/01_196.wav 1\n",
            "/gdrive/MyDrive/Audio/A/01_197.wav 1\n",
            "/gdrive/MyDrive/Audio/A/01_198.wav 1\n",
            "/gdrive/MyDrive/Audio/A/01_199.wav 1\n",
            "/gdrive/MyDrive/Audio/A/01_200.wav 1\n",
            "/gdrive/MyDrive/Audio/A/01_201.wav 1\n",
            "/gdrive/MyDrive/Audio/A/01_202.wav 1\n",
            "/gdrive/MyDrive/Audio/A/01_203.wav 1\n",
            "/gdrive/MyDrive/Audio/A/01_204.wav 1\n",
            "/gdrive/MyDrive/Audio/A/01_205.wav 1\n",
            "/gdrive/MyDrive/Audio/A/01_206.wav 1\n",
            "/gdrive/MyDrive/Audio/A/01_207.wav 1\n",
            "/gdrive/MyDrive/Audio/A/01_208.wav 1\n",
            "/gdrive/MyDrive/Audio/A/01_209.wav 1\n",
            "/gdrive/MyDrive/Audio/A/01_210.wav 1\n",
            "/gdrive/MyDrive/Audio/A/01_211.wav 1\n",
            "/gdrive/MyDrive/Audio/A/01_212.wav 1\n",
            "/gdrive/MyDrive/Audio/A/01_213.wav 1\n",
            "/gdrive/MyDrive/Audio/A/01_214.wav 1\n",
            "/gdrive/MyDrive/Audio/A/01_215.wav 1\n",
            "/gdrive/MyDrive/Audio/A/01_216.wav 1\n",
            "/gdrive/MyDrive/Audio/A/01_217.wav 1\n",
            "/gdrive/MyDrive/Audio/A/01_218.wav 1\n",
            "/gdrive/MyDrive/Audio/A/01_219.wav 1\n",
            "/gdrive/MyDrive/Audio/A/01_220.wav 1\n",
            "/gdrive/MyDrive/Audio/A/01_221.wav 1\n",
            "/gdrive/MyDrive/Audio/A/01_222.wav 1\n",
            "/gdrive/MyDrive/Audio/A/01_223.wav 1\n",
            "/gdrive/MyDrive/Audio/A/01_224.wav 1\n",
            "/gdrive/MyDrive/Audio/A/01_225.wav 1\n",
            "/gdrive/MyDrive/Audio/A/01_226.wav 1\n",
            "/gdrive/MyDrive/Audio/A/01_227.wav 1\n",
            "/gdrive/MyDrive/Audio/A/01_228.wav 1\n",
            "/gdrive/MyDrive/Audio/A/01_229.wav 1\n",
            "/gdrive/MyDrive/Audio/A/01_230.wav 1\n",
            "/gdrive/MyDrive/Audio/A/01_231.wav 1\n",
            "/gdrive/MyDrive/Audio/A/01_232.wav 1\n",
            "/gdrive/MyDrive/Audio/A/01_233.wav 1\n",
            "/gdrive/MyDrive/Audio/A/01_234.wav 1\n",
            "/gdrive/MyDrive/Audio/A/01_235.wav 1\n",
            "/gdrive/MyDrive/Audio/A/01_236.wav 1\n",
            "/gdrive/MyDrive/Audio/A/01_237.wav 1\n",
            "/gdrive/MyDrive/Audio/A/01_238.wav 1\n",
            "/gdrive/MyDrive/Audio/A/01_239.wav 1\n",
            "/gdrive/MyDrive/Audio/A/01_240.wav 1\n",
            "/gdrive/MyDrive/Audio/A/01_241.wav 1\n",
            "/gdrive/MyDrive/Audio/A/01_242.wav 1\n",
            "/gdrive/MyDrive/Audio/A/01_243.wav 1\n",
            "/gdrive/MyDrive/Audio/A/01_244.wav 1\n",
            "/gdrive/MyDrive/Audio/A/01_245.wav 1\n",
            "/gdrive/MyDrive/Audio/A/01_246.wav 1\n",
            "/gdrive/MyDrive/Audio/A/01_247.wav 1\n",
            "/gdrive/MyDrive/Audio/A/01_248.wav 1\n",
            "/gdrive/MyDrive/Audio/A/01_249.wav 1\n",
            "/gdrive/MyDrive/Audio/A/01_250.wav 1\n",
            "/gdrive/MyDrive/Audio/A/01_251.wav 1\n",
            "/gdrive/MyDrive/Audio/A/01_252.wav 1\n",
            "/gdrive/MyDrive/Audio/A/01_253.wav 1\n",
            "/gdrive/MyDrive/Audio/A/01_254.wav 1\n",
            "/gdrive/MyDrive/Audio/A/01_255.wav 1\n",
            "/gdrive/MyDrive/Audio/A/01_256.wav 1\n",
            "/gdrive/MyDrive/Audio/A/01_257.wav 1\n",
            "/gdrive/MyDrive/Audio/A/01_258.wav 1\n",
            "/gdrive/MyDrive/Audio/A/01_259.wav 1\n",
            "/gdrive/MyDrive/Audio/A/01_260.wav 1\n",
            "/gdrive/MyDrive/Audio/A/01_261.wav 1\n",
            "/gdrive/MyDrive/Audio/A/01_262.wav 1\n",
            "/gdrive/MyDrive/Audio/A/01_263.wav 1\n",
            "/gdrive/MyDrive/Audio/A/01_264.wav 1\n",
            "/gdrive/MyDrive/Audio/A/01_265.wav 1\n",
            "/gdrive/MyDrive/Audio/A/01_266.wav 1\n",
            "/gdrive/MyDrive/Audio/A/01_267.wav 1\n",
            "/gdrive/MyDrive/Audio/A/01_268.wav 1\n",
            "/gdrive/MyDrive/Audio/A/01_269.wav 1\n",
            "/gdrive/MyDrive/Audio/A/01_270.wav 1\n",
            "/gdrive/MyDrive/Audio/A/01_271.wav 1\n",
            "/gdrive/MyDrive/Audio/A/01_272.wav 1\n",
            "/gdrive/MyDrive/Audio/A/01_273.wav 1\n",
            "/gdrive/MyDrive/Audio/A/01_274.wav 1\n",
            "/gdrive/MyDrive/Audio/A/01_275.wav 1\n",
            "/gdrive/MyDrive/Audio/A/01_276.wav 1\n",
            "/gdrive/MyDrive/Audio/A/01_277.wav 1\n",
            "/gdrive/MyDrive/Audio/A/01_278.wav 1\n",
            "/gdrive/MyDrive/Audio/A/01_279.wav 1\n",
            "/gdrive/MyDrive/Audio/A/01_280.wav 1\n",
            "/gdrive/MyDrive/Audio/A/01_281.wav 1\n",
            "/gdrive/MyDrive/Audio/A/01_282.wav 1\n",
            "/gdrive/MyDrive/Audio/A/01_283.wav 1\n",
            "/gdrive/MyDrive/Audio/A/01_284.wav 1\n",
            "/gdrive/MyDrive/Audio/A/01_285.wav 1\n",
            "/gdrive/MyDrive/Audio/A/01_286.wav 1\n",
            "/gdrive/MyDrive/Audio/A/01_287.wav 1\n",
            "/gdrive/MyDrive/Audio/A/01_288.wav 1\n",
            "/gdrive/MyDrive/Audio/A/01_289.wav 1\n",
            "/gdrive/MyDrive/Audio/A/01_290.wav 1\n",
            "/gdrive/MyDrive/Audio/A/01_291.wav 1\n",
            "/gdrive/MyDrive/Audio/A/01_292.wav 1\n",
            "/gdrive/MyDrive/Audio/A/01_293.wav 1\n",
            "/gdrive/MyDrive/Audio/A/01_294.wav 1\n",
            "/gdrive/MyDrive/Audio/A/01_295.wav 1\n",
            "/gdrive/MyDrive/Audio/A/01_296.wav 1\n",
            "/gdrive/MyDrive/Audio/A/01_297.wav 1\n",
            "/gdrive/MyDrive/Audio/A/01_298.wav 1\n",
            "/gdrive/MyDrive/Audio/A/01_299.wav 1\n",
            "/gdrive/MyDrive/Audio/A/01_300.wav 1\n",
            "/gdrive/MyDrive/Audio/A/01_301.wav 1\n",
            "/gdrive/MyDrive/Audio/A/01_302.wav 1\n",
            "/gdrive/MyDrive/Audio/A/01_303.wav 1\n",
            "/gdrive/MyDrive/Audio/A/01_304.wav 1\n",
            "/gdrive/MyDrive/Audio/A/01_305.wav 1\n",
            "/gdrive/MyDrive/Audio/A/01_306.wav 1\n",
            "/gdrive/MyDrive/Audio/A/01_307.wav 1\n",
            "/gdrive/MyDrive/Audio/A/01_308.wav 1\n",
            "/gdrive/MyDrive/Audio/A/01_309.wav 1\n",
            "/gdrive/MyDrive/Audio/A/01_310.wav 1\n",
            "/gdrive/MyDrive/Audio/A/01_311.wav 1\n",
            "/gdrive/MyDrive/Audio/A/01_312.wav 1\n",
            "/gdrive/MyDrive/Audio/A/01_313.wav 1\n",
            "/gdrive/MyDrive/Audio/A/01_314.wav 1\n",
            "/gdrive/MyDrive/Audio/A/01_315.wav 1\n",
            "/gdrive/MyDrive/Audio/A/01_316.wav 1\n",
            "/gdrive/MyDrive/Audio/A/01_317.wav 1\n",
            "/gdrive/MyDrive/Audio/A/01_318.wav 1\n",
            "/gdrive/MyDrive/Audio/A/01_319.wav 1\n",
            "/gdrive/MyDrive/Audio/A/01_320.wav 1\n",
            "/gdrive/MyDrive/Audio/A/01_321.wav 1\n",
            "/gdrive/MyDrive/Audio/A/01_322.wav 1\n",
            "/gdrive/MyDrive/Audio/A/01_323.wav 1\n",
            "/gdrive/MyDrive/Audio/A/01_324.wav 1\n",
            "/gdrive/MyDrive/Audio/A/01_325.wav 1\n",
            "/gdrive/MyDrive/Audio/A/01_326.wav 1\n",
            "/gdrive/MyDrive/Audio/A/01_327.wav 1\n",
            "/gdrive/MyDrive/Audio/A/01_328.wav 1\n",
            "/gdrive/MyDrive/Audio/A/01_329.wav 1\n",
            "/gdrive/MyDrive/Audio/A/01_330.wav 1\n",
            "/gdrive/MyDrive/Audio/A/01_331.wav 1\n",
            "/gdrive/MyDrive/Audio/A/01_332.wav 1\n",
            "/gdrive/MyDrive/Audio/A/01_333.wav 1\n",
            "/gdrive/MyDrive/Audio/A/01_334.wav 1\n",
            "/gdrive/MyDrive/Audio/A/01_335.wav 1\n",
            "/gdrive/MyDrive/Audio/A/01_336.wav 1\n",
            "/gdrive/MyDrive/Audio/A/01_337.wav 1\n",
            "/gdrive/MyDrive/Audio/A/01_338.wav 1\n",
            "/gdrive/MyDrive/Audio/A/01_339.wav 1\n",
            "/gdrive/MyDrive/Audio/A/01_340.wav 1\n",
            "/gdrive/MyDrive/Audio/A/01_341.wav 1\n",
            "/gdrive/MyDrive/Audio/A/01_342.wav 1\n",
            "/gdrive/MyDrive/Audio/A/01_343.wav 1\n",
            "/gdrive/MyDrive/Audio/A/01_344.wav 1\n",
            "/gdrive/MyDrive/Audio/A/01_345.wav 1\n",
            "/gdrive/MyDrive/Audio/A/01_346.wav 1\n",
            "/gdrive/MyDrive/Audio/A/01_347.wav 1\n",
            "/gdrive/MyDrive/Audio/A/01_348.wav 1\n",
            "/gdrive/MyDrive/Audio/A/01_349.wav 1\n",
            "/gdrive/MyDrive/Audio/A/01_350.wav 1\n",
            "/gdrive/MyDrive/Audio/A/01_351.wav 1\n",
            "/gdrive/MyDrive/Audio/A/01_352.wav 1\n",
            "/gdrive/MyDrive/Audio/A/01_353.wav 1\n",
            "/gdrive/MyDrive/Audio/A/01_354.wav 1\n",
            "/gdrive/MyDrive/Audio/A/01_355.wav 1\n",
            "/gdrive/MyDrive/Audio/A/01_356.wav 1\n",
            "/gdrive/MyDrive/Audio/A/01_357.wav 1\n",
            "/gdrive/MyDrive/Audio/A/01_358.wav 1\n",
            "/gdrive/MyDrive/Audio/A/01_359.wav 1\n",
            "/gdrive/MyDrive/Audio/A/01_360.wav 1\n",
            "/gdrive/MyDrive/Audio/A/01_361.wav 1\n",
            "/gdrive/MyDrive/Audio/A/01_362.wav 1\n",
            "/gdrive/MyDrive/Audio/A/01_363.wav 1\n",
            "/gdrive/MyDrive/Audio/A/01_364.wav 1\n",
            "/gdrive/MyDrive/Audio/A/01_365.wav 1\n",
            "/gdrive/MyDrive/Audio/A/01_366.wav 1\n",
            "/gdrive/MyDrive/Audio/A/01_367.wav 1\n",
            "/gdrive/MyDrive/Audio/A/01_368.wav 1\n",
            "/gdrive/MyDrive/Audio/A/01_369.wav 1\n",
            "/gdrive/MyDrive/Audio/A/01_370.wav 1\n",
            "/gdrive/MyDrive/Audio/A/01_371.wav 1\n",
            "/gdrive/MyDrive/Audio/A/01_372.wav 1\n",
            "/gdrive/MyDrive/Audio/A/01_373.wav 1\n",
            "/gdrive/MyDrive/Audio/A/01_374.wav 1\n",
            "/gdrive/MyDrive/Audio/A/01_375.wav 1\n",
            "/gdrive/MyDrive/Audio/A/01_376.wav 1\n",
            "/gdrive/MyDrive/Audio/A/01_377.wav 1\n",
            "/gdrive/MyDrive/Audio/A/01_378.wav 1\n",
            "/gdrive/MyDrive/Audio/A/01_379.wav 1\n",
            "/gdrive/MyDrive/Audio/A/01_380.wav 1\n",
            "/gdrive/MyDrive/Audio/A/01_381.wav 1\n",
            "/gdrive/MyDrive/Audio/A/01_382.wav 1\n",
            "/gdrive/MyDrive/Audio/A/01_383.wav 1\n",
            "/gdrive/MyDrive/Audio/A/01_384.wav 1\n",
            "/gdrive/MyDrive/Audio/A/01_385.wav 1\n",
            "/gdrive/MyDrive/Audio/A/01_386.wav 1\n",
            "/gdrive/MyDrive/Audio/A/01_387.wav 1\n",
            "/gdrive/MyDrive/Audio/A/01_388.wav 1\n",
            "/gdrive/MyDrive/Audio/A/01_389.wav 1\n",
            "/gdrive/MyDrive/Audio/A/01_390.wav 1\n",
            "/gdrive/MyDrive/Audio/A/01_391.wav 1\n",
            "/gdrive/MyDrive/Audio/A/01_392.wav 1\n",
            "/gdrive/MyDrive/Audio/A/01_393.wav 1\n",
            "/gdrive/MyDrive/Audio/A/01_394.wav 1\n",
            "/gdrive/MyDrive/Audio/A/01_395.wav 1\n",
            "/gdrive/MyDrive/Audio/A/01_396.wav 1\n",
            "/gdrive/MyDrive/Audio/A/01_397.wav 1\n",
            "/gdrive/MyDrive/Audio/A/01_398.wav 1\n",
            "/gdrive/MyDrive/Audio/A/01_399.wav 1\n",
            "/gdrive/MyDrive/Audio/A/01_400.wav 1\n",
            "/gdrive/MyDrive/Audio/A/01_401.wav 1\n",
            "/gdrive/MyDrive/Audio/A/01_402.wav 1\n",
            "/gdrive/MyDrive/Audio/A/01_403.wav 1\n",
            "/gdrive/MyDrive/Audio/A/01_404.wav 1\n",
            "/gdrive/MyDrive/Audio/A/02_001.wav 2\n",
            "/gdrive/MyDrive/Audio/A/02_002.wav 2\n",
            "/gdrive/MyDrive/Audio/A/02_003.wav 2\n",
            "/gdrive/MyDrive/Audio/A/02_004.wav 2\n",
            "/gdrive/MyDrive/Audio/A/02_005.wav 2\n",
            "/gdrive/MyDrive/Audio/A/02_006.wav 2\n",
            "/gdrive/MyDrive/Audio/A/02_007.wav 2\n",
            "/gdrive/MyDrive/Audio/A/02_008.wav 2\n",
            "/gdrive/MyDrive/Audio/A/02_009.wav 2\n",
            "/gdrive/MyDrive/Audio/A/02_010.wav 2\n",
            "/gdrive/MyDrive/Audio/A/02_011.wav 2\n",
            "/gdrive/MyDrive/Audio/A/02_012.wav 2\n",
            "/gdrive/MyDrive/Audio/A/02_013.wav 2\n",
            "/gdrive/MyDrive/Audio/A/02_014.wav 2\n",
            "/gdrive/MyDrive/Audio/A/02_015.wav 2\n",
            "/gdrive/MyDrive/Audio/A/02_016.wav 2\n",
            "/gdrive/MyDrive/Audio/A/02_017.wav 2\n",
            "/gdrive/MyDrive/Audio/A/02_018.wav 2\n",
            "/gdrive/MyDrive/Audio/A/02_019.wav 2\n",
            "/gdrive/MyDrive/Audio/A/02_020.wav 2\n",
            "/gdrive/MyDrive/Audio/A/02_021.wav 2\n",
            "/gdrive/MyDrive/Audio/A/02_022.wav 2\n",
            "/gdrive/MyDrive/Audio/A/02_023.wav 2\n",
            "/gdrive/MyDrive/Audio/A/02_024.wav 2\n",
            "/gdrive/MyDrive/Audio/A/02_025.wav 2\n",
            "/gdrive/MyDrive/Audio/A/02_026.wav 2\n",
            "/gdrive/MyDrive/Audio/A/02_027.wav 2\n",
            "/gdrive/MyDrive/Audio/A/02_028.wav 2\n",
            "/gdrive/MyDrive/Audio/A/02_029.wav 2\n",
            "/gdrive/MyDrive/Audio/A/02_030.wav 2\n",
            "/gdrive/MyDrive/Audio/A/02_031.wav 2\n",
            "/gdrive/MyDrive/Audio/A/02_032.wav 2\n",
            "/gdrive/MyDrive/Audio/A/02_033.wav 2\n",
            "/gdrive/MyDrive/Audio/A/02_034.wav 2\n",
            "/gdrive/MyDrive/Audio/A/02_035.wav 2\n",
            "/gdrive/MyDrive/Audio/A/02_036.wav 2\n",
            "/gdrive/MyDrive/Audio/A/02_037.wav 2\n",
            "/gdrive/MyDrive/Audio/A/02_038.wav 2\n",
            "/gdrive/MyDrive/Audio/A/02_039.wav 2\n",
            "/gdrive/MyDrive/Audio/A/02_040.wav 2\n",
            "/gdrive/MyDrive/Audio/A/02_041.wav 2\n",
            "/gdrive/MyDrive/Audio/A/02_042.wav 2\n",
            "/gdrive/MyDrive/Audio/A/02_043.wav 2\n",
            "/gdrive/MyDrive/Audio/A/02_044.wav 2\n",
            "/gdrive/MyDrive/Audio/A/02_045.wav 2\n",
            "/gdrive/MyDrive/Audio/A/02_046.wav 2\n",
            "/gdrive/MyDrive/Audio/A/02_047.wav 2\n",
            "/gdrive/MyDrive/Audio/A/02_048.wav 2\n",
            "/gdrive/MyDrive/Audio/A/02_049.wav 2\n",
            "/gdrive/MyDrive/Audio/A/02_050.wav 2\n",
            "/gdrive/MyDrive/Audio/A/02_051.wav 2\n",
            "/gdrive/MyDrive/Audio/A/02_053.wav 2\n",
            "/gdrive/MyDrive/Audio/A/02_052.wav 2\n",
            "/gdrive/MyDrive/Audio/A/02_054.wav 2\n",
            "/gdrive/MyDrive/Audio/A/02_055.wav 2\n",
            "/gdrive/MyDrive/Audio/A/02_056.wav 2\n",
            "/gdrive/MyDrive/Audio/A/02_057.wav 2\n",
            "/gdrive/MyDrive/Audio/A/02_059.wav 2\n",
            "/gdrive/MyDrive/Audio/A/02_058.wav 2\n",
            "/gdrive/MyDrive/Audio/A/02_060.wav 2\n",
            "/gdrive/MyDrive/Audio/A/02_061.wav 2\n",
            "/gdrive/MyDrive/Audio/A/02_062.wav 2\n",
            "/gdrive/MyDrive/Audio/A/02_063.wav 2\n",
            "/gdrive/MyDrive/Audio/A/02_064.wav 2\n",
            "/gdrive/MyDrive/Audio/A/02_065.wav 2\n",
            "/gdrive/MyDrive/Audio/A/02_066.wav 2\n",
            "/gdrive/MyDrive/Audio/A/02_067.wav 2\n",
            "/gdrive/MyDrive/Audio/A/02_068.wav 2\n",
            "/gdrive/MyDrive/Audio/A/02_069.wav 2\n",
            "/gdrive/MyDrive/Audio/A/02_070.wav 2\n",
            "/gdrive/MyDrive/Audio/A/02_071.wav 2\n",
            "/gdrive/MyDrive/Audio/A/02_072.wav 2\n",
            "/gdrive/MyDrive/Audio/A/02_073.wav 2\n",
            "/gdrive/MyDrive/Audio/A/02_074.wav 2\n",
            "/gdrive/MyDrive/Audio/A/02_075.wav 2\n",
            "/gdrive/MyDrive/Audio/A/02_076.wav 2\n",
            "/gdrive/MyDrive/Audio/A/02_077.wav 2\n",
            "/gdrive/MyDrive/Audio/A/02_078.wav 2\n",
            "/gdrive/MyDrive/Audio/A/02_079.wav 2\n",
            "/gdrive/MyDrive/Audio/A/02_080.wav 2\n",
            "/gdrive/MyDrive/Audio/A/02_081.wav 2\n",
            "/gdrive/MyDrive/Audio/A/02_082.wav 2\n",
            "/gdrive/MyDrive/Audio/A/02_083.wav 2\n",
            "/gdrive/MyDrive/Audio/A/02_084.wav 2\n",
            "/gdrive/MyDrive/Audio/A/02_085.wav 2\n",
            "/gdrive/MyDrive/Audio/A/02_086.wav 2\n",
            "/gdrive/MyDrive/Audio/A/02_087.wav 2\n",
            "/gdrive/MyDrive/Audio/A/02_088.wav 2\n",
            "/gdrive/MyDrive/Audio/A/02_089.wav 2\n",
            "/gdrive/MyDrive/Audio/A/02_091.wav 2\n",
            "/gdrive/MyDrive/Audio/A/02_090.wav 2\n",
            "/gdrive/MyDrive/Audio/A/02_092.wav 2\n",
            "/gdrive/MyDrive/Audio/A/02_093.wav 2\n",
            "/gdrive/MyDrive/Audio/A/02_094.wav 2\n",
            "/gdrive/MyDrive/Audio/A/02_095.wav 2\n",
            "/gdrive/MyDrive/Audio/A/02_096.wav 2\n",
            "/gdrive/MyDrive/Audio/A/02_097.wav 2\n",
            "/gdrive/MyDrive/Audio/A/02_098.wav 2\n",
            "/gdrive/MyDrive/Audio/A/02_099.wav 2\n",
            "/gdrive/MyDrive/Audio/A/02_101.wav 2\n",
            "/gdrive/MyDrive/Audio/A/02_100.wav 2\n",
            "/gdrive/MyDrive/Audio/A/02_102.wav 2\n",
            "/gdrive/MyDrive/Audio/A/02_103.wav 2\n",
            "/gdrive/MyDrive/Audio/A/02_104.wav 2\n",
            "/gdrive/MyDrive/Audio/A/02_105.wav 2\n",
            "/gdrive/MyDrive/Audio/A/02_106.wav 2\n",
            "/gdrive/MyDrive/Audio/A/02_107.wav 2\n",
            "/gdrive/MyDrive/Audio/A/02_108.wav 2\n",
            "/gdrive/MyDrive/Audio/A/02_109.wav 2\n",
            "/gdrive/MyDrive/Audio/A/02_110.wav 2\n",
            "/gdrive/MyDrive/Audio/A/02_111.wav 2\n",
            "/gdrive/MyDrive/Audio/A/02_112.wav 2\n",
            "/gdrive/MyDrive/Audio/A/02_113.wav 2\n",
            "/gdrive/MyDrive/Audio/A/02_114.wav 2\n",
            "/gdrive/MyDrive/Audio/A/02_115.wav 2\n",
            "/gdrive/MyDrive/Audio/A/02_116.wav 2\n",
            "/gdrive/MyDrive/Audio/A/02_118.wav 2\n",
            "/gdrive/MyDrive/Audio/A/02_117.wav 2\n",
            "/gdrive/MyDrive/Audio/A/02_119.wav 2\n",
            "/gdrive/MyDrive/Audio/A/02_120.wav 2\n",
            "/gdrive/MyDrive/Audio/A/02_121.wav 2\n",
            "/gdrive/MyDrive/Audio/A/02_122.wav 2\n",
            "/gdrive/MyDrive/Audio/A/02_123.wav 2\n",
            "/gdrive/MyDrive/Audio/A/02_124.wav 2\n",
            "/gdrive/MyDrive/Audio/A/02_125.wav 2\n",
            "/gdrive/MyDrive/Audio/A/02_126.wav 2\n",
            "/gdrive/MyDrive/Audio/A/02_127.wav 2\n",
            "/gdrive/MyDrive/Audio/A/02_128.wav 2\n",
            "/gdrive/MyDrive/Audio/A/02_129.wav 2\n",
            "/gdrive/MyDrive/Audio/A/02_130.wav 2\n",
            "/gdrive/MyDrive/Audio/A/02_131.wav 2\n",
            "/gdrive/MyDrive/Audio/A/02_133.wav 2\n",
            "/gdrive/MyDrive/Audio/A/02_132.wav 2\n",
            "/gdrive/MyDrive/Audio/A/02_134.wav 2\n",
            "/gdrive/MyDrive/Audio/A/02_135.wav 2\n",
            "/gdrive/MyDrive/Audio/A/02_136.wav 2\n",
            "/gdrive/MyDrive/Audio/A/02_137.wav 2\n",
            "/gdrive/MyDrive/Audio/A/02_138.wav 2\n",
            "/gdrive/MyDrive/Audio/A/02_139.wav 2\n",
            "/gdrive/MyDrive/Audio/A/02_140.wav 2\n",
            "/gdrive/MyDrive/Audio/A/02_141.wav 2\n",
            "/gdrive/MyDrive/Audio/A/02_142.wav 2\n",
            "/gdrive/MyDrive/Audio/A/02_143.wav 2\n",
            "/gdrive/MyDrive/Audio/A/02_144.wav 2\n",
            "/gdrive/MyDrive/Audio/A/02_145.wav 2\n",
            "/gdrive/MyDrive/Audio/A/02_146.wav 2\n",
            "/gdrive/MyDrive/Audio/A/02_147.wav 2\n",
            "/gdrive/MyDrive/Audio/A/02_148.wav 2\n",
            "/gdrive/MyDrive/Audio/A/02_149.wav 2\n",
            "/gdrive/MyDrive/Audio/A/02_150.wav 2\n",
            "/gdrive/MyDrive/Audio/A/02_151.wav 2\n",
            "/gdrive/MyDrive/Audio/A/02_152.wav 2\n",
            "/gdrive/MyDrive/Audio/A/02_153.wav 2\n",
            "/gdrive/MyDrive/Audio/A/02_154.wav 2\n",
            "/gdrive/MyDrive/Audio/A/02_155.wav 2\n",
            "/gdrive/MyDrive/Audio/A/02_156.wav 2\n",
            "/gdrive/MyDrive/Audio/A/02_157.wav 2\n",
            "/gdrive/MyDrive/Audio/A/02_158.wav 2\n",
            "/gdrive/MyDrive/Audio/A/02_159.wav 2\n",
            "/gdrive/MyDrive/Audio/A/02_160.wav 2\n",
            "/gdrive/MyDrive/Audio/A/02_161.wav 2\n",
            "/gdrive/MyDrive/Audio/A/02_162.wav 2\n",
            "/gdrive/MyDrive/Audio/A/02_163.wav 2\n",
            "/gdrive/MyDrive/Audio/A/02_164.wav 2\n",
            "/gdrive/MyDrive/Audio/A/02_165.wav 2\n",
            "/gdrive/MyDrive/Audio/A/02_166.wav 2\n",
            "/gdrive/MyDrive/Audio/A/02_167.wav 2\n",
            "/gdrive/MyDrive/Audio/A/02_168.wav 2\n",
            "/gdrive/MyDrive/Audio/A/02_169.wav 2\n",
            "/gdrive/MyDrive/Audio/A/02_170.wav 2\n",
            "/gdrive/MyDrive/Audio/A/02_171.wav 2\n",
            "/gdrive/MyDrive/Audio/A/02_172.wav 2\n"
          ]
        }
      ]
    },
    {
      "cell_type": "code",
      "source": [
        "print(raw_y[980])\n",
        "IPython.display.Audio(raw_x[980], rate=SAMPLING_RATE)"
      ],
      "metadata": {
        "colab": {
          "base_uri": "https://localhost:8080/",
          "height": 92
        },
        "id": "LMyoGSYqiA2D",
        "outputId": "07a214c9-c65c-4774-a1da-5c62a642b3c7"
      },
      "execution_count": 6,
      "outputs": [
        {
          "output_type": "stream",
          "name": "stdout",
          "text": [
            "1\n"
          ]
        },
        {
          "output_type": "execute_result",
          "data": {
            "text/plain": [
              "<IPython.lib.display.Audio object>"
            ],
            "text/html": [
              "\n",
              "                <audio  controls=\"controls\" >\n",
              "                    <source src=\"data:audio/wav;base64,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\" type=\"audio/wav\" />\n",
              "                    Your browser does not support the audio element.\n",
              "                </audio>\n",
              "              "
            ]
          },
          "metadata": {},
          "execution_count": 6
        }
      ]
    },
    {
      "cell_type": "code",
      "source": [
        "print(raw_y[1])\n",
        "IPython.display.Audio(raw_x[1], rate=SAMPLING_RATE)"
      ],
      "metadata": {
        "colab": {
          "base_uri": "https://localhost:8080/",
          "height": 92
        },
        "id": "bjXXExOuiHcr",
        "outputId": "c6c209ab-afce-4dae-ccf2-6eea2daab920"
      },
      "execution_count": 7,
      "outputs": [
        {
          "output_type": "stream",
          "name": "stdout",
          "text": [
            "2\n"
          ]
        },
        {
          "output_type": "execute_result",
          "data": {
            "text/plain": [
              "<IPython.lib.display.Audio object>"
            ],
            "text/html": [
              "\n",
              "                <audio  controls=\"controls\" >\n",
              "                    <source src=\"data:audio/wav;base64,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\" type=\"audio/wav\" />\n",
              "                    Your browser does not support the audio element.\n",
              "                </audio>\n",
              "              "
            ]
          },
          "metadata": {},
          "execution_count": 7
        }
      ]
    },
    {
      "cell_type": "code",
      "source": [
        "from collections import Counter\n",
        "Counter(raw_y)\n"
      ],
      "metadata": {
        "colab": {
          "base_uri": "https://localhost:8080/"
        },
        "id": "WY8Ro3dfdARJ",
        "outputId": "a9e75014-9d09-4279-b590-83d3d2855e19"
      },
      "execution_count": 8,
      "outputs": [
        {
          "output_type": "execute_result",
          "data": {
            "text/plain": [
              "Counter({2: 410, 0: 358, 1: 404})"
            ]
          },
          "metadata": {},
          "execution_count": 8
        }
      ]
    },
    {
      "cell_type": "markdown",
      "source": [
        "# padding"
      ],
      "metadata": {
        "id": "M1e1eHmSNfY9"
      }
    },
    {
      "cell_type": "code",
      "source": [
        "lens = []\n",
        "for i in range(len(raw_x)):\n",
        "    lens.append(len(raw_x[i]))\n",
        "\n",
        "plt.hist(lens, bins=100)\n",
        "plt.show()"
      ],
      "metadata": {
        "colab": {
          "base_uri": "https://localhost:8080/",
          "height": 265
        },
        "id": "FsjDBDIOEVd4",
        "outputId": "74589cec-5a42-47d6-85b1-7ceeda570e65"
      },
      "execution_count": 9,
      "outputs": [
        {
          "output_type": "display_data",
          "data": {
            "text/plain": [
              "<Figure size 432x288 with 1 Axes>"
            ],
            "image/png": "[encoded data removed]"
          },
          "metadata": {
            "needs_background": "light"
          }
        }
      ]
    },
    {
      "cell_type": "code",
      "source": [
        "print(lens[:10])"
      ],
      "metadata": {
        "colab": {
          "base_uri": "https://localhost:8080/"
        },
        "id": "92aGHRkbkisj",
        "outputId": "6467748a-a396-4ddc-b9c2-5f924feb2b68"
      },
      "execution_count": 10,
      "outputs": [
        {
          "output_type": "stream",
          "name": "stdout",
          "text": [
            "[8379, 8600, 8379, 8820, 8600, 9041, 8159, 7277, 8600, 8820]\n"
          ]
        }
      ]
    },
    {
      "cell_type": "code",
      "source": [
        "from tensorflow.keras.preprocessing import sequence\n",
        "\n",
        "padded_raw_x = sequence.pad_sequences(raw_x, maxlen=22050, padding='post', dtype=float)\n",
        "# 파일 길이를 똑같이 맞춤 22050 (1초로)"
      ],
      "metadata": {
        "id": "aghztZe9-1N5"
      },
      "execution_count": 11,
      "outputs": []
    },
    {
      "cell_type": "code",
      "source": [
        "print(raw_y[980])\n",
        "IPython.display.Audio(raw_x[980], rate=SAMPLING_RATE)"
      ],
      "metadata": {
        "colab": {
          "base_uri": "https://localhost:8080/",
          "height": 92
        },
        "outputId": "d04733be-c244-4258-d03a-ba1ef5abd5d3",
        "id": "7mTCyMzWiVAZ"
      },
      "execution_count": 12,
      "outputs": [
        {
          "output_type": "stream",
          "name": "stdout",
          "text": [
            "1\n"
          ]
        },
        {
          "output_type": "execute_result",
          "data": {
            "text/plain": [
              "<IPython.lib.display.Audio object>"
            ],
            "text/html": [
              "\n",
              "                <audio  controls=\"controls\" >\n",
              "                    <source src=\"data:audio/wav;base64,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\" type=\"audio/wav\" />\n",
              "                    Your browser does not support the audio element.\n",
              "                </audio>\n",
              "              "
            ]
          },
          "metadata": {},
          "execution_count": 12
        }
      ]
    },
    {
      "cell_type": "code",
      "source": [
        "print(raw_y[1])\n",
        "IPython.display.Audio(raw_x[1], rate=SAMPLING_RATE)"
      ],
      "metadata": {
        "colab": {
          "base_uri": "https://localhost:8080/",
          "height": 92
        },
        "outputId": "bbe49738-bb89-4a5e-9e74-bb8fd3ce59a4",
        "id": "R6-jXew3iVAZ"
      },
      "execution_count": 13,
      "outputs": [
        {
          "output_type": "stream",
          "name": "stdout",
          "text": [
            "2\n"
          ]
        },
        {
          "output_type": "execute_result",
          "data": {
            "text/plain": [
              "<IPython.lib.display.Audio object>"
            ],
            "text/html": [
              "\n",
              "                <audio  controls=\"controls\" >\n",
              "                    <source src=\"data:audio/wav;base64,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\" type=\"audio/wav\" />\n",
              "                    Your browser does not support the audio element.\n",
              "                </audio>\n",
              "              "
            ]
          },
          "metadata": {},
          "execution_count": 13
        }
      ]
    },
    {
      "cell_type": "code",
      "source": [
        "raw_x = np.array(padded_raw_x)\n",
        "raw_y = np.array(raw_y)\n",
        "print(raw_x.shape)  \n",
        "print(raw_y.shape)"
      ],
      "metadata": {
        "colab": {
          "base_uri": "https://localhost:8080/"
        },
        "id": "1b-zDbF--1LQ",
        "outputId": "5070c1c2-b340-4e3f-fb53-281c4de7f873"
      },
      "execution_count": 14,
      "outputs": [
        {
          "output_type": "stream",
          "name": "stdout",
          "text": [
            "(1172, 22050)\n",
            "(1172,)\n"
          ]
        }
      ]
    },
    {
      "cell_type": "code",
      "source": [
        "print(raw_y[980])\n",
        "IPython.display.Audio(raw_x[980], rate=SAMPLING_RATE)"
      ],
      "metadata": {
        "colab": {
          "base_uri": "https://localhost:8080/",
          "height": 92
        },
        "outputId": "35bfc956-4f30-4628-e1fc-0511d912aaa7",
        "id": "kvxddiJmibQf"
      },
      "execution_count": 15,
      "outputs": [
        {
          "output_type": "stream",
          "name": "stdout",
          "text": [
            "1\n"
          ]
        },
        {
          "output_type": "execute_result",
          "data": {
            "text/plain": [
              "<IPython.lib.display.Audio object>"
            ],
            "text/html": [
              "\n",
              "                <audio  controls=\"controls\" >\n",
              "                    <source src=\"data:audio/wav;base64,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\" type=\"audio/wav\" />\n",
              "                    Your browser does not support the audio element.\n",
              "                </audio>\n",
              "              "
            ]
          },
          "metadata": {},
          "execution_count": 15
        }
      ]
    },
    {
      "cell_type": "code",
      "source": [
        "print(raw_y[1])\n",
        "IPython.display.Audio(raw_x[1], rate=SAMPLING_RATE)"
      ],
      "metadata": {
        "colab": {
          "base_uri": "https://localhost:8080/",
          "height": 92
        },
        "outputId": "a5fd1769-8051-4208-db2e-dce29bf59714",
        "id": "o02lV35TibQg"
      },
      "execution_count": 16,
      "outputs": [
        {
          "output_type": "stream",
          "name": "stdout",
          "text": [
            "2\n"
          ]
        },
        {
          "output_type": "execute_result",
          "data": {
            "text/plain": [
              "<IPython.lib.display.Audio object>"
            ],
            "text/html": [
              "\n",
              "                <audio  controls=\"controls\" >\n",
              "                    <source src=\"data:audio/wav;base64,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\" type=\"audio/wav\" />\n",
              "                    Your browser does not support the audio element.\n",
              "                </audio>\n",
              "              "
            ]
          },
          "metadata": {},
          "execution_count": 16
        }
      ]
    },
    {
      "cell_type": "markdown",
      "source": [
        "# Normalization"
      ],
      "metadata": {
        "id": "fMc7mKiONdAs"
      }
    },
    {
      "cell_type": "code",
      "source": [],
      "metadata": {
        "id": "-KNY-Pztk8uI"
      },
      "execution_count": 16,
      "outputs": []
    },
    {
      "cell_type": "code",
      "source": [
        "max = np.max(raw_x)\n",
        "min = np.min(raw_x)\n",
        "print(min, max)"
      ],
      "metadata": {
        "colab": {
          "base_uri": "https://localhost:8080/"
        },
        "id": "Yb7uzqDONoSF",
        "outputId": "41b157ef-e935-4f64-edda-65fba5fe1992"
      },
      "execution_count": 17,
      "outputs": [
        {
          "output_type": "stream",
          "name": "stdout",
          "text": [
            "-0.9969082474708557 1.0517815351486206\n"
          ]
        }
      ]
    },
    {
      "cell_type": "code",
      "source": [
        "# raw_x = (raw_x - min) / (max - min)"
      ],
      "metadata": {
        "id": "xjE3MuKwNcGt"
      },
      "execution_count": 18,
      "outputs": []
    },
    {
      "cell_type": "markdown",
      "source": [
        "# 2차원으로 reshape"
      ],
      "metadata": {
        "id": "T-iyrW8_N869"
      }
    },
    {
      "cell_type": "code",
      "source": [
        "print(raw_x.shape)\n",
        "raw_x = raw_x.reshape((len(raw_x),-1,1))\n",
        "print(raw_x.shape)"
      ],
      "metadata": {
        "id": "EXF8sZPYN_RL",
        "colab": {
          "base_uri": "https://localhost:8080/"
        },
        "outputId": "5a64dda0-9d66-4a0d-d30a-a1beae0b1ab5"
      },
      "execution_count": 19,
      "outputs": [
        {
          "output_type": "stream",
          "name": "stdout",
          "text": [
            "(1172, 22050)\n",
            "(1172, 22050, 1)\n"
          ]
        }
      ]
    },
    {
      "cell_type": "markdown",
      "source": [
        "# 데이터 분리"
      ],
      "metadata": {
        "id": "EjXer_ucN67c"
      }
    },
    {
      "cell_type": "code",
      "source": [
        "from sklearn.model_selection import train_test_split\n",
        "\n",
        "train_x, test_x, train_y, test_y = train_test_split(raw_x, raw_y, test_size=0.2, shuffle=True)"
      ],
      "metadata": {
        "id": "Z54gJGmi-1Ig"
      },
      "execution_count": 20,
      "outputs": []
    },
    {
      "cell_type": "code",
      "source": [
        "print(len(train_y))\n",
        "print(train_y[len(train_y)-1])\n",
        "IPython.display.Audio(train_x[len(train_y)-1].squeeze(), rate=SAMPLING_RATE)"
      ],
      "metadata": {
        "colab": {
          "base_uri": "https://localhost:8080/",
          "height": 110
        },
        "outputId": "7930e4f5-2078-4d40-e186-ba63ab3ba304",
        "id": "ar3Q1ezWinMR"
      },
      "execution_count": 21,
      "outputs": [
        {
          "output_type": "stream",
          "name": "stdout",
          "text": [
            "937\n",
            "0\n"
          ]
        },
        {
          "output_type": "execute_result",
          "data": {
            "text/plain": [
              "<IPython.lib.display.Audio object>"
            ],
            "text/html": [
              "\n",
              "                <audio  controls=\"controls\" >\n",
              "                    <source src=\"data:audio/wav;base64,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\" type=\"audio/wav\" />\n",
              "                    Your browser does not support the audio element.\n",
              "                </audio>\n",
              "              "
            ]
          },
          "metadata": {},
          "execution_count": 21
        }
      ]
    },
    {
      "cell_type": "code",
      "source": [
        "print(train_y[1])\n",
        "IPython.display.Audio(train_x[1].squeeze(), rate=SAMPLING_RATE)"
      ],
      "metadata": {
        "colab": {
          "base_uri": "https://localhost:8080/",
          "height": 92
        },
        "outputId": "fbe958c1-25aa-49b5-fac1-69b9d541b6bf",
        "id": "RFKC_o3IinMS"
      },
      "execution_count": 22,
      "outputs": [
        {
          "output_type": "stream",
          "name": "stdout",
          "text": [
            "1\n"
          ]
        },
        {
          "output_type": "execute_result",
          "data": {
            "text/plain": [
              "<IPython.lib.display.Audio object>"
            ],
            "text/html": [
              "\n",
              "                <audio  controls=\"controls\" >\n",
              "                    <source src=\"data:audio/wav;base64,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\" type=\"audio/wav\" />\n",
              "                    Your browser does not support the audio element.\n",
              "                </audio>\n",
              "              "
            ]
          },
          "metadata": {},
          "execution_count": 22
        }
      ]
    },
    {
      "cell_type": "code",
      "source": [
        "print(train_x.shape)\n",
        "print(train_y.shape)\n"
      ],
      "metadata": {
        "colab": {
          "base_uri": "https://localhost:8080/"
        },
        "id": "9DF-X34ifJgr",
        "outputId": "3ffc7171-f784-4dcc-cbe0-4ca86b895181"
      },
      "execution_count": 23,
      "outputs": [
        {
          "output_type": "stream",
          "name": "stdout",
          "text": [
            "(937, 22050, 1)\n",
            "(937,)\n"
          ]
        }
      ]
    },
    {
      "cell_type": "code",
      "source": [
        "# loss graph를 학습하면서 실시간으로 그리는 방법\n",
        "\n",
        "from IPython.display import clear_output\n",
        "from tensorflow.keras.callbacks import Callback\n",
        "\n",
        "class PlotLosses(Callback):\n",
        "\n",
        "  def on_train_begin(self, logs={}):\n",
        "    self.epochs = []\n",
        "    self.losses = []\n",
        "    self.val_losses = []\n",
        "    self.logs = []\n",
        "    self.fig = plt.figure()\n",
        "\n",
        "\n",
        "  def on_epoch_end(self, epoch, logs={}):\n",
        "\n",
        "    self.epochs.append(epoch)\n",
        "    self.losses.append(logs.get('loss'))\n",
        "    self.val_losses.append(logs.get('val_loss'))\n",
        "\n",
        "    clear_output(wait=True)\n",
        "    plt.plot(self.epochs, self.losses, label=\"loss\")\n",
        "    plt.plot(self.epochs, self.val_losses, label=\"val_loss\")\n",
        "    plt.legend()\n",
        "    plt.show();\n",
        "    print(\"epochs = \", self.epochs[-1], \"loss = \", self.losses[-1], \", val_loss = \", self.val_losses[-1])"
      ],
      "metadata": {
        "id": "xULPFYqYA4Pv"
      },
      "execution_count": 24,
      "outputs": []
    },
    {
      "cell_type": "code",
      "source": [
        "from tensorflow import keras\n",
        "from tensorflow.keras.layers import Dense, RepeatVector, Flatten, Input, Activation\n",
        "from tensorflow.keras.layers import Bidirectional, LSTM, GRU, Conv1D, MaxPooling1D, AveragePooling1D, Add, MaxPool1D\n",
        "from tensorflow.keras.layers import Dropout, GaussianNoise, BatchNormalization\n",
        "from tensorflow.keras.regularizers import l1, l2, L1L2\n",
        "\n",
        "input_shape = train_x.shape[1:]\n",
        "num_classes = 3  #  [0: 아이, 1:부모, 2:뿌리]\n",
        "\n",
        "model = keras.Sequential()\n",
        "model.add(Input(input_shape))\n",
        "\n",
        "model.add(Conv1D(32, 27, padding=\"same\", activation=\"relu\"))  \n",
        "model.add(Conv1D(32, 27, padding=\"same\", activation=\"relu\")) \n",
        "model.add(MaxPooling1D())\n",
        "\n",
        "model.add(Conv1D(64, 27, padding=\"same\", activation=\"relu\"))  \n",
        "model.add(Conv1D(64, 27, padding=\"same\", activation=\"relu\"))  \n",
        "model.add(MaxPooling1D())\n",
        "\n",
        "model.add(Conv1D(128, 27, padding=\"same\", activation=\"relu\"))  \n",
        "model.add(Conv1D(128, 27, padding=\"same\", activation=\"relu\"))  \n",
        "model.add(Conv1D(128, 27, padding=\"same\", activation=\"relu\"))  \n",
        "model.add(MaxPooling1D())\n",
        "\n",
        "model.add(Conv1D(256, 27, padding=\"same\", activation=\"relu\"))  \n",
        "model.add(Conv1D(256, 27, padding=\"same\", activation=\"relu\"))  \n",
        "model.add(Conv1D(256, 27, padding=\"same\", activation=\"relu\"))  \n",
        "model.add(MaxPooling1D())\n",
        "\n",
        "model.add(Conv1D(256, 27, padding=\"same\", activation=\"relu\"))  \n",
        "model.add(Conv1D(256, 27, padding=\"same\", activation=\"relu\"))  \n",
        "model.add(Conv1D(256, 27, padding=\"same\", activation=\"relu\"))  \n",
        "model.add(MaxPooling1D())\n",
        "\n",
        "model.add(Conv1D(256, 27, padding=\"same\", activation=\"relu\"))  \n",
        "model.add(Conv1D(256, 27, padding=\"same\", activation=\"relu\"))  \n",
        "model.add(Conv1D(256, 27, padding=\"same\", activation=\"relu\"))  \n",
        "model.add(MaxPooling1D())\n",
        "model.add(Dropout(0.3))\n",
        "\n",
        "model.add(Flatten())\n",
        "model.add(Dense(256, activation=\"relu\")) #, kernel_regularizer=l2()))\n",
        "\n",
        "model.add(Dense(num_classes, activation=\"softmax\"))  \n",
        "\n",
        "from tensorflow.keras.optimizers import Adam, Adadelta, SGD\n",
        "optimizer = Adam(learning_rate=0.001*0.1, decay=0.01) \n",
        "\n",
        "model.compile(loss=\"sparse_categorical_crossentropy\", optimizer=optimizer, metrics=[\"acc\"])\n",
        "model.summary()\n"
      ],
      "metadata": {
        "colab": {
          "base_uri": "https://localhost:8080/"
        },
        "id": "hx8Zeb-Bgleh",
        "outputId": "253d525f-721d-4877-d9c1-350057d0c771"
      },
      "execution_count": 25,
      "outputs": [
        {
          "output_type": "stream",
          "name": "stdout",
          "text": [
            "Model: \"sequential\"\n",
            "_________________________________________________________________\n",
            " Layer (type)                Output Shape              Param #   \n",
            "=================================================================\n",
            " conv1d (Conv1D)             (None, 22050, 32)         896       \n",
            "                                                                 \n",
            " conv1d_1 (Conv1D)           (None, 22050, 32)         27680     \n",
            "                                                                 \n",
            " max_pooling1d (MaxPooling1D  (None, 11025, 32)        0         \n",
            " )                                                               \n",
            "                                                                 \n",
            " conv1d_2 (Conv1D)           (None, 11025, 64)         55360     \n",
            "                                                                 \n",
            " conv1d_3 (Conv1D)           (None, 11025, 64)         110656    \n",
            "                                                                 \n",
            " max_pooling1d_1 (MaxPooling  (None, 5512, 64)         0         \n",
            " 1D)                                                             \n",
            "                                                                 \n",
            " conv1d_4 (Conv1D)           (None, 5512, 128)         221312    \n",
            "                                                                 \n",
            " conv1d_5 (Conv1D)           (None, 5512, 128)         442496    \n",
            "                                                                 \n",
            " conv1d_6 (Conv1D)           (None, 5512, 128)         442496    \n",
            "                                                                 \n",
            " max_pooling1d_2 (MaxPooling  (None, 2756, 128)        0         \n",
            " 1D)                                                             \n",
            "                                                                 \n",
            " conv1d_7 (Conv1D)           (None, 2756, 256)         884992    \n",
            "                                                                 \n",
            " conv1d_8 (Conv1D)           (None, 2756, 256)         1769728   \n",
            "                                                                 \n",
            " conv1d_9 (Conv1D)           (None, 2756, 256)         1769728   \n",
            "                                                                 \n",
            " max_pooling1d_3 (MaxPooling  (None, 1378, 256)        0         \n",
            " 1D)                                                             \n",
            "                                                                 \n",
            " conv1d_10 (Conv1D)          (None, 1378, 256)         1769728   \n",
            "                                                                 \n",
            " conv1d_11 (Conv1D)          (None, 1378, 256)         1769728   \n",
            "                                                                 \n",
            " conv1d_12 (Conv1D)          (None, 1378, 256)         1769728   \n",
            "                                                                 \n",
            " max_pooling1d_4 (MaxPooling  (None, 689, 256)         0         \n",
            " 1D)                                                             \n",
            "                                                                 \n",
            " conv1d_13 (Conv1D)          (None, 689, 256)          1769728   \n",
            "                                                                 \n",
            " conv1d_14 (Conv1D)          (None, 689, 256)          1769728   \n",
            "                                                                 \n",
            " conv1d_15 (Conv1D)          (None, 689, 256)          1769728   \n",
            "                                                                 \n",
            " max_pooling1d_5 (MaxPooling  (None, 344, 256)         0         \n",
            " 1D)                                                             \n",
            "                                                                 \n",
            " dropout (Dropout)           (None, 344, 256)          0         \n",
            "                                                                 \n",
            " flatten (Flatten)           (None, 88064)             0         \n",
            "                                                                 \n",
            " dense (Dense)               (None, 256)               22544640  \n",
            "                                                                 \n",
            " dense_1 (Dense)             (None, 3)                 771       \n",
            "                                                                 \n",
            "=================================================================\n",
            "Total params: 38,889,123\n",
            "Trainable params: 38,889,123\n",
            "Non-trainable params: 0\n",
            "_________________________________________________________________\n"
          ]
        }
      ]
    },
    {
      "cell_type": "code",
      "source": [
        "plot_losses = PlotLosses()\n",
        "history = model.fit(train_x, train_y, epochs=100, verbose=1, validation_split=0.1, batch_size=16,\n",
        "                    callbacks=[plot_losses])"
      ],
      "metadata": {
        "colab": {
          "base_uri": "https://localhost:8080/",
          "height": 302
        },
        "id": "ksVvwmtJjQ9S",
        "outputId": "b3f76aef-d518-40f3-96c5-cdca9cda7251"
      },
      "execution_count": 26,
      "outputs": [
        {
          "output_type": "display_data",
          "data": {
            "text/plain": [
              "<Figure size 432x288 with 1 Axes>"
            ],
            "image/png": "[encoded data removed]"
          },
          "metadata": {
            "needs_background": "light"
          }
        },
        {
          "output_type": "stream",
          "name": "stdout",
          "text": [
            "epochs =  99 loss =  0.00010286864562658593 , val_loss =  1.0208289495494682e-05\n",
            "\b\b\b\b\b\b\b\b\b\b\b\b\b\b\b\b\b\b\b\b\b\b\b\b\b\b\b\b\b\b\b\b\b\b\b\b\b\b\b\b\b\b\b\b\b\b\b\b\b\b\b\b\b\b\b\b\b\b\b\b\b\b\b\b\b\b\b\b\b\b\b\b\b\b\b\b\b\b\b\b\b\r53/53 [==============================] - 17s 317ms/step - loss: 1.0287e-04 - acc: 1.0000 - val_loss: 1.0208e-05 - val_acc: 1.0000\n"
          ]
        }
      ]
    },
    {
      "cell_type": "code",
      "source": [
        "loss, acc = model.evaluate(test_x, test_y)\n",
        "print(\"loss=\", loss)\n",
        "print(\"acc=\", acc)\n",
        "\n",
        "\n",
        "y_ = model.predict(test_x)\n",
        "predicted = np.argmax(y_, axis=-1)\n",
        "plt.plot(test_y[:30], 'o')\n",
        "plt.plot(predicted[:30], '.')\n",
        "plt.show()\n"
      ],
      "metadata": {
        "id": "8lHjjByavmmo",
        "colab": {
          "base_uri": "https://localhost:8080/",
          "height": 320
        },
        "outputId": "ed4d4c12-5c3d-4974-b7c8-eafe0ddb98d2"
      },
      "execution_count": 29,
      "outputs": [
        {
          "output_type": "stream",
          "name": "stdout",
          "text": [
            "8/8 [==============================] - 1s 68ms/step - loss: 0.5656 - acc: 0.9745\n",
            "loss= 0.565553605556488\n",
            "acc= 0.9744681119918823\n"
          ]
        },
        {
          "output_type": "display_data",
          "data": {
            "text/plain": [
              "<Figure size 432x288 with 1 Axes>"
            ],
            "image/png": "[encoded data removed]"
          },
          "metadata": {
            "needs_background": "light"
          }
        }
      ]
    },
    {
      "cell_type": "code",
      "source": [
        "model.save('../gdrive/MyDrive/Audio/model/ganada_A_220908.h5')"
      ],
      "metadata": {
        "id": "dFjSSA8-p1oV"
      },
      "execution_count": 30,
      "outputs": []
    },
    {
      "cell_type": "code",
      "source": [],
      "metadata": {
        "id": "xKnl2dsLRCx8"
      },
      "execution_count": 28,
      "outputs": []
    }
  ]
}